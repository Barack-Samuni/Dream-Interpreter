{
 "cells": [
  {
   "cell_type": "markdown",
   "id": "709bb27208e23ba4",
   "metadata": {},
   "source": [
    "## **Step 1 - keywords Extraction**\n",
    "***"
   ]
  },
  {
   "cell_type": "markdown",
   "id": "b5af564d8f04df39",
   "metadata": {},
   "source": [
    "We have two datasets, one with dream text descriptions:"
   ]
  },
  {
   "cell_type": "code",
   "execution_count": null,
   "id": "a1ecfbd7e24c7e53",
   "metadata": {
    "ExecuteTime": {
     "end_time": "2025-04-13T21:23:35.718332Z",
     "start_time": "2025-04-13T21:23:35.469996Z"
    }
   },
   "outputs": [],
   "source": [
    "from keyword_extractor import read_datasets, extract_and_save_keywords_from_dataframes\n",
    "from yaml_parser import load_config\n",
    "config = load_config()\n",
    "dream_df, keywords_df = read_datasets(config)\n",
    "dream_df.head()"
   ]
  },
  {
   "cell_type": "markdown",
   "id": "62c56a04aa56a02",
   "metadata": {},
   "source": [
    "And another one with interpretations of dreams according to keywords:"
   ]
  },
  {
   "cell_type": "code",
   "execution_count": null,
   "id": "a7c15465e0fca30",
   "metadata": {
    "ExecuteTime": {
     "end_time": "2025-04-13T21:23:35.755134Z",
     "start_time": "2025-04-13T21:23:35.747133Z"
    }
   },
   "outputs": [],
   "source": [
    "keywords_df.head()"
   ]
  },
  {
   "cell_type": "markdown",
   "id": "bd509c434a4e3b8d",
   "metadata": {},
   "source": [
    "Now, we will use pretrained LLMs in order to extract the given keywords from the keywords dataset , from the dream text description from the dream text dataset."
   ]
  },
  {
   "cell_type": "markdown",
   "id": "b6c5d2fa9f32bfe5",
   "metadata": {},
   "source": [
    "### **GPT2**\n",
    "***"
   ]
  },
  {
   "cell_type": "code",
   "execution_count": null,
   "id": "26b7a0f6bf84fe5a",
   "metadata": {
    "ExecuteTime": {
     "end_time": "2025-04-13T21:39:36.596114Z",
     "start_time": "2025-04-13T21:32:54.369789Z"
    }
   },
   "outputs": [],
   "source": [
    "extract_and_save_keywords_from_dataframes()"
   ]
  },
  {
   "cell_type": "markdown",
   "id": "2137fd422450c910",
   "metadata": {},
   "source": [
    "## Step 2 - Summarize interpretations"
   ]
  },
  {
   "cell_type": "code",
   "execution_count": 1,
   "id": "13d48700",
   "metadata": {},
   "outputs": [],
   "source": [
    "import pandas as pd\n",
    "\n",
    "keywords_df = pd.read_csv(\"datasets/dreams_interpretations.csv\")"
   ]
  },
  {
   "cell_type": "code",
   "execution_count": 2,
   "id": "2877e952",
   "metadata": {},
   "outputs": [
    {
     "data": {
      "application/vnd.microsoft.datawrangler.viewer.v0+json": {
       "columns": [
        {
         "name": "index",
         "rawType": "int64",
         "type": "integer"
        },
        {
         "name": "Dream Symbol",
         "rawType": "object",
         "type": "string"
        },
        {
         "name": "Interpretation",
         "rawType": "object",
         "type": "string"
        }
       ],
       "conversionMethod": "pd.DataFrame",
       "ref": "ded4e761-ea40-4b1b-8997-e95ce96bd674",
       "rows": [
        [
         "0",
         "Aardvark",
         "To see an aardvark in your dream indicates that you are being very secretive and cautious about your business."
        ],
        [
         "1",
         "Abandonment",
         "To dream that you are abandoned suggests that it is time to leave behind past feelings and characteristics that are hindering your growth. Let go of your old attitudes. A more direct and literal interpretation of this dream indicates you have a fear of being deserted, abandoned, or even betrayed. It may stem from a  recent loss or a fear of losing a loved one. The fear of abandonment may manifest itself into your dream as part of the healing process and dealing with losing a loved one. It may also stem from unresolved feelings or problems from childhood. Alternatively, the dream indicates that you are feeling neglected or that your feelings are being overlooked. Perhaps the dream is a metaphor that you need to approach life with \"reckless abandon\" and live more freely."
        ],
        [
         "2",
         "Abduction",
         "To dream of being abducted indicates that you are being manipulated by your circumstances or by someone. You lack control of your own life."
        ],
        [
         "3",
         "Aborigine",
         "To see an Aborigine in your dream represents both your untamed, natural self and your pure, innocent side. You need to be more in touch with your intuition and inner forces.  It also suggests that you are being overindulgent or overly emotional. You may be harming yourself and jeopardizing your well-being due to your unrestraint."
        ],
        [
         "4",
         "Abortion",
         "To dream that you have an abortion suggests that you are hindering and blocking your own growth. You may be hesitant in pursuing a new direction in your life due to fear, pressure, personal conflict or moral obligation. The dream may also be a reflection of your own real-life abortion and thus serves as  a way of healing from the trauma and working towards self-acceptance. Alternatively, this dream may also be a message for you to take care and look after your health."
        ],
        [
         "5",
         "Absence",
         "To dream that someone is absent, especially if you expect to find them, suggests that you are looking for something that is already lost to you. Alternatively, you may be looking to fill a void in your life. Something is missing from your life."
        ],
        [
         "6",
         "Abscess",
         "To dream that you have an abscess suggests that there is something that you need to express and get out into the open."
        ],
        [
         "7",
         "Abundance",
         "To dream of having an abundance of a certain item indicates that you need to conserve your resources and energies. This dream may be a compensatory dream for something that you are lacking in life. More directly, abundance signifies happiness."
        ],
        [
         "8",
         "Abuse",
         "To dream you are abusing someone suggests that your past actions will come back to haunt you. You may be expressing some regret or remorse over your actions."
        ],
        [
         "9",
         "Abyss",
         "To dream of an abyss signifies an obstacle that is creating much anxiety for you. You need to work through the difficulty and overcome this obstacle in your life.  Perhaps you are afraid of  \"taking the plunge\"."
        ],
        [
         "10",
         "Academy\nAwards",
         "To dream that you at the Academy Awards indicates that you need to add some glamour into your life. If you win an Oscar, then it implies that you are looking for some sort of acknowledgment in your waking life."
        ],
        [
         "11",
         "Accent",
         "To speak with an accent in your dream suggests that you are having difficulties conveying your thoughts. Consider how you feel about the accent. If you feel the accent makes you stand out in a negative way, then it signifies feelings of insecurities. If the accent makes you stand out in a positive way, then it symbolizes an air of confidence."
        ],
        [
         "12",
         "Acceptance",
         "To dream about acceptance indicates issues of self-esteem and measuring up to the expectations of others. There is a waking situation where you are seeking acceptance and wanting to be a part of."
        ],
        [
         "13",
         "Accident",
         "To dream that you are in an accident signifies pent-up guilt in which you are subconsciously punishing yourself over. Perhaps you are not proud of something you have done. Alternatively, the accident may symbolize an error or mistake you have made. Accident dreams also represent your fears of being in an actual, physical accident. You may simply be nervous about getting behind the wheel. Or the dream is trying to warn you of some accident."
        ],
        [
         "14",
         "Accomplice",
         "To dream that you are an accomplice to a crime suggests that someone in your waking life is having a negative influence on you. You may be experiencing feelings of guilt with something that you have done."
        ],
        [
         "15",
         "Accuse",
         "To dream that you are being accused of something indicates overwhelming feelings of guilt.  It may also mean that you are having some doubts about yourself and the choices you are making."
        ],
        [
         "16",
         "Acquaintance",
         "To see an acquaintance in your dream represents aspects of yourself that you are still trying to get to know."
        ],
        [
         "17",
         "Action\nFigure",
         "To see or dream that you are playing with an action figure suggests that you are being manipulated in some way. Or you tend to do what other people expect of you. Also consider the significance of the way that the action figure is dressed."
        ],
        [
         "18",
         "Actor/Actress",
         "To see an actor or actress in your dream represents your pursuit for pleasure. Your admiration of a particular celebrity may lead to a desire to have some of their physical or personality traits. Consider also who this actor/actress is and what characteristics you associate with her or him. These may be the same characteristics that you need to acknowledge or incorporate into yourself. The dream may also be a pun on her or his name."
        ],
        [
         "19",
         "A",
         "To dream that you are getting acupuncture suggests that you are in need of healing. You may need to divert your energies to different pursuits. Alternatively, the dream may be a metaphor for a problem or issue that you need to pinpoint."
        ],
        [
         "20",
         "cupuncture",
         "To dream that you are getting acupuncture suggests that you are in need of healing. You may need to divert your energies to different pursuits. Alternatively, the dream may be a metaphor for a problem or issue that you need to pinpoint."
        ],
        [
         "21",
         "Addict",
         "To dream that you are an addict indicates that you are no longer in control of a situation. You have surrendered your power and denied responsibility for your actions. The dream is also representative of fear, low self-esteem issues, and insecurities."
        ],
        [
         "22",
         "Admire",
         "To dream that you are admiring someone indicates that you need to incorporate the qualities of that person into your Self."
        ],
        [
         "23",
         "Adobe",
         "To see an adobe structure in your dream symbolizes protection. It also implies that you are well insulated from life's problems. Perhaps you are being too sheltered and are lacking experience in certain areas of your life. Alternatively, an adobe building represents tradition, hard work and a simple way of life. Maybe you need to incorporate these qualities into your waking life."
        ],
        [
         "24",
         "Adopt",
         "To dream that you or others are adopting a child indicates that you are taking on something new and different. Ask yourself what is missing in your life that would make you happy."
        ],
        [
         "25",
         "Adult",
         "If you are a child or teenager and dream that you are an adult, then it implies that you need to be more mature about some situation. Perhaps you have some growing up that you need to do. Alternatively, the dream may be reinforcing your sense of responsibility."
        ],
        [
         "26",
         "Adultery",
         "To dream that you commit adultery or have an affair signifies your sexual urges and desires that are longing to be expressed. Alternatively, it indicates self-betrayal of your subconscious. You may find yourself entangled in a situation that is not in your best interest, perhaps even illegal."
        ],
        [
         "27",
         "Baby",
         "To see a baby in your dream signifies innocence, warmth and new beginnings. Babies symbolize something in your own inner nature that is pure, vulnerable, helpless and/or uncorrupted. If you dream that the baby is smiling at you, then it suggests that you are experiencing pure joy. You do not ask for much to make you happy. If you find a baby in your dream, then it suggests that you have acknowledged your hidden potential. If you dream that you forgot you had a baby, then it suggests that you are trying hide your own vulnerabilities; you do not want to let others know of your weaknesses. Alternatively, forgetting about a baby represents an aspect of yourself that you have abandoned or put aside due to life's changing circumstances. The dream may serve as a reminder that it is time for you to pick up that old interest, hobby, or project again. Dreaming of holding a baby is analogous to holding onto an earlier part of your life where you felt more depended on and more needed."
        ],
        [
         "28",
         "Baby\nCarriage",
         "To see a baby carriage in your dream symbolizes your desire for a family or longing for a baby. If the baby carriage is empty, then it indicates sadness or an unfulfilled goal. Alternatively, it suggests that you need to cater to the needs of your own inner child."
        ],
        [
         "29",
         "Baby\nClothes",
         "To see baby clothes in your dream suggests that you are expressing yourself in a more subtle way. Alternatively, baby clothes represent your former ways of thinking or old habits which you have outgrown."
        ],
        [
         "30",
         "Baby\nShower",
         "To dream of a baby shower suggests that you are welcoming a new start. You are given a chance to start over again and do things differently this time around. You have a new found faith in life itself."
        ],
        [
         "31",
         "Babysitter",
         "To dream that you are babysitting suggests that you need to care for the child within yourself."
        ],
        [
         "32",
         "Bachelor",
         "To meet a bachelor in your dream suggests that you are seeking freedom in your love life.  For a man to dream that he is a bachelor indicates that he is having difficulty with gaining his own sense of self or freedom in a relationship. Alternatively, the bachelor represents your masculine side."
        ],
        [
         "33",
         "Back",
         "To dream of your back represents your attitudes, strengths, burdens and stance in the world. It may also relate to stress and pressure that someone is putting on you."
        ],
        [
         "34",
         "Backpacking",
         "To dream that you are backpacking symbolizes your self-sufficiency and survival skills. You may be reflecting on all the obstacles and adversities that you have overcame."
        ],
        [
         "35",
         "Backseat",
         "To dream that you are sitting in the backseat of a car suggests that you are no longer in control of your life.  You may be feeling overpowered, dominated and being told what to do. You need to start taking back control of your life."
        ],
        [
         "36",
         "Backstage",
         "To dream that you are backstage symbolizes opportunities and access. You need to make sure to take advantage of this limited time opportunity. Alternatively, the dream indicates that there are aspects of yourself that you are reluctant to express or show.  Or it may also mean that you need to look at some situation or problem from a new perspective."
        ],
        [
         "37",
         "Backward",
         "To dream that you are walking or moving backwards indicates that your current course of action may be counter-productive. Whatever you are looking for in life seems to be moving away from you. Thus, you may feel a sense of failure or belief that you are unable to achieve your goals and aspirations. On the other hand, moving backwards in your dream indicate that you need to back off or retreat from a situation that you are currently facing in your waking life."
        ],
        [
         "38",
         "Backyard",
         "To dream about your backyard represents your childhood memories or your subconscious. Alternatively, dreaming of your backyard refers to the secrets you are keeping. There are some aspects of your life which you want to keep hidden and out of the view of others. The dream also represents some aspect of your life that you have taken for granted. Consider also the phrase \"not in my backyard.\" In other words, everything is okay as long as it does not happen to you or occur in your own home. The condition of the yard is also symbolic of how well you maintain and balance aspects of your life."
        ],
        [
         "39",
         "Badminton",
         "To play or watch a badminton game in your dream indicates that you need to make a decision quickly or else opportunities will pass you by.  You need to learn to keep up."
        ],
        [
         "40",
         "Bag",
         "To see a bag in your dream represents the responsibilities that you carry. If the bag is ripped or torn, then it indicates that you are carrying a lot of burden. The symbol may be a metaphor for an \"old bag\" and refer to someone who is old."
        ],
        [
         "41",
         "Bagel",
         "To see or eat a bagel in your dream  suggests that there is key element missing from your life. You are not completely whole.  Alternatively, it refers to sexual urges."
        ],
        [
         "42",
         "Bait",
         "To see bait in your dream suggests that you may be fishing for a deal or a compliment. It may also indicate your desire to lure or entice someone."
        ],
        [
         "43",
         "Baking",
         "To dream that you are baking represents your creative self and your ability to make things happen. If you are mixing  ingredients together that you normally would not combine, then it suggests that you need to find a connection between two seemingly different things. Perhaps these things that seem incompatible may yield surprisingly but positive results."
        ],
        [
         "44",
         "Balaclava",
         "To see or wear a balaclava in your dream refers to a sinister or painful secret you are keeping. This secret is creating a burden for you and becoming too hard to keep. Alternatively, wearing a balaclava refers to your desire for anonymity in a situation."
        ],
        [
         "45",
         "Balcony",
         "To see or dream that you are on a balcony refers to your desire to be seen and noticed.  You are searching for prestige and higher status. It may also mean that you are on your way up the social ladder. If the balcony is clean, then it indicates that you are looked up to by others. If the balcony is old, then it suggests that your public image is in need of repair. Alternatively, the balcony could signify your ambivalence regarding a situation. You are feeling torn or undecided."
        ],
        [
         "46",
         "Bald",
         "To dream that you are going bald suggests a lack of self-esteem or worries about getting older. Alternatively, baldness symbolizes humility, purity, and personal sacrifice. You are at a stage in your life where you are confident in fully exposing yourself."
        ],
        [
         "47",
         "Ball",
         "To see or play with a ball in your dream symbolizes completeness and wholeness. It may also indicate that you need to be more in tune with the inner child within. The dream may also be a metaphor for the testicles. Consider also the phrase, \"he's got balls\" to indicate guts and strength."
        ],
        [
         "48",
         "Ball\nPit",
         "To see a ball pit in your dream symbolizes celebration, joy and youth, especially if there are children playing inside it. It is a reminder to be more carefree and spontaneous."
        ],
        [
         "49",
         "Ballerina",
         "To dream that you are a ballerina suggests that you are moving through the obstacles of your life effortlessly. You feel unrestricted. It is also a symbol of innocence, frailty, and vulnerability. Alternatively, you may feel unable to attain and measure up to society's ideals of beauty."
        ]
       ],
       "shape": {
        "columns": 2,
        "rows": 902
       }
      },
      "text/html": [
       "<div>\n",
       "<style scoped>\n",
       "    .dataframe tbody tr th:only-of-type {\n",
       "        vertical-align: middle;\n",
       "    }\n",
       "\n",
       "    .dataframe tbody tr th {\n",
       "        vertical-align: top;\n",
       "    }\n",
       "\n",
       "    .dataframe thead th {\n",
       "        text-align: right;\n",
       "    }\n",
       "</style>\n",
       "<table border=\"1\" class=\"dataframe\">\n",
       "  <thead>\n",
       "    <tr style=\"text-align: right;\">\n",
       "      <th></th>\n",
       "      <th>Dream Symbol</th>\n",
       "      <th>Interpretation</th>\n",
       "    </tr>\n",
       "  </thead>\n",
       "  <tbody>\n",
       "    <tr>\n",
       "      <th>0</th>\n",
       "      <td>Aardvark</td>\n",
       "      <td>To see an aardvark in your dream indicates tha...</td>\n",
       "    </tr>\n",
       "    <tr>\n",
       "      <th>1</th>\n",
       "      <td>Abandonment</td>\n",
       "      <td>To dream that you are abandoned suggests that ...</td>\n",
       "    </tr>\n",
       "    <tr>\n",
       "      <th>2</th>\n",
       "      <td>Abduction</td>\n",
       "      <td>To dream of being abducted indicates that you ...</td>\n",
       "    </tr>\n",
       "    <tr>\n",
       "      <th>3</th>\n",
       "      <td>Aborigine</td>\n",
       "      <td>To see an Aborigine in your dream represents b...</td>\n",
       "    </tr>\n",
       "    <tr>\n",
       "      <th>4</th>\n",
       "      <td>Abortion</td>\n",
       "      <td>To dream that you have an abortion suggests th...</td>\n",
       "    </tr>\n",
       "    <tr>\n",
       "      <th>...</th>\n",
       "      <td>...</td>\n",
       "      <td>...</td>\n",
       "    </tr>\n",
       "    <tr>\n",
       "      <th>897</th>\n",
       "      <td>Yoyo</td>\n",
       "      <td>To see or play with a yoyo in you dream signif...</td>\n",
       "    </tr>\n",
       "    <tr>\n",
       "      <th>898</th>\n",
       "      <td>Zebra</td>\n",
       "      <td>To see a zebra in your dream represents perfec...</td>\n",
       "    </tr>\n",
       "    <tr>\n",
       "      <th>899</th>\n",
       "      <td>Zip\\nLine</td>\n",
       "      <td>To dream that you are zip lining implies that ...</td>\n",
       "    </tr>\n",
       "    <tr>\n",
       "      <th>900</th>\n",
       "      <td>Zombie</td>\n",
       "      <td>To see or dream that you are a zombie suggests...</td>\n",
       "    </tr>\n",
       "    <tr>\n",
       "      <th>901</th>\n",
       "      <td>Zoomorphism</td>\n",
       "      <td>To dream that you are changing into the form o...</td>\n",
       "    </tr>\n",
       "  </tbody>\n",
       "</table>\n",
       "<p>902 rows × 2 columns</p>\n",
       "</div>"
      ],
      "text/plain": [
       "    Dream Symbol                                     Interpretation\n",
       "0       Aardvark  To see an aardvark in your dream indicates tha...\n",
       "1    Abandonment  To dream that you are abandoned suggests that ...\n",
       "2      Abduction  To dream of being abducted indicates that you ...\n",
       "3      Aborigine  To see an Aborigine in your dream represents b...\n",
       "4       Abortion  To dream that you have an abortion suggests th...\n",
       "..           ...                                                ...\n",
       "897         Yoyo  To see or play with a yoyo in you dream signif...\n",
       "898        Zebra  To see a zebra in your dream represents perfec...\n",
       "899    Zip\\nLine  To dream that you are zip lining implies that ...\n",
       "900       Zombie  To see or dream that you are a zombie suggests...\n",
       "901  Zoomorphism  To dream that you are changing into the form o...\n",
       "\n",
       "[902 rows x 2 columns]"
      ]
     },
     "execution_count": 2,
     "metadata": {},
     "output_type": "execute_result"
    }
   ],
   "source": [
    "keywords_df"
   ]
  },
  {
   "cell_type": "code",
   "execution_count": 3,
   "id": "00b2a96a",
   "metadata": {},
   "outputs": [
    {
     "data": {
      "text/plain": [
       "898"
      ]
     },
     "execution_count": 3,
     "metadata": {},
     "output_type": "execute_result"
    }
   ],
   "source": [
    "keywords_df[\"Dream Symbol\"].nunique()"
   ]
  },
  {
   "cell_type": "code",
   "execution_count": 4,
   "id": "1c5063c6",
   "metadata": {},
   "outputs": [
    {
     "data": {
      "application/vnd.microsoft.datawrangler.viewer.v0+json": {
       "columns": [
        {
         "name": "index",
         "rawType": "int64",
         "type": "integer"
        },
        {
         "name": "Dream Symbol",
         "rawType": "object",
         "type": "string"
        },
        {
         "name": "Interpretation",
         "rawType": "object",
         "type": "string"
        }
       ],
       "conversionMethod": "pd.DataFrame",
       "ref": "2ccd73b8-bbee-45e3-a495-8d2c16588c55",
       "rows": [
        [
         "716",
         "Tall",
         "To dream that you are taller than someone indicates that you may be looking down on that person. You feel that you are above her or him. Alternatively, the dream represents authority and pride."
        ],
        [
         "891",
         "Yelling",
         "To dream that you or someone is yelling represents repressed anger that needs to be expressed. If you are yelling and no one hears, then it suggests that you are being overlooked in some waking situation. You feel that your voice does not matter or that your opinion does not count. In particular, hearing demonic yelling in your dream means there is something you thought you have left in the past that is still haunting you."
        ],
        [
         "648",
         "Safety\nPin",
         "To see a safety pin in your dream indicates that a situation is on the verge of falling apart causing anxiety or fear. You feel that the livelihood of the relationship depends on you."
        ],
        [
         "400",
         "King",
         "To see a king in your dream indicates that success and prestige are within reach. You will rise above your problems and adversities. The king is symbolic of power and control. Alternatively, the king symbolizes your father or some father figure. You are looking for support."
        ],
        [
         "275",
         "Halloween",
         "To dream of Halloween signifies death and the underworld. Halloween also represents the temporary adoption of a new persona where you feel less inhibited and more comfortable to freely express yourself. You may also be trying to hide your true self. Alternatively, dreaming of Halloween reflects your childhood and the corresponding feelings that you associated with the holiday."
        ],
        [
         "120",
         "Cartwheels",
         "To dream that you are doing cartwheels represent poise and balance in your life or the need to regain balance. You need to handle life's obstacle and stress with more fortitude."
        ],
        [
         "478",
         "Manicure",
         "To dream that you are getting a manicure represents glamour and beauty. You are seeking attention for the work you have done. You may also be expressing something beautiful and positive through your work."
        ],
        [
         "224",
         "Fasting",
         "To dream that you are fasting represents self-renewal and self-cleansing. Fasting may also be way to draw attention to some consciousness or problem. Are you trying to punish yourself? Are you feeling guilty about something?"
        ],
        [
         "666",
         "Satan",
         "To see Satan in your dream denotes that there is some wrongdoing or evil workings in your life or environment."
        ],
        [
         "674",
         "Sausage",
         "To see or eat sausage in your dream symbolizes material values. It may also represent the phallus and thus refers to sexual feelings or tension."
        ]
       ],
       "shape": {
        "columns": 2,
        "rows": 10
       }
      },
      "text/html": [
       "<div>\n",
       "<style scoped>\n",
       "    .dataframe tbody tr th:only-of-type {\n",
       "        vertical-align: middle;\n",
       "    }\n",
       "\n",
       "    .dataframe tbody tr th {\n",
       "        vertical-align: top;\n",
       "    }\n",
       "\n",
       "    .dataframe thead th {\n",
       "        text-align: right;\n",
       "    }\n",
       "</style>\n",
       "<table border=\"1\" class=\"dataframe\">\n",
       "  <thead>\n",
       "    <tr style=\"text-align: right;\">\n",
       "      <th></th>\n",
       "      <th>Dream Symbol</th>\n",
       "      <th>Interpretation</th>\n",
       "    </tr>\n",
       "  </thead>\n",
       "  <tbody>\n",
       "    <tr>\n",
       "      <th>716</th>\n",
       "      <td>Tall</td>\n",
       "      <td>To dream that you are taller than someone indi...</td>\n",
       "    </tr>\n",
       "    <tr>\n",
       "      <th>891</th>\n",
       "      <td>Yelling</td>\n",
       "      <td>To dream that you or someone is yelling repres...</td>\n",
       "    </tr>\n",
       "    <tr>\n",
       "      <th>648</th>\n",
       "      <td>Safety\\nPin</td>\n",
       "      <td>To see a safety pin in your dream indicates th...</td>\n",
       "    </tr>\n",
       "    <tr>\n",
       "      <th>400</th>\n",
       "      <td>King</td>\n",
       "      <td>To see a king in your dream indicates that suc...</td>\n",
       "    </tr>\n",
       "    <tr>\n",
       "      <th>275</th>\n",
       "      <td>Halloween</td>\n",
       "      <td>To dream of Halloween signifies death and the ...</td>\n",
       "    </tr>\n",
       "    <tr>\n",
       "      <th>120</th>\n",
       "      <td>Cartwheels</td>\n",
       "      <td>To dream that you are doing cartwheels represe...</td>\n",
       "    </tr>\n",
       "    <tr>\n",
       "      <th>478</th>\n",
       "      <td>Manicure</td>\n",
       "      <td>To dream that you are getting a manicure repre...</td>\n",
       "    </tr>\n",
       "    <tr>\n",
       "      <th>224</th>\n",
       "      <td>Fasting</td>\n",
       "      <td>To dream that you are fasting represents self-...</td>\n",
       "    </tr>\n",
       "    <tr>\n",
       "      <th>666</th>\n",
       "      <td>Satan</td>\n",
       "      <td>To see Satan in your dream denotes that there ...</td>\n",
       "    </tr>\n",
       "    <tr>\n",
       "      <th>674</th>\n",
       "      <td>Sausage</td>\n",
       "      <td>To see or eat sausage in your dream symbolizes...</td>\n",
       "    </tr>\n",
       "  </tbody>\n",
       "</table>\n",
       "</div>"
      ],
      "text/plain": [
       "    Dream Symbol                                     Interpretation\n",
       "716         Tall  To dream that you are taller than someone indi...\n",
       "891      Yelling  To dream that you or someone is yelling repres...\n",
       "648  Safety\\nPin  To see a safety pin in your dream indicates th...\n",
       "400         King  To see a king in your dream indicates that suc...\n",
       "275    Halloween  To dream of Halloween signifies death and the ...\n",
       "120   Cartwheels  To dream that you are doing cartwheels represe...\n",
       "478     Manicure  To dream that you are getting a manicure repre...\n",
       "224      Fasting  To dream that you are fasting represents self-...\n",
       "666        Satan  To see Satan in your dream denotes that there ...\n",
       "674      Sausage  To see or eat sausage in your dream symbolizes..."
      ]
     },
     "execution_count": 4,
     "metadata": {},
     "output_type": "execute_result"
    }
   ],
   "source": [
    "keywords_df.sample(10)"
   ]
  },
  {
   "cell_type": "code",
   "execution_count": 5,
   "id": "a2b0c2f6",
   "metadata": {},
   "outputs": [
    {
     "data": {
      "application/vnd.microsoft.datawrangler.viewer.v0+json": {
       "columns": [
        {
         "name": "index",
         "rawType": "int64",
         "type": "integer"
        },
        {
         "name": "dream_id",
         "rawType": "int64",
         "type": "integer"
        },
        {
         "name": "dreamer",
         "rawType": "object",
         "type": "string"
        },
        {
         "name": "description",
         "rawType": "object",
         "type": "string"
        },
        {
         "name": "dream_date",
         "rawType": "object",
         "type": "string"
        },
        {
         "name": "dream_language",
         "rawType": "object",
         "type": "string"
        },
        {
         "name": "text_dream",
         "rawType": "object",
         "type": "string"
        },
        {
         "name": "characters_code",
         "rawType": "object",
         "type": "string"
        },
        {
         "name": "emotions_code",
         "rawType": "object",
         "type": "unknown"
        },
        {
         "name": "aggression_code",
         "rawType": "object",
         "type": "string"
        },
        {
         "name": "friendliness_code",
         "rawType": "object",
         "type": "unknown"
        },
        {
         "name": "sexuality_code",
         "rawType": "object",
         "type": "unknown"
        },
        {
         "name": "Male",
         "rawType": "float64",
         "type": "float"
        },
        {
         "name": "Animal",
         "rawType": "float64",
         "type": "float"
        },
        {
         "name": "Friends",
         "rawType": "float64",
         "type": "float"
        },
        {
         "name": "Family",
         "rawType": "float64",
         "type": "float"
        },
        {
         "name": "Dead&Imaginary",
         "rawType": "float64",
         "type": "float"
        },
        {
         "name": "Aggression/Friendliness",
         "rawType": "float64",
         "type": "float"
        },
        {
         "name": "A/CIndex",
         "rawType": "float64",
         "type": "float"
        },
        {
         "name": "F/CIndex",
         "rawType": "float64",
         "type": "float"
        },
        {
         "name": "S/CIndex",
         "rawType": "float64",
         "type": "float"
        },
        {
         "name": "NegativeEmotions",
         "rawType": "float64",
         "type": "float"
        }
       ],
       "conversionMethod": "pd.DataFrame",
       "ref": "49f680ba-627d-4835-8343-d7ac08e63289",
       "rows": [
        [
         "0",
         "1",
         "alta",
         "Alta: a detailed dreamer",
         "1957",
         "en",
         "The one at the Meads's house, where it's bigger inside than out; there's a European village just inside, with a cobblestone street and a Pied-Piper sort of man with curly hair, he can do things like juggle - I go up the back stairs [there aren't any in the real house] and then down the other side [since there's a second set, immediately] then down a short empty hallway that turns a corner, where I find a tiny room...a young woman with shoulder-length blonde hair in a pageboy is there, cooking at a stove that almost fills the room...she's nice to me. Now outside, I'm waiting for my aunt to pick me up - she arrives in a little round convertible and we go for a drive, not very far - we cross a little bridge over a creek, then double back and she drops me off at the house again. Inside (?) I sit with a couple of people, playing with a string of blue balloons.",
         "2ISA, 1MKA, 1FDA, 1IOA, 2ISA",
         null,
         "2IKA > Q",
         "2IKA 4> Q",
         null,
         "0.5",
         "0.0",
         "0.2",
         "0.2",
         "0.0",
         "0.0",
         "0.2",
         "0.2",
         "0.0",
         "0.0"
        ],
        [
         "1",
         "2",
         "alta",
         "Alta: a detailed dreamer",
         "8/11/1967",
         "en",
         "I'm at a family reunion in a large fine house with grounds (or a maybe a rented public building like in a park) - maybe it's granite or something, very imposing. I'm on a little round balcony with a few others (I think men), there are lots more people inside. I feel faint and collapse. They see that I'm very sick, and quickly take me to a car to go to the hospital. (I don't see any of that, the next I know is that I'm lying in the back seat of the car - a sedan - going like gangbusters on a huge freeway. It must be 5 lanes in each direction, lots of cars but not crowded, and all going really fast. I can't see anything else but freeway and blue sky, with a few white clouds. As we barrel along, the road rises, and quickly - soon it changes to steps, which doesn't slow anybody down, and it keeps going up, the incline increasing. Now my line of sight changes to a spot at the side of the freeway (outside of the car), looking across it - and the incline (without the steps) takes a sharp turn up to vertical. The cars are not stopping or even slowing down, and they whoosh straight up. They make it about halfway up on momentum, and then gravity takes over and they fall down. I can see them sort of drop off [rather than sliding down still in contact with the pavement] and fall down way below me.",
         "2ISA, people, 2ISA",
         "SD 2IKA",
         "D > Q, Q > 2ISA",
         null,
         null,
         "0.0",
         "0.0",
         "0.0",
         "0.0",
         "0.0",
         "1.0",
         "0.666666667",
         "0.0",
         "0.0",
         "1.0"
        ],
        [
         "2",
         "3",
         "alta",
         "Alta: a detailed dreamer",
         "8/1/1985",
         "en",
         "I watch a plane fly past and shortly realize it was too low. It crashes not half a block away (rather as though it fell from a height of a few yards than flying straight into the ground). and I think there might be survivors, and that I should call the police. Before I get the number dialed, I realize I want the fire department instead. I get no ring, try again and find the line is dead. Some people (3? - at least one a woman) are coming toward the house and I understand they are responsible for the dead phone and I should be suspicious of them. I try to leave the house - run into a pregnant girl at the back; she seems to be in some sort of a bad way and has maybe started labor. The woman from the plane comes this way, calls the others to come get the pregnant girl, and I pretend to be asleep or dead. They don't buy it, I guess, and we all go inside. I'm not a prisoner, I don't think, so much as being detained for some reason, and I go to my brother's old room. He moved out of it a couple of years ago but there is furniture still there and I haven't looked around in a long time. [This does not seem to be the family home - I felt like it was rented.] There are a couple of chests of drawers that I realize I could have used downstairs long ago, yet I've been looking for acceptable furniture all this time. Also there are blankets (as well as clothes and shoes - women's shoes - but they aren't important), a lot of blankets, and I badly needed those last winter but didn't realize they were here. Also a very nice shoe rack. The woman comes back to say or do something. [I don't know what, and the dream ended about there, I think.]",
         "2ISA, 2ISA, 1FSA, 1MBA, 1IOA, 2ISA, 2FDA",
         "SD 1ISA, AP D, AP D",
         "It PRP >, It PRP >, D > 1FKA",
         null,
         null,
         "0.333333333",
         "0.0",
         "0.0",
         "0.285714286",
         "0.0",
         "1.0",
         "0.428571429",
         "0.0",
         "0.0",
         "1.0"
        ],
        [
         "3",
         "4",
         "alta",
         "Alta: a detailed dreamer",
         "1985?",
         "en",
         "Me pulling the green leaves and berries off some branches or a bush (not from a live one growing in the ground, but inside the house). A boy of 10 or 12 is impatiently telling me, \"Mother's asleep\" (I think) - as if I'm not supposed to be doing what I'm doing instead of her or without her knowledge or something. This is in an old rambling house with lots of old furniture and interconnected rooms. Lace doilies on little tables, throw rugs, etc. Some of \"us\" (family? friends?) - there's 3 or 4 of us, I think - are outside and there's a dog on the rampage - didn't we think it was a wolf at first? Anyway it turns out to be a black boxer or bulldog or something and it charges the back door. There's some kind of flap or opening in it that I plug up - I don't know what the people outside are doing but they're okay and they come in shortly. Somebody has rather by accident invited somebody like a neighbor to come over for something on the order of borrowing a cup of sugar. Trouble is this person always has a party with him/her. Kind of a group of hangers-on who just hang around talking and drinking tea and you can't ever get them to go away. For some reason I go to the front door. There are 2 of them in the room at the front, in a couple of chairs each with doilies, and little tables next to them with doilies and little lamps, and I think they're men in fairly formal suits and oblivious to anything around them. I sort of look at them in resignation or bemusement. There's a staircase here. (They don't go upstairs, after all they are just visitors, not a mob.) Outside there is a hutch as for rabbits or something, covered, not particularly nice. Next to it are a couple of little open shelters with no amenities. There is a guinea pig in each place. The sun is shining directly on the two outside and it's hot. The one inside is not particularly comfortable but he's okay. The other two are dehydrating and too weak to move. I come and look at them, feeling sad and sympathetic but no anger - I have the idea the person who set this up isn't there. I'm going to take them in and try to save them but I'm not sure I can. I'm not going to just let them die out here. The reason they're here if because they were replaced by the one inside like their usefulness as displays was used up. I want to come back and take away the other one, and get him out of the nasty cage. I'm sad.",
         "1MAA, 1FMA, 2ISA, 2IKA, 1ANI, 1ANI, 1IOA, 2ISA, 1ISA, 1ISA, 1ISA, 2ISA, 1ISA, 2MKA, 2ISA, 2ANI, 1ISA",
         "SD 2ISA, SD D",
         "Q > Q, 2ISA > Q, 2ISA > Q, D > 1MSA",
         "1IKA 4> Q, 2ISA 4> 2ISA",
         null,
         "0.666666667",
         "0.176470588",
         "0.142857143",
         "0.142857143",
         "0.0",
         "1.0",
         "0.235294118",
         "0.117647059",
         "0.0",
         "1.0"
        ],
        [
         "4",
         "5",
         "alta",
         "Alta: a detailed dreamer",
         "1985?",
         "en",
         "I'm in a room that reminds me of (but definitely isn't) the living room of the house on A Street. I am there because I live there or at least it belongs to me and I spend time there, and I am on vacation or something. It's afternoon and I remember how the light looked and my cousin came to see me for a visit, as though to let me in on some news or just for fun. I don't know of anything else that happened, but it did involve him lying around on the floor very much the way I do. Very comfortable and casual and warm - that is, that's the way I was feeling. So there's a Training going on, and the room reminds me a bit of school, like a school auditorium. The light is greenish, daylight, morning. The staff wasn't sitting behind tables but in rows of chairs. It was still early - we were instructed to go up on the stage, and we did, but they weren't quite organized and we were standing there for a while. Very informal and chummy. Later I left for a break and went (home?) somewhere away, not a restaurant, for more time than a dinner break. Pete Townsend was with me and maybe some other people. (He wasn't on the team.) Don't know what was going on there, but when it was time to go back we had an errand to run - stopped at a sort of store on a sort of small-town main street. We were going inside and this guy who was with us burst out at me - I don't know what about - and said he was arresting me and getting a peace bond on me. I was shocked but didn't know what it was about except that he was angry at the effect I was having on the group of people that P.T. was involved with. In any case, he keeps me with him and we may have gone inside and come back out again. The place reminds me rather of a dry-goods store, with rows of waist-high bins, and a counter along the side. On the way out, P.T. takes the guy aside and says something very stern and final-sounding in French. I knew it was French but I don't understand it and that was the reason he was using it, so that I wouldn't be embarrassed or have to hear something I wouldn't want to. The guy said something back in French but shorter. P.T. just looked at him like he was disgusted and all through, and took me outside. We got in the car and were driving back - I was still kind of stunned and found he was talking to me - he was explaining something about the incident, and that he could do without this other guy, who I think had been his friend; but he couldn't do without me. He looked at me and said very firmly, \"I need you\". I was overwhelmed and leaned over to him and he pulled me over for a hug. At some point I was concerned that we weren't going to get back to the Training in time because of stopping for an errand, and I thought there might turn out to be another and another, the way I do it.",
         "1IRA, 1MSA, 1ISA, 2ISA, 1ISA, 1IKA",
         "AP D, AP D, AP 1MSA, CO D, SD D, AP D",
         "1MSA > D, Q > Q, D > 2IKA, D > 2IKA, D > 1MSA, D > 1MSA, 1MSA > D, D > 1IKA",
         "D 4> Q",
         null,
         "1.0",
         "0.0",
         "0.166666667",
         "0.166666667",
         "0.0",
         "0.875",
         "1.333333333",
         "0.166666667",
         "0.0",
         "1.0"
        ]
       ],
       "shape": {
        "columns": 21,
        "rows": 5
       }
      },
      "text/html": [
       "<div>\n",
       "<style scoped>\n",
       "    .dataframe tbody tr th:only-of-type {\n",
       "        vertical-align: middle;\n",
       "    }\n",
       "\n",
       "    .dataframe tbody tr th {\n",
       "        vertical-align: top;\n",
       "    }\n",
       "\n",
       "    .dataframe thead th {\n",
       "        text-align: right;\n",
       "    }\n",
       "</style>\n",
       "<table border=\"1\" class=\"dataframe\">\n",
       "  <thead>\n",
       "    <tr style=\"text-align: right;\">\n",
       "      <th></th>\n",
       "      <th>dream_id</th>\n",
       "      <th>dreamer</th>\n",
       "      <th>description</th>\n",
       "      <th>dream_date</th>\n",
       "      <th>dream_language</th>\n",
       "      <th>text_dream</th>\n",
       "      <th>characters_code</th>\n",
       "      <th>emotions_code</th>\n",
       "      <th>aggression_code</th>\n",
       "      <th>friendliness_code</th>\n",
       "      <th>...</th>\n",
       "      <th>Male</th>\n",
       "      <th>Animal</th>\n",
       "      <th>Friends</th>\n",
       "      <th>Family</th>\n",
       "      <th>Dead&amp;Imaginary</th>\n",
       "      <th>Aggression/Friendliness</th>\n",
       "      <th>A/CIndex</th>\n",
       "      <th>F/CIndex</th>\n",
       "      <th>S/CIndex</th>\n",
       "      <th>NegativeEmotions</th>\n",
       "    </tr>\n",
       "  </thead>\n",
       "  <tbody>\n",
       "    <tr>\n",
       "      <th>0</th>\n",
       "      <td>1</td>\n",
       "      <td>alta</td>\n",
       "      <td>Alta: a detailed dreamer</td>\n",
       "      <td>1957</td>\n",
       "      <td>en</td>\n",
       "      <td>The one at the Meads's house, where it's bigge...</td>\n",
       "      <td>2ISA, 1MKA, 1FDA, 1IOA, 2ISA</td>\n",
       "      <td>NaN</td>\n",
       "      <td>2IKA &gt; Q</td>\n",
       "      <td>2IKA 4&gt; Q</td>\n",
       "      <td>...</td>\n",
       "      <td>0.500000</td>\n",
       "      <td>0.000000</td>\n",
       "      <td>0.200000</td>\n",
       "      <td>0.200000</td>\n",
       "      <td>0.0</td>\n",
       "      <td>0.000</td>\n",
       "      <td>0.200000</td>\n",
       "      <td>0.200000</td>\n",
       "      <td>0.0</td>\n",
       "      <td>0.0</td>\n",
       "    </tr>\n",
       "    <tr>\n",
       "      <th>1</th>\n",
       "      <td>2</td>\n",
       "      <td>alta</td>\n",
       "      <td>Alta: a detailed dreamer</td>\n",
       "      <td>8/11/1967</td>\n",
       "      <td>en</td>\n",
       "      <td>I'm at a family reunion in a large fine house ...</td>\n",
       "      <td>2ISA, people, 2ISA</td>\n",
       "      <td>SD 2IKA</td>\n",
       "      <td>D &gt; Q, Q &gt; 2ISA</td>\n",
       "      <td>NaN</td>\n",
       "      <td>...</td>\n",
       "      <td>0.000000</td>\n",
       "      <td>0.000000</td>\n",
       "      <td>0.000000</td>\n",
       "      <td>0.000000</td>\n",
       "      <td>0.0</td>\n",
       "      <td>1.000</td>\n",
       "      <td>0.666667</td>\n",
       "      <td>0.000000</td>\n",
       "      <td>0.0</td>\n",
       "      <td>1.0</td>\n",
       "    </tr>\n",
       "    <tr>\n",
       "      <th>2</th>\n",
       "      <td>3</td>\n",
       "      <td>alta</td>\n",
       "      <td>Alta: a detailed dreamer</td>\n",
       "      <td>8/1/1985</td>\n",
       "      <td>en</td>\n",
       "      <td>I watch a plane fly past and shortly realize i...</td>\n",
       "      <td>2ISA, 2ISA, 1FSA, 1MBA, 1IOA, 2ISA, 2FDA</td>\n",
       "      <td>SD 1ISA, AP D, AP D</td>\n",
       "      <td>It PRP &gt;, It PRP &gt;, D &gt; 1FKA</td>\n",
       "      <td>NaN</td>\n",
       "      <td>...</td>\n",
       "      <td>0.333333</td>\n",
       "      <td>0.000000</td>\n",
       "      <td>0.000000</td>\n",
       "      <td>0.285714</td>\n",
       "      <td>0.0</td>\n",
       "      <td>1.000</td>\n",
       "      <td>0.428571</td>\n",
       "      <td>0.000000</td>\n",
       "      <td>0.0</td>\n",
       "      <td>1.0</td>\n",
       "    </tr>\n",
       "    <tr>\n",
       "      <th>3</th>\n",
       "      <td>4</td>\n",
       "      <td>alta</td>\n",
       "      <td>Alta: a detailed dreamer</td>\n",
       "      <td>1985?</td>\n",
       "      <td>en</td>\n",
       "      <td>Me pulling the green leaves and berries off so...</td>\n",
       "      <td>1MAA, 1FMA, 2ISA, 2IKA, 1ANI, 1ANI, 1IOA, 2ISA...</td>\n",
       "      <td>SD 2ISA, SD D</td>\n",
       "      <td>Q &gt; Q, 2ISA &gt; Q, 2ISA &gt; Q, D &gt; 1MSA</td>\n",
       "      <td>1IKA 4&gt; Q, 2ISA 4&gt; 2ISA</td>\n",
       "      <td>...</td>\n",
       "      <td>0.666667</td>\n",
       "      <td>0.176471</td>\n",
       "      <td>0.142857</td>\n",
       "      <td>0.142857</td>\n",
       "      <td>0.0</td>\n",
       "      <td>1.000</td>\n",
       "      <td>0.235294</td>\n",
       "      <td>0.117647</td>\n",
       "      <td>0.0</td>\n",
       "      <td>1.0</td>\n",
       "    </tr>\n",
       "    <tr>\n",
       "      <th>4</th>\n",
       "      <td>5</td>\n",
       "      <td>alta</td>\n",
       "      <td>Alta: a detailed dreamer</td>\n",
       "      <td>1985?</td>\n",
       "      <td>en</td>\n",
       "      <td>I'm in a room that reminds me of (but definite...</td>\n",
       "      <td>1IRA, 1MSA, 1ISA, 2ISA, 1ISA, 1IKA</td>\n",
       "      <td>AP D, AP D, AP 1MSA, CO D, SD D, AP D</td>\n",
       "      <td>1MSA &gt; D, Q &gt; Q, D &gt; 2IKA, D &gt; 2IKA, D &gt; 1MSA,...</td>\n",
       "      <td>D 4&gt; Q</td>\n",
       "      <td>...</td>\n",
       "      <td>1.000000</td>\n",
       "      <td>0.000000</td>\n",
       "      <td>0.166667</td>\n",
       "      <td>0.166667</td>\n",
       "      <td>0.0</td>\n",
       "      <td>0.875</td>\n",
       "      <td>1.333333</td>\n",
       "      <td>0.166667</td>\n",
       "      <td>0.0</td>\n",
       "      <td>1.0</td>\n",
       "    </tr>\n",
       "  </tbody>\n",
       "</table>\n",
       "<p>5 rows × 21 columns</p>\n",
       "</div>"
      ],
      "text/plain": [
       "   dream_id dreamer               description dream_date dream_language  \\\n",
       "0         1    alta  Alta: a detailed dreamer       1957             en   \n",
       "1         2    alta  Alta: a detailed dreamer  8/11/1967             en   \n",
       "2         3    alta  Alta: a detailed dreamer   8/1/1985             en   \n",
       "3         4    alta  Alta: a detailed dreamer      1985?             en   \n",
       "4         5    alta  Alta: a detailed dreamer      1985?             en   \n",
       "\n",
       "                                          text_dream  \\\n",
       "0  The one at the Meads's house, where it's bigge...   \n",
       "1  I'm at a family reunion in a large fine house ...   \n",
       "2  I watch a plane fly past and shortly realize i...   \n",
       "3  Me pulling the green leaves and berries off so...   \n",
       "4  I'm in a room that reminds me of (but definite...   \n",
       "\n",
       "                                     characters_code  \\\n",
       "0                       2ISA, 1MKA, 1FDA, 1IOA, 2ISA   \n",
       "1                                 2ISA, people, 2ISA   \n",
       "2           2ISA, 2ISA, 1FSA, 1MBA, 1IOA, 2ISA, 2FDA   \n",
       "3  1MAA, 1FMA, 2ISA, 2IKA, 1ANI, 1ANI, 1IOA, 2ISA...   \n",
       "4                 1IRA, 1MSA, 1ISA, 2ISA, 1ISA, 1IKA   \n",
       "\n",
       "                           emotions_code  \\\n",
       "0                                    NaN   \n",
       "1                                SD 2IKA   \n",
       "2                    SD 1ISA, AP D, AP D   \n",
       "3                          SD 2ISA, SD D   \n",
       "4  AP D, AP D, AP 1MSA, CO D, SD D, AP D   \n",
       "\n",
       "                                     aggression_code        friendliness_code  \\\n",
       "0                                           2IKA > Q                2IKA 4> Q   \n",
       "1                                    D > Q, Q > 2ISA                      NaN   \n",
       "2                       It PRP >, It PRP >, D > 1FKA                      NaN   \n",
       "3                Q > Q, 2ISA > Q, 2ISA > Q, D > 1MSA  1IKA 4> Q, 2ISA 4> 2ISA   \n",
       "4  1MSA > D, Q > Q, D > 2IKA, D > 2IKA, D > 1MSA,...                   D 4> Q   \n",
       "\n",
       "   ...      Male    Animal   Friends    Family  Dead&Imaginary  \\\n",
       "0  ...  0.500000  0.000000  0.200000  0.200000             0.0   \n",
       "1  ...  0.000000  0.000000  0.000000  0.000000             0.0   \n",
       "2  ...  0.333333  0.000000  0.000000  0.285714             0.0   \n",
       "3  ...  0.666667  0.176471  0.142857  0.142857             0.0   \n",
       "4  ...  1.000000  0.000000  0.166667  0.166667             0.0   \n",
       "\n",
       "   Aggression/Friendliness  A/CIndex  F/CIndex  S/CIndex  NegativeEmotions  \n",
       "0                    0.000  0.200000  0.200000       0.0               0.0  \n",
       "1                    1.000  0.666667  0.000000       0.0               1.0  \n",
       "2                    1.000  0.428571  0.000000       0.0               1.0  \n",
       "3                    1.000  0.235294  0.117647       0.0               1.0  \n",
       "4                    0.875  1.333333  0.166667       0.0               1.0  \n",
       "\n",
       "[5 rows x 21 columns]"
      ]
     },
     "execution_count": 5,
     "metadata": {},
     "output_type": "execute_result"
    }
   ],
   "source": [
    "\n",
    "dream_df = pd.read_csv(\"datasets/rsos_dream_data.tsv\", sep=\"\\t\")\n",
    "dream_df.head()"
   ]
  },
  {
   "cell_type": "code",
   "execution_count": 6,
   "id": "b6e8acac",
   "metadata": {},
   "outputs": [
    {
     "data": {
      "text/plain": [
       "<Axes: >"
      ]
     },
     "execution_count": 6,
     "metadata": {},
     "output_type": "execute_result"
    },
    {
     "data": {
      "image/png": "[encoded data removed]",
      "text/plain": [
       "<Figure size 1500x1000 with 1 Axes>"
      ]
     },
     "metadata": {},
     "output_type": "display_data"
    }
   ],
   "source": [
    "dream_df[\"text_dream\"].str.len().hist( bins=200, figsize=(15, 10))"
   ]
  },
  {
   "cell_type": "code",
   "execution_count": 69,
   "id": "9d3637ff",
   "metadata": {},
   "outputs": [],
   "source": [
    "exmpl = dream_df[dream_df[\"text_dream\"].str.len()< 500]"
   ]
  },
  {
   "cell_type": "code",
   "execution_count": 70,
   "id": "bd45b2d6",
   "metadata": {},
   "outputs": [],
   "source": [
    "exmpl = exmpl[\"text_dream\"].sample(10, random_state=42)"
   ]
  },
  {
   "cell_type": "code",
   "execution_count": 71,
   "id": "db28578b",
   "metadata": {},
   "outputs": [
    {
     "data": {
      "text/plain": [
       "18552    267\n",
       "8557     309\n",
       "8751     292\n",
       "18676    473\n",
       "5605     394\n",
       "1389     359\n",
       "4379     343\n",
       "17291    449\n",
       "2968     362\n",
       "10191    308\n",
       "Name: text_dream, dtype: int64"
      ]
     },
     "execution_count": 71,
     "metadata": {},
     "output_type": "execute_result"
    }
   ],
   "source": [
    "exmpl.str.len()"
   ]
  },
  {
   "cell_type": "code",
   "execution_count": null,
   "id": "fec79704",
   "metadata": {},
   "outputs": [],
   "source": []
  },
  {
   "cell_type": "code",
   "execution_count": null,
   "id": "3572d85a",
   "metadata": {},
   "outputs": [
    {
     "data": {
      "application/vnd.microsoft.datawrangler.viewer.v0+json": {
       "columns": [
        {
         "name": "index",
         "rawType": "int64",
         "type": "integer"
        },
        {
         "name": "prompt",
         "rawType": "object",
         "type": "string"
        },
        {
         "name": "dream",
         "rawType": "object",
         "type": "string"
        },
        {
         "name": "symbols",
         "rawType": "object",
         "type": "string"
        }
       ],
       "conversionMethod": "pd.DataFrame",
       "ref": "1297634a-d0ce-473b-8c09-550bbdf0cff9",
       "rows": [
        [
         "0",
         "Given dream description and dream symbols below, \nExplain what this dream means. \nUse the dream symbols to help you interpret the dream. ",
         "I saw Seventec. It was a woman standing in a show window among shoes. I saw a big man in bed. I saw a horse coming towards us. I was piloting an airplane. It was so simple. I saw a large plane take off and the pilot had it fly upside down as he walked on its surface.",
         "To see a barrister with a white wig in your dream symbolizes wisdom and knowledge. The barrister may be a variation of the \"wise old man\" figure. You are looking for guidance and help in some area of your life.  Perhaps you are making an important decision.;\\nTo see ferns in your dream symbolize your future hopes and fears. It also represent solitude.;\\nTo see a landfill in your dream represents ideas that you have discarded. It also refers to rejected aspects of yourself or of someone's character. You may be trying to confront or come to terms with these rejections.;\\nTo see a koi fish in your dream indicates that you need to put aside your pride and ego and not let it get in the way of friendships and relationships. Alternatively, the koi fish is symbolic of patience, perseverance, determination, ambition, tenacity, courage and success. The koi serves as a reminder that you will overcome life's obstacles and adversities.;\\nTo play or watch a badminton game in your dream indicates that you need to make a decision quickly or else opportunities will pass you by.  You need to learn to keep up.;\\nTo see a Satyr or dream that you are a Satyr suggests that you are seeking sexual freedom. It is symbolic of male fertility and masculine sexual power. Alternatively, the dream indicates that you need to integrate aspects of your mind and your body. Or that you need to be more in tune with your environment. Satyrs are also       known for their carefree nature and so dreaming about them may imply that       you need to be more carefree.;\\nTo see your teacher (past or present) in your dream suggests that you are seeking some advice, guidance, or knowledge. You are heading into a new path in life and are ready to learn by example or from a past experience. Consider your own personal experiences with that particular teacher. What subject was taught? Alternatively, a teacher relates to issues with authority and seeking approval. You may be going through a situation in your waking life where you feel that you are being treated like a student or in which you feel you are being put to a test. Also pay attention to the demeanor and attitude of the teacher in your dream. If the teacher in your dream is mean, then it implies that you may be putting too much pressure on yourself to succeed.;\\nTo see or dream that you are in a car dealership refers to some decision that you need to make about where you want to go in life. You are trying to figure out your life path.;\\nTo see or eat cabbage in your dream suggests that you should not waste time with petty things in your life. You live and thrive on life's challenges. Alternatively, the dream refers to your unwise choices or decisions. You need to rethink some of your decisions.;\\nTo see calla lilies in your dream symbolize new beginnings, rebirth and longevity. In particular, a white calla lily represents purity, simplicity or elegance. Alternatively, the calla lily refers to a commitment."
        ],
        [
         "1",
         "Given dream description and dream symbols below, \nExplain what this dream means. \nUse the dream symbols to help you interpret the dream. ",
         "I call one of my friends. I am in my old room in my home town, except it was in a new house by the beach. I had finals coming up, but it was such a nice day that I went outside. There was a beautiful tapestry monument. I went back inside as my friends came over to BBQ. I was happy and called everyone I knew.",
         "To dream that you are under narcosis is an indication that you are trying to suppress your emotions instead of confronting them. You may be trying desperately to avoid a problem or situation in your waking life. Or you may be trying to refuse to take responsibility for your actions.;\\nTo see or play with a yoyo in you dream signifies the ups and downs of your life. Alternatively, the dream indicates that you are not taking life's issues and problems seriously enough. You see things too trivially.;\\nTo see a wall in your dream signifies limitations, obstacles and boundaries. There is a barrier obstructing your progress. Alternatively, the wall indicates that you are too accustomed to your old habits and way of thinking. You feel stuck. If you dream of blood on the walls, then it is a warning of sorts. There is a situation that you need to confront. You can not avoid it any longer.;\\nTo see or taste some sort of sauce in your dream represents your sense of wisdom and intellect. Consider the color and flavor of the sauce for additional significance.;\\nTo see a vulture in your dream symbolizes purification and insight. It suggests that your past experiences will provide you with invaluable insight into a current situation or problem. Learn from your past. Alternatively, a vulture indicates that  you or someone is being opportunistic. Someone is watching you and is waiting for you to take a misstep. You feel that someone is taking advantage of you or is using you. Consider the metaphor of someone who is a \"vulture\". Sometimes a vulture is also a symbol of death, doom or rebirth.;\\nTo speak with an accent in your dream suggests that you are having difficulties conveying your thoughts. Consider how you feel about the accent. If you feel the accent makes you stand out in a negative way, then it signifies feelings of insecurities. If the accent makes you stand out in a positive way, then it symbolizes an air of confidence.;\\nTo dream that you are wearing headphones indicate that you are the only one getting the message. Furthermore, it means that you are in tune with your intuition.;\\nTo see or eat a macaroon in your dream represents a well-rounded experience. You are successfully balancing different aspects of your life.;\\nTo dream that you are being accused of something indicates overwhelming feelings of guilt.  It may also mean that you are having some doubts about yourself and the choices you are making.;\\nTo dream of mahogany wood refers to your stubbornness."
        ],
        [
         "2",
         "Given dream description and dream symbols below, \nExplain what this dream means. \nUse the dream symbols to help you interpret the dream. ",
         "I had left my house and I was going down the steps in back, when someone came and told me that the negroes had revolted. The rest of the dream I spent hiding from them. Interpretation I don't know Answers to questions 2. afraid3. actual participant4. unpleasant5. yard back of house6. no7. no",
         "To see or eat jelly in your dream represents insight into a situation you have been wondering about. The dream may be a metaphor for something that is finally taking shape. You have come to some understanding. Alternatively, it indicates that you are preserving or maintaining a sweet relationship.;\\nTo dream that something is rare indicates that you need to appreciate certain things. Consider the symbolism or significance of the rare object or event. Don't take things for granted.;\\nTo dream that you are a hairdresser suggests that you are imposing your ideas and opinions on others.  Perhaps you need to work on your self-image and improve on your image. Alternatively, it refers to your attitude toward your own sexuality.;\\nTo dream that you are hailing a cab suggests that you need to ask for help in order to be able to move forward in some waking situation. To dream that you are in a cab indicates that you are being taken for a ride. Someone is taking advantage of you. Cabana To see or dream that you are in a cabana signifies your need for an escape or vacation. You may be feeling overwhelmed by a waking problem and need some downtime. Cabaret To watch a cabaret in your dream indicates your need to acknowledge your sensual side. Cabbage To see or eat cabbage in your dream suggests that you should not waste time with petty things in your life. You live and thrive on life's challenges. Alternatively, the dream refers to your unwise choices or decisions. You need to rethink some of your decisions. Cabin To see or dream that you are in a wood cabin indicates that you will succeed via your own means.  It suggests that you are self-reliant and independent, yet still remain humble. You prefer the simpler things in life. To dream that you are in a ship cabin indicates that are seeking some refuge from your emotions. Cabinet To see a cabinet in your dream symbolizes the female body and/or the womb. Alternatively, you may be hiding some family or personal secret. Consider the contents and condition of the cabinet for more clues. To dream that someone rearranged your cabinets suggests that somebody is overstepping your boundaries. Cable To see a cable in your dream represents your stamina and durability. If the cable is frayed or broken, then it signifies a lack of strength. To dream of cable television signifies your openness and how you communicate with others. Cable Car To see or ride in a cable car in your dream signifies the compromises that you make in life. Sometimes you have to go along with the masses in order to maintain the peace. Alternatively, the dream represents life's journey. You are headed in the right direction. Caboose To see or be in a caboose implies that you are last in line for something. You are feeling shortchanged. Alternatively, dreaming of a caboose serves as a reminder that you will eventually get to where you need. It is not always about being first or finishing first. Cackle To hear the sound of cackling in your dream signifies illness and loss. Cactus To see a cactus in your dream suggests that you are feeling invaded, that your space is being crowded into and that you are being suffocated.  The prickly spines of the cactus represent the boundary you are trying to establish between your personal and private. Or you feel the need to defend yourself in some way. Alternatively, the dream implies that  you have found yourself in a sticky situation. Perhaps you need to adapt to your existing circumstances instead of trying to change them. *Please See Also Succulents. Cadaver To dream that you are dissecting a cadaver indicates that you are ready to reveal or expose an aspect of yourself that you have been hiding. To see a cadaver in your dream represents a part of yourself that has died. Alternatively, dreaming of a cadaver means that you tend to give everything you have in a situation or relationship. Ca dillac To see a Cadillac in your dream suggests that you are driven to succeed. Your ambition will take you far in life. Caduceus To see a caduceus in your dream symbolizes health concerns. The dream may be telling you that you need to take better care of yourself. Caesarian Section To dream that you are having a caesarian section implies that you need help in order to get your idea or project off the ground. You can not do it by yourself. A more direct interpretation of this dream may represent your anxieties of having a C-section in real life. Cafe To dream that you are at a cafe represents your social life. The dream is telling you that it is time to call up old friends and catch up with what they are all up to. Cafeteria To dream that you are in a cafeteria denotes that there may be a lot of issues \"eating\" you up inside. Cage To dream that you are in a cage indicates that you are experiencing inhibitions and powerlessness in some areas of your life. You are feeling restricted, confined and restrained in a current relationship or business deal. Somebody may be keeping a short leash on you, where you are lacking the freedom to act independently. To dream that you are putting a wild animal into a cage signifies that you will succeed in overcoming your rivals and fears. It is also symbolic of your ability to control you animalistic rages and anger. To see a bird in a cage suggests that you are feeling limited in your expression and a sudden lost of freedom. You may be experiencing frustrations and an inhibited spirituality. The dream may also imply that you are feeling like a \"jail bird\". Cage Fighting To dream that you are cage fighting indicates that you are feeling restricted or confined in a current relationship. An aspect of yourself is fighting to be expressed or let out. To watch a cage fight represents conflicting ideas or beliefs. Cake To see a cake in your dream indicates that you need to learn to share and allocate your workload instead of trying to do everything yourself.  Cakes also symbolize selfishness or the feeling of not getting your fair share. More positively, the dream may represent your accomplishments and achievements. Consider also the metaphor a \"piece of cake\" or some situation that is easy. To see a partially eaten cake in your dream signifies missed and lost opportunities. To dream that you are buying a cake suggests that you have accepted the rewards and recognition you are getting for our work.  You are learning to be comfortable in the spotlight. Calamari To dream that you are eating calamari indicates that you are feeling battered or beaten. However, you are tough. Hang in there! Calculator To see a calculator in your dream suggests that you need to thoroughly think through some problem and carefully evaluate your choices.  You need to lay out some sort of plan or outline. The symbol may also be a metaphor for someone who is \"calculating\", cunning and scheming. Calendar To see a calendar in your dream represents the passing of time and past events. The dream may also be a reminder of a special event, appointment or important date in your waking life. Calf To see a calf in your dream symbolizes immaturity and inexperience. You need to develop certain qualities. California Known as the Golden State, to dream of California, refers to your desire for instant wealth. It may also suggests that you are looking for fame. If you live in California, then the dream may just be a reflection of your reality. Caliper To see or use a caliper in your dream reflects your concerns about not measuring up to the standards or expectations of others. Alternatively, dreaming of a caliper means that you need to be careful in making a decision or judgment. Ca lla Lily To see calla lilies in your dream symbolize new beginnings, rebirth and longevity. In particular, a white calla lily represents purity, simplicity or elegance. Alternatively, the calla lily refers to a commitment. Calling Card To see or use a calling card in your dream indicates that there is someone that you need to reach out to. If the calling card has the name of someone you know on it, then it means that their presence is with your spiritually, even though they may not be with you physically. Something in your waking life is reminding you of this person. Calluses To dream that you have calluses symbolize hard work. You have be laboring over a difficult task or situation. Calm To dream that you are calm denotes a fulfilling life. You find contentment and satisfaction in what you have. To dream that someone is trying to calm you down suggests  that you will experience many setbacks, especially if you continue to let your emotions run out of control. Calomel To see calomel in your dream indicates a rivalry. To dream that you are taking calomel signifies that you are being manipulated and taken advantage of. It is time to open your eyes and not allow yourself to be stepped on. Calves To see your calves in your dream symbolize movement and your ability to jump from situation to situation. In particular, if you are admiring your own calves, then it denotes a needy or codependent relationship. Camcorder *Please See Video Camera . Camel To see a camel in your dream denotes that you need to be more conservative; you are carrying too many responsibilities, burdens and problems on your shoulders. Consider the common phrase, \"the straw that broke the camel's back\". You tend to hold on and cling on to your emotions instead of expressing and releasing them. Learn to forgive and forget. Alternatively, the camel represents your stamina. To dream that you are petting a camel indicates that you are ready to let go of some of the burdens, responsibilities or emotional baggage that you are carrying around. Cameo To see or wear a cameo in your dream represents an aspect of yourself that you are trying to express. Perhaps you are showing your delicate and feminize side. Alternatively, the dream may be a pun on a \"cameo\" appearance that you are making at some social gathering. Camera To see a camera in your dream signifies your desires to cling on and/or live in the past. Alternatively, it may indicate that you need to focus on a particular situation. Perhaps you need to get a clearer picture or idea. To dream that the camera is broken indicates that you are ignoring an issue or refusing to see the big picture. To dream that you cannot find your camera to take a picture implies that you are not focusing on the matter at hand. Your attention is too easily diverted. Alternatively, the dream refers to forgotten memories. To see or dream that you are on a hidden camera indicates that you feel that you are being scrutinized. All eyes are on you. Camouflage To dream that you are in camouflage suggests that you are hiding  your true self and feelings. You are concealing who you really are. Alternatively, there is a situation in your waking life that is making you want to blend into the background and not get noticed. Camper To dream that you are living in a camper indicates that you need to move on with some situation or some aspect of your life. You may be dwelling on a situation and it is time to move forward. Alternatively, you may be expressing your desire to be more independent and self-sufficient. Campfire To start or see a campfire in your dream represents sharing and companionship. You need to open yourself to others and allow others to get to know you. Camping To dream that you are camping indicates a need for relaxation and a long-deserved break.  You need to be more in touch with nature and go back to a more basic and simpler life. Alternatively, it refers to your social circle and support group. You are looking for a sense of belonging, but at the same time be self-sufficient and independent. Campus To dream that you are on a campus indicates your need to expand your thinking/knowledge and challenge yourself mentally. Can To see a can in your dream indicates that there is something in your past that you need to hold on to and preserve. The dream may also be a pun on how you \"can\" do something. Don't underestimate your abilities and talents. To see canned foods in your dream symbolizes the emotions that you are keeping inside. Can Opener To see a can opener in your dream indicates your willingness to accept new ideas and new concepts. It may also be a symbol of reassurance and a way to tell yourself that \"I can\" do something. Canada To dream that you are in Canada depends on your own personal associations with the country. If you have never been to Canada, then you will need to draw on your own preconceptions and feelings of the country. Canal To see a canal in your dream symbolizes restraint and constricted emotions. It also suggests that you are unyielding in your thinking and beliefs, which may hinder you in the pursuit of your goals. You are being too controlling. Canary To see a canary in your dream represents happiness and harmony. Alternatively, the dream could indicate your desires for a relationship or that a new relationship is blossoming. Cancel To dream that you are canceling an appointment or plans suggests that you are afraid to confront some matter. You don't want to face the facts. Dreaming that your flight was cancelled indicates that you are feeling helpless or trapped by some situation. You feel you are being held back, either physically or mentally. Cancer To dream that you have cancer denotes hopelessness, grief, self-pity, and unforgiveness. You feel you are wasting your life away. This dream also represents areas in your life which are bothering you, disturbing you, and hurting you in some emotional way. An emotional issue is eating away at you. To dream that you are being treated for cancer signifies a positive change in your life. To dream that someone has cancer indicates that you need to change your negative way of thinking before it eats away at you. Start being more positive. To dream that someone is a Cancer sign symbolizes your tendency to keep and hold on to everything. You have a lot of power and influence. The Cancer sign also indicates that you tend to be sensitive, moody and emotional. You are also very family oriented. Candle To see a burning candle in your dream signifies that good luck and hope will be coming your way in small and steady amounts. You are in a comfortable stage in your life and may be seeking spiritual enlightenment. Lit candles are also symbolic of intellect, enlightenment, awareness or the search for truth. To see an unlit candle denotes feelings of rejection or disappointments. You are not utilizing your fullest potential. If you try to light the candle, but it won't light, then it represents grief. You are in denial about something. To see a candle blow out in your dream indicates that you are surrendering a significant aspect of yourself. You are letting go of something that used to be important to you. To watch the candle burn down to nothing in your dream signifies your fears of aging and dying. Alternatively, it represents a fear of sexual impotence. To see a red colored candle in your dream symbolizes some intimate or romantic relationship. You may not be giving the relationship a fair chance and are dismissing it before you invested sufficient time to learn more about the other person. On the other hand, you may just not be feeling any chemistry or passion. Candle Wax To see candle wax in your dream indicates that there is too much activity going on in your life. You may need to slow down and take a breather. Alternatively, it may symbolize the passage of time. Candy To see or eat candy in your dream symbolizes the joys and the special treats in life. It also represents indulgence, sensuality and/or forbidden pleasure. You may be devoting too much time to unimportant issues. A more direct interpretation suggests that you are eating too much candy and sweets. Candy Apple To see or eat a candy apple in your dream is a reminder that you can have too much of a good thing. You need to show restraint in some area of your life. Cane To see or use a cane in your dream suggests that you are in need of some support and advice. The cane may also represent someone you trust and can rely on. To dream that you are being caned indicates that you are being forced into submission or obedience. Someone is trying make an example of you. Alternatively, the dream symbolizes self-guilt. To dream that you are caning someone signifies pent up aggression. Pay attention at who you are caning. You may harbor some ill feeling or anger toward this person. This person could also represent an aspect of your own self. Cannabis *Please See Marijuana . Canned Food To see or eat canned food in your dream implies that you are keeping your emotions bottled up inside. You feel that it is not the appropriate time to express your true desires. Cannibalism To see cannibalism in your dream symbolizes a destructive and forbidden desire or obsession. Metaphorically, cannibals consume people's lives, along with their energy. Thus, this dream may then denote an aspect of your life (career, relationship, children, etc ), which is consistently draining your enthusiasm and vitality. To dream that you are a victim of cannibalism represents feelings of being \"eating alive\" by work, a relationship or a situation in your waking life. Cannon To see a cannon in your dream suggests that there is something drastic that needs to be done immediately. According to the Freudian school of thought, the cannon symbolizes the penis. Cannonball To see a cannonball in your dream indicates that you are harboring some anger or aggression and it is weighing your down. Canoe To see a canoe in your dream represents serenity simplicity, and independence. It is also a reflection of your emotional balance. You are moving ahead via your own power and determination. Canopy To see a canopy in your dream symbolizes protection. You may also be elevated to a prominent position. Cantaloupe To see or eat cantaloupe in your dream implies that you put forth a tough image, but are sensitive on the inside. Metaphorically, cantaloupes can refer to the breasts. Canteen To see or use a canteen in your dream suggests that you are looking to easily and conveniently satisfy your emotional needs. Canvas To see a canvas in your dream symbolizes potential and possibilities, especially if the canvas is blank. Consider the significance of what is on the canvas, as it is an aspect of your subconscious. Canyon To see a canyon in your dream represents your subconscious mind and hidden feelings. It may point to emotions and relationships that you did not recognize. Cap To see a cap in your dream signifies informality and ease. It also suggests that you need to be more tolerant of others. Cap And Gown To wear a cap and gown in your dream indicates that you are transitioning into a higher level in your life. You are ready to move on to the next stage. To see someone in a cap and gown in your dream symbolizes your successes and accomplishments. Cape To see or dream that you are wearing a cape indicates that you are trying to shield yourself from being emotionally hurt. It may also mean that you are trying to cover-up or hide something. Capital Punishment *Please See Death Penalty. Capricorn To dream that someone is a Capricorn signifies fears of inadequacy. You are afraid that you are not measuring up. Alternatively, it denotes your drive, tenacity and ambition. Capsize To dream that your boat has capsized represents your avoidance in confronting uncomfortable feelings and/or situations. Captain To dream that you are a captain indicates that you are taking charge of your emotions and confronting the issues that are bothering you. To see a captain in your dream represents your powerful influence over others. Captive To dream that you are held captive suggests that you are feeling trapped in some aspect or circumstances of your waking life. You may feel trapped in your career, relationship or life in general. Alternatively, captivity dreams indicate something you are refusing to acknowledge or something that you are in denial about. Car To dream that you are driving a car denotes your ambition, your drive and your ability to navigate from one stage of your life to another. Consider how smooth or rough the car ride is. If you are driving the car, then you are taking an active role in the way your life is going. However, if you are the passenger, then you are taking a passive role. If you are in the backseat of the car, then it indicates that you are putting yourself down and are allowing others to take over. This may be a result of low self-esteem or low self-confidence.  Overall, this dream symbol is an indication of your dependence and degree of control you have on your life. Driving a new car means that you are headed toward a new direction or goal. You are deviating from your original life path. To dream that you drive your car into a body of water or that it rolls into water implies that you are in for an emotional journey. To see a car underwater in your dream points to feelings of regret or sadness over an abandoned goal. To dream that your car is buried suggests that you are feeling weary about pursing someone else's dreams instead of your own. You are afraid to let others down. To dream that your car flipped over or rolled over implies that some significant event is preventing you from achieving your goals. You feel that you have to put your own life on hold. To see or dream that a car is being crushed represents disappointments occurring in your waking life. You are lacking ambition and goals. To dream that your car won't start indicates that you are feeling powerless in some situation. To dream that you forget or can't find where you parked your car indicates that you are dissatisfied or unhappy with an aspect of your waking life. You do not know what you really want to do with your life or where you want to go. To dream that your car has been stolen indicates that you are being stripped of your identity.  This may relate to losing your job, a failed relationship, or some situation which has played a significant role in your identity and who you are as a person. If you dream that you are stealing a car, then it implies that you are trying to take credit for someone else's work. It may also mean that you are downplaying the role that others had in your success. To dream that your car is overheating suggests that you are expending too much energy. You need to slow down or run the risk of being burnt out. You are taking on more than you can handle. It is time to take a breather. To see a parked car in your dream suggests that you need to turn your efforts and energies elsewhere. You may be needlessly spending your energy in a fruitless endeavor. Alternatively, a parked car may symbolize your need to stop and enjoy life. To dream that you are almost hit or were ran over by a car suggests that your lifestyle, beliefs or goals may be in conflict with another's. It may also be symbolic of a jo lting experience or injured pride. If you dream that you hit or ran over someone with a car, then it implies that you have hurt someone in order to move ahead in life. To dream that you are unable to roll up the windows of your car suggests that  you are showing some hesitation and reservation about the direction that you are taking in life or the path that you have chosen. To see a haunted car in your dream represents unfinished goals. You had started off on a path or journey, but never reached the end. Perhaps life had taken you on a different direction that you had planned or intended. To dream that no one is driving a moving car suggests that you need to reassess your level of control over your life. You are unwilling to take responsibilities for your actions. To buy a car in your dream refers to your commitment to some important life decision you have made. To see or drive a car that looks like a cat refers to your free and independent spirit. If you are almost hit by a car that looks like a cat, then it suggests that you are hindering someone's goals or not letting them be who they are. If you dream of driving a black colored car, then it means that you like to be low-key about your intentions or goals. Driving a black color in a dream signify some ulterior motives. Dreaming of a car that is driving fast suggests that you need to slow down and think through your choices. You are so focused on your goals that you are leaving behind the people around you. Car Alarm To hear or set off a car alarm in your dream implies that you are headed on the wrong path. The dream is alerting you to change  your direction and alter your course. Car Battery To see your car battery in your dream symbolizes your stamina. To dream that your car battery is dead suggests that you are overwhelmed and overworked. You need to slow down and set some time for yourself or else run the risk of collapsing from exhaustion. Car Carrier To see a car carrier in your dream indicates that you are lacking direction and have no goal of your own. You are letting others make decisions for you. You are going with the flow. Car Dealership To see or dream that you are in a car dealership refers to some decision that you need to make about where you want to go in life. You are trying to figure out your life path. Car Seat To see an infant car seat in your dream implies that you are in control of someone else's direction or destiny in life. Alternatively, the dream refers to the beginning stages of your life journey. You are just getting started on an important path. Car Show To dream that you are at a car show suggests that you are drawn to a flashy lifestyle which may not necessarily be who you really are. To dream that you are showing off your car at a car show implies that you are proud of your accomplishments and achievements. You are seeking recognition for your work. Caramel To eat or lick caramel in your dream indicates a sweet and satisfying situation will eventually turn into \"sticky\" problem. If it sounds too good to be true, then it is really too good to be true. Caravan To dream that you are part of a caravan means that you will achieve your goals with the support of others. You do not need to do things by yourself. Carburetor To see the carburetor in your dream represents emotional, spiritual and physical balance. Carcass To see a carcass in your dream indicates that you are feeling emotionally torn. You feel that you are literally being ripped apart. Cardboard To see a cardboard box in your dream indicates a lack of protection against risk. Cardinal To see a cardinal in your dream represents vitality and happiness. It also may mean being in first place or your position at the front. Cards To dream that you are playing a game of cards represents your ability to strategize in various areas of your life. In particular, diamonds indicate wealth and materialism, clubs indicate work and industry, hearts indicate happiness in love, and spades indicate troubling times and disappointments. To dream that you are shuffling cards signifies indecision. You need to reevaluate your choices. In particular, dreaming of the king of heart card symbolizes a compassionate male figure in your life. It may also mean that you are that compassionate person. Cargo To dream that you are loading or carrying cargo refers to a heavy load that you are carrying around. You are feeling overburdened or overwhelmed. If you are unloading cargo in your dream, then it indicates that you are ready to rid yourself of the extra weight, negative habits and/or excesses that are holding you back. It is time to let go. Carjack To dream that you have been carjacked suggests that you have lost your direction in life. You feel that circumstances in your life has lead you on a different course. Carnation To see carnations in your dream symbolize light-heartedness, vitality and joy. Alternatively, it may represent bachelorhood. Consider the color of the carnation for additional significance. Carnelian To see a carnelian in your dream represents passion, lust, sexuality, or matters of the heart.  It also indicates a need for spiritual healing. Carnival To dream that you are at the carnival represents falsehoods and deception. If you observe freakish sights, then it denotes a lack of harmony in your domestic life. Much sorrow will arise in what were thought to be pleasant times. To dream that you are on a carnival ride suggests that you are going in circles. It may also symbolize cheap thrills. To dream that you run away with the carnival denotes that you will be involved in or closely connected to the entertainment field. Caroling To dream that you are caroling signifies joy, harmony and tranquility. You are in a festive and upbeat mood.  The dream may also be a pun on someone who is named \"Carol\". Carousel *Please see Merry Go Round. Carp To see a carp in your dream indicates that you need to put aside your pride and ego and not let it get in the way of friendships and relationships. Alternatively, the carp is symbolic of patience, perseverance, determination, tenacity, courage and success. Carpenter To see or dream that you are a carpenter indicates that you are confronting and overcoming your obstacles. Alternatively, it suggests that you need to change your way of thinking and readjust your attitude. Carpet To see a carpet in your dream represents your way of protecting yourself from life's harsh realities. Alternatively, a carpet symbolizes luxury, comfort or richness. Consider the condition and designs of the carpet and how it parallels the foundation that you have laid for yourself in life. Perhaps the dream is telling you that you are refusing to confront some issue and instead are sweeping it under the carpet? To dream that you are installing or laying down carpet suggests that you are trying to make your life more comfortable.  The dream may also be analogous to the planning of something. You are laying out  some new project or endeavor. To dream of a magic carpet implies your desires and wishes to escape from a situation, relationship, or responsibilities. The dream is similar to a flying dream, so you may want to look up flying. *Please See Also Red Carpet. Carriage To see an old-fashioned carriage in your dream suggests that your ways of thinking may be too outdated and antiquated. The carriage is also a symbol of power and status. Carrom Board To see or play with a Carrom Board in your dream implies that you need to focus on your goals. Alternatively, the dream indicates that you are trying to shield or protect a loved one from some problem or issue. Carrot To see a carrot in your dream signifies abundance and fertility. It may also symbolize a lure as in the idiom \"to dangle a carrot\". To eat a carrot in your dream indicates clarity. You are seeing something more clearly. Carry To dream that you are being carried suggests that you are feeling like a burden to somebody. You need to be more independent and take on more responsibilities. Alternatively, it may elude to romance. Cartoon To dream that your real life is depicted in a cartoon world suggests that you are perceiving the world in a comical and unserious manner. This dream may also serve as an escape from the stressful realities of your life. It is your way of obtaining moments of lightheartedness and fun. Additionally, you need to learn to laugh at yourself and at your mistakes. To dream that you are watching cartoons indicates that you are not taking life seriously. *Please See Also Cartoon Character. Cartwheels To dream that you are doing cartwheels represent poise and balance in your life or the need to regain balance. You need to handle life's obstacle and stress with more fortitude. To dream that you have difficulties doing cartwheels suggest that you do not have confidence in your own abilities. It may also mean that you are lacking discipline and are exhibiting some struggles in your life. There is an imbalance between work and pleasure. Carving To dream that you are carving a piece of wood symbolizes spiritual and creative energy. Metaphorically, you are transforming subconscious energy into conscious awareness. Consider whether the carving is purely ornamental or utilitarian. To dream that you are carving some meat indicates that you are trying to rid yourself of certain feelings. You may be distancing yourself from your emotions and analyzing them from an objective standpoint. Alternatively, some person or situation is violating an aspect of your life. Carwash To dream that you are at a carwash indicates that you need to clean up your self-image. You are ready for a fresh start. Cash *Please See Money. Cash Register To see a cash register in your dream represents financial worries and concerns. You are assessing your financial situation. On the other hand, you may be expecting monetary gains. Cashier To see or dream that you are a cashier indicates that you are re-evaluating your life and what you have accomplished.  Alternatively, it suggests that you have removed yourself out of some situation. You have \"checked out\". Cashmere To feel or wear cashmere in your dream symbolizes luxury. You strive for the finer things in life. Alternatively, dreaming of cashmere suggests that you are looking for warmth and comfort in your relationships. Casino To dream that you are in a casino signifies the risk-taker within you. If you are a reserved or passive person, then the dream suggests that you should take a chance. If you are not, then it implies that you need to make a more informed decision instead of relying on fate. Casket To see a casket in your dream symbolizes the womb. It also signifies your thoughts and fears of death. If the casket is empty, then it denotes irreconcilable differences. Alternatively, the coffin represents ideas and habits that are no longer of use and can be buried. In particular, if the casket is white, then it refers to lost innocence. To see a body in a casket in your dream signifies that you are going through a period of depression. You may feel confined, restricted and that you are lacking personal freedom. There may be a dead or decaying situation or issue in your life that you need to address. It is time to end this situation or relationship. Casserole To dream you are making a casserole symbolizes new ideas or a new phase in your life. Cassette Tape To see a cassette tape in your dream suggests that there is worth and truth in what you are saying. Alternatively, the dream means that you need to get out of the same rut. You are going around in a loop. Cassowary To see a cassowary in your dream refers to your shy nature. You try to avoid confrontation and arguments. Cast To dream that you are wearing a cast suggests that your motion is being inhibited in some way. Or that you need to show some restraint in an area of your life. Consider which part of the body is in a cast. Alternatively, a cast symbolizes a time of healing and discipline. Castanets To see, hear or play with castanets in your dream  represents little annoyances and irritations in your waking life. Alternatively, the dream may be a metaphor that you need to \"cast-a-net\". Perhaps you are looking for some assistance. Castle To see a castle in your dream signifies reward, honor, recognition, and praise for your achievements. You are destined to a position of power, wealth, and prestige. Alternatively, the dream indicates your desire to escape from life's daily problems. To dream that you live in a castle represents your extreme need for security and protection to the point where you may be isolating yourself from others. Perhaps the dream parallels a waking situation where it  has put you on the defensive. To see a castle door in your dream indicates that you have missed a huge and/or profitable opportunity, especially if you are standing outside the castle door. If you are standing inside the castle door, then it means that you have let your success and ego distance you from others. Castration To dream of a castration signifies your overwhelming fears that you have lost your virility. You are feeling the pressures of your sexual performance. Alternatively, it represents a lack of creativity, power or strength.;\\nTo see a zebra in your dream represents perfect balance, unity and harmony. It also indicates that opposites attract. Alternatively, a zebra suggests that you are spending too much time in trivial matters. You need to establish a clear timeline and lay your groundwork for success.;\\nTo see or wear a tampon in your dream signifies aggression. You are experiencing some tension that needs to be released. Alternatively, the dream may also be analogous to the phallus.;\\nTo dream that you in a junkyard represents fear, frustration, and anger which you have repressed and kept inside.  It may also symbolizes your discarded attitudes, old habits, and former beliefs.;\\nTo see a passport in your dream represents your identity and your ability to traverse through various situations. You are experiencing new found freedom to do what you want and go where you want. You may be going through a period of self-discovery.;\\nTo feel or wear cashmere in your dream symbolizes luxury. You strive for the finer things in life. Alternatively, dreaming of cashmere suggests that you are looking for warmth and comfort in your relationships.;\\nTo dream that you are getting acupuncture suggests that you are in need of healing. You may need to divert your energies to different pursuits. Alternatively, the dream may be a metaphor for a problem or issue that you need to pinpoint."
        ],
        [
         "3",
         "Given dream description and dream symbols below, \nExplain what this dream means. \nUse the dream symbols to help you interpret the dream. ",
         "I was driving my car down a hill. There was snow on the ground. It stalled by Elyria garage and I let it park in front of the door, blocking it. I had to go to work, so I left it there. After work I came there and didn't see the car. I went into the garage and it was there. I told Joe to fix it. When he opened the trunk door, the trunk was full of ashes. He told me to take out the ashes, so I got a shovel and went to work. He showed me the rusted body with holes in it.",
         "To see a Barbie doll in your dream represents society's ideals.  You may feel that you are unable to meet the expectations of others.  Alternatively, the Barbie doll refers to the desire to escape from daily responsibilities. It may serve to bring you back to your childhood where life was much simpler and more carefree.;\\nTo see or dream that you have a nanny implies that you are feeling overwhelmed. You feel that certain aspects of yourself are being neglected.;\\nTo see Voldemort in your dream symbolizes an ever-present evil force working against you.;\\nTo hear knocking in your dreams suggests that your subconscious is trying to attract your attention to some aspect of yourself or to some waking situation. A new opportunity may be presented to you. Alternatively, the dream may be a pun that you are \"knocking\" on or insulting something or someone. Or perhaps there is a habit or behavior that you to stop or \"knock it off\".;\\nTo dream that you are telekinetic represents a higher level of awareness and consciousness. You are not utilizing your full potential and need to start putting your stored energy levels and mental abilities to use. In other words, you need to put your thoughts into action. For some, dreams of telekinetic powers may indicate your latent paranormal abilities.;\\nTo see emoticons in your dream represents your range of emotions. You are feeling emotionally overwhelmed. Alternatively, dreaming of emoticons suggests that your feelings are being trivialized or that someone is discounting how you feel.;\\nTo see gasoline in your dream represents energy and spirituality. Thus, to dream that you run out of gas suggests that you are wearing yourself out. Take a time out.;\\nTo see or wear a tampon in your dream signifies aggression. You are experiencing some tension that needs to be released. Alternatively, the dream may also be analogous to the phallus.;\\nTo see a scarf in your dream symbolizes self-restrictions. You may be too controlling of your emotions instead of expressing them. Alternatively, you feel that your voice is being muffled.;\\nTo dream that you are a victim of identity theft means that someone in your waking life is taking credit for your work.  Alternatively, you may be having this dream because you are experiencing an identity crisis. You feel lost and not sure where you are headed."
        ],
        [
         "4",
         "Given dream description and dream symbols below, \nExplain what this dream means. \nUse the dream symbols to help you interpret the dream. ",
         "There is the theater. A man asks if there is a donut shop nearby and where. I tell him where and he goes. A woman comes by and asks the same question. I lead her halfway there and she goes the rest of the way. Before long I hear her frantic screams for help. I know that the man I talked to earlier is to blame. Swallowing my fear, I run in the direction of her screams, also shouting for help.",
         "To see Harley Quinn in your dream points to an unhealthy, abusive relationship. Alternatively, the dream may indicate that you are blind to something that everyone else is clearly seeing. You are living in your own reality.;\\nTo see your own elbow in your dream indicates that you need to make a space for yourself. Your dream may express hesitance or fear in creating your own space for fear of being scrutinized. Alternatively, the dream may be a pun on your need to put more \"elbow grease\" on some task.;\\nTo dream that you are at a banquet indicates that you are emotionally malnourished. You are seeking emotional stimulation.;\\nTo see a weta in your dream signifies your fear of the unknown. Sometimes what you don't know is a source of anxiety and stress. You are worrying too much about minor issues.  Alternatively, dreaming of a weta represents your roots.;\\nTo see a Cadillac in your dream suggests that you are driven to succeed. Your ambition will take you far in life.;\\nTo dream that you are bankrupt indicates that you need to start taking measures to protect  yourself and your resources. You may be feeling emotionally drained or physically overworked. The dream may be a sign of depression. Alternatively, to dream that you are bankrupt symbolizes feelings of insecurity.;\\nTo see or use a knocker in your dream symbolizes opportunities and welcomed expectations. You are seeking for assistance and spiritual guidance. On a negative note, to see a knocker in your dream signifies repressed thoughts, death, and dreaded expectations. It is a bad omen.;\\nTo dream that you are in school signifies feelings of inadequacy and childhood insecurities that have never been resolved. It may relate to anxieties about your performance and abilities. If you are still in school and dream about school, then the dream may just be a reflection of your daily life and has no special significance.;\\nTo see an umbrella in your dream symbolizes emotional security. You are putting up a shield against your emotions and are trying to avoid dealing with them. If the umbrella is leaking or broken, then it indicates that you are unprepared with facing your problems.;\\nTo dream that you are getting a manicure represents glamour and beauty. You are seeking attention for the work you have done. You may also be expressing something beautiful and positive through your work."
        ],
        [
         "5",
         "Given dream description and dream symbols below, \nExplain what this dream means. \nUse the dream symbols to help you interpret the dream. ",
         "Tyler and Jerome are in a bedroom together. They are breaking up, arguing and upset. I interrupt them because Grandma Mildred has requested shaving equipment so she can shave Grandpa Lloyd. I ask if I can borrow one from them. They are very annoyed with me and glare, but Tyler gives me his mug and straight razor. I am concerned if Grandma can use it safely.",
         "To see or eat jelly in your dream represents insight into a situation you have been wondering about. The dream may be a metaphor for something that is finally taking shape. You have come to some understanding. Alternatively, it indicates that you are preserving or maintaining a sweet relationship.;\\nTo dream that you are playing an online game indicates that you are trying to escape from the stresses in your daily life. You want to be someone else. You want to be in control. Alternatively, dreaming about an online game may simply mean that you are spending so much time playing the game that the images have drifted into your dreams.;\\nIf you are not an immigrant and dream that you or someone is an immigrant, then it implies that you are acknowledging an aspect of yourself that was unexpressed. If you are helping an illegal immigrant in your dream, then it means acceptance.  Alternatively, the dream may reflect your waking experience as an immigrant. Or it may refer to the experiences of your parents or ancestors. Consider how you or they feel as an immigrant and what they endured or went through.;\\nTo dream that you have been sabotaged indicates that there is something that you are ignoring or overlooking in your waking life.;\\nTo see uprooted plants in your dream indicate that you are out of balance. You may be feeling disconnected or distant from others. It may also represent broken family connections or failed attempts in reestablishing familial ties.;\\nTo see or dream that you are a zombie suggests that you are physically and/or emotionally detached from people and situations that are currently surrounding you. You are feeling out of touch. Alternatively, a zombie means that you are feeling dead inside. You are just going through the motions of daily living.;\\nTo see or use a water bottle in your dream indicates that you are keeping your hopes up about something.  It also means spiritual renewal and rejuvenation.;\\nTo discover secret passageways in your dream parallel to something new and/or exciting that is occurring in your waking life. It refers to a new opportunity, a new relationship, or a new attitude toward life. If you wake up before fully exploring these passageways, then it suggest that you may not know how to take advantage of these opportunities or how to move forward with a relationship. Perhaps the newness and uncertainty of this discovery also makes you a little more cautious. Overall, this is a positive dream.;\\nTo see a koala in your dream represents your link the physical world, the subconscious, and the spiritual realm. The koala also symbolizes security, nurturance, protection, and/or feminine qualities. You may be expressing a desire to regress back into infantile dependence and escape from your daily responsibilities/problems.;\\nTo dream about your neighborhood represents a sense of community. You need to develop new friends and new ties. Consider your waking feelings toward your neighbors."
        ],
        [
         "6",
         "Given dream description and dream symbols below, \nExplain what this dream means. \nUse the dream symbols to help you interpret the dream. ",
         "I was in a floral shop and all these birds (blue jays) came in and started eating the flowers. The store owner came in and started screaming. Then I woke up. Setting: An old store that sold flowers. Characters: An old female store owner, blue jays, and myself. Feelings and Thoughts: Other. I felt kind of startled when she came out screaming.",
         "To dream of fancy things indicates that you are putting up a facade and hiding your true self. You are trying to divert attention to unimportant things.;\\nTo see the jaws of an animal in your dream indicate a misunderstanding. It may also mean that you are rushing into things. Alternatively, the dream suggests that someone or some situation is taking a large bite of your time, energy or some aspect of yourself.;\\nTo dream of a war signifies disorder and chaos in your waking life You are experiencing some internal conflict or emotional struggle which is tearing you up inside. Alternatively, the dream indicates that you are either being overly aggressive or that you are not being assertive enough. Perhaps you need to be prepared to put up a fight in some area of your life. On a more direct level, the dream may be reflection of current wars around the world and your personal feelings about it.;\\nTo see a lake in your dream signifies your emotional state of mind. You feel restricted and that you can't express your emotions freely. Alternatively, the lake may provide you with solace, security, and peace of mind. If the lake is clear and calm, then it symbolizes your inner peace. If the lake is disturbed, then you may be going through some emotional turmoil.;\\nTo see uprooted plants in your dream indicate that you are out of balance. You may be feeling disconnected or distant from others. It may also represent broken family connections or failed attempts in reestablishing familial ties.;\\nTo see or eat eggplants in your dream signify satisfaction with where you life is at.  It may indicate abundance or fertility. Eggplants are also symbolic of loyalty, passion and devotion.;\\nTo dream that you are in a village represents restrictions. You need to follow the rules. Alternatively, a village signifies community, simplicity, and tradition.;\\nTo see your teacher (past or present) in your dream suggests that you are seeking some advice, guidance, or knowledge. You are heading into a new path in life and are ready to learn by example or from a past experience. Consider your own personal experiences with that particular teacher. What subject was taught? Alternatively, a teacher relates to issues with authority and seeking approval. You may be going through a situation in your waking life where you feel that you are being treated like a student or in which you feel you are being put to a test. Also pay attention to the demeanor and attitude of the teacher in your dream. If the teacher in your dream is mean, then it implies that you may be putting too much pressure on yourself to succeed.;\\nTo     see or ride on a kick scooter in your dream implies that you are trying to     balance various areas of your life. The dream also means that you need to be     decisive in what you are doing.;\\nTo dream that you or others are adopting a child indicates that you are taking on something new and different. Ask yourself what is missing in your life that would make you happy."
        ],
        [
         "7",
         "Given dream description and dream symbols below, \nExplain what this dream means. \nUse the dream symbols to help you interpret the dream. ",
         "I was among some girls about 10 years old. I was tempted to touch them sexually. A plastic balloon shaped like a crotch was by me, and I felt it. I was dismayed because I had been tempted. I wanted to convince the doctors at the hospital where I was confined that I could control myself if they released me. I said to a doctor, \"Is that why you won't let me go?\" I pondered deeply on how I could rechannel my mental energy toward creative endeavors.",
         "To see a weta in your dream signifies your fear of the unknown. Sometimes what you don't know is a source of anxiety and stress. You are worrying too much about minor issues.  Alternatively, dreaming of a weta represents your roots.;\\nTo see a yak in your dream represents your uniqueness and dependability. The yak may also be a pun on \"yakking\" too much. Maybe you should stop talking and listen more.;\\nTo see a castle in your dream signifies reward, honor, recognition, and praise for your achievements. You are destined to a position of power, wealth, and prestige. Alternatively, the dream indicates your desire to escape from life's daily problems.;\\nTo see or eat a tangerine in your dream implies that you are in need of a quick and easy boost of energy.;\\nTo dream that you have been rear ended indicates that something from your past is still impacting your present situation. You need to learn from the past in order to move forward.;\\nTo dream that you are breaking out of jail refers to your desire or need to escape from a restrictive situation or relationship. Alternatively, dreaming of a jailbreak means that you are refusing to accept the consequences of your actions.;\\nTo dream that you are taming an animal symbolizes your control over your animalistic urges.  You are experiencing balance and harmony.;\\nTo dream that you are being indifferent suggests that you are trying to hide your true concerns. You do not want to let on that you care or that you really feel a certain way.;\\nTo see a fairy in your dream indicates that you are in search of some help or advice for a problem or decision, but may not want to directly admit you need help. In particular, if the fairy is evil, then it suggests that an aspect of yourself needs to be set free.  The fairy is also symbolic of your soul and the feminine aspects of yourself.;\\nTo see or dream that you are a park ranger represents control of your subconscious. You are also keeping your emotions in check."
        ],
        [
         "8",
         "Given dream description and dream symbols below, \nExplain what this dream means. \nUse the dream symbols to help you interpret the dream. ",
         "Two nuclear subs are fighting and are going to blow. I start running away so I can escape radiation fallout. I run toward the coast range, up and up and up. Then I'm running up a narrow stairs to an attic. Something scary is after me. I lock the two doors on the stairwell and hide under debris in the attic near a window where I can look out and see the danger.",
         "To see or viola in your dream represents your deeper, darker and more melancholy feelings.;\\nTo see an electricity tower in your dream symbolizes a distribution of power. You do not need to always be in full control. You need to delegate responsibilities and duties. Alternatively, the dream symbolizes industry and modernity.;\\nTo dream that you are at a farmer's market suggests that you are looking for spiritual enrichment from a higher source.;\\nTo dream that you are carrying a knife signifies anger, aggression and/or separation. There may be something in your life that you need to cut out and get rid of.  Perhaps you need to cut ties or sever some relationship. Be more divisive. Alternatively, a knife refers to some sexual tension or sexual confrontation.;\\nTo dream of having an abundance of a certain item indicates that you need to conserve your resources and energies. This dream may be a compensatory dream for something that you are lacking in life. More directly, abundance signifies happiness.;\\nTo see a maple in your dream symbolizes humility, warmth, and openness. It also indicates positive gains, happiness and fullness of life.;\\nTo dream that you are in the Wild West represents your resourcefulness and survival skills. Alternatively, the dream implies that you may be over-thinking a problem. Sometimes simplicity is the way to go. Being in the Wild West also indicates that you need to be more straightforward about your feelings, intentions or goals.;\\nTo see or wear a pantyhose in your dream represents alluring sexuality. Consider the color of the pantyhose. If it is nude or beige color, then it signifies your discreteness. If it is black, then it symbolizes your hidden sexuality waiting to be expressed. If it is red, then it represents overt sexuality. If the pantyhose is torn or have a run, then it indicates lacking self esteem and reduced self confidence.;\\nTo dream that you are changing into the form of an animal indicates that you are becoming less civilized, less restrained and becoming more free and instinctive. You may be expressing your newfound freedom/independence and experiencing a lack of boundaries. Alternatively, taking the form of an animal suggests that your primal desires and/or repressed sexual urges are coming to the surface and needing to be satisfied. Consider also the animal that your turn into.;\\nTo dream that you are at the mall symbolizes the choices, decisions and options you have in your waking life. These choices will help shape who you are as a person. You are trying to establish your identity and sense of self. Alternatively, the dream suggests that you are trying to make a favorable impression on someone. The mall is also symbolic of materialism and the need to keep up with the trends, fads, and/or the latest technology. Consider the type and name of stores that you see in your dreams."
        ],
        [
         "9",
         "Given dream description and dream symbols below, \nExplain what this dream means. \nUse the dream symbols to help you interpret the dream. ",
         "I went to some place with Dad and I ordered chocolate chip pancakes with chocolate sauce (which meant chocolate ice-cream). When it was delivered it was a small piece of something and it had corn in it. I said I couldn't complain and Dad wouldn't complain for me. There was something to do with David Anders.",
         "To dream of a baby shower suggests that you are welcoming a new start. You are given a chance to start over again and do things differently this time around. You have a new found faith in life itself.;\\nTo see yourself in your dream is a reflection of how you act and behave in your waking life. Consider what you are doing and how you are feeling in the dream for additional significance.;\\nTo dream that you are playing an online game indicates that you are trying to escape from the stresses in your daily life. You want to be someone else. You want to be in control. Alternatively, dreaming about an online game may simply mean that you are spending so much time playing the game that the images have drifted into your dreams.;\\nTo see a mammoth in your dream implies that you need to let go of some past emotions. You are letting your cold hard feelings control your behavior. Perhaps you are being too frigid. Alternatively, a mammoth symbolizes power, size and/or strength.;\\nTo see a garland in your dream represents wholeness and completeness.;\\nTo see a new house in your dream indicates that you are taking on a new identity and developing new strengths. You are becoming more emotionally mature.;\\nTo dream that you are being chased or stalked by the paparazzi indicates that your privacy is being violated. You feel that your own identity is lost. Alternatively, the dream represents your aspirations for fame.;\\nTo dream that you are saying farewell signifies an end to some relationship or phase in your life.;\\nTo dream of your back represents your attitudes, strengths, burdens and stance in the world. It may also relate to stress and pressure that someone is putting on you.;\\nTo see a lamppost in your dream indicates that light needs to be shed on some dark situation. Alternatively, the dream suggests that you are coming out of a depressing or gloomy phase."
        ]
       ],
       "shape": {
        "columns": 3,
        "rows": 10
       }
      },
      "text/html": [
       "<div>\n",
       "<style scoped>\n",
       "    .dataframe tbody tr th:only-of-type {\n",
       "        vertical-align: middle;\n",
       "    }\n",
       "\n",
       "    .dataframe tbody tr th {\n",
       "        vertical-align: top;\n",
       "    }\n",
       "\n",
       "    .dataframe thead th {\n",
       "        text-align: right;\n",
       "    }\n",
       "</style>\n",
       "<table border=\"1\" class=\"dataframe\">\n",
       "  <thead>\n",
       "    <tr style=\"text-align: right;\">\n",
       "      <th></th>\n",
       "      <th>prompt</th>\n",
       "      <th>dream</th>\n",
       "      <th>symbols</th>\n",
       "    </tr>\n",
       "  </thead>\n",
       "  <tbody>\n",
       "    <tr>\n",
       "      <th>0</th>\n",
       "      <td>Given dream description and dream symbols belo...</td>\n",
       "      <td>I saw Seventec. It was a woman standing in a s...</td>\n",
       "      <td>To see a barrister with a white wig in your dr...</td>\n",
       "    </tr>\n",
       "    <tr>\n",
       "      <th>1</th>\n",
       "      <td>Given dream description and dream symbols belo...</td>\n",
       "      <td>I call one of my friends. I am in my old room ...</td>\n",
       "      <td>To dream that you are under narcosis is an ind...</td>\n",
       "    </tr>\n",
       "    <tr>\n",
       "      <th>2</th>\n",
       "      <td>Given dream description and dream symbols belo...</td>\n",
       "      <td>I had left my house and I was going down the s...</td>\n",
       "      <td>To see or eat jelly in your dream represents i...</td>\n",
       "    </tr>\n",
       "    <tr>\n",
       "      <th>3</th>\n",
       "      <td>Given dream description and dream symbols belo...</td>\n",
       "      <td>I was driving my car down a hill. There was sn...</td>\n",
       "      <td>To see a Barbie doll in your dream represents ...</td>\n",
       "    </tr>\n",
       "    <tr>\n",
       "      <th>4</th>\n",
       "      <td>Given dream description and dream symbols belo...</td>\n",
       "      <td>There is the theater. A man asks if there is a...</td>\n",
       "      <td>To see Harley Quinn in your dream points to an...</td>\n",
       "    </tr>\n",
       "    <tr>\n",
       "      <th>5</th>\n",
       "      <td>Given dream description and dream symbols belo...</td>\n",
       "      <td>Tyler and Jerome are in a bedroom together. Th...</td>\n",
       "      <td>To see or eat jelly in your dream represents i...</td>\n",
       "    </tr>\n",
       "    <tr>\n",
       "      <th>6</th>\n",
       "      <td>Given dream description and dream symbols belo...</td>\n",
       "      <td>I was in a floral shop and all these birds (bl...</td>\n",
       "      <td>To dream of fancy things indicates that you ar...</td>\n",
       "    </tr>\n",
       "    <tr>\n",
       "      <th>7</th>\n",
       "      <td>Given dream description and dream symbols belo...</td>\n",
       "      <td>I was among some girls about 10 years old. I w...</td>\n",
       "      <td>To see a weta in your dream signifies your fea...</td>\n",
       "    </tr>\n",
       "    <tr>\n",
       "      <th>8</th>\n",
       "      <td>Given dream description and dream symbols belo...</td>\n",
       "      <td>Two nuclear subs are fighting and are going to...</td>\n",
       "      <td>To see or viola in your dream represents your ...</td>\n",
       "    </tr>\n",
       "    <tr>\n",
       "      <th>9</th>\n",
       "      <td>Given dream description and dream symbols belo...</td>\n",
       "      <td>I went to some place with Dad and I ordered ch...</td>\n",
       "      <td>To dream of a baby shower suggests that you ar...</td>\n",
       "    </tr>\n",
       "  </tbody>\n",
       "</table>\n",
       "</div>"
      ],
      "text/plain": [
       "                                              prompt  \\\n",
       "0  Given dream description and dream symbols belo...   \n",
       "1  Given dream description and dream symbols belo...   \n",
       "2  Given dream description and dream symbols belo...   \n",
       "3  Given dream description and dream symbols belo...   \n",
       "4  Given dream description and dream symbols belo...   \n",
       "5  Given dream description and dream symbols belo...   \n",
       "6  Given dream description and dream symbols belo...   \n",
       "7  Given dream description and dream symbols belo...   \n",
       "8  Given dream description and dream symbols belo...   \n",
       "9  Given dream description and dream symbols belo...   \n",
       "\n",
       "                                               dream  \\\n",
       "0  I saw Seventec. It was a woman standing in a s...   \n",
       "1  I call one of my friends. I am in my old room ...   \n",
       "2  I had left my house and I was going down the s...   \n",
       "3  I was driving my car down a hill. There was sn...   \n",
       "4  There is the theater. A man asks if there is a...   \n",
       "5  Tyler and Jerome are in a bedroom together. Th...   \n",
       "6  I was in a floral shop and all these birds (bl...   \n",
       "7  I was among some girls about 10 years old. I w...   \n",
       "8  Two nuclear subs are fighting and are going to...   \n",
       "9  I went to some place with Dad and I ordered ch...   \n",
       "\n",
       "                                             symbols  \n",
       "0  To see a barrister with a white wig in your dr...  \n",
       "1  To dream that you are under narcosis is an ind...  \n",
       "2  To see or eat jelly in your dream represents i...  \n",
       "3  To see a Barbie doll in your dream represents ...  \n",
       "4  To see Harley Quinn in your dream points to an...  \n",
       "5  To see or eat jelly in your dream represents i...  \n",
       "6  To dream of fancy things indicates that you ar...  \n",
       "7  To see a weta in your dream signifies your fea...  \n",
       "8  To see or viola in your dream represents your ...  \n",
       "9  To dream of a baby shower suggests that you ar...  "
      ]
     },
     "execution_count": 82,
     "metadata": {},
     "output_type": "execute_result"
    }
   ],
   "source": [
    "dataset = []\n",
    "\n",
    "prmt = \"\"\"Given dream description and dream symbols below, \n",
    "Explain what this dream means. \n",
    "Use the dream symbols to help you interpret the dream. \"\"\".replace(\"\\n\", \" \")\n",
    "\n",
    "rs = 42\n",
    "\n",
    "for ex in exmpl:\n",
    "    item = {\n",
    "        \"prompt\": prmt, \n",
    "        \"dream\": ex,\n",
    "        \"symbols\": r\";\\n\".join(keywords_df[\"Interpretation\"].sample(10, random_state=rs).values),\n",
    "        }\n",
    "    dataset.append(item)\n",
    "    rs += 1\n",
    "    \n",
    "\n",
    "dataset = pd.DataFrame(dataset)\n",
    "dataset\n"
   ]
  },
  {
   "cell_type": "code",
   "execution_count": 83,
   "id": "543dc920",
   "metadata": {},
   "outputs": [
    {
     "data": {
      "text/plain": [
       "290    To dream that you are doing a handstand refers...\n",
       "709    To see a table in your dream represents social...\n",
       "185    To see an electric fence in your dream indicat...\n",
       "537    To see a lit oil lamp in your dream symbolizes...\n",
       "761    To see an umbrella in your dream symbolizes em...\n",
       "199    Emotions expressed in dreams are a way for you...\n",
       "838    To receive a warning in your dream indicates t...\n",
       "41     To see or eat a bagel in your dream  suggests ...\n",
       "645    To dream that you are sad suggests that you ne...\n",
       "778    To see urine in your dream represents the feel...\n",
       "Name: Interpretation, dtype: object"
      ]
     },
     "execution_count": 83,
     "metadata": {},
     "output_type": "execute_result"
    }
   ],
   "source": [
    "keywords_df[\"Interpretation\"].sample(10)"
   ]
  },
  {
   "cell_type": "code",
   "execution_count": 84,
   "id": "b66d4183",
   "metadata": {},
   "outputs": [
    {
     "data": {
      "application/vnd.microsoft.datawrangler.viewer.v0+json": {
       "columns": [
        {
         "name": "index",
         "rawType": "int64",
         "type": "integer"
        },
        {
         "name": "prompt",
         "rawType": "object",
         "type": "string"
        },
        {
         "name": "dream",
         "rawType": "object",
         "type": "string"
        },
        {
         "name": "symbols",
         "rawType": "object",
         "type": "string"
        }
       ],
       "conversionMethod": "pd.DataFrame",
       "ref": "86acf717-6bab-4902-a9b4-3585b51dbc6c",
       "rows": [
        [
         "0",
         "Given dream description and dream symbols below, \nExplain what this dream means. \nUse the dream symbols to help you interpret the dream. ",
         "I saw Seventec. It was a woman standing in a show window among shoes. I saw a big man in bed. I saw a horse coming towards us. I was piloting an airplane. It was so simple. I saw a large plane take off and the pilot had it fly upside down as he walked on its surface.",
         "To see a barrister with a white wig in your dream symbolizes wisdom and knowledge. The barrister may be a variation of the \"wise old man\" figure. You are looking for guidance and help in some area of your life.  Perhaps you are making an important decision.;\\nTo see ferns in your dream symbolize your future hopes and fears. It also represent solitude.;\\nTo see a landfill in your dream represents ideas that you have discarded. It also refers to rejected aspects of yourself or of someone's character. You may be trying to confront or come to terms with these rejections.;\\nTo see a koi fish in your dream indicates that you need to put aside your pride and ego and not let it get in the way of friendships and relationships. Alternatively, the koi fish is symbolic of patience, perseverance, determination, ambition, tenacity, courage and success. The koi serves as a reminder that you will overcome life's obstacles and adversities.;\\nTo play or watch a badminton game in your dream indicates that you need to make a decision quickly or else opportunities will pass you by.  You need to learn to keep up.;\\nTo see a Satyr or dream that you are a Satyr suggests that you are seeking sexual freedom. It is symbolic of male fertility and masculine sexual power. Alternatively, the dream indicates that you need to integrate aspects of your mind and your body. Or that you need to be more in tune with your environment. Satyrs are also       known for their carefree nature and so dreaming about them may imply that       you need to be more carefree.;\\nTo see your teacher (past or present) in your dream suggests that you are seeking some advice, guidance, or knowledge. You are heading into a new path in life and are ready to learn by example or from a past experience. Consider your own personal experiences with that particular teacher. What subject was taught? Alternatively, a teacher relates to issues with authority and seeking approval. You may be going through a situation in your waking life where you feel that you are being treated like a student or in which you feel you are being put to a test. Also pay attention to the demeanor and attitude of the teacher in your dream. If the teacher in your dream is mean, then it implies that you may be putting too much pressure on yourself to succeed.;\\nTo see or dream that you are in a car dealership refers to some decision that you need to make about where you want to go in life. You are trying to figure out your life path.;\\nTo see or eat cabbage in your dream suggests that you should not waste time with petty things in your life. You live and thrive on life's challenges. Alternatively, the dream refers to your unwise choices or decisions. You need to rethink some of your decisions.;\\nTo see calla lilies in your dream symbolize new beginnings, rebirth and longevity. In particular, a white calla lily represents purity, simplicity or elegance. Alternatively, the calla lily refers to a commitment."
        ],
        [
         "1",
         "Given dream description and dream symbols below, \nExplain what this dream means. \nUse the dream symbols to help you interpret the dream. ",
         "I call one of my friends. I am in my old room in my home town, except it was in a new house by the beach. I had finals coming up, but it was such a nice day that I went outside. There was a beautiful tapestry monument. I went back inside as my friends came over to BBQ. I was happy and called everyone I knew.",
         "To dream that you are under narcosis is an indication that you are trying to suppress your emotions instead of confronting them. You may be trying desperately to avoid a problem or situation in your waking life. Or you may be trying to refuse to take responsibility for your actions.;\\nTo see or play with a yoyo in you dream signifies the ups and downs of your life. Alternatively, the dream indicates that you are not taking life's issues and problems seriously enough. You see things too trivially.;\\nTo see a wall in your dream signifies limitations, obstacles and boundaries. There is a barrier obstructing your progress. Alternatively, the wall indicates that you are too accustomed to your old habits and way of thinking. You feel stuck. If you dream of blood on the walls, then it is a warning of sorts. There is a situation that you need to confront. You can not avoid it any longer.;\\nTo see or taste some sort of sauce in your dream represents your sense of wisdom and intellect. Consider the color and flavor of the sauce for additional significance.;\\nTo see a vulture in your dream symbolizes purification and insight. It suggests that your past experiences will provide you with invaluable insight into a current situation or problem. Learn from your past. Alternatively, a vulture indicates that  you or someone is being opportunistic. Someone is watching you and is waiting for you to take a misstep. You feel that someone is taking advantage of you or is using you. Consider the metaphor of someone who is a \"vulture\". Sometimes a vulture is also a symbol of death, doom or rebirth.;\\nTo speak with an accent in your dream suggests that you are having difficulties conveying your thoughts. Consider how you feel about the accent. If you feel the accent makes you stand out in a negative way, then it signifies feelings of insecurities. If the accent makes you stand out in a positive way, then it symbolizes an air of confidence.;\\nTo dream that you are wearing headphones indicate that you are the only one getting the message. Furthermore, it means that you are in tune with your intuition.;\\nTo see or eat a macaroon in your dream represents a well-rounded experience. You are successfully balancing different aspects of your life.;\\nTo dream that you are being accused of something indicates overwhelming feelings of guilt.  It may also mean that you are having some doubts about yourself and the choices you are making.;\\nTo dream of mahogany wood refers to your stubbornness."
        ],
        [
         "2",
         "Given dream description and dream symbols below, \nExplain what this dream means. \nUse the dream symbols to help you interpret the dream. ",
         "I had left my house and I was going down the steps in back, when someone came and told me that the negroes had revolted. The rest of the dream I spent hiding from them. Interpretation I don't know Answers to questions 2. afraid3. actual participant4. unpleasant5. yard back of house6. no7. no",
         "To see or eat jelly in your dream represents insight into a situation you have been wondering about. The dream may be a metaphor for something that is finally taking shape. You have come to some understanding. Alternatively, it indicates that you are preserving or maintaining a sweet relationship.;\\nTo dream that something is rare indicates that you need to appreciate certain things. Consider the symbolism or significance of the rare object or event. Don't take things for granted.;\\nTo dream that you are a hairdresser suggests that you are imposing your ideas and opinions on others.  Perhaps you need to work on your self-image and improve on your image. Alternatively, it refers to your attitude toward your own sexuality.;\\nTo dream that you are hailing a cab suggests that you need to ask for help in order to be able to move forward in some waking situation. To dream that you are in a cab indicates that you are being taken for a ride. Someone is taking advantage of you. Cabana To see or dream that you are in a cabana signifies your need for an escape or vacation. You may be feeling overwhelmed by a waking problem and need some downtime. Cabaret To watch a cabaret in your dream indicates your need to acknowledge your sensual side. Cabbage To see or eat cabbage in your dream suggests that you should not waste time with petty things in your life. You live and thrive on life's challenges. Alternatively, the dream refers to your unwise choices or decisions. You need to rethink some of your decisions. Cabin To see or dream that you are in a wood cabin indicates that you will succeed via your own means.  It suggests that you are self-reliant and independent, yet still remain humble. You prefer the simpler things in life. To dream that you are in a ship cabin indicates that are seeking some refuge from your emotions. Cabinet To see a cabinet in your dream symbolizes the female body and/or the womb. Alternatively, you may be hiding some family or personal secret. Consider the contents and condition of the cabinet for more clues. To dream that someone rearranged your cabinets suggests that somebody is overstepping your boundaries. Cable To see a cable in your dream represents your stamina and durability. If the cable is frayed or broken, then it signifies a lack of strength. To dream of cable television signifies your openness and how you communicate with others. Cable Car To see or ride in a cable car in your dream signifies the compromises that you make in life. Sometimes you have to go along with the masses in order to maintain the peace. Alternatively, the dream represents life's journey. You are headed in the right direction. Caboose To see or be in a caboose implies that you are last in line for something. You are feeling shortchanged. Alternatively, dreaming of a caboose serves as a reminder that you will eventually get to where you need. It is not always about being first or finishing first. Cackle To hear the sound of cackling in your dream signifies illness and loss. Cactus To see a cactus in your dream suggests that you are feeling invaded, that your space is being crowded into and that you are being suffocated.  The prickly spines of the cactus represent the boundary you are trying to establish between your personal and private. Or you feel the need to defend yourself in some way. Alternatively, the dream implies that  you have found yourself in a sticky situation. Perhaps you need to adapt to your existing circumstances instead of trying to change them. *Please See Also Succulents. Cadaver To dream that you are dissecting a cadaver indicates that you are ready to reveal or expose an aspect of yourself that you have been hiding. To see a cadaver in your dream represents a part of yourself that has died. Alternatively, dreaming of a cadaver means that you tend to give everything you have in a situation or relationship. Ca dillac To see a Cadillac in your dream suggests that you are driven to succeed. Your ambition will take you far in life. Caduceus To see a caduceus in your dream symbolizes health concerns. The dream may be telling you that you need to take better care of yourself. Caesarian Section To dream that you are having a caesarian section implies that you need help in order to get your idea or project off the ground. You can not do it by yourself. A more direct interpretation of this dream may represent your anxieties of having a C-section in real life. Cafe To dream that you are at a cafe represents your social life. The dream is telling you that it is time to call up old friends and catch up with what they are all up to. Cafeteria To dream that you are in a cafeteria denotes that there may be a lot of issues \"eating\" you up inside. Cage To dream that you are in a cage indicates that you are experiencing inhibitions and powerlessness in some areas of your life. You are feeling restricted, confined and restrained in a current relationship or business deal. Somebody may be keeping a short leash on you, where you are lacking the freedom to act independently. To dream that you are putting a wild animal into a cage signifies that you will succeed in overcoming your rivals and fears. It is also symbolic of your ability to control you animalistic rages and anger. To see a bird in a cage suggests that you are feeling limited in your expression and a sudden lost of freedom. You may be experiencing frustrations and an inhibited spirituality. The dream may also imply that you are feeling like a \"jail bird\". Cage Fighting To dream that you are cage fighting indicates that you are feeling restricted or confined in a current relationship. An aspect of yourself is fighting to be expressed or let out. To watch a cage fight represents conflicting ideas or beliefs. Cake To see a cake in your dream indicates that you need to learn to share and allocate your workload instead of trying to do everything yourself.  Cakes also symbolize selfishness or the feeling of not getting your fair share. More positively, the dream may represent your accomplishments and achievements. Consider also the metaphor a \"piece of cake\" or some situation that is easy. To see a partially eaten cake in your dream signifies missed and lost opportunities. To dream that you are buying a cake suggests that you have accepted the rewards and recognition you are getting for our work.  You are learning to be comfortable in the spotlight. Calamari To dream that you are eating calamari indicates that you are feeling battered or beaten. However, you are tough. Hang in there! Calculator To see a calculator in your dream suggests that you need to thoroughly think through some problem and carefully evaluate your choices.  You need to lay out some sort of plan or outline. The symbol may also be a metaphor for someone who is \"calculating\", cunning and scheming. Calendar To see a calendar in your dream represents the passing of time and past events. The dream may also be a reminder of a special event, appointment or important date in your waking life. Calf To see a calf in your dream symbolizes immaturity and inexperience. You need to develop certain qualities. California Known as the Golden State, to dream of California, refers to your desire for instant wealth. It may also suggests that you are looking for fame. If you live in California, then the dream may just be a reflection of your reality. Caliper To see or use a caliper in your dream reflects your concerns about not measuring up to the standards or expectations of others. Alternatively, dreaming of a caliper means that you need to be careful in making a decision or judgment. Ca lla Lily To see calla lilies in your dream symbolize new beginnings, rebirth and longevity. In particular, a white calla lily represents purity, simplicity or elegance. Alternatively, the calla lily refers to a commitment. Calling Card To see or use a calling card in your dream indicates that there is someone that you need to reach out to. If the calling card has the name of someone you know on it, then it means that their presence is with your spiritually, even though they may not be with you physically. Something in your waking life is reminding you of this person. Calluses To dream that you have calluses symbolize hard work. You have be laboring over a difficult task or situation. Calm To dream that you are calm denotes a fulfilling life. You find contentment and satisfaction in what you have. To dream that someone is trying to calm you down suggests  that you will experience many setbacks, especially if you continue to let your emotions run out of control. Calomel To see calomel in your dream indicates a rivalry. To dream that you are taking calomel signifies that you are being manipulated and taken advantage of. It is time to open your eyes and not allow yourself to be stepped on. Calves To see your calves in your dream symbolize movement and your ability to jump from situation to situation. In particular, if you are admiring your own calves, then it denotes a needy or codependent relationship. Camcorder *Please See Video Camera . Camel To see a camel in your dream denotes that you need to be more conservative; you are carrying too many responsibilities, burdens and problems on your shoulders. Consider the common phrase, \"the straw that broke the camel's back\". You tend to hold on and cling on to your emotions instead of expressing and releasing them. Learn to forgive and forget. Alternatively, the camel represents your stamina. To dream that you are petting a camel indicates that you are ready to let go of some of the burdens, responsibilities or emotional baggage that you are carrying around. Cameo To see or wear a cameo in your dream represents an aspect of yourself that you are trying to express. Perhaps you are showing your delicate and feminize side. Alternatively, the dream may be a pun on a \"cameo\" appearance that you are making at some social gathering. Camera To see a camera in your dream signifies your desires to cling on and/or live in the past. Alternatively, it may indicate that you need to focus on a particular situation. Perhaps you need to get a clearer picture or idea. To dream that the camera is broken indicates that you are ignoring an issue or refusing to see the big picture. To dream that you cannot find your camera to take a picture implies that you are not focusing on the matter at hand. Your attention is too easily diverted. Alternatively, the dream refers to forgotten memories. To see or dream that you are on a hidden camera indicates that you feel that you are being scrutinized. All eyes are on you. Camouflage To dream that you are in camouflage suggests that you are hiding  your true self and feelings. You are concealing who you really are. Alternatively, there is a situation in your waking life that is making you want to blend into the background and not get noticed. Camper To dream that you are living in a camper indicates that you need to move on with some situation or some aspect of your life. You may be dwelling on a situation and it is time to move forward. Alternatively, you may be expressing your desire to be more independent and self-sufficient. Campfire To start or see a campfire in your dream represents sharing and companionship. You need to open yourself to others and allow others to get to know you. Camping To dream that you are camping indicates a need for relaxation and a long-deserved break.  You need to be more in touch with nature and go back to a more basic and simpler life. Alternatively, it refers to your social circle and support group. You are looking for a sense of belonging, but at the same time be self-sufficient and independent. Campus To dream that you are on a campus indicates your need to expand your thinking/knowledge and challenge yourself mentally. Can To see a can in your dream indicates that there is something in your past that you need to hold on to and preserve. The dream may also be a pun on how you \"can\" do something. Don't underestimate your abilities and talents. To see canned foods in your dream symbolizes the emotions that you are keeping inside. Can Opener To see a can opener in your dream indicates your willingness to accept new ideas and new concepts. It may also be a symbol of reassurance and a way to tell yourself that \"I can\" do something. Canada To dream that you are in Canada depends on your own personal associations with the country. If you have never been to Canada, then you will need to draw on your own preconceptions and feelings of the country. Canal To see a canal in your dream symbolizes restraint and constricted emotions. It also suggests that you are unyielding in your thinking and beliefs, which may hinder you in the pursuit of your goals. You are being too controlling. Canary To see a canary in your dream represents happiness and harmony. Alternatively, the dream could indicate your desires for a relationship or that a new relationship is blossoming. Cancel To dream that you are canceling an appointment or plans suggests that you are afraid to confront some matter. You don't want to face the facts. Dreaming that your flight was cancelled indicates that you are feeling helpless or trapped by some situation. You feel you are being held back, either physically or mentally. Cancer To dream that you have cancer denotes hopelessness, grief, self-pity, and unforgiveness. You feel you are wasting your life away. This dream also represents areas in your life which are bothering you, disturbing you, and hurting you in some emotional way. An emotional issue is eating away at you. To dream that you are being treated for cancer signifies a positive change in your life. To dream that someone has cancer indicates that you need to change your negative way of thinking before it eats away at you. Start being more positive. To dream that someone is a Cancer sign symbolizes your tendency to keep and hold on to everything. You have a lot of power and influence. The Cancer sign also indicates that you tend to be sensitive, moody and emotional. You are also very family oriented. Candle To see a burning candle in your dream signifies that good luck and hope will be coming your way in small and steady amounts. You are in a comfortable stage in your life and may be seeking spiritual enlightenment. Lit candles are also symbolic of intellect, enlightenment, awareness or the search for truth. To see an unlit candle denotes feelings of rejection or disappointments. You are not utilizing your fullest potential. If you try to light the candle, but it won't light, then it represents grief. You are in denial about something. To see a candle blow out in your dream indicates that you are surrendering a significant aspect of yourself. You are letting go of something that used to be important to you. To watch the candle burn down to nothing in your dream signifies your fears of aging and dying. Alternatively, it represents a fear of sexual impotence. To see a red colored candle in your dream symbolizes some intimate or romantic relationship. You may not be giving the relationship a fair chance and are dismissing it before you invested sufficient time to learn more about the other person. On the other hand, you may just not be feeling any chemistry or passion. Candle Wax To see candle wax in your dream indicates that there is too much activity going on in your life. You may need to slow down and take a breather. Alternatively, it may symbolize the passage of time. Candy To see or eat candy in your dream symbolizes the joys and the special treats in life. It also represents indulgence, sensuality and/or forbidden pleasure. You may be devoting too much time to unimportant issues. A more direct interpretation suggests that you are eating too much candy and sweets. Candy Apple To see or eat a candy apple in your dream is a reminder that you can have too much of a good thing. You need to show restraint in some area of your life. Cane To see or use a cane in your dream suggests that you are in need of some support and advice. The cane may also represent someone you trust and can rely on. To dream that you are being caned indicates that you are being forced into submission or obedience. Someone is trying make an example of you. Alternatively, the dream symbolizes self-guilt. To dream that you are caning someone signifies pent up aggression. Pay attention at who you are caning. You may harbor some ill feeling or anger toward this person. This person could also represent an aspect of your own self. Cannabis *Please See Marijuana . Canned Food To see or eat canned food in your dream implies that you are keeping your emotions bottled up inside. You feel that it is not the appropriate time to express your true desires. Cannibalism To see cannibalism in your dream symbolizes a destructive and forbidden desire or obsession. Metaphorically, cannibals consume people's lives, along with their energy. Thus, this dream may then denote an aspect of your life (career, relationship, children, etc ), which is consistently draining your enthusiasm and vitality. To dream that you are a victim of cannibalism represents feelings of being \"eating alive\" by work, a relationship or a situation in your waking life. Cannon To see a cannon in your dream suggests that there is something drastic that needs to be done immediately. According to the Freudian school of thought, the cannon symbolizes the penis. Cannonball To see a cannonball in your dream indicates that you are harboring some anger or aggression and it is weighing your down. Canoe To see a canoe in your dream represents serenity simplicity, and independence. It is also a reflection of your emotional balance. You are moving ahead via your own power and determination. Canopy To see a canopy in your dream symbolizes protection. You may also be elevated to a prominent position. Cantaloupe To see or eat cantaloupe in your dream implies that you put forth a tough image, but are sensitive on the inside. Metaphorically, cantaloupes can refer to the breasts. Canteen To see or use a canteen in your dream suggests that you are looking to easily and conveniently satisfy your emotional needs. Canvas To see a canvas in your dream symbolizes potential and possibilities, especially if the canvas is blank. Consider the significance of what is on the canvas, as it is an aspect of your subconscious. Canyon To see a canyon in your dream represents your subconscious mind and hidden feelings. It may point to emotions and relationships that you did not recognize. Cap To see a cap in your dream signifies informality and ease. It also suggests that you need to be more tolerant of others. Cap And Gown To wear a cap and gown in your dream indicates that you are transitioning into a higher level in your life. You are ready to move on to the next stage. To see someone in a cap and gown in your dream symbolizes your successes and accomplishments. Cape To see or dream that you are wearing a cape indicates that you are trying to shield yourself from being emotionally hurt. It may also mean that you are trying to cover-up or hide something. Capital Punishment *Please See Death Penalty. Capricorn To dream that someone is a Capricorn signifies fears of inadequacy. You are afraid that you are not measuring up. Alternatively, it denotes your drive, tenacity and ambition. Capsize To dream that your boat has capsized represents your avoidance in confronting uncomfortable feelings and/or situations. Captain To dream that you are a captain indicates that you are taking charge of your emotions and confronting the issues that are bothering you. To see a captain in your dream represents your powerful influence over others. Captive To dream that you are held captive suggests that you are feeling trapped in some aspect or circumstances of your waking life. You may feel trapped in your career, relationship or life in general. Alternatively, captivity dreams indicate something you are refusing to acknowledge or something that you are in denial about. Car To dream that you are driving a car denotes your ambition, your drive and your ability to navigate from one stage of your life to another. Consider how smooth or rough the car ride is. If you are driving the car, then you are taking an active role in the way your life is going. However, if you are the passenger, then you are taking a passive role. If you are in the backseat of the car, then it indicates that you are putting yourself down and are allowing others to take over. This may be a result of low self-esteem or low self-confidence.  Overall, this dream symbol is an indication of your dependence and degree of control you have on your life. Driving a new car means that you are headed toward a new direction or goal. You are deviating from your original life path. To dream that you drive your car into a body of water or that it rolls into water implies that you are in for an emotional journey. To see a car underwater in your dream points to feelings of regret or sadness over an abandoned goal. To dream that your car is buried suggests that you are feeling weary about pursing someone else's dreams instead of your own. You are afraid to let others down. To dream that your car flipped over or rolled over implies that some significant event is preventing you from achieving your goals. You feel that you have to put your own life on hold. To see or dream that a car is being crushed represents disappointments occurring in your waking life. You are lacking ambition and goals. To dream that your car won't start indicates that you are feeling powerless in some situation. To dream that you forget or can't find where you parked your car indicates that you are dissatisfied or unhappy with an aspect of your waking life. You do not know what you really want to do with your life or where you want to go. To dream that your car has been stolen indicates that you are being stripped of your identity.  This may relate to losing your job, a failed relationship, or some situation which has played a significant role in your identity and who you are as a person. If you dream that you are stealing a car, then it implies that you are trying to take credit for someone else's work. It may also mean that you are downplaying the role that others had in your success. To dream that your car is overheating suggests that you are expending too much energy. You need to slow down or run the risk of being burnt out. You are taking on more than you can handle. It is time to take a breather. To see a parked car in your dream suggests that you need to turn your efforts and energies elsewhere. You may be needlessly spending your energy in a fruitless endeavor. Alternatively, a parked car may symbolize your need to stop and enjoy life. To dream that you are almost hit or were ran over by a car suggests that your lifestyle, beliefs or goals may be in conflict with another's. It may also be symbolic of a jo lting experience or injured pride. If you dream that you hit or ran over someone with a car, then it implies that you have hurt someone in order to move ahead in life. To dream that you are unable to roll up the windows of your car suggests that  you are showing some hesitation and reservation about the direction that you are taking in life or the path that you have chosen. To see a haunted car in your dream represents unfinished goals. You had started off on a path or journey, but never reached the end. Perhaps life had taken you on a different direction that you had planned or intended. To dream that no one is driving a moving car suggests that you need to reassess your level of control over your life. You are unwilling to take responsibilities for your actions. To buy a car in your dream refers to your commitment to some important life decision you have made. To see or drive a car that looks like a cat refers to your free and independent spirit. If you are almost hit by a car that looks like a cat, then it suggests that you are hindering someone's goals or not letting them be who they are. If you dream of driving a black colored car, then it means that you like to be low-key about your intentions or goals. Driving a black color in a dream signify some ulterior motives. Dreaming of a car that is driving fast suggests that you need to slow down and think through your choices. You are so focused on your goals that you are leaving behind the people around you. Car Alarm To hear or set off a car alarm in your dream implies that you are headed on the wrong path. The dream is alerting you to change  your direction and alter your course. Car Battery To see your car battery in your dream symbolizes your stamina. To dream that your car battery is dead suggests that you are overwhelmed and overworked. You need to slow down and set some time for yourself or else run the risk of collapsing from exhaustion. Car Carrier To see a car carrier in your dream indicates that you are lacking direction and have no goal of your own. You are letting others make decisions for you. You are going with the flow. Car Dealership To see or dream that you are in a car dealership refers to some decision that you need to make about where you want to go in life. You are trying to figure out your life path. Car Seat To see an infant car seat in your dream implies that you are in control of someone else's direction or destiny in life. Alternatively, the dream refers to the beginning stages of your life journey. You are just getting started on an important path. Car Show To dream that you are at a car show suggests that you are drawn to a flashy lifestyle which may not necessarily be who you really are. To dream that you are showing off your car at a car show implies that you are proud of your accomplishments and achievements. You are seeking recognition for your work. Caramel To eat or lick caramel in your dream indicates a sweet and satisfying situation will eventually turn into \"sticky\" problem. If it sounds too good to be true, then it is really too good to be true. Caravan To dream that you are part of a caravan means that you will achieve your goals with the support of others. You do not need to do things by yourself. Carburetor To see the carburetor in your dream represents emotional, spiritual and physical balance. Carcass To see a carcass in your dream indicates that you are feeling emotionally torn. You feel that you are literally being ripped apart. Cardboard To see a cardboard box in your dream indicates a lack of protection against risk. Cardinal To see a cardinal in your dream represents vitality and happiness. It also may mean being in first place or your position at the front. Cards To dream that you are playing a game of cards represents your ability to strategize in various areas of your life. In particular, diamonds indicate wealth and materialism, clubs indicate work and industry, hearts indicate happiness in love, and spades indicate troubling times and disappointments. To dream that you are shuffling cards signifies indecision. You need to reevaluate your choices. In particular, dreaming of the king of heart card symbolizes a compassionate male figure in your life. It may also mean that you are that compassionate person. Cargo To dream that you are loading or carrying cargo refers to a heavy load that you are carrying around. You are feeling overburdened or overwhelmed. If you are unloading cargo in your dream, then it indicates that you are ready to rid yourself of the extra weight, negative habits and/or excesses that are holding you back. It is time to let go. Carjack To dream that you have been carjacked suggests that you have lost your direction in life. You feel that circumstances in your life has lead you on a different course. Carnation To see carnations in your dream symbolize light-heartedness, vitality and joy. Alternatively, it may represent bachelorhood. Consider the color of the carnation for additional significance. Carnelian To see a carnelian in your dream represents passion, lust, sexuality, or matters of the heart.  It also indicates a need for spiritual healing. Carnival To dream that you are at the carnival represents falsehoods and deception. If you observe freakish sights, then it denotes a lack of harmony in your domestic life. Much sorrow will arise in what were thought to be pleasant times. To dream that you are on a carnival ride suggests that you are going in circles. It may also symbolize cheap thrills. To dream that you run away with the carnival denotes that you will be involved in or closely connected to the entertainment field. Caroling To dream that you are caroling signifies joy, harmony and tranquility. You are in a festive and upbeat mood.  The dream may also be a pun on someone who is named \"Carol\". Carousel *Please see Merry Go Round. Carp To see a carp in your dream indicates that you need to put aside your pride and ego and not let it get in the way of friendships and relationships. Alternatively, the carp is symbolic of patience, perseverance, determination, tenacity, courage and success. Carpenter To see or dream that you are a carpenter indicates that you are confronting and overcoming your obstacles. Alternatively, it suggests that you need to change your way of thinking and readjust your attitude. Carpet To see a carpet in your dream represents your way of protecting yourself from life's harsh realities. Alternatively, a carpet symbolizes luxury, comfort or richness. Consider the condition and designs of the carpet and how it parallels the foundation that you have laid for yourself in life. Perhaps the dream is telling you that you are refusing to confront some issue and instead are sweeping it under the carpet? To dream that you are installing or laying down carpet suggests that you are trying to make your life more comfortable.  The dream may also be analogous to the planning of something. You are laying out  some new project or endeavor. To dream of a magic carpet implies your desires and wishes to escape from a situation, relationship, or responsibilities. The dream is similar to a flying dream, so you may want to look up flying. *Please See Also Red Carpet. Carriage To see an old-fashioned carriage in your dream suggests that your ways of thinking may be too outdated and antiquated. The carriage is also a symbol of power and status. Carrom Board To see or play with a Carrom Board in your dream implies that you need to focus on your goals. Alternatively, the dream indicates that you are trying to shield or protect a loved one from some problem or issue. Carrot To see a carrot in your dream signifies abundance and fertility. It may also symbolize a lure as in the idiom \"to dangle a carrot\". To eat a carrot in your dream indicates clarity. You are seeing something more clearly. Carry To dream that you are being carried suggests that you are feeling like a burden to somebody. You need to be more independent and take on more responsibilities. Alternatively, it may elude to romance. Cartoon To dream that your real life is depicted in a cartoon world suggests that you are perceiving the world in a comical and unserious manner. This dream may also serve as an escape from the stressful realities of your life. It is your way of obtaining moments of lightheartedness and fun. Additionally, you need to learn to laugh at yourself and at your mistakes. To dream that you are watching cartoons indicates that you are not taking life seriously. *Please See Also Cartoon Character. Cartwheels To dream that you are doing cartwheels represent poise and balance in your life or the need to regain balance. You need to handle life's obstacle and stress with more fortitude. To dream that you have difficulties doing cartwheels suggest that you do not have confidence in your own abilities. It may also mean that you are lacking discipline and are exhibiting some struggles in your life. There is an imbalance between work and pleasure. Carving To dream that you are carving a piece of wood symbolizes spiritual and creative energy. Metaphorically, you are transforming subconscious energy into conscious awareness. Consider whether the carving is purely ornamental or utilitarian. To dream that you are carving some meat indicates that you are trying to rid yourself of certain feelings. You may be distancing yourself from your emotions and analyzing them from an objective standpoint. Alternatively, some person or situation is violating an aspect of your life. Carwash To dream that you are at a carwash indicates that you need to clean up your self-image. You are ready for a fresh start. Cash *Please See Money. Cash Register To see a cash register in your dream represents financial worries and concerns. You are assessing your financial situation. On the other hand, you may be expecting monetary gains. Cashier To see or dream that you are a cashier indicates that you are re-evaluating your life and what you have accomplished.  Alternatively, it suggests that you have removed yourself out of some situation. You have \"checked out\". Cashmere To feel or wear cashmere in your dream symbolizes luxury. You strive for the finer things in life. Alternatively, dreaming of cashmere suggests that you are looking for warmth and comfort in your relationships. Casino To dream that you are in a casino signifies the risk-taker within you. If you are a reserved or passive person, then the dream suggests that you should take a chance. If you are not, then it implies that you need to make a more informed decision instead of relying on fate. Casket To see a casket in your dream symbolizes the womb. It also signifies your thoughts and fears of death. If the casket is empty, then it denotes irreconcilable differences. Alternatively, the coffin represents ideas and habits that are no longer of use and can be buried. In particular, if the casket is white, then it refers to lost innocence. To see a body in a casket in your dream signifies that you are going through a period of depression. You may feel confined, restricted and that you are lacking personal freedom. There may be a dead or decaying situation or issue in your life that you need to address. It is time to end this situation or relationship. Casserole To dream you are making a casserole symbolizes new ideas or a new phase in your life. Cassette Tape To see a cassette tape in your dream suggests that there is worth and truth in what you are saying. Alternatively, the dream means that you need to get out of the same rut. You are going around in a loop. Cassowary To see a cassowary in your dream refers to your shy nature. You try to avoid confrontation and arguments. Cast To dream that you are wearing a cast suggests that your motion is being inhibited in some way. Or that you need to show some restraint in an area of your life. Consider which part of the body is in a cast. Alternatively, a cast symbolizes a time of healing and discipline. Castanets To see, hear or play with castanets in your dream  represents little annoyances and irritations in your waking life. Alternatively, the dream may be a metaphor that you need to \"cast-a-net\". Perhaps you are looking for some assistance. Castle To see a castle in your dream signifies reward, honor, recognition, and praise for your achievements. You are destined to a position of power, wealth, and prestige. Alternatively, the dream indicates your desire to escape from life's daily problems. To dream that you live in a castle represents your extreme need for security and protection to the point where you may be isolating yourself from others. Perhaps the dream parallels a waking situation where it  has put you on the defensive. To see a castle door in your dream indicates that you have missed a huge and/or profitable opportunity, especially if you are standing outside the castle door. If you are standing inside the castle door, then it means that you have let your success and ego distance you from others. Castration To dream of a castration signifies your overwhelming fears that you have lost your virility. You are feeling the pressures of your sexual performance. Alternatively, it represents a lack of creativity, power or strength.;\\nTo see a zebra in your dream represents perfect balance, unity and harmony. It also indicates that opposites attract. Alternatively, a zebra suggests that you are spending too much time in trivial matters. You need to establish a clear timeline and lay your groundwork for success.;\\nTo see or wear a tampon in your dream signifies aggression. You are experiencing some tension that needs to be released. Alternatively, the dream may also be analogous to the phallus.;\\nTo dream that you in a junkyard represents fear, frustration, and anger which you have repressed and kept inside.  It may also symbolizes your discarded attitudes, old habits, and former beliefs.;\\nTo see a passport in your dream represents your identity and your ability to traverse through various situations. You are experiencing new found freedom to do what you want and go where you want. You may be going through a period of self-discovery.;\\nTo feel or wear cashmere in your dream symbolizes luxury. You strive for the finer things in life. Alternatively, dreaming of cashmere suggests that you are looking for warmth and comfort in your relationships.;\\nTo dream that you are getting acupuncture suggests that you are in need of healing. You may need to divert your energies to different pursuits. Alternatively, the dream may be a metaphor for a problem or issue that you need to pinpoint."
        ],
        [
         "3",
         "Given dream description and dream symbols below, \nExplain what this dream means. \nUse the dream symbols to help you interpret the dream. ",
         "I was driving my car down a hill. There was snow on the ground. It stalled by Elyria garage and I let it park in front of the door, blocking it. I had to go to work, so I left it there. After work I came there and didn't see the car. I went into the garage and it was there. I told Joe to fix it. When he opened the trunk door, the trunk was full of ashes. He told me to take out the ashes, so I got a shovel and went to work. He showed me the rusted body with holes in it.",
         "To see a Barbie doll in your dream represents society's ideals.  You may feel that you are unable to meet the expectations of others.  Alternatively, the Barbie doll refers to the desire to escape from daily responsibilities. It may serve to bring you back to your childhood where life was much simpler and more carefree.;\\nTo see or dream that you have a nanny implies that you are feeling overwhelmed. You feel that certain aspects of yourself are being neglected.;\\nTo see Voldemort in your dream symbolizes an ever-present evil force working against you.;\\nTo hear knocking in your dreams suggests that your subconscious is trying to attract your attention to some aspect of yourself or to some waking situation. A new opportunity may be presented to you. Alternatively, the dream may be a pun that you are \"knocking\" on or insulting something or someone. Or perhaps there is a habit or behavior that you to stop or \"knock it off\".;\\nTo dream that you are telekinetic represents a higher level of awareness and consciousness. You are not utilizing your full potential and need to start putting your stored energy levels and mental abilities to use. In other words, you need to put your thoughts into action. For some, dreams of telekinetic powers may indicate your latent paranormal abilities.;\\nTo see emoticons in your dream represents your range of emotions. You are feeling emotionally overwhelmed. Alternatively, dreaming of emoticons suggests that your feelings are being trivialized or that someone is discounting how you feel.;\\nTo see gasoline in your dream represents energy and spirituality. Thus, to dream that you run out of gas suggests that you are wearing yourself out. Take a time out.;\\nTo see or wear a tampon in your dream signifies aggression. You are experiencing some tension that needs to be released. Alternatively, the dream may also be analogous to the phallus.;\\nTo see a scarf in your dream symbolizes self-restrictions. You may be too controlling of your emotions instead of expressing them. Alternatively, you feel that your voice is being muffled.;\\nTo dream that you are a victim of identity theft means that someone in your waking life is taking credit for your work.  Alternatively, you may be having this dream because you are experiencing an identity crisis. You feel lost and not sure where you are headed."
        ],
        [
         "4",
         "Given dream description and dream symbols below, \nExplain what this dream means. \nUse the dream symbols to help you interpret the dream. ",
         "There is the theater. A man asks if there is a donut shop nearby and where. I tell him where and he goes. A woman comes by and asks the same question. I lead her halfway there and she goes the rest of the way. Before long I hear her frantic screams for help. I know that the man I talked to earlier is to blame. Swallowing my fear, I run in the direction of her screams, also shouting for help.",
         "To see Harley Quinn in your dream points to an unhealthy, abusive relationship. Alternatively, the dream may indicate that you are blind to something that everyone else is clearly seeing. You are living in your own reality.;\\nTo see your own elbow in your dream indicates that you need to make a space for yourself. Your dream may express hesitance or fear in creating your own space for fear of being scrutinized. Alternatively, the dream may be a pun on your need to put more \"elbow grease\" on some task.;\\nTo dream that you are at a banquet indicates that you are emotionally malnourished. You are seeking emotional stimulation.;\\nTo see a weta in your dream signifies your fear of the unknown. Sometimes what you don't know is a source of anxiety and stress. You are worrying too much about minor issues.  Alternatively, dreaming of a weta represents your roots.;\\nTo see a Cadillac in your dream suggests that you are driven to succeed. Your ambition will take you far in life.;\\nTo dream that you are bankrupt indicates that you need to start taking measures to protect  yourself and your resources. You may be feeling emotionally drained or physically overworked. The dream may be a sign of depression. Alternatively, to dream that you are bankrupt symbolizes feelings of insecurity.;\\nTo see or use a knocker in your dream symbolizes opportunities and welcomed expectations. You are seeking for assistance and spiritual guidance. On a negative note, to see a knocker in your dream signifies repressed thoughts, death, and dreaded expectations. It is a bad omen.;\\nTo dream that you are in school signifies feelings of inadequacy and childhood insecurities that have never been resolved. It may relate to anxieties about your performance and abilities. If you are still in school and dream about school, then the dream may just be a reflection of your daily life and has no special significance.;\\nTo see an umbrella in your dream symbolizes emotional security. You are putting up a shield against your emotions and are trying to avoid dealing with them. If the umbrella is leaking or broken, then it indicates that you are unprepared with facing your problems.;\\nTo dream that you are getting a manicure represents glamour and beauty. You are seeking attention for the work you have done. You may also be expressing something beautiful and positive through your work."
        ],
        [
         "5",
         "Given dream description and dream symbols below, \nExplain what this dream means. \nUse the dream symbols to help you interpret the dream. ",
         "Tyler and Jerome are in a bedroom together. They are breaking up, arguing and upset. I interrupt them because Grandma Mildred has requested shaving equipment so she can shave Grandpa Lloyd. I ask if I can borrow one from them. They are very annoyed with me and glare, but Tyler gives me his mug and straight razor. I am concerned if Grandma can use it safely.",
         "To see or eat jelly in your dream represents insight into a situation you have been wondering about. The dream may be a metaphor for something that is finally taking shape. You have come to some understanding. Alternatively, it indicates that you are preserving or maintaining a sweet relationship.;\\nTo dream that you are playing an online game indicates that you are trying to escape from the stresses in your daily life. You want to be someone else. You want to be in control. Alternatively, dreaming about an online game may simply mean that you are spending so much time playing the game that the images have drifted into your dreams.;\\nIf you are not an immigrant and dream that you or someone is an immigrant, then it implies that you are acknowledging an aspect of yourself that was unexpressed. If you are helping an illegal immigrant in your dream, then it means acceptance.  Alternatively, the dream may reflect your waking experience as an immigrant. Or it may refer to the experiences of your parents or ancestors. Consider how you or they feel as an immigrant and what they endured or went through.;\\nTo dream that you have been sabotaged indicates that there is something that you are ignoring or overlooking in your waking life.;\\nTo see uprooted plants in your dream indicate that you are out of balance. You may be feeling disconnected or distant from others. It may also represent broken family connections or failed attempts in reestablishing familial ties.;\\nTo see or dream that you are a zombie suggests that you are physically and/or emotionally detached from people and situations that are currently surrounding you. You are feeling out of touch. Alternatively, a zombie means that you are feeling dead inside. You are just going through the motions of daily living.;\\nTo see or use a water bottle in your dream indicates that you are keeping your hopes up about something.  It also means spiritual renewal and rejuvenation.;\\nTo discover secret passageways in your dream parallel to something new and/or exciting that is occurring in your waking life. It refers to a new opportunity, a new relationship, or a new attitude toward life. If you wake up before fully exploring these passageways, then it suggest that you may not know how to take advantage of these opportunities or how to move forward with a relationship. Perhaps the newness and uncertainty of this discovery also makes you a little more cautious. Overall, this is a positive dream.;\\nTo see a koala in your dream represents your link the physical world, the subconscious, and the spiritual realm. The koala also symbolizes security, nurturance, protection, and/or feminine qualities. You may be expressing a desire to regress back into infantile dependence and escape from your daily responsibilities/problems.;\\nTo dream about your neighborhood represents a sense of community. You need to develop new friends and new ties. Consider your waking feelings toward your neighbors."
        ],
        [
         "6",
         "Given dream description and dream symbols below, \nExplain what this dream means. \nUse the dream symbols to help you interpret the dream. ",
         "I was in a floral shop and all these birds (blue jays) came in and started eating the flowers. The store owner came in and started screaming. Then I woke up. Setting: An old store that sold flowers. Characters: An old female store owner, blue jays, and myself. Feelings and Thoughts: Other. I felt kind of startled when she came out screaming.",
         "To dream of fancy things indicates that you are putting up a facade and hiding your true self. You are trying to divert attention to unimportant things.;\\nTo see the jaws of an animal in your dream indicate a misunderstanding. It may also mean that you are rushing into things. Alternatively, the dream suggests that someone or some situation is taking a large bite of your time, energy or some aspect of yourself.;\\nTo dream of a war signifies disorder and chaos in your waking life You are experiencing some internal conflict or emotional struggle which is tearing you up inside. Alternatively, the dream indicates that you are either being overly aggressive or that you are not being assertive enough. Perhaps you need to be prepared to put up a fight in some area of your life. On a more direct level, the dream may be reflection of current wars around the world and your personal feelings about it.;\\nTo see a lake in your dream signifies your emotional state of mind. You feel restricted and that you can't express your emotions freely. Alternatively, the lake may provide you with solace, security, and peace of mind. If the lake is clear and calm, then it symbolizes your inner peace. If the lake is disturbed, then you may be going through some emotional turmoil.;\\nTo see uprooted plants in your dream indicate that you are out of balance. You may be feeling disconnected or distant from others. It may also represent broken family connections or failed attempts in reestablishing familial ties.;\\nTo see or eat eggplants in your dream signify satisfaction with where you life is at.  It may indicate abundance or fertility. Eggplants are also symbolic of loyalty, passion and devotion.;\\nTo dream that you are in a village represents restrictions. You need to follow the rules. Alternatively, a village signifies community, simplicity, and tradition.;\\nTo see your teacher (past or present) in your dream suggests that you are seeking some advice, guidance, or knowledge. You are heading into a new path in life and are ready to learn by example or from a past experience. Consider your own personal experiences with that particular teacher. What subject was taught? Alternatively, a teacher relates to issues with authority and seeking approval. You may be going through a situation in your waking life where you feel that you are being treated like a student or in which you feel you are being put to a test. Also pay attention to the demeanor and attitude of the teacher in your dream. If the teacher in your dream is mean, then it implies that you may be putting too much pressure on yourself to succeed.;\\nTo     see or ride on a kick scooter in your dream implies that you are trying to     balance various areas of your life. The dream also means that you need to be     decisive in what you are doing.;\\nTo dream that you or others are adopting a child indicates that you are taking on something new and different. Ask yourself what is missing in your life that would make you happy."
        ],
        [
         "7",
         "Given dream description and dream symbols below, \nExplain what this dream means. \nUse the dream symbols to help you interpret the dream. ",
         "I was among some girls about 10 years old. I was tempted to touch them sexually. A plastic balloon shaped like a crotch was by me, and I felt it. I was dismayed because I had been tempted. I wanted to convince the doctors at the hospital where I was confined that I could control myself if they released me. I said to a doctor, \"Is that why you won't let me go?\" I pondered deeply on how I could rechannel my mental energy toward creative endeavors.",
         "To see a weta in your dream signifies your fear of the unknown. Sometimes what you don't know is a source of anxiety and stress. You are worrying too much about minor issues.  Alternatively, dreaming of a weta represents your roots.;\\nTo see a yak in your dream represents your uniqueness and dependability. The yak may also be a pun on \"yakking\" too much. Maybe you should stop talking and listen more.;\\nTo see a castle in your dream signifies reward, honor, recognition, and praise for your achievements. You are destined to a position of power, wealth, and prestige. Alternatively, the dream indicates your desire to escape from life's daily problems.;\\nTo see or eat a tangerine in your dream implies that you are in need of a quick and easy boost of energy.;\\nTo dream that you have been rear ended indicates that something from your past is still impacting your present situation. You need to learn from the past in order to move forward.;\\nTo dream that you are breaking out of jail refers to your desire or need to escape from a restrictive situation or relationship. Alternatively, dreaming of a jailbreak means that you are refusing to accept the consequences of your actions.;\\nTo dream that you are taming an animal symbolizes your control over your animalistic urges.  You are experiencing balance and harmony.;\\nTo dream that you are being indifferent suggests that you are trying to hide your true concerns. You do not want to let on that you care or that you really feel a certain way.;\\nTo see a fairy in your dream indicates that you are in search of some help or advice for a problem or decision, but may not want to directly admit you need help. In particular, if the fairy is evil, then it suggests that an aspect of yourself needs to be set free.  The fairy is also symbolic of your soul and the feminine aspects of yourself.;\\nTo see or dream that you are a park ranger represents control of your subconscious. You are also keeping your emotions in check."
        ],
        [
         "8",
         "Given dream description and dream symbols below, \nExplain what this dream means. \nUse the dream symbols to help you interpret the dream. ",
         "Two nuclear subs are fighting and are going to blow. I start running away so I can escape radiation fallout. I run toward the coast range, up and up and up. Then I'm running up a narrow stairs to an attic. Something scary is after me. I lock the two doors on the stairwell and hide under debris in the attic near a window where I can look out and see the danger.",
         "To see or viola in your dream represents your deeper, darker and more melancholy feelings.;\\nTo see an electricity tower in your dream symbolizes a distribution of power. You do not need to always be in full control. You need to delegate responsibilities and duties. Alternatively, the dream symbolizes industry and modernity.;\\nTo dream that you are at a farmer's market suggests that you are looking for spiritual enrichment from a higher source.;\\nTo dream that you are carrying a knife signifies anger, aggression and/or separation. There may be something in your life that you need to cut out and get rid of.  Perhaps you need to cut ties or sever some relationship. Be more divisive. Alternatively, a knife refers to some sexual tension or sexual confrontation.;\\nTo dream of having an abundance of a certain item indicates that you need to conserve your resources and energies. This dream may be a compensatory dream for something that you are lacking in life. More directly, abundance signifies happiness.;\\nTo see a maple in your dream symbolizes humility, warmth, and openness. It also indicates positive gains, happiness and fullness of life.;\\nTo dream that you are in the Wild West represents your resourcefulness and survival skills. Alternatively, the dream implies that you may be over-thinking a problem. Sometimes simplicity is the way to go. Being in the Wild West also indicates that you need to be more straightforward about your feelings, intentions or goals.;\\nTo see or wear a pantyhose in your dream represents alluring sexuality. Consider the color of the pantyhose. If it is nude or beige color, then it signifies your discreteness. If it is black, then it symbolizes your hidden sexuality waiting to be expressed. If it is red, then it represents overt sexuality. If the pantyhose is torn or have a run, then it indicates lacking self esteem and reduced self confidence.;\\nTo dream that you are changing into the form of an animal indicates that you are becoming less civilized, less restrained and becoming more free and instinctive. You may be expressing your newfound freedom/independence and experiencing a lack of boundaries. Alternatively, taking the form of an animal suggests that your primal desires and/or repressed sexual urges are coming to the surface and needing to be satisfied. Consider also the animal that your turn into.;\\nTo dream that you are at the mall symbolizes the choices, decisions and options you have in your waking life. These choices will help shape who you are as a person. You are trying to establish your identity and sense of self. Alternatively, the dream suggests that you are trying to make a favorable impression on someone. The mall is also symbolic of materialism and the need to keep up with the trends, fads, and/or the latest technology. Consider the type and name of stores that you see in your dreams."
        ],
        [
         "9",
         "Given dream description and dream symbols below, \nExplain what this dream means. \nUse the dream symbols to help you interpret the dream. ",
         "I went to some place with Dad and I ordered chocolate chip pancakes with chocolate sauce (which meant chocolate ice-cream). When it was delivered it was a small piece of something and it had corn in it. I said I couldn't complain and Dad wouldn't complain for me. There was something to do with David Anders.",
         "To dream of a baby shower suggests that you are welcoming a new start. You are given a chance to start over again and do things differently this time around. You have a new found faith in life itself.;\\nTo see yourself in your dream is a reflection of how you act and behave in your waking life. Consider what you are doing and how you are feeling in the dream for additional significance.;\\nTo dream that you are playing an online game indicates that you are trying to escape from the stresses in your daily life. You want to be someone else. You want to be in control. Alternatively, dreaming about an online game may simply mean that you are spending so much time playing the game that the images have drifted into your dreams.;\\nTo see a mammoth in your dream implies that you need to let go of some past emotions. You are letting your cold hard feelings control your behavior. Perhaps you are being too frigid. Alternatively, a mammoth symbolizes power, size and/or strength.;\\nTo see a garland in your dream represents wholeness and completeness.;\\nTo see a new house in your dream indicates that you are taking on a new identity and developing new strengths. You are becoming more emotionally mature.;\\nTo dream that you are being chased or stalked by the paparazzi indicates that your privacy is being violated. You feel that your own identity is lost. Alternatively, the dream represents your aspirations for fame.;\\nTo dream that you are saying farewell signifies an end to some relationship or phase in your life.;\\nTo dream of your back represents your attitudes, strengths, burdens and stance in the world. It may also relate to stress and pressure that someone is putting on you.;\\nTo see a lamppost in your dream indicates that light needs to be shed on some dark situation. Alternatively, the dream suggests that you are coming out of a depressing or gloomy phase."
        ]
       ],
       "shape": {
        "columns": 3,
        "rows": 10
       }
      },
      "text/html": [
       "<div>\n",
       "<style scoped>\n",
       "    .dataframe tbody tr th:only-of-type {\n",
       "        vertical-align: middle;\n",
       "    }\n",
       "\n",
       "    .dataframe tbody tr th {\n",
       "        vertical-align: top;\n",
       "    }\n",
       "\n",
       "    .dataframe thead th {\n",
       "        text-align: right;\n",
       "    }\n",
       "</style>\n",
       "<table border=\"1\" class=\"dataframe\">\n",
       "  <thead>\n",
       "    <tr style=\"text-align: right;\">\n",
       "      <th></th>\n",
       "      <th>prompt</th>\n",
       "      <th>dream</th>\n",
       "      <th>symbols</th>\n",
       "    </tr>\n",
       "  </thead>\n",
       "  <tbody>\n",
       "    <tr>\n",
       "      <th>0</th>\n",
       "      <td>Given dream description and dream symbols belo...</td>\n",
       "      <td>I saw Seventec. It was a woman standing in a s...</td>\n",
       "      <td>To see a barrister with a white wig in your dr...</td>\n",
       "    </tr>\n",
       "    <tr>\n",
       "      <th>1</th>\n",
       "      <td>Given dream description and dream symbols belo...</td>\n",
       "      <td>I call one of my friends. I am in my old room ...</td>\n",
       "      <td>To dream that you are under narcosis is an ind...</td>\n",
       "    </tr>\n",
       "    <tr>\n",
       "      <th>2</th>\n",
       "      <td>Given dream description and dream symbols belo...</td>\n",
       "      <td>I had left my house and I was going down the s...</td>\n",
       "      <td>To see or eat jelly in your dream represents i...</td>\n",
       "    </tr>\n",
       "    <tr>\n",
       "      <th>3</th>\n",
       "      <td>Given dream description and dream symbols belo...</td>\n",
       "      <td>I was driving my car down a hill. There was sn...</td>\n",
       "      <td>To see a Barbie doll in your dream represents ...</td>\n",
       "    </tr>\n",
       "    <tr>\n",
       "      <th>4</th>\n",
       "      <td>Given dream description and dream symbols belo...</td>\n",
       "      <td>There is the theater. A man asks if there is a...</td>\n",
       "      <td>To see Harley Quinn in your dream points to an...</td>\n",
       "    </tr>\n",
       "    <tr>\n",
       "      <th>5</th>\n",
       "      <td>Given dream description and dream symbols belo...</td>\n",
       "      <td>Tyler and Jerome are in a bedroom together. Th...</td>\n",
       "      <td>To see or eat jelly in your dream represents i...</td>\n",
       "    </tr>\n",
       "    <tr>\n",
       "      <th>6</th>\n",
       "      <td>Given dream description and dream symbols belo...</td>\n",
       "      <td>I was in a floral shop and all these birds (bl...</td>\n",
       "      <td>To dream of fancy things indicates that you ar...</td>\n",
       "    </tr>\n",
       "    <tr>\n",
       "      <th>7</th>\n",
       "      <td>Given dream description and dream symbols belo...</td>\n",
       "      <td>I was among some girls about 10 years old. I w...</td>\n",
       "      <td>To see a weta in your dream signifies your fea...</td>\n",
       "    </tr>\n",
       "    <tr>\n",
       "      <th>8</th>\n",
       "      <td>Given dream description and dream symbols belo...</td>\n",
       "      <td>Two nuclear subs are fighting and are going to...</td>\n",
       "      <td>To see or viola in your dream represents your ...</td>\n",
       "    </tr>\n",
       "    <tr>\n",
       "      <th>9</th>\n",
       "      <td>Given dream description and dream symbols belo...</td>\n",
       "      <td>I went to some place with Dad and I ordered ch...</td>\n",
       "      <td>To dream of a baby shower suggests that you ar...</td>\n",
       "    </tr>\n",
       "  </tbody>\n",
       "</table>\n",
       "</div>"
      ],
      "text/plain": [
       "                                              prompt  \\\n",
       "0  Given dream description and dream symbols belo...   \n",
       "1  Given dream description and dream symbols belo...   \n",
       "2  Given dream description and dream symbols belo...   \n",
       "3  Given dream description and dream symbols belo...   \n",
       "4  Given dream description and dream symbols belo...   \n",
       "5  Given dream description and dream symbols belo...   \n",
       "6  Given dream description and dream symbols belo...   \n",
       "7  Given dream description and dream symbols belo...   \n",
       "8  Given dream description and dream symbols belo...   \n",
       "9  Given dream description and dream symbols belo...   \n",
       "\n",
       "                                               dream  \\\n",
       "0  I saw Seventec. It was a woman standing in a s...   \n",
       "1  I call one of my friends. I am in my old room ...   \n",
       "2  I had left my house and I was going down the s...   \n",
       "3  I was driving my car down a hill. There was sn...   \n",
       "4  There is the theater. A man asks if there is a...   \n",
       "5  Tyler and Jerome are in a bedroom together. Th...   \n",
       "6  I was in a floral shop and all these birds (bl...   \n",
       "7  I was among some girls about 10 years old. I w...   \n",
       "8  Two nuclear subs are fighting and are going to...   \n",
       "9  I went to some place with Dad and I ordered ch...   \n",
       "\n",
       "                                             symbols  \n",
       "0  To see a barrister with a white wig in your dr...  \n",
       "1  To dream that you are under narcosis is an ind...  \n",
       "2  To see or eat jelly in your dream represents i...  \n",
       "3  To see a Barbie doll in your dream represents ...  \n",
       "4  To see Harley Quinn in your dream points to an...  \n",
       "5  To see or eat jelly in your dream represents i...  \n",
       "6  To dream of fancy things indicates that you ar...  \n",
       "7  To see a weta in your dream signifies your fea...  \n",
       "8  To see or viola in your dream represents your ...  \n",
       "9  To dream of a baby shower suggests that you ar...  "
      ]
     },
     "execution_count": 84,
     "metadata": {},
     "output_type": "execute_result"
    }
   ],
   "source": [
    "dataset"
   ]
  },
  {
   "cell_type": "code",
   "execution_count": 85,
   "id": "ccb75fd2",
   "metadata": {},
   "outputs": [],
   "source": [
    "from tqdm import tqdm\n",
    "\n",
    "def batch_summarize(df, summarizer, batch_size=8, max_input_length=4096, max_output_length=1024, min_output_length=20):\n",
    "    \"\"\"\n",
    "    Parameters:\n",
    "        df (pd.DataFrame): must contain columns \"prompt\", \"dream\", \"dream symbols\"\n",
    "        summarizer: transformers summarization pipeline\n",
    "        batch_size (int): number of examples per summarization batch\n",
    "        max_input_length (int): max length (in characters or tokens depending on tokenizer) for input truncation\n",
    "        max_output_length (int): max number of tokens in the summary\n",
    "        min_output_length (int): minimum number of tokens in the summary\n",
    "\n",
    "    Returns:\n",
    "        df (pd.DataFrame): same DataFrame with added column \"interpretation\"\n",
    "    \"\"\"\n",
    "    interpretations = []\n",
    "\n",
    "    for i in tqdm(range(0, len(df), batch_size), desc=\"Summarizing\"):\n",
    "        batch_df = df.iloc[i:i+batch_size]\n",
    "\n",
    "        inputs = []\n",
    "        for _, row in batch_df.iterrows():\n",
    "            prompt = str(row[\"prompt\"]).strip()\n",
    "            dream =  \"dream description: \" + str(row[\"dream\"]).strip()\n",
    "            symbols = \"dream symbols: \" + str(row[\"symbols\"]).strip()\n",
    "\n",
    "            combined_input = f\"{prompt}\\n{dream}\\n{symbols}\"\n",
    "            print(combined_input)\n",
    "            inputs.append(combined_input[:max_input_length])  # character-level truncation\n",
    "\n",
    "        outputs = summarizer(inputs, max_length=max_output_length, min_length=min_output_length, do_sample=False)\n",
    "        summaries = [output[\"summary_text\"] for output in outputs]\n",
    "        interpretations.extend(summaries)\n",
    "\n",
    "    df[\"interpretation\"] = interpretations\n",
    "    return df"
   ]
  },
  {
   "cell_type": "code",
   "execution_count": 86,
   "id": "6d3b2a8e",
   "metadata": {},
   "outputs": [
    {
     "name": "stderr",
     "output_type": "stream",
     "text": [
      "Device set to use cuda:0\n",
      "Summarizing:   0%|          | 0/10 [00:00<?, ?it/s]Your max_length is set to 1024, but your input_length is only 752. Since this is a summarization task, where outputs shorter than the input are typically wanted, you might consider decreasing max_length manually, e.g. summarizer('...', max_length=376)\n"
     ]
    },
    {
     "name": "stdout",
     "output_type": "stream",
     "text": [
      "Given dream description and dream symbols below, \n",
      "Explain what this dream means. \n",
      "Use the dream symbols to help you interpret the dream.\n",
      "dream description: I saw Seventec. It was a woman standing in a show window among shoes. I saw a big man in bed. I saw a horse coming towards us. I was piloting an airplane. It was so simple. I saw a large plane take off and the pilot had it fly upside down as he walked on its surface.\n",
      "dream symbols: To see a barrister with a white wig in your dream symbolizes wisdom and knowledge. The barrister may be a variation of the \"wise old man\" figure. You are looking for guidance and help in some area of your life.  Perhaps you are making an important decision.;\\nTo see ferns in your dream symbolize your future hopes and fears. It also represent solitude.;\\nTo see a landfill in your dream represents ideas that you have discarded. It also refers to rejected aspects of yourself or of someone's character. You may be trying to confront or come to terms with these rejections.;\\nTo see a koi fish in your dream indicates that you need to put aside your pride and ego and not let it get in the way of friendships and relationships. Alternatively, the koi fish is symbolic of patience, perseverance, determination, ambition, tenacity, courage and success. The koi serves as a reminder that you will overcome life's obstacles and adversities.;\\nTo play or watch a badminton game in your dream indicates that you need to make a decision quickly or else opportunities will pass you by.  You need to learn to keep up.;\\nTo see a Satyr or dream that you are a Satyr suggests that you are seeking sexual freedom. It is symbolic of male fertility and masculine sexual power. Alternatively, the dream indicates that you need to integrate aspects of your mind and your body. Or that you need to be more in tune with your environment. Satyrs are also       known for their carefree nature and so dreaming about them may imply that       you need to be more carefree.;\\nTo see your teacher (past or present) in your dream suggests that you are seeking some advice, guidance, or knowledge. You are heading into a new path in life and are ready to learn by example or from a past experience. Consider your own personal experiences with that particular teacher. What subject was taught? Alternatively, a teacher relates to issues with authority and seeking approval. You may be going through a situation in your waking life where you feel that you are being treated like a student or in which you feel you are being put to a test. Also pay attention to the demeanor and attitude of the teacher in your dream. If the teacher in your dream is mean, then it implies that you may be putting too much pressure on yourself to succeed.;\\nTo see or dream that you are in a car dealership refers to some decision that you need to make about where you want to go in life. You are trying to figure out your life path.;\\nTo see or eat cabbage in your dream suggests that you should not waste time with petty things in your life. You live and thrive on life's challenges. Alternatively, the dream refers to your unwise choices or decisions. You need to rethink some of your decisions.;\\nTo see calla lilies in your dream symbolize new beginnings, rebirth and longevity. In particular, a white calla lily represents purity, simplicity or elegance. Alternatively, the calla lily refers to a commitment.\n"
     ]
    },
    {
     "name": "stderr",
     "output_type": "stream",
     "text": [
      "Summarizing:  10%|█         | 1/10 [00:00<00:03,  2.57it/s]Your max_length is set to 1024, but your input_length is only 636. Since this is a summarization task, where outputs shorter than the input are typically wanted, you might consider decreasing max_length manually, e.g. summarizer('...', max_length=318)\n"
     ]
    },
    {
     "name": "stdout",
     "output_type": "stream",
     "text": [
      "Given dream description and dream symbols below, \n",
      "Explain what this dream means. \n",
      "Use the dream symbols to help you interpret the dream.\n",
      "dream description: I call one of my friends. I am in my old room in my home town, except it was in a new house by the beach. I had finals coming up, but it was such a nice day that I went outside. There was a beautiful tapestry monument. I went back inside as my friends came over to BBQ. I was happy and called everyone I knew.\n",
      "dream symbols: To dream that you are under narcosis is an indication that you are trying to suppress your emotions instead of confronting them. You may be trying desperately to avoid a problem or situation in your waking life. Or you may be trying to refuse to take responsibility for your actions.;\\nTo see or play with a yoyo in you dream signifies the ups and downs of your life. Alternatively, the dream indicates that you are not taking life's issues and problems seriously enough. You see things too trivially.;\\nTo see a wall in your dream signifies limitations, obstacles and boundaries. There is a barrier obstructing your progress. Alternatively, the wall indicates that you are too accustomed to your old habits and way of thinking. You feel stuck. If you dream of blood on the walls, then it is a warning of sorts. There is a situation that you need to confront. You can not avoid it any longer.;\\nTo see or taste some sort of sauce in your dream represents your sense of wisdom and intellect. Consider the color and flavor of the sauce for additional significance.;\\nTo see a vulture in your dream symbolizes purification and insight. It suggests that your past experiences will provide you with invaluable insight into a current situation or problem. Learn from your past. Alternatively, a vulture indicates that  you or someone is being opportunistic. Someone is watching you and is waiting for you to take a misstep. You feel that someone is taking advantage of you or is using you. Consider the metaphor of someone who is a \"vulture\". Sometimes a vulture is also a symbol of death, doom or rebirth.;\\nTo speak with an accent in your dream suggests that you are having difficulties conveying your thoughts. Consider how you feel about the accent. If you feel the accent makes you stand out in a negative way, then it signifies feelings of insecurities. If the accent makes you stand out in a positive way, then it symbolizes an air of confidence.;\\nTo dream that you are wearing headphones indicate that you are the only one getting the message. Furthermore, it means that you are in tune with your intuition.;\\nTo see or eat a macaroon in your dream represents a well-rounded experience. You are successfully balancing different aspects of your life.;\\nTo dream that you are being accused of something indicates overwhelming feelings of guilt.  It may also mean that you are having some doubts about yourself and the choices you are making.;\\nTo dream of mahogany wood refers to your stubbornness.\n"
     ]
    },
    {
     "name": "stderr",
     "output_type": "stream",
     "text": [
      "Summarizing:  20%|██        | 2/10 [00:00<00:03,  2.16it/s]Your max_length is set to 1024, but your input_length is only 860. Since this is a summarization task, where outputs shorter than the input are typically wanted, you might consider decreasing max_length manually, e.g. summarizer('...', max_length=430)\n"
     ]
    },
    {
     "name": "stdout",
     "output_type": "stream",
     "text": [
      "Given dream description and dream symbols below, \n",
      "Explain what this dream means. \n",
      "Use the dream symbols to help you interpret the dream.\n",
      "dream description: I had left my house and I was going down the steps in back, when someone came and told me that the negroes had revolted. The rest of the dream I spent hiding from them. Interpretation I don't know Answers to questions 2. afraid3. actual participant4. unpleasant5. yard back of house6. no7. no\n",
      "dream symbols: To see or eat jelly in your dream represents insight into a situation you have been wondering about. The dream may be a metaphor for something that is finally taking shape. You have come to some understanding. Alternatively, it indicates that you are preserving or maintaining a sweet relationship.;\\nTo dream that something is rare indicates that you need to appreciate certain things. Consider the symbolism or significance of the rare object or event. Don't take things for granted.;\\nTo dream that you are a hairdresser suggests that you are imposing your ideas and opinions on others.  Perhaps you need to work on your self-image and improve on your image. Alternatively, it refers to your attitude toward your own sexuality.;\\nTo dream that you are hailing a cab suggests that you need to ask for help in order to be able to move forward in some waking situation. To dream that you are in a cab indicates that you are being taken for a ride. Someone is taking advantage of you. Cabana To see or dream that you are in a cabana signifies your need for an escape or vacation. You may be feeling overwhelmed by a waking problem and need some downtime. Cabaret To watch a cabaret in your dream indicates your need to acknowledge your sensual side. Cabbage To see or eat cabbage in your dream suggests that you should not waste time with petty things in your life. You live and thrive on life's challenges. Alternatively, the dream refers to your unwise choices or decisions. You need to rethink some of your decisions. Cabin To see or dream that you are in a wood cabin indicates that you will succeed via your own means.  It suggests that you are self-reliant and independent, yet still remain humble. You prefer the simpler things in life. To dream that you are in a ship cabin indicates that are seeking some refuge from your emotions. Cabinet To see a cabinet in your dream symbolizes the female body and/or the womb. Alternatively, you may be hiding some family or personal secret. Consider the contents and condition of the cabinet for more clues. To dream that someone rearranged your cabinets suggests that somebody is overstepping your boundaries. Cable To see a cable in your dream represents your stamina and durability. If the cable is frayed or broken, then it signifies a lack of strength. To dream of cable television signifies your openness and how you communicate with others. Cable Car To see or ride in a cable car in your dream signifies the compromises that you make in life. Sometimes you have to go along with the masses in order to maintain the peace. Alternatively, the dream represents life's journey. You are headed in the right direction. Caboose To see or be in a caboose implies that you are last in line for something. You are feeling shortchanged. Alternatively, dreaming of a caboose serves as a reminder that you will eventually get to where you need. It is not always about being first or finishing first. Cackle To hear the sound of cackling in your dream signifies illness and loss. Cactus To see a cactus in your dream suggests that you are feeling invaded, that your space is being crowded into and that you are being suffocated.  The prickly spines of the cactus represent the boundary you are trying to establish between your personal and private. Or you feel the need to defend yourself in some way. Alternatively, the dream implies that  you have found yourself in a sticky situation. Perhaps you need to adapt to your existing circumstances instead of trying to change them. *Please See Also Succulents. Cadaver To dream that you are dissecting a cadaver indicates that you are ready to reveal or expose an aspect of yourself that you have been hiding. To see a cadaver in your dream represents a part of yourself that has died. Alternatively, dreaming of a cadaver means that you tend to give everything you have in a situation or relationship. Ca dillac To see a Cadillac in your dream suggests that you are driven to succeed. Your ambition will take you far in life. Caduceus To see a caduceus in your dream symbolizes health concerns. The dream may be telling you that you need to take better care of yourself. Caesarian Section To dream that you are having a caesarian section implies that you need help in order to get your idea or project off the ground. You can not do it by yourself. A more direct interpretation of this dream may represent your anxieties of having a C-section in real life. Cafe To dream that you are at a cafe represents your social life. The dream is telling you that it is time to call up old friends and catch up with what they are all up to. Cafeteria To dream that you are in a cafeteria denotes that there may be a lot of issues \"eating\" you up inside. Cage To dream that you are in a cage indicates that you are experiencing inhibitions and powerlessness in some areas of your life. You are feeling restricted, confined and restrained in a current relationship or business deal. Somebody may be keeping a short leash on you, where you are lacking the freedom to act independently. To dream that you are putting a wild animal into a cage signifies that you will succeed in overcoming your rivals and fears. It is also symbolic of your ability to control you animalistic rages and anger. To see a bird in a cage suggests that you are feeling limited in your expression and a sudden lost of freedom. You may be experiencing frustrations and an inhibited spirituality. The dream may also imply that you are feeling like a \"jail bird\". Cage Fighting To dream that you are cage fighting indicates that you are feeling restricted or confined in a current relationship. An aspect of yourself is fighting to be expressed or let out. To watch a cage fight represents conflicting ideas or beliefs. Cake To see a cake in your dream indicates that you need to learn to share and allocate your workload instead of trying to do everything yourself.  Cakes also symbolize selfishness or the feeling of not getting your fair share. More positively, the dream may represent your accomplishments and achievements. Consider also the metaphor a \"piece of cake\" or some situation that is easy. To see a partially eaten cake in your dream signifies missed and lost opportunities. To dream that you are buying a cake suggests that you have accepted the rewards and recognition you are getting for our work.  You are learning to be comfortable in the spotlight. Calamari To dream that you are eating calamari indicates that you are feeling battered or beaten. However, you are tough. Hang in there! Calculator To see a calculator in your dream suggests that you need to thoroughly think through some problem and carefully evaluate your choices.  You need to lay out some sort of plan or outline. The symbol may also be a metaphor for someone who is \"calculating\", cunning and scheming. Calendar To see a calendar in your dream represents the passing of time and past events. The dream may also be a reminder of a special event, appointment or important date in your waking life. Calf To see a calf in your dream symbolizes immaturity and inexperience. You need to develop certain qualities. California Known as the Golden State, to dream of California, refers to your desire for instant wealth. It may also suggests that you are looking for fame. If you live in California, then the dream may just be a reflection of your reality. Caliper To see or use a caliper in your dream reflects your concerns about not measuring up to the standards or expectations of others. Alternatively, dreaming of a caliper means that you need to be careful in making a decision or judgment. Ca lla Lily To see calla lilies in your dream symbolize new beginnings, rebirth and longevity. In particular, a white calla lily represents purity, simplicity or elegance. Alternatively, the calla lily refers to a commitment. Calling Card To see or use a calling card in your dream indicates that there is someone that you need to reach out to. If the calling card has the name of someone you know on it, then it means that their presence is with your spiritually, even though they may not be with you physically. Something in your waking life is reminding you of this person. Calluses To dream that you have calluses symbolize hard work. You have be laboring over a difficult task or situation. Calm To dream that you are calm denotes a fulfilling life. You find contentment and satisfaction in what you have. To dream that someone is trying to calm you down suggests  that you will experience many setbacks, especially if you continue to let your emotions run out of control. Calomel To see calomel in your dream indicates a rivalry. To dream that you are taking calomel signifies that you are being manipulated and taken advantage of. It is time to open your eyes and not allow yourself to be stepped on. Calves To see your calves in your dream symbolize movement and your ability to jump from situation to situation. In particular, if you are admiring your own calves, then it denotes a needy or codependent relationship. Camcorder *Please See Video Camera . Camel To see a camel in your dream denotes that you need to be more conservative; you are carrying too many responsibilities, burdens and problems on your shoulders. Consider the common phrase, \"the straw that broke the camel's back\". You tend to hold on and cling on to your emotions instead of expressing and releasing them. Learn to forgive and forget. Alternatively, the camel represents your stamina. To dream that you are petting a camel indicates that you are ready to let go of some of the burdens, responsibilities or emotional baggage that you are carrying around. Cameo To see or wear a cameo in your dream represents an aspect of yourself that you are trying to express. Perhaps you are showing your delicate and feminize side. Alternatively, the dream may be a pun on a \"cameo\" appearance that you are making at some social gathering. Camera To see a camera in your dream signifies your desires to cling on and/or live in the past. Alternatively, it may indicate that you need to focus on a particular situation. Perhaps you need to get a clearer picture or idea. To dream that the camera is broken indicates that you are ignoring an issue or refusing to see the big picture. To dream that you cannot find your camera to take a picture implies that you are not focusing on the matter at hand. Your attention is too easily diverted. Alternatively, the dream refers to forgotten memories. To see or dream that you are on a hidden camera indicates that you feel that you are being scrutinized. All eyes are on you. Camouflage To dream that you are in camouflage suggests that you are hiding  your true self and feelings. You are concealing who you really are. Alternatively, there is a situation in your waking life that is making you want to blend into the background and not get noticed. Camper To dream that you are living in a camper indicates that you need to move on with some situation or some aspect of your life. You may be dwelling on a situation and it is time to move forward. Alternatively, you may be expressing your desire to be more independent and self-sufficient. Campfire To start or see a campfire in your dream represents sharing and companionship. You need to open yourself to others and allow others to get to know you. Camping To dream that you are camping indicates a need for relaxation and a long-deserved break.  You need to be more in touch with nature and go back to a more basic and simpler life. Alternatively, it refers to your social circle and support group. You are looking for a sense of belonging, but at the same time be self-sufficient and independent. Campus To dream that you are on a campus indicates your need to expand your thinking/knowledge and challenge yourself mentally. Can To see a can in your dream indicates that there is something in your past that you need to hold on to and preserve. The dream may also be a pun on how you \"can\" do something. Don't underestimate your abilities and talents. To see canned foods in your dream symbolizes the emotions that you are keeping inside. Can Opener To see a can opener in your dream indicates your willingness to accept new ideas and new concepts. It may also be a symbol of reassurance and a way to tell yourself that \"I can\" do something. Canada To dream that you are in Canada depends on your own personal associations with the country. If you have never been to Canada, then you will need to draw on your own preconceptions and feelings of the country. Canal To see a canal in your dream symbolizes restraint and constricted emotions. It also suggests that you are unyielding in your thinking and beliefs, which may hinder you in the pursuit of your goals. You are being too controlling. Canary To see a canary in your dream represents happiness and harmony. Alternatively, the dream could indicate your desires for a relationship or that a new relationship is blossoming. Cancel To dream that you are canceling an appointment or plans suggests that you are afraid to confront some matter. You don't want to face the facts. Dreaming that your flight was cancelled indicates that you are feeling helpless or trapped by some situation. You feel you are being held back, either physically or mentally. Cancer To dream that you have cancer denotes hopelessness, grief, self-pity, and unforgiveness. You feel you are wasting your life away. This dream also represents areas in your life which are bothering you, disturbing you, and hurting you in some emotional way. An emotional issue is eating away at you. To dream that you are being treated for cancer signifies a positive change in your life. To dream that someone has cancer indicates that you need to change your negative way of thinking before it eats away at you. Start being more positive. To dream that someone is a Cancer sign symbolizes your tendency to keep and hold on to everything. You have a lot of power and influence. The Cancer sign also indicates that you tend to be sensitive, moody and emotional. You are also very family oriented. Candle To see a burning candle in your dream signifies that good luck and hope will be coming your way in small and steady amounts. You are in a comfortable stage in your life and may be seeking spiritual enlightenment. Lit candles are also symbolic of intellect, enlightenment, awareness or the search for truth. To see an unlit candle denotes feelings of rejection or disappointments. You are not utilizing your fullest potential. If you try to light the candle, but it won't light, then it represents grief. You are in denial about something. To see a candle blow out in your dream indicates that you are surrendering a significant aspect of yourself. You are letting go of something that used to be important to you. To watch the candle burn down to nothing in your dream signifies your fears of aging and dying. Alternatively, it represents a fear of sexual impotence. To see a red colored candle in your dream symbolizes some intimate or romantic relationship. You may not be giving the relationship a fair chance and are dismissing it before you invested sufficient time to learn more about the other person. On the other hand, you may just not be feeling any chemistry or passion. Candle Wax To see candle wax in your dream indicates that there is too much activity going on in your life. You may need to slow down and take a breather. Alternatively, it may symbolize the passage of time. Candy To see or eat candy in your dream symbolizes the joys and the special treats in life. It also represents indulgence, sensuality and/or forbidden pleasure. You may be devoting too much time to unimportant issues. A more direct interpretation suggests that you are eating too much candy and sweets. Candy Apple To see or eat a candy apple in your dream is a reminder that you can have too much of a good thing. You need to show restraint in some area of your life. Cane To see or use a cane in your dream suggests that you are in need of some support and advice. The cane may also represent someone you trust and can rely on. To dream that you are being caned indicates that you are being forced into submission or obedience. Someone is trying make an example of you. Alternatively, the dream symbolizes self-guilt. To dream that you are caning someone signifies pent up aggression. Pay attention at who you are caning. You may harbor some ill feeling or anger toward this person. This person could also represent an aspect of your own self. Cannabis *Please See Marijuana . Canned Food To see or eat canned food in your dream implies that you are keeping your emotions bottled up inside. You feel that it is not the appropriate time to express your true desires. Cannibalism To see cannibalism in your dream symbolizes a destructive and forbidden desire or obsession. Metaphorically, cannibals consume people's lives, along with their energy. Thus, this dream may then denote an aspect of your life (career, relationship, children, etc ), which is consistently draining your enthusiasm and vitality. To dream that you are a victim of cannibalism represents feelings of being \"eating alive\" by work, a relationship or a situation in your waking life. Cannon To see a cannon in your dream suggests that there is something drastic that needs to be done immediately. According to the Freudian school of thought, the cannon symbolizes the penis. Cannonball To see a cannonball in your dream indicates that you are harboring some anger or aggression and it is weighing your down. Canoe To see a canoe in your dream represents serenity simplicity, and independence. It is also a reflection of your emotional balance. You are moving ahead via your own power and determination. Canopy To see a canopy in your dream symbolizes protection. You may also be elevated to a prominent position. Cantaloupe To see or eat cantaloupe in your dream implies that you put forth a tough image, but are sensitive on the inside. Metaphorically, cantaloupes can refer to the breasts. Canteen To see or use a canteen in your dream suggests that you are looking to easily and conveniently satisfy your emotional needs. Canvas To see a canvas in your dream symbolizes potential and possibilities, especially if the canvas is blank. Consider the significance of what is on the canvas, as it is an aspect of your subconscious. Canyon To see a canyon in your dream represents your subconscious mind and hidden feelings. It may point to emotions and relationships that you did not recognize. Cap To see a cap in your dream signifies informality and ease. It also suggests that you need to be more tolerant of others. Cap And Gown To wear a cap and gown in your dream indicates that you are transitioning into a higher level in your life. You are ready to move on to the next stage. To see someone in a cap and gown in your dream symbolizes your successes and accomplishments. Cape To see or dream that you are wearing a cape indicates that you are trying to shield yourself from being emotionally hurt. It may also mean that you are trying to cover-up or hide something. Capital Punishment *Please See Death Penalty. Capricorn To dream that someone is a Capricorn signifies fears of inadequacy. You are afraid that you are not measuring up. Alternatively, it denotes your drive, tenacity and ambition. Capsize To dream that your boat has capsized represents your avoidance in confronting uncomfortable feelings and/or situations. Captain To dream that you are a captain indicates that you are taking charge of your emotions and confronting the issues that are bothering you. To see a captain in your dream represents your powerful influence over others. Captive To dream that you are held captive suggests that you are feeling trapped in some aspect or circumstances of your waking life. You may feel trapped in your career, relationship or life in general. Alternatively, captivity dreams indicate something you are refusing to acknowledge or something that you are in denial about. Car To dream that you are driving a car denotes your ambition, your drive and your ability to navigate from one stage of your life to another. Consider how smooth or rough the car ride is. If you are driving the car, then you are taking an active role in the way your life is going. However, if you are the passenger, then you are taking a passive role. If you are in the backseat of the car, then it indicates that you are putting yourself down and are allowing others to take over. This may be a result of low self-esteem or low self-confidence.  Overall, this dream symbol is an indication of your dependence and degree of control you have on your life. Driving a new car means that you are headed toward a new direction or goal. You are deviating from your original life path. To dream that you drive your car into a body of water or that it rolls into water implies that you are in for an emotional journey. To see a car underwater in your dream points to feelings of regret or sadness over an abandoned goal. To dream that your car is buried suggests that you are feeling weary about pursing someone else's dreams instead of your own. You are afraid to let others down. To dream that your car flipped over or rolled over implies that some significant event is preventing you from achieving your goals. You feel that you have to put your own life on hold. To see or dream that a car is being crushed represents disappointments occurring in your waking life. You are lacking ambition and goals. To dream that your car won't start indicates that you are feeling powerless in some situation. To dream that you forget or can't find where you parked your car indicates that you are dissatisfied or unhappy with an aspect of your waking life. You do not know what you really want to do with your life or where you want to go. To dream that your car has been stolen indicates that you are being stripped of your identity.  This may relate to losing your job, a failed relationship, or some situation which has played a significant role in your identity and who you are as a person. If you dream that you are stealing a car, then it implies that you are trying to take credit for someone else's work. It may also mean that you are downplaying the role that others had in your success. To dream that your car is overheating suggests that you are expending too much energy. You need to slow down or run the risk of being burnt out. You are taking on more than you can handle. It is time to take a breather. To see a parked car in your dream suggests that you need to turn your efforts and energies elsewhere. You may be needlessly spending your energy in a fruitless endeavor. Alternatively, a parked car may symbolize your need to stop and enjoy life. To dream that you are almost hit or were ran over by a car suggests that your lifestyle, beliefs or goals may be in conflict with another's. It may also be symbolic of a jo lting experience or injured pride. If you dream that you hit or ran over someone with a car, then it implies that you have hurt someone in order to move ahead in life. To dream that you are unable to roll up the windows of your car suggests that  you are showing some hesitation and reservation about the direction that you are taking in life or the path that you have chosen. To see a haunted car in your dream represents unfinished goals. You had started off on a path or journey, but never reached the end. Perhaps life had taken you on a different direction that you had planned or intended. To dream that no one is driving a moving car suggests that you need to reassess your level of control over your life. You are unwilling to take responsibilities for your actions. To buy a car in your dream refers to your commitment to some important life decision you have made. To see or drive a car that looks like a cat refers to your free and independent spirit. If you are almost hit by a car that looks like a cat, then it suggests that you are hindering someone's goals or not letting them be who they are. If you dream of driving a black colored car, then it means that you like to be low-key about your intentions or goals. Driving a black color in a dream signify some ulterior motives. Dreaming of a car that is driving fast suggests that you need to slow down and think through your choices. You are so focused on your goals that you are leaving behind the people around you. Car Alarm To hear or set off a car alarm in your dream implies that you are headed on the wrong path. The dream is alerting you to change  your direction and alter your course. Car Battery To see your car battery in your dream symbolizes your stamina. To dream that your car battery is dead suggests that you are overwhelmed and overworked. You need to slow down and set some time for yourself or else run the risk of collapsing from exhaustion. Car Carrier To see a car carrier in your dream indicates that you are lacking direction and have no goal of your own. You are letting others make decisions for you. You are going with the flow. Car Dealership To see or dream that you are in a car dealership refers to some decision that you need to make about where you want to go in life. You are trying to figure out your life path. Car Seat To see an infant car seat in your dream implies that you are in control of someone else's direction or destiny in life. Alternatively, the dream refers to the beginning stages of your life journey. You are just getting started on an important path. Car Show To dream that you are at a car show suggests that you are drawn to a flashy lifestyle which may not necessarily be who you really are. To dream that you are showing off your car at a car show implies that you are proud of your accomplishments and achievements. You are seeking recognition for your work. Caramel To eat or lick caramel in your dream indicates a sweet and satisfying situation will eventually turn into \"sticky\" problem. If it sounds too good to be true, then it is really too good to be true. Caravan To dream that you are part of a caravan means that you will achieve your goals with the support of others. You do not need to do things by yourself. Carburetor To see the carburetor in your dream represents emotional, spiritual and physical balance. Carcass To see a carcass in your dream indicates that you are feeling emotionally torn. You feel that you are literally being ripped apart. Cardboard To see a cardboard box in your dream indicates a lack of protection against risk. Cardinal To see a cardinal in your dream represents vitality and happiness. It also may mean being in first place or your position at the front. Cards To dream that you are playing a game of cards represents your ability to strategize in various areas of your life. In particular, diamonds indicate wealth and materialism, clubs indicate work and industry, hearts indicate happiness in love, and spades indicate troubling times and disappointments. To dream that you are shuffling cards signifies indecision. You need to reevaluate your choices. In particular, dreaming of the king of heart card symbolizes a compassionate male figure in your life. It may also mean that you are that compassionate person. Cargo To dream that you are loading or carrying cargo refers to a heavy load that you are carrying around. You are feeling overburdened or overwhelmed. If you are unloading cargo in your dream, then it indicates that you are ready to rid yourself of the extra weight, negative habits and/or excesses that are holding you back. It is time to let go. Carjack To dream that you have been carjacked suggests that you have lost your direction in life. You feel that circumstances in your life has lead you on a different course. Carnation To see carnations in your dream symbolize light-heartedness, vitality and joy. Alternatively, it may represent bachelorhood. Consider the color of the carnation for additional significance. Carnelian To see a carnelian in your dream represents passion, lust, sexuality, or matters of the heart.  It also indicates a need for spiritual healing. Carnival To dream that you are at the carnival represents falsehoods and deception. If you observe freakish sights, then it denotes a lack of harmony in your domestic life. Much sorrow will arise in what were thought to be pleasant times. To dream that you are on a carnival ride suggests that you are going in circles. It may also symbolize cheap thrills. To dream that you run away with the carnival denotes that you will be involved in or closely connected to the entertainment field. Caroling To dream that you are caroling signifies joy, harmony and tranquility. You are in a festive and upbeat mood.  The dream may also be a pun on someone who is named \"Carol\". Carousel *Please see Merry Go Round. Carp To see a carp in your dream indicates that you need to put aside your pride and ego and not let it get in the way of friendships and relationships. Alternatively, the carp is symbolic of patience, perseverance, determination, tenacity, courage and success. Carpenter To see or dream that you are a carpenter indicates that you are confronting and overcoming your obstacles. Alternatively, it suggests that you need to change your way of thinking and readjust your attitude. Carpet To see a carpet in your dream represents your way of protecting yourself from life's harsh realities. Alternatively, a carpet symbolizes luxury, comfort or richness. Consider the condition and designs of the carpet and how it parallels the foundation that you have laid for yourself in life. Perhaps the dream is telling you that you are refusing to confront some issue and instead are sweeping it under the carpet? To dream that you are installing or laying down carpet suggests that you are trying to make your life more comfortable.  The dream may also be analogous to the planning of something. You are laying out  some new project or endeavor. To dream of a magic carpet implies your desires and wishes to escape from a situation, relationship, or responsibilities. The dream is similar to a flying dream, so you may want to look up flying. *Please See Also Red Carpet. Carriage To see an old-fashioned carriage in your dream suggests that your ways of thinking may be too outdated and antiquated. The carriage is also a symbol of power and status. Carrom Board To see or play with a Carrom Board in your dream implies that you need to focus on your goals. Alternatively, the dream indicates that you are trying to shield or protect a loved one from some problem or issue. Carrot To see a carrot in your dream signifies abundance and fertility. It may also symbolize a lure as in the idiom \"to dangle a carrot\". To eat a carrot in your dream indicates clarity. You are seeing something more clearly. Carry To dream that you are being carried suggests that you are feeling like a burden to somebody. You need to be more independent and take on more responsibilities. Alternatively, it may elude to romance. Cartoon To dream that your real life is depicted in a cartoon world suggests that you are perceiving the world in a comical and unserious manner. This dream may also serve as an escape from the stressful realities of your life. It is your way of obtaining moments of lightheartedness and fun. Additionally, you need to learn to laugh at yourself and at your mistakes. To dream that you are watching cartoons indicates that you are not taking life seriously. *Please See Also Cartoon Character. Cartwheels To dream that you are doing cartwheels represent poise and balance in your life or the need to regain balance. You need to handle life's obstacle and stress with more fortitude. To dream that you have difficulties doing cartwheels suggest that you do not have confidence in your own abilities. It may also mean that you are lacking discipline and are exhibiting some struggles in your life. There is an imbalance between work and pleasure. Carving To dream that you are carving a piece of wood symbolizes spiritual and creative energy. Metaphorically, you are transforming subconscious energy into conscious awareness. Consider whether the carving is purely ornamental or utilitarian. To dream that you are carving some meat indicates that you are trying to rid yourself of certain feelings. You may be distancing yourself from your emotions and analyzing them from an objective standpoint. Alternatively, some person or situation is violating an aspect of your life. Carwash To dream that you are at a carwash indicates that you need to clean up your self-image. You are ready for a fresh start. Cash *Please See Money. Cash Register To see a cash register in your dream represents financial worries and concerns. You are assessing your financial situation. On the other hand, you may be expecting monetary gains. Cashier To see or dream that you are a cashier indicates that you are re-evaluating your life and what you have accomplished.  Alternatively, it suggests that you have removed yourself out of some situation. You have \"checked out\". Cashmere To feel or wear cashmere in your dream symbolizes luxury. You strive for the finer things in life. Alternatively, dreaming of cashmere suggests that you are looking for warmth and comfort in your relationships. Casino To dream that you are in a casino signifies the risk-taker within you. If you are a reserved or passive person, then the dream suggests that you should take a chance. If you are not, then it implies that you need to make a more informed decision instead of relying on fate. Casket To see a casket in your dream symbolizes the womb. It also signifies your thoughts and fears of death. If the casket is empty, then it denotes irreconcilable differences. Alternatively, the coffin represents ideas and habits that are no longer of use and can be buried. In particular, if the casket is white, then it refers to lost innocence. To see a body in a casket in your dream signifies that you are going through a period of depression. You may feel confined, restricted and that you are lacking personal freedom. There may be a dead or decaying situation or issue in your life that you need to address. It is time to end this situation or relationship. Casserole To dream you are making a casserole symbolizes new ideas or a new phase in your life. Cassette Tape To see a cassette tape in your dream suggests that there is worth and truth in what you are saying. Alternatively, the dream means that you need to get out of the same rut. You are going around in a loop. Cassowary To see a cassowary in your dream refers to your shy nature. You try to avoid confrontation and arguments. Cast To dream that you are wearing a cast suggests that your motion is being inhibited in some way. Or that you need to show some restraint in an area of your life. Consider which part of the body is in a cast. Alternatively, a cast symbolizes a time of healing and discipline. Castanets To see, hear or play with castanets in your dream  represents little annoyances and irritations in your waking life. Alternatively, the dream may be a metaphor that you need to \"cast-a-net\". Perhaps you are looking for some assistance. Castle To see a castle in your dream signifies reward, honor, recognition, and praise for your achievements. You are destined to a position of power, wealth, and prestige. Alternatively, the dream indicates your desire to escape from life's daily problems. To dream that you live in a castle represents your extreme need for security and protection to the point where you may be isolating yourself from others. Perhaps the dream parallels a waking situation where it  has put you on the defensive. To see a castle door in your dream indicates that you have missed a huge and/or profitable opportunity, especially if you are standing outside the castle door. If you are standing inside the castle door, then it means that you have let your success and ego distance you from others. Castration To dream of a castration signifies your overwhelming fears that you have lost your virility. You are feeling the pressures of your sexual performance. Alternatively, it represents a lack of creativity, power or strength.;\\nTo see a zebra in your dream represents perfect balance, unity and harmony. It also indicates that opposites attract. Alternatively, a zebra suggests that you are spending too much time in trivial matters. You need to establish a clear timeline and lay your groundwork for success.;\\nTo see or wear a tampon in your dream signifies aggression. You are experiencing some tension that needs to be released. Alternatively, the dream may also be analogous to the phallus.;\\nTo dream that you in a junkyard represents fear, frustration, and anger which you have repressed and kept inside.  It may also symbolizes your discarded attitudes, old habits, and former beliefs.;\\nTo see a passport in your dream represents your identity and your ability to traverse through various situations. You are experiencing new found freedom to do what you want and go where you want. You may be going through a period of self-discovery.;\\nTo feel or wear cashmere in your dream symbolizes luxury. You strive for the finer things in life. Alternatively, dreaming of cashmere suggests that you are looking for warmth and comfort in your relationships.;\\nTo dream that you are getting acupuncture suggests that you are in need of healing. You may need to divert your energies to different pursuits. Alternatively, the dream may be a metaphor for a problem or issue that you need to pinpoint.\n"
     ]
    },
    {
     "name": "stderr",
     "output_type": "stream",
     "text": [
      "Summarizing:  30%|███       | 3/10 [00:01<00:03,  2.32it/s]Your max_length is set to 1024, but your input_length is only 644. Since this is a summarization task, where outputs shorter than the input are typically wanted, you might consider decreasing max_length manually, e.g. summarizer('...', max_length=322)\n"
     ]
    },
    {
     "name": "stdout",
     "output_type": "stream",
     "text": [
      "Given dream description and dream symbols below, \n",
      "Explain what this dream means. \n",
      "Use the dream symbols to help you interpret the dream.\n",
      "dream description: I was driving my car down a hill. There was snow on the ground. It stalled by Elyria garage and I let it park in front of the door, blocking it. I had to go to work, so I left it there. After work I came there and didn't see the car. I went into the garage and it was there. I told Joe to fix it. When he opened the trunk door, the trunk was full of ashes. He told me to take out the ashes, so I got a shovel and went to work. He showed me the rusted body with holes in it.\n",
      "dream symbols: To see a Barbie doll in your dream represents society's ideals.  You may feel that you are unable to meet the expectations of others.  Alternatively, the Barbie doll refers to the desire to escape from daily responsibilities. It may serve to bring you back to your childhood where life was much simpler and more carefree.;\\nTo see or dream that you have a nanny implies that you are feeling overwhelmed. You feel that certain aspects of yourself are being neglected.;\\nTo see Voldemort in your dream symbolizes an ever-present evil force working against you.;\\nTo hear knocking in your dreams suggests that your subconscious is trying to attract your attention to some aspect of yourself or to some waking situation. A new opportunity may be presented to you. Alternatively, the dream may be a pun that you are \"knocking\" on or insulting something or someone. Or perhaps there is a habit or behavior that you to stop or \"knock it off\".;\\nTo dream that you are telekinetic represents a higher level of awareness and consciousness. You are not utilizing your full potential and need to start putting your stored energy levels and mental abilities to use. In other words, you need to put your thoughts into action. For some, dreams of telekinetic powers may indicate your latent paranormal abilities.;\\nTo see emoticons in your dream represents your range of emotions. You are feeling emotionally overwhelmed. Alternatively, dreaming of emoticons suggests that your feelings are being trivialized or that someone is discounting how you feel.;\\nTo see gasoline in your dream represents energy and spirituality. Thus, to dream that you run out of gas suggests that you are wearing yourself out. Take a time out.;\\nTo see or wear a tampon in your dream signifies aggression. You are experiencing some tension that needs to be released. Alternatively, the dream may also be analogous to the phallus.;\\nTo see a scarf in your dream symbolizes self-restrictions. You may be too controlling of your emotions instead of expressing them. Alternatively, you feel that your voice is being muffled.;\\nTo dream that you are a victim of identity theft means that someone in your waking life is taking credit for your work.  Alternatively, you may be having this dream because you are experiencing an identity crisis. You feel lost and not sure where you are headed.\n"
     ]
    },
    {
     "name": "stderr",
     "output_type": "stream",
     "text": [
      "Summarizing:  40%|████      | 4/10 [00:01<00:02,  2.43it/s]Your max_length is set to 1024, but your input_length is only 623. Since this is a summarization task, where outputs shorter than the input are typically wanted, you might consider decreasing max_length manually, e.g. summarizer('...', max_length=311)\n"
     ]
    },
    {
     "name": "stdout",
     "output_type": "stream",
     "text": [
      "Given dream description and dream symbols below, \n",
      "Explain what this dream means. \n",
      "Use the dream symbols to help you interpret the dream.\n",
      "dream description: There is the theater. A man asks if there is a donut shop nearby and where. I tell him where and he goes. A woman comes by and asks the same question. I lead her halfway there and she goes the rest of the way. Before long I hear her frantic screams for help. I know that the man I talked to earlier is to blame. Swallowing my fear, I run in the direction of her screams, also shouting for help.\n",
      "dream symbols: To see Harley Quinn in your dream points to an unhealthy, abusive relationship. Alternatively, the dream may indicate that you are blind to something that everyone else is clearly seeing. You are living in your own reality.;\\nTo see your own elbow in your dream indicates that you need to make a space for yourself. Your dream may express hesitance or fear in creating your own space for fear of being scrutinized. Alternatively, the dream may be a pun on your need to put more \"elbow grease\" on some task.;\\nTo dream that you are at a banquet indicates that you are emotionally malnourished. You are seeking emotional stimulation.;\\nTo see a weta in your dream signifies your fear of the unknown. Sometimes what you don't know is a source of anxiety and stress. You are worrying too much about minor issues.  Alternatively, dreaming of a weta represents your roots.;\\nTo see a Cadillac in your dream suggests that you are driven to succeed. Your ambition will take you far in life.;\\nTo dream that you are bankrupt indicates that you need to start taking measures to protect  yourself and your resources. You may be feeling emotionally drained or physically overworked. The dream may be a sign of depression. Alternatively, to dream that you are bankrupt symbolizes feelings of insecurity.;\\nTo see or use a knocker in your dream symbolizes opportunities and welcomed expectations. You are seeking for assistance and spiritual guidance. On a negative note, to see a knocker in your dream signifies repressed thoughts, death, and dreaded expectations. It is a bad omen.;\\nTo dream that you are in school signifies feelings of inadequacy and childhood insecurities that have never been resolved. It may relate to anxieties about your performance and abilities. If you are still in school and dream about school, then the dream may just be a reflection of your daily life and has no special significance.;\\nTo see an umbrella in your dream symbolizes emotional security. You are putting up a shield against your emotions and are trying to avoid dealing with them. If the umbrella is leaking or broken, then it indicates that you are unprepared with facing your problems.;\\nTo dream that you are getting a manicure represents glamour and beauty. You are seeking attention for the work you have done. You may also be expressing something beautiful and positive through your work.\n"
     ]
    },
    {
     "name": "stderr",
     "output_type": "stream",
     "text": [
      "Summarizing:  50%|█████     | 5/10 [00:02<00:01,  2.61it/s]Your max_length is set to 1024, but your input_length is only 705. Since this is a summarization task, where outputs shorter than the input are typically wanted, you might consider decreasing max_length manually, e.g. summarizer('...', max_length=352)\n"
     ]
    },
    {
     "name": "stdout",
     "output_type": "stream",
     "text": [
      "Given dream description and dream symbols below, \n",
      "Explain what this dream means. \n",
      "Use the dream symbols to help you interpret the dream.\n",
      "dream description: Tyler and Jerome are in a bedroom together. They are breaking up, arguing and upset. I interrupt them because Grandma Mildred has requested shaving equipment so she can shave Grandpa Lloyd. I ask if I can borrow one from them. They are very annoyed with me and glare, but Tyler gives me his mug and straight razor. I am concerned if Grandma can use it safely.\n",
      "dream symbols: To see or eat jelly in your dream represents insight into a situation you have been wondering about. The dream may be a metaphor for something that is finally taking shape. You have come to some understanding. Alternatively, it indicates that you are preserving or maintaining a sweet relationship.;\\nTo dream that you are playing an online game indicates that you are trying to escape from the stresses in your daily life. You want to be someone else. You want to be in control. Alternatively, dreaming about an online game may simply mean that you are spending so much time playing the game that the images have drifted into your dreams.;\\nIf you are not an immigrant and dream that you or someone is an immigrant, then it implies that you are acknowledging an aspect of yourself that was unexpressed. If you are helping an illegal immigrant in your dream, then it means acceptance.  Alternatively, the dream may reflect your waking experience as an immigrant. Or it may refer to the experiences of your parents or ancestors. Consider how you or they feel as an immigrant and what they endured or went through.;\\nTo dream that you have been sabotaged indicates that there is something that you are ignoring or overlooking in your waking life.;\\nTo see uprooted plants in your dream indicate that you are out of balance. You may be feeling disconnected or distant from others. It may also represent broken family connections or failed attempts in reestablishing familial ties.;\\nTo see or dream that you are a zombie suggests that you are physically and/or emotionally detached from people and situations that are currently surrounding you. You are feeling out of touch. Alternatively, a zombie means that you are feeling dead inside. You are just going through the motions of daily living.;\\nTo see or use a water bottle in your dream indicates that you are keeping your hopes up about something.  It also means spiritual renewal and rejuvenation.;\\nTo discover secret passageways in your dream parallel to something new and/or exciting that is occurring in your waking life. It refers to a new opportunity, a new relationship, or a new attitude toward life. If you wake up before fully exploring these passageways, then it suggest that you may not know how to take advantage of these opportunities or how to move forward with a relationship. Perhaps the newness and uncertainty of this discovery also makes you a little more cautious. Overall, this is a positive dream.;\\nTo see a koala in your dream represents your link the physical world, the subconscious, and the spiritual realm. The koala also symbolizes security, nurturance, protection, and/or feminine qualities. You may be expressing a desire to regress back into infantile dependence and escape from your daily responsibilities/problems.;\\nTo dream about your neighborhood represents a sense of community. You need to develop new friends and new ties. Consider your waking feelings toward your neighbors.\n"
     ]
    },
    {
     "name": "stderr",
     "output_type": "stream",
     "text": [
      "Summarizing:  60%|██████    | 6/10 [00:02<00:01,  2.43it/s]Your max_length is set to 1024, but your input_length is only 740. Since this is a summarization task, where outputs shorter than the input are typically wanted, you might consider decreasing max_length manually, e.g. summarizer('...', max_length=370)\n"
     ]
    },
    {
     "name": "stdout",
     "output_type": "stream",
     "text": [
      "Given dream description and dream symbols below, \n",
      "Explain what this dream means. \n",
      "Use the dream symbols to help you interpret the dream.\n",
      "dream description: I was in a floral shop and all these birds (blue jays) came in and started eating the flowers. The store owner came in and started screaming. Then I woke up. Setting: An old store that sold flowers. Characters: An old female store owner, blue jays, and myself. Feelings and Thoughts: Other. I felt kind of startled when she came out screaming.\n",
      "dream symbols: To dream of fancy things indicates that you are putting up a facade and hiding your true self. You are trying to divert attention to unimportant things.;\\nTo see the jaws of an animal in your dream indicate a misunderstanding. It may also mean that you are rushing into things. Alternatively, the dream suggests that someone or some situation is taking a large bite of your time, energy or some aspect of yourself.;\\nTo dream of a war signifies disorder and chaos in your waking life You are experiencing some internal conflict or emotional struggle which is tearing you up inside. Alternatively, the dream indicates that you are either being overly aggressive or that you are not being assertive enough. Perhaps you need to be prepared to put up a fight in some area of your life. On a more direct level, the dream may be reflection of current wars around the world and your personal feelings about it.;\\nTo see a lake in your dream signifies your emotional state of mind. You feel restricted and that you can't express your emotions freely. Alternatively, the lake may provide you with solace, security, and peace of mind. If the lake is clear and calm, then it symbolizes your inner peace. If the lake is disturbed, then you may be going through some emotional turmoil.;\\nTo see uprooted plants in your dream indicate that you are out of balance. You may be feeling disconnected or distant from others. It may also represent broken family connections or failed attempts in reestablishing familial ties.;\\nTo see or eat eggplants in your dream signify satisfaction with where you life is at.  It may indicate abundance or fertility. Eggplants are also symbolic of loyalty, passion and devotion.;\\nTo dream that you are in a village represents restrictions. You need to follow the rules. Alternatively, a village signifies community, simplicity, and tradition.;\\nTo see your teacher (past or present) in your dream suggests that you are seeking some advice, guidance, or knowledge. You are heading into a new path in life and are ready to learn by example or from a past experience. Consider your own personal experiences with that particular teacher. What subject was taught? Alternatively, a teacher relates to issues with authority and seeking approval. You may be going through a situation in your waking life where you feel that you are being treated like a student or in which you feel you are being put to a test. Also pay attention to the demeanor and attitude of the teacher in your dream. If the teacher in your dream is mean, then it implies that you may be putting too much pressure on yourself to succeed.;\\nTo     see or ride on a kick scooter in your dream implies that you are trying to     balance various areas of your life. The dream also means that you need to be     decisive in what you are doing.;\\nTo dream that you or others are adopting a child indicates that you are taking on something new and different. Ask yourself what is missing in your life that would make you happy.\n"
     ]
    },
    {
     "name": "stderr",
     "output_type": "stream",
     "text": [
      "Summarizing:  70%|███████   | 7/10 [00:02<00:01,  2.36it/s]Your max_length is set to 1024, but your input_length is only 569. Since this is a summarization task, where outputs shorter than the input are typically wanted, you might consider decreasing max_length manually, e.g. summarizer('...', max_length=284)\n"
     ]
    },
    {
     "name": "stdout",
     "output_type": "stream",
     "text": [
      "Given dream description and dream symbols below, \n",
      "Explain what this dream means. \n",
      "Use the dream symbols to help you interpret the dream.\n",
      "dream description: I was among some girls about 10 years old. I was tempted to touch them sexually. A plastic balloon shaped like a crotch was by me, and I felt it. I was dismayed because I had been tempted. I wanted to convince the doctors at the hospital where I was confined that I could control myself if they released me. I said to a doctor, \"Is that why you won't let me go?\" I pondered deeply on how I could rechannel my mental energy toward creative endeavors.\n",
      "dream symbols: To see a weta in your dream signifies your fear of the unknown. Sometimes what you don't know is a source of anxiety and stress. You are worrying too much about minor issues.  Alternatively, dreaming of a weta represents your roots.;\\nTo see a yak in your dream represents your uniqueness and dependability. The yak may also be a pun on \"yakking\" too much. Maybe you should stop talking and listen more.;\\nTo see a castle in your dream signifies reward, honor, recognition, and praise for your achievements. You are destined to a position of power, wealth, and prestige. Alternatively, the dream indicates your desire to escape from life's daily problems.;\\nTo see or eat a tangerine in your dream implies that you are in need of a quick and easy boost of energy.;\\nTo dream that you have been rear ended indicates that something from your past is still impacting your present situation. You need to learn from the past in order to move forward.;\\nTo dream that you are breaking out of jail refers to your desire or need to escape from a restrictive situation or relationship. Alternatively, dreaming of a jailbreak means that you are refusing to accept the consequences of your actions.;\\nTo dream that you are taming an animal symbolizes your control over your animalistic urges.  You are experiencing balance and harmony.;\\nTo dream that you are being indifferent suggests that you are trying to hide your true concerns. You do not want to let on that you care or that you really feel a certain way.;\\nTo see a fairy in your dream indicates that you are in search of some help or advice for a problem or decision, but may not want to directly admit you need help. In particular, if the fairy is evil, then it suggests that an aspect of yourself needs to be set free.  The fairy is also symbolic of your soul and the feminine aspects of yourself.;\\nTo see or dream that you are a park ranger represents control of your subconscious. You are also keeping your emotions in check.\n"
     ]
    },
    {
     "name": "stderr",
     "output_type": "stream",
     "text": [
      "Summarizing:  80%|████████  | 8/10 [00:03<00:00,  2.49it/s]Your max_length is set to 1024, but your input_length is only 715. Since this is a summarization task, where outputs shorter than the input are typically wanted, you might consider decreasing max_length manually, e.g. summarizer('...', max_length=357)\n"
     ]
    },
    {
     "name": "stdout",
     "output_type": "stream",
     "text": [
      "Given dream description and dream symbols below, \n",
      "Explain what this dream means. \n",
      "Use the dream symbols to help you interpret the dream.\n",
      "dream description: Two nuclear subs are fighting and are going to blow. I start running away so I can escape radiation fallout. I run toward the coast range, up and up and up. Then I'm running up a narrow stairs to an attic. Something scary is after me. I lock the two doors on the stairwell and hide under debris in the attic near a window where I can look out and see the danger.\n",
      "dream symbols: To see or viola in your dream represents your deeper, darker and more melancholy feelings.;\\nTo see an electricity tower in your dream symbolizes a distribution of power. You do not need to always be in full control. You need to delegate responsibilities and duties. Alternatively, the dream symbolizes industry and modernity.;\\nTo dream that you are at a farmer's market suggests that you are looking for spiritual enrichment from a higher source.;\\nTo dream that you are carrying a knife signifies anger, aggression and/or separation. There may be something in your life that you need to cut out and get rid of.  Perhaps you need to cut ties or sever some relationship. Be more divisive. Alternatively, a knife refers to some sexual tension or sexual confrontation.;\\nTo dream of having an abundance of a certain item indicates that you need to conserve your resources and energies. This dream may be a compensatory dream for something that you are lacking in life. More directly, abundance signifies happiness.;\\nTo see a maple in your dream symbolizes humility, warmth, and openness. It also indicates positive gains, happiness and fullness of life.;\\nTo dream that you are in the Wild West represents your resourcefulness and survival skills. Alternatively, the dream implies that you may be over-thinking a problem. Sometimes simplicity is the way to go. Being in the Wild West also indicates that you need to be more straightforward about your feelings, intentions or goals.;\\nTo see or wear a pantyhose in your dream represents alluring sexuality. Consider the color of the pantyhose. If it is nude or beige color, then it signifies your discreteness. If it is black, then it symbolizes your hidden sexuality waiting to be expressed. If it is red, then it represents overt sexuality. If the pantyhose is torn or have a run, then it indicates lacking self esteem and reduced self confidence.;\\nTo dream that you are changing into the form of an animal indicates that you are becoming less civilized, less restrained and becoming more free and instinctive. You may be expressing your newfound freedom/independence and experiencing a lack of boundaries. Alternatively, taking the form of an animal suggests that your primal desires and/or repressed sexual urges are coming to the surface and needing to be satisfied. Consider also the animal that your turn into.;\\nTo dream that you are at the mall symbolizes the choices, decisions and options you have in your waking life. These choices will help shape who you are as a person. You are trying to establish your identity and sense of self. Alternatively, the dream suggests that you are trying to make a favorable impression on someone. The mall is also symbolic of materialism and the need to keep up with the trends, fads, and/or the latest technology. Consider the type and name of stores that you see in your dreams.\n"
     ]
    },
    {
     "name": "stderr",
     "output_type": "stream",
     "text": [
      "Summarizing:  90%|█████████ | 9/10 [00:03<00:00,  2.59it/s]Your max_length is set to 1024, but your input_length is only 500. Since this is a summarization task, where outputs shorter than the input are typically wanted, you might consider decreasing max_length manually, e.g. summarizer('...', max_length=250)\n"
     ]
    },
    {
     "name": "stdout",
     "output_type": "stream",
     "text": [
      "Given dream description and dream symbols below, \n",
      "Explain what this dream means. \n",
      "Use the dream symbols to help you interpret the dream.\n",
      "dream description: I went to some place with Dad and I ordered chocolate chip pancakes with chocolate sauce (which meant chocolate ice-cream). When it was delivered it was a small piece of something and it had corn in it. I said I couldn't complain and Dad wouldn't complain for me. There was something to do with David Anders.\n",
      "dream symbols: To dream of a baby shower suggests that you are welcoming a new start. You are given a chance to start over again and do things differently this time around. You have a new found faith in life itself.;\\nTo see yourself in your dream is a reflection of how you act and behave in your waking life. Consider what you are doing and how you are feeling in the dream for additional significance.;\\nTo dream that you are playing an online game indicates that you are trying to escape from the stresses in your daily life. You want to be someone else. You want to be in control. Alternatively, dreaming about an online game may simply mean that you are spending so much time playing the game that the images have drifted into your dreams.;\\nTo see a mammoth in your dream implies that you need to let go of some past emotions. You are letting your cold hard feelings control your behavior. Perhaps you are being too frigid. Alternatively, a mammoth symbolizes power, size and/or strength.;\\nTo see a garland in your dream represents wholeness and completeness.;\\nTo see a new house in your dream indicates that you are taking on a new identity and developing new strengths. You are becoming more emotionally mature.;\\nTo dream that you are being chased or stalked by the paparazzi indicates that your privacy is being violated. You feel that your own identity is lost. Alternatively, the dream represents your aspirations for fame.;\\nTo dream that you are saying farewell signifies an end to some relationship or phase in your life.;\\nTo dream of your back represents your attitudes, strengths, burdens and stance in the world. It may also relate to stress and pressure that someone is putting on you.;\\nTo see a lamppost in your dream indicates that light needs to be shed on some dark situation. Alternatively, the dream suggests that you are coming out of a depressing or gloomy phase.\n"
     ]
    },
    {
     "name": "stderr",
     "output_type": "stream",
     "text": [
      "Summarizing: 100%|██████████| 10/10 [00:04<00:00,  2.48it/s]\n"
     ]
    },
    {
     "data": {
      "application/vnd.microsoft.datawrangler.viewer.v0+json": {
       "columns": [
        {
         "name": "index",
         "rawType": "int64",
         "type": "integer"
        },
        {
         "name": "prompt",
         "rawType": "object",
         "type": "string"
        },
        {
         "name": "dream",
         "rawType": "object",
         "type": "string"
        },
        {
         "name": "symbols",
         "rawType": "object",
         "type": "string"
        },
        {
         "name": "interpretation",
         "rawType": "object",
         "type": "string"
        }
       ],
       "conversionMethod": "pd.DataFrame",
       "ref": "e1a60bb2-c03f-448c-a757-047ece8efcbf",
       "rows": [
        [
         "0",
         "Given dream description and dream symbols below, \nExplain what this dream means. \nUse the dream symbols to help you interpret the dream. ",
         "I saw Seventec. It was a woman standing in a show window among shoes. I saw a big man in bed. I saw a horse coming towards us. I was piloting an airplane. It was so simple. I saw a large plane take off and the pilot had it fly upside down as he walked on its surface.",
         "To see a barrister with a white wig in your dream symbolizes wisdom and knowledge. The barrister may be a variation of the \"wise old man\" figure. You are looking for guidance and help in some area of your life.  Perhaps you are making an important decision.;\\nTo see ferns in your dream symbolize your future hopes and fears. It also represent solitude.;\\nTo see a landfill in your dream represents ideas that you have discarded. It also refers to rejected aspects of yourself or of someone's character. You may be trying to confront or come to terms with these rejections.;\\nTo see a koi fish in your dream indicates that you need to put aside your pride and ego and not let it get in the way of friendships and relationships. Alternatively, the koi fish is symbolic of patience, perseverance, determination, ambition, tenacity, courage and success. The koi serves as a reminder that you will overcome life's obstacles and adversities.;\\nTo play or watch a badminton game in your dream indicates that you need to make a decision quickly or else opportunities will pass you by.  You need to learn to keep up.;\\nTo see a Satyr or dream that you are a Satyr suggests that you are seeking sexual freedom. It is symbolic of male fertility and masculine sexual power. Alternatively, the dream indicates that you need to integrate aspects of your mind and your body. Or that you need to be more in tune with your environment. Satyrs are also       known for their carefree nature and so dreaming about them may imply that       you need to be more carefree.;\\nTo see your teacher (past or present) in your dream suggests that you are seeking some advice, guidance, or knowledge. You are heading into a new path in life and are ready to learn by example or from a past experience. Consider your own personal experiences with that particular teacher. What subject was taught? Alternatively, a teacher relates to issues with authority and seeking approval. You may be going through a situation in your waking life where you feel that you are being treated like a student or in which you feel you are being put to a test. Also pay attention to the demeanor and attitude of the teacher in your dream. If the teacher in your dream is mean, then it implies that you may be putting too much pressure on yourself to succeed.;\\nTo see or dream that you are in a car dealership refers to some decision that you need to make about where you want to go in life. You are trying to figure out your life path.;\\nTo see or eat cabbage in your dream suggests that you should not waste time with petty things in your life. You live and thrive on life's challenges. Alternatively, the dream refers to your unwise choices or decisions. You need to rethink some of your decisions.;\\nTo see calla lilies in your dream symbolize new beginnings, rebirth and longevity. In particular, a white calla lily represents purity, simplicity or elegance. Alternatively, the calla lily refers to a commitment.",
         " Use the dream symbols to help you interpret the dream . To see a barrister with a white wig in your dream symbolizes wisdom and knowledge . To dream that you are a Satyr suggests that you need to be more carefree ."
        ],
        [
         "1",
         "Given dream description and dream symbols below, \nExplain what this dream means. \nUse the dream symbols to help you interpret the dream. ",
         "I call one of my friends. I am in my old room in my home town, except it was in a new house by the beach. I had finals coming up, but it was such a nice day that I went outside. There was a beautiful tapestry monument. I went back inside as my friends came over to BBQ. I was happy and called everyone I knew.",
         "To dream that you are under narcosis is an indication that you are trying to suppress your emotions instead of confronting them. You may be trying desperately to avoid a problem or situation in your waking life. Or you may be trying to refuse to take responsibility for your actions.;\\nTo see or play with a yoyo in you dream signifies the ups and downs of your life. Alternatively, the dream indicates that you are not taking life's issues and problems seriously enough. You see things too trivially.;\\nTo see a wall in your dream signifies limitations, obstacles and boundaries. There is a barrier obstructing your progress. Alternatively, the wall indicates that you are too accustomed to your old habits and way of thinking. You feel stuck. If you dream of blood on the walls, then it is a warning of sorts. There is a situation that you need to confront. You can not avoid it any longer.;\\nTo see or taste some sort of sauce in your dream represents your sense of wisdom and intellect. Consider the color and flavor of the sauce for additional significance.;\\nTo see a vulture in your dream symbolizes purification and insight. It suggests that your past experiences will provide you with invaluable insight into a current situation or problem. Learn from your past. Alternatively, a vulture indicates that  you or someone is being opportunistic. Someone is watching you and is waiting for you to take a misstep. You feel that someone is taking advantage of you or is using you. Consider the metaphor of someone who is a \"vulture\". Sometimes a vulture is also a symbol of death, doom or rebirth.;\\nTo speak with an accent in your dream suggests that you are having difficulties conveying your thoughts. Consider how you feel about the accent. If you feel the accent makes you stand out in a negative way, then it signifies feelings of insecurities. If the accent makes you stand out in a positive way, then it symbolizes an air of confidence.;\\nTo dream that you are wearing headphones indicate that you are the only one getting the message. Furthermore, it means that you are in tune with your intuition.;\\nTo see or eat a macaroon in your dream represents a well-rounded experience. You are successfully balancing different aspects of your life.;\\nTo dream that you are being accused of something indicates overwhelming feelings of guilt.  It may also mean that you are having some doubts about yourself and the choices you are making.;\\nTo dream of mahogany wood refers to your stubbornness.",
         " To dream that you are under narcosis is an indication you are trying to suppress your emotions instead of confronting them . To dream of a yoyo in you dream signifies the ups and downs of your life . If you dream of blood on the walls, then it is a warning of sorts. There is a situation that you need to confront. You can not avoid it any longer ."
        ],
        [
         "2",
         "Given dream description and dream symbols below, \nExplain what this dream means. \nUse the dream symbols to help you interpret the dream. ",
         "I had left my house and I was going down the steps in back, when someone came and told me that the negroes had revolted. The rest of the dream I spent hiding from them. Interpretation I don't know Answers to questions 2. afraid3. actual participant4. unpleasant5. yard back of house6. no7. no",
         "To see or eat jelly in your dream represents insight into a situation you have been wondering about. The dream may be a metaphor for something that is finally taking shape. You have come to some understanding. Alternatively, it indicates that you are preserving or maintaining a sweet relationship.;\\nTo dream that something is rare indicates that you need to appreciate certain things. Consider the symbolism or significance of the rare object or event. Don't take things for granted.;\\nTo dream that you are a hairdresser suggests that you are imposing your ideas and opinions on others.  Perhaps you need to work on your self-image and improve on your image. Alternatively, it refers to your attitude toward your own sexuality.;\\nTo dream that you are hailing a cab suggests that you need to ask for help in order to be able to move forward in some waking situation. To dream that you are in a cab indicates that you are being taken for a ride. Someone is taking advantage of you. Cabana To see or dream that you are in a cabana signifies your need for an escape or vacation. You may be feeling overwhelmed by a waking problem and need some downtime. Cabaret To watch a cabaret in your dream indicates your need to acknowledge your sensual side. Cabbage To see or eat cabbage in your dream suggests that you should not waste time with petty things in your life. You live and thrive on life's challenges. Alternatively, the dream refers to your unwise choices or decisions. You need to rethink some of your decisions. Cabin To see or dream that you are in a wood cabin indicates that you will succeed via your own means.  It suggests that you are self-reliant and independent, yet still remain humble. You prefer the simpler things in life. To dream that you are in a ship cabin indicates that are seeking some refuge from your emotions. Cabinet To see a cabinet in your dream symbolizes the female body and/or the womb. Alternatively, you may be hiding some family or personal secret. Consider the contents and condition of the cabinet for more clues. To dream that someone rearranged your cabinets suggests that somebody is overstepping your boundaries. Cable To see a cable in your dream represents your stamina and durability. If the cable is frayed or broken, then it signifies a lack of strength. To dream of cable television signifies your openness and how you communicate with others. Cable Car To see or ride in a cable car in your dream signifies the compromises that you make in life. Sometimes you have to go along with the masses in order to maintain the peace. Alternatively, the dream represents life's journey. You are headed in the right direction. Caboose To see or be in a caboose implies that you are last in line for something. You are feeling shortchanged. Alternatively, dreaming of a caboose serves as a reminder that you will eventually get to where you need. It is not always about being first or finishing first. Cackle To hear the sound of cackling in your dream signifies illness and loss. Cactus To see a cactus in your dream suggests that you are feeling invaded, that your space is being crowded into and that you are being suffocated.  The prickly spines of the cactus represent the boundary you are trying to establish between your personal and private. Or you feel the need to defend yourself in some way. Alternatively, the dream implies that  you have found yourself in a sticky situation. Perhaps you need to adapt to your existing circumstances instead of trying to change them. *Please See Also Succulents. Cadaver To dream that you are dissecting a cadaver indicates that you are ready to reveal or expose an aspect of yourself that you have been hiding. To see a cadaver in your dream represents a part of yourself that has died. Alternatively, dreaming of a cadaver means that you tend to give everything you have in a situation or relationship. Ca dillac To see a Cadillac in your dream suggests that you are driven to succeed. Your ambition will take you far in life. Caduceus To see a caduceus in your dream symbolizes health concerns. The dream may be telling you that you need to take better care of yourself. Caesarian Section To dream that you are having a caesarian section implies that you need help in order to get your idea or project off the ground. You can not do it by yourself. A more direct interpretation of this dream may represent your anxieties of having a C-section in real life. Cafe To dream that you are at a cafe represents your social life. The dream is telling you that it is time to call up old friends and catch up with what they are all up to. Cafeteria To dream that you are in a cafeteria denotes that there may be a lot of issues \"eating\" you up inside. Cage To dream that you are in a cage indicates that you are experiencing inhibitions and powerlessness in some areas of your life. You are feeling restricted, confined and restrained in a current relationship or business deal. Somebody may be keeping a short leash on you, where you are lacking the freedom to act independently. To dream that you are putting a wild animal into a cage signifies that you will succeed in overcoming your rivals and fears. It is also symbolic of your ability to control you animalistic rages and anger. To see a bird in a cage suggests that you are feeling limited in your expression and a sudden lost of freedom. You may be experiencing frustrations and an inhibited spirituality. The dream may also imply that you are feeling like a \"jail bird\". Cage Fighting To dream that you are cage fighting indicates that you are feeling restricted or confined in a current relationship. An aspect of yourself is fighting to be expressed or let out. To watch a cage fight represents conflicting ideas or beliefs. Cake To see a cake in your dream indicates that you need to learn to share and allocate your workload instead of trying to do everything yourself.  Cakes also symbolize selfishness or the feeling of not getting your fair share. More positively, the dream may represent your accomplishments and achievements. Consider also the metaphor a \"piece of cake\" or some situation that is easy. To see a partially eaten cake in your dream signifies missed and lost opportunities. To dream that you are buying a cake suggests that you have accepted the rewards and recognition you are getting for our work.  You are learning to be comfortable in the spotlight. Calamari To dream that you are eating calamari indicates that you are feeling battered or beaten. However, you are tough. Hang in there! Calculator To see a calculator in your dream suggests that you need to thoroughly think through some problem and carefully evaluate your choices.  You need to lay out some sort of plan or outline. The symbol may also be a metaphor for someone who is \"calculating\", cunning and scheming. Calendar To see a calendar in your dream represents the passing of time and past events. The dream may also be a reminder of a special event, appointment or important date in your waking life. Calf To see a calf in your dream symbolizes immaturity and inexperience. You need to develop certain qualities. California Known as the Golden State, to dream of California, refers to your desire for instant wealth. It may also suggests that you are looking for fame. If you live in California, then the dream may just be a reflection of your reality. Caliper To see or use a caliper in your dream reflects your concerns about not measuring up to the standards or expectations of others. Alternatively, dreaming of a caliper means that you need to be careful in making a decision or judgment. Ca lla Lily To see calla lilies in your dream symbolize new beginnings, rebirth and longevity. In particular, a white calla lily represents purity, simplicity or elegance. Alternatively, the calla lily refers to a commitment. Calling Card To see or use a calling card in your dream indicates that there is someone that you need to reach out to. If the calling card has the name of someone you know on it, then it means that their presence is with your spiritually, even though they may not be with you physically. Something in your waking life is reminding you of this person. Calluses To dream that you have calluses symbolize hard work. You have be laboring over a difficult task or situation. Calm To dream that you are calm denotes a fulfilling life. You find contentment and satisfaction in what you have. To dream that someone is trying to calm you down suggests  that you will experience many setbacks, especially if you continue to let your emotions run out of control. Calomel To see calomel in your dream indicates a rivalry. To dream that you are taking calomel signifies that you are being manipulated and taken advantage of. It is time to open your eyes and not allow yourself to be stepped on. Calves To see your calves in your dream symbolize movement and your ability to jump from situation to situation. In particular, if you are admiring your own calves, then it denotes a needy or codependent relationship. Camcorder *Please See Video Camera . Camel To see a camel in your dream denotes that you need to be more conservative; you are carrying too many responsibilities, burdens and problems on your shoulders. Consider the common phrase, \"the straw that broke the camel's back\". You tend to hold on and cling on to your emotions instead of expressing and releasing them. Learn to forgive and forget. Alternatively, the camel represents your stamina. To dream that you are petting a camel indicates that you are ready to let go of some of the burdens, responsibilities or emotional baggage that you are carrying around. Cameo To see or wear a cameo in your dream represents an aspect of yourself that you are trying to express. Perhaps you are showing your delicate and feminize side. Alternatively, the dream may be a pun on a \"cameo\" appearance that you are making at some social gathering. Camera To see a camera in your dream signifies your desires to cling on and/or live in the past. Alternatively, it may indicate that you need to focus on a particular situation. Perhaps you need to get a clearer picture or idea. To dream that the camera is broken indicates that you are ignoring an issue or refusing to see the big picture. To dream that you cannot find your camera to take a picture implies that you are not focusing on the matter at hand. Your attention is too easily diverted. Alternatively, the dream refers to forgotten memories. To see or dream that you are on a hidden camera indicates that you feel that you are being scrutinized. All eyes are on you. Camouflage To dream that you are in camouflage suggests that you are hiding  your true self and feelings. You are concealing who you really are. Alternatively, there is a situation in your waking life that is making you want to blend into the background and not get noticed. Camper To dream that you are living in a camper indicates that you need to move on with some situation or some aspect of your life. You may be dwelling on a situation and it is time to move forward. Alternatively, you may be expressing your desire to be more independent and self-sufficient. Campfire To start or see a campfire in your dream represents sharing and companionship. You need to open yourself to others and allow others to get to know you. Camping To dream that you are camping indicates a need for relaxation and a long-deserved break.  You need to be more in touch with nature and go back to a more basic and simpler life. Alternatively, it refers to your social circle and support group. You are looking for a sense of belonging, but at the same time be self-sufficient and independent. Campus To dream that you are on a campus indicates your need to expand your thinking/knowledge and challenge yourself mentally. Can To see a can in your dream indicates that there is something in your past that you need to hold on to and preserve. The dream may also be a pun on how you \"can\" do something. Don't underestimate your abilities and talents. To see canned foods in your dream symbolizes the emotions that you are keeping inside. Can Opener To see a can opener in your dream indicates your willingness to accept new ideas and new concepts. It may also be a symbol of reassurance and a way to tell yourself that \"I can\" do something. Canada To dream that you are in Canada depends on your own personal associations with the country. If you have never been to Canada, then you will need to draw on your own preconceptions and feelings of the country. Canal To see a canal in your dream symbolizes restraint and constricted emotions. It also suggests that you are unyielding in your thinking and beliefs, which may hinder you in the pursuit of your goals. You are being too controlling. Canary To see a canary in your dream represents happiness and harmony. Alternatively, the dream could indicate your desires for a relationship or that a new relationship is blossoming. Cancel To dream that you are canceling an appointment or plans suggests that you are afraid to confront some matter. You don't want to face the facts. Dreaming that your flight was cancelled indicates that you are feeling helpless or trapped by some situation. You feel you are being held back, either physically or mentally. Cancer To dream that you have cancer denotes hopelessness, grief, self-pity, and unforgiveness. You feel you are wasting your life away. This dream also represents areas in your life which are bothering you, disturbing you, and hurting you in some emotional way. An emotional issue is eating away at you. To dream that you are being treated for cancer signifies a positive change in your life. To dream that someone has cancer indicates that you need to change your negative way of thinking before it eats away at you. Start being more positive. To dream that someone is a Cancer sign symbolizes your tendency to keep and hold on to everything. You have a lot of power and influence. The Cancer sign also indicates that you tend to be sensitive, moody and emotional. You are also very family oriented. Candle To see a burning candle in your dream signifies that good luck and hope will be coming your way in small and steady amounts. You are in a comfortable stage in your life and may be seeking spiritual enlightenment. Lit candles are also symbolic of intellect, enlightenment, awareness or the search for truth. To see an unlit candle denotes feelings of rejection or disappointments. You are not utilizing your fullest potential. If you try to light the candle, but it won't light, then it represents grief. You are in denial about something. To see a candle blow out in your dream indicates that you are surrendering a significant aspect of yourself. You are letting go of something that used to be important to you. To watch the candle burn down to nothing in your dream signifies your fears of aging and dying. Alternatively, it represents a fear of sexual impotence. To see a red colored candle in your dream symbolizes some intimate or romantic relationship. You may not be giving the relationship a fair chance and are dismissing it before you invested sufficient time to learn more about the other person. On the other hand, you may just not be feeling any chemistry or passion. Candle Wax To see candle wax in your dream indicates that there is too much activity going on in your life. You may need to slow down and take a breather. Alternatively, it may symbolize the passage of time. Candy To see or eat candy in your dream symbolizes the joys and the special treats in life. It also represents indulgence, sensuality and/or forbidden pleasure. You may be devoting too much time to unimportant issues. A more direct interpretation suggests that you are eating too much candy and sweets. Candy Apple To see or eat a candy apple in your dream is a reminder that you can have too much of a good thing. You need to show restraint in some area of your life. Cane To see or use a cane in your dream suggests that you are in need of some support and advice. The cane may also represent someone you trust and can rely on. To dream that you are being caned indicates that you are being forced into submission or obedience. Someone is trying make an example of you. Alternatively, the dream symbolizes self-guilt. To dream that you are caning someone signifies pent up aggression. Pay attention at who you are caning. You may harbor some ill feeling or anger toward this person. This person could also represent an aspect of your own self. Cannabis *Please See Marijuana . Canned Food To see or eat canned food in your dream implies that you are keeping your emotions bottled up inside. You feel that it is not the appropriate time to express your true desires. Cannibalism To see cannibalism in your dream symbolizes a destructive and forbidden desire or obsession. Metaphorically, cannibals consume people's lives, along with their energy. Thus, this dream may then denote an aspect of your life (career, relationship, children, etc ), which is consistently draining your enthusiasm and vitality. To dream that you are a victim of cannibalism represents feelings of being \"eating alive\" by work, a relationship or a situation in your waking life. Cannon To see a cannon in your dream suggests that there is something drastic that needs to be done immediately. According to the Freudian school of thought, the cannon symbolizes the penis. Cannonball To see a cannonball in your dream indicates that you are harboring some anger or aggression and it is weighing your down. Canoe To see a canoe in your dream represents serenity simplicity, and independence. It is also a reflection of your emotional balance. You are moving ahead via your own power and determination. Canopy To see a canopy in your dream symbolizes protection. You may also be elevated to a prominent position. Cantaloupe To see or eat cantaloupe in your dream implies that you put forth a tough image, but are sensitive on the inside. Metaphorically, cantaloupes can refer to the breasts. Canteen To see or use a canteen in your dream suggests that you are looking to easily and conveniently satisfy your emotional needs. Canvas To see a canvas in your dream symbolizes potential and possibilities, especially if the canvas is blank. Consider the significance of what is on the canvas, as it is an aspect of your subconscious. Canyon To see a canyon in your dream represents your subconscious mind and hidden feelings. It may point to emotions and relationships that you did not recognize. Cap To see a cap in your dream signifies informality and ease. It also suggests that you need to be more tolerant of others. Cap And Gown To wear a cap and gown in your dream indicates that you are transitioning into a higher level in your life. You are ready to move on to the next stage. To see someone in a cap and gown in your dream symbolizes your successes and accomplishments. Cape To see or dream that you are wearing a cape indicates that you are trying to shield yourself from being emotionally hurt. It may also mean that you are trying to cover-up or hide something. Capital Punishment *Please See Death Penalty. Capricorn To dream that someone is a Capricorn signifies fears of inadequacy. You are afraid that you are not measuring up. Alternatively, it denotes your drive, tenacity and ambition. Capsize To dream that your boat has capsized represents your avoidance in confronting uncomfortable feelings and/or situations. Captain To dream that you are a captain indicates that you are taking charge of your emotions and confronting the issues that are bothering you. To see a captain in your dream represents your powerful influence over others. Captive To dream that you are held captive suggests that you are feeling trapped in some aspect or circumstances of your waking life. You may feel trapped in your career, relationship or life in general. Alternatively, captivity dreams indicate something you are refusing to acknowledge or something that you are in denial about. Car To dream that you are driving a car denotes your ambition, your drive and your ability to navigate from one stage of your life to another. Consider how smooth or rough the car ride is. If you are driving the car, then you are taking an active role in the way your life is going. However, if you are the passenger, then you are taking a passive role. If you are in the backseat of the car, then it indicates that you are putting yourself down and are allowing others to take over. This may be a result of low self-esteem or low self-confidence.  Overall, this dream symbol is an indication of your dependence and degree of control you have on your life. Driving a new car means that you are headed toward a new direction or goal. You are deviating from your original life path. To dream that you drive your car into a body of water or that it rolls into water implies that you are in for an emotional journey. To see a car underwater in your dream points to feelings of regret or sadness over an abandoned goal. To dream that your car is buried suggests that you are feeling weary about pursing someone else's dreams instead of your own. You are afraid to let others down. To dream that your car flipped over or rolled over implies that some significant event is preventing you from achieving your goals. You feel that you have to put your own life on hold. To see or dream that a car is being crushed represents disappointments occurring in your waking life. You are lacking ambition and goals. To dream that your car won't start indicates that you are feeling powerless in some situation. To dream that you forget or can't find where you parked your car indicates that you are dissatisfied or unhappy with an aspect of your waking life. You do not know what you really want to do with your life or where you want to go. To dream that your car has been stolen indicates that you are being stripped of your identity.  This may relate to losing your job, a failed relationship, or some situation which has played a significant role in your identity and who you are as a person. If you dream that you are stealing a car, then it implies that you are trying to take credit for someone else's work. It may also mean that you are downplaying the role that others had in your success. To dream that your car is overheating suggests that you are expending too much energy. You need to slow down or run the risk of being burnt out. You are taking on more than you can handle. It is time to take a breather. To see a parked car in your dream suggests that you need to turn your efforts and energies elsewhere. You may be needlessly spending your energy in a fruitless endeavor. Alternatively, a parked car may symbolize your need to stop and enjoy life. To dream that you are almost hit or were ran over by a car suggests that your lifestyle, beliefs or goals may be in conflict with another's. It may also be symbolic of a jo lting experience or injured pride. If you dream that you hit or ran over someone with a car, then it implies that you have hurt someone in order to move ahead in life. To dream that you are unable to roll up the windows of your car suggests that  you are showing some hesitation and reservation about the direction that you are taking in life or the path that you have chosen. To see a haunted car in your dream represents unfinished goals. You had started off on a path or journey, but never reached the end. Perhaps life had taken you on a different direction that you had planned or intended. To dream that no one is driving a moving car suggests that you need to reassess your level of control over your life. You are unwilling to take responsibilities for your actions. To buy a car in your dream refers to your commitment to some important life decision you have made. To see or drive a car that looks like a cat refers to your free and independent spirit. If you are almost hit by a car that looks like a cat, then it suggests that you are hindering someone's goals or not letting them be who they are. If you dream of driving a black colored car, then it means that you like to be low-key about your intentions or goals. Driving a black color in a dream signify some ulterior motives. Dreaming of a car that is driving fast suggests that you need to slow down and think through your choices. You are so focused on your goals that you are leaving behind the people around you. Car Alarm To hear or set off a car alarm in your dream implies that you are headed on the wrong path. The dream is alerting you to change  your direction and alter your course. Car Battery To see your car battery in your dream symbolizes your stamina. To dream that your car battery is dead suggests that you are overwhelmed and overworked. You need to slow down and set some time for yourself or else run the risk of collapsing from exhaustion. Car Carrier To see a car carrier in your dream indicates that you are lacking direction and have no goal of your own. You are letting others make decisions for you. You are going with the flow. Car Dealership To see or dream that you are in a car dealership refers to some decision that you need to make about where you want to go in life. You are trying to figure out your life path. Car Seat To see an infant car seat in your dream implies that you are in control of someone else's direction or destiny in life. Alternatively, the dream refers to the beginning stages of your life journey. You are just getting started on an important path. Car Show To dream that you are at a car show suggests that you are drawn to a flashy lifestyle which may not necessarily be who you really are. To dream that you are showing off your car at a car show implies that you are proud of your accomplishments and achievements. You are seeking recognition for your work. Caramel To eat or lick caramel in your dream indicates a sweet and satisfying situation will eventually turn into \"sticky\" problem. If it sounds too good to be true, then it is really too good to be true. Caravan To dream that you are part of a caravan means that you will achieve your goals with the support of others. You do not need to do things by yourself. Carburetor To see the carburetor in your dream represents emotional, spiritual and physical balance. Carcass To see a carcass in your dream indicates that you are feeling emotionally torn. You feel that you are literally being ripped apart. Cardboard To see a cardboard box in your dream indicates a lack of protection against risk. Cardinal To see a cardinal in your dream represents vitality and happiness. It also may mean being in first place or your position at the front. Cards To dream that you are playing a game of cards represents your ability to strategize in various areas of your life. In particular, diamonds indicate wealth and materialism, clubs indicate work and industry, hearts indicate happiness in love, and spades indicate troubling times and disappointments. To dream that you are shuffling cards signifies indecision. You need to reevaluate your choices. In particular, dreaming of the king of heart card symbolizes a compassionate male figure in your life. It may also mean that you are that compassionate person. Cargo To dream that you are loading or carrying cargo refers to a heavy load that you are carrying around. You are feeling overburdened or overwhelmed. If you are unloading cargo in your dream, then it indicates that you are ready to rid yourself of the extra weight, negative habits and/or excesses that are holding you back. It is time to let go. Carjack To dream that you have been carjacked suggests that you have lost your direction in life. You feel that circumstances in your life has lead you on a different course. Carnation To see carnations in your dream symbolize light-heartedness, vitality and joy. Alternatively, it may represent bachelorhood. Consider the color of the carnation for additional significance. Carnelian To see a carnelian in your dream represents passion, lust, sexuality, or matters of the heart.  It also indicates a need for spiritual healing. Carnival To dream that you are at the carnival represents falsehoods and deception. If you observe freakish sights, then it denotes a lack of harmony in your domestic life. Much sorrow will arise in what were thought to be pleasant times. To dream that you are on a carnival ride suggests that you are going in circles. It may also symbolize cheap thrills. To dream that you run away with the carnival denotes that you will be involved in or closely connected to the entertainment field. Caroling To dream that you are caroling signifies joy, harmony and tranquility. You are in a festive and upbeat mood.  The dream may also be a pun on someone who is named \"Carol\". Carousel *Please see Merry Go Round. Carp To see a carp in your dream indicates that you need to put aside your pride and ego and not let it get in the way of friendships and relationships. Alternatively, the carp is symbolic of patience, perseverance, determination, tenacity, courage and success. Carpenter To see or dream that you are a carpenter indicates that you are confronting and overcoming your obstacles. Alternatively, it suggests that you need to change your way of thinking and readjust your attitude. Carpet To see a carpet in your dream represents your way of protecting yourself from life's harsh realities. Alternatively, a carpet symbolizes luxury, comfort or richness. Consider the condition and designs of the carpet and how it parallels the foundation that you have laid for yourself in life. Perhaps the dream is telling you that you are refusing to confront some issue and instead are sweeping it under the carpet? To dream that you are installing or laying down carpet suggests that you are trying to make your life more comfortable.  The dream may also be analogous to the planning of something. You are laying out  some new project or endeavor. To dream of a magic carpet implies your desires and wishes to escape from a situation, relationship, or responsibilities. The dream is similar to a flying dream, so you may want to look up flying. *Please See Also Red Carpet. Carriage To see an old-fashioned carriage in your dream suggests that your ways of thinking may be too outdated and antiquated. The carriage is also a symbol of power and status. Carrom Board To see or play with a Carrom Board in your dream implies that you need to focus on your goals. Alternatively, the dream indicates that you are trying to shield or protect a loved one from some problem or issue. Carrot To see a carrot in your dream signifies abundance and fertility. It may also symbolize a lure as in the idiom \"to dangle a carrot\". To eat a carrot in your dream indicates clarity. You are seeing something more clearly. Carry To dream that you are being carried suggests that you are feeling like a burden to somebody. You need to be more independent and take on more responsibilities. Alternatively, it may elude to romance. Cartoon To dream that your real life is depicted in a cartoon world suggests that you are perceiving the world in a comical and unserious manner. This dream may also serve as an escape from the stressful realities of your life. It is your way of obtaining moments of lightheartedness and fun. Additionally, you need to learn to laugh at yourself and at your mistakes. To dream that you are watching cartoons indicates that you are not taking life seriously. *Please See Also Cartoon Character. Cartwheels To dream that you are doing cartwheels represent poise and balance in your life or the need to regain balance. You need to handle life's obstacle and stress with more fortitude. To dream that you have difficulties doing cartwheels suggest that you do not have confidence in your own abilities. It may also mean that you are lacking discipline and are exhibiting some struggles in your life. There is an imbalance between work and pleasure. Carving To dream that you are carving a piece of wood symbolizes spiritual and creative energy. Metaphorically, you are transforming subconscious energy into conscious awareness. Consider whether the carving is purely ornamental or utilitarian. To dream that you are carving some meat indicates that you are trying to rid yourself of certain feelings. You may be distancing yourself from your emotions and analyzing them from an objective standpoint. Alternatively, some person or situation is violating an aspect of your life. Carwash To dream that you are at a carwash indicates that you need to clean up your self-image. You are ready for a fresh start. Cash *Please See Money. Cash Register To see a cash register in your dream represents financial worries and concerns. You are assessing your financial situation. On the other hand, you may be expecting monetary gains. Cashier To see or dream that you are a cashier indicates that you are re-evaluating your life and what you have accomplished.  Alternatively, it suggests that you have removed yourself out of some situation. You have \"checked out\". Cashmere To feel or wear cashmere in your dream symbolizes luxury. You strive for the finer things in life. Alternatively, dreaming of cashmere suggests that you are looking for warmth and comfort in your relationships. Casino To dream that you are in a casino signifies the risk-taker within you. If you are a reserved or passive person, then the dream suggests that you should take a chance. If you are not, then it implies that you need to make a more informed decision instead of relying on fate. Casket To see a casket in your dream symbolizes the womb. It also signifies your thoughts and fears of death. If the casket is empty, then it denotes irreconcilable differences. Alternatively, the coffin represents ideas and habits that are no longer of use and can be buried. In particular, if the casket is white, then it refers to lost innocence. To see a body in a casket in your dream signifies that you are going through a period of depression. You may feel confined, restricted and that you are lacking personal freedom. There may be a dead or decaying situation or issue in your life that you need to address. It is time to end this situation or relationship. Casserole To dream you are making a casserole symbolizes new ideas or a new phase in your life. Cassette Tape To see a cassette tape in your dream suggests that there is worth and truth in what you are saying. Alternatively, the dream means that you need to get out of the same rut. You are going around in a loop. Cassowary To see a cassowary in your dream refers to your shy nature. You try to avoid confrontation and arguments. Cast To dream that you are wearing a cast suggests that your motion is being inhibited in some way. Or that you need to show some restraint in an area of your life. Consider which part of the body is in a cast. Alternatively, a cast symbolizes a time of healing and discipline. Castanets To see, hear or play with castanets in your dream  represents little annoyances and irritations in your waking life. Alternatively, the dream may be a metaphor that you need to \"cast-a-net\". Perhaps you are looking for some assistance. Castle To see a castle in your dream signifies reward, honor, recognition, and praise for your achievements. You are destined to a position of power, wealth, and prestige. Alternatively, the dream indicates your desire to escape from life's daily problems. To dream that you live in a castle represents your extreme need for security and protection to the point where you may be isolating yourself from others. Perhaps the dream parallels a waking situation where it  has put you on the defensive. To see a castle door in your dream indicates that you have missed a huge and/or profitable opportunity, especially if you are standing outside the castle door. If you are standing inside the castle door, then it means that you have let your success and ego distance you from others. Castration To dream of a castration signifies your overwhelming fears that you have lost your virility. You are feeling the pressures of your sexual performance. Alternatively, it represents a lack of creativity, power or strength.;\\nTo see a zebra in your dream represents perfect balance, unity and harmony. It also indicates that opposites attract. Alternatively, a zebra suggests that you are spending too much time in trivial matters. You need to establish a clear timeline and lay your groundwork for success.;\\nTo see or wear a tampon in your dream signifies aggression. You are experiencing some tension that needs to be released. Alternatively, the dream may also be analogous to the phallus.;\\nTo dream that you in a junkyard represents fear, frustration, and anger which you have repressed and kept inside.  It may also symbolizes your discarded attitudes, old habits, and former beliefs.;\\nTo see a passport in your dream represents your identity and your ability to traverse through various situations. You are experiencing new found freedom to do what you want and go where you want. You may be going through a period of self-discovery.;\\nTo feel or wear cashmere in your dream symbolizes luxury. You strive for the finer things in life. Alternatively, dreaming of cashmere suggests that you are looking for warmth and comfort in your relationships.;\\nTo dream that you are getting acupuncture suggests that you are in need of healing. You may need to divert your energies to different pursuits. Alternatively, the dream may be a metaphor for a problem or issue that you need to pinpoint.",
         " Given dream description and dream symbols below,  Explain what this dream means . Use the dream symbols to help you interpret the dream . To dream that you are a hairdresser suggests you are imposing your ideas on others ."
        ],
        [
         "3",
         "Given dream description and dream symbols below, \nExplain what this dream means. \nUse the dream symbols to help you interpret the dream. ",
         "I was driving my car down a hill. There was snow on the ground. It stalled by Elyria garage and I let it park in front of the door, blocking it. I had to go to work, so I left it there. After work I came there and didn't see the car. I went into the garage and it was there. I told Joe to fix it. When he opened the trunk door, the trunk was full of ashes. He told me to take out the ashes, so I got a shovel and went to work. He showed me the rusted body with holes in it.",
         "To see a Barbie doll in your dream represents society's ideals.  You may feel that you are unable to meet the expectations of others.  Alternatively, the Barbie doll refers to the desire to escape from daily responsibilities. It may serve to bring you back to your childhood where life was much simpler and more carefree.;\\nTo see or dream that you have a nanny implies that you are feeling overwhelmed. You feel that certain aspects of yourself are being neglected.;\\nTo see Voldemort in your dream symbolizes an ever-present evil force working against you.;\\nTo hear knocking in your dreams suggests that your subconscious is trying to attract your attention to some aspect of yourself or to some waking situation. A new opportunity may be presented to you. Alternatively, the dream may be a pun that you are \"knocking\" on or insulting something or someone. Or perhaps there is a habit or behavior that you to stop or \"knock it off\".;\\nTo dream that you are telekinetic represents a higher level of awareness and consciousness. You are not utilizing your full potential and need to start putting your stored energy levels and mental abilities to use. In other words, you need to put your thoughts into action. For some, dreams of telekinetic powers may indicate your latent paranormal abilities.;\\nTo see emoticons in your dream represents your range of emotions. You are feeling emotionally overwhelmed. Alternatively, dreaming of emoticons suggests that your feelings are being trivialized or that someone is discounting how you feel.;\\nTo see gasoline in your dream represents energy and spirituality. Thus, to dream that you run out of gas suggests that you are wearing yourself out. Take a time out.;\\nTo see or wear a tampon in your dream signifies aggression. You are experiencing some tension that needs to be released. Alternatively, the dream may also be analogous to the phallus.;\\nTo see a scarf in your dream symbolizes self-restrictions. You may be too controlling of your emotions instead of expressing them. Alternatively, you feel that your voice is being muffled.;\\nTo dream that you are a victim of identity theft means that someone in your waking life is taking credit for your work.  Alternatively, you may be having this dream because you are experiencing an identity crisis. You feel lost and not sure where you are headed.",
         " To see a Barbie doll in your dream represents society's ideals . To dream that you are telekinetic represents a higher level of awareness and consciousness . Dreaming of emoticons suggests that your feelings are being trivialized or that someone is discounting how you feel ."
        ],
        [
         "4",
         "Given dream description and dream symbols below, \nExplain what this dream means. \nUse the dream symbols to help you interpret the dream. ",
         "There is the theater. A man asks if there is a donut shop nearby and where. I tell him where and he goes. A woman comes by and asks the same question. I lead her halfway there and she goes the rest of the way. Before long I hear her frantic screams for help. I know that the man I talked to earlier is to blame. Swallowing my fear, I run in the direction of her screams, also shouting for help.",
         "To see Harley Quinn in your dream points to an unhealthy, abusive relationship. Alternatively, the dream may indicate that you are blind to something that everyone else is clearly seeing. You are living in your own reality.;\\nTo see your own elbow in your dream indicates that you need to make a space for yourself. Your dream may express hesitance or fear in creating your own space for fear of being scrutinized. Alternatively, the dream may be a pun on your need to put more \"elbow grease\" on some task.;\\nTo dream that you are at a banquet indicates that you are emotionally malnourished. You are seeking emotional stimulation.;\\nTo see a weta in your dream signifies your fear of the unknown. Sometimes what you don't know is a source of anxiety and stress. You are worrying too much about minor issues.  Alternatively, dreaming of a weta represents your roots.;\\nTo see a Cadillac in your dream suggests that you are driven to succeed. Your ambition will take you far in life.;\\nTo dream that you are bankrupt indicates that you need to start taking measures to protect  yourself and your resources. You may be feeling emotionally drained or physically overworked. The dream may be a sign of depression. Alternatively, to dream that you are bankrupt symbolizes feelings of insecurity.;\\nTo see or use a knocker in your dream symbolizes opportunities and welcomed expectations. You are seeking for assistance and spiritual guidance. On a negative note, to see a knocker in your dream signifies repressed thoughts, death, and dreaded expectations. It is a bad omen.;\\nTo dream that you are in school signifies feelings of inadequacy and childhood insecurities that have never been resolved. It may relate to anxieties about your performance and abilities. If you are still in school and dream about school, then the dream may just be a reflection of your daily life and has no special significance.;\\nTo see an umbrella in your dream symbolizes emotional security. You are putting up a shield against your emotions and are trying to avoid dealing with them. If the umbrella is leaking or broken, then it indicates that you are unprepared with facing your problems.;\\nTo dream that you are getting a manicure represents glamour and beauty. You are seeking attention for the work you have done. You may also be expressing something beautiful and positive through your work.",
         " Use the dream symbols to help you interpret the dream . To see Harley Quinn in your dream points to an unhealthy, abusive relationship . To dream that you are bankrupt indicates that you need to start taking measures to protect yourself and your resources ."
        ],
        [
         "5",
         "Given dream description and dream symbols below, \nExplain what this dream means. \nUse the dream symbols to help you interpret the dream. ",
         "Tyler and Jerome are in a bedroom together. They are breaking up, arguing and upset. I interrupt them because Grandma Mildred has requested shaving equipment so she can shave Grandpa Lloyd. I ask if I can borrow one from them. They are very annoyed with me and glare, but Tyler gives me his mug and straight razor. I am concerned if Grandma can use it safely.",
         "To see or eat jelly in your dream represents insight into a situation you have been wondering about. The dream may be a metaphor for something that is finally taking shape. You have come to some understanding. Alternatively, it indicates that you are preserving or maintaining a sweet relationship.;\\nTo dream that you are playing an online game indicates that you are trying to escape from the stresses in your daily life. You want to be someone else. You want to be in control. Alternatively, dreaming about an online game may simply mean that you are spending so much time playing the game that the images have drifted into your dreams.;\\nIf you are not an immigrant and dream that you or someone is an immigrant, then it implies that you are acknowledging an aspect of yourself that was unexpressed. If you are helping an illegal immigrant in your dream, then it means acceptance.  Alternatively, the dream may reflect your waking experience as an immigrant. Or it may refer to the experiences of your parents or ancestors. Consider how you or they feel as an immigrant and what they endured or went through.;\\nTo dream that you have been sabotaged indicates that there is something that you are ignoring or overlooking in your waking life.;\\nTo see uprooted plants in your dream indicate that you are out of balance. You may be feeling disconnected or distant from others. It may also represent broken family connections or failed attempts in reestablishing familial ties.;\\nTo see or dream that you are a zombie suggests that you are physically and/or emotionally detached from people and situations that are currently surrounding you. You are feeling out of touch. Alternatively, a zombie means that you are feeling dead inside. You are just going through the motions of daily living.;\\nTo see or use a water bottle in your dream indicates that you are keeping your hopes up about something.  It also means spiritual renewal and rejuvenation.;\\nTo discover secret passageways in your dream parallel to something new and/or exciting that is occurring in your waking life. It refers to a new opportunity, a new relationship, or a new attitude toward life. If you wake up before fully exploring these passageways, then it suggest that you may not know how to take advantage of these opportunities or how to move forward with a relationship. Perhaps the newness and uncertainty of this discovery also makes you a little more cautious. Overall, this is a positive dream.;\\nTo see a koala in your dream represents your link the physical world, the subconscious, and the spiritual realm. The koala also symbolizes security, nurturance, protection, and/or feminine qualities. You may be expressing a desire to regress back into infantile dependence and escape from your daily responsibilities/problems.;\\nTo dream about your neighborhood represents a sense of community. You need to develop new friends and new ties. Consider your waking feelings toward your neighbors.",
         " Use the dream symbols to help you interpret the dream . To see or eat jelly in your dream represents insight into a situation you have been wondering about . To dream that you are playing an online game indicates that you want to escape from the stresses in your daily life. To dream about your neighborhood represents a sense of community ."
        ],
        [
         "6",
         "Given dream description and dream symbols below, \nExplain what this dream means. \nUse the dream symbols to help you interpret the dream. ",
         "I was in a floral shop and all these birds (blue jays) came in and started eating the flowers. The store owner came in and started screaming. Then I woke up. Setting: An old store that sold flowers. Characters: An old female store owner, blue jays, and myself. Feelings and Thoughts: Other. I felt kind of startled when she came out screaming.",
         "To dream of fancy things indicates that you are putting up a facade and hiding your true self. You are trying to divert attention to unimportant things.;\\nTo see the jaws of an animal in your dream indicate a misunderstanding. It may also mean that you are rushing into things. Alternatively, the dream suggests that someone or some situation is taking a large bite of your time, energy or some aspect of yourself.;\\nTo dream of a war signifies disorder and chaos in your waking life You are experiencing some internal conflict or emotional struggle which is tearing you up inside. Alternatively, the dream indicates that you are either being overly aggressive or that you are not being assertive enough. Perhaps you need to be prepared to put up a fight in some area of your life. On a more direct level, the dream may be reflection of current wars around the world and your personal feelings about it.;\\nTo see a lake in your dream signifies your emotional state of mind. You feel restricted and that you can't express your emotions freely. Alternatively, the lake may provide you with solace, security, and peace of mind. If the lake is clear and calm, then it symbolizes your inner peace. If the lake is disturbed, then you may be going through some emotional turmoil.;\\nTo see uprooted plants in your dream indicate that you are out of balance. You may be feeling disconnected or distant from others. It may also represent broken family connections or failed attempts in reestablishing familial ties.;\\nTo see or eat eggplants in your dream signify satisfaction with where you life is at.  It may indicate abundance or fertility. Eggplants are also symbolic of loyalty, passion and devotion.;\\nTo dream that you are in a village represents restrictions. You need to follow the rules. Alternatively, a village signifies community, simplicity, and tradition.;\\nTo see your teacher (past or present) in your dream suggests that you are seeking some advice, guidance, or knowledge. You are heading into a new path in life and are ready to learn by example or from a past experience. Consider your own personal experiences with that particular teacher. What subject was taught? Alternatively, a teacher relates to issues with authority and seeking approval. You may be going through a situation in your waking life where you feel that you are being treated like a student or in which you feel you are being put to a test. Also pay attention to the demeanor and attitude of the teacher in your dream. If the teacher in your dream is mean, then it implies that you may be putting too much pressure on yourself to succeed.;\\nTo     see or ride on a kick scooter in your dream implies that you are trying to     balance various areas of your life. The dream also means that you need to be     decisive in what you are doing.;\\nTo dream that you or others are adopting a child indicates that you are taking on something new and different. Ask yourself what is missing in your life that would make you happy.",
         " Use the dream symbols to help you interpret the dream . To dream of fancy things indicates that you are putting up a facade and hiding your true self . The jaws of an animal in your dream indicate a misunderstanding . The dream may be reflection of current wars around the world and your personal feelings about it ."
        ],
        [
         "7",
         "Given dream description and dream symbols below, \nExplain what this dream means. \nUse the dream symbols to help you interpret the dream. ",
         "I was among some girls about 10 years old. I was tempted to touch them sexually. A plastic balloon shaped like a crotch was by me, and I felt it. I was dismayed because I had been tempted. I wanted to convince the doctors at the hospital where I was confined that I could control myself if they released me. I said to a doctor, \"Is that why you won't let me go?\" I pondered deeply on how I could rechannel my mental energy toward creative endeavors.",
         "To see a weta in your dream signifies your fear of the unknown. Sometimes what you don't know is a source of anxiety and stress. You are worrying too much about minor issues.  Alternatively, dreaming of a weta represents your roots.;\\nTo see a yak in your dream represents your uniqueness and dependability. The yak may also be a pun on \"yakking\" too much. Maybe you should stop talking and listen more.;\\nTo see a castle in your dream signifies reward, honor, recognition, and praise for your achievements. You are destined to a position of power, wealth, and prestige. Alternatively, the dream indicates your desire to escape from life's daily problems.;\\nTo see or eat a tangerine in your dream implies that you are in need of a quick and easy boost of energy.;\\nTo dream that you have been rear ended indicates that something from your past is still impacting your present situation. You need to learn from the past in order to move forward.;\\nTo dream that you are breaking out of jail refers to your desire or need to escape from a restrictive situation or relationship. Alternatively, dreaming of a jailbreak means that you are refusing to accept the consequences of your actions.;\\nTo dream that you are taming an animal symbolizes your control over your animalistic urges.  You are experiencing balance and harmony.;\\nTo dream that you are being indifferent suggests that you are trying to hide your true concerns. You do not want to let on that you care or that you really feel a certain way.;\\nTo see a fairy in your dream indicates that you are in search of some help or advice for a problem or decision, but may not want to directly admit you need help. In particular, if the fairy is evil, then it suggests that an aspect of yourself needs to be set free.  The fairy is also symbolic of your soul and the feminine aspects of yourself.;\\nTo see or dream that you are a park ranger represents control of your subconscious. You are also keeping your emotions in check.",
         " Use the dream symbols to help you interpret the dream . To dream that you are breaking out of jail refers to your desire or need to escape from a restrictive situation or relationship . Dream symbols: To dream a weta in your dream signifies your fear of the unknown ."
        ],
        [
         "8",
         "Given dream description and dream symbols below, \nExplain what this dream means. \nUse the dream symbols to help you interpret the dream. ",
         "Two nuclear subs are fighting and are going to blow. I start running away so I can escape radiation fallout. I run toward the coast range, up and up and up. Then I'm running up a narrow stairs to an attic. Something scary is after me. I lock the two doors on the stairwell and hide under debris in the attic near a window where I can look out and see the danger.",
         "To see or viola in your dream represents your deeper, darker and more melancholy feelings.;\\nTo see an electricity tower in your dream symbolizes a distribution of power. You do not need to always be in full control. You need to delegate responsibilities and duties. Alternatively, the dream symbolizes industry and modernity.;\\nTo dream that you are at a farmer's market suggests that you are looking for spiritual enrichment from a higher source.;\\nTo dream that you are carrying a knife signifies anger, aggression and/or separation. There may be something in your life that you need to cut out and get rid of.  Perhaps you need to cut ties or sever some relationship. Be more divisive. Alternatively, a knife refers to some sexual tension or sexual confrontation.;\\nTo dream of having an abundance of a certain item indicates that you need to conserve your resources and energies. This dream may be a compensatory dream for something that you are lacking in life. More directly, abundance signifies happiness.;\\nTo see a maple in your dream symbolizes humility, warmth, and openness. It also indicates positive gains, happiness and fullness of life.;\\nTo dream that you are in the Wild West represents your resourcefulness and survival skills. Alternatively, the dream implies that you may be over-thinking a problem. Sometimes simplicity is the way to go. Being in the Wild West also indicates that you need to be more straightforward about your feelings, intentions or goals.;\\nTo see or wear a pantyhose in your dream represents alluring sexuality. Consider the color of the pantyhose. If it is nude or beige color, then it signifies your discreteness. If it is black, then it symbolizes your hidden sexuality waiting to be expressed. If it is red, then it represents overt sexuality. If the pantyhose is torn or have a run, then it indicates lacking self esteem and reduced self confidence.;\\nTo dream that you are changing into the form of an animal indicates that you are becoming less civilized, less restrained and becoming more free and instinctive. You may be expressing your newfound freedom/independence and experiencing a lack of boundaries. Alternatively, taking the form of an animal suggests that your primal desires and/or repressed sexual urges are coming to the surface and needing to be satisfied. Consider also the animal that your turn into.;\\nTo dream that you are at the mall symbolizes the choices, decisions and options you have in your waking life. These choices will help shape who you are as a person. You are trying to establish your identity and sense of self. Alternatively, the dream suggests that you are trying to make a favorable impression on someone. The mall is also symbolic of materialism and the need to keep up with the trends, fads, and/or the latest technology. Consider the type and name of stores that you see in your dreams.",
         " Given dream description and dream symbols below,  explain what this dream means . Use the dream symbols to help you interpret the dream . To see or wear a pantyhose in your dream represents alluring sexuality ."
        ],
        [
         "9",
         "Given dream description and dream symbols below, \nExplain what this dream means. \nUse the dream symbols to help you interpret the dream. ",
         "I went to some place with Dad and I ordered chocolate chip pancakes with chocolate sauce (which meant chocolate ice-cream). When it was delivered it was a small piece of something and it had corn in it. I said I couldn't complain and Dad wouldn't complain for me. There was something to do with David Anders.",
         "To dream of a baby shower suggests that you are welcoming a new start. You are given a chance to start over again and do things differently this time around. You have a new found faith in life itself.;\\nTo see yourself in your dream is a reflection of how you act and behave in your waking life. Consider what you are doing and how you are feeling in the dream for additional significance.;\\nTo dream that you are playing an online game indicates that you are trying to escape from the stresses in your daily life. You want to be someone else. You want to be in control. Alternatively, dreaming about an online game may simply mean that you are spending so much time playing the game that the images have drifted into your dreams.;\\nTo see a mammoth in your dream implies that you need to let go of some past emotions. You are letting your cold hard feelings control your behavior. Perhaps you are being too frigid. Alternatively, a mammoth symbolizes power, size and/or strength.;\\nTo see a garland in your dream represents wholeness and completeness.;\\nTo see a new house in your dream indicates that you are taking on a new identity and developing new strengths. You are becoming more emotionally mature.;\\nTo dream that you are being chased or stalked by the paparazzi indicates that your privacy is being violated. You feel that your own identity is lost. Alternatively, the dream represents your aspirations for fame.;\\nTo dream that you are saying farewell signifies an end to some relationship or phase in your life.;\\nTo dream of your back represents your attitudes, strengths, burdens and stance in the world. It may also relate to stress and pressure that someone is putting on you.;\\nTo see a lamppost in your dream indicates that light needs to be shed on some dark situation. Alternatively, the dream suggests that you are coming out of a depressing or gloomy phase.",
         " Given dream description and dream symbols below,  Explain what this dream means . Dream symbols: To dream of a baby shower suggests that you are welcoming a new start . Dreaming about an online game may simply mean you are spending so much time playing the game that the images have drifted into your dreams ."
        ]
       ],
       "shape": {
        "columns": 4,
        "rows": 10
       }
      },
      "text/html": [
       "<div>\n",
       "<style scoped>\n",
       "    .dataframe tbody tr th:only-of-type {\n",
       "        vertical-align: middle;\n",
       "    }\n",
       "\n",
       "    .dataframe tbody tr th {\n",
       "        vertical-align: top;\n",
       "    }\n",
       "\n",
       "    .dataframe thead th {\n",
       "        text-align: right;\n",
       "    }\n",
       "</style>\n",
       "<table border=\"1\" class=\"dataframe\">\n",
       "  <thead>\n",
       "    <tr style=\"text-align: right;\">\n",
       "      <th></th>\n",
       "      <th>prompt</th>\n",
       "      <th>dream</th>\n",
       "      <th>symbols</th>\n",
       "      <th>interpretation</th>\n",
       "    </tr>\n",
       "  </thead>\n",
       "  <tbody>\n",
       "    <tr>\n",
       "      <th>0</th>\n",
       "      <td>Given dream description and dream symbols belo...</td>\n",
       "      <td>I saw Seventec. It was a woman standing in a s...</td>\n",
       "      <td>To see a barrister with a white wig in your dr...</td>\n",
       "      <td>Use the dream symbols to help you interpret t...</td>\n",
       "    </tr>\n",
       "    <tr>\n",
       "      <th>1</th>\n",
       "      <td>Given dream description and dream symbols belo...</td>\n",
       "      <td>I call one of my friends. I am in my old room ...</td>\n",
       "      <td>To dream that you are under narcosis is an ind...</td>\n",
       "      <td>To dream that you are under narcosis is an in...</td>\n",
       "    </tr>\n",
       "    <tr>\n",
       "      <th>2</th>\n",
       "      <td>Given dream description and dream symbols belo...</td>\n",
       "      <td>I had left my house and I was going down the s...</td>\n",
       "      <td>To see or eat jelly in your dream represents i...</td>\n",
       "      <td>Given dream description and dream symbols bel...</td>\n",
       "    </tr>\n",
       "    <tr>\n",
       "      <th>3</th>\n",
       "      <td>Given dream description and dream symbols belo...</td>\n",
       "      <td>I was driving my car down a hill. There was sn...</td>\n",
       "      <td>To see a Barbie doll in your dream represents ...</td>\n",
       "      <td>To see a Barbie doll in your dream represents...</td>\n",
       "    </tr>\n",
       "    <tr>\n",
       "      <th>4</th>\n",
       "      <td>Given dream description and dream symbols belo...</td>\n",
       "      <td>There is the theater. A man asks if there is a...</td>\n",
       "      <td>To see Harley Quinn in your dream points to an...</td>\n",
       "      <td>Use the dream symbols to help you interpret t...</td>\n",
       "    </tr>\n",
       "    <tr>\n",
       "      <th>5</th>\n",
       "      <td>Given dream description and dream symbols belo...</td>\n",
       "      <td>Tyler and Jerome are in a bedroom together. Th...</td>\n",
       "      <td>To see or eat jelly in your dream represents i...</td>\n",
       "      <td>Use the dream symbols to help you interpret t...</td>\n",
       "    </tr>\n",
       "    <tr>\n",
       "      <th>6</th>\n",
       "      <td>Given dream description and dream symbols belo...</td>\n",
       "      <td>I was in a floral shop and all these birds (bl...</td>\n",
       "      <td>To dream of fancy things indicates that you ar...</td>\n",
       "      <td>Use the dream symbols to help you interpret t...</td>\n",
       "    </tr>\n",
       "    <tr>\n",
       "      <th>7</th>\n",
       "      <td>Given dream description and dream symbols belo...</td>\n",
       "      <td>I was among some girls about 10 years old. I w...</td>\n",
       "      <td>To see a weta in your dream signifies your fea...</td>\n",
       "      <td>Use the dream symbols to help you interpret t...</td>\n",
       "    </tr>\n",
       "    <tr>\n",
       "      <th>8</th>\n",
       "      <td>Given dream description and dream symbols belo...</td>\n",
       "      <td>Two nuclear subs are fighting and are going to...</td>\n",
       "      <td>To see or viola in your dream represents your ...</td>\n",
       "      <td>Given dream description and dream symbols bel...</td>\n",
       "    </tr>\n",
       "    <tr>\n",
       "      <th>9</th>\n",
       "      <td>Given dream description and dream symbols belo...</td>\n",
       "      <td>I went to some place with Dad and I ordered ch...</td>\n",
       "      <td>To dream of a baby shower suggests that you ar...</td>\n",
       "      <td>Given dream description and dream symbols bel...</td>\n",
       "    </tr>\n",
       "  </tbody>\n",
       "</table>\n",
       "</div>"
      ],
      "text/plain": [
       "                                              prompt  \\\n",
       "0  Given dream description and dream symbols belo...   \n",
       "1  Given dream description and dream symbols belo...   \n",
       "2  Given dream description and dream symbols belo...   \n",
       "3  Given dream description and dream symbols belo...   \n",
       "4  Given dream description and dream symbols belo...   \n",
       "5  Given dream description and dream symbols belo...   \n",
       "6  Given dream description and dream symbols belo...   \n",
       "7  Given dream description and dream symbols belo...   \n",
       "8  Given dream description and dream symbols belo...   \n",
       "9  Given dream description and dream symbols belo...   \n",
       "\n",
       "                                               dream  \\\n",
       "0  I saw Seventec. It was a woman standing in a s...   \n",
       "1  I call one of my friends. I am in my old room ...   \n",
       "2  I had left my house and I was going down the s...   \n",
       "3  I was driving my car down a hill. There was sn...   \n",
       "4  There is the theater. A man asks if there is a...   \n",
       "5  Tyler and Jerome are in a bedroom together. Th...   \n",
       "6  I was in a floral shop and all these birds (bl...   \n",
       "7  I was among some girls about 10 years old. I w...   \n",
       "8  Two nuclear subs are fighting and are going to...   \n",
       "9  I went to some place with Dad and I ordered ch...   \n",
       "\n",
       "                                             symbols  \\\n",
       "0  To see a barrister with a white wig in your dr...   \n",
       "1  To dream that you are under narcosis is an ind...   \n",
       "2  To see or eat jelly in your dream represents i...   \n",
       "3  To see a Barbie doll in your dream represents ...   \n",
       "4  To see Harley Quinn in your dream points to an...   \n",
       "5  To see or eat jelly in your dream represents i...   \n",
       "6  To dream of fancy things indicates that you ar...   \n",
       "7  To see a weta in your dream signifies your fea...   \n",
       "8  To see or viola in your dream represents your ...   \n",
       "9  To dream of a baby shower suggests that you ar...   \n",
       "\n",
       "                                      interpretation  \n",
       "0   Use the dream symbols to help you interpret t...  \n",
       "1   To dream that you are under narcosis is an in...  \n",
       "2   Given dream description and dream symbols bel...  \n",
       "3   To see a Barbie doll in your dream represents...  \n",
       "4   Use the dream symbols to help you interpret t...  \n",
       "5   Use the dream symbols to help you interpret t...  \n",
       "6   Use the dream symbols to help you interpret t...  \n",
       "7   Use the dream symbols to help you interpret t...  \n",
       "8   Given dream description and dream symbols bel...  \n",
       "9   Given dream description and dream symbols bel...  "
      ]
     },
     "execution_count": 86,
     "metadata": {},
     "output_type": "execute_result"
    }
   ],
   "source": [
    "from summarizer import load_summarizer\n",
    "\n",
    "summarizer = load_summarizer()\n",
    "result = batch_summarize(dataset, summarizer, batch_size=1)\n",
    "\n",
    "result\n"
   ]
  },
  {
   "cell_type": "code",
   "execution_count": 87,
   "id": "3555e4cb",
   "metadata": {},
   "outputs": [],
   "source": [
    "result.to_html(\"datasets/dream_interpretations.html\", index=False)"
   ]
  },
  {
   "cell_type": "code",
   "execution_count": 29,
   "id": "e78ec2c5",
   "metadata": {},
   "outputs": [
    {
     "data": {
      "text/plain": [
       "362"
      ]
     },
     "execution_count": 29,
     "metadata": {},
     "output_type": "execute_result"
    }
   ],
   "source": [
    "len(results[0])"
   ]
  },
  {
   "cell_type": "code",
   "execution_count": 30,
   "id": "d73c9d21",
   "metadata": {},
   "outputs": [
    {
     "data": {
      "text/plain": [
       "[' To dream of an abyss signifies an obstacle that is creating much anxiety for you . To dream that you are at a factory represents repetitious thinking and an old way of doing things . To see a baby carriage in your dream symbolizes your desire for a family or longing for a baby . If the baby carriage is empty, then it indicates sadness or an unfulfilled goal .',\n",
       " ' Dream symbols: To dream that you have a house with an open floor plan or an open layout suggests that you need to work on integrating aspects of yourself . Dream that you are getting a demotion at work indicates a lack of self-esteem and confidence . Dreaming about your vagina in your dream means fertility, life, softness and warmth .',\n",
       " ' Use the dream symbols to help you interpret the dream . To dream you are abusing someone suggests that your past actions will come back to haunt you . Alternatively, the dream refers to your unwise choices or your fear of confrontation .',\n",
       " ' Use the dream symbols to help you interpret the dream . To dream that you are walking on a red carpet represents your desire to be admired and looked up to . Alternatively, the dream indicates that you need to take more initiative and get involved with the way your life is going .',\n",
       " ' Use the dream symbols to help you interpret the dream . To dream that you get or have breast implants refer to your body image issues . The dream is expressing your desires to be more sexual and/or sensual .',\n",
       " ' To dream that you are laboring suggests that your goals will take a lot of hard work to accomplish . If you are pregnant, the dream is a rehearsal for the actual birth . To dream of a safe haven place indicates that you have a positive outlook in life . The dream is trying to prepare you for unexpected challenges .',\n",
       " ' To dream that you are having your palms read represents your life goals and ambition . To dream of a marriage signifies commitment, harmony or transitions . To see a pangolin in your dream means that you need to protect yourself from your own drive . A scar represents deep-seated insecurities holding you back from accomplishing your goals .',\n",
       " ' To dream that you have schizophrenia and you really do not represents your refusal to take responsibilities for your actions . To dream you are telekinetic represents a higher level of awareness and consciousness . To see a Mariachi band in your dream represents the Mexican culture and tradition .',\n",
       " ' Use the dream symbols to help you interpret the dream . To dream about Easter suggests that the worst of your problems are over . An urn in your dream represents feelings that have burned out or that you are feeling burnt out and exhausted . Alternatively, the dream symbolizes resurrection and spiritual rebirth .',\n",
       " ' Use the dream symbols to help you interpret the dream . To dream that you are indecisive reflects your waking state of indecision . To see or eat a tangerine in your dream implies you are in need of a quick and easy boost of energy . The dream may indicate that something important or significant is happening tonight .']"
      ]
     },
     "execution_count": 30,
     "metadata": {},
     "output_type": "execute_result"
    }
   ],
   "source": [
    "results"
   ]
  }
 ],
 "metadata": {
  "kernelspec": {
   "display_name": ".dream",
   "language": "python",
   "name": "python3"
  },
  "language_info": {
   "codemirror_mode": {
    "name": "ipython",
    "version": 3
   },
   "file_extension": ".py",
   "mimetype": "text/x-python",
   "name": "python",
   "nbconvert_exporter": "python",
   "pygments_lexer": "ipython3",
   "version": "3.11.9"
  }
 },
 "nbformat": 4,
 "nbformat_minor": 5
}
