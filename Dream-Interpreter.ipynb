{
 "cells": [
  {
   "cell_type": "markdown",
   "id": "709bb27208e23ba4",
   "metadata": {},
   "source": [
    "## **Step 1 - keywords Extraction**\n",
    "***"
   ]
  },
  {
   "cell_type": "markdown",
   "id": "b5af564d8f04df39",
   "metadata": {},
   "source": [
    "We have two datasets, one with dream text descriptions:"
   ]
  },
  {
   "cell_type": "code",
   "execution_count": null,
   "id": "a1ecfbd7e24c7e53",
   "metadata": {
    "ExecuteTime": {
     "end_time": "2025-04-13T21:23:35.718332Z",
     "start_time": "2025-04-13T21:23:35.469996Z"
    }
   },
   "outputs": [],
   "source": [
    "from keyword_extractor import read_datasets, extract_and_save_keywords_from_dataframes\n",
    "from yaml_parser import load_config\n",
    "config = load_config()\n",
    "dream_df, keywords_df = read_datasets(config)\n",
    "dream_df.head()"
   ]
  },
  {
   "cell_type": "markdown",
   "id": "62c56a04aa56a02",
   "metadata": {},
   "source": [
    "And another one with interpretations of dreams according to keywords:"
   ]
  },
  {
   "cell_type": "code",
   "execution_count": null,
   "id": "a7c15465e0fca30",
   "metadata": {
    "ExecuteTime": {
     "end_time": "2025-04-13T21:23:35.755134Z",
     "start_time": "2025-04-13T21:23:35.747133Z"
    }
   },
   "outputs": [],
   "source": [
    "keywords_df"
   ]
  },
  {
   "cell_type": "markdown",
   "id": "bd509c434a4e3b8d",
   "metadata": {},
   "source": [
    "Now, we will use pretrained LLMs in order to extract the given keywords from the keywords dataset , from the dream text description from the dream text dataset."
   ]
  },
  {
   "cell_type": "markdown",
   "id": "b6c5d2fa9f32bfe5",
   "metadata": {},
   "source": [
    "### **GPT2**\n",
    "***"
   ]
  },
  {
   "cell_type": "code",
   "execution_count": null,
   "id": "26b7a0f6bf84fe5a",
   "metadata": {
    "ExecuteTime": {
     "end_time": "2025-04-13T21:39:36.596114Z",
     "start_time": "2025-04-13T21:32:54.369789Z"
    }
   },
   "outputs": [],
   "source": [
    "dream_df = extract_and_save_keywords_from_dataframes()"
   ]
  },
  {
   "cell_type": "code",
   "execution_count": null,
   "id": "803344e9",
   "metadata": {},
   "outputs": [],
   "source": [
    "css = \"\"\"\n",
    "    .table-style {\n",
    "                  width: 100%;\n",
    "                  border-style: solid;\n",
    "                  border-width: 5px;\n",
    "}\n",
    "\n",
    "    .table-style td {\n",
    "                  white-space:pre\n",
    "                  width: 100px;\n",
    "                  border-style: solid;\n",
    "                  border-width: 5px;\n",
    "}\n",
    "\"\"\""
   ]
  },
  {
   "cell_type": "code",
   "execution_count": null,
   "id": "2f6dac7c",
   "metadata": {},
   "outputs": [],
   "source": [
    "dream_df[[\"text_dream\",\"Dream Symbol\"]][:100].style\\\n",
    "  .set_table_attributes('class=\"table-style\"')\\\n",
    "  .to_html(\"datasets/dream_and_its_keys.html\", index=False, classes=css, border=2)\n"
   ]
  },
  {
   "cell_type": "code",
   "execution_count": null,
   "metadata": {},
   "outputs": [],
   "source": []
  },
  {
   "cell_type": "code",
   "execution_count": null,
   "id": "721b6935",
   "metadata": {},
   "outputs": [],
   "source": []
  },
  {
   "cell_type": "markdown",
   "id": "31a7e75c",
   "metadata": {},
   "source": [
    "## Step 2 - Summarize interpretations"
   ]
  },
  {
   "cell_type": "markdown",
   "id": "896dc1f6",
   "metadata": {},
   "source": [
    "### Load data and prepare (small) dataset for experimenting"
   ]
  },
  {
   "cell_type": "code",
   "execution_count": 1,
   "id": "4328b3ac",
   "metadata": {},
   "outputs": [],
   "source": [
    "import pandas as pd\n",
    "from datetime import datetime\n",
    "from transformers import pipeline\n",
    "from utils import  release_all_gpu_memory, save_df_as_pretty_html\n"
   ]
  },
  {
   "cell_type": "code",
   "execution_count": 9,
   "id": "851684ea",
   "metadata": {},
   "outputs": [],
   "source": [
    "from summarizer import load_causal_model, batch_generate_interpretations\n",
    "\n",
    "import torch"
   ]
  },
  {
   "cell_type": "code",
   "execution_count": 2,
   "id": "65307ac5",
   "metadata": {},
   "outputs": [
    {
     "data": {
      "application/vnd.microsoft.datawrangler.viewer.v0+json": {
       "columns": [
        {
         "name": "index",
         "rawType": "int64",
         "type": "integer"
        },
        {
         "name": "dream_id",
         "rawType": "int64",
         "type": "integer"
        },
        {
         "name": "dreamer",
         "rawType": "object",
         "type": "string"
        },
        {
         "name": "description",
         "rawType": "object",
         "type": "string"
        },
        {
         "name": "dream_date",
         "rawType": "object",
         "type": "string"
        },
        {
         "name": "dream_language",
         "rawType": "object",
         "type": "string"
        },
        {
         "name": "text_dream",
         "rawType": "object",
         "type": "string"
        },
        {
         "name": "characters_code",
         "rawType": "object",
         "type": "unknown"
        },
        {
         "name": "emotions_code",
         "rawType": "object",
         "type": "unknown"
        },
        {
         "name": "aggression_code",
         "rawType": "object",
         "type": "unknown"
        },
        {
         "name": "friendliness_code",
         "rawType": "object",
         "type": "unknown"
        },
        {
         "name": "sexuality_code",
         "rawType": "object",
         "type": "unknown"
        },
        {
         "name": "Male",
         "rawType": "float64",
         "type": "float"
        },
        {
         "name": "Animal",
         "rawType": "float64",
         "type": "float"
        },
        {
         "name": "Friends",
         "rawType": "float64",
         "type": "float"
        },
        {
         "name": "Family",
         "rawType": "float64",
         "type": "float"
        },
        {
         "name": "Dead&Imaginary",
         "rawType": "float64",
         "type": "float"
        },
        {
         "name": "Aggression/Friendliness",
         "rawType": "float64",
         "type": "float"
        },
        {
         "name": "A/CIndex",
         "rawType": "float64",
         "type": "float"
        },
        {
         "name": "F/CIndex",
         "rawType": "float64",
         "type": "float"
        },
        {
         "name": "S/CIndex",
         "rawType": "float64",
         "type": "float"
        },
        {
         "name": "NegativeEmotions",
         "rawType": "float64",
         "type": "float"
        },
        {
         "name": "Dream Symbol",
         "rawType": "object",
         "type": "string"
        }
       ],
       "conversionMethod": "pd.DataFrame",
       "ref": "f6d73eee-1447-4cd4-8a59-db8b84868967",
       "rows": [
        [
         "0",
         "1",
         "alta",
         "Alta: a detailed dreamer",
         "1957",
         "en",
         "The one at the Meads's house, where it's bigger inside than out; there's a European village just inside, with a cobblestone street and a Pied-Piper sort of man with curly hair, he can do things like juggle - I go up the back stairs [there aren't any in the real house] and then down the other side [since there's a second set, immediately] then down a short empty hallway that turns a corner, where I find a tiny room...a young woman with shoulder-length blonde hair in a pageboy is there, cooking at a stove that almost fills the room...she's nice to me. Now outside, I'm waiting for my aunt to pick me up - she arrives in a little round convertible and we go for a drive, not very far - we cross a little bridge over a creek, then double back and she drops me off at the house again. Inside (?) I sit with a couple of people, playing with a string of blue balloons.",
         "2ISA, 1MKA, 1FDA, 1IOA, 2ISA",
         null,
         "2IKA > Q",
         "2IKA 4> Q",
         null,
         "0.5",
         "0.0",
         "0.2",
         "0.2",
         "0.0",
         "0.0",
         "0.2",
         "0.2",
         "0.0",
         "0.0",
         "Upstairs,Haunted House,Maid,Tea House,Mansion"
        ],
        [
         "1",
         "2",
         "alta",
         "Alta: a detailed dreamer",
         "8/11/1967",
         "en",
         "I'm at a family reunion in a large fine house with grounds (or a maybe a rented public building like in a park) - maybe it's granite or something, very imposing. I'm on a little round balcony with a few others (I think men), there are lots more people inside. I feel faint and collapse. They see that I'm very sick, and quickly take me to a car to go to the hospital. (I don't see any of that, the next I know is that I'm lying in the back seat of the car - a sedan - going like gangbusters on a huge freeway. It must be 5 lanes in each direction, lots of cars but not crowded, and all going really fast. I can't see anything else but freeway and blue sky, with a few white clouds. As we barrel along, the road rises, and quickly - soon it changes to steps, which doesn't slow anybody down, and it keeps going up, the incline increasing. Now my line of sight changes to a spot at the side of the freeway (outside of the car), looking across it - and the incline (without the steps) takes a sharp turn up to vertical. The cars are not stopping or even slowing down, and they whoosh straight up. They make it about halfway up on momentum, and then gravity takes over and they fall down. I can see them sort of drop off [rather than sliding down still in contact with the pavement] and fall down way below me.",
         "2ISA, people, 2ISA",
         "SD 2IKA",
         "D > Q, Q > 2ISA",
         null,
         null,
         "0.0",
         "0.0",
         "0.0",
         "0.0",
         "0.0",
         "1.0",
         "0.666666667",
         "0.0",
         "0.0",
         "1.0",
         "Fainting,Vertigo,Near Death Experience,Landslide,Palpitations"
        ],
        [
         "2",
         "3",
         "alta",
         "Alta: a detailed dreamer",
         "8/1/1985",
         "en",
         "I watch a plane fly past and shortly realize it was too low. It crashes not half a block away (rather as though it fell from a height of a few yards than flying straight into the ground). and I think there might be survivors, and that I should call the police. Before I get the number dialed, I realize I want the fire department instead. I get no ring, try again and find the line is dead. Some people (3? - at least one a woman) are coming toward the house and I understand they are responsible for the dead phone and I should be suspicious of them. I try to leave the house - run into a pregnant girl at the back; she seems to be in some sort of a bad way and has maybe started labor. The woman from the plane comes this way, calls the others to come get the pregnant girl, and I pretend to be asleep or dead. They don't buy it, I guess, and we all go inside. I'm not a prisoner, I don't think, so much as being detained for some reason, and I go to my brother's old room. He moved out of it a couple of years ago but there is furniture still there and I haven't looked around in a long time. [This does not seem to be the family home - I felt like it was rented.] There are a couple of chests of drawers that I realize I could have used downstairs long ago, yet I've been looking for acceptable furniture all this time. Also there are blankets (as well as clothes and shoes - women's shoes - but they aren't important), a lot of blankets, and I badly needed those last winter but didn't realize they were here. Also a very nice shoe rack. The woman comes back to say or do something. [I don't know what, and the dream ended about there, I think.]",
         "2ISA, 2ISA, 1FSA, 1MBA, 1IOA, 2ISA, 2FDA",
         "SD 1ISA, AP D, AP D",
         "It PRP >, It PRP >, D > 1FKA",
         null,
         null,
         "0.333333333",
         "0.0",
         "0.0",
         "0.285714286",
         "0.0",
         "1.0",
         "0.428571429",
         "0.0",
         "0.0",
         "1.0",
         "Kidnap,Emergency Alert,Death Penalty,Abortion,Near Death Experience"
        ],
        [
         "3",
         "4",
         "alta",
         "Alta: a detailed dreamer",
         "1985?",
         "en",
         "Me pulling the green leaves and berries off some branches or a bush (not from a live one growing in the ground, but inside the house). A boy of 10 or 12 is impatiently telling me, \"Mother's asleep\" (I think) - as if I'm not supposed to be doing what I'm doing instead of her or without her knowledge or something. This is in an old rambling house with lots of old furniture and interconnected rooms. Lace doilies on little tables, throw rugs, etc. Some of \"us\" (family? friends?) - there's 3 or 4 of us, I think - are outside and there's a dog on the rampage - didn't we think it was a wolf at first? Anyway it turns out to be a black boxer or bulldog or something and it charges the back door. There's some kind of flap or opening in it that I plug up - I don't know what the people outside are doing but they're okay and they come in shortly. Somebody has rather by accident invited somebody like a neighbor to come over for something on the order of borrowing a cup of sugar. Trouble is this person always has a party with him/her. Kind of a group of hangers-on who just hang around talking and drinking tea and you can't ever get them to go away. For some reason I go to the front door. There are 2 of them in the room at the front, in a couple of chairs each with doilies, and little tables next to them with doilies and little lamps, and I think they're men in fairly formal suits and oblivious to anything around them. I sort of look at them in resignation or bemusement. There's a staircase here. (They don't go upstairs, after all they are just visitors, not a mob.) Outside there is a hutch as for rabbits or something, covered, not particularly nice. Next to it are a couple of little open shelters with no amenities. There is a guinea pig in each place. The sun is shining directly on the two outside and it's hot. The one inside is not particularly comfortable but he's okay. The other two are dehydrating and too weak to move. I come and look at them, feeling sad and sympathetic but no anger - I have the idea the person who set this up isn't there. I'm going to take them in and try to save them but I'm not sure I can. I'm not going to just let them die out here. The reason they're here if because they were replaced by the one inside like their usefulness as displays was used up. I want to come back and take away the other one, and get him out of the nasty cage. I'm sad.",
         "1MAA, 1FMA, 2ISA, 2IKA, 1ANI, 1ANI, 1IOA, 2ISA, 1ISA, 1ISA, 1ISA, 2ISA, 1ISA, 2MKA, 2ISA, 2ANI, 1ISA",
         "SD 2ISA, SD D",
         "Q > Q, 2ISA > Q, 2ISA > Q, D > 1MSA",
         "1IKA 4> Q, 2ISA 4> 2ISA",
         null,
         "0.666666667",
         "0.176470588",
         "0.142857143",
         "0.142857143",
         "0.0",
         "1.0",
         "0.235294118",
         "0.117647059",
         "0.0",
         "1.0",
         "Kidnap,Knocking,Party,Sabotage,Paranormal"
        ],
        [
         "4",
         "5",
         "alta",
         "Alta: a detailed dreamer",
         "1985?",
         "en",
         "I'm in a room that reminds me of (but definitely isn't) the living room of the house on A Street. I am there because I live there or at least it belongs to me and I spend time there, and I am on vacation or something. It's afternoon and I remember how the light looked and my cousin came to see me for a visit, as though to let me in on some news or just for fun. I don't know of anything else that happened, but it did involve him lying around on the floor very much the way I do. Very comfortable and casual and warm - that is, that's the way I was feeling. So there's a Training going on, and the room reminds me a bit of school, like a school auditorium. The light is greenish, daylight, morning. The staff wasn't sitting behind tables but in rows of chairs. It was still early - we were instructed to go up on the stage, and we did, but they weren't quite organized and we were standing there for a while. Very informal and chummy. Later I left for a break and went (home?) somewhere away, not a restaurant, for more time than a dinner break. Pete Townsend was with me and maybe some other people. (He wasn't on the team.) Don't know what was going on there, but when it was time to go back we had an errand to run - stopped at a sort of store on a sort of small-town main street. We were going inside and this guy who was with us burst out at me - I don't know what about - and said he was arresting me and getting a peace bond on me. I was shocked but didn't know what it was about except that he was angry at the effect I was having on the group of people that P.T. was involved with. In any case, he keeps me with him and we may have gone inside and come back out again. The place reminds me rather of a dry-goods store, with rows of waist-high bins, and a counter along the side. On the way out, P.T. takes the guy aside and says something very stern and final-sounding in French. I knew it was French but I don't understand it and that was the reason he was using it, so that I wouldn't be embarrassed or have to hear something I wouldn't want to. The guy said something back in French but shorter. P.T. just looked at him like he was disgusted and all through, and took me outside. We got in the car and were driving back - I was still kind of stunned and found he was talking to me - he was explaining something about the incident, and that he could do without this other guy, who I think had been his friend; but he couldn't do without me. He looked at me and said very firmly, \"I need you\". I was overwhelmed and leaned over to him and he pulled me over for a hug. At some point I was concerned that we weren't going to get back to the Training in time because of stopping for an errand, and I thought there might turn out to be another and another, the way I do it.",
         "1IRA, 1MSA, 1ISA, 2ISA, 1ISA, 1IKA",
         "AP D, AP D, AP 1MSA, CO D, SD D, AP D",
         "1MSA > D, Q > Q, D > 2IKA, D > 2IKA, D > 1MSA, D > 1MSA, 1MSA > D, D > 1IKA",
         "D 4> Q",
         null,
         "1.0",
         "0.0",
         "0.166666667",
         "0.166666667",
         "0.0",
         "0.875",
         "1.333333333",
         "0.166666667",
         "0.0",
         "1.0",
         "Haunted House,Paranormal,Near Death Experience,Cafeteria,Dance Floor"
        ],
        [
         "5",
         "6",
         "alta",
         "Alta: a detailed dreamer",
         "1985?",
         "en",
         "Living next door to Loretta in an apartment - looks as if we just moved in or were just moving out. I'm in her place, and aware that the door is open to my place and anyone could walk in and steal things. (It's also as though there's no front wall at all - and this is upstairs, not inside the building but facing outside, we're at the end of the walkway and the stairs are at the other end so anyone coming would pass my place first). Don't know what's happening, but there's a group of people involved. At least 3 of us stop at a grocery store on our way somewhere - an outing of some sort, like a picnic or an amusement park. The 3rd person is a woman I don't recognize, but she's friendly and energetic - I think she has a kid - this is her store and she knows what we're looking for. It's the sort of place you don't see much anymore - leftover from the Fifties and Sixties. Funny lighting. Also a brief image of going high on an overpass in an open car - don't know who's driving - blue skies, sunlight - there's something beside the overpass that we mean to grab at but it's not easy to reach and we think it's best not to try.",
         "1FSA, 2ISA, 1FDA, 1IIC",
         "HA 1FSA",
         "D > 2IKA",
         null,
         null,
         "0.0",
         "0.0",
         "0.0",
         "0.5",
         "0.0",
         "1.0",
         "0.25",
         "0.0",
         "0.0",
         "0.0",
         "Neighborhood,Parking Lot,Balcony,Haunted House,Backyard"
        ],
        [
         "6",
         "7",
         "alta",
         "Alta: a detailed dreamer",
         "1985?",
         "en",
         "Kidnapped - I'm on my way somewhere else (by car?) and stop to visit with some people I know - seems like a few houses or buildings together, maybe like a small village out in the country somewhere. Some people with guns turn up, rather like political terrorists, and they're going to keep us prisoner until something, but I don't know what. I grouse about it and use the word \"kidnapped\" and they think it rather an affront that I would use the word - hurt their feelings. I'm rather in two minds about trying to escape - I think it's the right thing to do but I'm not sure because I find I don't trust these people not to shoot me (!) or the others not to botch the job. In the end, one of them gives me an opportunity - I kind of think voluntarily - and I run. Somebody chases me, but I keep on running - stop once and look around, decide to keep running just in case. They give up fairly soon. Later I go back, after they've been caught - I don't know if that was my doing or not - and there was some problem with punishing them. I'm real mad because I don't think they're being dealt with harshly enough. My friends try to talk to me, make me see that they aren't such bad guys as I made them out to be, and I won't listen. (And they aren't - they didn't hurt anybody, or get nasty. My biggest problem was being so angry at the insult to my freedom, that anyone would think he or she had any right to interfere with it for any reason.)",
         "2ISA, 2IOA, 1IOA, 1ISA, 2IKA, 2ISA, 2ISA",
         "AN 1ISA, AN D, SD 2ISA, AN D",
         "Q > 2IKA, D > 2ISA, D > Q, 2IKA > D, D > Q, 1IKA > D, D > Q, 2ISA > D, 2ISA > 2IKA, 1ISA 1> Q, D 1> Q",
         null,
         null,
         "0.0",
         "0.0",
         "0.142857143",
         "0.0",
         "0.0",
         "1.0",
         "1.571428571",
         "0.0",
         "0.0",
         "1.0",
         "Kidnap,Ransom,Imprisonment,Identity Theft,Abduction"
        ],
        [
         "7",
         "8",
         "alta",
         "Alta: a detailed dreamer",
         "1985?",
         "en",
         "I'm alone in an apartment - old place, inside the building - it's dark, maybe I've gone to bed - somebody breaks in, there's at least 2 of them and they come towards my room, being quiet, they don't know I'm here. I can't lock the door (or maybe it makes too much noise) but I try to hold the door shut so they'll think it is. Doesn't work. A guy with a knife comes in - black, looks the part of a bad guy, leather jacket, nasty expression. Waves the knife. I say, \"you don't need that knife\" and he says something like, \"Oh, so I don't need the knife, huh?\" - sneering-like, and feints it at my face. I am very aware there's nothing I can do to help myself and I'm afraid but stand still. He pushes the knife at me again and I grab his wrist and he sort of turns the knife upward to cut my wrist with it - I'm aware that even if I can kick him I'm probably going to die or get hurt.",
         "2ISA, 1ISA, 1ISA",
         "AP D, SD D",
         "D > D, 1MSA > D, 1MSA > D, D > 1MSA, D > D, D > D, D > Q, D > Q",
         "D 4> D",
         null,
         "0.0",
         "0.0",
         "0.0",
         "0.0",
         "0.0",
         "0.888888889",
         "2.666666667",
         "0.333333333",
         "0.0",
         "1.0",
         "Knife,Carving,Razor Blade,Kick,Machete"
        ],
        [
         "8",
         "9",
         "alta",
         "Alta: a detailed dreamer",
         "1985?",
         "en",
         "I'm somewhere with a friend I don't want to be around much and going back to her house and then elsewhere on errands. She asks me to take something with me to return to the library. At her house I see her mother and stepfather. (Rather young and both attractive.) They're both in a hurry to get somewhere too, rushing about. I seem to want to stay, or I want something from them, and am reluctant to go out the door - but I do, and stick my head back in several times with one last question. Then I remember the library - the things to take back are very large magazines (\"American Baby\"?) And even have \"return to Marty\" written on the front - Marty is the mother - so I say to her, \"don't you work right by the library?\" and she says yes, she'll take them for me, so that was nice. I can almost remember where she worked, someplace like an aerospace or computer office, standard modern waiting room, light colors, plants, etc.",
         "1IKA, stepfather, 1ISB, 1MSA",
         null,
         "D > Q",
         null,
         null,
         "1.0",
         "0.0",
         "0.25",
         "0.0",
         "0.0",
         "1.0",
         "0.25",
         "0.0",
         "0.0",
         "0.0",
         "Mansion,Department Store,Past Life,Mall,Abandonment"
        ],
        [
         "9",
         "10",
         "alta",
         "Alta: a detailed dreamer",
         "1985?",
         "en",
         "I am in some public place, reminds me of the grocery store in another dream, or lots of airports - there is food involved, and for some reason or other people are eating in the restroom. (This isn't normal.) I'm sitting at the mirror-counter next to a man, and am very ill at ease about it. There's no actual reason for it, it's entirely the principle of the thing.",
         "2ISA, 1MKA",
         null,
         null,
         null,
         null,
         "1.0",
         "0.0",
         "0.5",
         "0.0",
         "0.0",
         "0.0",
         "0.0",
         "0.0",
         "0.0",
         "0.0",
         "Rearview Mirror,Urinal,Magic Mirror,Eating,Vanity"
        ],
        [
         "10",
         "11",
         "alta",
         "Alta: a detailed dreamer",
         "1985?",
         "en",
         "At a school - I don't think I actually go to it but I'm with somebody else; it's real close to the end of the year and everybody has a what-the-hell attitude. We're in a big open room without chairs to see a film (educational, of course) and my friend parks beside a big obnoxious-looking woman (also not a standard-issue school student) but I don't relish the idea so I pick another spot and my friend joins me. The film rolls and it involves sport or dancing, and a couple of kids get up to demonstrate something which involves vigorous movement, and they \"dance\" right outside to the open grass and air - a spot rather like one at Scarb Faire. I seem to have come along for the ride, as has somebody from the class who's supposed to be getting them back in the classroom and doesn't really care any more than they do. The routine is something like, \"well I looked but I didn't find them\" and everybody goes their merry way.",
         "1ISA, 2ISA, 1FDA, 1ISA, 1IKA, 2IIC",
         null,
         null,
         "2ISA 4> 2ISA",
         null,
         "0.0",
         "0.0",
         "0.166666667",
         "0.333333333",
         "0.0",
         "0.0",
         "0.0",
         "0.166666667",
         "0.0",
         "0.0",
         "Dance Class,Dance,Dance Floor,Ballet,YMCA"
        ],
        [
         "11",
         "12",
         "alta",
         "Alta: a detailed dreamer",
         "1985?",
         "en",
         "Me and MB (one of my cats) in a big fancy dark-colored van - going to some kind of a show. She was in a cage to go there but came out for it - don't know what happened at (like an auditorium?) but we came back to the van. I put her in the driver's side door and went around to the other. Then I fiddled with the door a long time. It was a double swing door, and I hadn't known about this one inside latch about 2/3 up the door - black switch - that latched the side without a handle by itself. I tried several different things to see what it did, then when I got the whole thing shut up it was real dark inside and everything was real awkward. MB went back in her cage and we started off, but I was having some trouble handling the van. We were going along a dirt road on the grounds of the auditorium, joining a line of cars to get to some place like a campground for another event. We weren't gonna stay but I wanted to do something there. We were behind a guy with dark hair and a blonde older woman in a convertible and the guy first looks startled, then nervous, then annoyed at the van. Keeps looking around at us and I wondered what I was doing wrong. I figured I was driving the van backwards at first and looked out for a place I could turn around, but then I realized I wasn't backward, but I was on the passenger side driving with an auxiliary steering wheel. Would've been difficult to change but I figured I was managing all right anyway, so I went on. When we were entering the campground, something happened to the guy in front of us. He's now in a hole in the middle of the road, like up to his shoulders, and he's bitching at a rabbit, who's come up to look at him. He has to duck down for cars to go over the road, rabbit runs off, we go to a place where the road circles around at its end and people have parked. Bit of a hill it's on. Concrete or stone toilet-building like they have in parks. I swing the van around this tight little circle looking for an empty space and there really isn't one, but the swinging around is something of a challenge and apparently it made an impression because some people clapped. I did stop the van in a place that I figured I couldn't leave it but I just wanted to ask somebody the price of cattle. Somebody told me $31 a head and I wanted to explain that I meant a sort of middle-range rather than the best, or real cheap.",
         "1IOA, 1FDA, 1ISA, 1ISA, 1ISA, 1ANI, 2ISA, 1ISA, 1ANI, 1ISA",
         "AP 1ISA, SD 2ISA, AP 1IKA",
         "1ANI > we, Q > 2ISA, D > D",
         null,
         null,
         "0.0",
         "0.2",
         "0.0",
         "0.125",
         "0.0",
         "1.0",
         "0.3",
         "0.0",
         "0.0",
         "1.0",
         "Latch,Backseat,Vehicle,Can Opener,Enclosure"
        ],
        [
         "12",
         "13",
         "alta",
         "Alta: a detailed dreamer",
         "1985?",
         "en",
         "I arrive at a little frame house on a nice little residential street, in a car in the company of a couple of older women. It's been raining and might rain again. It's dark but not necessarily night. We go into the house, which belongs to another nice little old lady. We have an errand there and ought to get back somewhere pretty soon. Seems to me we're all a trifle edgy about something, but not all of us know what about. Like the lady of the house here - she knows something's not right, but isn't asking for explanation.",
         "2ISA, 2FDA, 1FSA",
         "AP 2ISA",
         null,
         null,
         null,
         "0.0",
         "0.0",
         "0.0",
         "0.333333333",
         "0.0",
         "0.0",
         "0.0",
         "0.0",
         "0.0",
         "1.0",
         "Manners,Paranormal,Maid,Haunted House,Balcony"
        ],
        [
         "13",
         "14",
         "alta",
         "Alta: a detailed dreamer",
         "1985?",
         "en",
         "I'm in my own apartment by myself and have to go outside for something - it's in an apartment complex more typical of the old place on N Street - regular white box. It's dark and gray and rainy outside, and I'm not anxious to get wet, but I have to do this - maybe while it's not raining hard but only dripping I can get out and back again. There isn't anybody around and I'm kind of apprehensive about it - the place is not exactly cheerful and gay on a good day, but now it's almost sinister. I'm blocked by the gutter runoffs to get into my apartment, and I don't much fancy trying to go round the long way. I wait for it to slack off so I can duck it, but I get pretty wet anyway. The door of my apartment is standing open (I didn't go far), and somehow I've got an idea there's somebody in here. I haven't seen a soul around and I wasn't out of sight of the door for very long but I've got this feeling anyway. I pause at the door and stick my head inside, looking around. (There really isn't any furniture in here to speak of - it looks a lot like I've just moved in, or maybe I'm getting ready to move out but I don't think so.) I think I call out - suppose it would be \"Is anybody here?\" And there's silence for a bit, then my cousin comes out of the hallway. (He looks healthier than usual - an enhanced my cousin, clearer, rounder, more cheerful and easy.) He's come to visit and I was expecting him but didn't know when - he's glad to see me and I'm relieved but still a bit paranoid.",
         "2ISA, 1ISA, 1ISA, 1IRA",
         "AP D, AP D, HA 1IRA, HA 1MSA",
         "D > D",
         null,
         null,
         "0.0",
         "0.0",
         "0.0",
         "0.25",
         "0.0",
         "1.0",
         "0.25",
         "0.0",
         "0.0",
         "0.5",
         "Rain,Paranoia,Landlord,Paranormal,Haunted House"
        ],
        [
         "14",
         "15",
         "alta",
         "Alta: a detailed dreamer",
         "1/11/1986",
         "en",
         "I'm in a car with some people coming from a downtown area to a place past lots of trees and some development. We pass a (power?) pole that has things coming off it that look like weird limbs and I'm surprised, and explain it to the others, who think that's a little strange but amusing. We're some sort of family group but I don't know who they are now.",
         "2ISA, 2ISA",
         "CO D",
         null,
         null,
         null,
         "0.0",
         "0.0",
         "0.0",
         "0.0",
         "0.0",
         "0.0",
         "0.0",
         "0.0",
         "0.0",
         "1.0",
         "Telephone Pole,Paranormal,Vandalism,UFO,Umbrella"
        ],
        [
         "15",
         "16",
         "alta",
         "Alta: a detailed dreamer",
         "1/11/1986",
         "en",
         "I'm in a little store with another woman and maybe a kid - looks like an antique store but has other things, including odd-looking Christmas ornaments. I'm admiring some of them - also the others find some bubble-pack things, toys that are from a film whose name they can't place, but I'm familiar with it - takes me a minute to get it right and then there's another related set nearby that's from another movie I recall right away - they're both like children's science-fiction, and English, which is why I know them and the others don't. There is some element of this all being a bit strange.",
         "kid, 1ISA, 2ICC",
         null,
         "D > 2ISA",
         null,
         "2ISA 4> 2ISA",
         "0.0",
         "0.0",
         "0.0",
         "0.333333333",
         "0.0",
         "1.0",
         "0.333333333",
         "0.0",
         "0.333333333",
         "0.0",
         "Halloween,Baby Clothes,Barbie Doll,Department Store,Jewelry Box"
        ],
        [
         "16",
         "17",
         "alta",
         "Alta: a detailed dreamer",
         "1/12/1986",
         "en",
         "I am with a lot of LT people, at something like a talk - a church service - don't know. Ben is there and he kisses me the way he usually does and asks me to go out with him - not just for one date, for fun, but sort of like a trial going steady. I say it may be okay, but I want to think about it and talk to Sue S.. I don't actually do that, but I do see Sue sometime else in the dream, she's sitting in the \"audience\" sort of place and there's a very loose sort of atmosphere where we are, as though it were an ongoing class and you can divert your attention from it to talk to people - very much as the Training is, but not physically set up that way and we're not actually doing anything but looking on.",
         "1IOA, 2ISA",
         null,
         null,
         "1MSA 4> D",
         "1MSA 4> D",
         "0.0",
         "0.0",
         "0.0",
         "0.0",
         "0.0",
         "0.0",
         "0.0",
         "0.5",
         "0.5",
         "0.0",
         "Partner Swapping,Handshake,Vow,Backstage,In-Law"
        ],
        [
         "17",
         "18",
         "alta",
         "Alta: a detailed dreamer",
         "1/14/1986",
         "en",
         "Another old house - Melanie coming over - lip-synching in front of mirror to something big and bluesy - somebody came in right after, says she does the same thing - big open place like a studio - in a living room with Barbara and somebody else, visiting - talked about something like my trip somewhere, was it Renaissance Faire or SCA? Or plan for going there? Pipes on couch - had to move them to sit the way I want - plain poles like the chairset poles.",
         "1FSA, somebody",
         null,
         null,
         null,
         null,
         "0.0",
         "0.0",
         "0.0",
         "0.0",
         "0.0",
         "0.0",
         "0.0",
         "0.0",
         "0.0",
         "0.0",
         "Mansion,Vanity,Tea House,Kitchen,Cabaret"
        ],
        [
         "18",
         "19",
         "alta",
         "Alta: a detailed dreamer",
         "1/14/1986",
         "en",
         "Or deliver me to house? We sit in car, M. looks up at very strange dragonfly - looks like a weird plane till I see it's quite close and lands on a tree. Baby one with it. Bunch of other animals come out in front yard - somebody else comes out with - one cat comes up to car the way a dog would, stands up to window and acts like it'll jump in - I rub its head and say hello - it's an old friend (my cat?) - big gray, round sturdy head. I ask my cousin about paying him this weekend. \"What I figure is $60 every other week, ok?\" - afraid he's going to say otherwise. Doesn't answer before dream ends.",
         "1ANI, 2ISA, 1ISB, 1ISA, 1ANI, 1IKA, 1ANI, 1IRA",
         null,
         null,
         null,
         null,
         "0.0",
         "0.375",
         "0.2",
         "0.2",
         "0.0",
         "0.0",
         "0.0",
         "0.0",
         "0.0",
         "0.0",
         "Taxes,Taxidermy,Yard Sale,Haunted House,Paranormal"
        ],
        [
         "19",
         "20",
         "alta",
         "Alta: a detailed dreamer",
         "1/14/1986",
         "en",
         "Eating in a back hallway - Jimmy comes along and orders big meal - when it comes on huge tray, waiter knocks off something of mine and one of J's plates slides off. As I pick mine up it sticks in cheese and nearly pulls J's steak onto floor - it barely goes on again. Get everything right and J's asking if he can get new steak - several little tables involved with drop leaves and no shelves.",
         "1IOA",
         null,
         null,
         null,
         null,
         "0.0",
         "0.0",
         "0.0",
         "0.0",
         "0.0",
         "0.0",
         "0.0",
         "0.0",
         "0.0",
         "0.0",
         "Eating,Cafeteria,Hamburger,Kitchen,Pantry"
        ],
        [
         "20",
         "21",
         "alta",
         "Alta: a detailed dreamer",
         "1/18/1986",
         "en",
         "I'm on a footbridge with some friends and there's a baby bear that I want a closer look at because he really doesn't look like a bear. I fall off the bridge but I hold onto a rope and a fence that's a short distance from the bridge for some reason. I can swing back to the bridge but need help to get back up and I yell for my friends and they don't stop right away.",
         "2IKA, 1ISB",
         null,
         "D > 2IKA, 2ISA > Q, 2ISA > Q",
         "D 4> D",
         null,
         "0.0",
         "0.0",
         "0.5",
         "0.0",
         "0.0",
         "0.5",
         "1.5",
         "0.5",
         "0.0",
         "0.0",
         "Railroad Crossing,Fence,Teddy Bear,Electric Fence,Baby Carriage"
        ],
        [
         "21",
         "22",
         "alta",
         "Alta: a detailed dreamer",
         "1/19/1986",
         "en",
         "At work (?) was on the elevator with an older woman who wasn't sure what floor she wanted so she pushed extra buttons - I'd already gone up when I meant to go down to 2, and wasn't thrilled at having to stop so much. So I got off (she was surprised I took exception) and found myself outside, sort of, and now I have to get in a car that goes somewhere down some streets like in Oak town - the car was like an old '50s sort of thing with fins and they were coming off and needed to be stuck back down, took a while - arrived at a place that was an \"elevator stop\", nice old tree-lined street, the door didn't face the street - it was ivy-covered stone, very nice. Inside it was cave-like and open, but there was the elevator door. There was somebody there as well as 2 cats, and I made some comment about them having kittens (like it would be a good idea) and the guy said they were both males or something and I felt the same sort of cuteness about the exchange you usually do talking about kitties. I think I got on the elevator, and when I got to the next place I was talking to Margaret Laurence, who was enthusiastic about my intentions to do something or other, and the conversation was interrupted by Pam , who came to say the same sort of thing - they talked together for a minute before I stopped them, then they took turns.",
         "1FDA, 2ANI, 1ISA, 2ISA, 1FSA",
         "CO 1FSA, HA 1IKA",
         "1FSA > 1FSA, 1FSA > D, D > Q, 2ISA > Q, 2ISA > Q, D > 2ISA, D > 2ISA",
         null,
         null,
         "0.0",
         "0.2",
         "0.0",
         "0.25",
         "0.0",
         "1.0",
         "1.4",
         "0.0",
         "0.0",
         "0.5",
         "Elevator,Kitten,Carpet,Vandalism,Red Carpet"
        ],
        [
         "22",
         "23",
         "alta",
         "Alta: a detailed dreamer",
         "1/20/1986",
         "en",
         "Visiting some rich people - there's a fire in their oil field, very near the house - people trying not to panic - hadn't caused any building damage yet and we're trying to salvage things from the house, china in cabinets and so forth. I'm aware of a difference between us, that my visit is okay and they're glad I'm helping, but after the emergency I'm not necessarily going to be a permanent fixture.",
         "2ISA",
         "HA 2ISA",
         null,
         "D 4> D",
         null,
         "0.0",
         "0.0",
         "0.0",
         "0.0",
         "0.0",
         "0.0",
         "0.0",
         "1.0",
         "0.0",
         "0.0",
         "Emergency Alert,Volunteer,Near Death Experience,Backyard,Maintenance"
        ],
        [
         "23",
         "24",
         "alta",
         "Alta: a detailed dreamer",
         "1/21/1986",
         "en",
         "Bonnie came to see if I needed anything and just poked around before going to work - later I went to Bluebonnet and was looking at things like a perfume (\"White Oak\"?) that I couldn't smell and other such things when I realized I just came straight on without a shower or anything and I must look awful. I went round to the back and got out my little mirror - decided I'd manage. While I was deciding, I'd got on a bus in the parking lot, and was halfway down the drive before I realized I'd better get off, my car was here at the store. Somewhere I run into Dad and My stepmother, who I carried on a casual conversation with and we went on to walk home together. (I wasn't living with them, but it was on the way.) There wasn't much conversation, and My stepmother walked on ahead. I fell into a daydream about a quiz show kind of like the one I'd seen yesterday, \"Chance of a Lifetime\" - only it was more like something I'd seen in England and it was the sort where you had to decide if you were coming back the next day to win more. I daydreamed it was me playing and planning to go for it all when I came awake and saw that My stepmother was nowhere in sight. Dad wasn't concerned, he said she'd probably gone by to see about \"the boys\" - who I took to mean my brother and male cousin, living together as roommates. We cut through somebody's yard and across the corner of a yard and a porch. I knew we were in Oak town and recognized the kind of little semi-shabby house, but kind of envied it and the little apartment house we passed - one window had something hanging in it that I noticed. Wherever the place was, they weren't home, and we went on (I was aware of it being a very long walk) past where Grandmom used to live [which is not in Oak town]. We stopped - for a rest? - next to the house, just where you couldn't see it, facing the railroad track. Dad leaned against (a car?) and talked a little, as if to himself, about how he wished things were different - with him and My stepmother, with the family - and he looked sad and dejected. I started to tell him he could have it different, maybe for both of them, maybe just for him, and almost got to tell him about LT when I woke up - I'd said I was going to a psychotherapist and that was good, but what really made the difference was...",
         "stepmother, 2MAA, 1MBA, roommates, 1ISA, 1IOA, 1ISA",
         "SD 1MSA",
         "D > D, D > 1IFA, D > D, D > 1IKA, D > 1IKA, D > 1IKA",
         "D 4> it",
         null,
         "1.0",
         "0.0",
         "0.0",
         "0.285714286",
         "0.0",
         "0.857142857",
         "0.857142857",
         "0.142857143",
         "0.0",
         "1.0",
         "Past Life,Near Death Experience,Haunted House,Paranormal,Haunted"
        ],
        [
         "24",
         "25",
         "alta",
         "Alta: a detailed dreamer",
         "1/22/1986",
         "en",
         "I'm going down a walkway between little, close-set houses looking for something and pretending I'm in a detective story, sneaking around and prepared for anything - I jump at a sound and dive into a convenient garage, flipping over and springing into position behind something for cover. Ironically, the door starts to close - slides sideways. The person doing it peeks in for a second. I recognize him (somebody from TV). I jump up to let him know I'm there and make excuse that I just stepped in to wipe dust off me or something. He lets me out and I sheepishly go on. At the end of the street there's sort of a shopping center with a Sanger's and I remember the bra sale. I run into Bill Wilding, who's waiting for me and asks me to take something with me to hand over to somebody I'm going to see. It's a bunch of what looks like hairpins, only not black. We drop some when he's handing them to me and I stoop to help pick them up. I'm a bit annoyed that he expects me to do this. We are next to another person but I don't know who. I continue to a house or apartment where there are some people waiting for me, we're preparing for something and there's a task to be performed right now. My mother is there, I think, or somebody I feel that way about - maybe 3 couples and an extra man, who's friendly and pats me on the butt, which I hate and almost yell at him but not quite and I say to myself next time I will. I think the others know and they think he's a creep too. When I realize what we've got to do I'm very disappointed because I was expecting to get dinner - I haven't had much to eat all day - my mind flashes back to one of my male cousins skimpy breakfasts*, and I haven't had anything to speak of since. I am really let down and whiny. [Dream ends there, I think - but I also think it didn't begin there, there was more before.]",
         "1ISA, 1ISA, 1ISA, 2ISA, 1FMA, 1MKA",
         "CO 1IKA, AN D, HA 1MKA, SD D",
         "D > Q, D > D, D > 1MSA, D > 1MSA, 1MSA > 1MSA, D 1> Q",
         "D 4> 2ISA, D 4> 2ISA",
         "D 4> D",
         "0.5",
         "0.0",
         "0.166666667",
         "0.166666667",
         "0.0",
         "0.714285714",
         "1.0",
         "0.333333333",
         "0.166666667",
         "0.75",
         "Kidnap,Yard Sale,Abduction,Watching,Paranormal"
        ],
        [
         "25",
         "26",
         "alta",
         "Alta: a detailed dreamer",
         "1/23/1986",
         "en",
         "I'm trying to find the original plans or instructions to something and having no luck. There's a large \"file\"-thing with shelves that rotate individually along the lines of the one at work but on a horizontal axis instead of vertical. I'm turning each shelf carefully because they all have different things on them but mostly (Mexican?) painted figures on them, even group displays, very nice things too. But no file. Somebody speaks to me, I think (she?) is saying it won't be there, (she's?) going to look elsewhere. I go a few yards away to something or other that's got some things in it I can look through - it makes me think of a bin. I sort of halfheartedly poke at them, then I get a half-formed picture of what I'm looking for, and a new approach - I may have missed it and will go back to look (in the file?). This is all outside, in a kind of courtyard, and there are people around.",
         "1ISA, 1ISA, 2ISA",
         null,
         "D > D, D > 2ISA",
         null,
         null,
         "0.0",
         "0.0",
         "0.0",
         "0.0",
         "0.0",
         "1.0",
         "0.666666667",
         "0.0",
         "0.0",
         "0.0",
         "Scaffolding,Canvas,Open Floor Plan,Balcony,Tapestry"
        ],
        [
         "26",
         "27",
         "alta",
         "Alta: a detailed dreamer",
         "1/26/1986",
         "en",
         "I was walking home with some little glass figures - some maybe little-fingernail size, others no more than twice that - I had some other things to carry and they were sort of loose on top of what I was carrying up against me, but I wasn't expecting that to stay secure, so as I walked I was transferring the bigger ones to my pocket, the smaller ones (where? coin purse?). Also apprehensive that they'd get broken from being jostled. When I get home I come into a perhaps duplex - it sort of tends to be the left side, or at least the front door is on the far left - anyway, it's a small living room furnished sort of college-student. I take the figures out and look for a place to put them, but just decide to put them with the others, on a very high shelf above the door - some are Christmas things, and I'm figuring you won't be seeing them all the time anyway, that's as good a way to store them as any. One of them, as I take it out and put it on the floor, is broken after all, but I'm not upset, I can glue it - I don't recognize what it's meant to be, it's a sort of wreath base with little wineglass-shapes that stand up on it. It's one of the wineglasses that's broken, but except for a sliver it'll go back together. I'm looking for the sliver (I think I've taken my skirt off by now - got a slip on) when my roommate comes in - she's young, blonde, short hair, pretty, sort of a popular-girl type - we're pretty good friends but not constant companions. We talk, but it's mostly chat and she's starting to take things off, too, when somebody else comes, at least 2, one male, who's maybe her brother or our brotherly other roommate. It's a little disconcerting to be sitting around not entirely clothed but at least we're decent, and they don't stay in that room.",
         "1IKA, 2IKA, 2IHA, 1ISA, 1MBA",
         "AN D, AP 1ISA",
         "D > D, It PRP >, D 1> Q",
         null,
         null,
         "1.0",
         "0.0",
         "0.4",
         "0.4",
         "0.0",
         "1.0",
         "0.6",
         "0.0",
         "0.0",
         "1.0",
         "Cardboard,Packing,Jewelry Box,Tablecloth,Enclosure"
        ],
        [
         "27",
         "28",
         "alta",
         "Alta: a detailed dreamer",
         "1/26/1986",
         "en",
         "Lynn and Jane and I are at a LT function and they have something going on that they're upset about. Won't tell me what it is yet, but we're on our way back from the Training Room to (?) the Team Room, they're both gripy and stuck-acting. Testy. We're in a place that's bound to be a shopping mall, open space with bright lights, walkways, stairs or escalators. We get where we're going and there's other people there, one of whom is an officious little guy who is pissed off because (either Lynn or I) someone is wearing a pin or i.d. button that doesn't belong, it's much fancier than the others - I noticed it before but didn't see anything wrong with it - he takes it away and I'm wondering how it's going to get replaced with the right one. Some of the next little bit - don't know what it is, or who's talking - takes place by a small group of other people who are already in the \"Team Room\", and I don't know them but one turns out to be that guy from \"After Hours\" - Griffin Dunne, and I don't want to continue in front of him, so I move toward the \"door\" a bit so I'll be out of his line of vision.",
         "1IOA, 1FSA, 2ISA, 1ISA, 1ISA, 1MSA",
         "AN 2ISA",
         "1MSA > D, 2ISA 1> Q",
         null,
         "D 4> Jane",
         "0.5",
         "0.0",
         "0.0",
         "0.0",
         "0.0",
         "1.0",
         "0.333333333",
         "0.0",
         "0.166666667",
         "1.0",
         "Safety Pin,Telephone Booth,Handcuffs,Talk Show,Manners"
        ],
        [
         "28",
         "29",
         "alta",
         "Alta: a detailed dreamer",
         "1/26/1986",
         "en",
         "I have come from somewhere else to a house where some others taking a mastery class live, we're getting ready to go together. There's at least a brother and sister, maybe more. I move, with somebody else, to a sun/sitting room where the sister is - these people are recent grads and are expressing their apprehension of \"having\" to process all the time in the future so hard, it won't be any fun. I make a little speechie about how after you get used to it and good at it you don't work so hard and - although Roy doesn't think in these terms - gee whiz, you can go whole days without processing anything. And that eventually your mind gets trained not to react in the old way, so it's not as though it's a constant uphill struggle.",
         "sister, 1ISA, 2ISA, 2ISA, 1MSA, 1ISA",
         null,
         null,
         null,
         null,
         "1.0",
         "0.0",
         "0.0",
         "0.0",
         "0.0",
         "0.0",
         "0.0",
         "0.0",
         "0.0",
         "0.0",
         "Learn,Volunteer,Talking,Gathering,Dementia"
        ],
        [
         "29",
         "30",
         "alta",
         "Alta: a detailed dreamer",
         "1/27/1986",
         "en",
         "Lifegame Roomset - small, high room - sort of an old school classroom, I think - pulling paper off a large board, taped to the sides - trying to do it neatly. The usual speech about setting it so they can get it. Soft carpet. Do we have something to put on the floor (like newspaper)? Outside room - a place where a lot of us are milling around, tables and benches, eating lunch. Is part of it outside or not? There's a kind of little terrace or platform - 3 or 4 steps up, then toilets to the left, maybe 4 or 5, and very busy. I need to go to the bathroom, and finally try to get up to one. Get beat out by a short-haired blonde girl. I guess I do get in shortly, and while I'm around here somebody is peeing and Sheryl J. is trying to read something out to a small group in front and has to ask for us to hold it a minute.",
         "1FSA, 1ISA, 1FSA",
         null,
         "D > Q, D > Q, Q > 1FKA",
         null,
         null,
         "0.0",
         "0.0",
         "0.0",
         "0.0",
         "0.0",
         "1.0",
         "1.0",
         "0.0",
         "0.0",
         "0.0",
         "Carpet,Dance Floor,Open Floor Plan,Magic Carpet,Urinal"
        ],
        [
         "30",
         "31",
         "alta",
         "Alta: a detailed dreamer",
         "1/31/1986",
         "en",
         "They've been giving me parties at work because I'm going to work at PF temporarily - reason they need me is a new branch is being built and they're expanding - it looks like being permanent though, and I'm thinking I may as well not go back downtown at all - they may not want to give me more parties - PF has another problem - the construction people have struck oil - it's gushed once already and it's right next to where the building will be, so something major has to be revised before they can build. I'm talking to Belle and we go look at the oil eruption - looks like it broke up through the ground like a pimple or little volcano - I don't wanna get too close in case it spits up again, don't want it to land on me.",
         "2ISA, 2ISA, 1FSA, 2ISA",
         null,
         "2IKA > 2ISA, D > 2IKA, D > 2IKA",
         null,
         null,
         "0.0",
         "0.0",
         "0.0",
         "0.0",
         "0.0",
         "1.0",
         "0.75",
         "0.0",
         "0.0",
         "0.0",
         "Oil Platform,Eiffel Tower,Party,Oil Lamp,Redecorating"
        ],
        [
         "31",
         "32",
         "alta",
         "Alta: a detailed dreamer",
         "2/5/1986",
         "en",
         "Cats - moving from one place to another - two of them, somewhat awkward - not clear - at one point I go back to my family house and see my cat there? I'm feeling relieved that he/she is still there. While there I'm trying to use a device on the end of a hose, dirty, like car-repair tools are - you're supposed to press a little nub and (compressed air?) comes out. It's not working, and I go to a garage (or ?) and while the person I'm with talks to the mechanic I try out the one at the garage and it works so well I nearly fall over. Then I try mine again and it definitely doesn't work right. Sometime I go to a friend's house - I'm carrying something - she takes me to meet her parents - her father says he knows who I am and doesn't want me in his house - I think he says he doesn't want me around his daughter but he can't actually forbid her and I think she says so. He's not hot about it but very firm. My friend walks me outside and I've got an impression now of Kathie H. and/or Bobbie. Sort of hanging on me, and I'd rather get on my way.",
         "2ISA, 1ANI, 1ISA, 1ISA, 1IKA, 2IKA, 1MFA, 1FDA, 1FSA, 1MSA",
         null,
         "you PRP >, you PRP >, Q > D",
         null,
         null,
         "0.5",
         "0.1",
         "0.222222222",
         "0.222222222",
         "0.0",
         "1.0",
         "0.3",
         "0.0",
         "0.0",
         "0.0",
         "Kitten,Abandonment,Nanny,Adopt,Haunted House"
        ],
        [
         "32",
         "33",
         "alta",
         "Alta: a detailed dreamer",
         "2/6/1986",
         "en",
         "John Leveranz is around and is he trying on my clothes or what? I think so - I'm talking to him - don't know where we are but we're inside a building more like an office or school than anything else and something's between us and some other people - he's also looking at a bill that he's supposed to pay, it has my name on it and he remarks \"you're still married, aren't you?\", which is startling, until I realize that, yes, I am, I just don't like to think about it - I'm going back to the other people and he finishes (picking out clothes?) and when he's all dressed I'm secretly pleased that he should think I dress well because I have the silk shirt, etc. I'm wearing purple, something pretty hip but can't describe now. Later, LT people are cleaning up a house, being impeccable, natch - I'm doing something in the kitchen that involves a little figure of a mouse or rabbit like a Beatrix Potter. It's edible, in horizontal slices, and I want to leave it for Sue S. but as I eat the least crucial parts it gets shorter of course until I think it's no longer ok. There's a bit of yard up front of this place which doesn't seem to have a front wall and it's not grass, but rather loose dirt. I pick up a handful and look at it - it has bits in it, pieces of pecan, maybe other identifiable not-dirt. Wonder how it got there. I go back and sit at a table with somebody and Ann Morrison arrives. She's colored her hair dark and changed her makeup completely, new hairstyle, too - and looks great but nothing like usual. I'm impressed. She says something about it but I don't remember what - I'm thinking marriage has certainly been good for her.",
         "2ISA, 1ANI, 1ANI, 1FSA, 1ISA, 1IOA, 1MSA, Ann",
         "HA D",
         "Q > D",
         "you PRP 4>, D 4> Q",
         null,
         "0.5",
         "0.25",
         "0.0",
         "0.0",
         "0.0",
         "0.5",
         "0.125",
         "0.25",
         "0.0",
         "0.0",
         "Laundry,Wardrobe,Eating,Laxative,Vanity"
        ],
        [
         "33",
         "34",
         "alta",
         "Alta: a detailed dreamer",
         "2/8/1986",
         "en",
         "I blow up my house - there's nitro in a suitcase I have to be careful with and I do something wrong - I know it and have just enough time to get out. I manage to scream for Lick and don't see him but I think I see him shortly after - then I feel a little relieved, though not happy, that I got out alive and at least I didn't lose anybody, till I remember MB and Tree - then I'm (stunned? horrified?)",
         "2ISA",
         "HA D",
         "D > 1MSA, D > Q",
         null,
         null,
         "0.0",
         "0.0",
         "0.0",
         "0.0",
         "0.0",
         "1.0",
         "2.0",
         "0.0",
         "0.0",
         "0.0",
         "Near Death Experience,Fainting,Unconscious,Scream,Ghost"
        ],
        [
         "34",
         "35",
         "alta",
         "Alta: a detailed dreamer",
         "2/8/1986",
         "en",
         "I've done something someone doesn't like but I've already gotten permission for it and when she leaves (we met on the steps of a building like a courthouse) I run into my (real supervisor?) and show her how I've verified this and she's satisfied - she approves of me and I'm confident and satisfied.",
         "1ISA, 1IOA",
         "HA 1FSA",
         "D > 1IOA",
         null,
         null,
         "0.0",
         "0.0",
         "0.0",
         "0.0",
         "0.0",
         "1.0",
         "0.5",
         "0.0",
         "0.0",
         "0.0",
         "Refusal,Accomplice,Acceptance,Unauthorized,Abandonment"
        ],
        [
         "35",
         "36",
         "alta",
         "Alta: a detailed dreamer",
         "2/11/1986",
         "en",
         "I'm in a place in a downtown area, but not our downtown. (I have a feeling of it, how the town is smallish but not so small as to be rural.) The place doesn't seem like anything specific, not an office, but definitely not a residence of any kind - call it a waiting room. I have a sense of it being open to the street, but I don't see a lot of bright sunlight, or activity. Maybe it's just that the door's open, or there's windows. It's not big, or entirely empty, and I think the walls are red brick. There seems like benches are built along the walls. I'm sitting on one. I think there's something in the middle of the room. Don't know what. The street outside is a 2nd-string main street, busy but not the main drag. The buildings are close to the sidewalk and very ordinary brick faces. I arrived here by bus, standard city bus, and I'm not sure what my business is here. There are maybe 3 people in the place with me. At least one of them is a disc jockey, and one of them isn't. The one that isn't is kind of like Mike Rhyner, in that he's a buddy of these other guys and works with them but something he does is support for them (like research?) and he doesn't perform on the air, except maybe in his other capacity and not for entertainment. He and I are talking. Whatever we're talking about, we're getting along well and interested in what we're saying. The disc jockey isn't as involved but isn't hostile or unwilling for us to be talking. I get the impression, however, that I'm not \"in\" with him. I've left and gone (home?) and I'm not sure what the place is. (The previous place reminds me of a garage, and I'm not positive this place isn't similar.) Someone else is here, don't know who, and he definitely doesn't want me talking to the guy I was with. He doesn't approve of me interfering with him getting his job done. I know I wasn't. Don't think I say anything.",
         "2ISA, 1IKA, 2ISA, 1ISA",
         null,
         null,
         "1MSA 4> 2ISA",
         "D 4> PRP",
         "0.0",
         "0.0",
         "0.25",
         "0.0",
         "0.0",
         "0.0",
         "0.0",
         "0.25",
         "0.25",
         "0.0",
         "Parking Lot,Neighborhood,Balcony,Cafe,Wall"
        ],
        [
         "36",
         "37",
         "alta",
         "Alta: a detailed dreamer",
         "2/13/1986",
         "en",
         "I'm in a small house with my family - at least my brother and Mom, don't remember Dad -my brother's mad - it has something to do with jealousy - he says I did or got something I wasn't supposed to. He's not correct but I don't want him attacking me so I don't say anything but I start to pack up and leave - I don't have much, I think this is like a rented vacation house and I came here last. Mom says no, I don't have to leave and I stop, but Marcy gets madder and he leaves. He's so mad we look out the window after him to be sure he isn't going to sneak back and jump us, through the roof or the back door. Next I think a blond young man comes to the house but if so I don't know what he does.",
         "2ISA, 1IFA, Mom, 1FSA, 1MKA",
         "AN 1MSA",
         "D > 1FKA, 1MSA 1> Q",
         null,
         null,
         "0.5",
         "0.0",
         "0.2",
         "0.2",
         "0.0",
         "1.0",
         "0.4",
         "0.0",
         "0.0",
         "1.0",
         "Haunted House,Uncle,Father,Accuse,Landlord"
        ],
        [
         "37",
         "38",
         "alta",
         "Alta: a detailed dreamer",
         "2/13/86?",
         "en",
         "Mom and I are in a restaurant - it's got sort of a garden decor, all greens and yellows and white. The table is loaded with dishes and I've finished eating, so the idea is to get the tray of dishes off the table (my side anyway). To do this I balance it on my forehead and try to lower to the floor. Doesn't work. I can only get so far before I know if I move anymore it'll slide off, break the dishes and probably slice my forehead. Mom calls for the waiters and maybe maitre d' to get it off me. Afterward we get dessert - I wasn't going to have any but she ordered it as a treat. What I could see (it was on top of a pile of something) was white - I tried that and it turned out to be whipped cream on top of something to do with strawberries. While there, I'm looking at a long color brochure of things from the Container Store or - no, Crate and Barrel. Lots of red and blue stuff - brochure folds out, and this restaurant may be inside the store. One or both of these places may be located in Inwood Village - more or less at the Penney's location.",
         "1FMA, 2ISA",
         "CO 1ISA",
         "D > Q, D > Q",
         null,
         null,
         "0.0",
         "0.0",
         "0.0",
         "0.5",
         "0.0",
         "1.0",
         "1.0",
         "0.0",
         "0.0",
         "1.0",
         "Tablecloth,Pantry,Kitchen,Cafeteria,Utensils"
        ],
        [
         "38",
         "40",
         "alta",
         "Alta: a detailed dreamer",
         "2/14/1986",
         "en",
         "I'm with a group of women at a place we're staying maybe like a retreat for vacation. Somebody has stolen something, I think, and very slim evidence points to Jean Yocum (or somebody, at least an older woman), and I think somebody else. There's a scene in which the group accuses her/them and says she/they have to go. I'm rather put out at this because there's been no attempt made to prove their guilt, not even to give them a chance to say if they did it. At some point I've gone someplace or been distracted but I have plenty of opportunity to speak up about it. I keep \"rehearsing\" what I'll say the way I do in real life, and never get to that point before the dream ends. After the accusation scene breaks up, I go into the bathroom to gather my stuff, and either something spills or there's a puddle on the floor for some reason, and I gather things up. I'm sort of packing things up to go myself.",
         "2FDA, 1ISA, woman, 2ISA",
         "AP 2ISA, SD D",
         "1IKA > D, Q > D",
         null,
         null,
         "0.0",
         "0.0",
         "0.0",
         "0.25",
         "0.0",
         "1.0",
         "0.5",
         "0.0",
         "0.0",
         "1.0",
         "Accuse,Sabotage,Identity Theft,Deception,Rape"
        ],
        [
         "39",
         "41",
         "alta",
         "Alta: a detailed dreamer",
         "2/14/1986",
         "en",
         "Takes place on an artificial planet - it's smaller than the world but of course you can't see that. It has a roof, but it's so high that the place can have weather and so forth. I'm with Erv, who wants me to see something - we're \"outside\" now and going to where he lives - there is a sense of something coming to an end - not the \"planet\", or me, but I think now it must be him (caused by him being about to retire?). As we're going along I'm looking up at the sky, which has a funny color, but there are trees, that move with the wind, and birds. As I look there's a great group of birds flying across the sky, as a flock of birds will mass in flight, but it's all different sorts of birds! You can see from their sizes and silhouettes that there's every kind of bird in that group. It's amazing, that here on this place they will all do things together - just because it's different. Erv and I look for a bit and marvel, then he says let's go and as we go it starts to rain. I've been here a while and I'm conscious of how amazing it is that it can rain inside this artificial world. I start laughing/crying in delight. We get where we're going, which is a kind of apartment that Erv shares with a bunch of other people. He motions me into his room and goes to get whatever it is he wants me to see and I never find out what it is. There are other people in the apartment, and they're together talking, and this is typical for here.",
         "1ANI, 2ISA",
         "CO 1ISA, CO D, HA D",
         null,
         null,
         null,
         "0.0",
         "0.5",
         "0.0",
         "0.0",
         "0.0",
         "0.0",
         "0.0",
         "0.0",
         "0.0",
         "0.666666667",
         "Nature,Earth,Canopy,Rainforest,UFO"
        ],
        [
         "40",
         "42",
         "alta",
         "Alta: a detailed dreamer",
         "2/14/1986",
         "en",
         "I'm with my mother and somebody else, talking about the Training and how it costs so much money and how it could be raised - my mom says something that fits in and says \"yes, I want to take it too, but...\" (\"I don't know how I can get the money\", whatever). I'm surprised.",
         "1FMA, somebody",
         "CO D",
         null,
         null,
         null,
         "0.0",
         "0.0",
         "0.0",
         "0.5",
         "0.0",
         "0.0",
         "0.0",
         "0.0",
         "0.0",
         "1.0",
         "Martial Arts,Facelift,Karate,Backpacking,Learn"
        ],
        [
         "41",
         "43",
         "alta",
         "Alta: a detailed dreamer",
         "2/15/1986",
         "en",
         "I'm with a group of LT people, at least mainly women - not sure if it's a hotel or not but we have baggage and one of us I don't recognize is looking for sheets (or something) to buy if anybody has some. She leaves to ask somebody outside the room where I am. Someone else opens a suitcase to check what she's got and leafs through it. As she does I see a yellow blanket that looks like it may be wool and since there's an indication that she may be up for selling this stuff, I check. It is wool, and I ask if she wants to sell this. It turns out to be Sharon Clements. She says maybe, and I ask how much. I also check the label again to be sure it's a double. (I've also been thinking it's a shame it's yellow, I'm not that fond of it, but it'll go with my bedroom well enough.) When I ask, she clouds up a little and doesn't answer. After a bit, she says it's not me, it was just when I asked her and she really thought about selling it, a wave of (sorrow? - it's not my feeling) came over her, and she'd like to go clear. There's somebody here acting as Team Support (though a Training isn't going on right now) and we go across the room where she is. [The place seems more like it's old or unfinished - at first it could've been backstage, now this room reminds me of the lake house we stayed in] This girl is sitting on the bed, with her back to us - she's blond, and Sharon says her name but I don't remember and she doesn't look familiar. She's friendly and is going to work with us, when the scene changes to a bus. We've just got on and are choosing seats. Sharon sits right behind the driver and I sit a bit down so the other girl can sit in between but before she does we see a couple, married, we know them a bit or somehow know of them, and we speak to them first - they're also here to be on the team. We all sit except the man, who starts pontificating by way of taking over this clearing. He is making sense but it isn't his business, and the other girl breaks into his speech, joining in with the words, which disturbs him, and she eventually subdues him, I think - she also turns to me and says adamantly not to interfere (I can't remember the words) and I say I would never dream of it - or it hadn't entered my mind. The wife reappears and says some hostile things about her husband - says he has officially (but that wasn't the word) forbidden her from using \"Mrs\" before her name, even though they are legally married - \"he seems to forget that we...\" is what she says. This is after she says her name by way of introduction.",
         "1IOA, 2ISA, women, 1ISA, 1ISA, 2MSA, 1FSA, 1ISA, 1IOA, 1MKA, 1FWA, 1MHA",
         "HA 1FSA, CO 1FWA",
         null,
         "D 4> 1FKA, 2ISA 4> 1MSA",
         null,
         "0.6",
         "0.0",
         "0.083333333",
         "0.166666667",
         "0.0",
         "0.0",
         "0.0",
         "0.166666667",
         "0.0",
         "0.5",
         "Yarn,Velvet Rope,Tar,Cashmere,Jewelry Box"
        ],
        [
         "42",
         "44",
         "alta",
         "Alta: a detailed dreamer",
         "2/15/1986",
         "en",
         "I work in a place with a lot of money (a bank?) and it's being robbed - this place is like a lot of buildings, nicely kept up on the bottom, less finished and junky at the top - a couple of other people and I are trying to do something outside without locking ourselves out - seems to be difficult. Involves short flights of stairs and heavy doors that won't stay open. I'm with a female (black?) and a male. Back inside, somehow I get an opportunity to thwart the thieves - I get hold of at least some major part of the money and run with it. Somebody I know is with the robbers, maybe helping them voluntarily, I'm not sure - but I figure he can tell where I'll go so I have to outwit him. I run down a hall and pass where I would go, down to a room with a lot of painter's and plastering stuff in it. I stash the money under a pile of cloths on the floor, next to a cabinet or something which is just inside left of the door. Back outside and down to the other door where I hope they'll see me just going in - then I think no, I may as well hide if I have a chance. I go further in (it's open and leads into other rooms as if, in a house, you've got living rooms that lead into dining rooms but big open passages rather than doorways? - best I can do - hold the image) and there are 2 people, Cynthia and another woman, who must also be blind because she doesn't react to me. Neither does, they must not hear me either and they're both motionless. I don't look for any good place to hide because the robbers are coming in - I duck as close to this inner wall as I can, hoping they won't come this way - but my right arm sticks out sideways at an angle and I can't get it down. If I move it fast they'll see me move it and I can't seem to inch it gradually. (I think Cynthia leaves in here somewhere.) So one of the men sees me and comes over, but he's not the one to interrogate me, he's an underling, so he's just going to let them know I'm here. He says \"Stand here\" and turns back to the others, moving away from me. I look around, see another room and duck into it quietly. It's green and a lot like the junky old office in the basement of the old building - no one's redecorated here in a hundred years. At first I think it's a lost cause but by George it's got a door on the other side. I thought it might lead to the hall but it doesn't - I don't know where it leads but one way or another I get into an office, where there are rows of people (like there used to be) with adding machines and typewriters - men and women - and I know I'm n home free. What I want is to get to the police on the ground floor, but I'm afraid of getting caught before I reach them. I keep running. When I wake up I'm still worried I'm not going to make it - sense of desperation.",
         "1ISA, 1FSA, 2ISA, 1ISA, 2ISA, 1ISA, 1FDA, Cynthia, 1ISA, 1FSA, women",
         "AP D, AP D",
         "D > Q, D > Q, D > D, 1MSA > D, D > D, 2ISA > D",
         "2IKA 4> 2ISA",
         null,
         "0.0",
         "0.0",
         "0.0",
         "0.090909091",
         "0.0",
         "1.0",
         "0.545454545",
         "0.090909091",
         "0.0",
         "1.0",
         "Vaulting,Identity Theft,Kidnap,Vandalism,Sabotage"
        ],
        [
         "43",
         "45",
         "alta",
         "Alta: a detailed dreamer",
         "2/15/1986",
         "en",
         "Not much left - I'm with (my brother) in a car, him driving, that stops going for unknown reason - I get out and encounter puppies - they're sort of spilling out of a storm drain, very small, very \"duh\"-looking. I think they're kind of cute but say they shouldn't be out like that, they'll get hurt, and put them back. Then Momma starts to growl a bit of warning, she hadn't been visible before, but now she comes forward as if she's been crouching at the back of the drain (as if it were a litter cave). I say hi to her and go on. Where I am is rather like a cul-de-sac or circle. We've come from a street, and behind some building, maybe apartments, the road runs by the back and turns round into a fair-sized short underpass, which is where the puppies are. I'm aiming to continue that way.",
         "1MBA, 2ISA, 1ISA",
         "SD 2ISA, SD 2ISA, CO 1IKA",
         "2ISA > 2ISA, D > 2IKA",
         "D 4> Q",
         null,
         "1.0",
         "0.0",
         "0.0",
         "0.333333333",
         "0.0",
         "0.5",
         "0.666666667",
         "0.333333333",
         "0.0",
         "1.0",
         "Nest,Leash,Bark,Kidnap,Ramp"
        ],
        [
         "44",
         "46",
         "alta",
         "Alta: a detailed dreamer",
         "2/15/1986",
         "en",
         "LT again - the scene is something like the balcony at work. I've finished with a hair dryer that I'm trying to wrap up again and after a couple of times do it and it wads up a bit but it's ok and I leave it. Somewhere in here I've been singing, rather like those fantasies I have where I start a song as an example for the group of how I can sing and they let me go on - it's something more like a story this time, though, and I made up the words and it was great though I haven't the foggiest notion what it was. I think this is where I hug a guy who looks a bit like Joe A.",
         "1IOA, 1ISA",
         null,
         null,
         "D 4> 1IKA",
         null,
         "0.0",
         "0.0",
         "0.0",
         "0.0",
         "0.0",
         "0.0",
         "0.0",
         "0.5",
         "0.0",
         "0.0",
         "Karaoke,Kiss,Tap Dancing,Backstage,Hairdresser"
        ],
        [
         "45",
         "47",
         "alta",
         "Alta: a detailed dreamer",
         "2/15/1986",
         "en",
         "A LT is starting ( or Prep Night) in a room that looks like an old-time school - wood everywhere and we even seem to be dressed for the setting. It's all disorganized, people aren't in their places on time and part of the reason is that some other sort of class is going on next door that overlaps and the ones in the LT have to be let go from it, so they trickle in after we've started.",
         "1IOA, 2ISA, 2ISA",
         null,
         null,
         null,
         null,
         "0.0",
         "0.0",
         "0.0",
         "0.0",
         "0.0",
         "0.0",
         "0.0",
         "0.0",
         "0.0",
         "0.0",
         "Neighborhood,Dance Floor,Cabin,Dance Class,Haunted House"
        ],
        [
         "46",
         "48",
         "alta",
         "Alta: a detailed dreamer",
         "2/20/1986",
         "en",
         "I'm in a car with Dan, William Shatner, and somebody else - Shatner's driving. We're all talking and there's a car coming the other way rather badly, and I turn around to watch it. Sure enough, it hits another car head-on and I watch carefully because it's the first wreck I've ever actually seen in person. I remark this to the others, but when I turn around again there's nothing to see, both cars still drive and they're going round a corner to deal with the insurance, etc. Meanwhile there's a parked car in our lane and I remind Shatner of it, I don't think he's paying attention. He says it's ok. We get where we're going, but I don't know if it's a house or what. Later I'm at a party. Seems to be a costume party, and I've got on something rather elegant. I'm milling around looking for somebody to talk to, and I know a lot of these people but I don't feel comfortable and mostly I just greet them and let them go on and look for somebody who I'm sure wants to be with me. Eventually I go up some stairs, wide and curving - this is a posh place - and come into a long wide hallway or lobby rather like the ones in hotels outside the ballrooms, with couches and coffee tables. Some other people are there. One of them (but not noticeably Bonnie) knows I've been having trouble with my neck; I think she thinks it's my back. She wants me to try to bend backwards the way we did the other night for a stretch, and I don't want to really try it. Partly it's because I don't want to appear weak, partly because I don't want to find I can do it and be seen to be all right after all - which is partly because I'll be thought of as faking it. Dan and Lynn and Jane and Ken appear and I think, they will help me out here - maybe I can join them now and get away from these people's attention - they know I s____ (I can't describe what I think except that I think of their presence as rescue from the situation.) Later I step (duck?) into a bathroom that's fortuitously unoccupied (this place has been busy) and poke around some. The light's very dim, I don't look for a switch. It's longer than usual, quite fancy, shower stall, and something's interesting that's left of the door. Don't know what it is that I'm wanting to see closer, but I step in and find the floor all squishy. It's been leaking again, bad. This (thing - closet? shower stall? other mechanism?) has been repaired, big-time, and I think it's looking pretty shabby - I'm thinking of Mary Tod, this is her place, and classy people like her aren't supposed to have leaky bathrooms. I wonder if I should back out in case it wants to fall on my head, but I want a closer look at something inside and step in.",
         "1ISA, William, 2ISA, 2ISA, 1FSA, 1FSA",
         "AP 2ISA",
         "D > we, 2ISA > 2IKA",
         "D 4> 2ISA, 2ISA 4> D, D 4> Q",
         "D 4> we, It PRP 4>",
         "0.0",
         "0.0",
         "0.0",
         "0.0",
         "0.0",
         "0.25",
         "0.333333333",
         "0.5",
         "0.333333333",
         "1.0",
         "Car Show,Car,Vehicle,Backseat,Parking Ticket"
        ],
        [
         "47",
         "49",
         "alta",
         "Alta: a detailed dreamer",
         "2/22/1986",
         "en",
         "I'm at a small rather shabby wood-frame house with a porch. The second room on the porch is mine. I'm with other people and there are guests or somebody like visitors anyway. There's some organized affair going on, don't know what. Some of these visitors are in the first room (my brother's?) and they decide to go through the connecting door to my room to (confer?) and I don't want them to. I firmly explain that they're to stay in this room. My brother has a confrontation with a mysterious stranger - blonde man - My brother prevails (though it wasn't a fight) and he (or we?) have to figure out what to do with him",
         "1ISA, 2ISA, guests, 1MBA, 1MKA",
         null,
         null,
         null,
         null,
         "1.0",
         "0.0",
         "0.2",
         "0.2",
         "0.0",
         "0.0",
         "0.0",
         "0.0",
         "0.0",
         "0.0",
         "Haunted House,Landlord,Mansion,Vandalism,Uncle"
        ],
        [
         "48",
         "50",
         "alta",
         "Alta: a detailed dreamer",
         "2/23/1986",
         "en",
         "A woman with at least a couple of kids lives in a Dickensian sort of tenement and gets thrown out because she can't pay the rent. It's tough but not the first time or the worst thing that could happen. We go along to another place where the landlord is more generous and frankly this place is nicer and in better condition than the last anyway. It looks rustic - landlord leads us round to our entrance and inside, where there's an intricate stair arrangement - I think of England, where there can be found these very shallow steps that turn and twist but there's even more here - you don't actually need to take them, you can leap several. We go up that way, rather than following the line back and forth. Also I'm on a bus going to a shopping center. Lots of people on, and I'm sitting all the way in the back. I get a phone call. I'm not surprised that there's a phone, but I think it's rather a disturbance and didn't expect them to actually have me take the call here. It's a girl who also works for the City and I don't really understand what she wants but she obviously thinks I'm in the office and is a little bit annoyed to find that I'm not. Also perplexed - we don't know each other and there's some doubt that she's even got the right number. The bus arrives at the shopping center and there's an Army-recruit thing going on in the parking lot. Turns out there's a lot of new recruits on this bus and they're meant to get off and join their group, so we have to wait a bit while that gets organized. I get off - speak to somebody but don't remember what about except that there's a question whether I'm one of them.",
         "1FDA, 2IIC, 1IOA, 2ISA, 1FSA, 1ISA",
         "CO D",
         "D > you, D > 1IOA",
         null,
         null,
         "0.0",
         "0.0",
         "0.0",
         "0.333333333",
         "0.0",
         "1.0",
         "0.333333333",
         "0.0",
         "0.0",
         "1.0",
         "Landlord,Tenant,Neighborhood,Calla Lily,Maid"
        ],
        [
         "49",
         "51",
         "alta",
         "Alta: a detailed dreamer",
         "2/25/1986",
         "en",
         "I'm in the front of a bus with a friend, we have an errand or purpose together wherever we're going - there's another girl near us, sitting down (we're standing) and she's at odds with us in some way - perhaps we're suspicious of her, as though she were prying into our business. It's either night or late afternoon, and we're all dressed as if for work, and I believe we have coats on, maybe even hats and gloves. I'm sure we're all three \"girls\".",
         "1IKA, 2FSA",
         "AP 2ISA",
         null,
         null,
         null,
         "0.0",
         "0.0",
         "0.5",
         "0.0",
         "0.0",
         "0.0",
         "0.0",
         "0.0",
         "0.0",
         "1.0",
         "Maid,School Bus,Paranoia,Kidnap,Acquaintance"
        ]
       ],
       "shape": {
        "columns": 22,
        "rows": 21000
       }
      },
      "text/html": [
       "<div>\n",
       "<style scoped>\n",
       "    .dataframe tbody tr th:only-of-type {\n",
       "        vertical-align: middle;\n",
       "    }\n",
       "\n",
       "    .dataframe tbody tr th {\n",
       "        vertical-align: top;\n",
       "    }\n",
       "\n",
       "    .dataframe thead th {\n",
       "        text-align: right;\n",
       "    }\n",
       "</style>\n",
       "<table border=\"1\" class=\"dataframe\">\n",
       "  <thead>\n",
       "    <tr style=\"text-align: right;\">\n",
       "      <th></th>\n",
       "      <th>dream_id</th>\n",
       "      <th>dreamer</th>\n",
       "      <th>description</th>\n",
       "      <th>dream_date</th>\n",
       "      <th>dream_language</th>\n",
       "      <th>text_dream</th>\n",
       "      <th>characters_code</th>\n",
       "      <th>emotions_code</th>\n",
       "      <th>aggression_code</th>\n",
       "      <th>friendliness_code</th>\n",
       "      <th>...</th>\n",
       "      <th>Animal</th>\n",
       "      <th>Friends</th>\n",
       "      <th>Family</th>\n",
       "      <th>Dead&amp;Imaginary</th>\n",
       "      <th>Aggression/Friendliness</th>\n",
       "      <th>A/CIndex</th>\n",
       "      <th>F/CIndex</th>\n",
       "      <th>S/CIndex</th>\n",
       "      <th>NegativeEmotions</th>\n",
       "      <th>Dream Symbol</th>\n",
       "    </tr>\n",
       "  </thead>\n",
       "  <tbody>\n",
       "    <tr>\n",
       "      <th>0</th>\n",
       "      <td>1</td>\n",
       "      <td>alta</td>\n",
       "      <td>Alta: a detailed dreamer</td>\n",
       "      <td>1957</td>\n",
       "      <td>en</td>\n",
       "      <td>The one at the Meads's house, where it's bigge...</td>\n",
       "      <td>2ISA, 1MKA, 1FDA, 1IOA, 2ISA</td>\n",
       "      <td>NaN</td>\n",
       "      <td>2IKA &gt; Q</td>\n",
       "      <td>2IKA 4&gt; Q</td>\n",
       "      <td>...</td>\n",
       "      <td>0.000000</td>\n",
       "      <td>0.200000</td>\n",
       "      <td>0.200000</td>\n",
       "      <td>0.0</td>\n",
       "      <td>0.000</td>\n",
       "      <td>0.200000</td>\n",
       "      <td>0.200000</td>\n",
       "      <td>0.0</td>\n",
       "      <td>0.0</td>\n",
       "      <td>Upstairs,Haunted House,Maid,Tea House,Mansion</td>\n",
       "    </tr>\n",
       "    <tr>\n",
       "      <th>1</th>\n",
       "      <td>2</td>\n",
       "      <td>alta</td>\n",
       "      <td>Alta: a detailed dreamer</td>\n",
       "      <td>8/11/1967</td>\n",
       "      <td>en</td>\n",
       "      <td>I'm at a family reunion in a large fine house ...</td>\n",
       "      <td>2ISA, people, 2ISA</td>\n",
       "      <td>SD 2IKA</td>\n",
       "      <td>D &gt; Q, Q &gt; 2ISA</td>\n",
       "      <td>NaN</td>\n",
       "      <td>...</td>\n",
       "      <td>0.000000</td>\n",
       "      <td>0.000000</td>\n",
       "      <td>0.000000</td>\n",
       "      <td>0.0</td>\n",
       "      <td>1.000</td>\n",
       "      <td>0.666667</td>\n",
       "      <td>0.000000</td>\n",
       "      <td>0.0</td>\n",
       "      <td>1.0</td>\n",
       "      <td>Fainting,Vertigo,Near Death Experience,Landsli...</td>\n",
       "    </tr>\n",
       "    <tr>\n",
       "      <th>2</th>\n",
       "      <td>3</td>\n",
       "      <td>alta</td>\n",
       "      <td>Alta: a detailed dreamer</td>\n",
       "      <td>8/1/1985</td>\n",
       "      <td>en</td>\n",
       "      <td>I watch a plane fly past and shortly realize i...</td>\n",
       "      <td>2ISA, 2ISA, 1FSA, 1MBA, 1IOA, 2ISA, 2FDA</td>\n",
       "      <td>SD 1ISA, AP D, AP D</td>\n",
       "      <td>It PRP &gt;, It PRP &gt;, D &gt; 1FKA</td>\n",
       "      <td>NaN</td>\n",
       "      <td>...</td>\n",
       "      <td>0.000000</td>\n",
       "      <td>0.000000</td>\n",
       "      <td>0.285714</td>\n",
       "      <td>0.0</td>\n",
       "      <td>1.000</td>\n",
       "      <td>0.428571</td>\n",
       "      <td>0.000000</td>\n",
       "      <td>0.0</td>\n",
       "      <td>1.0</td>\n",
       "      <td>Kidnap,Emergency Alert,Death Penalty,Abortion,...</td>\n",
       "    </tr>\n",
       "    <tr>\n",
       "      <th>3</th>\n",
       "      <td>4</td>\n",
       "      <td>alta</td>\n",
       "      <td>Alta: a detailed dreamer</td>\n",
       "      <td>1985?</td>\n",
       "      <td>en</td>\n",
       "      <td>Me pulling the green leaves and berries off so...</td>\n",
       "      <td>1MAA, 1FMA, 2ISA, 2IKA, 1ANI, 1ANI, 1IOA, 2ISA...</td>\n",
       "      <td>SD 2ISA, SD D</td>\n",
       "      <td>Q &gt; Q, 2ISA &gt; Q, 2ISA &gt; Q, D &gt; 1MSA</td>\n",
       "      <td>1IKA 4&gt; Q, 2ISA 4&gt; 2ISA</td>\n",
       "      <td>...</td>\n",
       "      <td>0.176471</td>\n",
       "      <td>0.142857</td>\n",
       "      <td>0.142857</td>\n",
       "      <td>0.0</td>\n",
       "      <td>1.000</td>\n",
       "      <td>0.235294</td>\n",
       "      <td>0.117647</td>\n",
       "      <td>0.0</td>\n",
       "      <td>1.0</td>\n",
       "      <td>Kidnap,Knocking,Party,Sabotage,Paranormal</td>\n",
       "    </tr>\n",
       "    <tr>\n",
       "      <th>4</th>\n",
       "      <td>5</td>\n",
       "      <td>alta</td>\n",
       "      <td>Alta: a detailed dreamer</td>\n",
       "      <td>1985?</td>\n",
       "      <td>en</td>\n",
       "      <td>I'm in a room that reminds me of (but definite...</td>\n",
       "      <td>1IRA, 1MSA, 1ISA, 2ISA, 1ISA, 1IKA</td>\n",
       "      <td>AP D, AP D, AP 1MSA, CO D, SD D, AP D</td>\n",
       "      <td>1MSA &gt; D, Q &gt; Q, D &gt; 2IKA, D &gt; 2IKA, D &gt; 1MSA,...</td>\n",
       "      <td>D 4&gt; Q</td>\n",
       "      <td>...</td>\n",
       "      <td>0.000000</td>\n",
       "      <td>0.166667</td>\n",
       "      <td>0.166667</td>\n",
       "      <td>0.0</td>\n",
       "      <td>0.875</td>\n",
       "      <td>1.333333</td>\n",
       "      <td>0.166667</td>\n",
       "      <td>0.0</td>\n",
       "      <td>1.0</td>\n",
       "      <td>Haunted House,Paranormal,Near Death Experience...</td>\n",
       "    </tr>\n",
       "    <tr>\n",
       "      <th>...</th>\n",
       "      <td>...</td>\n",
       "      <td>...</td>\n",
       "      <td>...</td>\n",
       "      <td>...</td>\n",
       "      <td>...</td>\n",
       "      <td>...</td>\n",
       "      <td>...</td>\n",
       "      <td>...</td>\n",
       "      <td>...</td>\n",
       "      <td>...</td>\n",
       "      <td>...</td>\n",
       "      <td>...</td>\n",
       "      <td>...</td>\n",
       "      <td>...</td>\n",
       "      <td>...</td>\n",
       "      <td>...</td>\n",
       "      <td>...</td>\n",
       "      <td>...</td>\n",
       "      <td>...</td>\n",
       "      <td>...</td>\n",
       "      <td>...</td>\n",
       "    </tr>\n",
       "    <tr>\n",
       "      <th>20995</th>\n",
       "      <td>33062</td>\n",
       "      <td>west_coast_teens</td>\n",
       "      <td>West Coast teenage girls</td>\n",
       "      <td>F, age 18</td>\n",
       "      <td>en</td>\n",
       "      <td>The dream was about me and my boyfriend going ...</td>\n",
       "      <td>2ISA, 2ISA, 1ISA</td>\n",
       "      <td>HA D, AP D</td>\n",
       "      <td>2IKA &gt; Q, D &gt; D</td>\n",
       "      <td>NaN</td>\n",
       "      <td>...</td>\n",
       "      <td>0.000000</td>\n",
       "      <td>0.000000</td>\n",
       "      <td>0.000000</td>\n",
       "      <td>0.0</td>\n",
       "      <td>1.000</td>\n",
       "      <td>0.666667</td>\n",
       "      <td>0.000000</td>\n",
       "      <td>0.0</td>\n",
       "      <td>0.5</td>\n",
       "      <td>Scared,Near Death Experience,Landslide,Paranor...</td>\n",
       "    </tr>\n",
       "    <tr>\n",
       "      <th>20996</th>\n",
       "      <td>33063</td>\n",
       "      <td>west_coast_teens</td>\n",
       "      <td>West Coast teenage girls</td>\n",
       "      <td>F, age 18</td>\n",
       "      <td>en</td>\n",
       "      <td>Two weeks ago this guy asked me to Senior Ball...</td>\n",
       "      <td>1ISA</td>\n",
       "      <td>HA D</td>\n",
       "      <td>NaN</td>\n",
       "      <td>NaN</td>\n",
       "      <td>...</td>\n",
       "      <td>0.000000</td>\n",
       "      <td>0.000000</td>\n",
       "      <td>0.000000</td>\n",
       "      <td>0.0</td>\n",
       "      <td>0.000</td>\n",
       "      <td>0.000000</td>\n",
       "      <td>0.000000</td>\n",
       "      <td>1.0</td>\n",
       "      <td>0.0</td>\n",
       "      <td>Tap Dancing,Dance,Bait,Lake,Koi Fish</td>\n",
       "    </tr>\n",
       "    <tr>\n",
       "      <th>20997</th>\n",
       "      <td>33064</td>\n",
       "      <td>west_coast_teens</td>\n",
       "      <td>West Coast teenage girls</td>\n",
       "      <td>F, age 18</td>\n",
       "      <td>en</td>\n",
       "      <td>My boyfriend just broke up with me so he was o...</td>\n",
       "      <td>1ISA, 1FSA</td>\n",
       "      <td>AP D</td>\n",
       "      <td>Q &gt; D</td>\n",
       "      <td>NaN</td>\n",
       "      <td>...</td>\n",
       "      <td>0.000000</td>\n",
       "      <td>0.000000</td>\n",
       "      <td>0.000000</td>\n",
       "      <td>0.0</td>\n",
       "      <td>1.000</td>\n",
       "      <td>0.500000</td>\n",
       "      <td>0.000000</td>\n",
       "      <td>0.0</td>\n",
       "      <td>1.0</td>\n",
       "      <td>Deja Vu,Fairy,Past Life,Fairy Tale,Ghost</td>\n",
       "    </tr>\n",
       "    <tr>\n",
       "      <th>20998</th>\n",
       "      <td>33065</td>\n",
       "      <td>west_coast_teens</td>\n",
       "      <td>West Coast teenage girls</td>\n",
       "      <td>F, age 18</td>\n",
       "      <td>en</td>\n",
       "      <td>I was in my backyard and I was flying. I would...</td>\n",
       "      <td>1ANI</td>\n",
       "      <td>AN 1ISA</td>\n",
       "      <td>1ANI &gt; D, 1ANI &gt; Q, 1ISA 1&gt; Q</td>\n",
       "      <td>NaN</td>\n",
       "      <td>...</td>\n",
       "      <td>1.000000</td>\n",
       "      <td>0.000000</td>\n",
       "      <td>0.000000</td>\n",
       "      <td>0.0</td>\n",
       "      <td>1.000</td>\n",
       "      <td>3.000000</td>\n",
       "      <td>0.000000</td>\n",
       "      <td>0.0</td>\n",
       "      <td>1.0</td>\n",
       "      <td>Jumping,Near Death Experience,Landing,Leaping,...</td>\n",
       "    </tr>\n",
       "    <tr>\n",
       "      <th>20999</th>\n",
       "      <td>33066</td>\n",
       "      <td>west_coast_teens</td>\n",
       "      <td>West Coast teenage girls</td>\n",
       "      <td>F, age 18</td>\n",
       "      <td>en</td>\n",
       "      <td>I felt scared. I was pregnant in my dream. The...</td>\n",
       "      <td>2IKA, 1FMA, 1ISA, 1MFA</td>\n",
       "      <td>AP D, AP D</td>\n",
       "      <td>2IKA &gt; us, 2ISA &gt; D, 2IKA &gt; us</td>\n",
       "      <td>2ISA 4&gt; D</td>\n",
       "      <td>...</td>\n",
       "      <td>0.000000</td>\n",
       "      <td>0.250000</td>\n",
       "      <td>0.500000</td>\n",
       "      <td>0.0</td>\n",
       "      <td>0.500</td>\n",
       "      <td>0.750000</td>\n",
       "      <td>0.250000</td>\n",
       "      <td>0.5</td>\n",
       "      <td>1.0</td>\n",
       "      <td>Scared,Incest,Near Death Experience,Past Life,...</td>\n",
       "    </tr>\n",
       "  </tbody>\n",
       "</table>\n",
       "<p>21000 rows × 22 columns</p>\n",
       "</div>"
      ],
      "text/plain": [
       "       dream_id           dreamer               description dream_date  \\\n",
       "0             1              alta  Alta: a detailed dreamer       1957   \n",
       "1             2              alta  Alta: a detailed dreamer  8/11/1967   \n",
       "2             3              alta  Alta: a detailed dreamer   8/1/1985   \n",
       "3             4              alta  Alta: a detailed dreamer      1985?   \n",
       "4             5              alta  Alta: a detailed dreamer      1985?   \n",
       "...         ...               ...                       ...        ...   \n",
       "20995     33062  west_coast_teens  West Coast teenage girls  F, age 18   \n",
       "20996     33063  west_coast_teens  West Coast teenage girls  F, age 18   \n",
       "20997     33064  west_coast_teens  West Coast teenage girls  F, age 18   \n",
       "20998     33065  west_coast_teens  West Coast teenage girls  F, age 18   \n",
       "20999     33066  west_coast_teens  West Coast teenage girls  F, age 18   \n",
       "\n",
       "      dream_language                                         text_dream  \\\n",
       "0                 en  The one at the Meads's house, where it's bigge...   \n",
       "1                 en  I'm at a family reunion in a large fine house ...   \n",
       "2                 en  I watch a plane fly past and shortly realize i...   \n",
       "3                 en  Me pulling the green leaves and berries off so...   \n",
       "4                 en  I'm in a room that reminds me of (but definite...   \n",
       "...              ...                                                ...   \n",
       "20995             en  The dream was about me and my boyfriend going ...   \n",
       "20996             en  Two weeks ago this guy asked me to Senior Ball...   \n",
       "20997             en  My boyfriend just broke up with me so he was o...   \n",
       "20998             en  I was in my backyard and I was flying. I would...   \n",
       "20999             en  I felt scared. I was pregnant in my dream. The...   \n",
       "\n",
       "                                         characters_code  \\\n",
       "0                           2ISA, 1MKA, 1FDA, 1IOA, 2ISA   \n",
       "1                                     2ISA, people, 2ISA   \n",
       "2               2ISA, 2ISA, 1FSA, 1MBA, 1IOA, 2ISA, 2FDA   \n",
       "3      1MAA, 1FMA, 2ISA, 2IKA, 1ANI, 1ANI, 1IOA, 2ISA...   \n",
       "4                     1IRA, 1MSA, 1ISA, 2ISA, 1ISA, 1IKA   \n",
       "...                                                  ...   \n",
       "20995                                   2ISA, 2ISA, 1ISA   \n",
       "20996                                               1ISA   \n",
       "20997                                         1ISA, 1FSA   \n",
       "20998                                               1ANI   \n",
       "20999                             2IKA, 1FMA, 1ISA, 1MFA   \n",
       "\n",
       "                               emotions_code  \\\n",
       "0                                        NaN   \n",
       "1                                    SD 2IKA   \n",
       "2                        SD 1ISA, AP D, AP D   \n",
       "3                              SD 2ISA, SD D   \n",
       "4      AP D, AP D, AP 1MSA, CO D, SD D, AP D   \n",
       "...                                      ...   \n",
       "20995                             HA D, AP D   \n",
       "20996                                   HA D   \n",
       "20997                                   AP D   \n",
       "20998                                AN 1ISA   \n",
       "20999                             AP D, AP D   \n",
       "\n",
       "                                         aggression_code  \\\n",
       "0                                               2IKA > Q   \n",
       "1                                        D > Q, Q > 2ISA   \n",
       "2                           It PRP >, It PRP >, D > 1FKA   \n",
       "3                    Q > Q, 2ISA > Q, 2ISA > Q, D > 1MSA   \n",
       "4      1MSA > D, Q > Q, D > 2IKA, D > 2IKA, D > 1MSA,...   \n",
       "...                                                  ...   \n",
       "20995                                    2IKA > Q, D > D   \n",
       "20996                                                NaN   \n",
       "20997                                              Q > D   \n",
       "20998                      1ANI > D, 1ANI > Q, 1ISA 1> Q   \n",
       "20999                     2IKA > us, 2ISA > D, 2IKA > us   \n",
       "\n",
       "             friendliness_code  ...    Animal   Friends    Family  \\\n",
       "0                    2IKA 4> Q  ...  0.000000  0.200000  0.200000   \n",
       "1                          NaN  ...  0.000000  0.000000  0.000000   \n",
       "2                          NaN  ...  0.000000  0.000000  0.285714   \n",
       "3      1IKA 4> Q, 2ISA 4> 2ISA  ...  0.176471  0.142857  0.142857   \n",
       "4                       D 4> Q  ...  0.000000  0.166667  0.166667   \n",
       "...                        ...  ...       ...       ...       ...   \n",
       "20995                      NaN  ...  0.000000  0.000000  0.000000   \n",
       "20996                      NaN  ...  0.000000  0.000000  0.000000   \n",
       "20997                      NaN  ...  0.000000  0.000000  0.000000   \n",
       "20998                      NaN  ...  1.000000  0.000000  0.000000   \n",
       "20999                2ISA 4> D  ...  0.000000  0.250000  0.500000   \n",
       "\n",
       "       Dead&Imaginary  Aggression/Friendliness  A/CIndex  F/CIndex  S/CIndex  \\\n",
       "0                 0.0                    0.000  0.200000  0.200000       0.0   \n",
       "1                 0.0                    1.000  0.666667  0.000000       0.0   \n",
       "2                 0.0                    1.000  0.428571  0.000000       0.0   \n",
       "3                 0.0                    1.000  0.235294  0.117647       0.0   \n",
       "4                 0.0                    0.875  1.333333  0.166667       0.0   \n",
       "...               ...                      ...       ...       ...       ...   \n",
       "20995             0.0                    1.000  0.666667  0.000000       0.0   \n",
       "20996             0.0                    0.000  0.000000  0.000000       1.0   \n",
       "20997             0.0                    1.000  0.500000  0.000000       0.0   \n",
       "20998             0.0                    1.000  3.000000  0.000000       0.0   \n",
       "20999             0.0                    0.500  0.750000  0.250000       0.5   \n",
       "\n",
       "       NegativeEmotions                                       Dream Symbol  \n",
       "0                   0.0      Upstairs,Haunted House,Maid,Tea House,Mansion  \n",
       "1                   1.0  Fainting,Vertigo,Near Death Experience,Landsli...  \n",
       "2                   1.0  Kidnap,Emergency Alert,Death Penalty,Abortion,...  \n",
       "3                   1.0          Kidnap,Knocking,Party,Sabotage,Paranormal  \n",
       "4                   1.0  Haunted House,Paranormal,Near Death Experience...  \n",
       "...                 ...                                                ...  \n",
       "20995               0.5  Scared,Near Death Experience,Landslide,Paranor...  \n",
       "20996               0.0               Tap Dancing,Dance,Bait,Lake,Koi Fish  \n",
       "20997               1.0           Deja Vu,Fairy,Past Life,Fairy Tale,Ghost  \n",
       "20998               1.0  Jumping,Near Death Experience,Landing,Leaping,...  \n",
       "20999               1.0  Scared,Incest,Near Death Experience,Past Life,...  \n",
       "\n",
       "[21000 rows x 22 columns]"
      ]
     },
     "execution_count": 2,
     "metadata": {},
     "output_type": "execute_result"
    }
   ],
   "source": [
    "dream_df= pd.read_csv('datasets/rsos_dream_data.tsv', sep='\\t')\n",
    "dream_df"
   ]
  },
  {
   "cell_type": "code",
   "execution_count": 3,
   "id": "82be03f2",
   "metadata": {},
   "outputs": [
    {
     "data": {
      "application/vnd.microsoft.datawrangler.viewer.v0+json": {
       "columns": [
        {
         "name": "index",
         "rawType": "int64",
         "type": "integer"
        },
        {
         "name": "Dream Symbol",
         "rawType": "object",
         "type": "string"
        },
        {
         "name": "Interpretation",
         "rawType": "object",
         "type": "string"
        }
       ],
       "conversionMethod": "pd.DataFrame",
       "ref": "c7446ba4-f005-4256-b5b7-47e268adc5de",
       "rows": [
        [
         "0",
         "Aardvark",
         "To see an aardvark in your dream indicates that you are being very secretive and cautious about your business."
        ],
        [
         "1",
         "Abandonment",
         "To dream that you are abandoned suggests that it is time to leave behind past feelings and characteristics that are hindering your growth. Let go of your old attitudes. A more direct and literal interpretation of this dream indicates you have a fear of being deserted, abandoned, or even betrayed. It may stem from a recent loss or a fear of losing a loved one. The fear of abandonment may manifest itself into your dream as part of the healing process and dealing with losing a loved one. It may also stem from unresolved feelings or problems from childhood. Alternatively, the dream indicates that you are feeling neglected or that your feelings are being overlooked. Perhaps the dream is a metaphor that you need to approach life with 'reckless abandon' and live more freely."
        ],
        [
         "2",
         "Abduction",
         "To dream of being abducted indicates that you are being manipulated by your circumstances or by someone. You lack control of your own life."
        ],
        [
         "3",
         "Aborigine",
         "To see an Aborigine in your dream represents both your untamed, natural self and your pure, innocent side. You need to be more in touch with your intuition and inner forces. It also suggests that you are being overindulgent or overly emotional. You may be harming yourself and jeopardizing your well-being due to your unrestraint."
        ],
        [
         "4",
         "Abortion",
         "To dream that you have an abortion suggests that you are hindering and blocking your own growth. You may be hesitant in pursuing a new direction in your life due to fear, pressure, personal conflict or moral obligation. The dream may also be a reflection of your own real-life abortion and thus serves as a way of healing from the trauma and working towards self-acceptance. Alternatively, this dream may also be a message for you to take care and look after your health."
        ],
        [
         "5",
         "Abscess",
         "To dream that you have an abscess suggests that there is something that you need to express and get out into the open."
        ],
        [
         "6",
         "Absence",
         "To dream that someone is absent, especially if you expect to find them, suggests that you are looking for something that is already lost to you. Alternatively, you may be looking to fill a void in your life. Something is missing from your life."
        ],
        [
         "7",
         "Abundance",
         "To dream of having an abundance of a certain item indicates that you need to conserve your resources and energies. This dream may be a compensatory dream for something that you are lacking in life. More directly, abundance signifies happiness."
        ],
        [
         "8",
         "Abuse",
         "To dream you are abusing someone suggests that your past actions will come back to haunt you. You may be expressing some regret or remorse over your actions."
        ],
        [
         "9",
         "Abyss",
         "To dream of an abyss signifies an obstacle that is creating much anxiety for you. You need to work through the difficulty and overcome this obstacle in your life. Perhaps you are afraid of 'taking the plunge'."
        ],
        [
         "10",
         "Academy Awards",
         "To dream that you at the Academy Awards indicates that you need to add some glamour into your life. If you win an Oscar, then it implies that you are looking for some sort of acknowledgment in your waking life."
        ],
        [
         "11",
         "Accent",
         "To speak with an accent in your dream suggests that you are having difficulties conveying your thoughts. Consider how you feel about the accent. If you feel the accent makes you stand out in a negative way, then it signifies feelings of insecurities. If the accent makes you stand out in a positive way, then it symbolizes an air of confidence."
        ],
        [
         "12",
         "Acceptance",
         "To dream about acceptance indicates issues of self-esteem and measuring up to the expectations of others. There is a waking situation where you are seeking acceptance and wanting to be a part of."
        ],
        [
         "13",
         "Accident",
         "To dream that you are in an accident signifies pent-up guilt in which you are subconsciously punishing yourself over. Perhaps you are not proud of something you have done. Alternatively, the accident may symbolize an error or mistake you have made. Accident dreams also represent your fears of being in an actual, physical accident. You may simply be nervous about getting behind the wheel. Or the dream is trying to warn you of some accident."
        ],
        [
         "14",
         "Accomplice",
         "To dream that you are an accomplice to a crime suggests that someone in your waking life is having a negative influence on you. You may be experiencing feelings of guilt with something that you have done."
        ],
        [
         "15",
         "Accuse",
         "To dream that you are being accused of something indicates overwhelming feelings of guilt. It may also mean that you are having some doubts about yourself and the choices you are making."
        ],
        [
         "16",
         "Acquaintance",
         "To see an acquaintance in your dream represents aspects of yourself that you are still trying to get to know."
        ],
        [
         "17",
         "Action Figure",
         "To see or dream that you are playing with an action figure suggests that you are being manipulated in some way. Or you tend to do what other people expect of you. Also consider the significance of the way that the action figure is dressed."
        ],
        [
         "18",
         "Actor/Actress",
         "To see an actor or actress in your dream represents your pursuit for pleasure. Your admiration of a particular celebrity may lead to a desire to have some of their physical or personality traits. Consider also who this actor/actress is and what characteristics you associate with her or him. These may be the same characteristics that you need to acknowledge or incorporate into yourself. The dream may also be a pun on her or his name."
        ],
        [
         "19",
         "Acupuncture",
         "To dream that you are getting acupuncture suggests that you are in need of healing. You may need to divert your energies to different pursuits. Alternatively, the dream may be a metaphor for a problem or issue that you need to pinpoint."
        ],
        [
         "20",
         "Addict",
         "To dream that you are an addict indicates that you are no longer in control of a situation. You have surrendered your power and denied responsibility for your actions. The dream is also representative of fear, low self-esteem issues, and insecurities."
        ],
        [
         "21",
         "Admire",
         "To dream that you are admiring someone indicates that you need to incorporate the qualities of that person into your Self."
        ],
        [
         "22",
         "Adobe",
         "To see an adobe structure in your dream symbolizes protection. It also implies that you are well insulated from life's problems. Perhaps you are being too sheltered and are lacking experience in certain areas of your life. Alternatively, an adobe building represents tradition, hard work and a simple way of life. Maybe you need to incorporate these qualities into your waking life."
        ],
        [
         "23",
         "Adopt",
         "To dream that you or others are adopting a child indicates that you are taking on something new and different. Ask yourself what is missing in your life that would make you happy."
        ],
        [
         "24",
         "Adult",
         "If you are a child or teenager and dream that you are an adult, then it implies that you need to be more mature about some situation. Perhaps you have some growing up that you need to do. Alternatively, the dream may be reinforcing your sense of responsibility."
        ],
        [
         "25",
         "Adultery",
         "To dream that you commit adultery or have an affair signifies your sexual urges and desires that are longing to be expressed. Alternatively, it indicates self-betrayal of your subconscious. You may find yourself entangled in a situation that is not in your best interest, perhaps even illegal."
        ],
        [
         "26",
         "Baby",
         "To see a baby in your dream signifies innocence, warmth and new beginnings. Babies symbolize something in your own inner nature that is pure, vulnerable, helpless and/or uncorrupted. If you dream that the baby is smiling at you, then it suggests that you are experiencing pure joy. You do not ask for much to make you happy. If you find a baby in your dream, then it suggests that you have acknowledged your hidden potential. If you dream that you forgot you had a baby, then it suggests that you are trying hide your own vulnerabilities; you do not want to let others know of your weaknesses. Alternatively, forgetting about a baby represents an aspect of yourself that you have abandoned or put aside due to life's changing circumstances. The dream may serve as a reminder that it is time for you to pick up that old interest, hobby, or project again. Dreaming of holding a baby is analogous to holding onto an earlier part of your life where you felt more depended on and more needed."
        ],
        [
         "27",
         "Baby Carriage",
         "To see a baby carriage in your dream symbolizes your desire for a family or longing for a baby. If the baby carriage is empty, then it indicates sadness or an unfulfilled goal. Alternatively, it suggests that you need to cater to the needs of your own inner child."
        ],
        [
         "28",
         "Baby Clothes",
         "To see baby clothes in your dream suggests that you are expressing yourself in a more subtle way. Alternatively, baby clothes represent your former ways of thinking or old habits which you have outgrown."
        ],
        [
         "29",
         "Baby Shower",
         "To dream of a baby shower suggests that you are welcoming a new start. You are given a chance to start over again and do things differently this time around. You have a new found faith in life itself."
        ],
        [
         "30",
         "Babysitter",
         "To dream that you are babysitting suggests that you need to care for the child within yourself."
        ],
        [
         "31",
         "Bachelor",
         "To meet a bachelor in your dream suggests that you are seeking freedom in your love life. For a man to dream that he is a bachelor indicates that he is having difficulty with gaining his own sense of self or freedom in a relationship. Alternatively, the bachelor represents your masculine side."
        ],
        [
         "32",
         "Back",
         "To dream of your back represents your attitudes, strengths, burdens and stance in the world. It may also relate to stress and pressure that someone is putting on you."
        ],
        [
         "33",
         "Backpacking",
         "To dream that you are backpacking symbolizes your self-sufficiency and survival skills. You may be reflecting on all the obstacles and adversities that you have overcame."
        ],
        [
         "34",
         "Backseat",
         "To dream that you are sitting in the backseat of a car suggests that you are no longer in control of your life. You may be feeling overpowered, dominated and being told what to do. You need to start taking back control of your life."
        ],
        [
         "35",
         "Backstage",
         "To dream that you are backstage symbolizes opportunities and access. You need to make sure to take advantage of this limited time opportunity. Alternatively, the dream indicates that there are aspects of yourself that you are reluctant to express or show. Or it may also mean that you need to look at some situation or problem from a new perspective."
        ],
        [
         "36",
         "Backward",
         "To dream that you are walking or moving backwards indicates that your current course of action may be counter-productive. Whatever you are looking for in life seems to be moving away from you. Thus, you may feel a sense of failure or belief that you are unable to achieve your goals and aspirations. On the other hand, moving backwards in your dream indicate that you need to back off or retreat from a situation that you are currently facing in your waking life."
        ],
        [
         "37",
         "Backyard",
         "To dream about your backyard represents your childhood memories or your subconscious. Alternatively, dreaming of your backyard refers to the secrets you are keeping. There are some aspects of your life which you want to keep hidden and out of the view of others. The dream also represents some aspect of your life that you have taken for granted. Consider also the phrase 'not in my backyard.' In other words, everything is okay as long as it does not happen to you or occur in your own home. The condition of the yard is also symbolic of how well you maintain and balance aspects of your life."
        ],
        [
         "38",
         "Badminton",
         "To play or watch a badminton game in your dream indicates that you need to make a decision quickly or else opportunities will pass you by. You need to learn to keep up."
        ],
        [
         "39",
         "Bag",
         "To see a bag in your dream represents the responsibilities that you carry. If the bag is ripped or torn, then it indicates that you are carrying a lot of burden. The symbol may be a metaphor for an 'old bag' and refer to someone who is old."
        ],
        [
         "40",
         "Bagel",
         "To see or eat a bagel in your dream suggests that there is key element missing from your life. You are not completely whole. Alternatively, it refers to sexual urges."
        ],
        [
         "41",
         "Bait",
         "To see bait in your dream suggests that you may be fishing for a deal or a compliment. It may also indicate your desire to lure or entice someone."
        ],
        [
         "42",
         "Baking",
         "To dream that you are baking represents your creative self and your ability to make things happen. If you are mixing ingredients together that you normally would not combine, then it suggests that you need to find a connection between two seemingly different things. Perhaps these things that seem incompatible may yield surprisingly but positive results."
        ],
        [
         "43",
         "Balaclava",
         "To see or wear a balaclava in your dream refers to a sinister or painful secret you are keeping. This secret is creating a burden for you and becoming too hard to keep. Alternatively, wearing a balaclava refers to your desire for anonymity in a situation."
        ],
        [
         "44",
         "Balcony",
         "To see or dream that you are on a balcony refers to your desire to be seen and noticed. You are searching for prestige and higher status. It may also mean that you are on your way up the social ladder. If the balcony is clean, then it indicates that you are looked up to by others. If the balcony is old, then it suggests that your public image is in need of repair. Alternatively, the balcony could signify your ambivalence regarding a situation. You are feeling torn or undecided."
        ],
        [
         "45",
         "Bald",
         "To dream that you are going bald suggests a lack of self-esteem or worries about getting older. Alternatively, baldness symbolizes humility, purity, and personal sacrifice. You are at a stage in your life where you are confident in fully exposing yourself."
        ],
        [
         "46",
         "Ball",
         "To see or play with a ball in your dream symbolizes completeness and wholeness. It may also indicate that you need to be more in tune with the inner child within. The dream may also be a metaphor for the testicles. Consider also the phrase, 'he's got balls' to indicate guts and strength."
        ],
        [
         "47",
         "Ball Pit",
         "To see a ball pit in your dream symbolizes celebration, joy and youth, especially if there are children playing inside it. It is a reminder to be more carefree and spontaneous."
        ],
        [
         "48",
         "Ballerina",
         "To dream that you are a ballerina suggests that you are moving through the obstacles of your life effortlessly. You feel unrestricted. It is also a symbol of innocence, frailty, and vulnerability. Alternatively, you may feel unable to attain and measure up to society's ideals of beauty."
        ],
        [
         "49",
         "Ballet",
         "To dream that you are watching a ballet symbolizes balance, cooperation, and harmony."
        ]
       ],
       "shape": {
        "columns": 2,
        "rows": 1198
       }
      },
      "text/html": [
       "<div>\n",
       "<style scoped>\n",
       "    .dataframe tbody tr th:only-of-type {\n",
       "        vertical-align: middle;\n",
       "    }\n",
       "\n",
       "    .dataframe tbody tr th {\n",
       "        vertical-align: top;\n",
       "    }\n",
       "\n",
       "    .dataframe thead th {\n",
       "        text-align: right;\n",
       "    }\n",
       "</style>\n",
       "<table border=\"1\" class=\"dataframe\">\n",
       "  <thead>\n",
       "    <tr style=\"text-align: right;\">\n",
       "      <th></th>\n",
       "      <th>Dream Symbol</th>\n",
       "      <th>Interpretation</th>\n",
       "    </tr>\n",
       "  </thead>\n",
       "  <tbody>\n",
       "    <tr>\n",
       "      <th>0</th>\n",
       "      <td>Aardvark</td>\n",
       "      <td>To see an aardvark in your dream indicates tha...</td>\n",
       "    </tr>\n",
       "    <tr>\n",
       "      <th>1</th>\n",
       "      <td>Abandonment</td>\n",
       "      <td>To dream that you are abandoned suggests that ...</td>\n",
       "    </tr>\n",
       "    <tr>\n",
       "      <th>2</th>\n",
       "      <td>Abduction</td>\n",
       "      <td>To dream of being abducted indicates that you ...</td>\n",
       "    </tr>\n",
       "    <tr>\n",
       "      <th>3</th>\n",
       "      <td>Aborigine</td>\n",
       "      <td>To see an Aborigine in your dream represents b...</td>\n",
       "    </tr>\n",
       "    <tr>\n",
       "      <th>4</th>\n",
       "      <td>Abortion</td>\n",
       "      <td>To dream that you have an abortion suggests th...</td>\n",
       "    </tr>\n",
       "    <tr>\n",
       "      <th>...</th>\n",
       "      <td>...</td>\n",
       "      <td>...</td>\n",
       "    </tr>\n",
       "    <tr>\n",
       "      <th>1193</th>\n",
       "      <td>Zip Line</td>\n",
       "      <td>To dream that you are zip lining implies that ...</td>\n",
       "    </tr>\n",
       "    <tr>\n",
       "      <th>1194</th>\n",
       "      <td>Zombie</td>\n",
       "      <td>To see or dream that you are a zombie suggests...</td>\n",
       "    </tr>\n",
       "    <tr>\n",
       "      <th>1195</th>\n",
       "      <td>Zoomorphism</td>\n",
       "      <td>To dream that you are changing into the form o...</td>\n",
       "    </tr>\n",
       "    <tr>\n",
       "      <th>1196</th>\n",
       "      <td>com Tambourine</td>\n",
       "      <td>To see or play a tambourine in your dream symb...</td>\n",
       "    </tr>\n",
       "    <tr>\n",
       "      <th>1197</th>\n",
       "      <td>com Television</td>\n",
       "      <td>To dream that you are watching television repr...</td>\n",
       "    </tr>\n",
       "  </tbody>\n",
       "</table>\n",
       "<p>1198 rows × 2 columns</p>\n",
       "</div>"
      ],
      "text/plain": [
       "        Dream Symbol                                     Interpretation\n",
       "0           Aardvark  To see an aardvark in your dream indicates tha...\n",
       "1        Abandonment  To dream that you are abandoned suggests that ...\n",
       "2          Abduction  To dream of being abducted indicates that you ...\n",
       "3          Aborigine  To see an Aborigine in your dream represents b...\n",
       "4           Abortion  To dream that you have an abortion suggests th...\n",
       "...              ...                                                ...\n",
       "1193        Zip Line  To dream that you are zip lining implies that ...\n",
       "1194          Zombie  To see or dream that you are a zombie suggests...\n",
       "1195     Zoomorphism  To dream that you are changing into the form o...\n",
       "1196  com Tambourine  To see or play a tambourine in your dream symb...\n",
       "1197  com Television  To dream that you are watching television repr...\n",
       "\n",
       "[1198 rows x 2 columns]"
      ]
     },
     "execution_count": 3,
     "metadata": {},
     "output_type": "execute_result"
    }
   ],
   "source": [
    "keywords_df = pd.read_csv(\"datasets/fixed_interpretations.csv\")\n",
    "keywords_df"
   ]
  },
  {
   "cell_type": "code",
   "execution_count": 4,
   "id": "9555f979",
   "metadata": {},
   "outputs": [],
   "source": [
    "exmpl = dream_df[dream_df[\"text_dream\"].str.len()< 300]"
   ]
  },
  {
   "cell_type": "code",
   "execution_count": 5,
   "id": "59cec8b1",
   "metadata": {},
   "outputs": [],
   "source": [
    "exmpl = exmpl[[\"text_dream\",\"Dream Symbol\"]].sample(5, random_state=44)"
   ]
  },
  {
   "cell_type": "code",
   "execution_count": 6,
   "id": "1e8ecf4b",
   "metadata": {},
   "outputs": [
    {
     "data": {
      "application/vnd.microsoft.datawrangler.viewer.v0+json": {
       "columns": [
        {
         "name": "index",
         "rawType": "int64",
         "type": "integer"
        },
        {
         "name": "text_dream",
         "rawType": "object",
         "type": "string"
        },
        {
         "name": "Dream Symbol",
         "rawType": "object",
         "type": "string"
        }
       ],
       "conversionMethod": "pd.DataFrame",
       "ref": "cf4c3b86-13ee-4d73-b13b-8022aead6f5f",
       "rows": [
        [
         "1366",
         "I see a man sitting on the tail of a giant fish like it was a tourist boat. It stops. The man gets off to swim and explore. The fish leaves. He is left behind. He panics because he was left in prehistoric times. I hear a dinosaur roaring. He must hide to survive.",
         "Sea Creature,Mammoth,Manatee,Salamander,Sea Horse"
        ],
        [
         "1219",
         "I had two dreams about Michael. Both times he sat a short distance from me with his back to me. Then he moved closer and sat very near but not touching. I shyly reached out and rubbed his foot with my foot. I wanted us to be closer but I didn't make any moves to make it happen.",
         "Near Death Experience,Telekinesis,Haunted,Deja Vu,Ghost"
        ],
        [
         "20120",
         "I got up during the night for some reason, and before I came back to bed, my wife Bonita had gotten up too.  I told her she should go back to bed because she had to get up and go to work in the morning, but she stayed up and began to fix a snack, or read, or something.",
         "Nap,Pajamas,Up,Accident,Undress"
        ],
        [
         "5372",
         "Am aboard bus in a strange city and don't know whether he stops at my street or not. When the bus pauses, I reach for a green cord and pull it. Nothing happens. See two other cords and pull them, hoping a buzzer will buzz ... but no sound. Finally the bus stops and I get off.",
         "School Bus,Vertigo,Railroad Crossing,Earplugs,Reception"
        ],
        [
         "10220",
         "This girl was underwater. Some guy got her (they lived underwater) and some adventure happened and she was like \"How am I going to get back?\" and he sent her back through time or something. Some baby was in an envelope under the water and there was a hole in the bottom and water poured into it.",
         "Underwater,Waterbed,Waterslide,Ocean,Past Life"
        ]
       ],
       "shape": {
        "columns": 2,
        "rows": 5
       }
      },
      "text/html": [
       "<div>\n",
       "<style scoped>\n",
       "    .dataframe tbody tr th:only-of-type {\n",
       "        vertical-align: middle;\n",
       "    }\n",
       "\n",
       "    .dataframe tbody tr th {\n",
       "        vertical-align: top;\n",
       "    }\n",
       "\n",
       "    .dataframe thead th {\n",
       "        text-align: right;\n",
       "    }\n",
       "</style>\n",
       "<table border=\"1\" class=\"dataframe\">\n",
       "  <thead>\n",
       "    <tr style=\"text-align: right;\">\n",
       "      <th></th>\n",
       "      <th>text_dream</th>\n",
       "      <th>Dream Symbol</th>\n",
       "    </tr>\n",
       "  </thead>\n",
       "  <tbody>\n",
       "    <tr>\n",
       "      <th>1366</th>\n",
       "      <td>I see a man sitting on the tail of a giant fis...</td>\n",
       "      <td>Sea Creature,Mammoth,Manatee,Salamander,Sea Horse</td>\n",
       "    </tr>\n",
       "    <tr>\n",
       "      <th>1219</th>\n",
       "      <td>I had two dreams about Michael. Both times he ...</td>\n",
       "      <td>Near Death Experience,Telekinesis,Haunted,Deja...</td>\n",
       "    </tr>\n",
       "    <tr>\n",
       "      <th>20120</th>\n",
       "      <td>I got up during the night for some reason, and...</td>\n",
       "      <td>Nap,Pajamas,Up,Accident,Undress</td>\n",
       "    </tr>\n",
       "    <tr>\n",
       "      <th>5372</th>\n",
       "      <td>Am aboard bus in a strange city and don't know...</td>\n",
       "      <td>School Bus,Vertigo,Railroad Crossing,Earplugs,...</td>\n",
       "    </tr>\n",
       "    <tr>\n",
       "      <th>10220</th>\n",
       "      <td>This girl was underwater. Some guy got her (th...</td>\n",
       "      <td>Underwater,Waterbed,Waterslide,Ocean,Past Life</td>\n",
       "    </tr>\n",
       "  </tbody>\n",
       "</table>\n",
       "</div>"
      ],
      "text/plain": [
       "                                              text_dream  \\\n",
       "1366   I see a man sitting on the tail of a giant fis...   \n",
       "1219   I had two dreams about Michael. Both times he ...   \n",
       "20120  I got up during the night for some reason, and...   \n",
       "5372   Am aboard bus in a strange city and don't know...   \n",
       "10220  This girl was underwater. Some guy got her (th...   \n",
       "\n",
       "                                            Dream Symbol  \n",
       "1366   Sea Creature,Mammoth,Manatee,Salamander,Sea Horse  \n",
       "1219   Near Death Experience,Telekinesis,Haunted,Deja...  \n",
       "20120                    Nap,Pajamas,Up,Accident,Undress  \n",
       "5372   School Bus,Vertigo,Railroad Crossing,Earplugs,...  \n",
       "10220     Underwater,Waterbed,Waterslide,Ocean,Past Life  "
      ]
     },
     "execution_count": 6,
     "metadata": {},
     "output_type": "execute_result"
    }
   ],
   "source": [
    "exmpl"
   ]
  },
  {
   "cell_type": "code",
   "execution_count": 7,
   "id": "f8e51e4a",
   "metadata": {},
   "outputs": [
    {
     "data": {
      "text/plain": [
       "1366     Sea Creature,Mammoth,Manatee,Salamander,Sea Horse\n",
       "1219     Near Death Experience,Telekinesis,Haunted,Deja...\n",
       "20120                      Nap,Pajamas,Up,Accident,Undress\n",
       "5372     School Bus,Vertigo,Railroad Crossing,Earplugs,...\n",
       "10220       Underwater,Waterbed,Waterslide,Ocean,Past Life\n",
       "Name: Dream Symbol, dtype: object"
      ]
     },
     "execution_count": 7,
     "metadata": {},
     "output_type": "execute_result"
    }
   ],
   "source": [
    "exmpl[\"Dream Symbol\"]"
   ]
  },
  {
   "cell_type": "code",
   "execution_count": 8,
   "id": "3572d85a",
   "metadata": {},
   "outputs": [
    {
     "data": {
      "application/vnd.microsoft.datawrangler.viewer.v0+json": {
       "columns": [
        {
         "name": "index",
         "rawType": "int64",
         "type": "integer"
        },
        {
         "name": "prompt",
         "rawType": "object",
         "type": "string"
        },
        {
         "name": "dream",
         "rawType": "object",
         "type": "string"
        },
        {
         "name": "symbols",
         "rawType": "object",
         "type": "string"
        }
       ],
       "conversionMethod": "pd.DataFrame",
       "ref": "bc4ac823-7f50-4483-a84c-182e2ec1a824",
       "rows": [
        [
         "0",
         "Given dream description, interpret the meaning of the dream.  Provided also are the dream symbols that appear in the dream and their meanings.  Use the dream symbols meanings to help you interpret the dream. ",
         "I see a man sitting on the tail of a giant fish like it was a tourist boat. It stops. The man gets off to swim and explore. The fish leaves. He is left behind. He panics because he was left in prehistoric times. I hear a dinosaur roaring. He must hide to survive.",
         " - Mammoth:  To see a mammoth in your dream implies that you need to let go of some past emotions. You are letting your cold hard feelings control your behavior. Perhaps you are being too frigid. Alternatively, a mammoth symbolizes power, size and/or strength.\n - Manatee:  To see a manatee in your dream represents your passiveness in a situation. You are lacking ambition and drive. Alternatively, it represents someone in your life who is lazy, slow or gentle.\n - Salamander:  To see a salamander in your dream represents your ability to survive through shame, misfortune, and/or embarrassment. You will persevere through some adversity. Alternatively, the dream denotes your ability to resist temptations.\n - Sea Creature:  To see a sea creature in your dream represents an emotional transformation. If the sea creature is captured or in captivity, then it indicates that you are keeping your emotions contained, which can be harmful to your well-being in the end.\n - Sea Horse:  To see a sea horse in your dream represents the power of your subconscious. You have a new perspective or different outlook in life. If the sea horse is invisible, then it suggests that there is an emotional issue that you are not acknowledging or recognizing."
        ],
        [
         "1",
         "Given dream description, interpret the meaning of the dream.  Provided also are the dream symbols that appear in the dream and their meanings.  Use the dream symbols meanings to help you interpret the dream. ",
         "I had two dreams about Michael. Both times he sat a short distance from me with his back to me. Then he moved closer and sat very near but not touching. I shyly reached out and rubbed his foot with my foot. I wanted us to be closer but I didn't make any moves to make it happen.",
         " - Deja Vu:  To dream of Déjà Vu indicates some unresolved issue which you are not addressing or are refusing to acknowledge. It may also represent a message or word of advice that you need to heed.\n - Ghost:  To see a ghost in your dream represents something that is no longer obtainable or within reach. It indicates that you are feeling disconnected from life and society. Try to figure out what the ghost wants or what it is looking for. The dream may also be a calling for you to move on and abandon your outdated modes of thinking and behavior.\n - Haunted:  To dream that you are being haunted indicates early unpleasant traumas and repressed feelings or memories. You are experiencing some fear or guilt about your past activities and thoughts.\n - Near Death Experience:  To have a near death experience in your dream implies that you are experience a relapse of sorts. You are reverting back to your old habits and ways. Alternatively, the dream indicates that you are being given a second chance or second try at something.\n - Telekinesis:  To dream that you are telekinetic represents a higher level of awareness and consciousness. You are not utilizing your full potential and need to start putting your stored energy levels and mental abilities to use. In other words, you need to put your thoughts into action. For some, dreams of telekinetic powers may indicate your latent paranormal abilities."
        ],
        [
         "2",
         "Given dream description, interpret the meaning of the dream.  Provided also are the dream symbols that appear in the dream and their meanings.  Use the dream symbols meanings to help you interpret the dream. ",
         "I got up during the night for some reason, and before I came back to bed, my wife Bonita had gotten up too.  I told her she should go back to bed because she had to get up and go to work in the morning, but she stayed up and began to fix a snack, or read, or something.",
         " - Accident:  To dream that you are in an accident signifies pent-up guilt in which you are subconsciously punishing yourself over. Perhaps you are not proud of something you have done. Alternatively, the accident may symbolize an error or mistake you have made. Accident dreams also represent your fears of being in an actual, physical accident. You may simply be nervous about getting behind the wheel. Or the dream is trying to warn you of some accident.\n - Nap:  To dream that you are taking a nap suggests that you need to take a little time off to relax and take it easy. Give yourself a break.\n - Pajamas:  To see or wear pajamas in your dream suggests that you need to relax and get some rest. In particular, if you dream that you are wearing pajamas in public, then it means that you are unaware of something important that may be right in front of you. You are drifting through life without fully paying attention to what is going on around you.\n - Undress:  To dream that you are undressing suggests that you need to reveal your true feelings and be open about them. Alternatively, undressing indicates your connection and comfort level with your sexuality. To see someone undressing in your dream indicates that you need to be aware of other people's feelings. If you are undressing someone else, then it suggests you are trying to gain a better understanding of that person. Dreaming that someone is undressing you implies that you are placing complete trust in this person. You are opening yourself up to a new situation and allowing yourself to be vulnerable.\n - Up:  To dream of being or moving up suggests that you are emerging from some depressing or negative situation. You may be feeling high or euphoric. The dream may also compensate for your waking feelings of sadness. Alternatively, it signifies that your ego is inflated. Or that you are experiencing upward mobility or progressing toward your goals. According to Jung, the dream parallels some material or repressed thoughts that may be emerging from your unconscious."
        ],
        [
         "3",
         "Given dream description, interpret the meaning of the dream.  Provided also are the dream symbols that appear in the dream and their meanings.  Use the dream symbols meanings to help you interpret the dream. ",
         "Am aboard bus in a strange city and don't know whether he stops at my street or not. When the bus pauses, I reach for a green cord and pull it. Nothing happens. See two other cords and pull them, hoping a buzzer will buzz ... but no sound. Finally the bus stops and I get off.",
         " - Earplugs:  To dream that you are wearing or putting on earplugs suggests that there is something that you are refusing to hear or believe. Alternatively, the dream may mean that you are isolating yourself from others.\n - Railroad Crossing:  To see a railroad crossing gate in your dream symbolizes temporary setbacks toward achieving your goals, especially if the gate is going down. If the gate is up, then it means that you have overcome certain obstacles in your life. You are not letting something or someone get in your way of your goals.\n - Reception:  To dream that you are attending a reception represents togetherness and social gatherings. The dream may parallel your social calendar. Alternatively, the dream could be a pun that you need to be more 'receptive' to some new idea, situation, relationship or person.\n - School Bus:  To see or ride a school bus in your dream suggests that you are about to venture on an important life journey needed for your own personal growth.\n - Vertigo:  To dream that you have vertigo indicates an imbalance and lack of confidence in some situation. You are experiencing feelings of anxiety and discomfort."
        ],
        [
         "4",
         "Given dream description, interpret the meaning of the dream.  Provided also are the dream symbols that appear in the dream and their meanings.  Use the dream symbols meanings to help you interpret the dream. ",
         "This girl was underwater. Some guy got her (they lived underwater) and some adventure happened and she was like \"How am I going to get back?\" and he sent her back through time or something. Some baby was in an envelope under the water and there was a hole in the bottom and water poured into it.",
         " - Ocean:  To see an ocean in your dream represents the state of your emotions and feelings. It is indicative of spiritual refreshment, tranquility and renewal. Alternatively, the dream means that you are feeling empowered and unhindered. You have a positive outlook in life and are not limited by anything. If you are sailing across the ocean, then it signifies new found freedom and independence. You are showing great courage. If the ocean is rough, then the dream represents some emotional turmoil. You are doing your best to handle life's ups and downs.\n - Past Life:  To dream that you have a past life indicates greater awareness of your subconscious. You are seeking for better understand of your Self and of your origins. The past life may reflect an actual past life or it may be the life that your parents or grandparents or ancestors were living. Alternatively, the dream refers to previous lessons that you can learn from. You are open to rectifying current issues in order to move forward.\n - Underwater:  To dream that you are underwater suggests that you are being overcome with emotions and are in over your head regarding some situation. You need to gain greater control of your life. To dream that you are breathing underwater represents a retreat back into the womb. You want to return to a state where you were dependent and free from responsibilities. Perhaps you are feeling helpless, unable to fulfill your own needs and to care for yourself. Alternatively, breathing underwater is analogous to being submerged in your own emotions. To see houses under water implies that you are very comfortable with your own emotions. Alternatively, the dream may be a reflection of your housing situation. Perhaps you are 'underwater' in your mortgage. To dream of an underwater city represents your subconscious. Through deeper understanding of yourself, you find commonality and shared experiences with others. To see objects underwater in your dream symbolizes your suppressed feelings as represented by the objects. The objects may trigger some emotional memory which you still need to confront and work through. For example, children's toys or bicycles refer to an emotion that you suppressed in childhood. To see a car underwater in your dream points to feelings of regret or sadness over an abandoned goal. Dreaming that you are flying underwater represents control over your emotions. You are comfortable with confronting your feelings directly.\n - Waterbed:  To see a waterbed in our dream suggests that you are slowly acknowledging aspects of your subconscious. You are recognizing certain unexpressed energy, particularly issues dealing with sexuality, fear, aggression, etc.\n - Waterslide:  To dream that you are on or see a waterslide suggests that you are being carried away by your emotions. You are being engulfed by your subconscious. Alternatively, the dream indicates that you are going with the flow of things without any objection or resistance."
        ]
       ],
       "shape": {
        "columns": 3,
        "rows": 5
       }
      },
      "text/html": [
       "<div>\n",
       "<style scoped>\n",
       "    .dataframe tbody tr th:only-of-type {\n",
       "        vertical-align: middle;\n",
       "    }\n",
       "\n",
       "    .dataframe tbody tr th {\n",
       "        vertical-align: top;\n",
       "    }\n",
       "\n",
       "    .dataframe thead th {\n",
       "        text-align: right;\n",
       "    }\n",
       "</style>\n",
       "<table border=\"1\" class=\"dataframe\">\n",
       "  <thead>\n",
       "    <tr style=\"text-align: right;\">\n",
       "      <th></th>\n",
       "      <th>prompt</th>\n",
       "      <th>dream</th>\n",
       "      <th>symbols</th>\n",
       "    </tr>\n",
       "  </thead>\n",
       "  <tbody>\n",
       "    <tr>\n",
       "      <th>0</th>\n",
       "      <td>Given dream description, interpret the meaning...</td>\n",
       "      <td>I see a man sitting on the tail of a giant fis...</td>\n",
       "      <td>- Mammoth:  To see a mammoth in your dream im...</td>\n",
       "    </tr>\n",
       "    <tr>\n",
       "      <th>1</th>\n",
       "      <td>Given dream description, interpret the meaning...</td>\n",
       "      <td>I had two dreams about Michael. Both times he ...</td>\n",
       "      <td>- Deja Vu:  To dream of Déjà Vu indicates som...</td>\n",
       "    </tr>\n",
       "    <tr>\n",
       "      <th>2</th>\n",
       "      <td>Given dream description, interpret the meaning...</td>\n",
       "      <td>I got up during the night for some reason, and...</td>\n",
       "      <td>- Accident:  To dream that you are in an acci...</td>\n",
       "    </tr>\n",
       "    <tr>\n",
       "      <th>3</th>\n",
       "      <td>Given dream description, interpret the meaning...</td>\n",
       "      <td>Am aboard bus in a strange city and don't know...</td>\n",
       "      <td>- Earplugs:  To dream that you are wearing or...</td>\n",
       "    </tr>\n",
       "    <tr>\n",
       "      <th>4</th>\n",
       "      <td>Given dream description, interpret the meaning...</td>\n",
       "      <td>This girl was underwater. Some guy got her (th...</td>\n",
       "      <td>- Ocean:  To see an ocean in your dream repre...</td>\n",
       "    </tr>\n",
       "  </tbody>\n",
       "</table>\n",
       "</div>"
      ],
      "text/plain": [
       "                                              prompt  \\\n",
       "0  Given dream description, interpret the meaning...   \n",
       "1  Given dream description, interpret the meaning...   \n",
       "2  Given dream description, interpret the meaning...   \n",
       "3  Given dream description, interpret the meaning...   \n",
       "4  Given dream description, interpret the meaning...   \n",
       "\n",
       "                                               dream  \\\n",
       "0  I see a man sitting on the tail of a giant fis...   \n",
       "1  I had two dreams about Michael. Both times he ...   \n",
       "2  I got up during the night for some reason, and...   \n",
       "3  Am aboard bus in a strange city and don't know...   \n",
       "4  This girl was underwater. Some guy got her (th...   \n",
       "\n",
       "                                             symbols  \n",
       "0   - Mammoth:  To see a mammoth in your dream im...  \n",
       "1   - Deja Vu:  To dream of Déjà Vu indicates som...  \n",
       "2   - Accident:  To dream that you are in an acci...  \n",
       "3   - Earplugs:  To dream that you are wearing or...  \n",
       "4   - Ocean:  To see an ocean in your dream repre...  "
      ]
     },
     "execution_count": 8,
     "metadata": {},
     "output_type": "execute_result"
    }
   ],
   "source": [
    "dataset = []\n",
    "\n",
    "prmt = \"\"\"Given dream description, interpret the meaning of the dream. \n",
    "Provided also are the dream symbols that appear in the dream and their meanings. \n",
    "Use the dream symbols meanings to help you interpret the dream. \"\"\".replace(\"\\n\", \" \")\n",
    "\n",
    "rs = 42\n",
    "\n",
    "for i, ex in exmpl.iterrows():\n",
    "    #print(ex)\n",
    "    keys = ex[\"Dream Symbol\"].split(\",\")[:5]\n",
    "    \n",
    "    #print(keys)\n",
    "    syms = keywords_df[keywords_df[\"Dream Symbol\"].isin(keys)]\n",
    "\n",
    "    descr = syms.apply(lambda r: f' - {r[\"Dream Symbol\"]}:  {r[\"Interpretation\"]}', axis = 1)\n",
    "    item = {\n",
    "        \"prompt\": prmt, \n",
    "        \"dream\": ex[\"text_dream\"],\n",
    "        \"symbols\": \"\\n\".join(descr),\n",
    "        }\n",
    "    dataset.append(item)\n",
    "    rs += 1\n",
    "    \n",
    "\n",
    "dataset = pd.DataFrame(dataset)\n",
    "dataset\n"
   ]
  },
  {
   "cell_type": "markdown",
   "id": "4e117bdf",
   "metadata": {},
   "source": [
    "### Summarize with flan-T5-large model"
   ]
  },
  {
   "cell_type": "code",
   "execution_count": 11,
   "id": "ccb75fd2",
   "metadata": {},
   "outputs": [
    {
     "name": "stdout",
     "output_type": "stream",
     "text": [
      "clearing cuda cache\n",
      "clearing ipc cache\n",
      "✅ All GPU memory cleared.\n"
     ]
    }
   ],
   "source": [
    "release_all_gpu_memory()"
   ]
  },
  {
   "cell_type": "code",
   "execution_count": null,
   "id": "16073714",
   "metadata": {},
   "outputs": [],
   "source": [
    "# Step 1: Load FLAN-T5 model and tokenizer\n",
    "model_name = \"google/flan-t5-large\"\n",
    "model_name_short = model_name.split(\"/\")[-1]\n",
    "device = 0 if torch.cuda.is_available() else -1\n",
    "model, tokenizer = load_causal_model(model_name)"
   ]
  },
  {
   "cell_type": "code",
   "execution_count": 13,
   "id": "034d08aa",
   "metadata": {},
   "outputs": [
    {
     "name": "stderr",
     "output_type": "stream",
     "text": [
      "Device set to use cuda:0\n"
     ]
    }
   ],
   "source": [
    "text2text_generator = pipeline(\n",
    "        \"text2text-generation\",\n",
    "        model=model,\n",
    "        tokenizer=tokenizer,\n",
    "        max_length=1024,           # ✅ allow longer input\n",
    "        truncation=True,           # ✅ ensure truncation at tokenizer level\n",
    "        device=device,\n",
    "    )"
   ]
  },
  {
   "cell_type": "code",
   "execution_count": 17,
   "id": "6d3b2a8e",
   "metadata": {},
   "outputs": [
    {
     "name": "stderr",
     "output_type": "stream",
     "text": [
      "Generating Interpretations:   0%|          | 0/5 [00:00<?, ?it/s]Ignoring args : ({'max_length': 250},)\n",
      "Generating Interpretations:  20%|██        | 1/5 [00:00<00:03,  1.19it/s]Ignoring args : ({'max_length': 250},)\n",
      "Generating Interpretations:  40%|████      | 2/5 [00:01<00:01,  1.89it/s]Ignoring args : ({'max_length': 250},)\n",
      "Generating Interpretations:  60%|██████    | 3/5 [00:01<00:00,  2.94it/s]Ignoring args : ({'max_length': 250},)\n"
     ]
    },
    {
     "name": "stdout",
     "output_type": "stream",
     "text": [
      "⚠️ Prompt truncated: 569 tokens (limit = 512)\n"
     ]
    },
    {
     "name": "stderr",
     "output_type": "stream",
     "text": [
      "Generating Interpretations:  80%|████████  | 4/5 [00:01<00:00,  3.57it/s]Ignoring args : ({'max_length': 250},)\n"
     ]
    },
    {
     "name": "stdout",
     "output_type": "stream",
     "text": [
      "⚠️ Prompt truncated: 729 tokens (limit = 512)\n"
     ]
    },
    {
     "name": "stderr",
     "output_type": "stream",
     "text": [
      "Generating Interpretations: 100%|██████████| 5/5 [00:02<00:00,  2.04it/s]\n"
     ]
    }
   ],
   "source": [
    "tstp = datetime.now().strftime(r\"%y.%m.%d-%H\")\n",
    "result_df = batch_generate_interpretations(dataset, text2text_generator, batch_size=1, max_length=250)\n"
   ]
  },
  {
   "cell_type": "code",
   "execution_count": null,
   "id": "b868a34a",
   "metadata": {},
   "outputs": [],
   "source": [
    "postproc = lambda out: out[\"generated_text\"].strip()\n",
    "result_df[\"interpretation\"] = result_df[\"interpretation\"].apply(postproc)\n"
   ]
  },
  {
   "cell_type": "code",
   "execution_count": 18,
   "id": "b435acdf",
   "metadata": {},
   "outputs": [
    {
     "data": {
      "application/vnd.microsoft.datawrangler.viewer.v0+json": {
       "columns": [
        {
         "name": "index",
         "rawType": "int64",
         "type": "integer"
        },
        {
         "name": "prompt",
         "rawType": "object",
         "type": "string"
        },
        {
         "name": "dream",
         "rawType": "object",
         "type": "string"
        },
        {
         "name": "symbols",
         "rawType": "object",
         "type": "string"
        },
        {
         "name": "interpretation",
         "rawType": "object",
         "type": "unknown"
        }
       ],
       "conversionMethod": "pd.DataFrame",
       "ref": "2ec288da-05a7-4bac-bd06-2b61a844c719",
       "rows": [
        [
         "0",
         "Given dream description, interpret the meaning of the dream.  Provided also are the dream symbols that appear in the dream and their meanings.  Use the dream symbols meanings to help you interpret the dream. ",
         "I see a man sitting on the tail of a giant fish like it was a tourist boat. It stops. The man gets off to swim and explore. The fish leaves. He is left behind. He panics because he was left in prehistoric times. I hear a dinosaur roaring. He must hide to survive.",
         " - Mammoth:  To see a mammoth in your dream implies that you need to let go of some past emotions. You are letting your cold hard feelings control your behavior. Perhaps you are being too frigid. Alternatively, a mammoth symbolizes power, size and/or strength.\n - Manatee:  To see a manatee in your dream represents your passiveness in a situation. You are lacking ambition and drive. Alternatively, it represents someone in your life who is lazy, slow or gentle.\n - Salamander:  To see a salamander in your dream represents your ability to survive through shame, misfortune, and/or embarrassment. You will persevere through some adversity. Alternatively, the dream denotes your ability to resist temptations.\n - Sea Creature:  To see a sea creature in your dream represents an emotional transformation. If the sea creature is captured or in captivity, then it indicates that you are keeping your emotions contained, which can be harmful to your well-being in the end.\n - Sea Horse:  To see a sea horse in your dream represents the power of your subconscious. You have a new perspective or different outlook in life. If the sea horse is invisible, then it suggests that there is an emotional issue that you are not acknowledging or recognizing.",
         "{'generated_text': 'A man is sitting on the tail of a giant fish. He gets off to swim and explore. The fish stops. He gets off to swim and explore. The fish leaves. He is left behind. He panics because he was left in prehistoric times. He hears a dinosaur roaring. He must hide to survive.'}"
        ],
        [
         "1",
         "Given dream description, interpret the meaning of the dream.  Provided also are the dream symbols that appear in the dream and their meanings.  Use the dream symbols meanings to help you interpret the dream. ",
         "I had two dreams about Michael. Both times he sat a short distance from me with his back to me. Then he moved closer and sat very near but not touching. I shyly reached out and rubbed his foot with my foot. I wanted us to be closer but I didn't make any moves to make it happen.",
         " - Deja Vu:  To dream of Déjà Vu indicates some unresolved issue which you are not addressing or are refusing to acknowledge. It may also represent a message or word of advice that you need to heed.\n - Ghost:  To see a ghost in your dream represents something that is no longer obtainable or within reach. It indicates that you are feeling disconnected from life and society. Try to figure out what the ghost wants or what it is looking for. The dream may also be a calling for you to move on and abandon your outdated modes of thinking and behavior.\n - Haunted:  To dream that you are being haunted indicates early unpleasant traumas and repressed feelings or memories. You are experiencing some fear or guilt about your past activities and thoughts.\n - Near Death Experience:  To have a near death experience in your dream implies that you are experience a relapse of sorts. You are reverting back to your old habits and ways. Alternatively, the dream indicates that you are being given a second chance or second try at something.\n - Telekinesis:  To dream that you are telekinetic represents a higher level of awareness and consciousness. You are not utilizing your full potential and need to start putting your stored energy levels and mental abilities to use. In other words, you need to put your thoughts into action. For some, dreams of telekinetic powers may indicate your latent paranormal abilities.",
         "{'generated_text': 'Michael is a close friend of mine. He is a ghost. He is a ghost.'}"
        ],
        [
         "2",
         "Given dream description, interpret the meaning of the dream.  Provided also are the dream symbols that appear in the dream and their meanings.  Use the dream symbols meanings to help you interpret the dream. ",
         "I got up during the night for some reason, and before I came back to bed, my wife Bonita had gotten up too.  I told her she should go back to bed because she had to get up and go to work in the morning, but she stayed up and began to fix a snack, or read, or something.",
         " - Accident:  To dream that you are in an accident signifies pent-up guilt in which you are subconsciously punishing yourself over. Perhaps you are not proud of something you have done. Alternatively, the accident may symbolize an error or mistake you have made. Accident dreams also represent your fears of being in an actual, physical accident. You may simply be nervous about getting behind the wheel. Or the dream is trying to warn you of some accident.\n - Nap:  To dream that you are taking a nap suggests that you need to take a little time off to relax and take it easy. Give yourself a break.\n - Pajamas:  To see or wear pajamas in your dream suggests that you need to relax and get some rest. In particular, if you dream that you are wearing pajamas in public, then it means that you are unaware of something important that may be right in front of you. You are drifting through life without fully paying attention to what is going on around you.\n - Undress:  To dream that you are undressing suggests that you need to reveal your true feelings and be open about them. Alternatively, undressing indicates your connection and comfort level with your sexuality. To see someone undressing in your dream indicates that you need to be aware of other people's feelings. If you are undressing someone else, then it suggests you are trying to gain a better understanding of that person. Dreaming that someone is undressing you implies that you are placing complete trust in this person. You are opening yourself up to a new situation and allowing yourself to be vulnerable.\n - Up:  To dream of being or moving up suggests that you are emerging from some depressing or negative situation. You may be feeling high or euphoric. The dream may also compensate for your waking feelings of sadness. Alternatively, it signifies that your ego is inflated. Or that you are experiencing upward mobility or progressing toward your goals. According to Jung, the dream parallels some material or repressed thoughts that may be emerging from your unconscious.",
         "{'generated_text': 'Up'}"
        ],
        [
         "3",
         "Given dream description, interpret the meaning of the dream.  Provided also are the dream symbols that appear in the dream and their meanings.  Use the dream symbols meanings to help you interpret the dream. ",
         "Am aboard bus in a strange city and don't know whether he stops at my street or not. When the bus pauses, I reach for a green cord and pull it. Nothing happens. See two other cords and pull them, hoping a buzzer will buzz ... but no sound. Finally the bus stops and I get off.",
         " - Earplugs:  To dream that you are wearing or putting on earplugs suggests that there is something that you are refusing to hear or believe. Alternatively, the dream may mean that you are isolating yourself from others.\n - Railroad Crossing:  To see a railroad crossing gate in your dream symbolizes temporary setbacks toward achieving your goals, especially if the gate is going down. If the gate is up, then it means that you have overcome certain obstacles in your life. You are not letting something or someone get in your way of your goals.\n - Reception:  To dream that you are attending a reception represents togetherness and social gatherings. The dream may parallel your social calendar. Alternatively, the dream could be a pun that you need to be more 'receptive' to some new idea, situation, relationship or person.\n - School Bus:  To see or ride a school bus in your dream suggests that you are about to venture on an important life journey needed for your own personal growth.\n - Vertigo:  To dream that you have vertigo indicates an imbalance and lack of confidence in some situation. You are experiencing feelings of anxiety and discomfort.",
         "{'generated_text': 'A school bus in a strange city.'}"
        ],
        [
         "4",
         "Given dream description, interpret the meaning of the dream.  Provided also are the dream symbols that appear in the dream and their meanings.  Use the dream symbols meanings to help you interpret the dream. ",
         "This girl was underwater. Some guy got her (they lived underwater) and some adventure happened and she was like \"How am I going to get back?\" and he sent her back through time or something. Some baby was in an envelope under the water and there was a hole in the bottom and water poured into it.",
         " - Ocean:  To see an ocean in your dream represents the state of your emotions and feelings. It is indicative of spiritual refreshment, tranquility and renewal. Alternatively, the dream means that you are feeling empowered and unhindered. You have a positive outlook in life and are not limited by anything. If you are sailing across the ocean, then it signifies new found freedom and independence. You are showing great courage. If the ocean is rough, then the dream represents some emotional turmoil. You are doing your best to handle life's ups and downs.\n - Past Life:  To dream that you have a past life indicates greater awareness of your subconscious. You are seeking for better understand of your Self and of your origins. The past life may reflect an actual past life or it may be the life that your parents or grandparents or ancestors were living. Alternatively, the dream refers to previous lessons that you can learn from. You are open to rectifying current issues in order to move forward.\n - Underwater:  To dream that you are underwater suggests that you are being overcome with emotions and are in over your head regarding some situation. You need to gain greater control of your life. To dream that you are breathing underwater represents a retreat back into the womb. You want to return to a state where you were dependent and free from responsibilities. Perhaps you are feeling helpless, unable to fulfill your own needs and to care for yourself. Alternatively, breathing underwater is analogous to being submerged in your own emotions. To see houses under water implies that you are very comfortable with your own emotions. Alternatively, the dream may be a reflection of your housing situation. Perhaps you are 'underwater' in your mortgage. To dream of an underwater city represents your subconscious. Through deeper understanding of yourself, you find commonality and shared experiences with others. To see objects underwater in your dream symbolizes your suppressed feelings as represented by the objects. The objects may trigger some emotional memory which you still need to confront and work through. For example, children's toys or bicycles refer to an emotion that you suppressed in childhood. To see a car underwater in your dream points to feelings of regret or sadness over an abandoned goal. Dreaming that you are flying underwater represents control over your emotions. You are comfortable with confronting your feelings directly.\n - Waterbed:  To see a waterbed in our dream suggests that you are slowly acknowledging aspects of your subconscious. You are recognizing certain unexpressed energy, particularly issues dealing with sexuality, fear, aggression, etc.\n - Waterslide:  To dream that you are on or see a waterslide suggests that you are being carried away by your emotions. You are being engulfed by your subconscious. Alternatively, the dream indicates that you are going with the flow of things without any objection or resistance.",
         "{'generated_text': \"dream that you have a past life indicates greater awareness of your subconscious. You are seeking for better understand of your Self and of your origins. The past life may reflect an actual past life or it may be the life that your parents or grandparents or ancestors were living. Alternatively, the dream may be a reflection of your housing situation. Perhaps you are 'underwater' in your mortgage.\"}"
        ]
       ],
       "shape": {
        "columns": 4,
        "rows": 5
       }
      },
      "text/html": [
       "<div>\n",
       "<style scoped>\n",
       "    .dataframe tbody tr th:only-of-type {\n",
       "        vertical-align: middle;\n",
       "    }\n",
       "\n",
       "    .dataframe tbody tr th {\n",
       "        vertical-align: top;\n",
       "    }\n",
       "\n",
       "    .dataframe thead th {\n",
       "        text-align: right;\n",
       "    }\n",
       "</style>\n",
       "<table border=\"1\" class=\"dataframe\">\n",
       "  <thead>\n",
       "    <tr style=\"text-align: right;\">\n",
       "      <th></th>\n",
       "      <th>prompt</th>\n",
       "      <th>dream</th>\n",
       "      <th>symbols</th>\n",
       "      <th>interpretation</th>\n",
       "    </tr>\n",
       "  </thead>\n",
       "  <tbody>\n",
       "    <tr>\n",
       "      <th>0</th>\n",
       "      <td>Given dream description, interpret the meaning...</td>\n",
       "      <td>I see a man sitting on the tail of a giant fis...</td>\n",
       "      <td>- Mammoth:  To see a mammoth in your dream im...</td>\n",
       "      <td>{'generated_text': 'A man is sitting on the ta...</td>\n",
       "    </tr>\n",
       "    <tr>\n",
       "      <th>1</th>\n",
       "      <td>Given dream description, interpret the meaning...</td>\n",
       "      <td>I had two dreams about Michael. Both times he ...</td>\n",
       "      <td>- Deja Vu:  To dream of Déjà Vu indicates som...</td>\n",
       "      <td>{'generated_text': 'Michael is a close friend ...</td>\n",
       "    </tr>\n",
       "    <tr>\n",
       "      <th>2</th>\n",
       "      <td>Given dream description, interpret the meaning...</td>\n",
       "      <td>I got up during the night for some reason, and...</td>\n",
       "      <td>- Accident:  To dream that you are in an acci...</td>\n",
       "      <td>{'generated_text': 'Up'}</td>\n",
       "    </tr>\n",
       "    <tr>\n",
       "      <th>3</th>\n",
       "      <td>Given dream description, interpret the meaning...</td>\n",
       "      <td>Am aboard bus in a strange city and don't know...</td>\n",
       "      <td>- Earplugs:  To dream that you are wearing or...</td>\n",
       "      <td>{'generated_text': 'A school bus in a strange ...</td>\n",
       "    </tr>\n",
       "    <tr>\n",
       "      <th>4</th>\n",
       "      <td>Given dream description, interpret the meaning...</td>\n",
       "      <td>This girl was underwater. Some guy got her (th...</td>\n",
       "      <td>- Ocean:  To see an ocean in your dream repre...</td>\n",
       "      <td>{'generated_text': 'dream that you have a past...</td>\n",
       "    </tr>\n",
       "  </tbody>\n",
       "</table>\n",
       "</div>"
      ],
      "text/plain": [
       "                                              prompt  \\\n",
       "0  Given dream description, interpret the meaning...   \n",
       "1  Given dream description, interpret the meaning...   \n",
       "2  Given dream description, interpret the meaning...   \n",
       "3  Given dream description, interpret the meaning...   \n",
       "4  Given dream description, interpret the meaning...   \n",
       "\n",
       "                                               dream  \\\n",
       "0  I see a man sitting on the tail of a giant fis...   \n",
       "1  I had two dreams about Michael. Both times he ...   \n",
       "2  I got up during the night for some reason, and...   \n",
       "3  Am aboard bus in a strange city and don't know...   \n",
       "4  This girl was underwater. Some guy got her (th...   \n",
       "\n",
       "                                             symbols  \\\n",
       "0   - Mammoth:  To see a mammoth in your dream im...   \n",
       "1   - Deja Vu:  To dream of Déjà Vu indicates som...   \n",
       "2   - Accident:  To dream that you are in an acci...   \n",
       "3   - Earplugs:  To dream that you are wearing or...   \n",
       "4   - Ocean:  To see an ocean in your dream repre...   \n",
       "\n",
       "                                      interpretation  \n",
       "0  {'generated_text': 'A man is sitting on the ta...  \n",
       "1  {'generated_text': 'Michael is a close friend ...  \n",
       "2                           {'generated_text': 'Up'}  \n",
       "3  {'generated_text': 'A school bus in a strange ...  \n",
       "4  {'generated_text': 'dream that you have a past...  "
      ]
     },
     "execution_count": 18,
     "metadata": {},
     "output_type": "execute_result"
    }
   ],
   "source": [
    "result_df"
   ]
  },
  {
   "cell_type": "code",
   "execution_count": 19,
   "id": "5019cae1",
   "metadata": {},
   "outputs": [
    {
     "data": {
      "text/plain": [
       "Index(['prompt', 'dream', 'symbols', 'interpretation'], dtype='object')"
      ]
     },
     "execution_count": 19,
     "metadata": {},
     "output_type": "execute_result"
    }
   ],
   "source": [
    "result_df.columns"
   ]
  },
  {
   "cell_type": "code",
   "execution_count": null,
   "id": "f42a0964",
   "metadata": {},
   "outputs": [
    {
     "name": "stdout",
     "output_type": "stream",
     "text": [
      "✅ HTML table saved to: output/flan-t5-large_25.04.17-15.html\n"
     ]
    }
   ],
   "source": [
    "save_df = result_df[['prompt', 'symbols','dream', 'interpretation']]\n",
    "\n",
    "path = f\"output/{model_name_short}_{tstp}\"\n",
    "\n",
    "save_df_as_pretty_html(save_df, path + \".html\")\n",
    "\n",
    "save_df.to_csv(path + \".csv\")"
   ]
  },
  {
   "cell_type": "code",
   "execution_count": 23,
   "id": "e78ec2c5",
   "metadata": {},
   "outputs": [
    {
     "data": {
      "text/plain": [
       "0    1\n",
       "1    1\n",
       "2    1\n",
       "3    1\n",
       "4    1\n",
       "Name: interpretation, dtype: int64"
      ]
     },
     "execution_count": 23,
     "metadata": {},
     "output_type": "execute_result"
    }
   ],
   "source": [
    "result_df.interpretation.str.len()"
   ]
  },
  {
   "cell_type": "markdown",
   "id": "3da433d4",
   "metadata": {},
   "source": [
    "### Summarize with Mistral model"
   ]
  },
  {
   "cell_type": "code",
   "execution_count": 10,
   "id": "607f318b",
   "metadata": {},
   "outputs": [],
   "source": [
    "from summarizer import load_mistral_4bit_model"
   ]
  },
  {
   "cell_type": "code",
   "execution_count": 11,
   "id": "b50747c8",
   "metadata": {},
   "outputs": [
    {
     "data": {
      "application/vnd.microsoft.datawrangler.viewer.v0+json": {
       "columns": [
        {
         "name": "index",
         "rawType": "int64",
         "type": "integer"
        },
        {
         "name": "prompt",
         "rawType": "object",
         "type": "string"
        },
        {
         "name": "dream",
         "rawType": "object",
         "type": "string"
        },
        {
         "name": "symbols",
         "rawType": "object",
         "type": "string"
        }
       ],
       "conversionMethod": "pd.DataFrame",
       "ref": "87199a56-cbac-4e93-bb6b-3c8df5e55d79",
       "rows": [
        [
         "0",
         "Given dream description, interpret the meaning of the dream.  Provided also are the dream symbols that appear in the dream and their meanings.  Use the dream symbols meanings to help you interpret the dream. ",
         "I see a man sitting on the tail of a giant fish like it was a tourist boat. It stops. The man gets off to swim and explore. The fish leaves. He is left behind. He panics because he was left in prehistoric times. I hear a dinosaur roaring. He must hide to survive.",
         " - Mammoth:  To see a mammoth in your dream implies that you need to let go of some past emotions. You are letting your cold hard feelings control your behavior. Perhaps you are being too frigid. Alternatively, a mammoth symbolizes power, size and/or strength.\n - Manatee:  To see a manatee in your dream represents your passiveness in a situation. You are lacking ambition and drive. Alternatively, it represents someone in your life who is lazy, slow or gentle.\n - Salamander:  To see a salamander in your dream represents your ability to survive through shame, misfortune, and/or embarrassment. You will persevere through some adversity. Alternatively, the dream denotes your ability to resist temptations.\n - Sea Creature:  To see a sea creature in your dream represents an emotional transformation. If the sea creature is captured or in captivity, then it indicates that you are keeping your emotions contained, which can be harmful to your well-being in the end.\n - Sea Horse:  To see a sea horse in your dream represents the power of your subconscious. You have a new perspective or different outlook in life. If the sea horse is invisible, then it suggests that there is an emotional issue that you are not acknowledging or recognizing."
        ],
        [
         "1",
         "Given dream description, interpret the meaning of the dream.  Provided also are the dream symbols that appear in the dream and their meanings.  Use the dream symbols meanings to help you interpret the dream. ",
         "I had two dreams about Michael. Both times he sat a short distance from me with his back to me. Then he moved closer and sat very near but not touching. I shyly reached out and rubbed his foot with my foot. I wanted us to be closer but I didn't make any moves to make it happen.",
         " - Deja Vu:  To dream of Déjà Vu indicates some unresolved issue which you are not addressing or are refusing to acknowledge. It may also represent a message or word of advice that you need to heed.\n - Ghost:  To see a ghost in your dream represents something that is no longer obtainable or within reach. It indicates that you are feeling disconnected from life and society. Try to figure out what the ghost wants or what it is looking for. The dream may also be a calling for you to move on and abandon your outdated modes of thinking and behavior.\n - Haunted:  To dream that you are being haunted indicates early unpleasant traumas and repressed feelings or memories. You are experiencing some fear or guilt about your past activities and thoughts.\n - Near Death Experience:  To have a near death experience in your dream implies that you are experience a relapse of sorts. You are reverting back to your old habits and ways. Alternatively, the dream indicates that you are being given a second chance or second try at something.\n - Telekinesis:  To dream that you are telekinetic represents a higher level of awareness and consciousness. You are not utilizing your full potential and need to start putting your stored energy levels and mental abilities to use. In other words, you need to put your thoughts into action. For some, dreams of telekinetic powers may indicate your latent paranormal abilities."
        ],
        [
         "2",
         "Given dream description, interpret the meaning of the dream.  Provided also are the dream symbols that appear in the dream and their meanings.  Use the dream symbols meanings to help you interpret the dream. ",
         "I got up during the night for some reason, and before I came back to bed, my wife Bonita had gotten up too.  I told her she should go back to bed because she had to get up and go to work in the morning, but she stayed up and began to fix a snack, or read, or something.",
         " - Accident:  To dream that you are in an accident signifies pent-up guilt in which you are subconsciously punishing yourself over. Perhaps you are not proud of something you have done. Alternatively, the accident may symbolize an error or mistake you have made. Accident dreams also represent your fears of being in an actual, physical accident. You may simply be nervous about getting behind the wheel. Or the dream is trying to warn you of some accident.\n - Nap:  To dream that you are taking a nap suggests that you need to take a little time off to relax and take it easy. Give yourself a break.\n - Pajamas:  To see or wear pajamas in your dream suggests that you need to relax and get some rest. In particular, if you dream that you are wearing pajamas in public, then it means that you are unaware of something important that may be right in front of you. You are drifting through life without fully paying attention to what is going on around you.\n - Undress:  To dream that you are undressing suggests that you need to reveal your true feelings and be open about them. Alternatively, undressing indicates your connection and comfort level with your sexuality. To see someone undressing in your dream indicates that you need to be aware of other people's feelings. If you are undressing someone else, then it suggests you are trying to gain a better understanding of that person. Dreaming that someone is undressing you implies that you are placing complete trust in this person. You are opening yourself up to a new situation and allowing yourself to be vulnerable.\n - Up:  To dream of being or moving up suggests that you are emerging from some depressing or negative situation. You may be feeling high or euphoric. The dream may also compensate for your waking feelings of sadness. Alternatively, it signifies that your ego is inflated. Or that you are experiencing upward mobility or progressing toward your goals. According to Jung, the dream parallels some material or repressed thoughts that may be emerging from your unconscious."
        ],
        [
         "3",
         "Given dream description, interpret the meaning of the dream.  Provided also are the dream symbols that appear in the dream and their meanings.  Use the dream symbols meanings to help you interpret the dream. ",
         "Am aboard bus in a strange city and don't know whether he stops at my street or not. When the bus pauses, I reach for a green cord and pull it. Nothing happens. See two other cords and pull them, hoping a buzzer will buzz ... but no sound. Finally the bus stops and I get off.",
         " - Earplugs:  To dream that you are wearing or putting on earplugs suggests that there is something that you are refusing to hear or believe. Alternatively, the dream may mean that you are isolating yourself from others.\n - Railroad Crossing:  To see a railroad crossing gate in your dream symbolizes temporary setbacks toward achieving your goals, especially if the gate is going down. If the gate is up, then it means that you have overcome certain obstacles in your life. You are not letting something or someone get in your way of your goals.\n - Reception:  To dream that you are attending a reception represents togetherness and social gatherings. The dream may parallel your social calendar. Alternatively, the dream could be a pun that you need to be more 'receptive' to some new idea, situation, relationship or person.\n - School Bus:  To see or ride a school bus in your dream suggests that you are about to venture on an important life journey needed for your own personal growth.\n - Vertigo:  To dream that you have vertigo indicates an imbalance and lack of confidence in some situation. You are experiencing feelings of anxiety and discomfort."
        ],
        [
         "4",
         "Given dream description, interpret the meaning of the dream.  Provided also are the dream symbols that appear in the dream and their meanings.  Use the dream symbols meanings to help you interpret the dream. ",
         "This girl was underwater. Some guy got her (they lived underwater) and some adventure happened and she was like \"How am I going to get back?\" and he sent her back through time or something. Some baby was in an envelope under the water and there was a hole in the bottom and water poured into it.",
         " - Ocean:  To see an ocean in your dream represents the state of your emotions and feelings. It is indicative of spiritual refreshment, tranquility and renewal. Alternatively, the dream means that you are feeling empowered and unhindered. You have a positive outlook in life and are not limited by anything. If you are sailing across the ocean, then it signifies new found freedom and independence. You are showing great courage. If the ocean is rough, then the dream represents some emotional turmoil. You are doing your best to handle life's ups and downs.\n - Past Life:  To dream that you have a past life indicates greater awareness of your subconscious. You are seeking for better understand of your Self and of your origins. The past life may reflect an actual past life or it may be the life that your parents or grandparents or ancestors were living. Alternatively, the dream refers to previous lessons that you can learn from. You are open to rectifying current issues in order to move forward.\n - Underwater:  To dream that you are underwater suggests that you are being overcome with emotions and are in over your head regarding some situation. You need to gain greater control of your life. To dream that you are breathing underwater represents a retreat back into the womb. You want to return to a state where you were dependent and free from responsibilities. Perhaps you are feeling helpless, unable to fulfill your own needs and to care for yourself. Alternatively, breathing underwater is analogous to being submerged in your own emotions. To see houses under water implies that you are very comfortable with your own emotions. Alternatively, the dream may be a reflection of your housing situation. Perhaps you are 'underwater' in your mortgage. To dream of an underwater city represents your subconscious. Through deeper understanding of yourself, you find commonality and shared experiences with others. To see objects underwater in your dream symbolizes your suppressed feelings as represented by the objects. The objects may trigger some emotional memory which you still need to confront and work through. For example, children's toys or bicycles refer to an emotion that you suppressed in childhood. To see a car underwater in your dream points to feelings of regret or sadness over an abandoned goal. Dreaming that you are flying underwater represents control over your emotions. You are comfortable with confronting your feelings directly.\n - Waterbed:  To see a waterbed in our dream suggests that you are slowly acknowledging aspects of your subconscious. You are recognizing certain unexpressed energy, particularly issues dealing with sexuality, fear, aggression, etc.\n - Waterslide:  To dream that you are on or see a waterslide suggests that you are being carried away by your emotions. You are being engulfed by your subconscious. Alternatively, the dream indicates that you are going with the flow of things without any objection or resistance."
        ]
       ],
       "shape": {
        "columns": 3,
        "rows": 5
       }
      },
      "text/html": [
       "<div>\n",
       "<style scoped>\n",
       "    .dataframe tbody tr th:only-of-type {\n",
       "        vertical-align: middle;\n",
       "    }\n",
       "\n",
       "    .dataframe tbody tr th {\n",
       "        vertical-align: top;\n",
       "    }\n",
       "\n",
       "    .dataframe thead th {\n",
       "        text-align: right;\n",
       "    }\n",
       "</style>\n",
       "<table border=\"1\" class=\"dataframe\">\n",
       "  <thead>\n",
       "    <tr style=\"text-align: right;\">\n",
       "      <th></th>\n",
       "      <th>prompt</th>\n",
       "      <th>dream</th>\n",
       "      <th>symbols</th>\n",
       "    </tr>\n",
       "  </thead>\n",
       "  <tbody>\n",
       "    <tr>\n",
       "      <th>0</th>\n",
       "      <td>Given dream description, interpret the meaning...</td>\n",
       "      <td>I see a man sitting on the tail of a giant fis...</td>\n",
       "      <td>- Mammoth:  To see a mammoth in your dream im...</td>\n",
       "    </tr>\n",
       "    <tr>\n",
       "      <th>1</th>\n",
       "      <td>Given dream description, interpret the meaning...</td>\n",
       "      <td>I had two dreams about Michael. Both times he ...</td>\n",
       "      <td>- Deja Vu:  To dream of Déjà Vu indicates som...</td>\n",
       "    </tr>\n",
       "    <tr>\n",
       "      <th>2</th>\n",
       "      <td>Given dream description, interpret the meaning...</td>\n",
       "      <td>I got up during the night for some reason, and...</td>\n",
       "      <td>- Accident:  To dream that you are in an acci...</td>\n",
       "    </tr>\n",
       "    <tr>\n",
       "      <th>3</th>\n",
       "      <td>Given dream description, interpret the meaning...</td>\n",
       "      <td>Am aboard bus in a strange city and don't know...</td>\n",
       "      <td>- Earplugs:  To dream that you are wearing or...</td>\n",
       "    </tr>\n",
       "    <tr>\n",
       "      <th>4</th>\n",
       "      <td>Given dream description, interpret the meaning...</td>\n",
       "      <td>This girl was underwater. Some guy got her (th...</td>\n",
       "      <td>- Ocean:  To see an ocean in your dream repre...</td>\n",
       "    </tr>\n",
       "  </tbody>\n",
       "</table>\n",
       "</div>"
      ],
      "text/plain": [
       "                                              prompt  \\\n",
       "0  Given dream description, interpret the meaning...   \n",
       "1  Given dream description, interpret the meaning...   \n",
       "2  Given dream description, interpret the meaning...   \n",
       "3  Given dream description, interpret the meaning...   \n",
       "4  Given dream description, interpret the meaning...   \n",
       "\n",
       "                                               dream  \\\n",
       "0  I see a man sitting on the tail of a giant fis...   \n",
       "1  I had two dreams about Michael. Both times he ...   \n",
       "2  I got up during the night for some reason, and...   \n",
       "3  Am aboard bus in a strange city and don't know...   \n",
       "4  This girl was underwater. Some guy got her (th...   \n",
       "\n",
       "                                             symbols  \n",
       "0   - Mammoth:  To see a mammoth in your dream im...  \n",
       "1   - Deja Vu:  To dream of Déjà Vu indicates som...  \n",
       "2   - Accident:  To dream that you are in an acci...  \n",
       "3   - Earplugs:  To dream that you are wearing or...  \n",
       "4   - Ocean:  To see an ocean in your dream repre...  "
      ]
     },
     "execution_count": 11,
     "metadata": {},
     "output_type": "execute_result"
    }
   ],
   "source": [
    "dataset"
   ]
  },
  {
   "cell_type": "code",
   "execution_count": 12,
   "id": "d0263914",
   "metadata": {},
   "outputs": [
    {
     "name": "stdout",
     "output_type": "stream",
     "text": [
      "['model', 'tokenizer', 'text2text_generator', 'model', 'tokenizer', 'text2text_generator']\n",
      "clearing cuda cache\n",
      "clearing ipc cache\n",
      "✅ All GPU memory cleared.\n"
     ]
    }
   ],
   "source": [
    "release_all_gpu_memory([\"model\", \"tokenizer\", \"text2text_generator\"])\n"
   ]
  },
  {
   "cell_type": "code",
   "execution_count": 13,
   "id": "272ff4c7",
   "metadata": {},
   "outputs": [
    {
     "name": "stdout",
     "output_type": "stream",
     "text": [
      "Loading Mistral-7B-Instruct in 4-bit...\n"
     ]
    },
    {
     "data": {
      "application/vnd.jupyter.widget-view+json": {
       "model_id": "c3f8994ef4814f10b6f3ea351ccf977e",
       "version_major": 2,
       "version_minor": 0
      },
      "text/plain": [
       "Loading checkpoint shards:   0%|          | 0/3 [00:00<?, ?it/s]"
      ]
     },
     "metadata": {},
     "output_type": "display_data"
    }
   ],
   "source": [
    "print(\"Loading Mistral-7B-Instruct in 4-bit...\")\n",
    "\n",
    "model_name = \"mistralai/Mistral-7B-Instruct-v0.2\"\n",
    "model_name_short = model_name.split(\"/\")[-1]\n",
    "  \n",
    "max_new_tokens=256\n",
    "\n",
    "model, tokenizer = load_mistral_4bit_model(model_name)\n"
   ]
  },
  {
   "cell_type": "code",
   "execution_count": 14,
   "id": "c2d43e75",
   "metadata": {},
   "outputs": [
    {
     "name": "stderr",
     "output_type": "stream",
     "text": [
      "Device set to use cuda:0\n"
     ]
    }
   ],
   "source": [
    "model_pipeline = pipeline(\n",
    "        \"text-generation\",\n",
    "        model=model,\n",
    "        tokenizer=tokenizer,\n",
    "        max_new_tokens=max_new_tokens,\n",
    "        do_sample=False\n",
    "    )"
   ]
  },
  {
   "cell_type": "code",
   "execution_count": null,
   "id": "6aff5df7",
   "metadata": {},
   "outputs": [
    {
     "name": "stdout",
     "output_type": "stream",
     "text": [
      "\n",
      "🧠 Running interpretations...\n"
     ]
    },
    {
     "name": "stderr",
     "output_type": "stream",
     "text": [
      "Generating Interpretations:   0%|          | 0/2 [00:00<?, ?it/s]Setting `pad_token_id` to `eos_token_id`:2 for open-end generation.\n",
      "Setting `pad_token_id` to `eos_token_id`:2 for open-end generation.\n",
      "Setting `pad_token_id` to `eos_token_id`:2 for open-end generation.\n",
      "Setting `pad_token_id` to `eos_token_id`:2 for open-end generation.\n",
      "Generating Interpretations:  50%|█████     | 1/2 [00:32<00:32, 32.83s/it]Setting `pad_token_id` to `eos_token_id`:2 for open-end generation.\n",
      "Generating Interpretations: 100%|██████████| 2/2 [00:42<00:00, 21.13s/it]"
     ]
    },
    {
     "name": "stdout",
     "output_type": "stream",
     "text": [
      "                                               dream  \\\n",
      "0  I see a man sitting on the tail of a giant fis...   \n",
      "1  I had two dreams about Michael. Both times he ...   \n",
      "2  I got up during the night for some reason, and...   \n",
      "3  Am aboard bus in a strange city and don't know...   \n",
      "4  This girl was underwater. Some guy got her (th...   \n",
      "\n",
      "                                      interpretation  \n",
      "0  [{'generated_text': 'Instruction: Given dream ...  \n",
      "1  [{'generated_text': 'Instruction: Given dream ...  \n",
      "2  [{'generated_text': 'Instruction: Given dream ...  \n",
      "3  [{'generated_text': 'Instruction: Given dream ...  \n",
      "4  [{'generated_text': 'Instruction: Given dream ...  \n"
     ]
    },
    {
     "name": "stderr",
     "output_type": "stream",
     "text": [
      "\n"
     ]
    }
   ],
   "source": [
    "\n",
    "print(\"\\n🧠 Running interpretations...\")\n",
    "tstp = datetime.now().strftime(r\"%y.%m.%d-%H\")\n",
    "\n",
    "result_df = batch_generate_interpretations(dataset, model_pipeline, batch_size=4)\n",
    "#print(result_df[[\"dream\", \"interpretation\"]])\n"
   ]
  },
  {
   "cell_type": "code",
   "execution_count": 27,
   "id": "09636b4a",
   "metadata": {},
   "outputs": [],
   "source": [
    "postproc = lambda out: out[0][\"generated_text\"].split(\"Interpretation:\")[-1].strip()\n",
    "result_df[\"interpretation\"] = result_df[\"interpretation\"].apply(postproc)\n"
   ]
  },
  {
   "cell_type": "code",
   "execution_count": 28,
   "id": "6d4fa381",
   "metadata": {},
   "outputs": [
    {
     "data": {
      "application/vnd.microsoft.datawrangler.viewer.v0+json": {
       "columns": [
        {
         "name": "index",
         "rawType": "int64",
         "type": "integer"
        },
        {
         "name": "prompt",
         "rawType": "object",
         "type": "string"
        },
        {
         "name": "dream",
         "rawType": "object",
         "type": "string"
        },
        {
         "name": "symbols",
         "rawType": "object",
         "type": "string"
        },
        {
         "name": "interpretation",
         "rawType": "object",
         "type": "string"
        }
       ],
       "conversionMethod": "pd.DataFrame",
       "ref": "1f3d9bd1-84e8-424b-bb31-63310cac3bf3",
       "rows": [
        [
         "0",
         "Given dream description, interpret the meaning of the dream.  Provided also are the dream symbols that appear in the dream and their meanings.  Use the dream symbols meanings to help you interpret the dream. ",
         "I see a man sitting on the tail of a giant fish like it was a tourist boat. It stops. The man gets off to swim and explore. The fish leaves. He is left behind. He panics because he was left in prehistoric times. I hear a dinosaur roaring. He must hide to survive.",
         " - Mammoth:  To see a mammoth in your dream implies that you need to let go of some past emotions. You are letting your cold hard feelings control your behavior. Perhaps you are being too frigid. Alternatively, a mammoth symbolizes power, size and/or strength.\n - Manatee:  To see a manatee in your dream represents your passiveness in a situation. You are lacking ambition and drive. Alternatively, it represents someone in your life who is lazy, slow or gentle.\n - Salamander:  To see a salamander in your dream represents your ability to survive through shame, misfortune, and/or embarrassment. You will persevere through some adversity. Alternatively, the dream denotes your ability to resist temptations.\n - Sea Creature:  To see a sea creature in your dream represents an emotional transformation. If the sea creature is captured or in captivity, then it indicates that you are keeping your emotions contained, which can be harmful to your well-being in the end.\n - Sea Horse:  To see a sea horse in your dream represents the power of your subconscious. You have a new perspective or different outlook in life. If the sea horse is invisible, then it suggests that there is an emotional issue that you are not acknowledging or recognizing.",
         "The man in the dream represents the dreamer himself. The giant fish symbolizes a situation or opportunity that the dreamer has encountered. The man sitting on the fish's tail represents the dreamer's initial excitement and enjoyment of the situation. However, when the fish leaves, the dreamer is left behind, feeling powerless and alone. This situation causes the dreamer to panic and feel as though he has been left in prehistoric times. The dinosaur roaring in the dream represents a fear or threat that the dreamer is facing. The dreamer must hide to survive, indicating that he needs to find a way to protect himself from this fear or threat. Overall, the dream suggests that the dreamer has encountered a situation or opportunity that has left him feeling powerless and alone. He must find a way to protect himself from any fears or threats that may arise in order to survive."
        ],
        [
         "1",
         "Given dream description, interpret the meaning of the dream.  Provided also are the dream symbols that appear in the dream and their meanings.  Use the dream symbols meanings to help you interpret the dream. ",
         "I had two dreams about Michael. Both times he sat a short distance from me with his back to me. Then he moved closer and sat very near but not touching. I shyly reached out and rubbed his foot with my foot. I wanted us to be closer but I didn't make any moves to make it happen.",
         " - Deja Vu:  To dream of Déjà Vu indicates some unresolved issue which you are not addressing or are refusing to acknowledge. It may also represent a message or word of advice that you need to heed.\n - Ghost:  To see a ghost in your dream represents something that is no longer obtainable or within reach. It indicates that you are feeling disconnected from life and society. Try to figure out what the ghost wants or what it is looking for. The dream may also be a calling for you to move on and abandon your outdated modes of thinking and behavior.\n - Haunted:  To dream that you are being haunted indicates early unpleasant traumas and repressed feelings or memories. You are experiencing some fear or guilt about your past activities and thoughts.\n - Near Death Experience:  To have a near death experience in your dream implies that you are experience a relapse of sorts. You are reverting back to your old habits and ways. Alternatively, the dream indicates that you are being given a second chance or second try at something.\n - Telekinesis:  To dream that you are telekinetic represents a higher level of awareness and consciousness. You are not utilizing your full potential and need to start putting your stored energy levels and mental abilities to use. In other words, you need to put your thoughts into action. For some, dreams of telekinetic powers may indicate your latent paranormal abilities.",
         "The dream about Michael can be interpreted as a longing for a deeper connection with someone or something. The fact that Michael had his back to you in both dreams suggests that there is a barrier or wall between you and Michael. The fact that you reached out and rubbed his foot with yours indicates a desire to bridge that gap and connect on a deeper level. However, you did not make any moves to make it happen. This could indicate that you are hesitant or afraid to take the next step in a relationship or situation. The fact that Michael did not turn around to face you could also indicate that the person or situation you are longing for is not fully present or available to you. The dream may also be a call for you to take action and make things happen rather than just waiting for things to come to you. The fact that Michael was not a ghost or haunted in the dream suggests that the connection is still possible and within reach. The fact that you had two dreams about Michael indicates that this is a recurring issue or desire. The fact that you were not touching Michael in the dream could also indicate a fear of intimacy or a fear of rejection. The fact that you were rubbing his foot with yours could also indicate a desire for comfort or"
        ],
        [
         "2",
         "Given dream description, interpret the meaning of the dream.  Provided also are the dream symbols that appear in the dream and their meanings.  Use the dream symbols meanings to help you interpret the dream. ",
         "I got up during the night for some reason, and before I came back to bed, my wife Bonita had gotten up too.  I told her she should go back to bed because she had to get up and go to work in the morning, but she stayed up and began to fix a snack, or read, or something.",
         " - Accident:  To dream that you are in an accident signifies pent-up guilt in which you are subconsciously punishing yourself over. Perhaps you are not proud of something you have done. Alternatively, the accident may symbolize an error or mistake you have made. Accident dreams also represent your fears of being in an actual, physical accident. You may simply be nervous about getting behind the wheel. Or the dream is trying to warn you of some accident.\n - Nap:  To dream that you are taking a nap suggests that you need to take a little time off to relax and take it easy. Give yourself a break.\n - Pajamas:  To see or wear pajamas in your dream suggests that you need to relax and get some rest. In particular, if you dream that you are wearing pajamas in public, then it means that you are unaware of something important that may be right in front of you. You are drifting through life without fully paying attention to what is going on around you.\n - Undress:  To dream that you are undressing suggests that you need to reveal your true feelings and be open about them. Alternatively, undressing indicates your connection and comfort level with your sexuality. To see someone undressing in your dream indicates that you need to be aware of other people's feelings. If you are undressing someone else, then it suggests you are trying to gain a better understanding of that person. Dreaming that someone is undressing you implies that you are placing complete trust in this person. You are opening yourself up to a new situation and allowing yourself to be vulnerable.\n - Up:  To dream of being or moving up suggests that you are emerging from some depressing or negative situation. You may be feeling high or euphoric. The dream may also compensate for your waking feelings of sadness. Alternatively, it signifies that your ego is inflated. Or that you are experiencing upward mobility or progressing toward your goals. According to Jung, the dream parallels some material or repressed thoughts that may be emerging from your unconscious.",
         "The dream is about your relationship with your wife Bonita. You are both getting up during the night, but you are urging her to go back to bed while she stays up to do something else. The symbols in the dream suggest that you are feeling the need to take a break and relax, but your wife is not. You are also trying to hide or suppress something, as indicated by the pajamas. The fact that you are both getting up during the night may symbolize some underlying issue or problem in your relationship that is keeping you both awake. The dream may be warning you to address this issue before it causes further problems. Alternatively, the dream may be indicating that you are feeling guilty about something and are subconsciously punishing yourself by staying up and not getting enough rest. The dream may also be a reminder to communicate openly with your wife and to be more aware of her feelings and needs. The fact that she is staying up and doing something else may indicate that she is feeling neglected or unappreciated. The dream may be urging you to take some time to focus on your relationship and to make sure that both you and your wife are getting the rest and relaxation that you need."
        ],
        [
         "3",
         "Given dream description, interpret the meaning of the dream.  Provided also are the dream symbols that appear in the dream and their meanings.  Use the dream symbols meanings to help you interpret the dream. ",
         "Am aboard bus in a strange city and don't know whether he stops at my street or not. When the bus pauses, I reach for a green cord and pull it. Nothing happens. See two other cords and pull them, hoping a buzzer will buzz ... but no sound. Finally the bus stops and I get off.",
         " - Earplugs:  To dream that you are wearing or putting on earplugs suggests that there is something that you are refusing to hear or believe. Alternatively, the dream may mean that you are isolating yourself from others.\n - Railroad Crossing:  To see a railroad crossing gate in your dream symbolizes temporary setbacks toward achieving your goals, especially if the gate is going down. If the gate is up, then it means that you have overcome certain obstacles in your life. You are not letting something or someone get in your way of your goals.\n - Reception:  To dream that you are attending a reception represents togetherness and social gatherings. The dream may parallel your social calendar. Alternatively, the dream could be a pun that you need to be more 'receptive' to some new idea, situation, relationship or person.\n - School Bus:  To see or ride a school bus in your dream suggests that you are about to venture on an important life journey needed for your own personal growth.\n - Vertigo:  To dream that you have vertigo indicates an imbalance and lack of confidence in some situation. You are experiencing feelings of anxiety and discomfort.",
         "The dreamer is in a strange city, which could represent a new situation or environment in their waking life. They are on a bus, which symbolizes a journey or transition. The dreamer doesn't know if the bus stops at their street, indicating uncertainty about the outcome of the situation or transition. The dreamer reaches for a green cord to pull, but nothing happens. This could represent an attempt to take control of the situation, but the efforts are unsuccessful. The dreamer sees two other cords and pulls them, hoping for a buzzer to sound, but there is no sound. This could represent a feeling of helplessness and frustration. Finally, the bus stops and the dreamer gets off. This could represent the dreamer's decision to leave the situation or transition behind and move on to the next phase of their journey. The dreamer's inability to make the bus stop with the green cord could also symbolize a lack of control or influence in the situation. The dreamer's uncertainty about the outcome of the situation could be causing feelings of anxiety and discomfort, represented by the vertigo. Overall, the dream suggests that the dreamer is in a new and uncertain situation, and they are struggling to find a"
        ],
        [
         "4",
         "Given dream description, interpret the meaning of the dream.  Provided also are the dream symbols that appear in the dream and their meanings.  Use the dream symbols meanings to help you interpret the dream. ",
         "This girl was underwater. Some guy got her (they lived underwater) and some adventure happened and she was like \"How am I going to get back?\" and he sent her back through time or something. Some baby was in an envelope under the water and there was a hole in the bottom and water poured into it.",
         " - Ocean:  To see an ocean in your dream represents the state of your emotions and feelings. It is indicative of spiritual refreshment, tranquility and renewal. Alternatively, the dream means that you are feeling empowered and unhindered. You have a positive outlook in life and are not limited by anything. If you are sailing across the ocean, then it signifies new found freedom and independence. You are showing great courage. If the ocean is rough, then the dream represents some emotional turmoil. You are doing your best to handle life's ups and downs.\n - Past Life:  To dream that you have a past life indicates greater awareness of your subconscious. You are seeking for better understand of your Self and of your origins. The past life may reflect an actual past life or it may be the life that your parents or grandparents or ancestors were living. Alternatively, the dream refers to previous lessons that you can learn from. You are open to rectifying current issues in order to move forward.\n - Underwater:  To dream that you are underwater suggests that you are being overcome with emotions and are in over your head regarding some situation. You need to gain greater control of your life. To dream that you are breathing underwater represents a retreat back into the womb. You want to return to a state where you were dependent and free from responsibilities. Perhaps you are feeling helpless, unable to fulfill your own needs and to care for yourself. Alternatively, breathing underwater is analogous to being submerged in your own emotions. To see houses under water implies that you are very comfortable with your own emotions. Alternatively, the dream may be a reflection of your housing situation. Perhaps you are 'underwater' in your mortgage. To dream of an underwater city represents your subconscious. Through deeper understanding of yourself, you find commonality and shared experiences with others. To see objects underwater in your dream symbolizes your suppressed feelings as represented by the objects. The objects may trigger some emotional memory which you still need to confront and work through. For example, children's toys or bicycles refer to an emotion that you suppressed in childhood. To see a car underwater in your dream points to feelings of regret or sadness over an abandoned goal. Dreaming that you are flying underwater represents control over your emotions. You are comfortable with confronting your feelings directly.\n - Waterbed:  To see a waterbed in our dream suggests that you are slowly acknowledging aspects of your subconscious. You are recognizing certain unexpressed energy, particularly issues dealing with sexuality, fear, aggression, etc.\n - Waterslide:  To dream that you are on or see a waterslide suggests that you are being carried away by your emotions. You are being engulfed by your subconscious. Alternatively, the dream indicates that you are going with the flow of things without any objection or resistance.",
         "The dreamer is experiencing emotional turmoil and is feeling overwhelmed by her emotions. She is in a situation where she feels helpless and unable to handle her feelings. She is seeking for a way to return to a state of control and independence. The dream suggests that she may have to confront past issues in order to move forward. The baby in the envelope underwater represents a new beginning or a new opportunity. The hole in the bottom of the envelope and the water pouring in symbolizes the dreamer's fear of losing this new opportunity due to her inability to handle her emotions. The guy sending her back through time may represent a mentor or a guide who is helping her to gain greater understanding of herself and her past. The waterslide in the dream suggests that the dreamer is being carried away by her emotions and is going with the flow. She is not resisting or objecting to the situation. The dream may also be a reflection of the dreamer's housing situation. She may be feeling overwhelmed by her mortgage or her housing expenses. Alternatively, the dream may be a reflection of her emotional situation. She may be feeling overwhelmed by her emotions and is seeking for a way to gain control and independence. The dream may also be a reflection"
        ]
       ],
       "shape": {
        "columns": 4,
        "rows": 5
       }
      },
      "text/html": [
       "<div>\n",
       "<style scoped>\n",
       "    .dataframe tbody tr th:only-of-type {\n",
       "        vertical-align: middle;\n",
       "    }\n",
       "\n",
       "    .dataframe tbody tr th {\n",
       "        vertical-align: top;\n",
       "    }\n",
       "\n",
       "    .dataframe thead th {\n",
       "        text-align: right;\n",
       "    }\n",
       "</style>\n",
       "<table border=\"1\" class=\"dataframe\">\n",
       "  <thead>\n",
       "    <tr style=\"text-align: right;\">\n",
       "      <th></th>\n",
       "      <th>prompt</th>\n",
       "      <th>dream</th>\n",
       "      <th>symbols</th>\n",
       "      <th>interpretation</th>\n",
       "    </tr>\n",
       "  </thead>\n",
       "  <tbody>\n",
       "    <tr>\n",
       "      <th>0</th>\n",
       "      <td>Given dream description, interpret the meaning...</td>\n",
       "      <td>I see a man sitting on the tail of a giant fis...</td>\n",
       "      <td>- Mammoth:  To see a mammoth in your dream im...</td>\n",
       "      <td>The man in the dream represents the dreamer hi...</td>\n",
       "    </tr>\n",
       "    <tr>\n",
       "      <th>1</th>\n",
       "      <td>Given dream description, interpret the meaning...</td>\n",
       "      <td>I had two dreams about Michael. Both times he ...</td>\n",
       "      <td>- Deja Vu:  To dream of Déjà Vu indicates som...</td>\n",
       "      <td>The dream about Michael can be interpreted as ...</td>\n",
       "    </tr>\n",
       "    <tr>\n",
       "      <th>2</th>\n",
       "      <td>Given dream description, interpret the meaning...</td>\n",
       "      <td>I got up during the night for some reason, and...</td>\n",
       "      <td>- Accident:  To dream that you are in an acci...</td>\n",
       "      <td>The dream is about your relationship with your...</td>\n",
       "    </tr>\n",
       "    <tr>\n",
       "      <th>3</th>\n",
       "      <td>Given dream description, interpret the meaning...</td>\n",
       "      <td>Am aboard bus in a strange city and don't know...</td>\n",
       "      <td>- Earplugs:  To dream that you are wearing or...</td>\n",
       "      <td>The dreamer is in a strange city, which could ...</td>\n",
       "    </tr>\n",
       "    <tr>\n",
       "      <th>4</th>\n",
       "      <td>Given dream description, interpret the meaning...</td>\n",
       "      <td>This girl was underwater. Some guy got her (th...</td>\n",
       "      <td>- Ocean:  To see an ocean in your dream repre...</td>\n",
       "      <td>The dreamer is experiencing emotional turmoil ...</td>\n",
       "    </tr>\n",
       "  </tbody>\n",
       "</table>\n",
       "</div>"
      ],
      "text/plain": [
       "                                              prompt  \\\n",
       "0  Given dream description, interpret the meaning...   \n",
       "1  Given dream description, interpret the meaning...   \n",
       "2  Given dream description, interpret the meaning...   \n",
       "3  Given dream description, interpret the meaning...   \n",
       "4  Given dream description, interpret the meaning...   \n",
       "\n",
       "                                               dream  \\\n",
       "0  I see a man sitting on the tail of a giant fis...   \n",
       "1  I had two dreams about Michael. Both times he ...   \n",
       "2  I got up during the night for some reason, and...   \n",
       "3  Am aboard bus in a strange city and don't know...   \n",
       "4  This girl was underwater. Some guy got her (th...   \n",
       "\n",
       "                                             symbols  \\\n",
       "0   - Mammoth:  To see a mammoth in your dream im...   \n",
       "1   - Deja Vu:  To dream of Déjà Vu indicates som...   \n",
       "2   - Accident:  To dream that you are in an acci...   \n",
       "3   - Earplugs:  To dream that you are wearing or...   \n",
       "4   - Ocean:  To see an ocean in your dream repre...   \n",
       "\n",
       "                                      interpretation  \n",
       "0  The man in the dream represents the dreamer hi...  \n",
       "1  The dream about Michael can be interpreted as ...  \n",
       "2  The dream is about your relationship with your...  \n",
       "3  The dreamer is in a strange city, which could ...  \n",
       "4  The dreamer is experiencing emotional turmoil ...  "
      ]
     },
     "execution_count": 28,
     "metadata": {},
     "output_type": "execute_result"
    }
   ],
   "source": [
    "result_df"
   ]
  },
  {
   "cell_type": "code",
   "execution_count": 29,
   "id": "522a4d54",
   "metadata": {},
   "outputs": [
    {
     "name": "stdout",
     "output_type": "stream",
     "text": [
      "✅ HTML table saved to: output/Mistral-7B-Instruct-v0.2_25.04.17-16.html\n"
     ]
    }
   ],
   "source": [
    "\n",
    "save_df = result_df[['prompt', 'symbols','dream', 'interpretation']]\n",
    "\n",
    "path = f\"output/{model_name_short}_{tstp}\"\n",
    "save_df_as_pretty_html(save_df, path + \".html\")\n",
    "\n",
    "save_df.to_csv(path + \".csv\")"
   ]
  }
 ],
 "metadata": {
  "kernelspec": {
   "display_name": ".dream",
   "language": "python",
   "name": "python3"
  },
  "language_info": {
   "codemirror_mode": {
    "name": "ipython",
    "version": 3
   },
   "file_extension": ".py",
   "mimetype": "text/x-python",
   "name": "python",
   "nbconvert_exporter": "python",
   "pygments_lexer": "ipython3",
   "version": "3.11.9"
  }
 },
 "nbformat": 4,
 "nbformat_minor": 5
}
