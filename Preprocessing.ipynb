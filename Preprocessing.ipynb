{
 "cells": [
  {
   "cell_type": "markdown",
   "id": "e168ed26",
   "metadata": {},
   "source": [
    "## Data repair\n",
    "dreams_interpretations.scv dataset is malformed due to the manner in which it was scraped.  \n",
    "See: https://www.kaggle.com/code/manswad/how-i-scarped-the-notebook\n",
    "\n",
    "Therefore, it needs to be fixed (semi-automatically)"
   ]
  },
  {
   "cell_type": "code",
   "execution_count": null,
   "id": "52b490a5",
   "metadata": {},
   "outputs": [],
   "source": [
    "# preprocess the file itself: run regexes on file: \n",
    "# remove extra newline between parts of words\n",
    "'(\"[\\w\\']+)\\n(\\w+ )*(\\w+\")',  \"$1 $2\"\n",
    "\n",
    "# remove this pesky char \\xa0\n",
    "\" \" , \" \"\n",
    "\n",
    "# remove extra spaces\n",
    "\"\\s{2,}\" , \" \"\n",
    "\n",
    "# replace double quotes with single quotes\n",
    "'\"\"(([\\w ])+)\"\"', \"$1\""
   ]
  },
  {
   "cell_type": "code",
   "execution_count": null,
   "id": "13d48700",
   "metadata": {},
   "outputs": [],
   "source": [
    "import pandas as pd\n",
    "import pandasql as ps\n",
    "import numpy as np\n",
    "import re \n",
    "\n",
    "keywords_df = pd.read_csv(\"datasets/dreams_interpretations.csv\")"
   ]
  },
  {
   "cell_type": "code",
   "execution_count": null,
   "id": "2877e952",
   "metadata": {},
   "outputs": [],
   "source": [
    "keywords_df"
   ]
  },
  {
   "cell_type": "code",
   "execution_count": null,
   "id": "00b2a96a",
   "metadata": {},
   "outputs": [],
   "source": [
    "keywords_df[\"Dream Symbol\"].nunique()"
   ]
  },
  {
   "cell_type": "code",
   "execution_count": null,
   "id": "1c5063c6",
   "metadata": {},
   "outputs": [],
   "source": [
    "keywords_df.sample(10)"
   ]
  },
  {
   "cell_type": "code",
   "execution_count": null,
   "id": "a2b0c2f6",
   "metadata": {},
   "outputs": [],
   "source": [
    "\n",
    "dream_df = pd.read_csv(\"datasets/rsos_dream_data.tsv\", sep=\"\\t\")\n",
    "dream_df.head()"
   ]
  },
  {
   "cell_type": "code",
   "execution_count": null,
   "id": "b6e8acac",
   "metadata": {},
   "outputs": [],
   "source": [
    "dream_df[\"text_dream\"].str.len().hist( bins=200, figsize=(15, 10))"
   ]
  },
  {
   "cell_type": "markdown",
   "id": "9734a46d",
   "metadata": {},
   "source": [
    "Some dreamers are real graphomans."
   ]
  },
  {
   "cell_type": "code",
   "execution_count": null,
   "id": "39a29e1f",
   "metadata": {},
   "outputs": [],
   "source": [
    "keywords_df[\"Interpretation\"].str.len().sort_values(ascending=False).head(30)"
   ]
  },
  {
   "cell_type": "code",
   "execution_count": null,
   "id": "67d7a970",
   "metadata": {},
   "outputs": [],
   "source": [
    "keywords_df"
   ]
  },
  {
   "cell_type": "code",
   "execution_count": null,
   "id": "73a131dc",
   "metadata": {},
   "outputs": [],
   "source": [
    "keywords_df.iloc[10]"
   ]
  },
  {
   "cell_type": "code",
   "execution_count": null,
   "id": "bdac5675",
   "metadata": {},
   "outputs": [],
   "source": [
    "wat = keywords_df[\"Interpretation\"].iloc[71]"
   ]
  },
  {
   "cell_type": "code",
   "execution_count": null,
   "id": "7f43869d",
   "metadata": {},
   "outputs": [],
   "source": [
    "\n",
    "\n",
    "def slice_text(text):\n",
    "    text = text.replace(\"\\xa0\", \" \")\n",
    "\n",
    "    text = re.sub(\" +\", \" \", text).strip()\n",
    "\n",
    "\n",
    "    p1 = r\"(\\. *)((\\w+ )+)(To (see|dream|watch|make))\"\n",
    "    r1 = r'$1\\n$2: $4'.replace(r'$', '\\\\')\n",
    "    \n",
    "    text = re.sub(p1, r1, text).strip()\n",
    "\n",
    "    #text = re.sub(r\"\\s+\", \" \", text)\n",
    "\n",
    "    text = text.split(\"\\n\")[1:]\n",
    "    #print(text)\n",
    "    text = [t.split(\":\") for t in text]\n",
    "    text = [[t[0].strip(), t[1].strip()] for t in text]\n",
    "    return text \n"
   ]
  },
  {
   "cell_type": "code",
   "execution_count": null,
   "id": "fa543e89",
   "metadata": {},
   "outputs": [],
   "source": [
    "def itrtr(row):\n",
    "    sym = row[\"Dream Symbol\"].replace(\"\\n\",\" \")\n",
    "    intp = row[\"Interpretation\"]\n",
    "    txt = f'. {sym} {intp}'\n",
    "    #print(txt)\n",
    "    a = slice_text(txt)\n",
    "    #adf = pd.DataFrame(a, columns=['Dream Symbol',\"Interpretation\"])\n",
    "    return a"
   ]
  },
  {
   "cell_type": "code",
   "execution_count": null,
   "id": "a13faa35",
   "metadata": {},
   "outputs": [],
   "source": [
    "keywords_df.iloc[59]"
   ]
  },
  {
   "cell_type": "code",
   "execution_count": null,
   "id": "07a8dae7",
   "metadata": {},
   "outputs": [],
   "source": [
    "itrtr(keywords_df.iloc[59])"
   ]
  },
  {
   "cell_type": "code",
   "execution_count": null,
   "id": "1ea79e19",
   "metadata": {},
   "outputs": [],
   "source": [
    "keywords_df['sliced'] = keywords_df.apply(itrtr, axis=1)\n",
    "keywords_df"
   ]
  },
  {
   "cell_type": "code",
   "execution_count": null,
   "id": "ccb2d0a1",
   "metadata": {},
   "outputs": [],
   "source": [
    "keywords_df['sliced'].values"
   ]
  },
  {
   "cell_type": "code",
   "execution_count": null,
   "id": "a512edce",
   "metadata": {},
   "outputs": [],
   "source": [
    "keywords_df['len'] = keywords_df['sliced'].apply(lambda x: len(x))\n",
    "keywords_df"
   ]
  },
  {
   "cell_type": "code",
   "execution_count": null,
   "id": "3f73b09a",
   "metadata": {},
   "outputs": [],
   "source": [
    "glued = keywords_df[keywords_df['len'] >1 ]\n",
    "glued"
   ]
  },
  {
   "cell_type": "code",
   "execution_count": null,
   "id": "ed7d1f28",
   "metadata": {},
   "outputs": [],
   "source": [
    "expl = glued['sliced'].explode(1)\n",
    "expl"
   ]
  },
  {
   "cell_type": "code",
   "execution_count": null,
   "id": "247ebb91",
   "metadata": {},
   "outputs": [],
   "source": [
    "type(expl[0])"
   ]
  },
  {
   "cell_type": "code",
   "execution_count": null,
   "id": "fb8205f6",
   "metadata": {},
   "outputs": [],
   "source": [
    "expl = pd.DataFrame([{'Dream Symbol':e[0], 'Interpretation': e[1]}  for e in expl])\n",
    "expl"
   ]
  },
  {
   "cell_type": "code",
   "execution_count": null,
   "id": "423fd4c0",
   "metadata": {},
   "outputs": [],
   "source": [
    "basic = keywords_df[keywords_df['len'] <=1 ][['Dream Symbol', 'Interpretation']]\n",
    "basic"
   ]
  },
  {
   "cell_type": "code",
   "execution_count": null,
   "id": "5aa69a37",
   "metadata": {},
   "outputs": [],
   "source": [
    "fixed = pd.concat([basic, expl], ignore_index=True)\n",
    "fixed"
   ]
  },
  {
   "cell_type": "code",
   "execution_count": null,
   "id": "d687e584",
   "metadata": {},
   "outputs": [],
   "source": [
    "fixed[\"len\"] = fixed[\"Interpretation\"].str.len()"
   ]
  },
  {
   "cell_type": "code",
   "execution_count": null,
   "id": "f4c77719",
   "metadata": {},
   "outputs": [],
   "source": [
    "fixed.sort_values(by=\"len\", ascending=False).head(30)"
   ]
  },
  {
   "cell_type": "code",
   "execution_count": null,
   "id": "99f84d8f",
   "metadata": {},
   "outputs": [],
   "source": [
    "fixed"
   ]
  },
  {
   "cell_type": "code",
   "execution_count": null,
   "id": "a5494de9",
   "metadata": {},
   "outputs": [],
   "source": [
    "fixed.sort_values(by=\"len\", ascending=False).to_html(\"datasets/fixed_interpretations.html\", index=False)"
   ]
  },
  {
   "cell_type": "code",
   "execution_count": null,
   "id": "edf6b160",
   "metadata": {},
   "outputs": [],
   "source": [
    "fixed.sort_values(by=\"Dream Symbol\").to_csv(\"datasets/fixed_interpretations.csv\", index=False)"
   ]
  },
  {
   "cell_type": "code",
   "execution_count": null,
   "id": "135f499b",
   "metadata": {},
   "outputs": [],
   "source": [
    "fixed[\"Dream Symbol\"].nunique()"
   ]
  },
  {
   "cell_type": "code",
   "execution_count": null,
   "id": "e8d965fd",
   "metadata": {},
   "outputs": [],
   "source": [
    "q = \"\"\"\n",
    "select Interpretation, count(*) as cnt, string_agg(`Dream Symbol`, ',') as symbols\n",
    "from fixed\n",
    "group by Interpretation\n",
    "order by cnt desc\n",
    "\"\"\"\n",
    "\n",
    "grouped = ps.sqldf(q)\n",
    "grouped\n"
   ]
  },
  {
   "cell_type": "code",
   "execution_count": null,
   "id": "c2d7c8d5",
   "metadata": {},
   "outputs": [],
   "source": [
    "len(set([\"a\",\"b\"]))"
   ]
  },
  {
   "cell_type": "code",
   "execution_count": null,
   "id": "4810f3a2",
   "metadata": {},
   "outputs": [],
   "source": [
    "grouped[\"sets\"] = grouped.symbols.str.strip().str.split(\",\").apply(set)\n",
    "grouped[\"len\"] = grouped.sets.apply(len)\n",
    "grouped = grouped.sort_values(by=\"len\", ascending=False)\n",
    "grouped"
   ]
  },
  {
   "cell_type": "code",
   "execution_count": null,
   "id": "d3157be4",
   "metadata": {},
   "outputs": [],
   "source": [
    "azaz = grouped[grouped[\"len\"] > 1]\n",
    "azaz\n"
   ]
  },
  {
   "cell_type": "code",
   "execution_count": null,
   "id": "85af0824",
   "metadata": {},
   "outputs": [],
   "source": [
    "def fixer(row):\n",
    "    symbols = row[\"sets\"]\n",
    "    symbols = list(symbols)\n",
    "    if len(symbols) == 1:\n",
    "        return symbols[0]\n",
    "    symbols.sort(key=len)\n",
    "    symbols = symbols[:2]\n",
    "    symbols.sort() \n",
    "    symbols = \"\".join(symbols)\n",
    "    return symbols\n",
    "\n",
    "grouped[\"Dream Symbol\"] = grouped.apply(fixer, axis=1)\n",
    "grouped = grouped[[\"Dream Symbol\", \"Interpretation\"]]   \n",
    "grouped"
   ]
  },
  {
   "cell_type": "code",
   "execution_count": null,
   "id": "67c9fdcc",
   "metadata": {},
   "outputs": [],
   "source": [
    "q = \"\"\"\n",
    "select `Dream Symbol`, count(*) as cnt, string_agg(Interpretation, ',') as Interpretations\n",
    "from grouped\n",
    "group by `Dream Symbol`\n",
    "order by cnt desc\n",
    "\"\"\"\n",
    "\n",
    "extract_keys = ps.sqldf(q)\n",
    "extract_keys"
   ]
  },
  {
   "cell_type": "code",
   "execution_count": null,
   "id": "c8000b39",
   "metadata": {},
   "outputs": [],
   "source": [
    "q = \"\"\"\n",
    "SELECT `Dream Symbol`, \n",
    "  MAX(LENGTH(Interpretation)) AS max_length, \n",
    "  Interpretation\n",
    "FROM grouped\n",
    "GROUP BY `Dream Symbol`\n",
    "HAVING LENGTH(Interpretation) = max_length\n",
    "ORDER BY `Dream Symbol`\n",
    "\"\"\"\n",
    "result = ps.sqldf(q)\n",
    "result"
   ]
  },
  {
   "cell_type": "code",
   "execution_count": null,
   "id": "1b1a6675",
   "metadata": {},
   "outputs": [],
   "source": [
    "result[[\"Dream Symbol\", \"Interpretation\"]].to_csv(\"datasets/fixed_interpretations.csv\", index=False)"
   ]
  },
  {
   "cell_type": "markdown",
   "id": "fc160894",
   "metadata": {},
   "source": [
    "## Data Preparation"
   ]
  },
  {
   "cell_type": "code",
   "execution_count": null,
   "id": "db17c093",
   "metadata": {},
   "outputs": [],
   "source": [
    "dataset = []\n",
    "\n",
    "prmt = \"\"\"Given dream description, interpret the meaning of the dream. \n",
    "Provided also are the dream symbols that appear in the dream and their meanings. \n",
    "Use the dream symbols meanings to help you interpret the dream. \"\"\".replace(\"\\n\", \" \")\n",
    "\n",
    "\n",
    "for i, ex in dream_df.iterrows():\n",
    "    #print(ex)\n",
    "    keys = ex[\"Dream Symbol\"].split(\",\")[:5]\n",
    "    \n",
    "    #print(keys)\n",
    "    syms = keywords_df[keywords_df[\"Dream Symbol\"].isin(keys)]\n",
    "\n",
    "    descr = syms.apply(lambda r: f' - {r[\"Dream Symbol\"]}:  {r[\"Interpretation\"]}', axis = 1)\n",
    "    item = {\n",
    "        \"prompt\": prmt, \n",
    "        \"dream\": ex[\"text_dream\"],\n",
    "        \"symbols\": \"\\n\".join(descr),\n",
    "        }\n",
    "    dataset.append(item)\n",
    "    \n",
    "\n",
    "dataset = pd.DataFrame(dataset)\n",
    "dataset"
   ]
  },
  {
   "cell_type": "code",
   "execution_count": null,
   "id": "fd2303aa",
   "metadata": {},
   "outputs": [],
   "source": [
    "from summarizer import PromptFormatter, load_mistral_4bit_model\n",
    "import hashlib\n",
    "from plotly import express as px\n",
    "\n",
    "model_name = \"mistralai/Mistral-7B-Instruct-v0.2\"\n",
    "model_family=\"decoder\"\n",
    "\n",
    "formatter = PromptFormatter(model_family)\n",
    "\n",
    "model, tokenizer = load_mistral_4bit_model(model_name)"
   ]
  },
  {
   "cell_type": "code",
   "execution_count": null,
   "id": "358f339e",
   "metadata": {},
   "outputs": [],
   "source": [
    "dataset[\"input\"] = dataset.apply(lambda r: formatter.format(r['prompt'], r['dream'], r['symbols']), axis = 1)\n",
    "dataset[\"len\"] = dataset[\"input\"].str.len()\n",
    "dataset[\"input_tokens\"] = dataset.input.apply(lambda prmt: tokenizer.tokenize(prmt, truncation=False, max_length=1024))\n",
    "dataset[\"input_tokens_len\"] = dataset.input_tokens.apply(len)\n",
    "dataset"
   ]
  },
  {
   "cell_type": "code",
   "execution_count": null,
   "id": "a68aa018",
   "metadata": {},
   "outputs": [],
   "source": [
    "del model, tokenizer"
   ]
  },
  {
   "cell_type": "code",
   "execution_count": null,
   "id": "2536ecab",
   "metadata": {},
   "outputs": [],
   "source": [
    "def get_hash(text):\n",
    "    return hashlib.md5(text.encode(\"utf-8\")).hexdigest()\n",
    "\n",
    "dataset[\"hash\"] = dataset[\"input\"].apply(get_hash) \n"
   ]
  },
  {
   "cell_type": "code",
   "execution_count": null,
   "id": "269051ea",
   "metadata": {},
   "outputs": [],
   "source": [
    "px.histogram(dataset, x = \"input_tokens_len\")"
   ]
  },
  {
   "cell_type": "code",
   "execution_count": null,
   "id": "e1ca356c",
   "metadata": {},
   "outputs": [],
   "source": [
    "px.histogram(dataset, x = \"len\")"
   ]
  },
  {
   "cell_type": "code",
   "execution_count": null,
   "id": "3d53af65",
   "metadata": {},
   "outputs": [],
   "source": [
    "px.scatter(dataset, x = \"len\", y = \"input_tokens_len\")"
   ]
  },
  {
   "cell_type": "code",
   "execution_count": null,
   "id": "43cd4cfb",
   "metadata": {},
   "outputs": [],
   "source": [
    "dataset"
   ]
  },
  {
   "cell_type": "markdown",
   "id": "995100f9",
   "metadata": {},
   "source": [
    "## Results investigation \n",
    "this analizes the results of the dream interpreter processing"
   ]
  },
  {
   "cell_type": "code",
   "execution_count": null,
   "id": "19b8fad0",
   "metadata": {},
   "outputs": [],
   "source": [
    "import os\n",
    "save_dir = \"output\""
   ]
  },
  {
   "cell_type": "code",
   "execution_count": null,
   "id": "c2aa7a9e",
   "metadata": {},
   "outputs": [],
   "source": [
    "dfs = []\n",
    "\n",
    "for f in os.listdir(save_dir):\n",
    "    if f.endswith(\".csv\"):\n",
    "        try:\n",
    "            existing_df = pd.read_csv(os.path.join(save_dir, f))\n",
    "            existing_df[\"filename\"] = f\n",
    "            dfs.append(existing_df)\n",
    "        except Exception:\n",
    "            continue\n",
    "\n",
    "dataset = pd.concat(dfs)\n",
    "dataset"
   ]
  },
  {
   "cell_type": "code",
   "execution_count": null,
   "id": "1246c02b",
   "metadata": {},
   "outputs": [],
   "source": [
    "dataset[\"meaning\"] = dataset.interpretation.apply(formatter.unformat)\n",
    "dataset[\"meaning_len\"] = dataset.meaning.apply(lambda m: len(m.split(\" \")))\n",
    "dataset[\"interpretation_len\"] = dataset.interpretation.apply(lambda m: len(m.split(\" \")))"
   ]
  },
  {
   "cell_type": "code",
   "execution_count": null,
   "id": "79c229cd",
   "metadata": {},
   "outputs": [],
   "source": [
    "procd = dataset[dataset.filename.str.contains('.*20250506.*', regex= True)][[\"dream\", \"symbols\", \"meaning\"]]\n",
    "procd"
   ]
  },
  {
   "cell_type": "code",
   "execution_count": null,
   "id": "854a4b89",
   "metadata": {},
   "outputs": [],
   "source": [
    "from utils import save_df_as_pretty_html\n",
    "\n",
    "save_df_as_pretty_html(procd, \"may06_meanings.html\")"
   ]
  },
  {
   "cell_type": "code",
   "execution_count": null,
   "id": "67548d22",
   "metadata": {},
   "outputs": [],
   "source": [
    "px.histogram(dataset, x = \"meaning_len\")"
   ]
  },
  {
   "cell_type": "code",
   "execution_count": null,
   "id": "947dbb54",
   "metadata": {},
   "outputs": [],
   "source": [
    "px.histogram(dataset, x = \"interpretation_len\")"
   ]
  },
  {
   "cell_type": "code",
   "execution_count": null,
   "id": "8c25c282",
   "metadata": {},
   "outputs": [],
   "source": [
    "dataset.sort_values(\"input_tokens_len\", inplace=True)\n",
    "dataset.reset_index(inplace=True)"
   ]
  },
  {
   "cell_type": "code",
   "execution_count": null,
   "id": "cb38f21e",
   "metadata": {},
   "outputs": [],
   "source": [
    "px.scatter(dataset, x = dataset.index, y = \"input_tokens_len\")"
   ]
  }
 ],
 "metadata": {
  "kernelspec": {
   "display_name": ".venv",
   "language": "python",
   "name": "python3"
  },
  "language_info": {
   "codemirror_mode": {
    "name": "ipython",
    "version": 3
   },
   "file_extension": ".py",
   "mimetype": "text/x-python",
   "name": "python",
   "nbconvert_exporter": "python",
   "pygments_lexer": "ipython3",
   "version": "3.10.12"
  }
 },
 "nbformat": 4,
 "nbformat_minor": 5
}
