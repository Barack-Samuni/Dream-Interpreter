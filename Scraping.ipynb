{
 "cells": [
  {
   "cell_type": "code",
   "execution_count": null,
   "id": "4ef8dfb2",
   "metadata": {},
   "outputs": [],
   "source": [
    "# Additional packages needed only for scraping\n",
    "\n",
    "! pip install lxml BeautifulSoup4\n"
   ]
  },
  {
   "cell_type": "code",
   "execution_count": 218,
   "id": "2be00f55",
   "metadata": {
    "_cell_guid": "b1076dfc-b9ad-4769-8c92-a6c4dae69d19",
    "_uuid": "8f2839f25d086af736a60e9eeb907d3b93b6e0e5",
    "execution": {
     "iopub.execute_input": "2024-10-15T18:20:45.517505Z",
     "iopub.status.busy": "2024-10-15T18:20:45.516962Z",
     "iopub.status.idle": "2024-10-15T18:20:46.644596Z",
     "shell.execute_reply": "2024-10-15T18:20:46.643575Z"
    },
    "papermill": {
     "duration": 1.135541,
     "end_time": "2024-10-15T18:20:46.647262",
     "exception": false,
     "start_time": "2024-10-15T18:20:45.511721",
     "status": "completed"
    },
    "tags": []
   },
   "outputs": [],
   "source": [
    "import requests\n",
    "from bs4 import BeautifulSoup\n",
    "import pandas as pd\n",
    "import string\n",
    "import lxml\n",
    "import time\n",
    "import os\n",
    "import lxml.html as lhtml\n",
    "from datetime import datetime\n",
    "import pandas as pd\n",
    "import re\n",
    "from utils import save_df_as_pretty_html\n",
    "from plotly import express as px\n",
    "# Base URL pattern for dream moods dictionary\n",
    "\n",
    "\n",
    "# List to store dream symbols and meanings\n",
    "dreams = []\n",
    "meanings = []"
   ]
  },
  {
   "cell_type": "markdown",
   "id": "3bfa61ac",
   "metadata": {},
   "source": [
    "## Data Scraping from dreammoods.com\n",
    "\n",
    "The website structure is fairly simple. Dream symbols are grouped into pages of their first letter:  \n",
    "http://www.dreammoods.com/dreamdictionary/c_all.htm\n",
    "\n",
    "Thus we can download the whole raw data simply with few http requests :"
   ]
  },
  {
   "cell_type": "code",
   "execution_count": 219,
   "id": "0ae23259",
   "metadata": {},
   "outputs": [],
   "source": [
    "\n",
    "def download_page(url, filename ):\n",
    "    if os.path.exists(filename):\n",
    "        print (f\"File {filename} already exists, skipping download.\")\n",
    "        return 'skip'\n",
    "    \n",
    "    response = requests.get(url)\n",
    "\n",
    "    if response.status_code == 200:  # Check if the page was successfully fetched\n",
    "        with open(filename, \"w\") as f:\n",
    "            f.write(response.text)\n",
    "        print(f\"Downloaded {url} to {filename}\")\n",
    "        return 'ok'\n",
    "    \n",
    "    else:        \n",
    "        newurl = url.replace(\"_all\",\"\")\n",
    "        if newurl != url:\n",
    "            print(f\"Failed to retrieve {url}, trying alternative\")\n",
    "            download_page(newurl, filename)\n",
    "        else:\n",
    "            print(f\"Failed to retrieve {url} and no alternative available.\")\n",
    "            return 'fail'\n",
    "        \n",
    "\n"
   ]
  },
  {
   "cell_type": "code",
   "execution_count": 220,
   "id": "0dcea2cb",
   "metadata": {},
   "outputs": [],
   "source": [
    "dirs_to_create = [ \\\n",
    "\"html/dreamdictionary/\",\n",
    "\"datasets\",\n",
    "\"output\"] \n",
    "\n",
    "for path in dirs_to_create:\n",
    "    os.makedirs(path, exist_ok=True)"
   ]
  },
  {
   "cell_type": "code",
   "execution_count": 222,
   "id": "335e352e",
   "metadata": {},
   "outputs": [
    {
     "name": "stdout",
     "output_type": "stream",
     "text": [
      "File html/dreamdictionary/a_all.html already exists, skipping download.\n",
      "File html/dreamdictionary/b_all.html already exists, skipping download.\n",
      "File html/dreamdictionary/c_all.html already exists, skipping download.\n"
     ]
    },
    {
     "ename": "KeyboardInterrupt",
     "evalue": "",
     "output_type": "error",
     "traceback": [
      "\u001b[0;31m---------------------------------------------------------------------------\u001b[0m",
      "\u001b[0;31mKeyboardInterrupt\u001b[0m                         Traceback (most recent call last)",
      "Cell \u001b[0;32mIn[222], line 11\u001b[0m\n\u001b[1;32m      8\u001b[0m url \u001b[38;5;241m=\u001b[39m base_url \u001b[38;5;241m+\u001b[39m suffix\u001b[38;5;241m.\u001b[39mformat(letter)\n\u001b[1;32m     10\u001b[0m download_page(url, file)\n\u001b[0;32m---> 11\u001b[0m \u001b[43mtime\u001b[49m\u001b[38;5;241;43m.\u001b[39;49m\u001b[43msleep\u001b[49m\u001b[43m(\u001b[49m\u001b[38;5;241;43m.5\u001b[39;49m\u001b[43m)\u001b[49m  \u001b[38;5;66;03m# Sleep for 1 second to avoid overwhelming the server\u001b[39;00m\n",
      "\u001b[0;31mKeyboardInterrupt\u001b[0m: "
     ]
    }
   ],
   "source": [
    "\n",
    "base_url = \"http://www.dreammoods.com/dreamdictionary/\"\n",
    "suffix = \"{}_all.htm\"\n",
    "\n",
    "for letter in string.ascii_lowercase:\n",
    "\n",
    "    file = f\"html/dreamdictionary/{letter}_all.html\"\n",
    "\n",
    "    url = base_url + suffix.format(letter)\n",
    "\n",
    "    download_page(url, file)\n",
    "    time.sleep(.5)  # Sleep for 1 second to avoid overwhelming the server\n"
   ]
  },
  {
   "cell_type": "markdown",
   "id": "849e7eb7",
   "metadata": {},
   "source": [
    "### Custom scraper\n",
    "Their HTML structure, however, is anything but simple. So we had to build a highly customized scraper.  \n",
    "By manually inspecting the (highly inconsistent) html structure, we surmized that the required data is stored in a series of `<p>` paragraph tags under a single `<td>` tag, which can be accessed with a constant xpath.  \n",
    "We came up with a recursive approach to scan the html tree and infer the type of content in a paragraph:  \n",
    "\n",
    " - A dream symbol (represented by a bold header)  \n",
    "or  \n",
    " - A sentence containing description and interpretation of one of the contexts  \n",
    "or  \n",
    " - A reference to a synonym of the symbol  \n",
    "or  \n",
    " - Trash content, that can be discarded"
   ]
  },
  {
   "cell_type": "code",
   "execution_count": 245,
   "id": "b5ae99e1",
   "metadata": {},
   "outputs": [],
   "source": [
    "# use this string to debug code near specific text in html\n",
    "breakpointstring = \"your anchor text\"\n",
    "debugging = False\n",
    "\n",
    "def brpt_anchor(val):\n",
    "    if not debugging:\n",
    "        return\n",
    "    #if re.search(breakpointstring, tc): \n",
    "    if breakpointstring.lower() in str(val).lower():\n",
    "        print(\"found anchor text: \", breakpointstring, \", value: \", val)"
   ]
  },
  {
   "cell_type": "code",
   "execution_count": 224,
   "id": "53577f85",
   "metadata": {},
   "outputs": [],
   "source": [
    "\n",
    "def break_attr(dic):\n",
    "    drop = ['style','align','face']\n",
    "    for dr in drop:\n",
    "        if dr in dic:\n",
    "            dic.pop(dr)\n",
    "    return str(dic)\n",
    "\n",
    "def classify(t):\n",
    "    \n",
    "    brpt_anchor(t.text)\n",
    "        \n",
    "    \n",
    "    if type(t) is lxml.html.HtmlComment:\n",
    "        return \"trsh\"\n",
    "\n",
    "    if t.tag == \"b\":\n",
    "        return \"mean\" #\"bold\"\n",
    "    \n",
    "    trashtags = [\"div\",\"script\",\"iframe\",\"img\"]\n",
    "\n",
    "    if t.tag == \"strong\":\n",
    "        return \"sym\" #\"bold\"    \n",
    "\n",
    "    elif t.tag == \"font\":\n",
    "\n",
    "        if 'size' in t.attrib:\n",
    "            sz = t.attrib['size']\n",
    "            if sz == \"4\" or sz == \"+1\":\n",
    "                return \"sym\" #\"size4\"\n",
    "            elif sz == \"3\":\n",
    "                return \"mean\" #\"size3\"\n",
    "        else:\n",
    "            return \"mean\" # no size defined\n",
    "            \n",
    "    elif t.tag == \"a\":\n",
    "        if 'href' in t.attrib:\n",
    "            if t.attrib['href'] == \"#Top\":\n",
    "                return \"trsh\"\n",
    "            return \"link\"\n",
    "        elif 'name' in t.attrib:\n",
    "            return \"sym\" #\"header\"\n",
    "    \n",
    "    elif t.tag in trashtags:\n",
    "        return \"trsh\"\n",
    "    \n",
    "    return \"mean\" # \"desc\"\n",
    "\n",
    "def fetch_link(chld):\n",
    "\n",
    "    if chld.tag == \"a\":\n",
    "        if 'href' in chld.attrib:\n",
    "            return ',' + chld.attrib['href'] + ','\n",
    "            \n",
    "    else:\n",
    "        for c in chld.getchildren():\n",
    "            href = fetch_link(c)\n",
    "            if href != \"\":\n",
    "                return href\n",
    "        return \"\"\n",
    "\n",
    "\n",
    "def collect(node, cl):\n",
    "\n",
    "    brpt_anchor(node.text)\n",
    "\n",
    "    if \"trsh\" in cl:\n",
    "        return \"\"    \n",
    "    \n",
    "    if \"link\" in cl:\n",
    "        res = fetch_link(node)\n",
    "        return res\n",
    "    \n",
    "    if node.text == None:\n",
    "        return \"\"\n",
    "\n",
    "    else:\n",
    "        #res = node.text_content()\n",
    "        res = str(node.text  or '')+  str(node.tail or'')\n",
    "        res = res.replace(\"\\xa0\",\" \")\n",
    "        res = re.sub(r\"\\n+\",\"\\n\",res)\n",
    "        res = re.sub(r'\\s+', ' ', res)\n",
    "        # if cl == \"mean\":\n",
    "        #     res = res + \" \"\n",
    "        return res\n",
    "\n",
    "\n",
    "def breakdown(node):\n",
    "    \n",
    "    brpt_anchor(node.text_content())\n",
    "\n",
    "    clas = [classify(node)]\n",
    "    cont = [collect(node, clas[0])]\n",
    "\n",
    "    if \"trsh\" in clas[-1]:\n",
    "        return [\"trsh\"], \"\"\n",
    "    \n",
    "    for c in node.getchildren():\n",
    "        \n",
    "        cl, co = breakdown(c)\n",
    "\n",
    "        clas += cl\n",
    "        cont += co\n",
    "\n",
    "    return clas, cont\n",
    "\n",
    "\n",
    "def extract_reference(cont):\n",
    "    syms = []\n",
    "    for c in cont:\n",
    "        c= c.lower()\n",
    "        if \"dreammoods.com/dreamdictionary\" in c and \"#\" in c:\n",
    "            syms.append(\"#Ref:\" + c.split(\"#\")[-1].strip(\",\"))\n",
    "        elif \"lease\" in c or \"see\" in c:\n",
    "            if \"also\" in c:\n",
    "                return None\n",
    "            #syms.append(c)\n",
    "    return syms[0] if len(syms)>0 else None\n",
    "\n",
    "\n",
    "\n",
    "def collect_paragraphs(r):\n",
    "    syms_data = []\n",
    "    for c in r.getchildren():\n",
    "        clas, cont = breakdown(c)\n",
    "        fclas = \"sym\" if \"sym\" in clas else \"link\" if \"link\" in clas else \"mean\"\n",
    "        \n",
    "        if fclas == \"link\":\n",
    "            text = extract_reference(cont)\n",
    "        else:\n",
    "            text = \"\".join(cont).strip()\n",
    "            text = re.sub(r'\\s+', ' ', text)\n",
    "        syms_data.append({\"clas\": clas, \"final_class\":fclas, \"cont\": cont, \"text\": text})\n",
    "\n",
    "    return syms_data\n",
    "\n"
   ]
  },
  {
   "cell_type": "markdown",
   "id": "7aaf6bbe",
   "metadata": {},
   "source": [
    "Test with a single file, e.g. c_all.html"
   ]
  },
  {
   "cell_type": "code",
   "execution_count": 225,
   "id": "6e5c9b44",
   "metadata": {},
   "outputs": [],
   "source": [
    "breakpointstring = \"door kno\"\n",
    "letter = \"b\"\n",
    "\n",
    "with open(f\"html/dreamdictionary/{letter}_all.html\", \"r\") as f:\n",
    "    html = f.read()\n",
    "\n",
    "html = html.replace(\"\\xa0\",\" \")\n",
    "\n",
    "xp = \"/html/body/table[2]/tr/td/div/center/table/tr[4]/td[1]\"\n",
    "\n",
    "tree = lhtml.fromstring(html)\n",
    "\n",
    "tabl = tree.xpath(xp)[0]\n",
    "\n",
    "sd = collect_paragraphs(tabl)\n"
   ]
  },
  {
   "cell_type": "code",
   "execution_count": 226,
   "id": "6a54617e",
   "metadata": {},
   "outputs": [
    {
     "data": {
      "application/vnd.microsoft.datawrangler.viewer.v0+json": {
       "columns": [
        {
         "name": "index",
         "rawType": "int64",
         "type": "integer"
        },
        {
         "name": "clas",
         "rawType": "object",
         "type": "unknown"
        },
        {
         "name": "final_class",
         "rawType": "object",
         "type": "string"
        },
        {
         "name": "cont",
         "rawType": "object",
         "type": "unknown"
        },
        {
         "name": "text",
         "rawType": "object",
         "type": "unknown"
        }
       ],
       "conversionMethod": "pd.DataFrame",
       "ref": "b8dda0d6-2daf-4b6e-ae91-1e297d56b3d3",
       "rows": [
        [
         "0",
         "['mean', 'sym', 'trsh']",
         "sym",
         "['', ' ']",
         ""
        ],
        [
         "1",
         "['mean', 'mean', 'sym']",
         "sym",
         "['', '', 'B']",
         "B"
        ],
        [
         "2",
         "['mean', 'mean', 'mean', 'mean', 'mean', 'trsh']",
         "mean",
         "['', 'To see the letter B in your dream is a pun on \"to be\". Perhaps the dream is telling you to \"let it be\". ', ' ', '', ' ']",
         "To see the letter B in your dream is a pun on \"to be\". Perhaps the dream is telling you to \"let it be\"."
        ],
        [
         "3",
         "['mean', 'mean', 'sym']",
         "sym",
         "['', '', 'Baboon']",
         "Baboon"
        ],
        [
         "4",
         "['mean', 'mean']",
         "mean",
         "['', 'To see a baboon in your dream suggests that you need to be more expressive in your feelings. You need to be more direct in telling others how you feel. On the hand, it could be saying that you are expressing yourself in an inappropriate manner. ']",
         "To see a baboon in your dream suggests that you need to be more expressive in your feelings. You need to be more direct in telling others how you feel. On the hand, it could be saying that you are expressing yourself in an inappropriate manner."
        ],
        [
         "5",
         "['mean', 'mean', 'mean', 'mean', 'mean', 'trsh']",
         "mean",
         "['', 'In particular, dreaming of a white baboon means that you are completely devoid of emotions.', ' ', '', ' ']",
         "In particular, dreaming of a white baboon means that you are completely devoid of emotions."
        ],
        [
         "6",
         "['mean', 'mean', 'sym', 'sym']",
         "sym",
         "['', '', '', 'Baby']",
         "Baby"
        ],
        [
         "7",
         "['mean', 'mean', 'mean']",
         "mean",
         "['', 'To see a baby in your dream signifies innocence, warmth and new beginnings. Babies symbolize something in your own inner nature that is pure, vulnerable, helpless and/or uncorrupted. If you dream that the baby is smiling at you, then it suggests that you are experiencing pure joy. You do not ask for much to make you happy. ', \" If you find a baby in your dream, then it suggests that you have acknowledged your hidden potential. If you dream that you forgot you had a baby, then it suggests that you are trying hide your own vulnerabilities; you do not want to let others know of your weaknesses. Alternatively, forgetting about a baby represents an aspect of yourself that you have abandoned or put aside due to life's changing circumstances. The dream may serve as a reminder that it is time for you to pick up that old interest, hobby, or project again. Dreaming of holding a baby is analogous to holding onto an earlier part of yoru life where you felt more depended on and more needed.\"]",
         "To see a baby in your dream signifies innocence, warmth and new beginnings. Babies symbolize something in your own inner nature that is pure, vulnerable, helpless and/or uncorrupted. If you dream that the baby is smiling at you, then it suggests that you are experiencing pure joy. You do not ask for much to make you happy. If you find a baby in your dream, then it suggests that you have acknowledged your hidden potential. If you dream that you forgot you had a baby, then it suggests that you are trying hide your own vulnerabilities; you do not want to let others know of your weaknesses. Alternatively, forgetting about a baby represents an aspect of yourself that you have abandoned or put aside due to life's changing circumstances. The dream may serve as a reminder that it is time for you to pick up that old interest, hobby, or project again. Dreaming of holding a baby is analogous to holding onto an earlier part of yoru life where you felt more depended on and more needed."
        ],
        [
         "8",
         "['mean', 'mean']",
         "mean",
         "['', 'If you dream that you are on your way to the hospital to have a baby, then it signifies your issues of dependency and your desires to be completely cared for. Perhaps you are trying to get out of some responsibility. If you are pregnant in real life, then a more direct interpretation may simply mean that you are experiencing some anxieties of making it to the hospital when the time comes. ']",
         "If you dream that you are on your way to the hospital to have a baby, then it signifies your issues of dependency and your desires to be completely cared for. Perhaps you are trying to get out of some responsibility. If you are pregnant in real life, then a more direct interpretation may simply mean that you are experiencing some anxieties of making it to the hospital when the time comes."
        ],
        [
         "9",
         "['mean', 'mean']",
         "mean",
         "['', 'To dream of a crying baby symbolizes a part of yourself that is deprived of attention and needs to be nurtured. Alternatively, it represents your unfulfilled goals and a sense of lacking in your life. If you dream that a baby is neglected, then it suggests that you are not paying enough attention to yourself. You are not utilizing your full potential. Alternatively, this dream could represent your fears about your own children and your ability to protect and to provide for them. ']",
         "To dream of a crying baby symbolizes a part of yourself that is deprived of attention and needs to be nurtured. Alternatively, it represents your unfulfilled goals and a sense of lacking in your life. If you dream that a baby is neglected, then it suggests that you are not paying enough attention to yourself. You are not utilizing your full potential. Alternatively, this dream could represent your fears about your own children and your ability to protect and to provide for them."
        ],
        [
         "10",
         "['mean', 'mean']",
         "mean",
         "['', 'To dream about a starving baby represents your dependence on others. You are experiencing some deficiency in your life that needs immediate attention and gratification.']",
         "To dream about a starving baby represents your dependence on others. You are experiencing some deficiency in your life that needs immediate attention and gratification."
        ],
        [
         "11",
         "['mean', 'mean']",
         "mean",
         "['', 'To see yourself or someone as a baby in your dream refers to your desire to be cared for and nurtured. Alternatively, the dream may mean that you or someone is behaving immaturely.']",
         "To see yourself or someone as a baby in your dream refers to your desire to be cared for and nurtured. Alternatively, the dream may mean that you or someone is behaving immaturely."
        ],
        [
         "12",
         "['mean', 'mean']",
         "mean",
         "['', 'To dream that a baby is walking or dancing refers to the potential and possibilities that life has in stored for you. The future looks bright. The dream may also be a metaphor that you need to take baby steps in your relationship, toward your goal, in a work project or whatever undertaking. If you have a baby in real life, then the dream is a reflection of your hopes for that baby.']",
         "To dream that a baby is walking or dancing refers to the potential and possibilities that life has in stored for you. The future looks bright. The dream may also be a metaphor that you need to take baby steps in your relationship, toward your goal, in a work project or whatever undertaking. If you have a baby in real life, then the dream is a reflection of your hopes for that baby."
        ],
        [
         "13",
         "['mean', 'mean']",
         "mean",
         "['', 'To dream of an extremely small baby symbolizes your helplessness and your fears of letting others become aware of your vulnerabilities and incompetence. You may be afraid to ask for help and as a result tend to take matters into your own hands.']",
         "To dream of an extremely small baby symbolizes your helplessness and your fears of letting others become aware of your vulnerabilities and incompetence. You may be afraid to ask for help and as a result tend to take matters into your own hands."
        ],
        [
         "14",
         "['mean', 'mean']",
         "mean",
         "['', 'To see a dead baby in your dream symbolizes the ending of something that was once a part of you. If you dream that you are trying to snort up a dead baby, then it means that you are refusing to move onto a new stage of life. You are holding onto a dead past. ']",
         "To see a dead baby in your dream symbolizes the ending of something that was once a part of you. If you dream that you are trying to snort up a dead baby, then it means that you are refusing to move onto a new stage of life. You are holding onto a dead past."
        ],
        [
         "15",
         "['mean', 'mean', 'mean', 'mean']",
         "mean",
         "['', 'To dream that you are dipping a baby in and out of water sig', 'nifies regression. You are regressing to a time where you had no worries and responsibilities. Alternatively, such a scenario is reminisce of when the baby is in the fetus and in its comfort zone. In fact, some expectant mothers even give birth in a pool, because the environment in the water mimics the environment in the uterus. It is less traumatic for the baby as it emerges into the world. So perhaps, the dream represents your search for your own comfort zone.', ' ']",
         "To dream that you are dipping a baby in and out of water signifies regression. You are regressing to a time where you had no worries and responsibilities. Alternatively, such a scenario is reminisce of when the baby is in the fetus and in its comfort zone. In fact, some expectant mothers even give birth in a pool, because the environment in the water mimics the environment in the uterus. It is less traumatic for the baby as it emerges into the world. So perhaps, the dream represents your search for your own comfort zone."
        ],
        [
         "16",
         "['mean', 'mean']",
         "mean",
         "['', 'Dreaming of rescuing a drowning baby means that you are allowing yourself to be vulnerable and accepting help from others.']",
         "Dreaming of rescuing a drowning baby means that you are allowing yourself to be vulnerable and accepting help from others."
        ],
        [
         "17",
         "['mean', 'mean', 'mean', 'mean', 'mean']",
         "mean",
         "['', \"If you dream of having or adopting a baby of a different race, then it means that you are acknowledging and/or embracing other's physical differences.\", ' Everyone started out as a baby who is pure and innocent. ', '', ' ']",
         "If you dream of having or adopting a baby of a different race, then it means that you are acknowledging and/or embracing other's physical differences. Everyone started out as a baby who is pure and innocent."
        ],
        [
         "18",
         "['mean', 'mean', 'trsh']",
         "mean",
         "['', 'Seeing an evil baby or a demon baby in your dream implies that you are apprehensive or afraid of a new project that you are undertaking. You may be taking on more than you can handle. If you dream that a baby has a third eye on the back of the head, then it means getting caught. You are acting carelessly when you think no on is watching. ']",
         "Seeing an evil baby or a demon baby in your dream implies that you are apprehensive or afraid of a new project that you are undertaking. You may be taking on more than you can handle. If you dream that a baby has a third eye on the back of the head, then it means getting caught. You are acting carelessly when you think no on is watching."
        ],
        [
         "19",
         "['mean', 'mean', 'mean', 'link']",
         "link",
         "['', '', \"***Read DreamMoods' section on \", ',http://www.dreammoods.com/dreaminformation/pregnancy-dreams.htm,']",
         null
        ],
        [
         "20",
         "['mean', 'mean', 'sym']",
         "sym",
         "['', '', 'Baby Bottle']",
         "Baby Bottle"
        ],
        [
         "21",
         "['mean', 'mean', 'mean', 'mean', 'mean', 'mean', 'trsh']",
         "mean",
         "['', 'To see a baby bottle in your dream represents your issues of dependency. You are relying too much on others. If you are drinking from a baby bottle, then the dream means that you need are emotionally immature. You need to grow up.', ' ', ' ', '', ' ']",
         "To see a baby bottle in your dream represents your issues of dependency. You are relying too much on others. If you are drinking from a baby bottle, then the dream means that you need are emotionally immature. You need to grow up."
        ],
        [
         "22",
         "['mean', 'mean', 'sym', 'sym']",
         "sym",
         "['', '', '', 'Baby Carriage']",
         "Baby Carriage"
        ],
        [
         "23",
         "['mean', 'mean', 'mean', 'mean', 'mean', 'mean', 'trsh']",
         "mean",
         "['', 'To see a baby carriage in your dream symbolizes your desire for a family or longing for a baby. If the baby carriage is empty, then it indicates sadness or an unfulfilled goal. Alternatively, it suggests that you need to cater to the needs of your own inner child. ', ' ', ' ', '', ' ']",
         "To see a baby carriage in your dream symbolizes your desire for a family or longing for a baby. If the baby carriage is empty, then it indicates sadness or an unfulfilled goal. Alternatively, it suggests that you need to cater to the needs of your own inner child."
        ],
        [
         "24",
         "['mean', 'mean', 'sym', 'sym']",
         "sym",
         "['', '', '', 'Baby Clothes']",
         "Baby Clothes"
        ],
        [
         "25",
         "['mean', 'mean', 'mean', 'mean', 'mean', 'mean', 'trsh']",
         "mean",
         "['', 'To see baby clothes in your dream suggests that you are expressing yourself in a more subtle way. Alternatively, baby clothes represent your former ways of thinking or old habits which you have outgrown.', ' ', ' ', '', ' ']",
         "To see baby clothes in your dream suggests that you are expressing yourself in a more subtle way. Alternatively, baby clothes represent your former ways of thinking or old habits which you have outgrown."
        ],
        [
         "26",
         "['mean', 'mean', 'sym']",
         "sym",
         "['', '', 'Baby Food']",
         "Baby Food"
        ],
        [
         "27",
         "['mean', 'mean', 'mean']",
         "mean",
         "['', '', 'To see or feed baby food in your dream indicates that nurturance and care is needed in a waking situation. Alternatively, the dream may be a metaphor to indicate that you need to eat smaller portions of food. ']",
         "To see or feed baby food in your dream indicates that nurturance and care is needed in a waking situation. Alternatively, the dream may be a metaphor to indicate that you need to eat smaller portions of food."
        ],
        [
         "28",
         "['mean', 'mean', 'mean', 'mean', 'mean', 'mean', 'trsh']",
         "mean",
         "['', 'To eat or dream that you are being fed baby food indicates that you are being forced to re-learn something that you already know. ', ' ', ' ', '', ' ']",
         "To eat or dream that you are being fed baby food indicates that you are being forced to re-learn something that you already know."
        ],
        [
         "29",
         "['mean', 'mean', 'sym', 'sym']",
         "sym",
         "['', '', '', 'Baby Shower']",
         "Baby Shower"
        ],
        [
         "30",
         "['mean', 'mean', 'mean', 'mean', 'mean', 'mean', 'trsh']",
         "mean",
         "['', 'To dream of a baby shower suggests that you are welcoming a new start. You are given a chance to start over again and do things differently this time around. You have a new found faith in life itself. ', ' ', ' ', '', ' ']",
         "To dream of a baby shower suggests that you are welcoming a new start. You are given a chance to start over again and do things differently this time around. You have a new found faith in life itself."
        ],
        [
         "31",
         "['mean', 'mean', 'sym']",
         "sym",
         "['', '', 'Babysitter']",
         "Babysitter"
        ],
        [
         "32",
         "['mean', 'mean']",
         "mean",
         "['', 'To dream that you are babysitting suggests that you need to care for the child within yourself.']",
         "To dream that you are babysitting suggests that you need to care for the child within yourself."
        ],
        [
         "33",
         "['mean', 'mean', 'mean', 'mean', 'mean', 'mean', 'trsh']",
         "mean",
         "['', 'To see or call for a babysitter in your dream indicates that you need to acknowledge and work on your inner child.', ' ', ' ', '', ' ']",
         "To see or call for a babysitter in your dream indicates that you need to acknowledge and work on your inner child."
        ],
        [
         "34",
         "['mean', 'mean', 'sym', 'sym']",
         "sym",
         "['', '', '', 'Bachelor']",
         "Bachelor"
        ],
        [
         "35",
         "['mean', 'mean', 'mean', 'mean', 'mean', 'mean', 'trsh']",
         "mean",
         "['', 'To meet a bachelor in your dream suggests that you are seeking freedom in your love life. For a man to dream that he is a bachelor indicates that he is having difficulty with gaining his own sense of self or freedom in a relationship. Alternatively, the bachelor represents your masculine side.', ' ', ' ', '', ' ']",
         "To meet a bachelor in your dream suggests that you are seeking freedom in your love life. For a man to dream that he is a bachelor indicates that he is having difficulty with gaining his own sense of self or freedom in a relationship. Alternatively, the bachelor represents your masculine side."
        ],
        [
         "36",
         "['mean', 'sym', 'sym']",
         "sym",
         "['', '', 'Back-biting']",
         "Back-biting"
        ],
        [
         "37",
         "['mean', 'mean']",
         "mean",
         "['', 'To dream of back-biting about someone warns that you will cause harm to someone if you continue on your current course. Think twice over your actions and its consequences.']",
         "To dream of back-biting about someone warns that you will cause harm to someone if you continue on your current course. Think twice over your actions and its consequences."
        ],
        [
         "38",
         "['mean', 'mean', 'mean', 'mean', 'mean', 'mean', 'trsh']",
         "mean",
         "['', 'To dream that someone is back-biting you signifies that you will have some family problems. ', ' ', ' ', '', ' ']",
         "To dream that someone is back-biting you signifies that you will have some family problems."
        ],
        [
         "39",
         "['mean', 'mean', 'sym']",
         "sym",
         "['', '', 'Back']",
         "Back"
        ],
        [
         "40",
         "['mean', 'mean']",
         "mean",
         "['', 'To dream of your back represents your attitudes, strengths, burdens and stance in the world. It may also relate to stress and pressure that someone is putting on you.']",
         "To dream of your back represents your attitudes, strengths, burdens and stance in the world. It may also relate to stress and pressure that someone is putting on you."
        ],
        [
         "41",
         "['mean', 'mean']",
         "mean",
         "['', 'To see a naked back in your dream symbolizes secrets that you may have kept from others or aspects of yourself that you have kept hidden and shielded away. Consider the phrase, \"watch your back!\"; this dream may be telling you to do just that. Traditionally, seeing a back in your dream forewarns that you should not lend money to anyone. In particular, lending money to friends will cause a rift in your relationship.']",
         "To see a naked back in your dream symbolizes secrets that you may have kept from others or aspects of yourself that you have kept hidden and shielded away. Consider the phrase, \"watch your back!\"; this dream may be telling you to do just that. Traditionally, seeing a back in your dream forewarns that you should not lend money to anyone. In particular, lending money to friends will cause a rift in your relationship."
        ],
        [
         "42",
         "['mean', 'mean', 'mean']",
         "mean",
         "['', 'To see a person turn their back on you signifies that you will be deeply hurt as a result of envy and jealousy.', ' ']",
         "To see a person turn their back on you signifies that you will be deeply hurt as a result of envy and jealousy."
        ],
        [
         "43",
         "['mean', 'mean', 'mean', 'mean', 'mean', 'mean', 'mean', 'trsh']",
         "mean",
         "['', 'If you suffer from back pain, then you ', 'may have dreams of breaking your back or throwing your back out. Your dreams incorporate things from your waking life, even physical pain.', '', ' ', '', ' ']",
         "If you suffer from back pain, then you may have dreams of breaking your back or throwing your back out. Your dreams incorporate things from your waking life, even physical pain."
        ],
        [
         "44",
         "['mean', 'mean', 'sym']",
         "sym",
         "['', '', 'Backbone']",
         "Backbone"
        ],
        [
         "45",
         "['mean', 'mean', 'mean', 'link']",
         "link",
         "['', '', '*Please see ', ',http://www.dreammoods.com/dreamdictionary/s4.htm#Spine,']",
         "#Ref:spine"
        ],
        [
         "46",
         "['mean', 'sym', 'sym']",
         "sym",
         "['', '', 'Backdoor']",
         "Backdoor"
        ],
        [
         "47",
         "['mean', 'mean', 'mean', 'mean', 'mean', 'mean', 'trsh']",
         "mean",
         "['', 'To see a backdoor in your dream suggests that you need to search a little harder to find an answer to your problem. Sometimes the solution may not be obvious. Alternatively, the dream indicates that you are trying to find short cuts to do things. ', ' ', ' ', '', ' ']",
         "To see a backdoor in your dream suggests that you need to search a little harder to find an answer to your problem. Sometimes the solution may not be obvious. Alternatively, the dream indicates that you are trying to find short cuts to do things."
        ],
        [
         "48",
         "['mean', 'sym', 'sym']",
         "sym",
         "['', '', 'Backflips']",
         "Backflips"
        ],
        [
         "49",
         "['mean', 'mean', 'mean', 'mean', 'mean', 'mean', 'trsh']",
         "mean",
         "['', 'To dream that you are doing backflips suggests that you are going out of your way to help or please someone. You may feel under-appreciated or that your work is going unnoticed.', ' ', ' ', '', ' ']",
         "To dream that you are doing backflips suggests that you are going out of your way to help or please someone. You may feel under-appreciated or that your work is going unnoticed."
        ]
       ],
       "shape": {
        "columns": 4,
        "rows": 1319
       }
      },
      "text/html": [
       "<div>\n",
       "<style scoped>\n",
       "    .dataframe tbody tr th:only-of-type {\n",
       "        vertical-align: middle;\n",
       "    }\n",
       "\n",
       "    .dataframe tbody tr th {\n",
       "        vertical-align: top;\n",
       "    }\n",
       "\n",
       "    .dataframe thead th {\n",
       "        text-align: right;\n",
       "    }\n",
       "</style>\n",
       "<table border=\"1\" class=\"dataframe\">\n",
       "  <thead>\n",
       "    <tr style=\"text-align: right;\">\n",
       "      <th></th>\n",
       "      <th>clas</th>\n",
       "      <th>final_class</th>\n",
       "      <th>cont</th>\n",
       "      <th>text</th>\n",
       "    </tr>\n",
       "  </thead>\n",
       "  <tbody>\n",
       "    <tr>\n",
       "      <th>0</th>\n",
       "      <td>[mean, sym, trsh]</td>\n",
       "      <td>sym</td>\n",
       "      <td>[,  ]</td>\n",
       "      <td></td>\n",
       "    </tr>\n",
       "    <tr>\n",
       "      <th>1</th>\n",
       "      <td>[mean, mean, sym]</td>\n",
       "      <td>sym</td>\n",
       "      <td>[, , B]</td>\n",
       "      <td>B</td>\n",
       "    </tr>\n",
       "    <tr>\n",
       "      <th>2</th>\n",
       "      <td>[mean, mean, mean, mean, mean, trsh]</td>\n",
       "      <td>mean</td>\n",
       "      <td>[, To see the letter B in your dream is a pun ...</td>\n",
       "      <td>To see the letter B in your dream is a pun on ...</td>\n",
       "    </tr>\n",
       "    <tr>\n",
       "      <th>3</th>\n",
       "      <td>[mean, mean, sym]</td>\n",
       "      <td>sym</td>\n",
       "      <td>[, , Baboon]</td>\n",
       "      <td>Baboon</td>\n",
       "    </tr>\n",
       "    <tr>\n",
       "      <th>4</th>\n",
       "      <td>[mean, mean]</td>\n",
       "      <td>mean</td>\n",
       "      <td>[, To see a baboon in your dream suggests that...</td>\n",
       "      <td>To see a baboon in your dream suggests that yo...</td>\n",
       "    </tr>\n",
       "    <tr>\n",
       "      <th>...</th>\n",
       "      <td>...</td>\n",
       "      <td>...</td>\n",
       "      <td>...</td>\n",
       "      <td>...</td>\n",
       "    </tr>\n",
       "    <tr>\n",
       "      <th>1314</th>\n",
       "      <td>[mean, mean, sym]</td>\n",
       "      <td>sym</td>\n",
       "      <td>[, , Buzzard]</td>\n",
       "      <td>Buzzard</td>\n",
       "    </tr>\n",
       "    <tr>\n",
       "      <th>1315</th>\n",
       "      <td>[mean, mean, mean, mean, mean, mean, trsh]</td>\n",
       "      <td>mean</td>\n",
       "      <td>[, To see a buzzard in your dream symbolizes d...</td>\n",
       "      <td>To see a buzzard in your dream symbolizes deat...</td>\n",
       "    </tr>\n",
       "    <tr>\n",
       "      <th>1316</th>\n",
       "      <td>[mean]</td>\n",
       "      <td>mean</td>\n",
       "      <td>[ ]</td>\n",
       "      <td></td>\n",
       "    </tr>\n",
       "    <tr>\n",
       "      <th>1317</th>\n",
       "      <td>[mean]</td>\n",
       "      <td>mean</td>\n",
       "      <td>[ ]</td>\n",
       "      <td></td>\n",
       "    </tr>\n",
       "    <tr>\n",
       "      <th>1318</th>\n",
       "      <td>[mean, trsh]</td>\n",
       "      <td>mean</td>\n",
       "      <td>[]</td>\n",
       "      <td></td>\n",
       "    </tr>\n",
       "  </tbody>\n",
       "</table>\n",
       "<p>1319 rows × 4 columns</p>\n",
       "</div>"
      ],
      "text/plain": [
       "                                            clas final_class  \\\n",
       "0                              [mean, sym, trsh]         sym   \n",
       "1                              [mean, mean, sym]         sym   \n",
       "2           [mean, mean, mean, mean, mean, trsh]        mean   \n",
       "3                              [mean, mean, sym]         sym   \n",
       "4                                   [mean, mean]        mean   \n",
       "...                                          ...         ...   \n",
       "1314                           [mean, mean, sym]         sym   \n",
       "1315  [mean, mean, mean, mean, mean, mean, trsh]        mean   \n",
       "1316                                      [mean]        mean   \n",
       "1317                                      [mean]        mean   \n",
       "1318                                [mean, trsh]        mean   \n",
       "\n",
       "                                                   cont  \\\n",
       "0                                                 [,  ]   \n",
       "1                                               [, , B]   \n",
       "2     [, To see the letter B in your dream is a pun ...   \n",
       "3                                          [, , Baboon]   \n",
       "4     [, To see a baboon in your dream suggests that...   \n",
       "...                                                 ...   \n",
       "1314                                      [, , Buzzard]   \n",
       "1315  [, To see a buzzard in your dream symbolizes d...   \n",
       "1316                                                [ ]   \n",
       "1317                                                [ ]   \n",
       "1318                                                 []   \n",
       "\n",
       "                                                   text  \n",
       "0                                                        \n",
       "1                                                     B  \n",
       "2     To see the letter B in your dream is a pun on ...  \n",
       "3                                                Baboon  \n",
       "4     To see a baboon in your dream suggests that yo...  \n",
       "...                                                 ...  \n",
       "1314                                            Buzzard  \n",
       "1315  To see a buzzard in your dream symbolizes deat...  \n",
       "1316                                                     \n",
       "1317                                                     \n",
       "1318                                                     \n",
       "\n",
       "[1319 rows x 4 columns]"
      ]
     },
     "execution_count": 226,
     "metadata": {},
     "output_type": "execute_result"
    }
   ],
   "source": [
    "sd = pd.DataFrame(sd)\n",
    "sd"
   ]
  },
  {
   "cell_type": "markdown",
   "id": "1e55bd3c",
   "metadata": {},
   "source": [
    "At this point we've collected the contents of all the `<p>` tags under the aforementioned xpath in the order of their appearance and classified them to either a symbol, a meaning or a link.  \n",
    "Next, we squash these contents into a dataset of pairs `symbol`, `multiple meanings` "
   ]
  },
  {
   "cell_type": "code",
   "execution_count": 227,
   "id": "c4602e4b",
   "metadata": {},
   "outputs": [],
   "source": [
    "def squeeze_meaning_by_symbol(syms_data):\n",
    "    # convert scraped data to symbol: meaning data \n",
    "    data2 =[]\n",
    "    sym = \"\"\n",
    "    meanings = []\n",
    "\n",
    "    for i, r in syms_data.iterrows():\n",
    "        if r['final_class'] == \"sym\":\n",
    "            \n",
    "            data2.append({\"symbol\": sym, \"meaning\": meanings})\n",
    "            meanings = []\n",
    "            sym = r['text']\n",
    "        else:\n",
    "            if r['text'] is not None:\n",
    "                meanings.append(r['text'])\n",
    "        \n",
    "\n",
    "    data2 = pd.DataFrame(data2)\n",
    "    data2['n_meanings'] = data2.meaning.apply(len)\n",
    "    return data2\n",
    "\n"
   ]
  },
  {
   "cell_type": "markdown",
   "id": "969894cb",
   "metadata": {},
   "source": [
    "Then explode the dataset into pairs of `symbol` and `meaning`  \n",
    "Some meanings are just **#Ref**erences to synonyms"
   ]
  },
  {
   "cell_type": "code",
   "execution_count": 228,
   "id": "510e2220",
   "metadata": {},
   "outputs": [
    {
     "data": {
      "application/vnd.microsoft.datawrangler.viewer.v0+json": {
       "columns": [
        {
         "name": "index",
         "rawType": "int64",
         "type": "integer"
        },
        {
         "name": "symbol",
         "rawType": "object",
         "type": "string"
        },
        {
         "name": "meaning",
         "rawType": "object",
         "type": "string"
        },
        {
         "name": "n_meanings",
         "rawType": "int64",
         "type": "integer"
        },
        {
         "name": "mean_len",
         "rawType": "float64",
         "type": "float"
        }
       ],
       "conversionMethod": "pd.DataFrame",
       "ref": "a85ecc6c-2fc3-4fbf-b848-ef70a6255e5e",
       "rows": [
        [
         "2",
         "B",
         "To see the letter B in your dream is a pun on \"to be\". Perhaps the dream is telling you to \"let it be\".",
         "1",
         "103.0"
        ],
        [
         "3",
         "Baboon",
         "To see a baboon in your dream suggests that you need to be more expressive in your feelings. You need to be more direct in telling others how you feel. On the hand, it could be saying that you are expressing yourself in an inappropriate manner.",
         "2",
         "244.0"
        ],
        [
         "3",
         "Baboon",
         "In particular, dreaming of a white baboon means that you are completely devoid of emotions.",
         "2",
         "91.0"
        ],
        [
         "4",
         "Baby",
         "To see a baby in your dream signifies innocence, warmth and new beginnings. Babies symbolize something in your own inner nature that is pure, vulnerable, helpless and/or uncorrupted. If you dream that the baby is smiling at you, then it suggests that you are experiencing pure joy. You do not ask for much to make you happy. If you find a baby in your dream, then it suggests that you have acknowledged your hidden potential. If you dream that you forgot you had a baby, then it suggests that you are trying hide your own vulnerabilities; you do not want to let others know of your weaknesses. Alternatively, forgetting about a baby represents an aspect of yourself that you have abandoned or put aside due to life's changing circumstances. The dream may serve as a reminder that it is time for you to pick up that old interest, hobby, or project again. Dreaming of holding a baby is analogous to holding onto an earlier part of yoru life where you felt more depended on and more needed.",
         "12",
         "987.0"
        ],
        [
         "4",
         "Baby",
         "If you dream that you are on your way to the hospital to have a baby, then it signifies your issues of dependency and your desires to be completely cared for. Perhaps you are trying to get out of some responsibility. If you are pregnant in real life, then a more direct interpretation may simply mean that you are experiencing some anxieties of making it to the hospital when the time comes.",
         "12",
         "391.0"
        ],
        [
         "4",
         "Baby",
         "To dream of a crying baby symbolizes a part of yourself that is deprived of attention and needs to be nurtured. Alternatively, it represents your unfulfilled goals and a sense of lacking in your life. If you dream that a baby is neglected, then it suggests that you are not paying enough attention to yourself. You are not utilizing your full potential. Alternatively, this dream could represent your fears about your own children and your ability to protect and to provide for them.",
         "12",
         "483.0"
        ],
        [
         "4",
         "Baby",
         "To dream about a starving baby represents your dependence on others. You are experiencing some deficiency in your life that needs immediate attention and gratification.",
         "12",
         "168.0"
        ],
        [
         "4",
         "Baby",
         "To see yourself or someone as a baby in your dream refers to your desire to be cared for and nurtured. Alternatively, the dream may mean that you or someone is behaving immaturely.",
         "12",
         "180.0"
        ],
        [
         "4",
         "Baby",
         "To dream that a baby is walking or dancing refers to the potential and possibilities that life has in stored for you. The future looks bright. The dream may also be a metaphor that you need to take baby steps in your relationship, toward your goal, in a work project or whatever undertaking. If you have a baby in real life, then the dream is a reflection of your hopes for that baby.",
         "12",
         "384.0"
        ],
        [
         "4",
         "Baby",
         "To dream of an extremely small baby symbolizes your helplessness and your fears of letting others become aware of your vulnerabilities and incompetence. You may be afraid to ask for help and as a result tend to take matters into your own hands.",
         "12",
         "244.0"
        ],
        [
         "4",
         "Baby",
         "To see a dead baby in your dream symbolizes the ending of something that was once a part of you. If you dream that you are trying to snort up a dead baby, then it means that you are refusing to move onto a new stage of life. You are holding onto a dead past.",
         "12",
         "258.0"
        ],
        [
         "4",
         "Baby",
         "To dream that you are dipping a baby in and out of water signifies regression. You are regressing to a time where you had no worries and responsibilities. Alternatively, such a scenario is reminisce of when the baby is in the fetus and in its comfort zone. In fact, some expectant mothers even give birth in a pool, because the environment in the water mimics the environment in the uterus. It is less traumatic for the baby as it emerges into the world. So perhaps, the dream represents your search for your own comfort zone.",
         "12",
         "526.0"
        ],
        [
         "4",
         "Baby",
         "Dreaming of rescuing a drowning baby means that you are allowing yourself to be vulnerable and accepting help from others.",
         "12",
         "122.0"
        ],
        [
         "4",
         "Baby",
         "If you dream of having or adopting a baby of a different race, then it means that you are acknowledging and/or embracing other's physical differences. Everyone started out as a baby who is pure and innocent.",
         "12",
         "207.0"
        ],
        [
         "4",
         "Baby",
         "Seeing an evil baby or a demon baby in your dream implies that you are apprehensive or afraid of a new project that you are undertaking. You may be taking on more than you can handle. If you dream that a baby has a third eye on the back of the head, then it means getting caught. You are acting carelessly when you think no on is watching.",
         "12",
         "339.0"
        ],
        [
         "5",
         "Baby Bottle",
         "To see a baby bottle in your dream represents your issues of dependency. You are relying too much on others. If you are drinking from a baby bottle, then the dream means that you need are emotionally immature. You need to grow up.",
         "1",
         "230.0"
        ],
        [
         "6",
         "Baby Carriage",
         "To see a baby carriage in your dream symbolizes your desire for a family or longing for a baby. If the baby carriage is empty, then it indicates sadness or an unfulfilled goal. Alternatively, it suggests that you need to cater to the needs of your own inner child.",
         "1",
         "264.0"
        ],
        [
         "7",
         "Baby Clothes",
         "To see baby clothes in your dream suggests that you are expressing yourself in a more subtle way. Alternatively, baby clothes represent your former ways of thinking or old habits which you have outgrown.",
         "1",
         "203.0"
        ],
        [
         "8",
         "Baby Food",
         "To see or feed baby food in your dream indicates that nurturance and care is needed in a waking situation. Alternatively, the dream may be a metaphor to indicate that you need to eat smaller portions of food.",
         "2",
         "208.0"
        ],
        [
         "8",
         "Baby Food",
         "To eat or dream that you are being fed baby food indicates that you are being forced to re-learn something that you already know.",
         "2",
         "129.0"
        ],
        [
         "9",
         "Baby Shower",
         "To dream of a baby shower suggests that you are welcoming a new start. You are given a chance to start over again and do things differently this time around. You have a new found faith in life itself.",
         "1",
         "200.0"
        ],
        [
         "10",
         "Babysitter",
         "To dream that you are babysitting suggests that you need to care for the child within yourself.",
         "2",
         "95.0"
        ],
        [
         "10",
         "Babysitter",
         "To see or call for a babysitter in your dream indicates that you need to acknowledge and work on your inner child.",
         "2",
         "114.0"
        ],
        [
         "11",
         "Bachelor",
         "To meet a bachelor in your dream suggests that you are seeking freedom in your love life. For a man to dream that he is a bachelor indicates that he is having difficulty with gaining his own sense of self or freedom in a relationship. Alternatively, the bachelor represents your masculine side.",
         "1",
         "294.0"
        ],
        [
         "12",
         "Back-biting",
         "To dream of back-biting about someone warns that you will cause harm to someone if you continue on your current course. Think twice over your actions and its consequences.",
         "2",
         "171.0"
        ],
        [
         "12",
         "Back-biting",
         "To dream that someone is back-biting you signifies that you will have some family problems.",
         "2",
         "91.0"
        ],
        [
         "13",
         "Back",
         "To dream of your back represents your attitudes, strengths, burdens and stance in the world. It may also relate to stress and pressure that someone is putting on you.",
         "4",
         "166.0"
        ],
        [
         "13",
         "Back",
         "To see a naked back in your dream symbolizes secrets that you may have kept from others or aspects of yourself that you have kept hidden and shielded away. Consider the phrase, \"watch your back!\"; this dream may be telling you to do just that. Traditionally, seeing a back in your dream forewarns that you should not lend money to anyone. In particular, lending money to friends will cause a rift in your relationship.",
         "4",
         "418.0"
        ],
        [
         "13",
         "Back",
         "To see a person turn their back on you signifies that you will be deeply hurt as a result of envy and jealousy.",
         "4",
         "111.0"
        ],
        [
         "13",
         "Back",
         "If you suffer from back pain, then you may have dreams of breaking your back or throwing your back out. Your dreams incorporate things from your waking life, even physical pain.",
         "4",
         "177.0"
        ],
        [
         "14",
         "Backbone",
         "#Ref:spine",
         "1",
         "10.0"
        ],
        [
         "15",
         "Backdoor",
         "To see a backdoor in your dream suggests that you need to search a little harder to find an answer to your problem. Sometimes the solution may not be obvious. Alternatively, the dream indicates that you are trying to find short cuts to do things.",
         "1",
         "246.0"
        ],
        [
         "16",
         "Backflips",
         "To dream that you are doing backflips suggests that you are going out of your way to help or please someone. You may feel under-appreciated or that your work is going unnoticed.",
         "1",
         "177.0"
        ],
        [
         "17",
         "Backgammon",
         "To see a backgammon game in your dream represents an unwelcome guest.",
         "2",
         "69.0"
        ],
        [
         "17",
         "Backgammon",
         "To dream that you lose at backgammon symbolizes misfortune and unlucky in love. You seem to seek out the wrong type of people and your pursuit for love will be a rocky path.",
         "2",
         "173.0"
        ],
        [
         "18",
         "Background",
         "#Ref:landscape",
         "1",
         "14.0"
        ],
        [
         "19",
         "Backpack",
         "To see or carry a backpack in your dream represents the decisions and responsibilities that are weighing your down.",
         "1",
         "115.0"
        ],
        [
         "20",
         "Backpacking",
         "To dream that you are backpacking symbolizes your self-sufficiency and survival skills. You may be reflecting on all the obstacles and adversities that you have overcame.",
         "1",
         "170.0"
        ],
        [
         "21",
         "Backseat",
         "To dream that you are sitting in the backseat of a car suggests that you are no longer in control of your life. You may be feeling overpowered, dominated and being told what to do. You need to start taking back control of your life.",
         "2",
         "232.0"
        ],
        [
         "21",
         "Backseat",
         "To dream that someone is sitting in your backseat highlights your own position of power and control. Someone else's destiny or fate is in your hands.",
         "2",
         "149.0"
        ],
        [
         "22",
         "Backstab",
         "To dream that you are backstabbing someone represents your ruthlessness. Your character is being called into question.",
         "2",
         "118.0"
        ],
        [
         "22",
         "Backstab",
         "To dream that someone has backstabbed you signifies feelings of insecurity. You have a lot going on in your life at the moment and believe someone is out to get you.",
         "2",
         "165.0"
        ],
        [
         "23",
         "Backstage",
         "To dream that you are backstage symbolizes opportunities and access. You need to make sure to take advantage of this limited time opportunity. Alternatively, the dream indicates that there are aspects of yourself that you are reluctant to express or show. Or it may also mean that you need to look at some situation or problem from a new perspective.",
         "1",
         "350.0"
        ],
        [
         "24",
         "Backstroke",
         "To dream that you are doing the backstroke suggests that although you are acknowledging your emotions, you are not confronting them head on.",
         "1",
         "140.0"
        ],
        [
         "25",
         "Backward",
         "To dream that you are walking or moving backwards indicates that your current course of action may be counter-productive. Whatever you are looking for in life seems to be moving away from you. Thus, you may feel a sense of failure or belief that you are unable to achieve your goals and aspirations. On the other hand, moving backwards in your dream indicate that you need to back off or retreat from a situation that you are currently facing in your waking life.",
         "2",
         "463.0"
        ],
        [
         "25",
         "Backward",
         "Dreaming that you fall backwards suggests that you prevented yourself from making a bad decision or mistake. It may also mean that you are not ready to move forward and need to take a step back. sdoommaerd is spelled backwards.",
         "2",
         "227.0"
        ],
        [
         "26",
         "Backyard",
         "To dream about your backyard represents your childhood memories or your subconscious. Alternatively, dreaming of your backyard refers to the secrets you are keeping. There are some aspects of your life which you want to keep hidden and out of the view of others. The dream also represents some aspect of your life that you have taken for granted. Consider also the phrase \"not in my backyard.\" In other words, everything is okay as long as it does not happen to you or occur in your own home. The condition of the yard is also symbolic of how well you maintain and balance aspects of your life.",
         "1",
         "594.0"
        ],
        [
         "27",
         "Bacon",
         "To see bacon in your dream symbolizes essentials, staples, and life's supply. It may also be a play on the common phase \"bringing home the bacon\" to refer to earning a living.",
         "2",
         "175.0"
        ],
        [
         "27",
         "Bacon",
         "To see bacon that has gone rancid in your dream suggests a forbidden situation.",
         "2",
         "79.0"
        ],
        [
         "28",
         "Bad",
         "To dream that you are feeling bad suggests that you are off balance, off centered, or even feeling worthless.",
         "1",
         "109.0"
        ]
       ],
       "shape": {
        "columns": 4,
        "rows": 781
       }
      },
      "text/html": [
       "<div>\n",
       "<style scoped>\n",
       "    .dataframe tbody tr th:only-of-type {\n",
       "        vertical-align: middle;\n",
       "    }\n",
       "\n",
       "    .dataframe tbody tr th {\n",
       "        vertical-align: top;\n",
       "    }\n",
       "\n",
       "    .dataframe thead th {\n",
       "        text-align: right;\n",
       "    }\n",
       "</style>\n",
       "<table border=\"1\" class=\"dataframe\">\n",
       "  <thead>\n",
       "    <tr style=\"text-align: right;\">\n",
       "      <th></th>\n",
       "      <th>symbol</th>\n",
       "      <th>meaning</th>\n",
       "      <th>n_meanings</th>\n",
       "      <th>mean_len</th>\n",
       "    </tr>\n",
       "  </thead>\n",
       "  <tbody>\n",
       "    <tr>\n",
       "      <th>2</th>\n",
       "      <td>B</td>\n",
       "      <td>To see the letter B in your dream is a pun on ...</td>\n",
       "      <td>1</td>\n",
       "      <td>103.0</td>\n",
       "    </tr>\n",
       "    <tr>\n",
       "      <th>3</th>\n",
       "      <td>Baboon</td>\n",
       "      <td>To see a baboon in your dream suggests that yo...</td>\n",
       "      <td>2</td>\n",
       "      <td>244.0</td>\n",
       "    </tr>\n",
       "    <tr>\n",
       "      <th>3</th>\n",
       "      <td>Baboon</td>\n",
       "      <td>In particular, dreaming of a white baboon mean...</td>\n",
       "      <td>2</td>\n",
       "      <td>91.0</td>\n",
       "    </tr>\n",
       "    <tr>\n",
       "      <th>4</th>\n",
       "      <td>Baby</td>\n",
       "      <td>To see a baby in your dream signifies innocenc...</td>\n",
       "      <td>12</td>\n",
       "      <td>987.0</td>\n",
       "    </tr>\n",
       "    <tr>\n",
       "      <th>4</th>\n",
       "      <td>Baby</td>\n",
       "      <td>If you dream that you are on your way to the h...</td>\n",
       "      <td>12</td>\n",
       "      <td>391.0</td>\n",
       "    </tr>\n",
       "    <tr>\n",
       "      <th>...</th>\n",
       "      <td>...</td>\n",
       "      <td>...</td>\n",
       "      <td>...</td>\n",
       "      <td>...</td>\n",
       "    </tr>\n",
       "    <tr>\n",
       "      <th>498</th>\n",
       "      <td>Buttons</td>\n",
       "      <td>To dream that you are unbuttoning your clothes...</td>\n",
       "      <td>3</td>\n",
       "      <td>143.0</td>\n",
       "    </tr>\n",
       "    <tr>\n",
       "      <th>498</th>\n",
       "      <td>Buttons</td>\n",
       "      <td>To lose a button in your dream signifies your ...</td>\n",
       "      <td>3</td>\n",
       "      <td>124.0</td>\n",
       "    </tr>\n",
       "    <tr>\n",
       "      <th>499</th>\n",
       "      <td>Buying</td>\n",
       "      <td>To dream that you or someone is buying somethi...</td>\n",
       "      <td>2</td>\n",
       "      <td>292.0</td>\n",
       "    </tr>\n",
       "    <tr>\n",
       "      <th>499</th>\n",
       "      <td>Buying</td>\n",
       "      <td>To buy a car in your dream refers to your comm...</td>\n",
       "      <td>2</td>\n",
       "      <td>99.0</td>\n",
       "    </tr>\n",
       "    <tr>\n",
       "      <th>500</th>\n",
       "      <td>Buzzer</td>\n",
       "      <td>To hear a buzzer in your dream indicates that ...</td>\n",
       "      <td>1</td>\n",
       "      <td>317.0</td>\n",
       "    </tr>\n",
       "  </tbody>\n",
       "</table>\n",
       "<p>781 rows × 4 columns</p>\n",
       "</div>"
      ],
      "text/plain": [
       "      symbol                                            meaning  n_meanings  \\\n",
       "2          B  To see the letter B in your dream is a pun on ...           1   \n",
       "3     Baboon  To see a baboon in your dream suggests that yo...           2   \n",
       "3     Baboon  In particular, dreaming of a white baboon mean...           2   \n",
       "4       Baby  To see a baby in your dream signifies innocenc...          12   \n",
       "4       Baby  If you dream that you are on your way to the h...          12   \n",
       "..       ...                                                ...         ...   \n",
       "498  Buttons  To dream that you are unbuttoning your clothes...           3   \n",
       "498  Buttons  To lose a button in your dream signifies your ...           3   \n",
       "499   Buying  To dream that you or someone is buying somethi...           2   \n",
       "499   Buying  To buy a car in your dream refers to your comm...           2   \n",
       "500   Buzzer  To hear a buzzer in your dream indicates that ...           1   \n",
       "\n",
       "     mean_len  \n",
       "2       103.0  \n",
       "3       244.0  \n",
       "3        91.0  \n",
       "4       987.0  \n",
       "4       391.0  \n",
       "..        ...  \n",
       "498     143.0  \n",
       "498     124.0  \n",
       "499     292.0  \n",
       "499      99.0  \n",
       "500     317.0  \n",
       "\n",
       "[781 rows x 4 columns]"
      ]
     },
     "execution_count": 228,
     "metadata": {},
     "output_type": "execute_result"
    }
   ],
   "source": [
    "breakpointstring = \"animals being abused\"\n",
    "\n",
    "data2 = squeeze_meaning_by_symbol(sd)\n",
    "data3 = data2.explode('meaning')\n",
    "data3['mean_len'] = data3.meaning.str.len()\n",
    "data3.dropna(inplace=True)\n",
    "data3"
   ]
  },
  {
   "cell_type": "code",
   "execution_count": 231,
   "id": "4ff76dff",
   "metadata": {},
   "outputs": [
    {
     "name": "stdout",
     "output_type": "stream",
     "text": [
      "total chars extracted from c_all.html: 153666 \n"
     ]
    }
   ],
   "source": [
    "tc = int(data3['mean_len'].sum())\n",
    "tstp = datetime.now().strftime(r\"%y.%m.%d-%H\")\n",
    "print(f\"total chars extracted from c_all.html: {tc} \")"
   ]
  },
  {
   "cell_type": "code",
   "execution_count": 232,
   "id": "1833d4c9",
   "metadata": {},
   "outputs": [],
   "source": [
    "data3.to_csv(f\"datasets/{letter}_scraped_{tstp}_{tc}.csv\", index=False)"
   ]
  },
  {
   "cell_type": "markdown",
   "id": "39063b3c",
   "metadata": {},
   "source": [
    "Once the correctness of the logic is validated on one letter Html, the above logic can be summarized in a function: "
   ]
  },
  {
   "cell_type": "code",
   "execution_count": 233,
   "id": "f11f6f1f",
   "metadata": {},
   "outputs": [],
   "source": [
    "def extract_letter(file):\n",
    "    with open(file, \"r\") as f:\n",
    "        html = f.read()\n",
    "        \n",
    "    xp = \"/html/body/table[2]/tr/td/div/center/table/tr[4]/td[1]\"\n",
    "\n",
    "    tree = lhtml.fromstring(html)\n",
    "\n",
    "    #tree.text_content()\n",
    "\n",
    "    tabl = tree.xpath(xp)[0]\n",
    "\n",
    "    syms_data = collect_paragraphs(tabl)\n",
    "    syms_data = pd.DataFrame(syms_data)\n",
    "    data2 = squeeze_meaning_by_symbol(syms_data)\n",
    "    data3 = data2.explode('meaning')\n",
    "    data3['mean_len'] = data3.meaning.str.len()\n",
    "    data3.dropna(inplace=True)\n",
    "    return data3\n",
    "\n"
   ]
  },
  {
   "cell_type": "markdown",
   "id": "d0f6b0c1",
   "metadata": {},
   "source": [
    "And executed on all the letters HTMLs to extract the data "
   ]
  },
  {
   "cell_type": "code",
   "execution_count": 246,
   "id": "67a0b091",
   "metadata": {},
   "outputs": [
    {
     "data": {
      "application/vnd.microsoft.datawrangler.viewer.v0+json": {
       "columns": [
        {
         "name": "index",
         "rawType": "int64",
         "type": "integer"
        },
        {
         "name": "symbol",
         "rawType": "object",
         "type": "string"
        },
        {
         "name": "meaning",
         "rawType": "object",
         "type": "string"
        },
        {
         "name": "n_meanings",
         "rawType": "int64",
         "type": "integer"
        },
        {
         "name": "mean_len",
         "rawType": "float64",
         "type": "float"
        },
        {
         "name": "filename",
         "rawType": "object",
         "type": "string"
        }
       ],
       "conversionMethod": "pd.DataFrame",
       "ref": "924f39af-847e-466c-9005-80f0413fac1b",
       "rows": [
        [
         "2",
         "A",
         "To see the letter \"A\" in your dream represents the beginning of a new stage. You are moving on to something new and grand. Alternatively, the letter \"A\" invokes feelings of superiority and grandeur. It may indicate the name or initial of a person.",
         "2",
         "247.0",
         "a_all.html"
        ],
        [
         "3",
         "Aardvark",
         "To see an aardvark in your dream indicates that you are being very secretive and cautious about your business.",
         "1",
         "110.0",
         "a_all.html"
        ],
        [
         "4",
         "Abacus",
         "To see or use an abacus in your dream refers to your outdated views. You have an old fashion perspective on certain issues.",
         "1",
         "123.0",
         "a_all.html"
        ],
        [
         "5",
         "Abalone",
         "To see or eat abalone in your dream indicates a transitional period in your life. The symbol may also be a play on words to indicate feelings of \"loneliness\".",
         "1",
         "158.0",
         "a_all.html"
        ],
        [
         "6",
         "Abandonment",
         "To dream that you are abandoned suggests that it is time to leave behind past feelings and characteristics that are hindering your growth. Let go of your old attitudes. A more direct and literal interpretation of this dream indicates you have a fear of being deserted, abandoned, or even betrayed. It may stem from a recent loss or a fear of losing a loved one. The fear of abandonment may manifest itself into your dream as part of the healing process and dealing with losing a loved one. It may also stem from unresolved feelings or problems from childhood. Alternatively, the dream indicates that you are feeling neglected or that your feelings are being overlooked. Perhaps the dream is a metaphor that you need to approach life with \"reckless abandon\" and live more freely.",
         "2",
         "778.0",
         "a_all.html"
        ],
        [
         "6",
         "Abandonment",
         "To abandon others in your dream suggests that you are overwhelmed by the problems and decisions in your life.",
         "2",
         "109.0",
         "a_all.html"
        ],
        [
         "7",
         "Abbey",
         "To see an abbey in your dream signifies spirituality, peace of mind and freedom from anxiety. You are in a state of contentment and satisfaction. Help for you is always around the corner.",
         "2",
         "187.0",
         "a_all.html"
        ],
        [
         "7",
         "Abbey",
         "To see an abbey in ruins indicates feelings of hopelessness. You have a tendency to not finish what you started.",
         "2",
         "112.0",
         "a_all.html"
        ],
        [
         "8",
         "Abbot",
         "To see an abbot in your dream suggests that someone has power over you and are making you do things that you do not necessarily want to do. You are feeling confined or restricted. The dream indicates that you will experience many obstacles and setback before achieving success and prestige.",
         "1",
         "290.0",
         "a_all.html"
        ],
        [
         "9",
         "Abbreviations",
         "To see abbreviations in your dream may represent the initials of someone in your life. The abbreviations could stand for an organization or a common acronym or it may spell out some hidden message or advice. The dreaming mind likes to make use of puns, as well as shorthand messages. For example, \"CD\" could be a pun on a \"seedy\" situation. \"AA\" could stand for Alcoholics Anonymous and thus point to the dangers or your excesses and negative behaviors. \"Inc\" may represent an \"inkling\", hunch or suspicious you have about a situation. The initails DM may refer to a direct message or perhaps that you need to check Dream Moqds for your dream anaylsis.",
         "1",
         "652.0",
         "a_all.html"
        ],
        [
         "10",
         "Abdomen",
         "To see your abdomen in a dream refers to your natural instincts and repressed emotions. There is something in your real life that you \"cannot stomach\" or have difficulties accepting. You need to get it out of your system. Alternatively, the dream symbol may be strictly physiological and you may just be experiencing constipation or indigestion.",
         "4",
         "345.0",
         "a_all.html"
        ],
        [
         "10",
         "Abdomen",
         "To dream that your abdomen is exposed represents issues you have with trust and feelings of vulnerability. You are expressing your primal emotions and instincts.",
         "4",
         "161.0",
         "a_all.html"
        ],
        [
         "10",
         "Abdomen",
         "To dream that your abdomen is swollen indicates that some new project is in the works.",
         "4",
         "86.0",
         "a_all.html"
        ],
        [
         "11",
         "Abduction",
         "To dream of being abducted indicates that you are being manipulated by your circumstances or by someone. You lack control of your own life.",
         "4",
         "139.0",
         "a_all.html"
        ],
        [
         "11",
         "Abduction",
         "To witness an abduction in your dream signifies feelings of helplessness.",
         "4",
         "73.0",
         "a_all.html"
        ],
        [
         "11",
         "Abduction",
         "To dream that you are abducting someone implies that you are holding on to something that you need to let go. You may be forcing your views and opinions on others.",
         "4",
         "163.0",
         "a_all.html"
        ],
        [
         "12",
         "Abhorrence",
         "To dream that you abhor a person represents your waking dislike for that person. You are harboring feelings of resentment or aggression and feel that this person has acted in a less than honorable way.",
         "2",
         "201.0",
         "a_all.html"
        ],
        [
         "12",
         "Abhorrence",
         "To dream that you are abhorred by others suggests that you may be forcing your views and opinions on others. You are rubbing others the wrong way.",
         "2",
         "146.0",
         "a_all.html"
        ],
        [
         "13",
         "Abnormal",
         "To dream of some abnormality or of abnormal objects indicate that the problems that have been preoccupying your mind will soon be resolved. Note that anything appearing abnormal draws attention to that particular aspect. Something in your life may not be consistent with how you feel things should be.",
         "1",
         "301.0",
         "a_all.html"
        ],
        [
         "14",
         "Abode",
         "#Ref:home",
         "1",
         "9.0",
         "a_all.html"
        ],
        [
         "15",
         "Abominable Snowman",
         "#Ref:yeti",
         "1",
         "9.0",
         "a_all.html"
        ],
        [
         "16",
         "Aborigine",
         "To see an Aborigine in your dream represents both your untamed, natural self and your pure, innocent side. You need to be more in touch with your intuition and inner forces. It also suggests that you are being overindulgent or overly emotional. You may be harming yourself and jeopardizing your well-being due to your unrestraint.",
         "1",
         "330.0",
         "a_all.html"
        ],
        [
         "17",
         "Abortion",
         "To dream that you have an abortion suggests that you are hindering and blocking your own growth. You may be hesitant in pursuing a new direction in your life due to fear, pressure, personal conflict or moral obligation. The dream may also be a reflection of your own real-life abortion and thus serves as a way of healing from the trauma and working towards self-acceptance. Alternatively, this dream may also be a message for you to take care and look after your health.",
         "3",
         "471.0",
         "a_all.html"
        ],
        [
         "17",
         "Abortion",
         "To dream that someone has an abortion refers to an aspect of your relationship with this person is not growing or maturing. If you do not know this person, then the dream may be about your own personal views on abortion.",
         "3",
         "220.0",
         "a_all.html"
        ],
        [
         "17",
         "Abortion",
         "To dream that you or someone has an illegal abortion indicates that you are desperate to keep things the exact same. If the abortion results in death, then it means that your approach to a problem is all wrong.",
         "3",
         "210.0",
         "a_all.html"
        ],
        [
         "18",
         "Above",
         "To see something above you in your dream suggests that you need to set your goals higher. Aim high! Alternatively, the dream indicates that you are feeling inferior or inadequate.",
         "1",
         "179.0",
         "a_all.html"
        ],
        [
         "19",
         "Abraham Lincoln",
         "To see Abraham Lincoln in your dream refers to your solid character and leadership ability. Known as \"Honest Abe\", the dream may also be telling you to be truthful or to come clean about something.",
         "1",
         "197.0",
         "a_all.html"
        ],
        [
         "20",
         "Abroad",
         "To dream of being or going abroad indicates unbalance and chaos in your current situation and condition. Consequently, your dream may represent your need for a change in scenery or a desire to escape from a current situation. You need to make some drastic changes in your life. Alternatively, the dream may suggest that you need to expand your horizons or experience a new sense of spirituality.",
         "1",
         "395.0",
         "a_all.html"
        ],
        [
         "21",
         "Absence",
         "To dream that someone is absent, especially if you expect to find them, suggests that you are looking for something that is already lost to you. Alternatively, you may be looking to fill a void in your life. Something is missing from your life.",
         "1",
         "244.0",
         "a_all.html"
        ],
        [
         "22",
         "Abscess",
         "To dream that you have an abscess suggests that there is something that you need to express and get out into the open.",
         "2",
         "118.0",
         "a_all.html"
        ],
        [
         "23",
         "Abscond",
         "To dream that you have absconded with something indicates your failed accomplishments. You may also be feeling insecure about your achievements. You feel that you are never good enough. Consider the significance or value of what you have absconded.",
         "1",
         "248.0",
         "a_all.html"
        ],
        [
         "24",
         "Absorb",
         "To be absorbed in whatever you are doing suggests that you may be too focused on your own thing and risk alienating others around you. The dream may also be a metaphor that you need to integrate and adapt to your various surroundings.",
         "1",
         "234.0",
         "a_all.html"
        ],
        [
         "25",
         "Abstinence",
         "To dream that you practice abstinence from drinking, sex or any other sort of sensual temptation is a warning against being over confidant. You need to take things more slowly.",
         "1",
         "176.0",
         "a_all.html"
        ],
        [
         "26",
         "Abundance",
         "To dream of having an abundance of a certain item indicates that you need to conserve your resources and energies. This dream may be a compensatory dream for something that you are lacking in life. More directly, abundance signifies happiness.",
         "1",
         "243.0",
         "a_all.html"
        ],
        [
         "27",
         "Abuse",
         "To dream you are abusing someone suggests that your past actions will come back to haunt you. You may be expressing some regret or remorse over your actions.",
         "4",
         "157.0",
         "a_all.html"
        ],
        [
         "27",
         "Abuse",
         "To dream you are being verbally or physically abused suggests that you are feeling victimized in a waking situation. You are being taking advantage of.",
         "4",
         "151.0",
         "a_all.html"
        ],
        [
         "27",
         "Abuse",
         "To see children being abused in your dream implies that you are lacking a voice for your own inner child. You feel that a part of your own childhood is lost.",
         "4",
         "157.0",
         "a_all.html"
        ],
        [
         "28",
         "Abyss",
         "To dream of an abyss signifies an obstacle that is creating much anxiety for you. You need to work through the difficulty and overcome this obstacle in your life. Perhaps you are afraid of \"taking the plunge\".",
         "2",
         "209.0",
         "a_all.html"
        ],
        [
         "28",
         "Abyss",
         "To dream that you are falling into an abyss symbolizes the depths of your subconscious. You are afraid and/or uncertain as to what you will discover about yourself and about your hidden feelings and fears. The abyss may also represent your primal fears and feelings of \"falling into a pit of despair\". Perhaps you are in a state of depression or wallowing in your negative feelings. Alternatively, the dream could denote your lack of spirituality.",
         "2",
         "447.0",
         "a_all.html"
        ],
        [
         "29",
         "Acacia",
         "To see an acacia tree in your dream symbolizes your attitudes with death and your sense of mortality.",
         "1",
         "101.0",
         "a_all.html"
        ],
        [
         "30",
         "Academy",
         "To dream of an academy signifies new friendships and opportunities.",
         "1",
         "67.0",
         "a_all.html"
        ],
        [
         "31",
         "Academy Awards",
         "To dream that you at the Academy Awards indicates that you need to add some glamour into your life. If you win an Oscar, then it implies that you are looking for some sort of acknowledgment in your waking life.",
         "1",
         "210.0",
         "a_all.html"
        ],
        [
         "32",
         "Accelerator",
         "To see an accelerator in your dream indicates that you will achieve your goals through your own efforts. The dream may also be telling you to slow down.",
         "2",
         "152.0",
         "a_all.html"
        ],
        [
         "32",
         "Accelerator",
         "To dream that the accelerator is jammed or broken indicates a loss of control in some aspect of your life. You maybe trying to rush through things.",
         "2",
         "147.0",
         "a_all.html"
        ],
        [
         "33",
         "Accent",
         "To speak with an accent in your dream suggests that you are having difficulties conveying your thoughts. Consider how you feel about the accent. If you feel the accent makes you stand out in a negative way, then it signifies feelings of insecurities. If the accent makes you stand out in a positive way, then it symbolizes an air of confidence.",
         "2",
         "344.0",
         "a_all.html"
        ],
        [
         "33",
         "Accent",
         "To hear someone speaking with an accent in your dream represents something familiar yet different. You are getting the gist of a message, but you still do not completely understand all of it.",
         "2",
         "191.0",
         "a_all.html"
        ],
        [
         "34",
         "Acceptance",
         "To dream about acceptance indicates issues of self-esteem and measuring up to the expectations of others. There is a waking situation where you are seeking acceptance and wanting to be a part of.",
         "1",
         "195.0",
         "a_all.html"
        ],
        [
         "35",
         "Accessory",
         "To dream of accessorizing yourself suggests that you are feeling incomplete. Something is missing in your life.",
         "1",
         "111.0",
         "a_all.html"
        ],
        [
         "36",
         "Accident",
         "To dream that you are in an accident signifies pent-up guilt in which you are subconsciously punishing yourself over. Perhaps you are not proud of something you have done. Alternatively, the accident may symbolize an error or mistake you have made. Accident dreams also represent your fears of being in an actual, physical accident. You may simply be nervous about getting behind the wheel. Or the dream is trying to warn you of some accident.",
         "3",
         "443.0",
         "a_all.html"
        ],
        [
         "36",
         "Accident",
         "To dream of a car accident symbolizes your emotional state. You may be harboring deep anxieties and fears. Are you \"driving\" yourself too hard? Perhaps you need to slow down before you hit disaster. You need to rethink or re-plan your course of actions and set yourself on a better path. Dreaming that someone is injured in a car accident means that you cannot control the action of others. They have to live with the consequences of their own decisions.",
         "3",
         "454.0",
         "a_all.html"
        ]
       ],
       "shape": {
        "columns": 5,
        "rows": 7798
       }
      },
      "text/html": [
       "<div>\n",
       "<style scoped>\n",
       "    .dataframe tbody tr th:only-of-type {\n",
       "        vertical-align: middle;\n",
       "    }\n",
       "\n",
       "    .dataframe tbody tr th {\n",
       "        vertical-align: top;\n",
       "    }\n",
       "\n",
       "    .dataframe thead th {\n",
       "        text-align: right;\n",
       "    }\n",
       "</style>\n",
       "<table border=\"1\" class=\"dataframe\">\n",
       "  <thead>\n",
       "    <tr style=\"text-align: right;\">\n",
       "      <th></th>\n",
       "      <th>symbol</th>\n",
       "      <th>meaning</th>\n",
       "      <th>n_meanings</th>\n",
       "      <th>mean_len</th>\n",
       "      <th>filename</th>\n",
       "    </tr>\n",
       "  </thead>\n",
       "  <tbody>\n",
       "    <tr>\n",
       "      <th>2</th>\n",
       "      <td>A</td>\n",
       "      <td>To see the letter \"A\" in your dream represents...</td>\n",
       "      <td>2</td>\n",
       "      <td>247.0</td>\n",
       "      <td>a_all.html</td>\n",
       "    </tr>\n",
       "    <tr>\n",
       "      <th>3</th>\n",
       "      <td>Aardvark</td>\n",
       "      <td>To see an aardvark in your dream indicates tha...</td>\n",
       "      <td>1</td>\n",
       "      <td>110.0</td>\n",
       "      <td>a_all.html</td>\n",
       "    </tr>\n",
       "    <tr>\n",
       "      <th>4</th>\n",
       "      <td>Abacus</td>\n",
       "      <td>To see or use an abacus in your dream refers t...</td>\n",
       "      <td>1</td>\n",
       "      <td>123.0</td>\n",
       "      <td>a_all.html</td>\n",
       "    </tr>\n",
       "    <tr>\n",
       "      <th>5</th>\n",
       "      <td>Abalone</td>\n",
       "      <td>To see or eat abalone in your dream indicates ...</td>\n",
       "      <td>1</td>\n",
       "      <td>158.0</td>\n",
       "      <td>a_all.html</td>\n",
       "    </tr>\n",
       "    <tr>\n",
       "      <th>6</th>\n",
       "      <td>Abandonment</td>\n",
       "      <td>To dream that you are abandoned suggests that ...</td>\n",
       "      <td>2</td>\n",
       "      <td>778.0</td>\n",
       "      <td>a_all.html</td>\n",
       "    </tr>\n",
       "    <tr>\n",
       "      <th>...</th>\n",
       "      <td>...</td>\n",
       "      <td>...</td>\n",
       "      <td>...</td>\n",
       "      <td>...</td>\n",
       "      <td>...</td>\n",
       "    </tr>\n",
       "    <tr>\n",
       "      <th>365</th>\n",
       "      <td>Mutilate</td>\n",
       "      <td>To dream that you are being mutilated indicate...</td>\n",
       "      <td>2</td>\n",
       "      <td>431.0</td>\n",
       "      <td>m_all.html</td>\n",
       "    </tr>\n",
       "    <tr>\n",
       "      <th>365</th>\n",
       "      <td>Mutilate</td>\n",
       "      <td>To dream that someone or something is mutilate...</td>\n",
       "      <td>2</td>\n",
       "      <td>99.0</td>\n",
       "      <td>m_all.html</td>\n",
       "    </tr>\n",
       "    <tr>\n",
       "      <th>366</th>\n",
       "      <td>Muzzle</td>\n",
       "      <td>To see or use a muzzle in your dream suggests ...</td>\n",
       "      <td>1</td>\n",
       "      <td>203.0</td>\n",
       "      <td>m_all.html</td>\n",
       "    </tr>\n",
       "    <tr>\n",
       "      <th>367</th>\n",
       "      <td>Myrrh</td>\n",
       "      <td>To see myrrh in your dream signifies punishmen...</td>\n",
       "      <td>1</td>\n",
       "      <td>113.0</td>\n",
       "      <td>m_all.html</td>\n",
       "    </tr>\n",
       "    <tr>\n",
       "      <th>368</th>\n",
       "      <td>Myrtle</td>\n",
       "      <td>To see a myrtle in your dream symbolizes happi...</td>\n",
       "      <td>1</td>\n",
       "      <td>88.0</td>\n",
       "      <td>m_all.html</td>\n",
       "    </tr>\n",
       "  </tbody>\n",
       "</table>\n",
       "<p>7798 rows × 5 columns</p>\n",
       "</div>"
      ],
      "text/plain": [
       "          symbol                                            meaning  \\\n",
       "2              A  To see the letter \"A\" in your dream represents...   \n",
       "3       Aardvark  To see an aardvark in your dream indicates tha...   \n",
       "4         Abacus  To see or use an abacus in your dream refers t...   \n",
       "5        Abalone  To see or eat abalone in your dream indicates ...   \n",
       "6    Abandonment  To dream that you are abandoned suggests that ...   \n",
       "..           ...                                                ...   \n",
       "365     Mutilate  To dream that you are being mutilated indicate...   \n",
       "365     Mutilate  To dream that someone or something is mutilate...   \n",
       "366       Muzzle  To see or use a muzzle in your dream suggests ...   \n",
       "367        Myrrh  To see myrrh in your dream signifies punishmen...   \n",
       "368       Myrtle  To see a myrtle in your dream symbolizes happi...   \n",
       "\n",
       "     n_meanings  mean_len    filename  \n",
       "2             2     247.0  a_all.html  \n",
       "3             1     110.0  a_all.html  \n",
       "4             1     123.0  a_all.html  \n",
       "5             1     158.0  a_all.html  \n",
       "6             2     778.0  a_all.html  \n",
       "..          ...       ...         ...  \n",
       "365           2     431.0  m_all.html  \n",
       "365           2      99.0  m_all.html  \n",
       "366           1     203.0  m_all.html  \n",
       "367           1     113.0  m_all.html  \n",
       "368           1      88.0  m_all.html  \n",
       "\n",
       "[7798 rows x 5 columns]"
      ]
     },
     "execution_count": 246,
     "metadata": {},
     "output_type": "execute_result"
    }
   ],
   "source": [
    "\n",
    "\n",
    "dfs = []\n",
    "save_dir = 'html/dreamdictionary'\n",
    "tstp = datetime.now().strftime(r\"%y.%m.%d-%H\")\n",
    "for f in os.listdir(save_dir):\n",
    "    if f.endswith(\".html\"):\n",
    "        try:\n",
    "            existing_df = extract_letter(os.path.join(save_dir, f))\n",
    "            existing_df[\"filename\"] = f\n",
    "            dfs.append(existing_df)\n",
    "        except Exception:\n",
    "            continue\n",
    "\n",
    "dataset = pd.concat(dfs)\n",
    "dataset = dataset[dataset['mean_len'] > 0]\n",
    "dataset"
   ]
  },
  {
   "cell_type": "code",
   "execution_count": null,
   "id": "b38d735f",
   "metadata": {},
   "outputs": [],
   "source": [
    "tstp = datetime.now().strftime(r\"%y.%m.%d-%H\")\n",
    "fname = f\"datasets/rescraped_{tstp}\"\n",
    "\n",
    "save_df_as_pretty_html(dataset, fname + \".html\")\n",
    "dataset.to_csv(fname + \".csv\", index=False)"
   ]
  },
  {
   "cell_type": "code",
   "execution_count": 235,
   "id": "12e2e3ad",
   "metadata": {},
   "outputs": [
    {
     "data": {
      "application/vnd.plotly.v1+json": {
       "config": {
        "plotlyServerURL": "https://plot.ly"
       },
       "data": [
        {
         "bingroup": "x",
         "hovertemplate": "variable=mean_len<br>value=%{x}<br>count=%{y}<extra></extra>",
         "legendgroup": "mean_len",
         "marker": {
          "color": "#636efa",
          "pattern": {
           "shape": ""
          }
         },
         "name": "mean_len",
         "orientation": "v",
         "showlegend": true,
         "type": "histogram",
         "x": {
          "bdata": "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",
          "dtype": "f8"
         },
         "xaxis": "x",
         "yaxis": "y"
        }
       ],
       "layout": {
        "barmode": "relative",
        "legend": {
         "title": {
          "text": "variable"
         },
         "tracegroupgap": 0
        },
        "margin": {
         "t": 60
        },
        "template": {
         "data": {
          "bar": [
           {
            "error_x": {
             "color": "#2a3f5f"
            },
            "error_y": {
             "color": "#2a3f5f"
            },
            "marker": {
             "line": {
              "color": "#E5ECF6",
              "width": 0.5
             },
             "pattern": {
              "fillmode": "overlay",
              "size": 10,
              "solidity": 0.2
             }
            },
            "type": "bar"
           }
          ],
          "barpolar": [
           {
            "marker": {
             "line": {
              "color": "#E5ECF6",
              "width": 0.5
             },
             "pattern": {
              "fillmode": "overlay",
              "size": 10,
              "solidity": 0.2
             }
            },
            "type": "barpolar"
           }
          ],
          "carpet": [
           {
            "aaxis": {
             "endlinecolor": "#2a3f5f",
             "gridcolor": "white",
             "linecolor": "white",
             "minorgridcolor": "white",
             "startlinecolor": "#2a3f5f"
            },
            "baxis": {
             "endlinecolor": "#2a3f5f",
             "gridcolor": "white",
             "linecolor": "white",
             "minorgridcolor": "white",
             "startlinecolor": "#2a3f5f"
            },
            "type": "carpet"
           }
          ],
          "choropleth": [
           {
            "colorbar": {
             "outlinewidth": 0,
             "ticks": ""
            },
            "type": "choropleth"
           }
          ],
          "contour": [
           {
            "colorbar": {
             "outlinewidth": 0,
             "ticks": ""
            },
            "colorscale": [
             [
              0,
              "#0d0887"
             ],
             [
              0.1111111111111111,
              "#46039f"
             ],
             [
              0.2222222222222222,
              "#7201a8"
             ],
             [
              0.3333333333333333,
              "#9c179e"
             ],
             [
              0.4444444444444444,
              "#bd3786"
             ],
             [
              0.5555555555555556,
              "#d8576b"
             ],
             [
              0.6666666666666666,
              "#ed7953"
             ],
             [
              0.7777777777777778,
              "#fb9f3a"
             ],
             [
              0.8888888888888888,
              "#fdca26"
             ],
             [
              1,
              "#f0f921"
             ]
            ],
            "type": "contour"
           }
          ],
          "contourcarpet": [
           {
            "colorbar": {
             "outlinewidth": 0,
             "ticks": ""
            },
            "type": "contourcarpet"
           }
          ],
          "heatmap": [
           {
            "colorbar": {
             "outlinewidth": 0,
             "ticks": ""
            },
            "colorscale": [
             [
              0,
              "#0d0887"
             ],
             [
              0.1111111111111111,
              "#46039f"
             ],
             [
              0.2222222222222222,
              "#7201a8"
             ],
             [
              0.3333333333333333,
              "#9c179e"
             ],
             [
              0.4444444444444444,
              "#bd3786"
             ],
             [
              0.5555555555555556,
              "#d8576b"
             ],
             [
              0.6666666666666666,
              "#ed7953"
             ],
             [
              0.7777777777777778,
              "#fb9f3a"
             ],
             [
              0.8888888888888888,
              "#fdca26"
             ],
             [
              1,
              "#f0f921"
             ]
            ],
            "type": "heatmap"
           }
          ],
          "histogram": [
           {
            "marker": {
             "pattern": {
              "fillmode": "overlay",
              "size": 10,
              "solidity": 0.2
             }
            },
            "type": "histogram"
           }
          ],
          "histogram2d": [
           {
            "colorbar": {
             "outlinewidth": 0,
             "ticks": ""
            },
            "colorscale": [
             [
              0,
              "#0d0887"
             ],
             [
              0.1111111111111111,
              "#46039f"
             ],
             [
              0.2222222222222222,
              "#7201a8"
             ],
             [
              0.3333333333333333,
              "#9c179e"
             ],
             [
              0.4444444444444444,
              "#bd3786"
             ],
             [
              0.5555555555555556,
              "#d8576b"
             ],
             [
              0.6666666666666666,
              "#ed7953"
             ],
             [
              0.7777777777777778,
              "#fb9f3a"
             ],
             [
              0.8888888888888888,
              "#fdca26"
             ],
             [
              1,
              "#f0f921"
             ]
            ],
            "type": "histogram2d"
           }
          ],
          "histogram2dcontour": [
           {
            "colorbar": {
             "outlinewidth": 0,
             "ticks": ""
            },
            "colorscale": [
             [
              0,
              "#0d0887"
             ],
             [
              0.1111111111111111,
              "#46039f"
             ],
             [
              0.2222222222222222,
              "#7201a8"
             ],
             [
              0.3333333333333333,
              "#9c179e"
             ],
             [
              0.4444444444444444,
              "#bd3786"
             ],
             [
              0.5555555555555556,
              "#d8576b"
             ],
             [
              0.6666666666666666,
              "#ed7953"
             ],
             [
              0.7777777777777778,
              "#fb9f3a"
             ],
             [
              0.8888888888888888,
              "#fdca26"
             ],
             [
              1,
              "#f0f921"
             ]
            ],
            "type": "histogram2dcontour"
           }
          ],
          "mesh3d": [
           {
            "colorbar": {
             "outlinewidth": 0,
             "ticks": ""
            },
            "type": "mesh3d"
           }
          ],
          "parcoords": [
           {
            "line": {
             "colorbar": {
              "outlinewidth": 0,
              "ticks": ""
             }
            },
            "type": "parcoords"
           }
          ],
          "pie": [
           {
            "automargin": true,
            "type": "pie"
           }
          ],
          "scatter": [
           {
            "fillpattern": {
             "fillmode": "overlay",
             "size": 10,
             "solidity": 0.2
            },
            "type": "scatter"
           }
          ],
          "scatter3d": [
           {
            "line": {
             "colorbar": {
              "outlinewidth": 0,
              "ticks": ""
             }
            },
            "marker": {
             "colorbar": {
              "outlinewidth": 0,
              "ticks": ""
             }
            },
            "type": "scatter3d"
           }
          ],
          "scattercarpet": [
           {
            "marker": {
             "colorbar": {
              "outlinewidth": 0,
              "ticks": ""
             }
            },
            "type": "scattercarpet"
           }
          ],
          "scattergeo": [
           {
            "marker": {
             "colorbar": {
              "outlinewidth": 0,
              "ticks": ""
             }
            },
            "type": "scattergeo"
           }
          ],
          "scattergl": [
           {
            "marker": {
             "colorbar": {
              "outlinewidth": 0,
              "ticks": ""
             }
            },
            "type": "scattergl"
           }
          ],
          "scattermap": [
           {
            "marker": {
             "colorbar": {
              "outlinewidth": 0,
              "ticks": ""
             }
            },
            "type": "scattermap"
           }
          ],
          "scattermapbox": [
           {
            "marker": {
             "colorbar": {
              "outlinewidth": 0,
              "ticks": ""
             }
            },
            "type": "scattermapbox"
           }
          ],
          "scatterpolar": [
           {
            "marker": {
             "colorbar": {
              "outlinewidth": 0,
              "ticks": ""
             }
            },
            "type": "scatterpolar"
           }
          ],
          "scatterpolargl": [
           {
            "marker": {
             "colorbar": {
              "outlinewidth": 0,
              "ticks": ""
             }
            },
            "type": "scatterpolargl"
           }
          ],
          "scatterternary": [
           {
            "marker": {
             "colorbar": {
              "outlinewidth": 0,
              "ticks": ""
             }
            },
            "type": "scatterternary"
           }
          ],
          "surface": [
           {
            "colorbar": {
             "outlinewidth": 0,
             "ticks": ""
            },
            "colorscale": [
             [
              0,
              "#0d0887"
             ],
             [
              0.1111111111111111,
              "#46039f"
             ],
             [
              0.2222222222222222,
              "#7201a8"
             ],
             [
              0.3333333333333333,
              "#9c179e"
             ],
             [
              0.4444444444444444,
              "#bd3786"
             ],
             [
              0.5555555555555556,
              "#d8576b"
             ],
             [
              0.6666666666666666,
              "#ed7953"
             ],
             [
              0.7777777777777778,
              "#fb9f3a"
             ],
             [
              0.8888888888888888,
              "#fdca26"
             ],
             [
              1,
              "#f0f921"
             ]
            ],
            "type": "surface"
           }
          ],
          "table": [
           {
            "cells": {
             "fill": {
              "color": "#EBF0F8"
             },
             "line": {
              "color": "white"
             }
            },
            "header": {
             "fill": {
              "color": "#C8D4E3"
             },
             "line": {
              "color": "white"
             }
            },
            "type": "table"
           }
          ]
         },
         "layout": {
          "annotationdefaults": {
           "arrowcolor": "#2a3f5f",
           "arrowhead": 0,
           "arrowwidth": 1
          },
          "autotypenumbers": "strict",
          "coloraxis": {
           "colorbar": {
            "outlinewidth": 0,
            "ticks": ""
           }
          },
          "colorscale": {
           "diverging": [
            [
             0,
             "#8e0152"
            ],
            [
             0.1,
             "#c51b7d"
            ],
            [
             0.2,
             "#de77ae"
            ],
            [
             0.3,
             "#f1b6da"
            ],
            [
             0.4,
             "#fde0ef"
            ],
            [
             0.5,
             "#f7f7f7"
            ],
            [
             0.6,
             "#e6f5d0"
            ],
            [
             0.7,
             "#b8e186"
            ],
            [
             0.8,
             "#7fbc41"
            ],
            [
             0.9,
             "#4d9221"
            ],
            [
             1,
             "#276419"
            ]
           ],
           "sequential": [
            [
             0,
             "#0d0887"
            ],
            [
             0.1111111111111111,
             "#46039f"
            ],
            [
             0.2222222222222222,
             "#7201a8"
            ],
            [
             0.3333333333333333,
             "#9c179e"
            ],
            [
             0.4444444444444444,
             "#bd3786"
            ],
            [
             0.5555555555555556,
             "#d8576b"
            ],
            [
             0.6666666666666666,
             "#ed7953"
            ],
            [
             0.7777777777777778,
             "#fb9f3a"
            ],
            [
             0.8888888888888888,
             "#fdca26"
            ],
            [
             1,
             "#f0f921"
            ]
           ],
           "sequentialminus": [
            [
             0,
             "#0d0887"
            ],
            [
             0.1111111111111111,
             "#46039f"
            ],
            [
             0.2222222222222222,
             "#7201a8"
            ],
            [
             0.3333333333333333,
             "#9c179e"
            ],
            [
             0.4444444444444444,
             "#bd3786"
            ],
            [
             0.5555555555555556,
             "#d8576b"
            ],
            [
             0.6666666666666666,
             "#ed7953"
            ],
            [
             0.7777777777777778,
             "#fb9f3a"
            ],
            [
             0.8888888888888888,
             "#fdca26"
            ],
            [
             1,
             "#f0f921"
            ]
           ]
          },
          "colorway": [
           "#636efa",
           "#EF553B",
           "#00cc96",
           "#ab63fa",
           "#FFA15A",
           "#19d3f3",
           "#FF6692",
           "#B6E880",
           "#FF97FF",
           "#FECB52"
          ],
          "font": {
           "color": "#2a3f5f"
          },
          "geo": {
           "bgcolor": "white",
           "lakecolor": "white",
           "landcolor": "#E5ECF6",
           "showlakes": true,
           "showland": true,
           "subunitcolor": "white"
          },
          "hoverlabel": {
           "align": "left"
          },
          "hovermode": "closest",
          "mapbox": {
           "style": "light"
          },
          "paper_bgcolor": "white",
          "plot_bgcolor": "#E5ECF6",
          "polar": {
           "angularaxis": {
            "gridcolor": "white",
            "linecolor": "white",
            "ticks": ""
           },
           "bgcolor": "#E5ECF6",
           "radialaxis": {
            "gridcolor": "white",
            "linecolor": "white",
            "ticks": ""
           }
          },
          "scene": {
           "xaxis": {
            "backgroundcolor": "#E5ECF6",
            "gridcolor": "white",
            "gridwidth": 2,
            "linecolor": "white",
            "showbackground": true,
            "ticks": "",
            "zerolinecolor": "white"
           },
           "yaxis": {
            "backgroundcolor": "#E5ECF6",
            "gridcolor": "white",
            "gridwidth": 2,
            "linecolor": "white",
            "showbackground": true,
            "ticks": "",
            "zerolinecolor": "white"
           },
           "zaxis": {
            "backgroundcolor": "#E5ECF6",
            "gridcolor": "white",
            "gridwidth": 2,
            "linecolor": "white",
            "showbackground": true,
            "ticks": "",
            "zerolinecolor": "white"
           }
          },
          "shapedefaults": {
           "line": {
            "color": "#2a3f5f"
           }
          },
          "ternary": {
           "aaxis": {
            "gridcolor": "white",
            "linecolor": "white",
            "ticks": ""
           },
           "baxis": {
            "gridcolor": "white",
            "linecolor": "white",
            "ticks": ""
           },
           "bgcolor": "#E5ECF6",
           "caxis": {
            "gridcolor": "white",
            "linecolor": "white",
            "ticks": ""
           }
          },
          "title": {
           "x": 0.05
          },
          "xaxis": {
           "automargin": true,
           "gridcolor": "white",
           "linecolor": "white",
           "ticks": "",
           "title": {
            "standoff": 15
           },
           "zerolinecolor": "white",
           "zerolinewidth": 2
          },
          "yaxis": {
           "automargin": true,
           "gridcolor": "white",
           "linecolor": "white",
           "ticks": "",
           "title": {
            "standoff": 15
           },
           "zerolinecolor": "white",
           "zerolinewidth": 2
          }
         }
        },
        "xaxis": {
         "anchor": "y",
         "domain": [
          0,
          1
         ],
         "title": {
          "text": "value"
         }
        },
        "yaxis": {
         "anchor": "x",
         "domain": [
          0,
          1
         ],
         "title": {
          "text": "count"
         }
        }
       }
      }
     },
     "metadata": {},
     "output_type": "display_data"
    }
   ],
   "source": [
    "px.histogram(dataset.mean_len)"
   ]
  },
  {
   "cell_type": "markdown",
   "id": "63fb7ec7",
   "metadata": {},
   "source": [
    "### Data augmentation\n",
    "The dream interpretations generally have a rather consistent structure:\n",
    "\n",
    "` To dream that <something> <means/indicates/is a ...> <interpretation> ` \n",
    "\n",
    " This can be leveraged to extract a more detailed dream symbol from the data, without running it through LLM."
   ]
  },
  {
   "cell_type": "code",
   "execution_count": 236,
   "id": "9bd0d349",
   "metadata": {},
   "outputs": [],
   "source": [
    "#dataset = pd.read_csv(\"datasets/rescraped_25.05.13-15.csv\")"
   ]
  },
  {
   "cell_type": "code",
   "execution_count": null,
   "id": "917b08a0",
   "metadata": {},
   "outputs": [],
   "source": [
    "dataset"
   ]
  },
  {
   "cell_type": "code",
   "execution_count": 237,
   "id": "a5823cf2",
   "metadata": {},
   "outputs": [],
   "source": [
    "dataset.columns = ['symbol', 'interp', 'n_meanings', 'mean_len', 'filename']"
   ]
  },
  {
   "cell_type": "markdown",
   "id": "2f169c10",
   "metadata": {},
   "source": [
    "We employ a relatively simple regex to separate the symbol in context from the interpretation"
   ]
  },
  {
   "cell_type": "code",
   "execution_count": 238,
   "id": "39419dc2",
   "metadata": {},
   "outputs": [
    {
     "name": "stdout",
     "output_type": "stream",
     "text": [
      "(\\s(?:suggest|represent|symbolize|indicate|mean|denote|forewarn|highlight|reflect|foretell|parallel|impl|signif)(?:y|ies|s|ze)?\\s)   \n",
      "(\\s(?:(?:analogous|refer|point|related|relate)s? to)|(?:is (?:a|a sign|symbolic|indicative|representative) (?:of|that))|(?:is a (?:sign|reminder|reflection|pun|way|warning))|then (?:you|it|the)|may (?:just )?be|Alternatively,\\s)\n"
     ]
    }
   ],
   "source": [
    "# regexes to split context from meaning\n",
    "\n",
    "expr = \"(\\s(?:suggest|represent|symbolize|indicate|mean|denote|forewarn|highlight|reflect|foretell|parallel|impl|signif)(?:y|ies|s|ze)?\\s)\"\n",
    "\n",
    "expr2 = \"\"\"\n",
    "(\\s(?:(?:analogous|refer|point|related|relate)s? to)\n",
    "\n",
    "|(?:is (?:a|a sign|symbolic|indicative|representative) (?:of|that))\n",
    "\n",
    "|(?:is a (?:sign|reminder|reflection|pun|way|warning))\n",
    "\n",
    "|then (?:you|it|the)\n",
    "\n",
    "|may (?:just )?be\n",
    "|Alternatively,\n",
    "\\s)\"\"\".strip(\"\\n\").replace(\"\\n\\n\",\"\").replace(\"\\n\",\"\")\n",
    "\n",
    "print(expr, \"  \")\n",
    "print(expr2)\n"
   ]
  },
  {
   "cell_type": "code",
   "execution_count": 240,
   "id": "31efd046",
   "metadata": {},
   "outputs": [
    {
     "data": {
      "application/vnd.microsoft.datawrangler.viewer.v0+json": {
       "columns": [
        {
         "name": "index",
         "rawType": "int64",
         "type": "integer"
        },
        {
         "name": "interp",
         "rawType": "object",
         "type": "string"
        },
        {
         "name": "context",
         "rawType": "object",
         "type": "unknown"
        },
        {
         "name": "meaning",
         "rawType": "object",
         "type": "string"
        }
       ],
       "conversionMethod": "pd.DataFrame",
       "ref": "e81b09a0-5f61-4653-9516-adab6ffd9915",
       "rows": [
        [
         "2",
         "To see the letter \"A\" in your dream represents the beginning of a new stage. You are moving on to something new and grand. Alternatively, the letter \"A\" invokes feelings of superiority and grandeur. It may indicate the name or initial of a person.",
         "To see the letter \"A\" in your dream",
         " represents the beginning of a new stage. You are moving on to something new and grand. Alternatively, the letter \"A\" invokes feelings of superiority and grandeur. It may indicate the name or initial of a person."
        ],
        [
         "3",
         "To see an aardvark in your dream indicates that you are being very secretive and cautious about your business.",
         "To see an aardvark in your dream",
         " indicates that you are being very secretive and cautious about your business."
        ],
        [
         "4",
         "To see or use an abacus in your dream refers to your outdated views. You have an old fashion perspective on certain issues.",
         "To see or use an abacus in your dream",
         " refers to your outdated views. You have an old fashion perspective on certain issues."
        ],
        [
         "5",
         "To see or eat abalone in your dream indicates a transitional period in your life. The symbol may also be a play on words to indicate feelings of \"loneliness\".",
         "To see or eat abalone in your dream",
         " indicates a transitional period in your life. The symbol may also be a play on words to indicate feelings of \"loneliness\"."
        ],
        [
         "6",
         "To dream that you are abandoned suggests that it is time to leave behind past feelings and characteristics that are hindering your growth. Let go of your old attitudes. A more direct and literal interpretation of this dream indicates you have a fear of being deserted, abandoned, or even betrayed. It may stem from a recent loss or a fear of losing a loved one. The fear of abandonment may manifest itself into your dream as part of the healing process and dealing with losing a loved one. It may also stem from unresolved feelings or problems from childhood. Alternatively, the dream indicates that you are feeling neglected or that your feelings are being overlooked. Perhaps the dream is a metaphor that you need to approach life with \"reckless abandon\" and live more freely.",
         "To dream that you are abandoned",
         " suggests that it is time to leave behind past feelings and characteristics that are hindering your growth. Let go of your old attitudes. A more direct and literal interpretation of this dream indicates you have a fear of being deserted, abandoned, or even betrayed. It may stem from a recent loss or a fear of losing a loved one. The fear of abandonment may manifest itself into your dream as part of the healing process and dealing with losing a loved one. It may also stem from unresolved feelings or problems from childhood. Alternatively, the dream indicates that you are feeling neglected or that your feelings are being overlooked. Perhaps the dream is a metaphor that you need to approach life with \"reckless abandon\" and live more freely."
        ],
        [
         "6",
         "To abandon others in your dream suggests that you are overwhelmed by the problems and decisions in your life.",
         "To abandon others in your dream",
         " suggests that you are overwhelmed by the problems and decisions in your life."
        ],
        [
         "7",
         "To see an abbey in your dream signifies spirituality, peace of mind and freedom from anxiety. You are in a state of contentment and satisfaction. Help for you is always around the corner.",
         "To see an abbey in your dream",
         " signifies spirituality, peace of mind and freedom from anxiety. You are in a state of contentment and satisfaction. Help for you is always around the corner."
        ],
        [
         "7",
         "To see an abbey in ruins indicates feelings of hopelessness. You have a tendency to not finish what you started.",
         "To see an abbey in ruins",
         " indicates feelings of hopelessness. You have a tendency to not finish what you started."
        ],
        [
         "8",
         "To see an abbot in your dream suggests that someone has power over you and are making you do things that you do not necessarily want to do. You are feeling confined or restricted. The dream indicates that you will experience many obstacles and setback before achieving success and prestige.",
         "To see an abbot in your dream",
         " suggests that someone has power over you and are making you do things that you do not necessarily want to do. You are feeling confined or restricted. The dream indicates that you will experience many obstacles and setback before achieving success and prestige."
        ],
        [
         "9",
         "To see abbreviations in your dream may represent the initials of someone in your life. The abbreviations could stand for an organization or a common acronym or it may spell out some hidden message or advice. The dreaming mind likes to make use of puns, as well as shorthand messages. For example, \"CD\" could be a pun on a \"seedy\" situation. \"AA\" could stand for Alcoholics Anonymous and thus point to the dangers or your excesses and negative behaviors. \"Inc\" may represent an \"inkling\", hunch or suspicious you have about a situation. The initails DM may refer to a direct message or perhaps that you need to check Dream Moqds for your dream anaylsis.",
         "To see abbreviations in your dream may",
         " represent the initials of someone in your life. The abbreviations could stand for an organization or a common acronym or it may spell out some hidden message or advice. The dreaming mind likes to make use of puns, as well as shorthand messages. For example, \"CD\" could be a pun on a \"seedy\" situation. \"AA\" could stand for Alcoholics Anonymous and thus point to the dangers or your excesses and negative behaviors. \"Inc\" may represent an \"inkling\", hunch or suspicious you have about a situation. The initails DM may refer to a direct message or perhaps that you need to check Dream Moqds for your dream anaylsis."
        ],
        [
         "10",
         "To see your abdomen in a dream refers to your natural instincts and repressed emotions. There is something in your real life that you \"cannot stomach\" or have difficulties accepting. You need to get it out of your system. Alternatively, the dream symbol may be strictly physiological and you may just be experiencing constipation or indigestion.",
         "To see your abdomen in a dream",
         " refers to your natural instincts and repressed emotions. There is something in your real life that you \"cannot stomach\" or have difficulties accepting. You need to get it out of your system. Alternatively, the dream symbol may be strictly physiological and you may just be experiencing constipation or indigestion."
        ],
        [
         "10",
         "To dream that your abdomen is exposed represents issues you have with trust and feelings of vulnerability. You are expressing your primal emotions and instincts.",
         "To dream that your abdomen is exposed",
         " represents issues you have with trust and feelings of vulnerability. You are expressing your primal emotions and instincts."
        ],
        [
         "10",
         "To dream that your abdomen is swollen indicates that some new project is in the works.",
         "To dream that your abdomen is swollen",
         " indicates that some new project is in the works."
        ],
        [
         "11",
         "To dream of being abducted indicates that you are being manipulated by your circumstances or by someone. You lack control of your own life.",
         "To dream of being abducted",
         " indicates that you are being manipulated by your circumstances or by someone. You lack control of your own life."
        ],
        [
         "11",
         "To witness an abduction in your dream signifies feelings of helplessness.",
         "To witness an abduction in your dream",
         " signifies feelings of helplessness."
        ],
        [
         "11",
         "To dream that you are abducting someone implies that you are holding on to something that you need to let go. You may be forcing your views and opinions on others.",
         "To dream that you are abducting someone",
         " implies that you are holding on to something that you need to let go. You may be forcing your views and opinions on others."
        ],
        [
         "12",
         "To dream that you abhor a person represents your waking dislike for that person. You are harboring feelings of resentment or aggression and feel that this person has acted in a less than honorable way.",
         "To dream that you abhor a person",
         " represents your waking dislike for that person. You are harboring feelings of resentment or aggression and feel that this person has acted in a less than honorable way."
        ],
        [
         "12",
         "To dream that you are abhorred by others suggests that you may be forcing your views and opinions on others. You are rubbing others the wrong way.",
         "To dream that you are abhorred by others",
         " suggests that you may be forcing your views and opinions on others. You are rubbing others the wrong way."
        ],
        [
         "13",
         "To dream of some abnormality or of abnormal objects indicate that the problems that have been preoccupying your mind will soon be resolved. Note that anything appearing abnormal draws attention to that particular aspect. Something in your life may not be consistent with how you feel things should be.",
         "To dream of some abnormality or of abnormal objects",
         " indicate that the problems that have been preoccupying your mind will soon be resolved. Note that anything appearing abnormal draws attention to that particular aspect. Something in your life may not be consistent with how you feel things should be."
        ],
        [
         "14",
         "#Ref:home",
         "#Ref:home",
         "#Ref:home"
        ],
        [
         "15",
         "#Ref:yeti",
         "#Ref:yeti",
         "#Ref:yeti"
        ],
        [
         "16",
         "To see an Aborigine in your dream represents both your untamed, natural self and your pure, innocent side. You need to be more in touch with your intuition and inner forces. It also suggests that you are being overindulgent or overly emotional. You may be harming yourself and jeopardizing your well-being due to your unrestraint.",
         "To see an Aborigine in your dream",
         " represents both your untamed, natural self and your pure, innocent side. You need to be more in touch with your intuition and inner forces. It also suggests that you are being overindulgent or overly emotional. You may be harming yourself and jeopardizing your well-being due to your unrestraint."
        ],
        [
         "17",
         "To dream that you have an abortion suggests that you are hindering and blocking your own growth. You may be hesitant in pursuing a new direction in your life due to fear, pressure, personal conflict or moral obligation. The dream may also be a reflection of your own real-life abortion and thus serves as a way of healing from the trauma and working towards self-acceptance. Alternatively, this dream may also be a message for you to take care and look after your health.",
         "To dream that you have an abortion",
         " suggests that you are hindering and blocking your own growth. You may be hesitant in pursuing a new direction in your life due to fear, pressure, personal conflict or moral obligation. The dream may also be a reflection of your own real-life abortion and thus serves as a way of healing from the trauma and working towards self-acceptance. Alternatively, this dream may also be a message for you to take care and look after your health."
        ],
        [
         "17",
         "To dream that someone has an abortion refers to an aspect of your relationship with this person is not growing or maturing. If you do not know this person, then the dream may be about your own personal views on abortion.",
         "To dream that someone has an abortion",
         " refers to an aspect of your relationship with this person is not growing or maturing. If you do not know this person, then the dream may be about your own personal views on abortion."
        ],
        [
         "17",
         "To dream that you or someone has an illegal abortion indicates that you are desperate to keep things the exact same. If the abortion results in death, then it means that your approach to a problem is all wrong.",
         "To dream that you or someone has an illegal abortion",
         " indicates that you are desperate to keep things the exact same. If the abortion results in death, then it means that your approach to a problem is all wrong."
        ],
        [
         "18",
         "To see something above you in your dream suggests that you need to set your goals higher. Aim high! Alternatively, the dream indicates that you are feeling inferior or inadequate.",
         "To see something above you in your dream",
         " suggests that you need to set your goals higher. Aim high! Alternatively, the dream indicates that you are feeling inferior or inadequate."
        ],
        [
         "19",
         "To see Abraham Lincoln in your dream refers to your solid character and leadership ability. Known as \"Honest Abe\", the dream may also be telling you to be truthful or to come clean about something.",
         "To see Abraham Lincoln in your dream",
         " refers to your solid character and leadership ability. Known as \"Honest Abe\", the dream may also be telling you to be truthful or to come clean about something."
        ],
        [
         "20",
         "To dream of being or going abroad indicates unbalance and chaos in your current situation and condition. Consequently, your dream may represent your need for a change in scenery or a desire to escape from a current situation. You need to make some drastic changes in your life. Alternatively, the dream may suggest that you need to expand your horizons or experience a new sense of spirituality.",
         "To dream of being or going abroad",
         " indicates unbalance and chaos in your current situation and condition. Consequently, your dream may represent your need for a change in scenery or a desire to escape from a current situation. You need to make some drastic changes in your life. Alternatively, the dream may suggest that you need to expand your horizons or experience a new sense of spirituality."
        ],
        [
         "21",
         "To dream that someone is absent, especially if you expect to find them, suggests that you are looking for something that is already lost to you. Alternatively, you may be looking to fill a void in your life. Something is missing from your life.",
         "To dream that someone is absent, especially if you expect to find them,",
         " suggests that you are looking for something that is already lost to you. Alternatively, you may be looking to fill a void in your life. Something is missing from your life."
        ],
        [
         "22",
         "To dream that you have an abscess suggests that there is something that you need to express and get out into the open.",
         "To dream that you have an abscess",
         " suggests that there is something that you need to express and get out into the open."
        ],
        [
         "23",
         "To dream that you have absconded with something indicates your failed accomplishments. You may also be feeling insecure about your achievements. You feel that you are never good enough. Consider the significance or value of what you have absconded.",
         "To dream that you have absconded with something",
         " indicates your failed accomplishments. You may also be feeling insecure about your achievements. You feel that you are never good enough. Consider the significance or value of what you have absconded."
        ],
        [
         "24",
         "To be absorbed in whatever you are doing suggests that you may be too focused on your own thing and risk alienating others around you. The dream may also be a metaphor that you need to integrate and adapt to your various surroundings.",
         "To be absorbed in whatever you are doing",
         " suggests that you may be too focused on your own thing and risk alienating others around you. The dream may also be a metaphor that you need to integrate and adapt to your various surroundings."
        ],
        [
         "25",
         "To dream that you practice abstinence from drinking, sex or any other sort of sensual temptation is a warning against being over confidant. You need to take things more slowly.",
         "To dream that you practice abstinence from drinking, sex or any other sort of sensual temptation ",
         "is a warning against being over confidant. You need to take things more slowly."
        ],
        [
         "26",
         "To dream of having an abundance of a certain item indicates that you need to conserve your resources and energies. This dream may be a compensatory dream for something that you are lacking in life. More directly, abundance signifies happiness.",
         "To dream of having an abundance of a certain item",
         " indicates that you need to conserve your resources and energies. This dream may be a compensatory dream for something that you are lacking in life. More directly, abundance signifies happiness."
        ],
        [
         "27",
         "To dream you are abusing someone suggests that your past actions will come back to haunt you. You may be expressing some regret or remorse over your actions.",
         "To dream you are abusing someone",
         " suggests that your past actions will come back to haunt you. You may be expressing some regret or remorse over your actions."
        ],
        [
         "27",
         "To dream you are being verbally or physically abused suggests that you are feeling victimized in a waking situation. You are being taking advantage of.",
         "To dream you are being verbally or physically abused",
         " suggests that you are feeling victimized in a waking situation. You are being taking advantage of."
        ],
        [
         "27",
         "To see children being abused in your dream implies that you are lacking a voice for your own inner child. You feel that a part of your own childhood is lost.",
         "To see children being abused in your dream",
         " implies that you are lacking a voice for your own inner child. You feel that a part of your own childhood is lost."
        ],
        [
         "28",
         "To dream of an abyss signifies an obstacle that is creating much anxiety for you. You need to work through the difficulty and overcome this obstacle in your life. Perhaps you are afraid of \"taking the plunge\".",
         "To dream of an abyss",
         " signifies an obstacle that is creating much anxiety for you. You need to work through the difficulty and overcome this obstacle in your life. Perhaps you are afraid of \"taking the plunge\"."
        ],
        [
         "28",
         "To dream that you are falling into an abyss symbolizes the depths of your subconscious. You are afraid and/or uncertain as to what you will discover about yourself and about your hidden feelings and fears. The abyss may also represent your primal fears and feelings of \"falling into a pit of despair\". Perhaps you are in a state of depression or wallowing in your negative feelings. Alternatively, the dream could denote your lack of spirituality.",
         "To dream that you are falling into an abyss",
         " symbolizes the depths of your subconscious. You are afraid and/or uncertain as to what you will discover about yourself and about your hidden feelings and fears. The abyss may also represent your primal fears and feelings of \"falling into a pit of despair\". Perhaps you are in a state of depression or wallowing in your negative feelings. Alternatively, the dream could denote your lack of spirituality."
        ],
        [
         "29",
         "To see an acacia tree in your dream symbolizes your attitudes with death and your sense of mortality.",
         "To see an acacia tree in your dream",
         " symbolizes your attitudes with death and your sense of mortality."
        ],
        [
         "30",
         "To dream of an academy signifies new friendships and opportunities.",
         "To dream of an academy",
         " signifies new friendships and opportunities."
        ],
        [
         "31",
         "To dream that you at the Academy Awards indicates that you need to add some glamour into your life. If you win an Oscar, then it implies that you are looking for some sort of acknowledgment in your waking life.",
         "To dream that you at the Academy Awards",
         " indicates that you need to add some glamour into your life. If you win an Oscar, then it implies that you are looking for some sort of acknowledgment in your waking life."
        ],
        [
         "32",
         "To see an accelerator in your dream indicates that you will achieve your goals through your own efforts. The dream may also be telling you to slow down.",
         "To see an accelerator in your dream",
         " indicates that you will achieve your goals through your own efforts. The dream may also be telling you to slow down."
        ],
        [
         "32",
         "To dream that the accelerator is jammed or broken indicates a loss of control in some aspect of your life. You maybe trying to rush through things.",
         "To dream that the accelerator is jammed or broken",
         " indicates a loss of control in some aspect of your life. You maybe trying to rush through things."
        ],
        [
         "33",
         "To speak with an accent in your dream suggests that you are having difficulties conveying your thoughts. Consider how you feel about the accent. If you feel the accent makes you stand out in a negative way, then it signifies feelings of insecurities. If the accent makes you stand out in a positive way, then it symbolizes an air of confidence.",
         "To speak with an accent in your dream",
         " suggests that you are having difficulties conveying your thoughts. Consider how you feel about the accent. If you feel the accent makes you stand out in a negative way, then it signifies feelings of insecurities. If the accent makes you stand out in a positive way, then it symbolizes an air of confidence."
        ],
        [
         "33",
         "To hear someone speaking with an accent in your dream represents something familiar yet different. You are getting the gist of a message, but you still do not completely understand all of it.",
         "To hear someone speaking with an accent in your dream",
         " represents something familiar yet different. You are getting the gist of a message, but you still do not completely understand all of it."
        ],
        [
         "34",
         "To dream about acceptance indicates issues of self-esteem and measuring up to the expectations of others. There is a waking situation where you are seeking acceptance and wanting to be a part of.",
         "To dream about acceptance",
         " indicates issues of self-esteem and measuring up to the expectations of others. There is a waking situation where you are seeking acceptance and wanting to be a part of."
        ],
        [
         "35",
         "To dream of accessorizing yourself suggests that you are feeling incomplete. Something is missing in your life.",
         "To dream of accessorizing yourself",
         " suggests that you are feeling incomplete. Something is missing in your life."
        ],
        [
         "36",
         "To dream that you are in an accident signifies pent-up guilt in which you are subconsciously punishing yourself over. Perhaps you are not proud of something you have done. Alternatively, the accident may symbolize an error or mistake you have made. Accident dreams also represent your fears of being in an actual, physical accident. You may simply be nervous about getting behind the wheel. Or the dream is trying to warn you of some accident.",
         "To dream that you are in an accident",
         " signifies pent-up guilt in which you are subconsciously punishing yourself over. Perhaps you are not proud of something you have done. Alternatively, the accident may symbolize an error or mistake you have made. Accident dreams also represent your fears of being in an actual, physical accident. You may simply be nervous about getting behind the wheel. Or the dream is trying to warn you of some accident."
        ],
        [
         "36",
         "To dream of a car accident symbolizes your emotional state. You may be harboring deep anxieties and fears. Are you \"driving\" yourself too hard? Perhaps you need to slow down before you hit disaster. You need to rethink or re-plan your course of actions and set yourself on a better path. Dreaming that someone is injured in a car accident means that you cannot control the action of others. They have to live with the consequences of their own decisions.",
         "To dream of a car accident",
         " symbolizes your emotional state. You may be harboring deep anxieties and fears. Are you \"driving\" yourself too hard? Perhaps you need to slow down before you hit disaster. You need to rethink or re-plan your course of actions and set yourself on a better path. Dreaming that someone is injured in a car accident means that you cannot control the action of others. They have to live with the consequences of their own decisions."
        ]
       ],
       "shape": {
        "columns": 3,
        "rows": 7798
       }
      },
      "text/html": [
       "<div>\n",
       "<style scoped>\n",
       "    .dataframe tbody tr th:only-of-type {\n",
       "        vertical-align: middle;\n",
       "    }\n",
       "\n",
       "    .dataframe tbody tr th {\n",
       "        vertical-align: top;\n",
       "    }\n",
       "\n",
       "    .dataframe thead th {\n",
       "        text-align: right;\n",
       "    }\n",
       "</style>\n",
       "<table border=\"1\" class=\"dataframe\">\n",
       "  <thead>\n",
       "    <tr style=\"text-align: right;\">\n",
       "      <th></th>\n",
       "      <th>interp</th>\n",
       "      <th>context</th>\n",
       "      <th>meaning</th>\n",
       "    </tr>\n",
       "  </thead>\n",
       "  <tbody>\n",
       "    <tr>\n",
       "      <th>2</th>\n",
       "      <td>To see the letter \"A\" in your dream represents...</td>\n",
       "      <td>To see the letter \"A\" in your dream</td>\n",
       "      <td>represents the beginning of a new stage. You ...</td>\n",
       "    </tr>\n",
       "    <tr>\n",
       "      <th>3</th>\n",
       "      <td>To see an aardvark in your dream indicates tha...</td>\n",
       "      <td>To see an aardvark in your dream</td>\n",
       "      <td>indicates that you are being very secretive a...</td>\n",
       "    </tr>\n",
       "    <tr>\n",
       "      <th>4</th>\n",
       "      <td>To see or use an abacus in your dream refers t...</td>\n",
       "      <td>To see or use an abacus in your dream</td>\n",
       "      <td>refers to your outdated views. You have an ol...</td>\n",
       "    </tr>\n",
       "    <tr>\n",
       "      <th>5</th>\n",
       "      <td>To see or eat abalone in your dream indicates ...</td>\n",
       "      <td>To see or eat abalone in your dream</td>\n",
       "      <td>indicates a transitional period in your life....</td>\n",
       "    </tr>\n",
       "    <tr>\n",
       "      <th>6</th>\n",
       "      <td>To dream that you are abandoned suggests that ...</td>\n",
       "      <td>To dream that you are abandoned</td>\n",
       "      <td>suggests that it is time to leave behind past...</td>\n",
       "    </tr>\n",
       "    <tr>\n",
       "      <th>...</th>\n",
       "      <td>...</td>\n",
       "      <td>...</td>\n",
       "      <td>...</td>\n",
       "    </tr>\n",
       "    <tr>\n",
       "      <th>365</th>\n",
       "      <td>To dream that you are being mutilated indicate...</td>\n",
       "      <td>To dream that you are being mutilated</td>\n",
       "      <td>indicates that there is a waking situation th...</td>\n",
       "    </tr>\n",
       "    <tr>\n",
       "      <th>365</th>\n",
       "      <td>To dream that someone or something is mutilate...</td>\n",
       "      <td>To dream that someone or something is mutilated</td>\n",
       "      <td>indicates that your integrity is put into que...</td>\n",
       "    </tr>\n",
       "    <tr>\n",
       "      <th>366</th>\n",
       "      <td>To see or use a muzzle in your dream suggests ...</td>\n",
       "      <td>To see or use a muzzle in your dream</td>\n",
       "      <td>suggests that you need to show better restrai...</td>\n",
       "    </tr>\n",
       "    <tr>\n",
       "      <th>367</th>\n",
       "      <td>To see myrrh in your dream signifies punishmen...</td>\n",
       "      <td>To see myrrh in your dream</td>\n",
       "      <td>signifies punishment or suffering. You are un...</td>\n",
       "    </tr>\n",
       "    <tr>\n",
       "      <th>368</th>\n",
       "      <td>To see a myrtle in your dream symbolizes happi...</td>\n",
       "      <td>To see a myrtle in your dream</td>\n",
       "      <td>symbolizes happiness, peace, prosperity or do...</td>\n",
       "    </tr>\n",
       "  </tbody>\n",
       "</table>\n",
       "<p>7798 rows × 3 columns</p>\n",
       "</div>"
      ],
      "text/plain": [
       "                                                interp  \\\n",
       "2    To see the letter \"A\" in your dream represents...   \n",
       "3    To see an aardvark in your dream indicates tha...   \n",
       "4    To see or use an abacus in your dream refers t...   \n",
       "5    To see or eat abalone in your dream indicates ...   \n",
       "6    To dream that you are abandoned suggests that ...   \n",
       "..                                                 ...   \n",
       "365  To dream that you are being mutilated indicate...   \n",
       "365  To dream that someone or something is mutilate...   \n",
       "366  To see or use a muzzle in your dream suggests ...   \n",
       "367  To see myrrh in your dream signifies punishmen...   \n",
       "368  To see a myrtle in your dream symbolizes happi...   \n",
       "\n",
       "                                             context  \\\n",
       "2                To see the letter \"A\" in your dream   \n",
       "3                   To see an aardvark in your dream   \n",
       "4              To see or use an abacus in your dream   \n",
       "5                To see or eat abalone in your dream   \n",
       "6                    To dream that you are abandoned   \n",
       "..                                               ...   \n",
       "365            To dream that you are being mutilated   \n",
       "365  To dream that someone or something is mutilated   \n",
       "366             To see or use a muzzle in your dream   \n",
       "367                       To see myrrh in your dream   \n",
       "368                    To see a myrtle in your dream   \n",
       "\n",
       "                                               meaning  \n",
       "2     represents the beginning of a new stage. You ...  \n",
       "3     indicates that you are being very secretive a...  \n",
       "4     refers to your outdated views. You have an ol...  \n",
       "5     indicates a transitional period in your life....  \n",
       "6     suggests that it is time to leave behind past...  \n",
       "..                                                 ...  \n",
       "365   indicates that there is a waking situation th...  \n",
       "365   indicates that your integrity is put into que...  \n",
       "366   suggests that you need to show better restrai...  \n",
       "367   signifies punishment or suffering. You are un...  \n",
       "368   symbolizes happiness, peace, prosperity or do...  \n",
       "\n",
       "[7798 rows x 3 columns]"
      ]
     },
     "execution_count": 240,
     "metadata": {},
     "output_type": "execute_result"
    }
   ],
   "source": [
    "\n",
    "def custom_split(x):\n",
    "    incoming = x[\"interp\"]\n",
    "    \n",
    "    if \"#Ref\" in incoming:\n",
    "        return incoming, incoming\n",
    "    res1 = re.split(expr, incoming, maxsplit=1)\n",
    "    \n",
    "    res2 = re.split(expr2, incoming, maxsplit=1)\n",
    "\n",
    "    # of the two, take the one where splitting keyword appears earliest in the sentence\n",
    "    res = res1 if len(res1[0]) < len(res2[0]) else res2\n",
    "\n",
    "    if(len(res) == 1 or len(res[0]) > 250):\n",
    "        return None, incoming\n",
    "\n",
    "    return res[0], \"\".join(res[1:]) \n",
    "\n",
    "\n",
    "dataset[[\"context\",\"meaning\"]] = dataset.apply(custom_split, result_type='expand', axis=1) \n",
    "dataset[\"context_len\"] = dataset.context.str.len()\n",
    "dataset[[\"interp\",\"context\",\"meaning\"]]"
   ]
  },
  {
   "cell_type": "markdown",
   "id": "2a9ae5ff",
   "metadata": {},
   "source": [
    "#### Iterative development\n",
    "Use this ever shrinking dataset to discover what interps were not picked up by regex.\n",
    "Modify regexes above to catch them and re-run the code."
   ]
  },
  {
   "cell_type": "code",
   "execution_count": 241,
   "id": "0d6d9016",
   "metadata": {},
   "outputs": [
    {
     "data": {
      "application/vnd.microsoft.datawrangler.viewer.v0+json": {
       "columns": [
        {
         "name": "index",
         "rawType": "int64",
         "type": "integer"
        },
        {
         "name": "symbol",
         "rawType": "object",
         "type": "string"
        },
        {
         "name": "context",
         "rawType": "object",
         "type": "unknown"
        },
        {
         "name": "meaning",
         "rawType": "object",
         "type": "string"
        }
       ],
       "conversionMethod": "pd.DataFrame",
       "ref": "179b998b-4962-473b-b7e3-1a8386f4a568",
       "rows": [
        [
         "184",
         "Anger",
         null,
         "Being angry in your dream may have been carried over from your waking life. Dreams function as a safe outlet where you can express your strong and/or negative emotions. You are suppressing your anger and aggression, instead of consciously acknowledging them."
        ],
        [
         "185",
         "Angling",
         null,
         "To dream that you are angling is a good omen of fortune and luck."
        ],
        [
         "186",
         "Animal",
         null,
         "A dream about a baby animal is often symbolic of your own child."
        ],
        [
         "213",
         "Antlers",
         null,
         "To see antlers in your dream are representative of masculine sexuality, male aggression and assertiveness. It may also be symbolic of a trophy or prize."
        ],
        [
         "352",
         "Awakening",
         null,
         "You may also be on the verge of lucid dreaming."
        ],
        [
         "71",
         "Sauce",
         null,
         "The dream may also be a pun on being \"saucy\". You need to be more bold and direct with your feelings or opinions even though it may not seem to be an appropriate time."
        ],
        [
         "440",
         "Soda",
         null,
         "If the soda is bitter, sour or off-tasting, then something or someone is preventing you from enjoying life to the fullest. Something is holding you back from fully expressing yourself."
        ],
        [
         "500",
         "Spell",
         null,
         "Dreaming of a protection spell written in red is a message from your subconscious that you need to be more cautious."
        ],
        [
         "626",
         "Stones",
         null,
         "For various cultures, stones have spiritual significance. Consider the Black Stone of Mecca in the Muslim culture which was sent down by God as a marker for where the Ka'abah should be built."
        ],
        [
         "276",
         "Places",
         null,
         "To dream of a certain place in your dream is telling of your inner state of mind. Consider the feel, the appearance, and the coloring of the place. Also consider your own personal feelings and memories with that particular place."
        ],
        [
         "280",
         "Plan",
         null,
         "Dreams can help you solve certain problems that you are stuck on. The solution to a problem came about in a dream for some inventors and scientists. Some authors look to their dreams for their novels. Thus dreaming of a plan may give you an answer to a problem you are having."
        ],
        [
         "282",
         "Planet",
         null,
         "Look up the specific planet for additional significance."
        ],
        [
         "468",
         "Property",
         null,
         "These interpretations are property of dm inc."
        ],
        [
         "146",
         "Fishing",
         null,
         "Consider the common phrase \"fishing for compliments\". Perhaps you are looking for attention."
        ],
        [
         "297",
         "Fruit",
         null,
         "* See Dream Moods' entries on specific fruits for more information."
        ],
        [
         "12",
         "Back-biting",
         null,
         "To dream of back-biting about someone warns that you will cause harm to someone if you continue on your current course. Think twice over your actions and its consequences."
        ],
        [
         "140",
         "Bear",
         null,
         "The dream may also be a pun on \"bare\". Perhaps you need to bare your soul and let everything out into the open. Or there is a situation where you just need to \" grin and bear it\"."
        ],
        [
         "338",
         "Boss",
         null,
         "Consider also the relationship you have with your boss. This may provide clues to work-related stress or issues that need to be resolved."
        ],
        [
         "171",
         "Chakra",
         null,
         "The throat chakra radiates a blue light and pertains to your voice and how you express your opinions and beliefs."
        ],
        [
         "219",
         "Chest",
         null,
         "It is common for those who experience real life chest pains to have dreams where they are being shot in the chest or feel heavy pressure on their chest."
        ],
        [
         "233",
         "Children",
         null,
         "To dream that you are watching children but they do not know you are there is a metaphor for some hidden knowledge or some latent talent which you have failed to recognize."
        ],
        [
         "298",
         "Class",
         null,
         "To dream that you are in class is a metaphor that you need to have more class."
        ],
        [
         "404",
         "Compact Disc",
         null,
         "Consider also if the initial \"CD\" have any additional significance to you. Perhaps it may even be a pun on something that is \"seedy\"."
        ],
        [
         "531",
         "Crash",
         null,
         "To wake up before you crash in your dream may simply be the anticipation of the crash that jolts you awake. It is similar to the notion of waking up before you hit the ground from a fall."
        ],
        [
         "178",
         "Ditch",
         null,
         "The dream may also be on pun on ditching school, work, appointment, or something that you are now feeling guilty about."
        ],
        [
         "191",
         "Dog",
         null,
         "Also consider the notions associated with the word dog, such as loyalty (\"man's best friend\") and to be \"treated like a dog\"."
        ],
        [
         "238",
         "Dragon",
         null,
         "In the eastern cultures, dragons are seen as spiritual creatures symbolizing good luck and fortune."
        ],
        [
         "3",
         "Habit",
         null,
         "To dream about an old habit or a habit that you recently quit is an expression of your subconscious desires. Your suppressed urges are making themselves known via your dreams."
        ],
        [
         "205",
         "Homosexual",
         null,
         "On a side note, it is common for expectant fathers to have dreams of homosexual encounters."
        ],
        [
         "228",
         "Hornets",
         null,
         "To dream that you are stung by a hornet is an indication of revenge and vengeful attitudes. It may also be a metaphor for some stinging remark."
        ],
        [
         "192",
         "Lock",
         null,
         "To dream that a lock is broken is a metaphor that you are feeling insecure, either emotionally or physically."
        ],
        [
         "20",
         "Talking",
         null,
         "To dream that you are talking does not have any significance unless it is unusual or bizarre. What are you saying specifically. Consider also if what you say evoke strong feelings or behavioral reactions. The dream may simply be highlighting your need improve your communication skills or learn to express yourself more clearly."
        ],
        [
         "178",
         "Tingling",
         null,
         "To feel a tingling sensation in your dream may actually be your arm or leg losing blood flow. Perhaps your arm or leg is positioned in a certain way where it is losing circulation. Sometimes your actual bodily sensations or discomfort may incorporate themselves into your dream, as well as noises in your surrounding."
        ],
        [
         "217",
         "Tools",
         null,
         "The tool in your dream may also be a pun on how you are acting like a tool or that someone who is a tool. The dream may also be telling you that you are being taken advantaged of or that you are blindly following others."
        ],
        [
         "249",
         "Tower",
         null,
         "To dream that a tower is falling or crumbling heralds a drastic change ahead."
        ],
        [
         "228",
         "Miscarriage",
         null,
         "If you are currently pregnant, then dreams of miscarriages are common in the second trimester of pregnancy."
        ],
        [
         "349",
         "Music",
         null,
         "Specific genres of music are personal to every dreamer. For someone who loves country music and hears country music in their dream, the interpretation will be different for someone who hates country music. If the genre of music is something you like, then the music is offering you some advice. If the genre of music you hear in your dream is something you hate, then it means that you are refusing or rejecting some advice."
        ]
       ],
       "shape": {
        "columns": 3,
        "rows": 37
       }
      },
      "text/html": [
       "<div>\n",
       "<style scoped>\n",
       "    .dataframe tbody tr th:only-of-type {\n",
       "        vertical-align: middle;\n",
       "    }\n",
       "\n",
       "    .dataframe tbody tr th {\n",
       "        vertical-align: top;\n",
       "    }\n",
       "\n",
       "    .dataframe thead th {\n",
       "        text-align: right;\n",
       "    }\n",
       "</style>\n",
       "<table border=\"1\" class=\"dataframe\">\n",
       "  <thead>\n",
       "    <tr style=\"text-align: right;\">\n",
       "      <th></th>\n",
       "      <th>symbol</th>\n",
       "      <th>context</th>\n",
       "      <th>meaning</th>\n",
       "    </tr>\n",
       "  </thead>\n",
       "  <tbody>\n",
       "    <tr>\n",
       "      <th>184</th>\n",
       "      <td>Anger</td>\n",
       "      <td>None</td>\n",
       "      <td>Being angry in your dream may have been carrie...</td>\n",
       "    </tr>\n",
       "    <tr>\n",
       "      <th>185</th>\n",
       "      <td>Angling</td>\n",
       "      <td>None</td>\n",
       "      <td>To dream that you are angling is a good omen o...</td>\n",
       "    </tr>\n",
       "    <tr>\n",
       "      <th>186</th>\n",
       "      <td>Animal</td>\n",
       "      <td>None</td>\n",
       "      <td>A dream about a baby animal is often symbolic ...</td>\n",
       "    </tr>\n",
       "    <tr>\n",
       "      <th>213</th>\n",
       "      <td>Antlers</td>\n",
       "      <td>None</td>\n",
       "      <td>To see antlers in your dream are representativ...</td>\n",
       "    </tr>\n",
       "    <tr>\n",
       "      <th>352</th>\n",
       "      <td>Awakening</td>\n",
       "      <td>None</td>\n",
       "      <td>You may also be on the verge of lucid dreaming.</td>\n",
       "    </tr>\n",
       "    <tr>\n",
       "      <th>71</th>\n",
       "      <td>Sauce</td>\n",
       "      <td>None</td>\n",
       "      <td>The dream may also be a pun on being \"saucy\". ...</td>\n",
       "    </tr>\n",
       "    <tr>\n",
       "      <th>440</th>\n",
       "      <td>Soda</td>\n",
       "      <td>None</td>\n",
       "      <td>If the soda is bitter, sour or off-tasting, th...</td>\n",
       "    </tr>\n",
       "    <tr>\n",
       "      <th>500</th>\n",
       "      <td>Spell</td>\n",
       "      <td>None</td>\n",
       "      <td>Dreaming of a protection spell written in red ...</td>\n",
       "    </tr>\n",
       "    <tr>\n",
       "      <th>626</th>\n",
       "      <td>Stones</td>\n",
       "      <td>None</td>\n",
       "      <td>For various cultures, stones have spiritual si...</td>\n",
       "    </tr>\n",
       "    <tr>\n",
       "      <th>276</th>\n",
       "      <td>Places</td>\n",
       "      <td>None</td>\n",
       "      <td>To dream of a certain place in your dream is t...</td>\n",
       "    </tr>\n",
       "    <tr>\n",
       "      <th>280</th>\n",
       "      <td>Plan</td>\n",
       "      <td>None</td>\n",
       "      <td>Dreams can help you solve certain problems tha...</td>\n",
       "    </tr>\n",
       "    <tr>\n",
       "      <th>282</th>\n",
       "      <td>Planet</td>\n",
       "      <td>None</td>\n",
       "      <td>Look up the specific planet for additional sig...</td>\n",
       "    </tr>\n",
       "    <tr>\n",
       "      <th>468</th>\n",
       "      <td>Property</td>\n",
       "      <td>None</td>\n",
       "      <td>These interpretations are property of dm inc.</td>\n",
       "    </tr>\n",
       "    <tr>\n",
       "      <th>146</th>\n",
       "      <td>Fishing</td>\n",
       "      <td>None</td>\n",
       "      <td>Consider the common phrase \"fishing for compli...</td>\n",
       "    </tr>\n",
       "    <tr>\n",
       "      <th>297</th>\n",
       "      <td>Fruit</td>\n",
       "      <td>None</td>\n",
       "      <td>* See Dream Moods' entries on specific fruits ...</td>\n",
       "    </tr>\n",
       "    <tr>\n",
       "      <th>12</th>\n",
       "      <td>Back-biting</td>\n",
       "      <td>None</td>\n",
       "      <td>To dream of back-biting about someone warns th...</td>\n",
       "    </tr>\n",
       "    <tr>\n",
       "      <th>140</th>\n",
       "      <td>Bear</td>\n",
       "      <td>None</td>\n",
       "      <td>The dream may also be a pun on \"bare\". Perhaps...</td>\n",
       "    </tr>\n",
       "    <tr>\n",
       "      <th>338</th>\n",
       "      <td>Boss</td>\n",
       "      <td>None</td>\n",
       "      <td>Consider also the relationship you have with y...</td>\n",
       "    </tr>\n",
       "    <tr>\n",
       "      <th>171</th>\n",
       "      <td>Chakra</td>\n",
       "      <td>None</td>\n",
       "      <td>The throat chakra radiates a blue light and pe...</td>\n",
       "    </tr>\n",
       "    <tr>\n",
       "      <th>219</th>\n",
       "      <td>Chest</td>\n",
       "      <td>None</td>\n",
       "      <td>It is common for those who experience real lif...</td>\n",
       "    </tr>\n",
       "    <tr>\n",
       "      <th>233</th>\n",
       "      <td>Children</td>\n",
       "      <td>None</td>\n",
       "      <td>To dream that you are watching children but th...</td>\n",
       "    </tr>\n",
       "    <tr>\n",
       "      <th>298</th>\n",
       "      <td>Class</td>\n",
       "      <td>None</td>\n",
       "      <td>To dream that you are in class is a metaphor t...</td>\n",
       "    </tr>\n",
       "    <tr>\n",
       "      <th>404</th>\n",
       "      <td>Compact Disc</td>\n",
       "      <td>None</td>\n",
       "      <td>Consider also if the initial \"CD\" have any add...</td>\n",
       "    </tr>\n",
       "    <tr>\n",
       "      <th>531</th>\n",
       "      <td>Crash</td>\n",
       "      <td>None</td>\n",
       "      <td>To wake up before you crash in your dream may ...</td>\n",
       "    </tr>\n",
       "    <tr>\n",
       "      <th>178</th>\n",
       "      <td>Ditch</td>\n",
       "      <td>None</td>\n",
       "      <td>The dream may also be on pun on ditching schoo...</td>\n",
       "    </tr>\n",
       "    <tr>\n",
       "      <th>191</th>\n",
       "      <td>Dog</td>\n",
       "      <td>None</td>\n",
       "      <td>Also consider the notions associated with the ...</td>\n",
       "    </tr>\n",
       "    <tr>\n",
       "      <th>238</th>\n",
       "      <td>Dragon</td>\n",
       "      <td>None</td>\n",
       "      <td>In the eastern cultures, dragons are seen as s...</td>\n",
       "    </tr>\n",
       "    <tr>\n",
       "      <th>3</th>\n",
       "      <td>Habit</td>\n",
       "      <td>None</td>\n",
       "      <td>To dream about an old habit or a habit that yo...</td>\n",
       "    </tr>\n",
       "    <tr>\n",
       "      <th>205</th>\n",
       "      <td>Homosexual</td>\n",
       "      <td>None</td>\n",
       "      <td>On a side note, it is common for expectant fat...</td>\n",
       "    </tr>\n",
       "    <tr>\n",
       "      <th>228</th>\n",
       "      <td>Hornets</td>\n",
       "      <td>None</td>\n",
       "      <td>To dream that you are stung by a hornet is an ...</td>\n",
       "    </tr>\n",
       "    <tr>\n",
       "      <th>192</th>\n",
       "      <td>Lock</td>\n",
       "      <td>None</td>\n",
       "      <td>To dream that a lock is broken is a metaphor t...</td>\n",
       "    </tr>\n",
       "    <tr>\n",
       "      <th>20</th>\n",
       "      <td>Talking</td>\n",
       "      <td>None</td>\n",
       "      <td>To dream that you are talking does not have an...</td>\n",
       "    </tr>\n",
       "    <tr>\n",
       "      <th>178</th>\n",
       "      <td>Tingling</td>\n",
       "      <td>None</td>\n",
       "      <td>To feel a tingling sensation in your dream may...</td>\n",
       "    </tr>\n",
       "    <tr>\n",
       "      <th>217</th>\n",
       "      <td>Tools</td>\n",
       "      <td>None</td>\n",
       "      <td>The tool in your dream may also be a pun on ho...</td>\n",
       "    </tr>\n",
       "    <tr>\n",
       "      <th>249</th>\n",
       "      <td>Tower</td>\n",
       "      <td>None</td>\n",
       "      <td>To dream that a tower is falling or crumbling ...</td>\n",
       "    </tr>\n",
       "    <tr>\n",
       "      <th>228</th>\n",
       "      <td>Miscarriage</td>\n",
       "      <td>None</td>\n",
       "      <td>If you are currently pregnant, then dreams of ...</td>\n",
       "    </tr>\n",
       "    <tr>\n",
       "      <th>349</th>\n",
       "      <td>Music</td>\n",
       "      <td>None</td>\n",
       "      <td>Specific genres of music are personal to every...</td>\n",
       "    </tr>\n",
       "  </tbody>\n",
       "</table>\n",
       "</div>"
      ],
      "text/plain": [
       "           symbol context                                            meaning\n",
       "184         Anger    None  Being angry in your dream may have been carrie...\n",
       "185       Angling    None  To dream that you are angling is a good omen o...\n",
       "186        Animal    None  A dream about a baby animal is often symbolic ...\n",
       "213       Antlers    None  To see antlers in your dream are representativ...\n",
       "352     Awakening    None    You may also be on the verge of lucid dreaming.\n",
       "71          Sauce    None  The dream may also be a pun on being \"saucy\". ...\n",
       "440          Soda    None  If the soda is bitter, sour or off-tasting, th...\n",
       "500         Spell    None  Dreaming of a protection spell written in red ...\n",
       "626        Stones    None  For various cultures, stones have spiritual si...\n",
       "276        Places    None  To dream of a certain place in your dream is t...\n",
       "280          Plan    None  Dreams can help you solve certain problems tha...\n",
       "282        Planet    None  Look up the specific planet for additional sig...\n",
       "468      Property    None      These interpretations are property of dm inc.\n",
       "146       Fishing    None  Consider the common phrase \"fishing for compli...\n",
       "297         Fruit    None  * See Dream Moods' entries on specific fruits ...\n",
       "12    Back-biting    None  To dream of back-biting about someone warns th...\n",
       "140          Bear    None  The dream may also be a pun on \"bare\". Perhaps...\n",
       "338          Boss    None  Consider also the relationship you have with y...\n",
       "171        Chakra    None  The throat chakra radiates a blue light and pe...\n",
       "219         Chest    None  It is common for those who experience real lif...\n",
       "233      Children    None  To dream that you are watching children but th...\n",
       "298         Class    None  To dream that you are in class is a metaphor t...\n",
       "404  Compact Disc    None  Consider also if the initial \"CD\" have any add...\n",
       "531         Crash    None  To wake up before you crash in your dream may ...\n",
       "178         Ditch    None  The dream may also be on pun on ditching schoo...\n",
       "191           Dog    None  Also consider the notions associated with the ...\n",
       "238        Dragon    None  In the eastern cultures, dragons are seen as s...\n",
       "3           Habit    None  To dream about an old habit or a habit that yo...\n",
       "205    Homosexual    None  On a side note, it is common for expectant fat...\n",
       "228       Hornets    None  To dream that you are stung by a hornet is an ...\n",
       "192          Lock    None  To dream that a lock is broken is a metaphor t...\n",
       "20        Talking    None  To dream that you are talking does not have an...\n",
       "178      Tingling    None  To feel a tingling sensation in your dream may...\n",
       "217         Tools    None  The tool in your dream may also be a pun on ho...\n",
       "249         Tower    None  To dream that a tower is falling or crumbling ...\n",
       "228   Miscarriage    None  If you are currently pregnant, then dreams of ...\n",
       "349         Music    None  Specific genres of music are personal to every..."
      ]
     },
     "execution_count": 241,
     "metadata": {},
     "output_type": "execute_result"
    }
   ],
   "source": [
    "smol = dataset[[\"symbol\", \"context\",\"meaning\"]][dataset.context.isna()] \n",
    "smol.to_csv(\"datasets/smol.csv\", index=False)\n",
    "smol"
   ]
  },
  {
   "cell_type": "markdown",
   "id": "a8773478",
   "metadata": {},
   "source": [
    "Once the amount of contexts that were not picked up by regex is small enough, we can replace these with just the dream symbol. "
   ]
  },
  {
   "cell_type": "code",
   "execution_count": null,
   "id": "e5694dcd",
   "metadata": {},
   "outputs": [
    {
     "data": {
      "application/vnd.microsoft.datawrangler.viewer.v0+json": {
       "columns": [
        {
         "name": "index",
         "rawType": "int64",
         "type": "integer"
        },
        {
         "name": "symbol",
         "rawType": "object",
         "type": "string"
        },
        {
         "name": "interp",
         "rawType": "object",
         "type": "string"
        },
        {
         "name": "n_meanings",
         "rawType": "int64",
         "type": "integer"
        },
        {
         "name": "mean_len",
         "rawType": "float64",
         "type": "float"
        },
        {
         "name": "filename",
         "rawType": "object",
         "type": "string"
        },
        {
         "name": "context",
         "rawType": "object",
         "type": "string"
        },
        {
         "name": "meaning",
         "rawType": "object",
         "type": "string"
        },
        {
         "name": "context_len",
         "rawType": "int64",
         "type": "integer"
        }
       ],
       "conversionMethod": "pd.DataFrame",
       "ref": "aa88ad62-51ff-4a98-abdb-a22e7ca40ca6",
       "rows": [
        [
         "2",
         "A",
         "To see the letter \"A\" in your dream represents the beginning of a new stage. You are moving on to something new and grand. Alternatively, the letter \"A\" invokes feelings of superiority and grandeur. It may indicate the name or initial of a person.",
         "2",
         "247.0",
         "a_all.html",
         "To see the letter \"A\" in your dream",
         " represents the beginning of a new stage. You are moving on to something new and grand. Alternatively, the letter \"A\" invokes feelings of superiority and grandeur. It may indicate the name or initial of a person.",
         "35"
        ],
        [
         "3",
         "Aardvark",
         "To see an aardvark in your dream indicates that you are being very secretive and cautious about your business.",
         "1",
         "110.0",
         "a_all.html",
         "To see an aardvark in your dream",
         " indicates that you are being very secretive and cautious about your business.",
         "32"
        ],
        [
         "4",
         "Abacus",
         "To see or use an abacus in your dream refers to your outdated views. You have an old fashion perspective on certain issues.",
         "1",
         "123.0",
         "a_all.html",
         "To see or use an abacus in your dream",
         " refers to your outdated views. You have an old fashion perspective on certain issues.",
         "37"
        ],
        [
         "5",
         "Abalone",
         "To see or eat abalone in your dream indicates a transitional period in your life. The symbol may also be a play on words to indicate feelings of \"loneliness\".",
         "1",
         "158.0",
         "a_all.html",
         "To see or eat abalone in your dream",
         " indicates a transitional period in your life. The symbol may also be a play on words to indicate feelings of \"loneliness\".",
         "35"
        ],
        [
         "6",
         "Abandonment",
         "To dream that you are abandoned suggests that it is time to leave behind past feelings and characteristics that are hindering your growth. Let go of your old attitudes. A more direct and literal interpretation of this dream indicates you have a fear of being deserted, abandoned, or even betrayed. It may stem from a recent loss or a fear of losing a loved one. The fear of abandonment may manifest itself into your dream as part of the healing process and dealing with losing a loved one. It may also stem from unresolved feelings or problems from childhood. Alternatively, the dream indicates that you are feeling neglected or that your feelings are being overlooked. Perhaps the dream is a metaphor that you need to approach life with \"reckless abandon\" and live more freely.",
         "2",
         "778.0",
         "a_all.html",
         "To dream that you are abandoned",
         " suggests that it is time to leave behind past feelings and characteristics that are hindering your growth. Let go of your old attitudes. A more direct and literal interpretation of this dream indicates you have a fear of being deserted, abandoned, or even betrayed. It may stem from a recent loss or a fear of losing a loved one. The fear of abandonment may manifest itself into your dream as part of the healing process and dealing with losing a loved one. It may also stem from unresolved feelings or problems from childhood. Alternatively, the dream indicates that you are feeling neglected or that your feelings are being overlooked. Perhaps the dream is a metaphor that you need to approach life with \"reckless abandon\" and live more freely.",
         "31"
        ],
        [
         "6",
         "Abandonment",
         "To abandon others in your dream suggests that you are overwhelmed by the problems and decisions in your life.",
         "2",
         "109.0",
         "a_all.html",
         "To abandon others in your dream",
         " suggests that you are overwhelmed by the problems and decisions in your life.",
         "31"
        ],
        [
         "7",
         "Abbey",
         "To see an abbey in your dream signifies spirituality, peace of mind and freedom from anxiety. You are in a state of contentment and satisfaction. Help for you is always around the corner.",
         "2",
         "187.0",
         "a_all.html",
         "To see an abbey in your dream",
         " signifies spirituality, peace of mind and freedom from anxiety. You are in a state of contentment and satisfaction. Help for you is always around the corner.",
         "29"
        ],
        [
         "7",
         "Abbey",
         "To see an abbey in ruins indicates feelings of hopelessness. You have a tendency to not finish what you started.",
         "2",
         "112.0",
         "a_all.html",
         "To see an abbey in ruins",
         " indicates feelings of hopelessness. You have a tendency to not finish what you started.",
         "24"
        ],
        [
         "8",
         "Abbot",
         "To see an abbot in your dream suggests that someone has power over you and are making you do things that you do not necessarily want to do. You are feeling confined or restricted. The dream indicates that you will experience many obstacles and setback before achieving success and prestige.",
         "1",
         "290.0",
         "a_all.html",
         "To see an abbot in your dream",
         " suggests that someone has power over you and are making you do things that you do not necessarily want to do. You are feeling confined or restricted. The dream indicates that you will experience many obstacles and setback before achieving success and prestige.",
         "29"
        ],
        [
         "9",
         "Abbreviations",
         "To see abbreviations in your dream may represent the initials of someone in your life. The abbreviations could stand for an organization or a common acronym or it may spell out some hidden message or advice. The dreaming mind likes to make use of puns, as well as shorthand messages. For example, \"CD\" could be a pun on a \"seedy\" situation. \"AA\" could stand for Alcoholics Anonymous and thus point to the dangers or your excesses and negative behaviors. \"Inc\" may represent an \"inkling\", hunch or suspicious you have about a situation. The initails DM may refer to a direct message or perhaps that you need to check Dream Moqds for your dream anaylsis.",
         "1",
         "652.0",
         "a_all.html",
         "To see abbreviations in your dream may",
         " represent the initials of someone in your life. The abbreviations could stand for an organization or a common acronym or it may spell out some hidden message or advice. The dreaming mind likes to make use of puns, as well as shorthand messages. For example, \"CD\" could be a pun on a \"seedy\" situation. \"AA\" could stand for Alcoholics Anonymous and thus point to the dangers or your excesses and negative behaviors. \"Inc\" may represent an \"inkling\", hunch or suspicious you have about a situation. The initails DM may refer to a direct message or perhaps that you need to check Dream Moqds for your dream anaylsis.",
         "38"
        ],
        [
         "10",
         "Abdomen",
         "To see your abdomen in a dream refers to your natural instincts and repressed emotions. There is something in your real life that you \"cannot stomach\" or have difficulties accepting. You need to get it out of your system. Alternatively, the dream symbol may be strictly physiological and you may just be experiencing constipation or indigestion.",
         "4",
         "345.0",
         "a_all.html",
         "To see your abdomen in a dream",
         " refers to your natural instincts and repressed emotions. There is something in your real life that you \"cannot stomach\" or have difficulties accepting. You need to get it out of your system. Alternatively, the dream symbol may be strictly physiological and you may just be experiencing constipation or indigestion.",
         "30"
        ],
        [
         "10",
         "Abdomen",
         "To dream that your abdomen is exposed represents issues you have with trust and feelings of vulnerability. You are expressing your primal emotions and instincts.",
         "4",
         "161.0",
         "a_all.html",
         "To dream that your abdomen is exposed",
         " represents issues you have with trust and feelings of vulnerability. You are expressing your primal emotions and instincts.",
         "37"
        ],
        [
         "10",
         "Abdomen",
         "To dream that your abdomen is swollen indicates that some new project is in the works.",
         "4",
         "86.0",
         "a_all.html",
         "To dream that your abdomen is swollen",
         " indicates that some new project is in the works.",
         "37"
        ],
        [
         "11",
         "Abduction",
         "To dream of being abducted indicates that you are being manipulated by your circumstances or by someone. You lack control of your own life.",
         "4",
         "139.0",
         "a_all.html",
         "To dream of being abducted",
         " indicates that you are being manipulated by your circumstances or by someone. You lack control of your own life.",
         "26"
        ],
        [
         "11",
         "Abduction",
         "To witness an abduction in your dream signifies feelings of helplessness.",
         "4",
         "73.0",
         "a_all.html",
         "To witness an abduction in your dream",
         " signifies feelings of helplessness.",
         "37"
        ],
        [
         "11",
         "Abduction",
         "To dream that you are abducting someone implies that you are holding on to something that you need to let go. You may be forcing your views and opinions on others.",
         "4",
         "163.0",
         "a_all.html",
         "To dream that you are abducting someone",
         " implies that you are holding on to something that you need to let go. You may be forcing your views and opinions on others.",
         "39"
        ],
        [
         "12",
         "Abhorrence",
         "To dream that you abhor a person represents your waking dislike for that person. You are harboring feelings of resentment or aggression and feel that this person has acted in a less than honorable way.",
         "2",
         "201.0",
         "a_all.html",
         "To dream that you abhor a person",
         " represents your waking dislike for that person. You are harboring feelings of resentment or aggression and feel that this person has acted in a less than honorable way.",
         "32"
        ],
        [
         "12",
         "Abhorrence",
         "To dream that you are abhorred by others suggests that you may be forcing your views and opinions on others. You are rubbing others the wrong way.",
         "2",
         "146.0",
         "a_all.html",
         "To dream that you are abhorred by others",
         " suggests that you may be forcing your views and opinions on others. You are rubbing others the wrong way.",
         "40"
        ],
        [
         "13",
         "Abnormal",
         "To dream of some abnormality or of abnormal objects indicate that the problems that have been preoccupying your mind will soon be resolved. Note that anything appearing abnormal draws attention to that particular aspect. Something in your life may not be consistent with how you feel things should be.",
         "1",
         "301.0",
         "a_all.html",
         "To dream of some abnormality or of abnormal objects",
         " indicate that the problems that have been preoccupying your mind will soon be resolved. Note that anything appearing abnormal draws attention to that particular aspect. Something in your life may not be consistent with how you feel things should be.",
         "51"
        ],
        [
         "14",
         "Abode",
         "#Ref:home",
         "1",
         "9.0",
         "a_all.html",
         "#Ref:home",
         "#Ref:home",
         "9"
        ],
        [
         "15",
         "Abominable Snowman",
         "#Ref:yeti",
         "1",
         "9.0",
         "a_all.html",
         "#Ref:yeti",
         "#Ref:yeti",
         "9"
        ],
        [
         "16",
         "Aborigine",
         "To see an Aborigine in your dream represents both your untamed, natural self and your pure, innocent side. You need to be more in touch with your intuition and inner forces. It also suggests that you are being overindulgent or overly emotional. You may be harming yourself and jeopardizing your well-being due to your unrestraint.",
         "1",
         "330.0",
         "a_all.html",
         "To see an Aborigine in your dream",
         " represents both your untamed, natural self and your pure, innocent side. You need to be more in touch with your intuition and inner forces. It also suggests that you are being overindulgent or overly emotional. You may be harming yourself and jeopardizing your well-being due to your unrestraint.",
         "33"
        ],
        [
         "17",
         "Abortion",
         "To dream that you have an abortion suggests that you are hindering and blocking your own growth. You may be hesitant in pursuing a new direction in your life due to fear, pressure, personal conflict or moral obligation. The dream may also be a reflection of your own real-life abortion and thus serves as a way of healing from the trauma and working towards self-acceptance. Alternatively, this dream may also be a message for you to take care and look after your health.",
         "3",
         "471.0",
         "a_all.html",
         "To dream that you have an abortion",
         " suggests that you are hindering and blocking your own growth. You may be hesitant in pursuing a new direction in your life due to fear, pressure, personal conflict or moral obligation. The dream may also be a reflection of your own real-life abortion and thus serves as a way of healing from the trauma and working towards self-acceptance. Alternatively, this dream may also be a message for you to take care and look after your health.",
         "34"
        ],
        [
         "17",
         "Abortion",
         "To dream that someone has an abortion refers to an aspect of your relationship with this person is not growing or maturing. If you do not know this person, then the dream may be about your own personal views on abortion.",
         "3",
         "220.0",
         "a_all.html",
         "To dream that someone has an abortion",
         " refers to an aspect of your relationship with this person is not growing or maturing. If you do not know this person, then the dream may be about your own personal views on abortion.",
         "37"
        ],
        [
         "17",
         "Abortion",
         "To dream that you or someone has an illegal abortion indicates that you are desperate to keep things the exact same. If the abortion results in death, then it means that your approach to a problem is all wrong.",
         "3",
         "210.0",
         "a_all.html",
         "To dream that you or someone has an illegal abortion",
         " indicates that you are desperate to keep things the exact same. If the abortion results in death, then it means that your approach to a problem is all wrong.",
         "52"
        ],
        [
         "18",
         "Above",
         "To see something above you in your dream suggests that you need to set your goals higher. Aim high! Alternatively, the dream indicates that you are feeling inferior or inadequate.",
         "1",
         "179.0",
         "a_all.html",
         "To see something above you in your dream",
         " suggests that you need to set your goals higher. Aim high! Alternatively, the dream indicates that you are feeling inferior or inadequate.",
         "40"
        ],
        [
         "19",
         "Abraham Lincoln",
         "To see Abraham Lincoln in your dream refers to your solid character and leadership ability. Known as \"Honest Abe\", the dream may also be telling you to be truthful or to come clean about something.",
         "1",
         "197.0",
         "a_all.html",
         "To see Abraham Lincoln in your dream",
         " refers to your solid character and leadership ability. Known as \"Honest Abe\", the dream may also be telling you to be truthful or to come clean about something.",
         "36"
        ],
        [
         "20",
         "Abroad",
         "To dream of being or going abroad indicates unbalance and chaos in your current situation and condition. Consequently, your dream may represent your need for a change in scenery or a desire to escape from a current situation. You need to make some drastic changes in your life. Alternatively, the dream may suggest that you need to expand your horizons or experience a new sense of spirituality.",
         "1",
         "395.0",
         "a_all.html",
         "To dream of being or going abroad",
         " indicates unbalance and chaos in your current situation and condition. Consequently, your dream may represent your need for a change in scenery or a desire to escape from a current situation. You need to make some drastic changes in your life. Alternatively, the dream may suggest that you need to expand your horizons or experience a new sense of spirituality.",
         "33"
        ],
        [
         "21",
         "Absence",
         "To dream that someone is absent, especially if you expect to find them, suggests that you are looking for something that is already lost to you. Alternatively, you may be looking to fill a void in your life. Something is missing from your life.",
         "1",
         "244.0",
         "a_all.html",
         "To dream that someone is absent, especially if you expect to find them,",
         " suggests that you are looking for something that is already lost to you. Alternatively, you may be looking to fill a void in your life. Something is missing from your life.",
         "71"
        ],
        [
         "22",
         "Abscess",
         "To dream that you have an abscess suggests that there is something that you need to express and get out into the open.",
         "2",
         "118.0",
         "a_all.html",
         "To dream that you have an abscess",
         " suggests that there is something that you need to express and get out into the open.",
         "33"
        ],
        [
         "23",
         "Abscond",
         "To dream that you have absconded with something indicates your failed accomplishments. You may also be feeling insecure about your achievements. You feel that you are never good enough. Consider the significance or value of what you have absconded.",
         "1",
         "248.0",
         "a_all.html",
         "To dream that you have absconded with something",
         " indicates your failed accomplishments. You may also be feeling insecure about your achievements. You feel that you are never good enough. Consider the significance or value of what you have absconded.",
         "47"
        ],
        [
         "24",
         "Absorb",
         "To be absorbed in whatever you are doing suggests that you may be too focused on your own thing and risk alienating others around you. The dream may also be a metaphor that you need to integrate and adapt to your various surroundings.",
         "1",
         "234.0",
         "a_all.html",
         "To be absorbed in whatever you are doing",
         " suggests that you may be too focused on your own thing and risk alienating others around you. The dream may also be a metaphor that you need to integrate and adapt to your various surroundings.",
         "40"
        ],
        [
         "25",
         "Abstinence",
         "To dream that you practice abstinence from drinking, sex or any other sort of sensual temptation is a warning against being over confidant. You need to take things more slowly.",
         "1",
         "176.0",
         "a_all.html",
         "To dream that you practice abstinence from drinking, sex or any other sort of sensual temptation ",
         "is a warning against being over confidant. You need to take things more slowly.",
         "97"
        ],
        [
         "26",
         "Abundance",
         "To dream of having an abundance of a certain item indicates that you need to conserve your resources and energies. This dream may be a compensatory dream for something that you are lacking in life. More directly, abundance signifies happiness.",
         "1",
         "243.0",
         "a_all.html",
         "To dream of having an abundance of a certain item",
         " indicates that you need to conserve your resources and energies. This dream may be a compensatory dream for something that you are lacking in life. More directly, abundance signifies happiness.",
         "49"
        ],
        [
         "27",
         "Abuse",
         "To dream you are abusing someone suggests that your past actions will come back to haunt you. You may be expressing some regret or remorse over your actions.",
         "4",
         "157.0",
         "a_all.html",
         "To dream you are abusing someone",
         " suggests that your past actions will come back to haunt you. You may be expressing some regret or remorse over your actions.",
         "32"
        ],
        [
         "27",
         "Abuse",
         "To dream you are being verbally or physically abused suggests that you are feeling victimized in a waking situation. You are being taking advantage of.",
         "4",
         "151.0",
         "a_all.html",
         "To dream you are being verbally or physically abused",
         " suggests that you are feeling victimized in a waking situation. You are being taking advantage of.",
         "52"
        ],
        [
         "27",
         "Abuse",
         "To see children being abused in your dream implies that you are lacking a voice for your own inner child. You feel that a part of your own childhood is lost.",
         "4",
         "157.0",
         "a_all.html",
         "To see children being abused in your dream",
         " implies that you are lacking a voice for your own inner child. You feel that a part of your own childhood is lost.",
         "42"
        ],
        [
         "28",
         "Abyss",
         "To dream of an abyss signifies an obstacle that is creating much anxiety for you. You need to work through the difficulty and overcome this obstacle in your life. Perhaps you are afraid of \"taking the plunge\".",
         "2",
         "209.0",
         "a_all.html",
         "To dream of an abyss",
         " signifies an obstacle that is creating much anxiety for you. You need to work through the difficulty and overcome this obstacle in your life. Perhaps you are afraid of \"taking the plunge\".",
         "20"
        ],
        [
         "28",
         "Abyss",
         "To dream that you are falling into an abyss symbolizes the depths of your subconscious. You are afraid and/or uncertain as to what you will discover about yourself and about your hidden feelings and fears. The abyss may also represent your primal fears and feelings of \"falling into a pit of despair\". Perhaps you are in a state of depression or wallowing in your negative feelings. Alternatively, the dream could denote your lack of spirituality.",
         "2",
         "447.0",
         "a_all.html",
         "To dream that you are falling into an abyss",
         " symbolizes the depths of your subconscious. You are afraid and/or uncertain as to what you will discover about yourself and about your hidden feelings and fears. The abyss may also represent your primal fears and feelings of \"falling into a pit of despair\". Perhaps you are in a state of depression or wallowing in your negative feelings. Alternatively, the dream could denote your lack of spirituality.",
         "43"
        ],
        [
         "29",
         "Acacia",
         "To see an acacia tree in your dream symbolizes your attitudes with death and your sense of mortality.",
         "1",
         "101.0",
         "a_all.html",
         "To see an acacia tree in your dream",
         " symbolizes your attitudes with death and your sense of mortality.",
         "35"
        ],
        [
         "30",
         "Academy",
         "To dream of an academy signifies new friendships and opportunities.",
         "1",
         "67.0",
         "a_all.html",
         "To dream of an academy",
         " signifies new friendships and opportunities.",
         "22"
        ],
        [
         "31",
         "Academy Awards",
         "To dream that you at the Academy Awards indicates that you need to add some glamour into your life. If you win an Oscar, then it implies that you are looking for some sort of acknowledgment in your waking life.",
         "1",
         "210.0",
         "a_all.html",
         "To dream that you at the Academy Awards",
         " indicates that you need to add some glamour into your life. If you win an Oscar, then it implies that you are looking for some sort of acknowledgment in your waking life.",
         "39"
        ],
        [
         "32",
         "Accelerator",
         "To see an accelerator in your dream indicates that you will achieve your goals through your own efforts. The dream may also be telling you to slow down.",
         "2",
         "152.0",
         "a_all.html",
         "To see an accelerator in your dream",
         " indicates that you will achieve your goals through your own efforts. The dream may also be telling you to slow down.",
         "35"
        ],
        [
         "32",
         "Accelerator",
         "To dream that the accelerator is jammed or broken indicates a loss of control in some aspect of your life. You maybe trying to rush through things.",
         "2",
         "147.0",
         "a_all.html",
         "To dream that the accelerator is jammed or broken",
         " indicates a loss of control in some aspect of your life. You maybe trying to rush through things.",
         "49"
        ],
        [
         "33",
         "Accent",
         "To speak with an accent in your dream suggests that you are having difficulties conveying your thoughts. Consider how you feel about the accent. If you feel the accent makes you stand out in a negative way, then it signifies feelings of insecurities. If the accent makes you stand out in a positive way, then it symbolizes an air of confidence.",
         "2",
         "344.0",
         "a_all.html",
         "To speak with an accent in your dream",
         " suggests that you are having difficulties conveying your thoughts. Consider how you feel about the accent. If you feel the accent makes you stand out in a negative way, then it signifies feelings of insecurities. If the accent makes you stand out in a positive way, then it symbolizes an air of confidence.",
         "37"
        ],
        [
         "33",
         "Accent",
         "To hear someone speaking with an accent in your dream represents something familiar yet different. You are getting the gist of a message, but you still do not completely understand all of it.",
         "2",
         "191.0",
         "a_all.html",
         "To hear someone speaking with an accent in your dream",
         " represents something familiar yet different. You are getting the gist of a message, but you still do not completely understand all of it.",
         "53"
        ],
        [
         "34",
         "Acceptance",
         "To dream about acceptance indicates issues of self-esteem and measuring up to the expectations of others. There is a waking situation where you are seeking acceptance and wanting to be a part of.",
         "1",
         "195.0",
         "a_all.html",
         "To dream about acceptance",
         " indicates issues of self-esteem and measuring up to the expectations of others. There is a waking situation where you are seeking acceptance and wanting to be a part of.",
         "25"
        ],
        [
         "35",
         "Accessory",
         "To dream of accessorizing yourself suggests that you are feeling incomplete. Something is missing in your life.",
         "1",
         "111.0",
         "a_all.html",
         "To dream of accessorizing yourself",
         " suggests that you are feeling incomplete. Something is missing in your life.",
         "34"
        ],
        [
         "36",
         "Accident",
         "To dream that you are in an accident signifies pent-up guilt in which you are subconsciously punishing yourself over. Perhaps you are not proud of something you have done. Alternatively, the accident may symbolize an error or mistake you have made. Accident dreams also represent your fears of being in an actual, physical accident. You may simply be nervous about getting behind the wheel. Or the dream is trying to warn you of some accident.",
         "3",
         "443.0",
         "a_all.html",
         "To dream that you are in an accident",
         " signifies pent-up guilt in which you are subconsciously punishing yourself over. Perhaps you are not proud of something you have done. Alternatively, the accident may symbolize an error or mistake you have made. Accident dreams also represent your fears of being in an actual, physical accident. You may simply be nervous about getting behind the wheel. Or the dream is trying to warn you of some accident.",
         "36"
        ],
        [
         "36",
         "Accident",
         "To dream of a car accident symbolizes your emotional state. You may be harboring deep anxieties and fears. Are you \"driving\" yourself too hard? Perhaps you need to slow down before you hit disaster. You need to rethink or re-plan your course of actions and set yourself on a better path. Dreaming that someone is injured in a car accident means that you cannot control the action of others. They have to live with the consequences of their own decisions.",
         "3",
         "454.0",
         "a_all.html",
         "To dream of a car accident",
         " symbolizes your emotional state. You may be harboring deep anxieties and fears. Are you \"driving\" yourself too hard? Perhaps you need to slow down before you hit disaster. You need to rethink or re-plan your course of actions and set yourself on a better path. Dreaming that someone is injured in a car accident means that you cannot control the action of others. They have to live with the consequences of their own decisions.",
         "26"
        ]
       ],
       "shape": {
        "columns": 8,
        "rows": 7798
       }
      },
      "text/html": [
       "<div>\n",
       "<style scoped>\n",
       "    .dataframe tbody tr th:only-of-type {\n",
       "        vertical-align: middle;\n",
       "    }\n",
       "\n",
       "    .dataframe tbody tr th {\n",
       "        vertical-align: top;\n",
       "    }\n",
       "\n",
       "    .dataframe thead th {\n",
       "        text-align: right;\n",
       "    }\n",
       "</style>\n",
       "<table border=\"1\" class=\"dataframe\">\n",
       "  <thead>\n",
       "    <tr style=\"text-align: right;\">\n",
       "      <th></th>\n",
       "      <th>symbol</th>\n",
       "      <th>interp</th>\n",
       "      <th>n_meanings</th>\n",
       "      <th>mean_len</th>\n",
       "      <th>filename</th>\n",
       "      <th>context</th>\n",
       "      <th>meaning</th>\n",
       "      <th>context_len</th>\n",
       "    </tr>\n",
       "  </thead>\n",
       "  <tbody>\n",
       "    <tr>\n",
       "      <th>2</th>\n",
       "      <td>A</td>\n",
       "      <td>To see the letter \"A\" in your dream represents...</td>\n",
       "      <td>2</td>\n",
       "      <td>247.0</td>\n",
       "      <td>a_all.html</td>\n",
       "      <td>To see the letter \"A\" in your dream</td>\n",
       "      <td>represents the beginning of a new stage. You ...</td>\n",
       "      <td>35</td>\n",
       "    </tr>\n",
       "    <tr>\n",
       "      <th>3</th>\n",
       "      <td>Aardvark</td>\n",
       "      <td>To see an aardvark in your dream indicates tha...</td>\n",
       "      <td>1</td>\n",
       "      <td>110.0</td>\n",
       "      <td>a_all.html</td>\n",
       "      <td>To see an aardvark in your dream</td>\n",
       "      <td>indicates that you are being very secretive a...</td>\n",
       "      <td>32</td>\n",
       "    </tr>\n",
       "    <tr>\n",
       "      <th>4</th>\n",
       "      <td>Abacus</td>\n",
       "      <td>To see or use an abacus in your dream refers t...</td>\n",
       "      <td>1</td>\n",
       "      <td>123.0</td>\n",
       "      <td>a_all.html</td>\n",
       "      <td>To see or use an abacus in your dream</td>\n",
       "      <td>refers to your outdated views. You have an ol...</td>\n",
       "      <td>37</td>\n",
       "    </tr>\n",
       "    <tr>\n",
       "      <th>5</th>\n",
       "      <td>Abalone</td>\n",
       "      <td>To see or eat abalone in your dream indicates ...</td>\n",
       "      <td>1</td>\n",
       "      <td>158.0</td>\n",
       "      <td>a_all.html</td>\n",
       "      <td>To see or eat abalone in your dream</td>\n",
       "      <td>indicates a transitional period in your life....</td>\n",
       "      <td>35</td>\n",
       "    </tr>\n",
       "    <tr>\n",
       "      <th>6</th>\n",
       "      <td>Abandonment</td>\n",
       "      <td>To dream that you are abandoned suggests that ...</td>\n",
       "      <td>2</td>\n",
       "      <td>778.0</td>\n",
       "      <td>a_all.html</td>\n",
       "      <td>To dream that you are abandoned</td>\n",
       "      <td>suggests that it is time to leave behind past...</td>\n",
       "      <td>31</td>\n",
       "    </tr>\n",
       "    <tr>\n",
       "      <th>...</th>\n",
       "      <td>...</td>\n",
       "      <td>...</td>\n",
       "      <td>...</td>\n",
       "      <td>...</td>\n",
       "      <td>...</td>\n",
       "      <td>...</td>\n",
       "      <td>...</td>\n",
       "      <td>...</td>\n",
       "    </tr>\n",
       "    <tr>\n",
       "      <th>365</th>\n",
       "      <td>Mutilate</td>\n",
       "      <td>To dream that you are being mutilated indicate...</td>\n",
       "      <td>2</td>\n",
       "      <td>431.0</td>\n",
       "      <td>m_all.html</td>\n",
       "      <td>To dream that you are being mutilated</td>\n",
       "      <td>indicates that there is a waking situation th...</td>\n",
       "      <td>37</td>\n",
       "    </tr>\n",
       "    <tr>\n",
       "      <th>365</th>\n",
       "      <td>Mutilate</td>\n",
       "      <td>To dream that someone or something is mutilate...</td>\n",
       "      <td>2</td>\n",
       "      <td>99.0</td>\n",
       "      <td>m_all.html</td>\n",
       "      <td>To dream that someone or something is mutilated</td>\n",
       "      <td>indicates that your integrity is put into que...</td>\n",
       "      <td>47</td>\n",
       "    </tr>\n",
       "    <tr>\n",
       "      <th>366</th>\n",
       "      <td>Muzzle</td>\n",
       "      <td>To see or use a muzzle in your dream suggests ...</td>\n",
       "      <td>1</td>\n",
       "      <td>203.0</td>\n",
       "      <td>m_all.html</td>\n",
       "      <td>To see or use a muzzle in your dream</td>\n",
       "      <td>suggests that you need to show better restrai...</td>\n",
       "      <td>36</td>\n",
       "    </tr>\n",
       "    <tr>\n",
       "      <th>367</th>\n",
       "      <td>Myrrh</td>\n",
       "      <td>To see myrrh in your dream signifies punishmen...</td>\n",
       "      <td>1</td>\n",
       "      <td>113.0</td>\n",
       "      <td>m_all.html</td>\n",
       "      <td>To see myrrh in your dream</td>\n",
       "      <td>signifies punishment or suffering. You are un...</td>\n",
       "      <td>26</td>\n",
       "    </tr>\n",
       "    <tr>\n",
       "      <th>368</th>\n",
       "      <td>Myrtle</td>\n",
       "      <td>To see a myrtle in your dream symbolizes happi...</td>\n",
       "      <td>1</td>\n",
       "      <td>88.0</td>\n",
       "      <td>m_all.html</td>\n",
       "      <td>To see a myrtle in your dream</td>\n",
       "      <td>symbolizes happiness, peace, prosperity or do...</td>\n",
       "      <td>29</td>\n",
       "    </tr>\n",
       "  </tbody>\n",
       "</table>\n",
       "<p>7798 rows × 8 columns</p>\n",
       "</div>"
      ],
      "text/plain": [
       "          symbol                                             interp  \\\n",
       "2              A  To see the letter \"A\" in your dream represents...   \n",
       "3       Aardvark  To see an aardvark in your dream indicates tha...   \n",
       "4         Abacus  To see or use an abacus in your dream refers t...   \n",
       "5        Abalone  To see or eat abalone in your dream indicates ...   \n",
       "6    Abandonment  To dream that you are abandoned suggests that ...   \n",
       "..           ...                                                ...   \n",
       "365     Mutilate  To dream that you are being mutilated indicate...   \n",
       "365     Mutilate  To dream that someone or something is mutilate...   \n",
       "366       Muzzle  To see or use a muzzle in your dream suggests ...   \n",
       "367        Myrrh  To see myrrh in your dream signifies punishmen...   \n",
       "368       Myrtle  To see a myrtle in your dream symbolizes happi...   \n",
       "\n",
       "     n_meanings  mean_len    filename  \\\n",
       "2             2     247.0  a_all.html   \n",
       "3             1     110.0  a_all.html   \n",
       "4             1     123.0  a_all.html   \n",
       "5             1     158.0  a_all.html   \n",
       "6             2     778.0  a_all.html   \n",
       "..          ...       ...         ...   \n",
       "365           2     431.0  m_all.html   \n",
       "365           2      99.0  m_all.html   \n",
       "366           1     203.0  m_all.html   \n",
       "367           1     113.0  m_all.html   \n",
       "368           1      88.0  m_all.html   \n",
       "\n",
       "                                             context  \\\n",
       "2                To see the letter \"A\" in your dream   \n",
       "3                   To see an aardvark in your dream   \n",
       "4              To see or use an abacus in your dream   \n",
       "5                To see or eat abalone in your dream   \n",
       "6                    To dream that you are abandoned   \n",
       "..                                               ...   \n",
       "365            To dream that you are being mutilated   \n",
       "365  To dream that someone or something is mutilated   \n",
       "366             To see or use a muzzle in your dream   \n",
       "367                       To see myrrh in your dream   \n",
       "368                    To see a myrtle in your dream   \n",
       "\n",
       "                                               meaning  context_len  \n",
       "2     represents the beginning of a new stage. You ...           35  \n",
       "3     indicates that you are being very secretive a...           32  \n",
       "4     refers to your outdated views. You have an ol...           37  \n",
       "5     indicates a transitional period in your life....           35  \n",
       "6     suggests that it is time to leave behind past...           31  \n",
       "..                                                 ...          ...  \n",
       "365   indicates that there is a waking situation th...           37  \n",
       "365   indicates that your integrity is put into que...           47  \n",
       "366   suggests that you need to show better restrai...           36  \n",
       "367   signifies punishment or suffering. You are un...           26  \n",
       "368   symbolizes happiness, peace, prosperity or do...           29  \n",
       "\n",
       "[7798 rows x 8 columns]"
      ]
     },
     "execution_count": 242,
     "metadata": {},
     "output_type": "execute_result"
    }
   ],
   "source": [
    "\n",
    "dataset.loc[dataset.context.isna(),\"context\"] = dataset.loc[dataset.context.isna(),\"symbol\"]\n",
    "dataset[\"context_len\"] = dataset.context.str.len()\n",
    "dataset"
   ]
  },
  {
   "cell_type": "markdown",
   "id": "ad021343",
   "metadata": {},
   "source": [
    "Save the dataset with current timestamp. Then use some diff tool to compare between the versions of the dataset. This is the best way to validate that your changes in the scraping/augmenting logic bear the desired effect on the dataset."
   ]
  },
  {
   "cell_type": "code",
   "execution_count": null,
   "id": "20e31afb",
   "metadata": {},
   "outputs": [],
   "source": [
    "tstp = datetime.now().strftime(r\"%y.%m.%d-%H\")\n",
    "fname = f\"datasets/augmented_{tstp}\"\n",
    "outcols = [\"symbol\", \"context\",\"meaning\",\"context_len\",\"n_meanings\"]\n",
    "#subset = dataset.loc[list(range(0,len(dataset),10)),outcols]\n",
    "\n",
    "subset = dataset[outcols]\n",
    "\n",
    "save_df_as_pretty_html(subset, fname + \".html\")\n",
    "subset.to_csv(fname + \".csv\", index=False)"
   ]
  },
  {
   "cell_type": "markdown",
   "id": "42abac56",
   "metadata": {},
   "source": [
    "### Analyze the results of scraping an augmenting"
   ]
  },
  {
   "cell_type": "markdown",
   "id": "43a1a97f",
   "metadata": {},
   "source": [
    "Check out the distribution of the lengths of context. The bump on the left are the #Ref to synonyms "
   ]
  },
  {
   "cell_type": "code",
   "execution_count": 243,
   "id": "9ca044f6",
   "metadata": {},
   "outputs": [
    {
     "data": {
      "application/vnd.plotly.v1+json": {
       "config": {
        "plotlyServerURL": "https://plot.ly"
       },
       "data": [
        {
         "bingroup": "x",
         "hovertemplate": "variable=context<br>value=%{x}<br>count=%{y}<extra></extra>",
         "legendgroup": "context",
         "marker": {
          "color": "#636efa",
          "pattern": {
           "shape": ""
          }
         },
         "name": "context",
         "orientation": "v",
         "showlegend": true,
         "type": "histogram",
         "x": {
          "bdata": "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",
          "dtype": "i2"
         },
         "xaxis": "x",
         "yaxis": "y"
        }
       ],
       "layout": {
        "barmode": "relative",
        "legend": {
         "title": {
          "text": "variable"
         },
         "tracegroupgap": 0
        },
        "template": {
         "data": {
          "bar": [
           {
            "error_x": {
             "color": "#2a3f5f"
            },
            "error_y": {
             "color": "#2a3f5f"
            },
            "marker": {
             "line": {
              "color": "#E5ECF6",
              "width": 0.5
             },
             "pattern": {
              "fillmode": "overlay",
              "size": 10,
              "solidity": 0.2
             }
            },
            "type": "bar"
           }
          ],
          "barpolar": [
           {
            "marker": {
             "line": {
              "color": "#E5ECF6",
              "width": 0.5
             },
             "pattern": {
              "fillmode": "overlay",
              "size": 10,
              "solidity": 0.2
             }
            },
            "type": "barpolar"
           }
          ],
          "carpet": [
           {
            "aaxis": {
             "endlinecolor": "#2a3f5f",
             "gridcolor": "white",
             "linecolor": "white",
             "minorgridcolor": "white",
             "startlinecolor": "#2a3f5f"
            },
            "baxis": {
             "endlinecolor": "#2a3f5f",
             "gridcolor": "white",
             "linecolor": "white",
             "minorgridcolor": "white",
             "startlinecolor": "#2a3f5f"
            },
            "type": "carpet"
           }
          ],
          "choropleth": [
           {
            "colorbar": {
             "outlinewidth": 0,
             "ticks": ""
            },
            "type": "choropleth"
           }
          ],
          "contour": [
           {
            "colorbar": {
             "outlinewidth": 0,
             "ticks": ""
            },
            "colorscale": [
             [
              0,
              "#0d0887"
             ],
             [
              0.1111111111111111,
              "#46039f"
             ],
             [
              0.2222222222222222,
              "#7201a8"
             ],
             [
              0.3333333333333333,
              "#9c179e"
             ],
             [
              0.4444444444444444,
              "#bd3786"
             ],
             [
              0.5555555555555556,
              "#d8576b"
             ],
             [
              0.6666666666666666,
              "#ed7953"
             ],
             [
              0.7777777777777778,
              "#fb9f3a"
             ],
             [
              0.8888888888888888,
              "#fdca26"
             ],
             [
              1,
              "#f0f921"
             ]
            ],
            "type": "contour"
           }
          ],
          "contourcarpet": [
           {
            "colorbar": {
             "outlinewidth": 0,
             "ticks": ""
            },
            "type": "contourcarpet"
           }
          ],
          "heatmap": [
           {
            "colorbar": {
             "outlinewidth": 0,
             "ticks": ""
            },
            "colorscale": [
             [
              0,
              "#0d0887"
             ],
             [
              0.1111111111111111,
              "#46039f"
             ],
             [
              0.2222222222222222,
              "#7201a8"
             ],
             [
              0.3333333333333333,
              "#9c179e"
             ],
             [
              0.4444444444444444,
              "#bd3786"
             ],
             [
              0.5555555555555556,
              "#d8576b"
             ],
             [
              0.6666666666666666,
              "#ed7953"
             ],
             [
              0.7777777777777778,
              "#fb9f3a"
             ],
             [
              0.8888888888888888,
              "#fdca26"
             ],
             [
              1,
              "#f0f921"
             ]
            ],
            "type": "heatmap"
           }
          ],
          "histogram": [
           {
            "marker": {
             "pattern": {
              "fillmode": "overlay",
              "size": 10,
              "solidity": 0.2
             }
            },
            "type": "histogram"
           }
          ],
          "histogram2d": [
           {
            "colorbar": {
             "outlinewidth": 0,
             "ticks": ""
            },
            "colorscale": [
             [
              0,
              "#0d0887"
             ],
             [
              0.1111111111111111,
              "#46039f"
             ],
             [
              0.2222222222222222,
              "#7201a8"
             ],
             [
              0.3333333333333333,
              "#9c179e"
             ],
             [
              0.4444444444444444,
              "#bd3786"
             ],
             [
              0.5555555555555556,
              "#d8576b"
             ],
             [
              0.6666666666666666,
              "#ed7953"
             ],
             [
              0.7777777777777778,
              "#fb9f3a"
             ],
             [
              0.8888888888888888,
              "#fdca26"
             ],
             [
              1,
              "#f0f921"
             ]
            ],
            "type": "histogram2d"
           }
          ],
          "histogram2dcontour": [
           {
            "colorbar": {
             "outlinewidth": 0,
             "ticks": ""
            },
            "colorscale": [
             [
              0,
              "#0d0887"
             ],
             [
              0.1111111111111111,
              "#46039f"
             ],
             [
              0.2222222222222222,
              "#7201a8"
             ],
             [
              0.3333333333333333,
              "#9c179e"
             ],
             [
              0.4444444444444444,
              "#bd3786"
             ],
             [
              0.5555555555555556,
              "#d8576b"
             ],
             [
              0.6666666666666666,
              "#ed7953"
             ],
             [
              0.7777777777777778,
              "#fb9f3a"
             ],
             [
              0.8888888888888888,
              "#fdca26"
             ],
             [
              1,
              "#f0f921"
             ]
            ],
            "type": "histogram2dcontour"
           }
          ],
          "mesh3d": [
           {
            "colorbar": {
             "outlinewidth": 0,
             "ticks": ""
            },
            "type": "mesh3d"
           }
          ],
          "parcoords": [
           {
            "line": {
             "colorbar": {
              "outlinewidth": 0,
              "ticks": ""
             }
            },
            "type": "parcoords"
           }
          ],
          "pie": [
           {
            "automargin": true,
            "type": "pie"
           }
          ],
          "scatter": [
           {
            "fillpattern": {
             "fillmode": "overlay",
             "size": 10,
             "solidity": 0.2
            },
            "type": "scatter"
           }
          ],
          "scatter3d": [
           {
            "line": {
             "colorbar": {
              "outlinewidth": 0,
              "ticks": ""
             }
            },
            "marker": {
             "colorbar": {
              "outlinewidth": 0,
              "ticks": ""
             }
            },
            "type": "scatter3d"
           }
          ],
          "scattercarpet": [
           {
            "marker": {
             "colorbar": {
              "outlinewidth": 0,
              "ticks": ""
             }
            },
            "type": "scattercarpet"
           }
          ],
          "scattergeo": [
           {
            "marker": {
             "colorbar": {
              "outlinewidth": 0,
              "ticks": ""
             }
            },
            "type": "scattergeo"
           }
          ],
          "scattergl": [
           {
            "marker": {
             "colorbar": {
              "outlinewidth": 0,
              "ticks": ""
             }
            },
            "type": "scattergl"
           }
          ],
          "scattermap": [
           {
            "marker": {
             "colorbar": {
              "outlinewidth": 0,
              "ticks": ""
             }
            },
            "type": "scattermap"
           }
          ],
          "scattermapbox": [
           {
            "marker": {
             "colorbar": {
              "outlinewidth": 0,
              "ticks": ""
             }
            },
            "type": "scattermapbox"
           }
          ],
          "scatterpolar": [
           {
            "marker": {
             "colorbar": {
              "outlinewidth": 0,
              "ticks": ""
             }
            },
            "type": "scatterpolar"
           }
          ],
          "scatterpolargl": [
           {
            "marker": {
             "colorbar": {
              "outlinewidth": 0,
              "ticks": ""
             }
            },
            "type": "scatterpolargl"
           }
          ],
          "scatterternary": [
           {
            "marker": {
             "colorbar": {
              "outlinewidth": 0,
              "ticks": ""
             }
            },
            "type": "scatterternary"
           }
          ],
          "surface": [
           {
            "colorbar": {
             "outlinewidth": 0,
             "ticks": ""
            },
            "colorscale": [
             [
              0,
              "#0d0887"
             ],
             [
              0.1111111111111111,
              "#46039f"
             ],
             [
              0.2222222222222222,
              "#7201a8"
             ],
             [
              0.3333333333333333,
              "#9c179e"
             ],
             [
              0.4444444444444444,
              "#bd3786"
             ],
             [
              0.5555555555555556,
              "#d8576b"
             ],
             [
              0.6666666666666666,
              "#ed7953"
             ],
             [
              0.7777777777777778,
              "#fb9f3a"
             ],
             [
              0.8888888888888888,
              "#fdca26"
             ],
             [
              1,
              "#f0f921"
             ]
            ],
            "type": "surface"
           }
          ],
          "table": [
           {
            "cells": {
             "fill": {
              "color": "#EBF0F8"
             },
             "line": {
              "color": "white"
             }
            },
            "header": {
             "fill": {
              "color": "#C8D4E3"
             },
             "line": {
              "color": "white"
             }
            },
            "type": "table"
           }
          ]
         },
         "layout": {
          "annotationdefaults": {
           "arrowcolor": "#2a3f5f",
           "arrowhead": 0,
           "arrowwidth": 1
          },
          "autotypenumbers": "strict",
          "coloraxis": {
           "colorbar": {
            "outlinewidth": 0,
            "ticks": ""
           }
          },
          "colorscale": {
           "diverging": [
            [
             0,
             "#8e0152"
            ],
            [
             0.1,
             "#c51b7d"
            ],
            [
             0.2,
             "#de77ae"
            ],
            [
             0.3,
             "#f1b6da"
            ],
            [
             0.4,
             "#fde0ef"
            ],
            [
             0.5,
             "#f7f7f7"
            ],
            [
             0.6,
             "#e6f5d0"
            ],
            [
             0.7,
             "#b8e186"
            ],
            [
             0.8,
             "#7fbc41"
            ],
            [
             0.9,
             "#4d9221"
            ],
            [
             1,
             "#276419"
            ]
           ],
           "sequential": [
            [
             0,
             "#0d0887"
            ],
            [
             0.1111111111111111,
             "#46039f"
            ],
            [
             0.2222222222222222,
             "#7201a8"
            ],
            [
             0.3333333333333333,
             "#9c179e"
            ],
            [
             0.4444444444444444,
             "#bd3786"
            ],
            [
             0.5555555555555556,
             "#d8576b"
            ],
            [
             0.6666666666666666,
             "#ed7953"
            ],
            [
             0.7777777777777778,
             "#fb9f3a"
            ],
            [
             0.8888888888888888,
             "#fdca26"
            ],
            [
             1,
             "#f0f921"
            ]
           ],
           "sequentialminus": [
            [
             0,
             "#0d0887"
            ],
            [
             0.1111111111111111,
             "#46039f"
            ],
            [
             0.2222222222222222,
             "#7201a8"
            ],
            [
             0.3333333333333333,
             "#9c179e"
            ],
            [
             0.4444444444444444,
             "#bd3786"
            ],
            [
             0.5555555555555556,
             "#d8576b"
            ],
            [
             0.6666666666666666,
             "#ed7953"
            ],
            [
             0.7777777777777778,
             "#fb9f3a"
            ],
            [
             0.8888888888888888,
             "#fdca26"
            ],
            [
             1,
             "#f0f921"
            ]
           ]
          },
          "colorway": [
           "#636efa",
           "#EF553B",
           "#00cc96",
           "#ab63fa",
           "#FFA15A",
           "#19d3f3",
           "#FF6692",
           "#B6E880",
           "#FF97FF",
           "#FECB52"
          ],
          "font": {
           "color": "#2a3f5f"
          },
          "geo": {
           "bgcolor": "white",
           "lakecolor": "white",
           "landcolor": "#E5ECF6",
           "showlakes": true,
           "showland": true,
           "subunitcolor": "white"
          },
          "hoverlabel": {
           "align": "left"
          },
          "hovermode": "closest",
          "mapbox": {
           "style": "light"
          },
          "paper_bgcolor": "white",
          "plot_bgcolor": "#E5ECF6",
          "polar": {
           "angularaxis": {
            "gridcolor": "white",
            "linecolor": "white",
            "ticks": ""
           },
           "bgcolor": "#E5ECF6",
           "radialaxis": {
            "gridcolor": "white",
            "linecolor": "white",
            "ticks": ""
           }
          },
          "scene": {
           "xaxis": {
            "backgroundcolor": "#E5ECF6",
            "gridcolor": "white",
            "gridwidth": 2,
            "linecolor": "white",
            "showbackground": true,
            "ticks": "",
            "zerolinecolor": "white"
           },
           "yaxis": {
            "backgroundcolor": "#E5ECF6",
            "gridcolor": "white",
            "gridwidth": 2,
            "linecolor": "white",
            "showbackground": true,
            "ticks": "",
            "zerolinecolor": "white"
           },
           "zaxis": {
            "backgroundcolor": "#E5ECF6",
            "gridcolor": "white",
            "gridwidth": 2,
            "linecolor": "white",
            "showbackground": true,
            "ticks": "",
            "zerolinecolor": "white"
           }
          },
          "shapedefaults": {
           "line": {
            "color": "#2a3f5f"
           }
          },
          "ternary": {
           "aaxis": {
            "gridcolor": "white",
            "linecolor": "white",
            "ticks": ""
           },
           "baxis": {
            "gridcolor": "white",
            "linecolor": "white",
            "ticks": ""
           },
           "bgcolor": "#E5ECF6",
           "caxis": {
            "gridcolor": "white",
            "linecolor": "white",
            "ticks": ""
           }
          },
          "title": {
           "x": 0.05
          },
          "xaxis": {
           "automargin": true,
           "gridcolor": "white",
           "linecolor": "white",
           "ticks": "",
           "title": {
            "standoff": 15
           },
           "zerolinecolor": "white",
           "zerolinewidth": 2
          },
          "yaxis": {
           "automargin": true,
           "gridcolor": "white",
           "linecolor": "white",
           "ticks": "",
           "title": {
            "standoff": 15
           },
           "zerolinecolor": "white",
           "zerolinewidth": 2
          }
         }
        },
        "title": {
         "text": "Context Lengths"
        },
        "xaxis": {
         "anchor": "y",
         "domain": [
          0,
          1
         ],
         "title": {
          "text": "value"
         }
        },
        "yaxis": {
         "anchor": "x",
         "domain": [
          0,
          1
         ],
         "title": {
          "text": "count"
         }
        }
       }
      }
     },
     "metadata": {},
     "output_type": "display_data"
    }
   ],
   "source": [
    "px.histogram(dataset.context.str.len(), title=\"Context Lengths\")"
   ]
  },
  {
   "cell_type": "markdown",
   "id": "3da37a78",
   "metadata": {},
   "source": [
    "Check out the rows with longest context to probably stumble upon more separators examples"
   ]
  },
  {
   "cell_type": "code",
   "execution_count": 244,
   "id": "99a2c88d",
   "metadata": {},
   "outputs": [
    {
     "data": {
      "application/vnd.microsoft.datawrangler.viewer.v0+json": {
       "columns": [
        {
         "name": "index",
         "rawType": "int64",
         "type": "integer"
        },
        {
         "name": "symbol",
         "rawType": "object",
         "type": "string"
        },
        {
         "name": "context",
         "rawType": "object",
         "type": "unknown"
        },
        {
         "name": "meaning",
         "rawType": "object",
         "type": "string"
        },
        {
         "name": "context_len",
         "rawType": "float64",
         "type": "float"
        },
        {
         "name": "n_meanings",
         "rawType": "int64",
         "type": "integer"
        }
       ],
       "conversionMethod": "pd.DataFrame",
       "ref": "df6d145a-d8d7-4364-b0e1-242e7c260108",
       "rows": [
        [
         "4220",
         "Coffee",
         "If you dream that you are trying to make coffee, but encounter a problem (i.e. broken coffee maker, looking for a measuring spoon, using too much water or coffee grounds), ",
         "then it suggests that you are trying too hard to please others.",
         "172.0",
         "5"
        ],
        [
         "4519",
         "Crush",
         "To dream that you have a crush on somebody is a literal reflection of your attraction and fascination for that person. To see your crush in your dream",
         " represents your current infatuation with her or him. If you find yourself thinking about him during the day, then it is not surprising that his image will appear in your dream during the night. If you dream of your crush frequently or that your crush likes you back, then your dream maybe be telling you that it is time to let this person know how you feel, especially if you are dreaming of her or him in a good way. Only good things can happen from you telling your crush. Even if he or she is not interested, at least you can move on and stop wasting time on her or him.",
         "150.0",
         "6"
        ],
        [
         "4039",
         "Choking",
         "Choking dreams are often a fearful experience and it is not uncommon for dreamers to awaken from them. To dream that you are choking on an object",
         " suggests that you may find some advice/remarks/situation hard to swallow or difficult to accept. Alternatively, you may feel that you are unable to completely express yourself in a situation. In particular, if you are choking on food, then it may be an expression of self-guilt and unnurtured feelings. If you are choking on smoke, then it indicates something you are unwilling to confront.",
         "145.0",
         "3"
        ],
        [
         "3041",
         "Bathroom",
         "To dream that you are in a public restroom with no stalls or that there are a lot of people around while you are trying to do your business",
         " signifies your frustrations about getting enough privacy. You are always putting others ahead of your own needs. As a result, you are lacking a sense of personal space. Alternatively, the dream indicates that you are having difficulties letting go of old emotions. You are afraid that if you reveal these feelings, then others around you will judge and criticize you.",
         "139.0",
         "5"
        ],
        [
         "6604",
         "Tofu",
         "To see or eat tofu in your dream presents your versatility and adaptability to almost any situation. More directly, dreaming of tofu",
         " suggests that you need to start adapting a more healthier lifestyle.",
         "132.0",
         "1"
        ],
        [
         "2653",
         "Flirting",
         "To dream that your spouse or significant other is flirting with someone else or that someone is flirting with your significant other",
         " indicates that you are feeling an emotional or physical distance from her or him. There is a lack of communication in the relationship. Or perhaps you are feeling inadequate and that you don't measure up.",
         "132.0",
         "2"
        ],
        [
         "3416",
         "Boy Scout",
         "Your own experience as a boy scout will definitely affect this dream symbol. If you were never a boy scout and dream that you are, ",
         "then it signifies your commitment and discipline toward some task. The dream may emphasize a sense of community, belonging, and helpfulness.",
         "131.0",
         "2"
        ],
        [
         "730",
         "Seduction",
         "To dream of seduction is an expression of your sexual desires. You need to be more passionate and direct with your sexual needs. ",
         "Alternatively, the dream may mean that you are being lured into doing something you don't really want to do. You may be giving up your power of choice.",
         "129.0",
         "1"
        ],
        [
         "1721",
         "Paranormal",
         "To dream that objects are moving on its own or that switches and electronics are turning on/off or some other paranormal activity",
         " indicates that you are refusing to take responsibility for your actions. The dream is also saying that you tend to let things happen instead of making things happen.",
         "129.0",
         "1"
        ],
        [
         "2706",
         "Food",
         "To dream that you are eating specific cuisines depends on your personal associations with it. Chinese, Italian, or Mexican food ",
         "may be a go-to comfort food for you, while it may be a reminder of your home life or of mom's cooking other others. If you dream of eating a comfort food, then it indicates that you are looking for comfort in the wrong places.",
         "128.0",
         "8"
        ],
        [
         "3932",
         "Change",
         "To dream that you receive the wrong amount of change depends on whether you were shortchanged or not. If you were shortchanged, ",
         "then it is analogous to low self-esteem issues. You feel unworthy. If you receive more change than you were due, then it signifies your inflated ego. You feel entitled to certain things.",
         "128.0",
         "1"
        ],
        [
         "7616",
         "Money",
         "To dream that you receive the wrong amount of change depends on whether you were shortchanged or not. If you were shortchanged, ",
         "then it is analogous to low self-esteem issues. You feel unworthy. If you receive more change than you were due, then it signifies your inflated ego. You feel entitled to certain things.",
         "128.0",
         "7"
        ],
        [
         "3709",
         "Canada",
         "To dream that you are in Canada depends on your own personal associations with the country. If you have never been to Canada, ",
         "then you will need to draw on your own preconceptions and feelings of the country.",
         "126.0",
         "1"
        ],
        [
         "1380",
         "Sticker",
         "If the stickers in your dream are scented, then consider what the scent reminds you of and the memory it brings back. There ",
         "may be an unresolved issue from your past. If the stickers are squishy or have a tactile quality, then the dream maybe telling you that you need to take a more hands on approach in addressing the unfinished issues in your childhood.",
         "124.0",
         "2"
        ],
        [
         "4856",
         "Divorce",
         "If your parents are not actually getting a divorce, but you dream that they are divorced or that they are getting a divorce",
         " highlights conflicts within your own self. You are struggling with pleasing both your parents without disappointing the other.",
         "123.0",
         "3"
        ],
        [
         "4662",
         "Death",
         "If a love one has past away, but you dream that he or she didn't really die that first time and are being buried again",
         " indicates that this loved one was taken before their time and you never got a chance to say a proper good bye. Perhaps there was some unfinished issue that is still left lingering long after their death. You wished you had a little more time with them.",
         "118.0",
         "7"
        ],
        [
         "6422",
         "Teeth",
         "Dreaming that there are teeth growing all over inside your mouth from the roof of your mouth to under your tongue",
         " means that you are on the defensive about something and may be a little overly aggressive about it.",
         "113.0",
         "9"
        ],
        [
         "5700",
         "Library",
         "To dream that you cannot find a book in the library or that the book you are looking for is already checked out",
         " suggests that a certain aspect of your self is lacking enrichment or is under developed.",
         "111.0",
         "3"
        ],
        [
         "3228",
         "Birthmark",
         "To dream that you have a birthmark serves as a reminder that something you must either do or never do again. It",
         " represents a stain on your soul.",
         "111.0",
         "1"
        ],
        [
         "5440",
         "House",
         "To dream of a house that looks beautiful from the outside and/or downstairs, but the upstairs is falling apart",
         " implies that you are too concerned with outward appearances that your mental and emotional health is being neglected.",
         "110.0",
         "18"
        ],
        [
         "1079",
         "Smoking",
         "To see someone smoking in your dream depends on your own personal associations with smoking. However, it often",
         " indicates some sort of dissension, disagreement or rebellion.",
         "110.0",
         "2"
        ],
        [
         "5424",
         "Hot Dog",
         "To see or eat a hot dog in your dream is phallic symbol representing masculinity, sexual energy, and vigor. ",
         "Alternatively, a hot dog refers to simple and short-lived pleasures.",
         "108.0",
         "1"
        ],
        [
         "1339",
         "Static",
         "To feel static in your dream depicts your magnetic personality and how you are able to draw things to you. ",
         "Alternatively, the dream may represent friction, stemming from disagreements or from different ways of doing things.",
         "107.0",
         "2"
        ],
        [
         "3555",
         "Bull",
         "Bulls are also symbolic of repressed sexual energies, fertility and virility. To see an untamed raging bull",
         " represents that your passions may be out of control. The bull may also represent a person in your life who is born under the Taurus sign.",
         "107.0",
         "4"
        ],
        [
         "2363",
         "Face",
         "To dream that you or someone has two faces or that the faces changes quickly from one person to another",
         " indicates untrustworthiness. You or someone in your life is acting \"two-faced\".",
         "103.0",
         "7"
        ],
        [
         "1598",
         "Swimming Gear",
         "To dream that you are wearing swimming gear (swim goggles, swimming cap, swimming armbands, swim socks)",
         " implies that you are ready to confront some painful emotion.",
         "103.0",
         "1"
        ],
        [
         "2044",
         "Plants",
         "Dreaming that plants are growing at a rapid pace or that the plants are growing right before your eyes",
         " mean that time is passing you by. You are taking certain things for granted or that you are not taking the time to notice the little things in life.",
         "102.0",
         "4"
        ],
        [
         "2434",
         "Father",
         "To dream that your father has a girlfriend or mistress, even though he is still married to your mother",
         " implies that you are feeling disconnected with one of your parents. The dream may also be a commentary on your own views of marriage.",
         "102.0",
         "6"
        ],
        [
         "7017",
         "Girlfriend",
         "To dream that you are meeting your girlfriend's parents is a rehearsal for the actual meeting. You ",
         "may be nervous about meeting them and it's probably been weighing on your mind. If you have already meet your girlfriend's parents and dream of meeting them again, then the dream is a reminder for you to be on your best behavior. You tend to be more on your toes when it comes to someone else's parents.",
         "99.0",
         "4"
        ],
        [
         "2274",
         "Prom",
         "To dream that you are at a prom signals an end to something and the beginning of something else. It",
         " refers to cycles and the passage of time. Alternatively, the dream may just be about your anticipation of your own upcoming prom in real life.",
         "99.0",
         "1"
        ],
        [
         "7628",
         "Monkey",
         "Also consider the significance of the Three Mystic Monkeys who cover their eyes, ears and mouth to",
         " mean that they see no evil, hear no evil and speak no evil.",
         "98.0",
         "6"
        ],
        [
         "5714",
         "Life Swap",
         "To dream that you are switching lives with someone else or that you are living someone else's life",
         " implies that you need to consider something from someone else's perspective. You need to be more sympathetic to others. Alternatively, dreaming of swapping lives represents an escape from your own personal issues and stresses. You wished you were someone else.",
         "98.0",
         "1"
        ],
        [
         "5355",
         "Home",
         "In particular, to see your childhood home, your hometown, or a home that you previously lived in,",
         " indicates your own desires for building a family and your family ideologies. It also reflects aspects of yourself that were prominent or developed during the time you lived in that home. You may experience some unfinished feelings that are being triggered by some waking situation. Alternatively, the dream may represent your outdated thinking.",
         "97.0",
         "3"
        ],
        [
         "32",
         "Abstinence",
         "To dream that you practice abstinence from drinking, sex or any other sort of sensual temptation ",
         "is a warning against being over confidant. You need to take things more slowly.",
         "97.0",
         "1"
        ],
        [
         "6199",
         "Roller Coaster",
         "If you dream that you are stuck on a roller coaster or that the roller coaster has broken down, ",
         "then it implies that a project or relationship has lost its momentum. Perhaps what started out as something fun or exciting has slowed down. Alternatively, a broken-down roller coaster refers to a project or plan that was poorly thought out.",
         "96.0",
         "3"
        ],
        [
         "1033",
         "Sleep Talking",
         "To dream that you are sleep talking or that someone told you that you were talking in your sleep",
         " means that you are feeling distant with someone who you were once close with. There is a lack of communication or understanding in the relationship. Alternatively, sleep talking in your dream is a sign that there is something you are afraid of talking about.",
         "96.0",
         "1"
        ],
        [
         "867",
         "Shoes",
         "To dream that you are wearing inappropriate shoes for the occasion or for the activity at hand",
         " means that your progress and path in life will be long, hard and laborious. It may also indicate that you are heading in the wrong direction. Perhaps you need to reevaluate your goals. If you dream that your shoes do not fit or that they pinch and hurt, then it means that you are questioning your goals. You are doubting the direction of the path you are taking.",
         "94.0",
         "8"
        ],
        [
         "5751",
         "Lineup",
         "Dreaming that you are viewing a police line up or that you are picking someone out of a lineup",
         " means that you are making an important decision that will effect the lives of others.",
         "94.0",
         "2"
        ],
        [
         "6304",
         "Running",
         "To dream that you are trying to run but cannot make your feet move as fast as you want them to",
         " signifies lack of self-esteem and self-confidence. It may also reflect your actual state of REM paralysis during the dream state.",
         "94.0",
         "5"
        ],
        [
         "6661",
         "Torso",
         "To notice yours or someone else's torso in your dream is an emphasis on your feeling. It also",
         " symbolizes pride and confidence.",
         "93.0",
         "1"
        ],
        [
         "1269",
         "Sport Utility Vehicle",
         "If you don't drive a sport utility vehicle in real life and dream of seeing or driving one, ",
         "then it relates to some burden or responsibility that you are carrying around. Alternatively, the dream indicates your inner desires to deviate from some set path. Your goals in life have changed.",
         "92.0",
         "1"
        ],
        [
         "791",
         "Sex",
         "If you are heterosexual and you dream that you are having sex with someone of the same sex, ",
         "then it represents an expression of greater self love and acceptance. You need to be in better touch of your feminine or masculine side. The dream does not necessarily imply homosexual desire.",
         "92.0",
         "13"
        ],
        [
         "3969",
         "Cheeks",
         "To dream that you are kissing someone on the cheek or someone is kissing you on the cheek, ",
         "then it signifies admiration, courtesy, reverence, friendship or respect.",
         "91.0",
         "3"
        ],
        [
         "3422",
         "Boyfriend",
         "To dream that your boyfriend tells you that he is gay or that he doesn't love your anymore",
         " represents your own insecurities with the relationship. It may also mean that the relationship is moving to a new level to which you are expressing some anxiety and fears about the changing situation. You may feel left out it in his life or that you are unable to share in all his experiences. It boils down to trust and communication.",
         "90.0",
         "7"
        ],
        [
         "4378",
         "Cornrows",
         "If you do not wear cornrows in your waking life, but dream that your hair is in cornrows, ",
         "then it indicates that you need to better organize your thoughts together. It also implies a reserved attitude toward a situation. You are holding back something.",
         "90.0",
         "1"
        ],
        [
         "3423",
         "Boyfriend",
         "To dream that you have a new boyfriend different from the one you have in your waking life",
         " implies that your existing relationship has moved on to a higher level. The relationship has moved toward a more serious phase.",
         "90.0",
         "7"
        ],
        [
         "4548",
         "Cupboard",
         "To dream that you are closing the cupboard or putting something away inside the cupboard,",
         " indicates that there is something you are trying to hide. You are refusing to confront some issue or problem.",
         "89.0",
         "2"
        ],
        [
         "2213",
         "Pregnant",
         "To dream that your ex-girlfriend is pregnant or that you are pregnant with your ex's baby",
         " implies your subconscious desires to get back with your ex. You are looking to reconnect in some way. If you dream that your ex-girlfriend is pregnant with someone else's baby, then it means that you have fully accepted that the relationship is over. You still care for her even though the two of you are no longer together.",
         "89.0",
         "9"
        ],
        [
         "5270",
         "Henchman",
         "To dream that you have your own henchmen or that you are surrounded or chased by henchmen",
         " indicate that there is an issue that you are avoiding. You have unresolved inner conflicts and are refusing to address certain issues or feelings directly.",
         "89.0",
         "1"
        ],
        [
         "898",
         "Shower",
         "Dreaming that you are unable to take a shower or that the shower is not working properly",
         " means that you are unable to shed some burden. You are feeling weighed down by your emotions or by some responsibility.",
         "88.0",
         "5"
        ]
       ],
       "shape": {
        "columns": 5,
        "rows": 7798
       }
      },
      "text/html": [
       "<div>\n",
       "<style scoped>\n",
       "    .dataframe tbody tr th:only-of-type {\n",
       "        vertical-align: middle;\n",
       "    }\n",
       "\n",
       "    .dataframe tbody tr th {\n",
       "        vertical-align: top;\n",
       "    }\n",
       "\n",
       "    .dataframe thead th {\n",
       "        text-align: right;\n",
       "    }\n",
       "</style>\n",
       "<table border=\"1\" class=\"dataframe\">\n",
       "  <thead>\n",
       "    <tr style=\"text-align: right;\">\n",
       "      <th></th>\n",
       "      <th>symbol</th>\n",
       "      <th>context</th>\n",
       "      <th>meaning</th>\n",
       "      <th>context_len</th>\n",
       "      <th>n_meanings</th>\n",
       "    </tr>\n",
       "  </thead>\n",
       "  <tbody>\n",
       "    <tr>\n",
       "      <th>4220</th>\n",
       "      <td>Coffee</td>\n",
       "      <td>If you dream that you are trying to make coffe...</td>\n",
       "      <td>then it suggests that you are trying too hard ...</td>\n",
       "      <td>172.0</td>\n",
       "      <td>5</td>\n",
       "    </tr>\n",
       "    <tr>\n",
       "      <th>4519</th>\n",
       "      <td>Crush</td>\n",
       "      <td>To dream that you have a crush on somebody is ...</td>\n",
       "      <td>represents your current infatuation with her ...</td>\n",
       "      <td>150.0</td>\n",
       "      <td>6</td>\n",
       "    </tr>\n",
       "    <tr>\n",
       "      <th>4039</th>\n",
       "      <td>Choking</td>\n",
       "      <td>Choking dreams are often a fearful experience ...</td>\n",
       "      <td>suggests that you may find some advice/remark...</td>\n",
       "      <td>145.0</td>\n",
       "      <td>3</td>\n",
       "    </tr>\n",
       "    <tr>\n",
       "      <th>3041</th>\n",
       "      <td>Bathroom</td>\n",
       "      <td>To dream that you are in a public restroom wit...</td>\n",
       "      <td>signifies your frustrations about getting eno...</td>\n",
       "      <td>139.0</td>\n",
       "      <td>5</td>\n",
       "    </tr>\n",
       "    <tr>\n",
       "      <th>6604</th>\n",
       "      <td>Tofu</td>\n",
       "      <td>To see or eat tofu in your dream presents your...</td>\n",
       "      <td>suggests that you need to start adapting a mo...</td>\n",
       "      <td>132.0</td>\n",
       "      <td>1</td>\n",
       "    </tr>\n",
       "    <tr>\n",
       "      <th>...</th>\n",
       "      <td>...</td>\n",
       "      <td>...</td>\n",
       "      <td>...</td>\n",
       "      <td>...</td>\n",
       "      <td>...</td>\n",
       "    </tr>\n",
       "    <tr>\n",
       "      <th>6567</th>\n",
       "      <td>Tingling</td>\n",
       "      <td>None</td>\n",
       "      <td>To feel a tingling sensation in your dream may...</td>\n",
       "      <td>NaN</td>\n",
       "      <td>1</td>\n",
       "    </tr>\n",
       "    <tr>\n",
       "      <th>6638</th>\n",
       "      <td>Tools</td>\n",
       "      <td>None</td>\n",
       "      <td>The tool in your dream may also be a pun on ho...</td>\n",
       "      <td>NaN</td>\n",
       "      <td>2</td>\n",
       "    </tr>\n",
       "    <tr>\n",
       "      <th>6685</th>\n",
       "      <td>Tower</td>\n",
       "      <td>None</td>\n",
       "      <td>To dream that a tower is falling or crumbling ...</td>\n",
       "      <td>NaN</td>\n",
       "      <td>4</td>\n",
       "    </tr>\n",
       "    <tr>\n",
       "      <th>7565</th>\n",
       "      <td>Miscarriage</td>\n",
       "      <td>None</td>\n",
       "      <td>If you are currently pregnant, then dreams of ...</td>\n",
       "      <td>NaN</td>\n",
       "      <td>2</td>\n",
       "    </tr>\n",
       "    <tr>\n",
       "      <th>7770</th>\n",
       "      <td>Music</td>\n",
       "      <td>None</td>\n",
       "      <td>Specific genres of music are personal to every...</td>\n",
       "      <td>NaN</td>\n",
       "      <td>3</td>\n",
       "    </tr>\n",
       "  </tbody>\n",
       "</table>\n",
       "<p>7798 rows × 5 columns</p>\n",
       "</div>"
      ],
      "text/plain": [
       "           symbol                                            context  \\\n",
       "4220       Coffee  If you dream that you are trying to make coffe...   \n",
       "4519        Crush  To dream that you have a crush on somebody is ...   \n",
       "4039      Choking  Choking dreams are often a fearful experience ...   \n",
       "3041     Bathroom  To dream that you are in a public restroom wit...   \n",
       "6604         Tofu  To see or eat tofu in your dream presents your...   \n",
       "...           ...                                                ...   \n",
       "6567     Tingling                                               None   \n",
       "6638        Tools                                               None   \n",
       "6685        Tower                                               None   \n",
       "7565  Miscarriage                                               None   \n",
       "7770        Music                                               None   \n",
       "\n",
       "                                                meaning  context_len  \\\n",
       "4220  then it suggests that you are trying too hard ...        172.0   \n",
       "4519   represents your current infatuation with her ...        150.0   \n",
       "4039   suggests that you may find some advice/remark...        145.0   \n",
       "3041   signifies your frustrations about getting eno...        139.0   \n",
       "6604   suggests that you need to start adapting a mo...        132.0   \n",
       "...                                                 ...          ...   \n",
       "6567  To feel a tingling sensation in your dream may...          NaN   \n",
       "6638  The tool in your dream may also be a pun on ho...          NaN   \n",
       "6685  To dream that a tower is falling or crumbling ...          NaN   \n",
       "7565  If you are currently pregnant, then dreams of ...          NaN   \n",
       "7770  Specific genres of music are personal to every...          NaN   \n",
       "\n",
       "      n_meanings  \n",
       "4220           5  \n",
       "4519           6  \n",
       "4039           3  \n",
       "3041           5  \n",
       "6604           1  \n",
       "...          ...  \n",
       "6567           1  \n",
       "6638           2  \n",
       "6685           4  \n",
       "7565           2  \n",
       "7770           3  \n",
       "\n",
       "[7798 rows x 5 columns]"
      ]
     },
     "execution_count": 244,
     "metadata": {},
     "output_type": "execute_result"
    }
   ],
   "source": [
    "subset.sort_values(\"context_len\", ascending=False)"
   ]
  },
  {
   "cell_type": "markdown",
   "id": "b4d97884",
   "metadata": {},
   "source": [
    "## Dreambank\n",
    "\n",
    "On this godforsaken website there is a section called dreambank, which has some dreams descriptions and interpretations of them by the moderators.  \n",
    "We'd like to use this as our test data, so we need to scrape them as well  \n",
    "\n"
   ]
  },
  {
   "cell_type": "markdown",
   "id": "1bec1852",
   "metadata": {},
   "source": [
    "### Scrape the list of dreams\n",
    "First, We need top scrape the dreambank.html page, which holds the links to all the interpreted dream. "
   ]
  },
  {
   "cell_type": "code",
   "execution_count": null,
   "id": "279a80f3",
   "metadata": {},
   "outputs": [],
   "source": [
    "file = f\"html/dreambank/dreambank.html\"\n",
    "\n",
    "url = \"http://www.dreammoods.com/dreambank/\"\n",
    "download_page(url, file)"
   ]
  },
  {
   "cell_type": "code",
   "execution_count": null,
   "id": "9cd220de",
   "metadata": {},
   "outputs": [],
   "source": [
    "def extract_bank(file, xpath):\n",
    "    with open(file, \"r\") as f:\n",
    "        html = f.read()       \n",
    "\n",
    "    tree = lhtml.fromstring(html)\n",
    "\n",
    "    #tree.text_content()\n",
    "\n",
    "    tabl = tree.xpath(xpath)[0]\n",
    "\n",
    "    global syms_data\n",
    "    syms_data = []\n",
    "    r,c,t = breakdown(tabl)\n",
    "    syms_data = pd.DataFrame(syms_data)\n",
    "    data2 = squeeze_meaning_by_symbol(syms_data)\n",
    "    data3 = data2.explode('meaning')\n",
    "    data3['mean_len'] = data3.meaning.str.len()\n",
    "    return data3\n",
    "\n",
    "xps = [ \"/html/body/table[2]/tr/td/div/center/table/tr[3]/td[1]\" ,\n",
    "        \"/html/body/table[2]/tr/td/div/center/table/tr[3]/td[2]\",\n",
    "        \"/html/body/table[2]/tr/td/div/center/table/tr[3]/td[3]\"\n",
    "]\n",
    "sd = []\n",
    "for xp in xps:\n",
    "    extract_bank(file, xp)\n",
    "    sd.append(syms_data)\n",
    "\n",
    "df = pd.concat(sd)\n"
   ]
  },
  {
   "cell_type": "code",
   "execution_count": null,
   "id": "a28ea75e",
   "metadata": {},
   "outputs": [],
   "source": [
    "df"
   ]
  },
  {
   "cell_type": "markdown",
   "id": "dfeebaaa",
   "metadata": {},
   "source": [
    "Next, we extract the actual links and their description text. "
   ]
  },
  {
   "cell_type": "code",
   "execution_count": null,
   "id": "01c675a3",
   "metadata": {},
   "outputs": [],
   "source": [
    "df = df[ df.clas == \"link\"]\n",
    "df[['_', 'link', 'name']] = df['cont'].str.split(',', n=2, expand=True)\n",
    "df"
   ]
  },
  {
   "cell_type": "markdown",
   "id": "ee5e44be",
   "metadata": {},
   "source": [
    "The links contain a search term. \n",
    "We'll use this search term as filename to store the downloaded page"
   ]
  },
  {
   "cell_type": "code",
   "execution_count": null,
   "id": "475d1ecd",
   "metadata": {},
   "outputs": [],
   "source": [
    "df[\"srch\"] = df.link.str.split('search=', n=2, expand=True)[1].str.split('&', n=2, expand=True)[0]"
   ]
  },
  {
   "cell_type": "markdown",
   "id": "a6ac1200",
   "metadata": {},
   "source": [
    "Some links do not conform to this structure, so we'll use their page name verbatim"
   ]
  },
  {
   "cell_type": "code",
   "execution_count": null,
   "id": "3478407c",
   "metadata": {},
   "outputs": [],
   "source": [
    "wat = df[df.srch.isna()].link.str.split(\"/\", n=5, expand=True)\n",
    "df.loc[df.srch.isna(),'srch'] = wat.loc[:,4]\n",
    "df"
   ]
  },
  {
   "cell_type": "markdown",
   "id": "f1eedbf4",
   "metadata": {},
   "source": [
    "Majority of those links do not work. By analyzing the url structure, we came up with an educated guess as to how they might be fixed. Some of it succeeded."
   ]
  },
  {
   "cell_type": "code",
   "execution_count": null,
   "id": "75126ced",
   "metadata": {},
   "outputs": [],
   "source": [
    "df.link =  df.apply(lambda x: x.link.replace(\"dreambank\", x.srch[:-1] + \"s\") , axis=1)"
   ]
  },
  {
   "cell_type": "code",
   "execution_count": null,
   "id": "4ea5d417",
   "metadata": {},
   "outputs": [],
   "source": [
    "df"
   ]
  },
  {
   "cell_type": "markdown",
   "id": "5036ff97",
   "metadata": {},
   "source": [
    "Then downloaded any pages that were available. "
   ]
  },
  {
   "cell_type": "code",
   "execution_count": null,
   "id": "42400d96",
   "metadata": {},
   "outputs": [],
   "source": [
    "pref = \"html/dreambank/\"\n",
    "\n",
    "results = []\n",
    "for i, r in df.iterrows():\n",
    "    res = download_page(r['link'], pref + r['srch'] + r['name']  + \".html\")\n",
    "    results.append(res)\n",
    "    time.sleep(.2)  # Sleep for 1 second to avoid overwhelming the server\n",
    "\n",
    "df['res'] = results"
   ]
  },
  {
   "cell_type": "code",
   "execution_count": null,
   "id": "88c9b4c5",
   "metadata": {},
   "outputs": [],
   "source": [
    "df[[ 'res', 'link', 'name']]"
   ]
  },
  {
   "cell_type": "code",
   "execution_count": null,
   "id": "0e52ca0c",
   "metadata": {},
   "outputs": [],
   "source": [
    "df.sort_values(by=['res','link'], ascending=True, inplace=True)\n",
    "df[[ 'res', 'link', 'name']].to_csv(\"dreamdic.csv\", index=False)"
   ]
  },
  {
   "cell_type": "markdown",
   "id": "e4d912bf",
   "metadata": {},
   "source": [
    "### Fixing html\n",
    "\n",
    "Being an ancient dinosaur poop that it is, the website is a horrendous case of html tag soup.  \n",
    "Even our highly customized extractor fails to properly parse the pages.  \n",
    "We'll summon modern web browser technology in the form of html5lib library to repair these pages."
   ]
  },
  {
   "cell_type": "code",
   "execution_count": null,
   "id": "8527f358",
   "metadata": {},
   "outputs": [],
   "source": [
    "\n",
    "\n",
    "def fix_html_file(input_filepath, output_filepath):\n",
    "    \"\"\"\n",
    "    Reads a broken HTML file, parses it using html5lib (like a browser),\n",
    "    and writes the corrected HTML to a new file.\n",
    "    \"\"\"\n",
    "    try:\n",
    "        with open(input_filepath, 'r', encoding='utf-8') as f:\n",
    "            broken_html_content = f.read()\n",
    "    except FileNotFoundError:\n",
    "        print(f\"Error: Input file not found at '{input_filepath}'\")\n",
    "        return\n",
    "    except Exception as e:\n",
    "        print(f\"Error reading file '{input_filepath}': {e}\")\n",
    "        return\n",
    "\n",
    "    # Parse the HTML using html5lib (browser-like parsing)\n",
    "    # This is where the \"fixing\" happens internally\n",
    "    soup = BeautifulSoup(broken_html_content, 'html5lib')\n",
    "\n",
    "    # Get the corrected HTML. .prettify() adds nice indentation.\n",
    "    # You can also use str(soup) for a less formatted output.\n",
    "    corrected_html_content = soup.prettify()\n",
    "\n",
    "    try:\n",
    "        with open(output_filepath, 'w', encoding='utf-8') as f:\n",
    "            f.write(corrected_html_content)\n",
    "        print(f\"Successfully fixed HTML and saved to '{output_filepath}'\")\n",
    "    except Exception as e:\n",
    "        print(f\"Error writing file '{output_filepath}': {e}\")\n"
   ]
  },
  {
   "cell_type": "code",
   "execution_count": null,
   "id": "6e0a1166",
   "metadata": {},
   "outputs": [],
   "source": [
    "broken_dir = 'html/dreambank'\n",
    "fixed_dir = 'html/dreambank/fixed'\n",
    "\n",
    "for f in os.listdir(broken_dir):\n",
    "    if f.endswith(\".html\"):\n",
    "        input_file = os.path.join(broken_dir, f)\n",
    "        output_file = os.path.join(fixed_dir, f)\n",
    "        fix_html_file(input_file, output_file)\n",
    "\n"
   ]
  },
  {
   "cell_type": "markdown",
   "id": "45589f26",
   "metadata": {},
   "source": [
    "### Extracting from Dream Bank\n",
    "Once the pages are fixed, our scraper is again able to parse them "
   ]
  },
  {
   "cell_type": "code",
   "execution_count": null,
   "id": "e6f4e1d0",
   "metadata": {},
   "outputs": [],
   "source": [
    "def extract_bank(file, xpath):\n",
    "    \n",
    "    with open(file, \"r\") as f:\n",
    "        html = f.read()\n",
    "        \n",
    "\n",
    "    tree = lhtml.fromstring(html)\n",
    "    #tree.text_content()\n",
    "\n",
    "    tabl = tree.xpath(xpath)[0]\n",
    "    \n",
    "    r,sd,c,t = breakdown(tabl)\n",
    "\n",
    "    \n",
    "    return r,sd,c,t\n",
    "    # syms_data = pd.DataFrame([c,t])\n",
    "    # # data2 = squeeze_meaning_by_symbol(syms_data)\n",
    "    # # data3 = data2.explode('meaning')\n",
    "    # # data3['mean_len'] = data3.meaning.str.len()\n",
    "    # return pd.DataFrame(), syms_data\n"
   ]
  },
  {
   "cell_type": "code",
   "execution_count": null,
   "id": "8638df8e",
   "metadata": {},
   "outputs": [],
   "source": [
    "dfs = []\n",
    "sds = []\n",
    "save_dir = 'html/dreambank/fixed'\n",
    "\n",
    "#xpath = \"/html/body/table[2]/tr/td/div/center/table/tr[3]/td[1]\"\n",
    "xpath = \"/html/body/table[2]/tbody/tr/td/div/center/table/tbody/tr[3]/td[1]\"\n",
    "\n",
    "breakpointstring = \"I keep having this recurring\"\n",
    "\n",
    "for f in os.listdir(save_dir):\n",
    "    if f.endswith(\".html\"):\n",
    "        path = os.path.join(save_dir, f)\n",
    "        #print(path)\n",
    "        r,sd,c,t = extract_bank(path,xpath)\n",
    "        # data3[\"filename\"] = f\n",
    "        dfs.append(r)\n",
    "        sd = pd.DataFrame(sd)\n",
    "        #sd = squeeze_meaning_by_symbol(syms_data=sd)\n",
    "        sds.append(sd)\n",
    "#sds = sds)\n",
    "#sds"
   ]
  },
  {
   "cell_type": "code",
   "execution_count": null,
   "id": "3564aa7c",
   "metadata": {},
   "outputs": [],
   "source": [
    "sds"
   ]
  },
  {
   "cell_type": "code",
   "execution_count": null,
   "id": "c8537014",
   "metadata": {},
   "outputs": [],
   "source": [
    "save_df_as_pretty_html(sds[0], 'example.html')"
   ]
  },
  {
   "cell_type": "code",
   "execution_count": null,
   "id": "96862920",
   "metadata": {},
   "outputs": [],
   "source": [
    "r\n",
    "with open(\"sandbox.txt\", \"w\") as f:\n",
    "    f.write(r)"
   ]
  }
 ],
 "metadata": {
  "kaggle": {
   "accelerator": "none",
   "dataSources": [
    {
     "datasetId": 5881987,
     "sourceId": 9634093,
     "sourceType": "datasetVersion"
    }
   ],
   "isGpuEnabled": false,
   "isInternetEnabled": true,
   "language": "python",
   "sourceType": "notebook"
  },
  "kernelspec": {
   "display_name": ".venv",
   "language": "python",
   "name": "python3"
  },
  "language_info": {
   "codemirror_mode": {
    "name": "ipython",
    "version": 3
   },
   "file_extension": ".py",
   "mimetype": "text/x-python",
   "name": "python",
   "nbconvert_exporter": "python",
   "pygments_lexer": "ipython3",
   "version": "3.10.12"
  },
  "papermill": {
   "default_parameters": {},
   "duration": 19.516826,
   "end_time": "2024-10-15T18:21:02.294568",
   "environment_variables": {},
   "exception": null,
   "input_path": "__notebook__.ipynb",
   "output_path": "__notebook__.ipynb",
   "parameters": {},
   "start_time": "2024-10-15T18:20:42.777742",
   "version": "2.6.0"
  }
 },
 "nbformat": 4,
 "nbformat_minor": 5
}
