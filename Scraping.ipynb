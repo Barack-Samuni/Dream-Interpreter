{
 "cells": [
  {
   "cell_type": "code",
   "execution_count": 1,
   "id": "2be00f55",
   "metadata": {
    "_cell_guid": "b1076dfc-b9ad-4769-8c92-a6c4dae69d19",
    "_uuid": "8f2839f25d086af736a60e9eeb907d3b93b6e0e5",
    "execution": {
     "iopub.execute_input": "2024-10-15T18:20:45.517505Z",
     "iopub.status.busy": "2024-10-15T18:20:45.516962Z",
     "iopub.status.idle": "2024-10-15T18:20:46.644596Z",
     "shell.execute_reply": "2024-10-15T18:20:46.643575Z"
    },
    "papermill": {
     "duration": 1.135541,
     "end_time": "2024-10-15T18:20:46.647262",
     "exception": false,
     "start_time": "2024-10-15T18:20:45.511721",
     "status": "completed"
    },
    "tags": []
   },
   "outputs": [],
   "source": [
    "import requests\n",
    "from bs4 import BeautifulSoup\n",
    "import pandas as pd\n",
    "import string\n",
    "import lxml\n",
    "import time\n",
    "import os\n",
    "# Base URL pattern for dream moods dictionary\n",
    "\n",
    "\n",
    "# List to store dream symbols and meanings\n",
    "dreams = []\n",
    "meanings = []"
   ]
  },
  {
   "cell_type": "code",
   "execution_count": null,
   "id": "0ae23259",
   "metadata": {},
   "outputs": [
    {
     "name": "stdout",
     "output_type": "stream",
     "text": [
      "File html/a_all.html already exists, skipping download.\n",
      "File html/b_all.html already exists, skipping download.\n",
      "File html/c_all.html already exists, skipping download.\n",
      "File html/d_all.html already exists, skipping download.\n",
      "File html/e_all.html already exists, skipping download.\n",
      "File html/f_all.html already exists, skipping download.\n",
      "File html/g_all.html already exists, skipping download.\n",
      "File html/h_all.html already exists, skipping download.\n",
      "File html/i_all.html already exists, skipping download.\n",
      "File html/j_all.html already exists, skipping download.\n",
      "File html/k_all.html already exists, skipping download.\n",
      "File html/l_all.html already exists, skipping download.\n",
      "File html/m_all.html already exists, skipping download.\n",
      "File html/n_all.html already exists, skipping download.\n",
      "File html/o_all.html already exists, skipping download.\n",
      "File html/p_all.html already exists, skipping download.\n",
      "File html/q_all.html already exists, skipping download.\n",
      "File html/r_all.html already exists, skipping download.\n",
      "File html/s_all.html already exists, skipping download.\n",
      "File html/t_all.html already exists, skipping download.\n",
      "File html/u_all.html already exists, skipping download.\n",
      "File html/v_all.html already exists, skipping download.\n",
      "File html/w_all.html already exists, skipping download.\n",
      "File html/x_all.html already exists, skipping download.\n",
      "File html/y_all.html already exists, skipping download.\n",
      "File html/z_all.html already exists, skipping download.\n"
     ]
    }
   ],
   "source": [
    "\n",
    "\n",
    "def download_letter(letter, suffix=\"{}_all.htm\"):    \n",
    "    base_url = \"http://www.dreammoods.com/dreamdictionary/\"\n",
    "\n",
    "    file = f\"html/{letter}_all.html\"\n",
    "    if os.path.exists(file):\n",
    "        print (f\"File {file} already exists, skipping download.\")\n",
    "        return\n",
    "    \n",
    "    url = base_url + suffix.format(letter)\n",
    "   \n",
    "    response = requests.get(url)\n",
    "\n",
    "\n",
    "    if response.status_code == 200:  # Check if the page was successfully fetched\n",
    "        with open(file, \"w\") as f:\n",
    "            f.write(response.text)\n",
    "        print(f\"Downloaded {letter} to {file}\")\n",
    "\n",
    "    else:\n",
    "        print(f\"Failed to retrieve {letter}, trying alternative\")\n",
    "        return download_letter(letter, suffix=\"{}.htm\")\n",
    "\n",
    "\n",
    "for letter in string.ascii_lowercase:\n",
    "    download_letter(letter)\n",
    "    time.sleep(.5)  # Sleep for 1 second to avoid overwhelming the server"
   ]
  },
  {
   "cell_type": "code",
   "execution_count": 2,
   "id": "c1d9a767",
   "metadata": {},
   "outputs": [],
   "source": [
    "\n",
    "import lxml.html as lhtml\n",
    "\n",
    "import pandas as pd\n",
    "import re\n",
    "\n",
    "from plotly import express as px"
   ]
  },
  {
   "cell_type": "code",
   "execution_count": null,
   "id": "3aecd356",
   "metadata": {},
   "outputs": [],
   "source": []
  },
  {
   "cell_type": "code",
   "execution_count": null,
   "id": "53577f85",
   "metadata": {},
   "outputs": [],
   "source": [
    "def break_attr(dic):\n",
    "    drop = ['style','align','face']\n",
    "    for dr in drop:\n",
    "        if dr in dic:\n",
    "            dic.pop(dr)\n",
    "    return str(dic)\n",
    "\n",
    "def classify(t):\n",
    "    if t.tag == \"b\":\n",
    "        return \"sym\" #\"bold\"\n",
    "    \n",
    "    if t.tag == \"strong\":\n",
    "        return \"sym\" #\"bold\"    \n",
    "\n",
    "    elif t.tag == \"font\":\n",
    "        if 'letter \"C\" in your dream' in str(t.text):\n",
    "            print(\"found cheating\")\n",
    "        if 'size' in t.attrib:\n",
    "            sz = t.attrib['size']\n",
    "            if sz == \"4\":\n",
    "                return \"sym\" #\"size4\"\n",
    "            elif sz == \"3\":\n",
    "                return \"mean\" #\"size3\"\n",
    "        tt = str(t.text)\n",
    "        if \"*Please See\" in tt and \"Also\" not in tt:\n",
    "            return \"link\"\n",
    "        else:\n",
    "            return \"mean\" # no size defined\n",
    "            \n",
    "    elif t.tag == \"a\":\n",
    "        if 'href' in t.attrib:\n",
    "            return \"link\"\n",
    "        elif 'name' in t.attrib:\n",
    "            return \"sym\" #\"header\"\n",
    "        \n",
    "    elif t.tag == \"div\" or t.tag == \"script\":\n",
    "        return \"trsh\"\n",
    "    \n",
    "    return \"mean\" # \"desc\"\n",
    "\n",
    "def collect(txt, cl):\n",
    "    if \"trsh\" in cl:\n",
    "        return \"\"    \n",
    "    \n",
    "    if txt == None:\n",
    "        return \"\"\n",
    "\n",
    "    else:\n",
    "        txt = txt.replace(\"\\n\",\" \")\n",
    "        txt = txt.replace(\"\\xa0\",\" \")\n",
    "        txt = re.sub(r'\\s+', ' ', txt)\n",
    "        return txt\n",
    "\n",
    "\n",
    "\n",
    "def breakdown(r, level=0):\n",
    "    res =\"\"\n",
    "    clas = \"\"\n",
    "    cont = \"\"\n",
    "    for c in r.getchildren():\n",
    "\n",
    "        res +=  \"tag:\" + str(c.tag) + \"|attr:\" + break_attr(c.attrib) + \" |text:\" + str(c.text).replace(\"\\n\",\"_\") + \"\\n\"\n",
    "        mres, clas, cont = breakdown(c,level+1)\n",
    "        #cont += ccont \n",
    "        res += \"    \"*(level+1) + mres + \"\\n\"\n",
    "        \n",
    "        cl = classify(c)\n",
    "        clas += cl + \",\"\n",
    "        cont = collect(c.text, clas) + cont \n",
    "        if level == 0:\n",
    "            #res += \"class:\" + clas + \"\\n\"\n",
    "            \n",
    "            fclas = \"sym\" if \"sym\" in clas else \"link\" if \"link\" in clas else \"mean\"\n",
    "            \n",
    "            res += f\"class: {fclas} ({clas})\\n\"\n",
    "            res += \"cont:\" + cont + \"\\n\"\n",
    "            global syms_data\n",
    "            syms_data.append({\"clas\": fclas, \"cont\": cont})\n",
    "            res+= \"======================\\n\"\n",
    "\n",
    "    return res, clas, cont \n",
    "\n"
   ]
  },
  {
   "cell_type": "code",
   "execution_count": 90,
   "id": "37e343ca",
   "metadata": {},
   "outputs": [
    {
     "name": "stdout",
     "output_type": "stream",
     "text": [
      "found cheating\n"
     ]
    }
   ],
   "source": [
    "syms_data = []\n",
    "r,c,t = breakdown(tabl)\n",
    "with open(\"sandbox.txt\", \"w\") as f:\n",
    "    f.write(r)\n"
   ]
  },
  {
   "cell_type": "code",
   "execution_count": 44,
   "id": "43f5b636",
   "metadata": {},
   "outputs": [
    {
     "data": {
      "text/plain": [
       "'\\n\\n\\n\\n\\n \\n\\n\\n\\ngoogletag.cmd.push(function() { googletag.display(\\'div-gpt-ad-1377332491950-0\\'); });\\n\\n\\n\\n\\n\\n\\n<!--\\ngoogle_ad_client = \"ca-pub-0634424835235758\";\\n/* DM Half Banner */\\ngoogle_ad_slot = \"3391748774\";\\ngoogle_ad_width = 234;\\ngoogle_ad_height = 60;\\n//-->\\n\\n\\n\\n\\n\\n\\n\\n\\nC\\n\\n\\n\\nTo\\nsee the letter \"C\" in your dream symbolizes being average. It may also\\nbe a pun on \"seeing\". The dream is drawing your attention to something\\nthat you need to see or take notice. Pay attention!\\nAlternatively, it may indicate the name\\nor initial of a person.\\n\\nCab\\n\\nTo\\ndream that you are hailing a cab suggests that you need to ask for help in order\\nto be able to move forward in some waking situation.\\xa0\\n      \\n      \\n\\n\\nTo\\ndream that you are in a cab indicates that you are being taken for a ride.\\nSomeone is taking advantage of you.\\n\\nCabana\\n\\nTo\\nsee or dream that you are in a cabana signifies your need for an escape or\\nvacation. You may be feeling overwhelmed by a waking problem and need some\\ndowntime.\\nCabaret\\nTo\\nwatch a cabaret in your dream indicates your need to acknowledge your sensual\\nside.\\xa0\\nCabbage\\nTo\\nsee or eat cabbage in your dream suggests that you should not waste time with\\npetty things in your life. You live and thrive on life\\'s challenges.\\nAlternatively, the dream refers to your unwise choices or decisions. You need to\\nrethink some of your decisions.\\xa0\\nCabin\\nTo\\nsee or dream that you are in a wood cabin indicates that you will succeed via\\nyour own means.\\xa0 It suggests that you are self-reliant and independent, yet\\nstill remain humble. You prefer the simpler things in life.\\nTo\\ndream that you are in a ship cabin indicates that are seeking some refuge from\\nyour emotions.\\n\\nCabinet\\n\\nTo\\nsee a cabinet in your dream symbolizes the female body and/or the womb.\\nAlternatively, you may be hiding some family or personal secret. Consider the\\ncontents and condition of the cabinet for more clues.\\xa0\\nTo\\ndream that someone rearranged your cabinets suggests that somebody is\\noverstepping your boundaries.\\xa0\\nCable\\nTo\\nsee a cable in your dream represents your stamina and durability. If the cable\\nis frayed or broken, then it signifies a lack of strength.\\nTo\\ndream of cable television signifies your openness and how you communicate with\\nothers.\\nCable\\nCar\\nTo\\nsee or ride in a cable car in your dream signifies the compromises that you make\\nin life. Sometimes you have to go along with the masses in order to maintain the\\npeace. Alternatively, the dream represents life\\'s journey. You are headed in the\\nright direction.\\xa0\\n\\nCaboose\\n\\nTo\\nsee or be in a caboose implies that you are last in line for something. You are\\nfeeling shortchanged. Alternatively, dreaming of a caboose serves as a reminder\\nthat you will eventually get to where you need. It is not always about being\\nfirst or finishing first.\\nCackle\\nTo\\nhear the sound of cackling in your dream signifies illness and loss.\\nCactus\\nTo\\nsee a cactus in your dream suggests that you are feeling invaded, that your\\nspace is being crowded into and that you are being suffocated.\\xa0 The prickly\\nspines of the cactus represent the boundary you are trying to establish between\\nyour personal and private. Or you feel the need to defend yourself in some way.\\nAlternatively, the dream implies that\\xa0 you have found yourself in a sticky\\nsituation. Perhaps you need to adapt to your existing circumstances instead of\\ntrying to change them.\\n*Please\\nSee Also Succulents.\\n\\n\\n\\nCadaver\\n\\n\\n\\nTo dream\\nthat you are dissecting a cadaver indicates that you are ready to reveal or\\nexpose an aspect of yourself that you have been hiding.\\nTo\\nsee a cadaver in your dream represents a part of yourself that has died.\\nAlternatively, dreaming of a cadaver means that you tend to give everything you\\nhave in a situation or relationship.\\nCadillac\\nTo\\nsee a Cadillac in your dream suggests that you are driven to succeed. Your\\nambition will take you far in life.\\nCaduceus\\nTo\\nsee a caduceus in your dream symbolizes health concerns. The dream may be\\ntelling you that you need to take better care of yourself.\\nCaesarian\\nSection\\nTo\\ndream that you are having a caesarian section implies that you need help in\\norder to get your idea or project off the ground. You can not do it by yourself. A more direct\\ninterpretation of this dream may represent your anxieties of having a C-section\\nin real life.\\nCafe\\xa0\\nTo\\ndream that you are at a cafe represents your social life. The dream is telling\\nyou that it is time to call up old friends and catch up with what they are all\\nup to.\\xa0\\nCafeteria\\nTo\\ndream that you are in a cafeteria denotes that there may be a lot of issues\\n\"eating\" you up inside.\\nCage\\nTo\\ndream that you are in a cage indicates that you are experiencing inhibitions and\\npowerlessness in some areas of your life. You are feeling restricted, confined\\nand restrained in a current relationship or business deal. Somebody may be\\nkeeping a short leash on you, where you are lacking the freedom to act\\nindependently.\\xa0\\nTo\\ndream that you are putting a wild animal into a cage signifies that you will\\nsucceed in overcoming your rivals and fears. It is also symbolic of your ability\\nto control you animalistic rages and anger.\\xa0\\nTo\\nsee a bird in a cage suggests that you are feeling limited in your expression\\nand a sudden lost of freedom. You may be experiencing frustrations and an\\ninhibited spirituality. The dream may also imply that you are feeling like a\\n\"jail bird\".\\n\\n\\n\\nCage\\nFighting\\n\\n\\n\\nTo dream\\nthat you are cage fighting indicates that you are feeling restricted or confined\\nin a current relationship. An aspect of yourself is fighting to be expressed or\\nlet out.\\nTo\\nwatch a cage fight represents conflicting ideas or beliefs.\\xa0\\nCake\\nTo\\nsee a cake in your dream indicates that you need to learn to share and allocate\\nyour workload instead of trying to do everything yourself.\\xa0 Cakes also\\nsymbolize selfishness or the feeling of not getting your fair share. More\\npositively, the dream may represent your accomplishments and achievements.\\nConsider also the metaphor a \"piece of cake\" or some situation that is\\neasy.\\nTo\\nsee a partially eaten cake in your dream signifies missed and lost\\nopportunities.\\nTo\\ndream that you are buying a cake suggests that you have accepted the rewards and\\nrecognition you are getting for our work.\\xa0 You are learning to be\\ncomfortable in the spotlight.\\nCalamari\\nTo\\ndream that you are eating calamari indicates that you are feeling battered or\\nbeaten. However, you are tough. Hang in there!\\n\\nCalculator\\n\\nTo\\nsee a calculator in your dream suggests that you need to thoroughly think\\nthrough some problem and carefully evaluate your choices.\\xa0 You need to lay\\nout some sort of plan or outline. The symbol may also be a metaphor for someone\\nwho is \"calculating\", cunning and scheming.\\nCalendar\\nTo\\nsee a calendar in your dream represents the passing of time and past events. The\\ndream may also be a reminder of a special event, appointment or important date\\nin your waking life.\\nCalf\\nTo\\nsee a calf in your dream symbolizes immaturity and inexperience. You need to\\ndevelop certain qualities.\\nCalifornia\\nKnown\\nas the Golden State, to dream of California, refers to your desire for instant\\nwealth. It may also suggests that you are looking for fame. If you live in\\nCalifornia, then the dream may just be a reflection of your reality.\\nCaliper\\nTo\\nsee or use a caliper in your dream reflects your concerns about not measuring up\\nto the standards or expectations of others. Alternatively, dreaming of a caliper\\nmeans that you need to be careful in making a decision or judgment.\\xa0\\nCalla\\nLily\\nTo see\\ncalla lilies in your dream symbolize new beginnings, rebirth and longevity. In\\nparticular, a white calla lily represents purity, simplicity or elegance.\\nAlternatively, the calla lily refers to a commitment.\\xa0\\nCalling\\nCard\\nTo\\nsee or use a calling card in your dream indicates that there is someone that you\\nneed to reach out to. If the calling card has the name of someone you know on\\nit, then it means that their presence is with your spiritually, even though they\\nmay not be with you physically. Something in your waking life is reminding you\\nof this person.\\xa0\\nCalluses\\nTo\\ndream that you have calluses symbolize hard work. You have be laboring over a\\ndifficult task or situation.\\nCalm\\nTo\\ndream that you are calm denotes a fulfilling life. You find contentment and\\nsatisfaction in what you have.\\nTo\\ndream that someone is trying to calm you down suggests\\xa0 that you will\\nexperience many setbacks, especially if you continue to let your emotions run\\nout of control.\\nCalomel\\nTo\\nsee calomel in your dream indicates a rivalry.\\nTo\\ndream that you are taking calomel signifies that you are being manipulated\\nand taken advantage of. It is time to open your eyes and not allow yourself to\\nbe stepped on.\\nCalves\\nTo\\nsee your calves in your dream symbolize movement and your ability to jump from\\nsituation to situation. In particular, if you are admiring your own calves, then\\nit denotes a needy or codependent relationship.\\nCamcorder\\n*Please\\nSee Video\\nCamera.\\nCamel\\nTo\\nsee a camel in your dream denotes that you need to be more conservative; you are\\ncarrying too many responsibilities, burdens and problems on your shoulders.\\nConsider the common phrase, \"the straw that broke the camel\\'s back\".\\xa0You\\ntend to hold on and cling on to your emotions instead of expressing and\\nreleasing them. Learn to forgive and forget. Alternatively, the camel represents\\nyour stamina.\\xa0\\nTo\\ndream that you are petting a camel indicates that you are ready to let go of\\nsome of the burdens, responsibilities or emotional baggage that you are carrying\\naround.\\nCameo\\nTo\\nsee or wear a cameo in your dream represents an aspect of yourself that you are\\ntrying to express. Perhaps you are showing your delicate and feminize side.\\nAlternatively, the dream may be a pun on a \"cameo\" appearance that you\\nare making at some social gathering.\\nCamera\\nTo\\nsee a camera in your dream signifies your desires to cling on and/or live in the\\npast. Alternatively, it may indicate that you need to focus on a particular\\nsituation. Perhaps you need to get a clearer picture or idea.\\nTo\\ndream that the camera is broken indicates that you are ignoring an issue or\\nrefusing to see the big picture.\\nTo\\ndream that you cannot find your camera to take a picture implies that you are\\nnot focusing on the matter at hand. Your attention is too easily diverted.\\nAlternatively, the dream refers to forgotten memories.\\nTo\\nsee or dream that you are on a hidden camera indicates that you feel that you\\nare being scrutinized. All eyes are on you.\\xa0\\nCamouflage\\nTo\\ndream that you are in camouflage suggests that you are hiding\\xa0 your true\\nself and feelings. You are concealing who you really are. Alternatively, there\\nis a situation in your waking life that is making you want to blend into the\\nbackground and not get noticed.\\nCamper\\nTo\\ndream that you are living in a camper indicates that you need to move on with\\nsome situation or some aspect of your life. You may be dwelling on a situation\\nand it is time to move forward. Alternatively, you may be expressing your desire\\nto be more independent and self-sufficient.\\nCampfire\\nTo\\nstart or see a campfire in your dream represents sharing and companionship. You\\nneed to open yourself to others and allow others to get to know you.\\nCamping\\nTo\\ndream that you are camping indicates a need for relaxation and a long-deserved\\nbreak.\\xa0 You need to be more in touch with nature and go back to a more\\nbasic and simpler life. Alternatively, it refers to your social circle and\\nsupport group. You are looking for a sense of belonging, but at the same time be\\nself-sufficient and independent.\\xa0\\nCampus\\nTo\\ndream that you are on a campus indicates your need to expand your\\nthinking/knowledge and challenge yourself mentally.\\nCan\\nTo\\nsee a can in your dream indicates that there is something in your past that you\\nneed to hold on to and preserve. The dream may also be a pun on how you\\n\"can\" do something. Don\\'t underestimate your abilities and talents.\\nTo\\nsee canned foods in your dream symbolizes the emotions that you are keeping\\ninside.\\nCan\\nOpener\\nTo\\nsee a can opener in your dream indicates your willingness to accept new ideas\\nand new concepts. It may also be a symbol of reassurance and a way to tell\\nyourself that \"I can\" do something.\\nCanada\\nTo\\ndream that you are in Canada depends on your own personal associations with the\\ncountry. If you have never been to Canada, then you will need to draw on your\\nown preconceptions and feelings of the country.\\xa0\\nCanal\\nTo\\nsee a canal in your dream symbolizes restraint and constricted emotions. It also\\nsuggests that you are unyielding in your thinking and beliefs, which may hinder\\nyou in the pursuit of your goals. You are being too controlling.\\nCanary\\nTo\\nsee a canary in your dream represents happiness and harmony. Alternatively, the\\ndream could indicate your desires for a relationship or that a new relationship\\nis blossoming.\\n\\n\\n\\nCancel\\n\\n\\n\\nTo dream\\nthat you are canceling an appointment or plans suggests that you are afraid to\\nconfront some matter. You don\\'t want to face the facts.\\nCancer\\nTo\\ndream that you have cancer denotes hopelessness, grief, self-pity, and\\nunforgiveness. You feel you are wasting your life away. This dream also\\nrepresents areas in your life which are bothering you, disturbing you, and\\nhurting you in some emotional way.\\xa0An emotional issue is eating away at\\nyou.\\nTo\\ndream that you are being treated for cancer signifies a positive change in your\\nlife.\\nTo\\ndream that someone has cancer indicates that you need to change your negative\\nway of thinking before it eats away at you. Start being more positive.\\xa0\\nTo\\ndream that someone is a Cancer sign symbolizes your tendency to keep and hold on\\nto everything. You have a lot of power and influence. The Cancer sign also\\nindicates that you tend to be sensitive, moody and emotional.\\xa0You are also\\nvery family oriented.\\nCandle\\nTo\\nsee a burning candle in your dream signifies that good luck and hope will be\\ncoming your way in small and steady amounts. You are in a comfortable stage in\\nyour life and may be seeking spiritual enlightenment.\\xa0Lit candles are also\\nsymbolic of intellect, enlightenment, awareness or the search for truth.\\nTo\\nsee an unlit candle denotes feelings of rejection or disappointments. You are\\nnot utilizing your fullest potential. If you try to light the candle, but it\\nwon\\'t light, then it represents grief. You are in denial about something.\\nTo\\nsee a candle blow out in your dream indicates that you are surrendering a\\nsignificant aspect of yourself. You are letting go of something that used to be\\nimportant to you.\\nTo\\nwatch the candle burn down to nothing in your dream signifies your fears of\\naging and dying. Alternatively, it represents a fear of sexual impotence.\\nTo\\nsee a red colored candle in your dream symbolizes some intimate or romantic\\nrelationship. You may not be giving the relationship a fair chance and are\\ndismissing it before you invested sufficient time to learn more about the other\\nperson. On the other hand, you may just not be feeling any chemistry or passion.\\nCandle\\nWax\\nTo\\nsee candle wax in your dream indicates that there is too much activity going on\\nin your life. You may need to slow down and take a breather. Alternatively, it\\nmay symbolize the passage of time.\\nCandy\\nTo\\nsee or eat candy in your dream symbolizes the joys and the special treats in\\nlife. It also represents indulgence, sensuality and/or forbidden pleasure. You\\nmay be devoting too much time to unimportant issues. A more direct\\ninterpretation suggests that you are eating too much candy and sweets.\\nCandy\\nApple\\nTo\\nsee or eat a candy apple in your dream is a reminder that you can have too much\\nof a good thing. You need to show restraint in some area of your life.\\nCane\\nTo\\nsee or use a cane in your dream suggests that you are in need of some support\\nand advice. The cane may also represent someone you trust and can rely on.\\nTo\\ndream that you are being caned indicates that you are being forced into\\nsubmission or obedience. Someone is trying make an example of you.\\nAlternatively, the dream symbolizes self-guilt.\\nTo\\ndream that you are caning someone signifies pent up aggression. Pay attention at\\nwho you are caning. You may harbor some ill feeling or anger toward this person.\\nThis person could also represent an aspect of your own self.\\xa0\\nCannabis\\nTo\\ndream of cannabis denotes a loss of control. You are trying desperately to\\nescape. The dream may also be a reflection of waking drug use.\\nCanned\\nFood\\nTo\\nsee or eat canned food in your dream implies that you are keeping your emotions\\nbottled up inside. You feel that it is not the appropriate time to express your\\ntrue desires.\\nCannibalism\\nTo\\nsee cannibalism in your dream symbolizes a destructive and forbidden desire or\\nobsession. Metaphorically, cannibals consume people\\'s lives, along with\\ntheir energy. Thus, this dream may then denote an aspect of your life (career,\\nrelationship, children, etc ), which is consistently draining your enthusiasm\\nand vitality.\\nTo\\ndream that you are a victim of cannibalism represents feelings of being\\n\"eating alive\" by work, a relationship or a situation in your waking\\nlife.\\nCannon\\nTo\\nsee a cannon in your dream suggests that there is something drastic that needs\\nto be done immediately. According to the Freudian school of thought, the cannon\\nsymbolizes the penis.\\xa0\\nCannonball\\nTo\\nsee a cannonball in your dream indicates that you are harboring some anger or\\naggression and it is weighing your down.\\nCanoe\\nTo\\nsee a canoe in your dream represents serenity simplicity, and independence. It\\nis also a reflection of your emotional balance. You are moving ahead via your\\nown power and determination.\\nCanopy\\nTo\\nsee a canopy in your dream symbolizes protection. You may also be elevated to a\\nprominent position.\\nCantaloupe\\nTo\\nsee or eat cantaloupe in your dream implies that you put forth a tough image,\\nbut are sensitive on the inside. Metaphorically, cantaloupes can refer to the\\nbreasts.\\nCanteen\\nTo\\nsee or use a canteen in your dream suggests that you are looking to easily and\\nconveniently satisfy your emotional needs.\\nCanvas\\nTo\\nsee a canvas in your dream symbolizes potential and possibilities, especially if\\nthe canvas is blank. Consider the significance of what is on the canvas, as it\\nis an aspect of your subconscious.\\nCanyon\\nTo\\nsee a canyon in your dream represents your subconscious mind and hidden feelings.\\nIt may point to emotions and relationships that you did not recognize.\\nCap\\nTo\\nsee a cap in your dream signifies informality and ease. It also suggests that\\nyou need to be more tolerant of others.\\nCap\\nAnd Gown\\nTo\\nwear a cap and gown in your dream indicates that you are transitioning into a\\nhigher level in your life. You are ready to move on to the next stage.\\xa0\\n\\nTo see someone in a cap and gown in your dream symbolizes your successes and\\naccomplishments.\\xa0\\nCape\\nTo\\nsee or dream that you are wearing a cape indicates that you are trying to shield\\nyourself from being emotionally hurt. It may also mean that you are trying to\\ncover-up or hide something.\\nCapital\\nPunishment\\n*Please\\nSee Death\\nPenalty.\\nCapricorn\\nTo\\ndream that someone is a Capricorn signifies fears of inadequacy. You are afraid\\nthat you are not measuring up. Alternatively, it denotes your drive, tenacity\\nand ambition.\\nCapsize\\nTo\\ndream that your boat has capsized represents your avoidance in confronting\\nuncomfortable feelings and/or situations.\\xa0\\nCaptain\\nTo\\ndream that you are a captain indicates that you are taking charge of your\\nemotions and confronting the issues that are bothering you.\\nTo\\nsee a captain in your dream represents your powerful influence over others.\\xa0\\nCaptive\\nTo\\ndream that you are held captive suggests that you are feeling trapped in some\\naspect or circumstances of your waking life. You may feel trapped in your\\ncareer, relationship or life in general. Alternatively, captivity dreams\\nindicate something you are refusing to acknowledge or something that you are in\\ndenial about.\\xa0\\nCar\\nTo\\ndream that you are driving a car denotes your ambition, your drive and your\\nability to navigate from one stage of your life to another.\\nConsider how smooth or rough the car ride is. If you are driving the car, then\\nyou are taking an active role in the way your life is going. However,\\nif you are the passenger, then you are taking a passive role. If you are in the\\nbackseat of the car, then it indicates that you are putting yourself down and\\nare allowing others to take over.\\xa0This may be a result of low self-esteem\\nor low self-confidence.\\xa0 Overall, this dream symbol is an indication of\\nyour dependence and degree of control you have on your life. \\nDriving\\na new car means that you are headed toward a new direction or goal. You are\\ndeviating from your original life path.\\nTo dream that you drive your\\ncar\\xa0 into a body of water or that it rolls into water implies that you are in for an emotional journey.\\xa0To\\nsee a car underwater in your dream points to feelings of regret or sadness over\\nan abandoned goal.\\nDreaming\\nthat your car is buried suggests that you are feeling weary about pursing\\nsomeone else\\'s dreams instead of your own. You are afraid to let others down.\\nTo\\ndream that your car flipped over implies that some significant event is\\npreventing you from achieving your goals. You feel that you have to put your own\\nlife on hold.\\nTo\\nsee or dream that a car is being crushed represents disappointments occurring in\\nyour waking life. You are lacking ambition and goals.\\nTo\\ndream that your car won\\'t start indicates that you are feeling powerless in some\\nsituation.\\nTo\\ndream that you forget or can\\'t find where you parked your car indicates that you\\nare dissatisfied or unhappy with an aspect of your waking life. You do not know\\nwhat you really want to do with your life or where you want to go. To\\ndream that your car has been stolen indicates that you are being stripped of\\nyour identity.\\xa0 This may relate to losing your job, a failed relationship,\\nor some situation which has played a significant role in your identity and who\\nyou are as a person. If you dream that\\nyou are stealing a car, then it implies that you are trying to take credit for\\nsomeone else\\'s work. It may also mean that you are downplaying the role that\\nothers had in your success.\\nTo\\ndream that your car is overheating suggests that you are expending too much\\nenergy. You need to slow down or run the risk of being burnt out. You are taking\\non more than you can handle. It is time to take a breather.\\xa0\\nTo\\nsee a parked car in your dream suggests that you need to turn your efforts and\\nenergies elsewhere. You may be needlessly spending your energy in a fruitless\\nendeavor. Alternatively, a parked car may symbolize your need to stop and enjoy\\nlife.\\xa0\\nTo\\ndream that you are almost hit or were ran over by a car suggests that your lifestyle, beliefs or\\ngoals may be in conflict with another\\'s. It may also be symbolic of a jolting\\nexperience or injured pride. If you dream that you hit or ran over someone with\\na car, then it implies that you have hurt someone in order to move ahead in\\nlife.\\nTo\\ndream that you are unable to roll up the windows of your car suggests that\\xa0\\nyou are showing some hesitation and reservation about the direction that you are\\ntaking in life or the path that you have chosen.\\nTo\\nsee a haunted car in your dream represents unfinished goals. You had started off\\non a path or journey, but never reached the end. Perhaps life had taken you on a\\ndifferent direction that you had planned or intended.\\nTo\\ndream that no one is driving a moving car suggests that you need to reassess\\nyour level of control over your life. You are unwilling to take responsibilities\\nfor your actions.\\n\\nTo\\nbuy a car in your dream refers to your commitment to some important life\\ndecision you have made.\\n\\nIf\\nyou dream of driving a black colored car, then it means that you like to be\\nlow-key about your intentions or goals. Driving a black color in a dream signify\\nsome ulterior motives.\\n\\nDreaming\\nof a car that is driving fast suggests that you need to slow down and think\\nthrough your choices. You are so focused on your goals that you are leaving\\nbehind the people around you. \\xa0\\xa0\\n\\n\\n\\nCar\\nAlarm\\n\\n\\n\\nTo hear\\nor set off a car alarm in your dream implies that you are headed on the wrong\\npath. The dream is alerting you to change\\xa0 your direction and alter your\\ncourse.\\nCar\\nBattery\\nTo\\nsee your car battery in your dream symbolizes your stamina.\\nTo\\ndream that your car battery is dead suggests that you are overwhelmed and\\noverworked. You need to slow down and set some time for yourself or else run the\\nrisk of collapsing from exhaustion.\\nCar\\nCarrier\\nTo\\nsee a car carrier in your dream indicates that you are lacking direction and\\nhave no goal of your own. You are letting others make decisions for you. You are\\ngoing with the flow.\\nCar\\nDealership\\nTo\\nsee or dream that you are in a car dealership refers to some decision that you\\nneed to make about where you want to go in life. You are trying to figure out\\nyour life path.\\xa0\\nCar\\nSeat\\nTo\\nsee an infant car seat in your dream implies that you are in control of someone\\nelse\\'s direction or destiny in life.\\xa0Alternatively, the dream refers to the\\nbeginning stages of your life journey. You are just getting started on an\\nimportant path.\\nCar\\nShow\\nTo\\ndream that you are at a car show suggests that you are drawn to a flashy\\nlifestyle which may not necessarily be who you really are.\\xa0\\nTo\\ndream that you are showing off your car at a car show implies that you are proud\\nof your accomplishments and achievements. You are seeking recognition for your\\nwork.\\nCaramel\\nTo\\neat or lick caramel in your dream indicates a sweet and satisfying situation\\nwill eventually turn into \"sticky\" problem. If it sounds too good to\\nbe true, then it is really too good to be true.\\nCaravan\\nTo dream\\nthat you are part of a caravan means that you will achieve your goals with the\\nsupport of others. You do not need to do things by yourself.\\nCarburetor\\nTo\\nsee the carburetor in your dream represents emotional, spiritual and physical\\nbalance.\\nCarcass\\nTo\\nsee a carcass in your dream indicates that you are feeling emotionally torn. You\\nfeel that you are literally being ripped apart.\\xa0\\nCardboard\\nTo\\nsee a cardboard box in your dream indicates a lack of protection against risk.\\nCardinal\\nTo\\nsee a cardinal in your dream represents vitality and happiness. It also may mean\\nbeing in first place or your position at the front.\\nCards\\nTo\\ndream that you are playing a game of cards represents your ability to strategize\\nin various areas of your life. In particular, diamonds indicate wealth and\\nmaterialism, clubs indicate work and industry, hearts indicate happiness in\\nlove, and spades indicate troubling times and disappointments.\\nTo\\ndream that you are shuffling cards signifies indecision. You need to reevaluate\\nyour choices.\\nIn\\nparticular, dreaming of the king of heart card symbolizes a compassionate male\\nfigure in your life. It may also mean that you are that compassionate person.\\nCargo\\nTo\\ndream that you are loading or carrying cargo refers to a heavy load that you are\\ncarrying around.\\xa0 You are feeling overburdened or\\noverwhelmed.\\xa0\\nIf\\nyou are unloading cargo in your dream, then it indicates that you are ready to\\nrid yourself of the extra weight, negative habits and/or excesses that are\\nholding you back. It is time to let go.\\nCarjack\\nTo\\ndream that you have been carjacked suggests that you have lost your direction in\\nlife. You feel that circumstances in your life has lead you on a different\\ncourse.\\xa0\\nCarnation\\nTo\\nsee carnations in your dream symbolize light-heartedness, vitality and joy.\\nAlternatively, it may represent bachelorhood.\\xa0Consider the color of the\\ncarnation for additional significance.\\nCarnelian\\nTo\\nsee a carnelian in your dream represents passion, lust, sexuality, or matters of\\nthe heart.\\xa0 It also indicates a need for spiritual healing.\\nCarnival\\nTo\\ndream that you are at the carnival represents falsehoods and deception. If you\\nobserve freakish sights, then it denotes a lack of harmony in your domestic\\nlife. Much sorrow will arise in what were thought to be pleasant times.\\nTo\\ndream that you are on a carnival ride suggests that you are going in circles. It\\nmay also symbolize cheap thrills.\\nTo\\ndream that you run away with the carnival denotes that you will be involved in\\nor closely connected to the entertainment field.\\xa0\\nCaroling\\nTo\\ndream that you are caroling signifies joy, harmony and tranquility. You are in a\\nfestive and upbeat mood.\\xa0 The dream may also be a pun on someone who is\\nnamed \"Carol\".\\nCarousel\\n*Please\\nsee Merry\\nGo Round.\\nCarp\\nTo\\nsee a carp in your dream indicates that you need to put aside your pride and ego\\nand not let it get in the way of friendships and relationships. Alternatively,\\nthe carp is symbolic of patience, perseverance, determination, tenacity, courage\\nand success.\\xa0\\nCarpenter\\nTo\\nsee or dream that you are a carpenter indicates that you are confronting and\\novercoming your obstacles. Alternatively, it suggests that you need to change\\nyour way of thinking and readjust your attitude.\\nCarpet\\nTo\\nsee a carpet in your dream represents your way of protecting yourself from\\nlife\\'s harsh realities. Alternatively, a carpet symbolizes luxury, comfort or\\nrichness. Consider the condition and designs of the carpet and how it parallels\\nthe foundation that you have laid for yourself in life. Perhaps the dream is\\ntelling you that you are refusing to confront some issue and instead are\\nsweeping it under the carpet?\\xa0\\nTo\\ndream that you are installing or laying down carpet suggests that you are trying\\nto make your life more comfortable.\\xa0 The dream may also be analogous to the\\nplanning of something. You are laying out\\xa0 some new project or endeavor.\\nTo\\ndream of a magic carpet implies your desires and wishes to escape from a\\nsituation, relationship, or responsibilities. The dream is similar to a flying\\ndream, so you may want to look up flying.\\n*Please\\nSee Also Red\\nCarpet.\\nCarriage\\nTo\\nsee an old-fashioned carriage in your dream suggests that your ways of thinking\\nmay be too outdated and antiquated. The carriage is also a symbol of power and\\nstatus.\\nCarrom\\nBoard\\nTo see\\nor play with a Carrom Board in your dream implies that you need to focus on your\\ngoals. Alternatively, the dream indicates that you are trying to shield or\\nprotect a loved one from some problem or issue.\\nCarrot\\nTo\\nsee a carrot in your dream signifies abundance and fertility. It may also\\nsymbolize a lure as in the idiom \"to dangle a carrot\".\\nTo\\neat a carrot in your dream indicates clarity. You are seeing something more\\nclearly.\\xa0\\nCarry\\nTo\\ndream that you are being carried suggests that you are feeling like a burden to\\nsomebody. You need to be more independent and take on more responsibilities.\\nAlternatively, it may elude to romance.\\xa0\\nCartoon\\nTo\\ndream that your real life is depicted in a cartoon world suggests that you are\\nperceiving the world in a comical and unserious manner. This dream may also\\nserve as an escape from the stressful realities of your life. It is your way of\\nobtaining moments of lightheartedness and fun. Additionally, you need to learn\\nto laugh at yourself and at your mistakes.\\nTo\\ndream that you are watching cartoons indicates that you are not taking life\\nseriously.\\n*Please\\nSee Also Cartoon\\nCharacter.\\nCartwheels\\nTo\\ndream that you are doing cartwheels represent poise and balance in your life or\\nthe need to regain balance. You need to handle life\\'s obstacle and stress with\\nmore fortitude.\\xa0\\nTo\\ndream that you have difficulties doing cartwheels suggest that you do not have\\nconfidence in your own abilities. It may also mean that you are lacking\\ndiscipline and are exhibiting some struggles in your life. There is an imbalance\\nbetween work and pleasure. \\xa0\\nCarving\\nTo\\ndream that you are carving a piece of wood symbolizes spiritual and creative\\nenergy. Metaphorically, you are transforming subconscious energy into conscious\\nawareness. Consider whether the carving is purely ornamental or utilitarian.\\nTo\\ndream that you are carving some meat indicates that you are trying to rid\\nyourself of certain feelings. You may be distancing yourself from your emotions\\nand analyzing them from an objective standpoint. Alternatively, some person or\\nsituation is violating an aspect of your life.\\nCarwash\\nTo\\ndream that you are at a carwash indicates that you need to clean up your\\nself-image. You are ready for a fresh start.\\nCash\\n*Please\\nSee Money.\\nCash\\nRegister\\nTo\\nsee a cash register in your dream represents financial worries and concerns. You\\nare assessing your financial situation. On the other hand, you may be expecting\\nmonetary gains.\\xa0\\nCashier\\nTo\\nsee or dream that you are a cashier indicates that you are re-evaluating your\\nlife and what you have accomplished.\\xa0 Alternatively, it suggests that you\\nhave removed yourself out of some situation. You have \"checked out\".\\nCashmere\\nTo\\nfeel or wear cashmere in your dream symbolizes luxury. You strive for the finer\\nthings in life. Alternatively, dreaming of cashmere suggests that you are\\nlooking for warmth and comfort in your relationships.\\nCasino\\nTo\\ndream that you are in a casino signifies the risk-taker within you. If you are a\\nreserved or passive person, then the dream suggests that you should take a\\nchance. If you are not, then it implies that you need to make a more informed\\ndecision instead of relying on fate.\\nCasket\\nTo\\nsee a casket in your dream symbolizes the womb. It also signifies your thoughts\\nand fears of death. If the casket is empty, then it denotes irreconcilable\\ndifferences. Alternatively, the coffin represents ideas and habits that are\\nno longer of use and can be buried. In particular, if the casket is white, then\\nit refers to lost innocence.\\nTo\\nsee a body in a casket in your dream signifies that you are going through a\\nperiod of depression. You may feel confined, restricted and that you are lacking\\npersonal freedom. There may be a dead or decaying situation or issue in your\\nlife that you need to address. It is time to end this situation or relationship.\\nCasserole\\nTo\\ndream you are making a casserole symbolizes new ideas or a new phase in your\\nlife.\\xa0\\nCassette\\nTape\\nTo\\nsee a cassette tape in your dream suggests that there is worth and truth in what\\nyou are saying. Alternatively, the dream means that you need to get out of the\\nsame rut. You are going around in a loop.\\n\\n\\n\\nCassowary\\n\\n\\n\\nTo see a\\ncassowary in your dream refers to your shy nature. You try to avoid\\nconfrontation and arguments.\\nCast\\nTo\\ndream that you are wearing a cast suggests that your motion is being inhibited\\nin some way. Or that you need to show some restraint in an area of your life.\\nConsider which part of the body is in a cast. Alternatively, a cast symbolizes a\\ntime of healing and discipline.\\nCastanets\\nTo\\nsee, hear or play with castanets in your dream\\xa0 represents little\\nannoyances and irritations in your waking life. Alternatively, the dream may be\\na metaphor that you need to \"cast-a-net\". Perhaps you are looking for\\nsome assistance.\\nCastle\\nTo\\nsee a castle in your dream signifies reward, honor, recognition, and praise for\\nyour achievements. You are destined to a position of power, wealth, and\\nprestige.\\xa0Alternatively, the dream indicates your desire to escape from\\nlife\\'s daily problems.\\nTo\\ndream that you live in a castle represents your extreme need for security and\\nprotection to the point where you may be isolating yourself from others. Perhaps\\nthe dream parallels a waking situation where it\\xa0 has put you on the\\ndefensive.\\nTo\\nsee a castle door in your dream indicates that you have missed a huge and/or\\nprofitable opportunity, especially if you are standing outside the castle door.\\nIf you are standing inside the castle door, then it means that you have let your\\nsuccess and ego distance you from others.\\xa0\\nCastration\\nTo\\ndream of a castration signifies your overwhelming fears that you have lost your\\nvirility. You are feeling the pressures of your sexual performance.\\nAlternatively, it represents a lack of creativity, power or strength.\\n\\nCat\\nTo\\nsee a cat in your dream symbolizes an independent spirit, feminine sexuality,\\ncreativity, and power. It also represents misfortune and bad luck. The dream\\nsymbol has different significance depending on whether you are a cat lover or\\nnot. The cat could indicate that someone is being deceitful or treacherous\\ntoward you. If the cat is aggressive, then it suggests that you are having\\nproblems with the feminine aspect of yourself.\\xa0If you are afraid of the cat\\nin your dream, then it suggests that you are fearful of the feminine. The dream\\nmay be a metaphor\\xa0for\\n\"cattiness\" or someone who is \"catty\" and malicious. If you\\nsee a cat with no tail, then it signifies a loss of independence and lack of\\nautonomy.\\xa0\\nTo\\ndream that you cannot find your cat highlights your independent spirit. You need\\nto allow yourself to be free and not let anyone or anything hold you back.\\xa0\\nTo\\ndream that a cat is biting you symbolizes the devouring female. Perhaps you are\\ntaking and taking without giving. You may be expressing some fear or frustration\\nespecially when something is not going as planned. To dream that you are saving\\nthe life of a cat implies that you are reclaiming your independence and power.\\nTo\\ndream that a cat is scratching you suggests that you are feeling threatened.\\nTo\\nsee a black cat in your dream indicates that you are experiencing some fear in\\nusing your psychic abilities and believing in your intuition. You may\\nerroneously associate the black cat with evil, destruction, and bad luck. In\\nparticular, if the black cat is biting, clawing or attacking you, then the dream\\nmeans that you must acknowledge what your intuition is trying to tell you. You\\ncan no longer ignore it. Do not be afraid to face the situation. If you see a\\nwhite cat, then it denotes difficult times.\\nTo\\ndream that a cat killed a spider suggests that you are expressing your\\nfemininity in a seductive and cunning manner rather than in an overtly and\\nalmost destructive way.\\nTo\\nsee a dead cat or hear a cat being killed implies that you are lacking autonomy and\\nindependence in some area of your life. Alternatively, the dream means that you\\nare refusing to recognize your feminine power.\\nTo\\nsee cats playing in your dream refers to your frisky nature. You need to show\\nyour playful side.\\nTo\\nsee a cat with green spikes suggests that jealousy is preventing you from\\nforming meaningful relationships. You are keeping your distance from a situation\\nor relationship.\\nTo\\nsee or drive a car that looks like a cat refers to your free and independent\\nspirit. If you are almost hit by a car that looks like a cat, then it suggests\\nthat you are hindering someone\\'s goals or not letting them be who they are.\\nDreaming\\nof a cat without a body or any legs symbolizes limited independence. You are\\nbeing mislead into thinking that you have the freedom to do whatever you\\nwant.\\xa0\\nSeeing\\ntwo identical cats in your dream means that you need to balance your own needs\\nwith the needs of others. You need to remember to take care of yourself and not\\nalways worry about others.\\nDreaming\\nof thousands of cats running around in a house indicates a lack of direction in\\nyour life. There is too much going on in your life that you are losing sight of\\nwhat\\'s important.\\xa0If\\nyou dream of a cat with two heads, then it implies indecision; you cannot make\\nup your mind about something. Alternatively, the dream may also mean that you\\nare too easily distracted by your surroundings.\\n**See\\nThe Meaning In Action: \"\"Black\\nCat\" or Injured\\nCat\"\\nCat\\nEyes\\xa0\\nTo\\nsee or dream that you have cat eyes indicate that\\xa0 you are able to find\\nyour way through some dark and troubling problem. You are able to see the bright\\nside of a negative situation. Alternatively, it suggests that you are being\\nslick or sly.\\nTo\\ndream that a cat has glowing blue eyes indicates that you need to look at\\nsomething from a different perspective. The dream may also mean sudden\\nenlightenment which may bring about feelings of fear or anxiety. You are afraid\\nof the truth.\\xa0\\nCatacomb\\nTo\\ndream of a catacomb suggests that you need to confront your fears of the subconscious.\\xa0\\nCatapult\\nTo\\nsee a catapult in your dream indicates that you will overcome your obstacles\\nthrough ingenuity and determination. Alternatively, the dream implies that you\\nknow no limit. You are on the fast track to success.\\nCataract\\nTo\\ndream that you have cataract or are having cataract remove indicates that you\\nare looking for clarity in some situation. You are not seeing all the details\\nclearly.\\xa0\\nCatastrophe\\nTo\\nexperience a catastrophe in your dream represents sudden instability and\\nupheaval in your walking life. You are feeling extremely anxious about the\\nunknown changes that are in store for you.\\nCatch\\nTo\\ncatch something in your dream suggests that you need to incorporate something\\ninto your life. Consider the object you are trying to catch and look up its\\nmeaning. If you are trying to catch a ball, then it indicates that you want to\\nfeel whole or you need to be more well-rounded. If you catch a fish, then it\\nsuggests that you need to be more spiritual.\\nTo\\ndream that you are playing catch signifies your carefree attitude. You are\\nenjoying life. Consider who you are playing catch with. If you are playing catch\\nwith mother or father, then it represents your bond and closeness to them.\\xa0\\nThe\\ndream may also be a metaphor to indicate something that is \"catchy\" or\\ncontagious.\\nCatcher\\nTo\\nsee or dream that you are a baseball catcher implies that you need to be ready\\nto accept whatever life throws at you. The dream is telling you to be prepared.\\nSince baseball is often analogous to\\nsexual foreplay as in getting to first, second, or third base on a date,\\nthe catcher in your\\xa0 dream may be a play on words, telling you to\\n\"catch her\". Perhaps there is a girl that you like and you are not\\nsure if you should pursue her.\\nCaterpillar\\nTo\\nsee a caterpillar in your dream signifies a stage in your own personal growth\\nand development where you are on your way, but have not yet reached your goal.\\nCatfish\\nTo\\nsee a catfish in your dream symbolizes someone who may not appear to be who they\\nare. Their true self may not be obvious or immediately apparent.\\nCathedral\\n*Please\\nsee Church.\\nCatsup\\nTo\\nsee or eat catsup in your dream represents simplicity, youth, and happiness.\\nAlternatively, the dream may be a pun on your need to \"catch up\" on\\nsomething.\\nCattle\\nTo\\nsee cattle in your dream indicates that you need to proceed with caution in\\nsome situation or relationship.\\xa0\\nTo\\nsee a herd of cattle in your dream represents a lack of individuality. You\\ngenerally go with the flow of things. Alternatively, it symbolizes prosperity.\\nTo\\nsee a stampede of cattle in your dream suggests that something in your life is\\nout of control.\\nCatwalk\\nTo\\nsee or dream that you are walking a catwalk represents your new found\\nconfidence. It may also mean that you enjoy being the center of attention. You\\nare being recognized for your talents or creativity. Alternatively, the dream\\ncould mean that you are using your appearance to get your way. You need to start\\nlooking within yourself.\\xa0\\xa0\\nCaught\\nTo\\ndream that you are caught doing something represents your fears and\\nvulnerabilities. You are afraid of being judged. Consider the significance of\\nwhat you were doing and how you felt when you were caught. Alternatively, the\\ndream indicates that you are being hyper-vigilant about your surroundings.\\nCaul\\nTo\\nsee a caul in your dream indicates that you are not seeing something clearly.\\nYour vision is being impaired or clouded by something or someone. A caul is also\\nsymbolic of luck and protection.\\nCauldron\\nTo\\nsee a cauldron in your dream implies that you are undergoing some\\ntransformation. It also indicates destiny or some magical, spiritual force.\\nAlternatively, the cauldron symbolizes fertility and the womb. Consider the\\nsymbolism of what is inside the cauldron and its importance.\\nCauliflower\\nTo\\nsee or eat cauliflower in your dream symbolizes spiritual nourishment, purity\\nand perfection. It also represents sadness and a need to be uplifted. Your dream\\xa0\\nindicates that the tough times you are experiencing will soon be over.\\nAlternatively, the cauliflower represents the brain and your mental\\ncapabilities.\\nCave\\nTo\\nsee or dream that you are in a cave symbolizes the womb and thus signify refuge,\\nprotection and concealment.\\nTo\\ndream that you are walking in a dark cave represents an exploration of your subconscious\\nmind.\\xa0It signals self discovery.\\nCave\\nPainting\\nTo\\xa0see\\na cave painting in your dream indicates that you are not quite ready to share\\nyour ideas. You are reluctant to share your innermost thoughts and fully express\\nwho you are.\\xa0\\nCaveman\\n*Please\\nSee Barbarian.\\nCaviar\\nTo\\nsee or eat caviar in your dream points to your expensive tastes. You enjoy the\\nfiner things in life and are not afraid to flaunt it.\\nCavities\\nTo\\ndream that you have a cavity indicates feelings of fear and insecurity over a\\nsituation. You are lacking self confidence.\\nCD\\nTo\\nsee\\xa0 a compact disc in your dream represents a need for enjoyment or a\\ndistraction. It also points to the opportunities and\\npossibilities within your grasp. Consider the type of music and the title of the\\ncompact disc. If you are giving away the CD, then you may be trying to convey a\\nmessage to that person within the songs.\\xa0Alternatively, the CD is analogous\\nto the meaning of a circle.\\nConsider\\nalso if the initial \"CD\" have any additional significance to you.\\nPerhaps it represents a person or may even be a pun on something that is\\n\"seedy\".\\nCD\\nPlayer\\nTo\\nsee or use a CD player in your dream represents the impression or image that you\\nwant to project to others. It may also symbolize inspiration and the simple\\npleasure of listening to music.\\nCedar\\nTo\\xa0\\nsee a cedar in your dream symbolizes longevity, durability, strength, endurance\\nand immortality. The dream may be trying to offer reassurance during a difficult\\ntime in your life.\\xa0\\nCeiling\\nTo\\nsee a ceiling in your dream represents a mental or spiritual perspective. It may\\nalso symbolize the limit you have set for yourself. If you see vaulted ceiling\\nin your dream, then it signifies your\\xa0 askew perspective or view.\\xa0\\nDreaming\\nthat there is water damage on the ceiling refers to some emotional issue that\\nyou are not addressing. You keep putting these feelings aside which may become a\\nbigger problem at the end.\\nCelebration\\nTo\\ndream of a celebration represents your achievement toward a higher level of\\ngrowth. This may also be a self-congratulatory\\xa0 dream for the goals you\\nhave achieved and for the recognition you have gained. You may also be honoring\\nsome victory, success, or accomplishment.\\xa0 Alternatively, to dream of a\\ncelebration symbolizes freedom\\xa0 and emotional release.\\xa0 Celebration\\ndreams are common for those who anticipate an upcoming\\xa0 turning point or\\nevent in their waking life.\\nCelebrities\\nTo\\ndream that you are a celebrity signifies your high aspirations that may be way\\nbeyond your reach at the present moment. You may just be setting yourself for a\\nlet-down.\\nTo\\ndream that a friend or lover becomes a celebrity denotes your fear of losing the\\nfriendship and loyalty of this person.\\nTo\\nsee a celebrity in your dream represents your beliefs and understanding about her\\nor him. Consider what the celebrity is famous or known for and how you\\nrelate to that quality. Something in you waking life has triggered these similar\\nbeliefs and feelings. It is not uncommon that your obsession with a certain\\ncelebrity may carry over onto your dream world. Celebrities are often seen as\\nheroes and all that is mighty. Also consider any puns within the name.\\nTo\\ndream that you are good friends with a celebrity represents your idealized\\nversion of someone you know in your life.\\nPerhaps you hope that a real-life friend can act more like a particular\\ncelebrity. Consider the qualities that you see in this celebrity and how you\\nwant your friends to have those qualities.\\xa0Alternatively, the dream may be\\ntrying to compensate for your own lack of self-confidence. You want to escape\\nfrom your own reality and live the high life. You want to fit in.\\nDreaming\\nof dating a celebrity implies that you are idealizing a relationship. If you are\\ninfatuated or obsessed with a particular celebrity, then you may also have a\\ndream of dating her or him.\\nTo\\ndream that you are kissing or having sex with a celebrity indicates your drive to be\\nsuccessful. Consider what movies you associate this celebrity with or what makes\\nthis celebrity famous for clues as to where and what you want to achieve success\\nin. Alternatively, the dream may represent your waking fascination or obsession with\\nthis particular celebrity.\\n*See\\nAlso Actor /\\nActress.\\nCelery\\nTo\\nsee or eat celery represents your need to be cleansed, either physically or\\nemotionally.\\xa0 The dream may also be a pun on \"salary\" and thus\\nindicate your financial concerns.\\nCelibacy\\nTo\\ndream that you are celibate represents your fears of intimacy. You may be trying\\nto block off your sexual energies.\\nCell\\nPhone\\nTo\\nsee or use a cell phone in your dream indicates that you are being receptive to\\nnew information. It also represents your mobility. Alternatively, the dream\\nsignifies lack of understanding. Perhaps you are having difficulties getting\\nthrough to someone.\\nTo\\ndream that you lost your cell phone represents a lack of communication. You have\\nlost touch with some aspect of your feelings or your Self.\\xa0If you find a\\ncell phone, then it symbolizes reconnection and reopened communication.\\nTo\\ndream that your cell phone is snapping open and close implies that you are ready\\nto talk about something that you have been keeping inside.\\nTo\\ndream that your cell phone screen is cracked implies that you are not expressing\\nyourself in a healthy or effective manner.\\nDreaming\\nthat your parents are giving you or letting you have a cell phone refers to\\nhaving a better line of communication with them. Perhaps the dream is telling\\nyou that you should open up to them more.\\nIf you dream about getting a cell phone for free, then it symbolizes the\\nimportance of communication. In other words, you can not put a price on\\nit.\\xa0\\n*Please\\nsee also Telephone\\nCell\\nPhone Tower\\nTo\\nsee a cell phone tower in your dream symbolizes communication and your\\nconnections to others.\\xa0\\nTo\\ndream that a cell phone tower is being built on top of your house implies that\\nthere is a lack of communication within your family which can no longer be\\nignored. You need to address this communication problem.\\xa0\\nCellar\\nTo\\ndream that you are in a cellar represents a part of your subconscious mind where\\nyou have kept your fears and problems hidden.\\xa0\\nTo\\ndream that you are going down the cellar signifies that you are digging deep\\ninto your own past and facing your fears.\\nCello\\nTo\\nsee or hear a cello in your dream represents sensual or creative achievements.\\nYou are displaying much strength and stability.\\nCeltic\\nKnot\\nTo\\nsee a Celtic Knot in your dream symbolizes continuity, longevity, good health\\nand/or immortality. It also refers to a timeless tradition. Consider the general\\ngeometric shape of the knot for further meaning.\\nCement\\nTruck\\nTo\\nsee a cement truck in your dream represents firm and \"concrete\" ideas\\nor plans that are being set into motion.\\nTo\\ndream that you are mixing cement suggests that you are fusing ideas or aspects\\nof yourself together.\\n*\\nPlease see also Concrete.\\nCemetery\\nTo\\ndream that you are in a cemetery indicates an end to a habit or behavior. You\\nare experiencing a rebirth. More directly, the dream may symbolize sadness,\\nunresolved grief or your fears about death.\\nTo\\ndream that you are cleaning the cemetery suggests that you are coming clean\\nabout your past. In some Asian cultures, a special holiday revolves around\\nsurviving members of the family visiting and cleaning the gravesites of the\\ndeceased as a way to pay their respects. Thus in this regard, your dream may\\nmean to respect your past and where you came from.\\nCensor\\nTo\\ndream that you are being censored suggests that you are being prevented from\\nexpression your views, opinions or feeling. A relationship or situation may be\\nunhealthy and oppressive.\\xa0\\nTo\\ndream that something is being censored indicates that you do not have all the\\nfacts to make an informed decision about some matter.\\nCentaur\\nTo\\nsee a centaur in your dream symbolizes the duality of human nature. It indicates\\nthat you are trying to balance your intellectual/mental nature with your\\nphysical nature. The centaur also represents humanity, wisdom, and compassion.\\nCenter\\nTo\\ndream that you are at the center of something represents your belief that\\neverything revolves around you. The dream may also be a metaphor that you are in\\nthe middle of some situation that you cannot get out of. If you are off\\ncentered, then it indicates that something in your life is out of balance.\\xa0\\nCentipedes\\nTo\\nsee a centipede in your dream suggests that you are letting your fears and\\ndoubts hinder you from making progress and achieving your goals. You need to\\nstop thinking negative thoughts.\\nCeramics\\nTo\\nsee or make ceramics in your dream suggest that you need to be more hands on in\\nsome situation or relationship. You need to express more of your creative side.\\nCereal\\nTo\\ndream that you are eating cereal denotes the start of a new project or new stage\\nin your life. It may also indicate your need to restore yourself in some basic\\nway. Alternatively, your mind may already be thinking ahead to breakfast.\\xa0 It is not uncommon for your fleeting thoughts to be incorporated into your\\ndream.\\nCeremony\\nTo\\ndream that you are attending a ceremony suggests that sacrifice and devotion is\\nnecessary for success. You may be going through a crucial moment in your waking\\nlife that requires your commitment. It is a time for introspection,\\nself-discovery, and inner changes.\\nCertificate\\nTo\\nsee a certificate in your dream suggests that you are seeking some validity and\\ntruth to some situation.\\xa0You want recognition for your efforts.\\xa0\\nCesarean\\nSection\\nTo\\ndream that you are having a caesarian section implies that you need help in\\norder to get your idea or project off the ground. You can not do it by yourself. A more direct\\ninterpretation of this dream may represent your anxieties of having a C-section\\nin real life.\\xa0 \\xa0\\nCesspool\\nTo\\nsee a cesspool in your dream suggests that you need to undergo some emotional\\ncleansing. You need to let go of the negativity and the things that are holding\\nyou back.\\nChains\\nTo\\nsee chains in your dream signify your need to break free from a routine, old\\nidea, or a relationship. If you are being chained, then some part of you is\\nbeing forcefully put in check.\\xa0You are being held back from what you really\\nwant to do.\\nChainsaw\\nTo\\nsee a chainsaw in your dream indicates that something drastic is about to\\nhappen.\\xa0 Success will only come about through willpower.\\xa0 Alternatively, it suggests that you get right to the heart of the matter\\nquickly. The chainsaw may be seen as a phallic symbol and\\xa0 can refer to\\nyour sexual drives.\\xa0\\nChair\\nTo\\nsee a chair in your dream symbolizes your need to sit down and take time out to\\ncontemplate a situation before proceeding. Or you just need to relax.\\nAlternatively, it indicates that your feelings or ideas are being dismissed or\\ncast to the side.\\nTo\\ndream that someone is offering you a chair suggests that you need to be open to\\ntaking and accepting advice.\\nDreaming\\nthat you fall or someone falls backwards in your chair implies that you are too comfortable\\nidling around and not accomplishing anything.\\nChairlift\\nDreaming\\nof riding a chairlift up a ski slope indicates that you are achieving new\\nheights and overcoming your fears. You are in control of your emotions and are\\nconfronting any feelings and inhibitions you have been repressing.\\xa0You are\\nclose to bringing them to the surface.\\nTo\\ndream of riding a a chairlift as you are watching other people suggests that\\nlife is passing you by. Instead of taking control of your life and being more\\nproactive, you are just letting things happen. In particular, if you dream of a\\nchairlift underwater, then it means that you are feeling numbed by your\\nemotions. \\n\\xa0\\xa0\\nChakra\\nTo\\ndream about your chakra indicates that there is a blockage to the flow of your\\nspiritual energy. You need to open up. There are 7 chakras so you need to\\nconsider which chakra for additional significance.\\nThe\\ncrown chakra radiates a violet color and signifies wisdom and intellect.\\nThe\\nbrow chakra, also referred to as the third eye is represented by an indigo light\\nand symbolizes psychic ability, intuition and mutual understanding.\\xa0This\\ndream may be telling you to focus on the big picture.\\nThe throat chakra radiates a blue light and\\npertains to your voice and how you express your opinions and beliefs.\\nThe\\nheart chakra is depicted by a green color and symbolizes pure and divine\\nlove for everyone and everything around you.\\nThe\\nsolar plexus chakra radiates a yellow light and represents your\\nrelationships with others. Are you in conflict or at peace with others?\\nThe\\nhara chakra is represented by an orange. It relates to sexual matters and\\nissues about love.\\nThe\\nroot or base chakra radiates a red light. It relates to material and\\nphysical life. If you are dreaming of your base chakra, then it indicates\\nfeelings of being lost or uprooted in your waking life.\\nChalice\\nTo\\nsee a chalice in your dream represents your need for spiritual nourishment. You\\nare searching for your individual self and for a more meaningful existence.\\xa0\\nChalk\\nTo\\nsee a piece of chalk in your dream refers to school and learning.\\xa0Your\\nability and knowledge is being called into question.\\nTo\\nsee something written in chalk signifies something that can easily escape your\\ngrasp. You may have an advantage in some situation, but it is only temporary.\\nConsider the significance of the message written.\\nChalkboard\\nTo\\nsee a chalkboard in your dream represents the classroom and the difficulties you\\nmay have experienced in school. There is a lesson to be learned from this dream.\\nYou may feel that you are being put to the test. Consider what is being written\\non the chalkboard. Alternatively, it signifies your debts.\\xa0\\nTo\\ndream that you are writing on the chalkboard indicates you will need to get your\\nhands dirty in some situation.\\nChameleon\\nTo\\nsee a chameleon in your dream represents your ability to adapt to any situation.\\nYou are versatile and are well-rounded. Alternatively, you feel you are being\\noverlooked.\\nChampagne\\nTo\\nsee the opening of a bottle of champagne symbolizes a sexual act. Alternatively,\\nit represents extravagance and overindulgence. Or it indicates a celebration or\\na personal achievement that you are proud of.\\xa0\\nChamomile\\nTo\\nsee or smell chamomile in your dream represents patience. You need to calm down\\nover some situation.\\nChandelier\\nTo\\nsee a chandelier in your dream represents grandeur and greatness. You see a\\nbright future ahead.\\xa0 If the chandelier is made of crystal, then it\\nsymbolize wealth.\\nChange\\nTo\\ndream that you receive the wrong amount of change depends on whether you were\\nshortchanged or not. If you were shortchanged, then it is analogous to low\\nself-esteem issues. You feel unworthy. If you receive more change than you were\\ndue, then it signifies your inflated ego. You feel entitled to certain things.\\nChanting\\nTo\\ndream that you are chanting symbolizes your camaraderie and oneness with others\\ntoward a common cause. It also suggests that you are in touch with a Higher\\nplane and an elevated sense of spirituality.\\nTo\\nhear chanting in your dream signifies chaos and disagreements.\\nChapel\\n*Please\\nSee Church.\\nChaps\\nTo\\nsee or wear chaps in your dream symbolizes a passive aggressiveness.\\nCharacter\\nTo\\ndream that you are playing a character indicates that you are avoiding some\\nresponsibility or refusing to acknowledge your role in it. Alternatively the\\ndream means that you are putting on an act. By playing a character, you are\\npretending be someone else instead of being yourself. Consider a situation in\\nyour waking life where you are not being genuine.\\nCharades\\nTo\\ndream that you are playing charades indicates that there is something that you\\nare not able to put into words or articulate. Try to decipher what message you\\nare trying to convey.\\nCharcoal\\nTo\\ndream that you are eating charcoal symbolizes your burning passion and libido.\\nYou are going through some sort of transformation and embracing your sensuality.\\nChariots\\nTo\\ndream that you are riding in a chariot indicates that you need to exercise\\ncontrol in your life.\\nTo\\ndream that you or someone else fall from a chariot denotes failure.\\nCharity\\nTo\\ndream that you are giving or receiving charity is analogous to your ability to\\ngive and receive love. You have compassion for others.\\xa0\\nCharleston\\nTo\\ndream that you are dancing the Charleston signifies important and substantial\\nsuccess ahead for you.\\nCharlie\\nChaplin\\nTo see or dream\\nthat you are Charlie Chaplin suggests that you are searching and looking for\\nsome direction in your life. You need some variety from your daily routine.\\nCharm\\nBracelet\\nTo\\nsee or wear a charm bracelet in your dream is symbolic of protection from any\\nharm. Consider the symbolism of the specific charm for additional significance.\\nChart\\nTo\\nsee or read a chart in your dream symbolizes your goals and your approach to\\nlife.\\nChase\\nTo\\ndream that you are being chased signifies that you are avoiding a situation that\\nyou do not think is conquerable. It is a metaphor for some form of insecurity.\\nIn particular, to dream that you are chased by an animal represents your own\\nunexpressed and unacknowledged anger which is being projected onto that animal.\\nAlternatively, you may be running away from a primal urge or fear.\\nTo\\ndream that you are chasing someone signifies that you are attempting to overcome\\na difficult goal or task. You may also be expressing some aggressive feelings\\ntoward others.\\nTo\\ndream that you are being chased and enjoying it implies that you like being the\\nobject of desire. You like feeling wanted. The dream may be analogous to a\\nblossoming relationship.\\n*For\\nan in depth analysis, click on\\xa0 Common\\nDreams: Chase.\\nChasm\\n*Please\\nSee Abyss.\\nChastity\\nBelt\\nTo\\nsee or wear a chastity belt in your dream signifies your attitudes and feelings\\ntoward sex.\\xa0 Alternatively, the dream may be a metaphor to indicate that\\nyou are being overly protective. Perhaps your way of thinking is outdated.\\nChat\\nRoom\\nTo\\ndream that you are in a chat room represents your need to connect with others on\\na mental level. The dream could also mean that you are spending too much time in\\nfront of the computer and this has carried over into your dreams. You need to\\nget out and socialize in the real world.\\xa0\\nChauffeur\\nTo\\ndream that you are a chauffeur indicates that you are helping someone with their\\ngoals. You are trying to steer them on the right direction.\\nTo\\ndream that you are being chauffeured signifies extravagance and luxury. You have\\na high sense of self worth. Alternatively, the dream represents your dependence\\non others. You are not in control of your life.\\nCheap\\nTo\\ndream that you or someone is cheap represents your own feelings of inadequacy.\\nYou are not fully acknowledging your own self worth.\\xa0\\nTo\\ndream that you got something at a cheap price suggests that you are being\\nundervalued. Or are you cheating somebody of their valuable things? Consider the\\nsymbolism of the item and how you feel about it in the dream.\\nCheating\\nTo\\ndream that you are cheating on your spouse mate, fiancé, or significant\\nother suggests feelings of self-guilt and self-betrayal. You may have\\ncompromised\\xa0 your beliefs or integrity and/or wasting your energy and time\\non fruitless endeavors. Alternatively,\\ncheating dreams reflect the intensity of your sexual passion; you are exploring\\nareas of your sexuality. In this scenario, the dream may actually serve as a\\nreaffirmation of your commitment.\\xa0Furthermore, if you are approaching your\\nown wedding date, then it is not uncommon to have dreams about erotic\\nexperiences with partners other than your intended spouse. Most likely, such a\\ndream represents the newness of your sexual passion. It may also signify\\nanxieties of changing your identity - that of a spouse.\\xa0\\nTo\\ndream that your mate, spouse, or significant other is cheating on you indicates\\nyour fears of being abandoned. You may feel a lack of attention in the\\nrelationship. Alternatively, you may feel that you are not measuring up to the\\nexpectations of others. This notion may stem from issues of trust or\\nself-esteem. The dream could also indicate that you are subconsciously picking up\\nhints and cues that your significant other is not being completely truthful or\\nis not fully committed in the relationship.\\xa0\\nTo\\ndream that your friend is being cheated on\\xa0indicates your subconscious\\ndislike for his/her significant other. You think your friend deserves to be\\ntreated better.\\xa0\\nTo\\ndream that you are cheating at a game suggests that you are not being honest\\nwith yourself. You feel inadequate and insecure.\\n***Go\\nto Common\\nDreams: Cheating Dreams for further analysis.\\xa0\\nCheck\\nTo\\nsee a check in your dream suggests that you may feel indebted to others. The\\ndream may also be a pun on checking things out.\\nTo\\nsee a blank check in your dream symbolizes your unused potential. It may also\\nindicate unclaimed rewards.\\nTo\\nsee a check mark in your dream indicates approval and acceptance. Your hard work\\nhas paid off.\\nCheckerboard\\nTo\\nsee a checkerboard in your dream indicates the many aspects and facets of your\\npersonality.\\xa0 Alternatively, a checkerboard may reflect your struggle\\nbetween good and evil or good and bad. The dream may also be a metaphor for your\\n\"checkered\" past. Perhaps you did something that you were not proud of\\nor something that is coming back to haunt you.\\nCheckers\\nTo\\nsee or play checkers in your dream suggests that you need to have a clear\\nstrategy in order to overtake your opponents. The dream may also be a pun on\\n\"check her\". Perhaps you need to reevaluate this female person.\\nCheckout\\nTo\\ndream that you are at a checkout symbolizes completion. You feel whole.\\nAlternatively, being at a checkout in your dream implies that you are not fully\\nvested in a situation. You want to get out of some relationship or\\ncircumstance.\\xa0\\nCheeks\\nTo\\nsee your cheeks in your dream symbolize commitment, intimacy, and closeness. It\\nalso reveals your strength of character and your opinions. Alternatively, cheeks\\ncan also be a slang for the buttocks.\\nTo\\nsee rosy-colored cheeks in your dream signifies life energy, enthusiasm and\\nvitality. If the cheeks are sunken in, then it symbolizes sadness, hunger,\\npoverty and/or struggles. The emphasis of cheeks in your dream could also point\\nto health issues.\\nTo\\ndream that your cheeks are painted represents your attitudes of courage and\\nviolence/passivity.\\nTo\\ndream that you are kissing someone on the cheek or someone is kissing you on the\\ncheek, then it signifies admiration, courtesy, reverence, friendship or respect.\\nCheer\\nTo\\nhear or start a cheer in your dream indicates that you are headed in the right\\ndirection or making the right decisions in your life.\\xa0 You have more self\\nconfidence and belief in yourself. The dream may also be a metaphor to\\n\"cheer up\".\\nCheerios\\nTo\\nsee or eat Cheerios in your dream indicates that there is something missing from\\nyour life. You do not feel completely whole. Alternatively,\\xa0 the dream may\\nbe a pun on \"farewell\" or \"good bye\".\\nCheerleader\\nTo\\nsee a cheerleader in your dream represents competition and triumph. Your dream\\nmay be telling you to offer more praise and encouragement toward others.\\xa0\\nTo\\ndream that you are a cheerleader signifies your self-confidence and self-esteem.\\nYou need to be more active and more positive in some waking situation in your\\nlife.\\xa0\\nCheese\\nTo\\nsee cheese in your dream symbolizes gains and profits. Alternatively, the dream\\nmay be a metaphor for something that is \"cheesy\" or lame. Or it could\\nbe saying that you need to smile more.\\xa0\\nCheese\\nCurl\\nTo\\nsee or dream that you are eating cheese curls indicates that you are leaving\\nsome evidence or clue of your indulgent or negative behavior. Alternatively, the\\ndream may just mean that you have a strong craving for cheese curls.\\nCheesecake\\nTo\\nsee or eat cheesecake in your dream indicates that things are going great for\\nyou. You deserve a sweet reward for a job well done.\\xa0\\nCheetah\\nTo\\nsee a cheetah in your dream suggests that you need to get moving and be more\\nactive in pursuit of your goals. Perhaps you have been a little lazy and you\\nneed to get off from that seat.\\nChef\\nTo\\ndream that you are a chef indicates that you have the ability, knowledge, and\\ntalent to chose your path in life. You know what course of action you need to\\ntake and are moving forward in a productive manner. And you have learned from\\nyour previous life experiences.\\nTo\\nsee a chef in your dream represents transformation and changes. Consider what is\\n\"cooking\" in your life?\\nChemicals\\nTo\\nsee or use chemicals in your dream suggest that you are undergoing some\\ntransformation and individuation process.\\nTo dream that you are mixing or combining chemicals represent\\ncreativity, manipulation and/or intellectual power.\\nChemistry\\nTo\\nsee or dream that you are a chemist points to your ability to change\\nyour Self.\\n \\xa0You alter\\n your persona according to the situation.\\nDreaming\\nabout chemistry refers to manipulation. You are being manipulated or you are the\\none that is doing the manipulating.\\xa0\\nCherry\\nTo\\nsee cherries in your dream symbolize honesty and truthfulness or sweetness and\\ngood fortune. Alternatively, the dream may be telling you that \"life is\\nlike a bowl of cherries\". In other words, don\\'t take life so seriously;\\ntake it easy.\\xa0\\nTo\\nsee a cherry tree in your dream represents luck, spring, femininity, and youth.\\xa0\\nCherry\\nBlossom Tree\\nTo see\\na cherry blossom tree in your dream symbolizes feminine power, beauty and love.\\nThe dream may be telling you that you can be both strong and delicate at the\\nsame time. Alternatively, dreaming of a cherry blossom tree symbolizes\\nmortality. It may also be a reminder that life is short and to take advantage of\\nwhat life has to offer.\\nCherub\\nTo\\nsee a cherub in your dream represents child-like innocence, frailty and\\nmischievousness. You need to take life a little less seriously. Alternatively,\\nthe dream indicates that you may have been dishonest or manipulative.\\nCheshire\\nCat\\nTo\\nsee the Cheshire cat in your dream signifies mischief, deceit and mockery. It\\nmay represent someone in your life who you are not sure if you can trust or rely\\non.\\nChess\\nTo\\nsee or play chess in your dream indicates that you need to carefully think\\nthrough the situation before making a decision. The light and dark squares of\\nthe chess board symbolizes the positive (pro) and negative (con) of a situation.\\nThe dream may also comment on how you have met your match in love or in\\nbusiness.\\nTo\\ndream that your king chess piece is in danger suggests that you are being\\nstifled by some female character in your life.\\xa0\\nTo\\ndream of chess pieces coming alive means that you are completely engrossed or\\nsubmerged in some situation, relationship or task. You are ignoring everything\\nelse around you. Alternatively, the dream implies that you no longer have\\ncontrol of a situation. A situation in your waking life is ruling your actions\\nand behavior.\\nChest\\nTo\\nsee your chest in your dream signifies confidence, conquest and vitality.\\xa0 Alternatively, it represents feelings of being overwhelmed and being dangerously\\nconfronted by something. Consider also if the dream is telling you that there is\\nsomething that you need to \"get off your chest\".\\nTo\\ndream that you are beating on your chest indicates triumph and a great\\naccomplishment.\\xa0\\nIt is\\ncommon for those who experience real life chest pains to have dreams where they\\nare being shot in the chest or feel heavy pressure on their chest.\\nDreaming\\nof a storage chest or a wooden chest is symbolic of suppressing your own needs\\nor feelings. You tend to put other\\'s needs ahead of your own. Alternatively, a\\nstorage chest represents memories that you are holding onto.\\nChestnut\\nTree\\nTo\\nsee a chestnut tree in your dream represents strength and good health.\\nChevron\\nTo\\nsee a chevron in your dream symbolizes protection.\\nChew\\nTo\\ndream that you are chewing something suggests that you are sorting things out\\nand carefully thinking it over.\\xa0\\nChicago\\nTo\\ndream that you are in Chicago represents mainstream thinking. Known as the windy\\ncity, the dream may also indicate that your life is blowing in a new direction.\\nYou are experiencing extra vigor, vitality and energy in your life.\\xa0\\nChick\\nTo\\nsee a baby chick in your dream symbolizes youthful curiosity and innocence. The\\ndream may also be a slang for a girl.\\xa0\\xa0\\xa0\\nChickadee\\nTo\\nsee a chickadee in your dream indicates that you need to pay attention and\\nbecome aware of something unique and special occurring in your life.\\nChicken\\nSuit\\nTo dream\\nthat you are wearing a chicken suit implies that your subconscious is calling\\nyou a chicken. You are lacking confidence in yourself.\\nChickens\\nTo\\nsee chickens in your dream symbolize cowardliness and a lack of willpower. The\\ndream may be a pun on being a chicken or chickening out of some situation.\\nChickens also represent excessive chatter and gossip. Listen closely to what\\npeople may be saying about you or what you are saying about others.\\xa0\\xa0\\xa0\\xa0\\nTo\\xa0see\\na rubber chicken in your dream indicates that you are being too serious and need\\nto lighten up. It is okay to be silly sometimes.\\nTo\\ndream that you are eating chicken implies fear. You are being a\\n\"chicken\". In particular, if you are eating fried chicken, then it\\nrefers to some unhealthy aspect that you need to cut from your life. Perhaps you\\nare being too overindulgent. If you are eating raw chicken in your dream, then it indicates that you are feeling unprepared about\\nsome situation. You are having difficulties achieving your goals.\\xa0\\nChief\\nTo\\nsee a police chief in your dream indicates that you need to take accountability\\nfor your actions. There is a higher authority that you need to answer to.\\nAlternatively, a police chief symbolizes a father figure in your waking life.\\nYour attitude or impression of the chief is a reflection of your waking\\nrelationship with this father figure.\\xa0\\xa0\\nChiffon\\nTo\\nsee or wear chiffon in your dream represents your feminine and delicate side. It\\nmay also point to your vulnerabilities.\\xa0\\nChihuahua\\nTo\\nsee a Chihuahua in your dream represents someone around you who is unexpectedly\\nvocal. It may also represent someone who is insecure. Alternatively, the dream\\nmay refer to a situation or relationship where the bark is larger than the bite.\\xa0\\nChild\\nTo\\ndream that you are a small child again suggests that you are feeling the burdens\\nof adulthood. You are trying to escape from your daily responsibility and are\\nlooking for someone else to shield, protect and care for you.\\nTo\\ndream that you lose a child represents losing hope. It may also suggest that a\\nproject is not working out as you had wanted it to.\\nTo\\nsave a child in your dream signifies your attempts to save a part of yourself\\nfrom being destroyed. If you dream that you are separated from your children,\\nthen it symbolizes failure in some personal endeavor or a setback in some ideal\\nyou had.\\nTo\\nsee a child fall down in your dream denotes lost innocence.\\nChildhood\\nTo\\ndream of your childhood indicates your wish to return to a life where you had\\nlittle responsibility and worries. It also represents innocence.\\xa0 Alternatively, it suggests that certain aspects of your childhood has not yet\\nbeen integrated into your adult personality.\\xa0 On the other hand, some\\nchildhood anxiety has yet to be resolved in your adult life.\\nChildren\\nTo\\nsee children in your dream signify an aspect of yourself and your childlike\\nqualities. You may be retreating back to a childlike state and longing for the\\npast. You are trying to still satisfy repressed desires and unfulfilled hopes.\\nPerhaps there is something that you need to see grow and nurture. Take some time\\noff and cater to the inner child within. Alternatively, the dream may be\\nhighlighting your innocence, purity, simplicity, and carefree attitude. If you\\nare fighting with children, then it implies that you are repressing your inner\\nchild. The children could represent someone in your waking life (coworker, mate,\\nsibling, etc.) who is acting like a child. If you see children fighting in your\\ndream, then it means that your sense of morality and character are in conflict.\\xa0\\nTo\\nforget about your child or children suggests that you are feeling overwhelmed by\\nyour waking responsibilities. The dream is telling you that you are overly\\nfixating on minor details and overlooking the important things on your life. You\\nneed to re-prioritize your time and focus on what matters. To dream that your\\nown grown children are still very young indicates that you still see them as\\nyoung and dependent. You want to feel needed and significant.\\xa0To dream that\\nyou have more children that you actually have in real life means that you are\\ndiscovering old talents or skills that you have been casting aside.\\xa0\\nTo\\ndream that you are watching children but they do not know you are there is a\\nmetaphor for some hidden knowledge or some latent talent which you have failed\\nto recognize.\\nTo\\nsave a child in your dream signifies your attempts to save a part of yourself\\nfrom being destroyed. If you dream that you are separated from your children,\\nthen it symbolizes failure in some personal endeavor or a setback in some ideal\\nyou had.\\xa0\\nTo\\nsee children being abused in your dream implies that you are lacking a voice for\\nyour own inner child. You feel that a part of your own childhood is lost.\\xa0\\nChili\\nTo\\nsee or eat chili in your dream symbolizes intense passion and raw emotion. The\\ndream may also be a metaphor for being \"chilly\".\\nChills\\nTo\\nget the chills in your dream signify fear. Alternatively, it represents your\\nindifference to some situation or person. The dream may be an actual physical\\nreaction; perhaps the blankets have fallen off of you. Or the dream may be a\\nmetaphor indicating that you need to \"chill out\" or calm down.\\nChimera\\nTo\\nsee a chimera in your dream represents a feeling of confusion. You need to sort\\nout your thoughts and emotions.\\nChimes\\nTo\\nhear chimes in your dream symbolize tranquility. Alternatively, it means that\\nthere is something that you need to pay special attention to.\\xa0\\nChimney\\nTo\\nsee a chimney in your dream represents warmth, tradition, and family values.\\xa0\\nAlternatively, a chimney symbolizes the phallus. So if the chimney is smoking,\\nthen it represents sexual release. If it is not smoking, then it signifies\\nsexual tension or your need for sexual release. If the chimney collapses, then\\nit implies impotence.\\nTo\\ndream that you are sweeping the chimney indicates your need to vent off your\\nfrustrations and get things out in the open. You need to release all that\\nnegativity and/or guilt that you are holding in.\\nChimpanzee\\nTo\\nsee a chimpanzee in your dream suggests that what you thought was true is\\nactually not. You are over-thinking an issue.\\nChin\\nTo\\nnotice your chin in your dream refers to your resilience and your ability to\\nbounce back from adversity. The chin often symbolizes character, strength, and\\nresolve. Perhaps you need to \"keep your chin up\" and remain\\noptimistic.\\nChinchilla\\nTo\\nsee a chinchilla in your dream indicates that you are feeling emotionally\\ncontent or satisfied. It is also symbolic of warmth. Alternatively, dreaming of\\na chinchilla suggests that you are high maintenance and in need of a lot of\\nattention. Because chinchillas are desired because of their ultra soft fur, the\\ndream may also reflect your stance on the fur industry.\\nChipmunk\\nTo\\nsee a chipmunk in your dream suggests that you are holding on to the past and\\nneed to learn to let go.\\xa0\\nChiropractor\\nTo\\nsee a chiropractor in your dream suggests that you are seeking support and\\nadvice. Don\\'t be afraid to ask for help when you need it; it is not a sign of\\nweakness.\\n\\n\\nChisel\\n\\n\\nTo\\nsee or use a chisel in your dream indicates that you need to forcibly break\\nthrough the surface or barrier in order to get to the core of the situation or\\nproblem.\\nChives\\nTo\\nsee or eat chives in your dream suggest that you get along well with others.\\xa0\\nThe dream symbolizes harmony and balance.\\nChlamydia\\nTo\\ndream that you have chlamydia points to your negative attitude about sex. The\\ndream may also be a warning that you need to practice safer sex.\\nChocolate\\nTo\\nsee chocolate in your dream signifies love, celebration and self-reward. It also\\nsuggests that you may be indulging in too many excesses and need to practice\\nsome\\xa0restraint.\\nTo\\neat chocolate in your dream indicates that you are embracing your own\\nsensuality.\\nIf\\nyou dream that chocolate is melting, then it implies disappointments that you\\nare experiencing in your waking life. Alternatively, dreaming of melted chocolate\\nmeans that you need to adapt to some change.\\nChocolate\\nMilk\\nTo\\nsee or drink chocolate milk in your dream means that you are feeling good about\\nlife.\\xa0\\nChoir\\nTo\\ndream that you are singing in a choir symbolizes spiritual harmony and balance.\\nIt also refers to your ability to work and cooperate with others. If you are\\nsinging out of tune, then it suggests that you are not fitting into some group\\nsituation.\\xa0\\nChoker\\nTo\\nsee or wear a choker in your dream\\xa0indicates that you are having\\ndifficulties in expressing yourself. You maybe feeling constricted or voiceless\\nin some waking situation.\\nChoking\\nChoking\\ndreams are often a fearful experience and it is not uncommon for dreamers to\\nawaken from them. To dream that you are choking on an object suggests that you\\nmay find some advice/remarks/situation hard to swallow or difficult to accept.\\nAlternatively, you may feel that you are unable to completely express yourself\\nin a situation. In particular, if you are choking on food, then it may be an\\nexpression of self-guilt and unnurtured feelings. If you are choking on smoke,\\nthen it indicates something you are unwilling to confront.\\nTo\\ndream that someone is choking you indicates that you are suppressing your\\nemotions. You have difficulties in expressing your fears, anger, or love.\\nConsider the phrase \"being all choked up\". Alternatively, you may feel\\nthat you are being prevented or restricted from freely expressing yourself.\\nTo\\ndream that you are choking someone signifies feelings of aggression. You may be\\ntrying to prevent something from being said or revealed.\\nChopping\\nTo\\ndream that you are chopping something indicates that you are trying to cut your\\nproblems into smaller, more manageable sizes. You need to break up the issues\\nand attack them piece by piece. Consider also the significance of the object\\nthat you are chopping. Alternatively, the dream may be a metaphor for having the\\nchops or the guts and fortitude to do something.\\nChopping\\nBoard\\nTo\\nsee or use a chopping board or chopping block in your dream means that you need\\nto take a risk or a stand. Be more decisive. Consider the idiom of \"being\\non the chopping block.\" Perhaps you are at risk of losing your job or being\\nlet go fo some commitment. Your performance is being scrutinized and questioned.\\nChopsticks\\nTo\\nsee or use chopsticks in your dream indicates that you are trying to manipulate\\nsome situation. Alternatively, it represents an extension of your reach.\\xa0\\nIf\\nyou are using chopsticks for its unintended function, then it suggest that you\\nare in a sticky situation.\\nChoreographer\\nTo\\xa0dream\\nthat you are a choreographer represents freedom of expression. You feel\\nunconstrained, unrestricted, and in charge of the direction that your life is\\ntaking. Your life is balanced and in harmony.\\xa0\\nChores\\n*\\nPlease See Housework.\\n\\nChow\\nChow\\n\\n\\nTo\\nsee a chow chow in your dream highlights an unwavering loyalty. You are also a\\nlittle overly protective.\\xa0\\nChrist\\nTo\\nsee Christ in your dream represents perfection of the self and spiritual truth.\\nYou need to achieve self-fulfillment through love. This symbol has many personal\\nassociations for you, depending on your belief.\\nChristening\\nTo\\ndream of a christening symbolizes a renewal and fresh beginning. You may be\\nundergoing a transformation where you want to better yourself as a person.\\nChristian\\nTo\\ndream of Christianity relates to your own personal beliefs and religious\\nexperiences. It is a sign of inner growth and development of the Self.\\nAlternatively, it may refer to a person in your life whose name is Christian.\\nChristmas\\nTo\\ndream of Christmas symbolizes family togetherness,\\xa0reunions, celebration,\\npeace, goodwill, generosity, and human kindness. It is also representative of\\nnew beginnings and fresh starts. Consider also your own associations with this\\nholiday.\\xa0\\nChristmas\\nCard\\nTo\\nsee or send a Christmas Card in your dream indicates that you are reaching out\\nto loved ones and reconnecting with old ties. It is also symbolic of\\nforgiveness. Time to swallow your pride and let the past go.\\nChristmas\\nLights\\nTo\\nsee or hang Christmas lights in your dream implies flexibility in how you see\\nthings.\\nChristmas\\nTree\\nTo\\nsee a Christmas Tree in your dream symbolizes family celebrations, gatherings,\\nand familial relationships. You may be experiencing some anxieties and stress in\\nyour domestic life. It also signifies a passage of time, self-development, and\\nspiritual enlightenment.\\xa0Consider also the feelings and emotions you\\nexperience during this holiday season to help you decipher this dream symbol.\\nIf\\nyour dream of a Christmas Tree occurs in December, it may indicate the expected\\npleasures, demanding responsibilities, and growing anxieties associated with the\\nholiday season.\\nChrome\\nTo\\nsee chrome in your dream suggests that you will experience a surge in energy and\\nvitality. It is time to share your new ideas.\\nChrysalis\\n*Please\\nsee Cocoon.\\nChrysanthemums\\nTo\\nsee chrysanthemums in your dream represent abundance, prosperity, humility,\\nlongevity, and gratitude. Alternatively, it may suggest that you need to keep\\nsilent about some situation.\\nChurch\\nTo\\nsee the outside of the church in your dream signifies sacredness and spiritual\\nnourishment. It is representative of your value system and the things you hold\\nsacred.\\xa0\\nTo\\ndream that you are inside a church suggests that you are seeking for spiritual\\nenlightenment and guidance. You are looking to be uplifted in some way. Perhaps\\nyou have made some past mistakes which have set you back on your path toward\\nyour goals. With proper support, you will get on the right track again.\\nAlternatively, the dream may also mean that you are questioning and debating\\nyour life path and where it is leading. You are reevaluating what you want to\\ndo.\\nDreaming\\nof a church bombing implies that you are not catering to your spiritual needs.\\nAlternatively, to see or read about a church being bombed indicates that you are\\nrejecting an aspect of yourself. You are harboring feelings of hostility.\\nChurning\\nTo\\ndream that you are churning something indicates disorder and chaos. You need to\\ndirect your energies to more worthwhile endeavors.\\nChurro\\nTo\\nsee or eat a churro in your dream refers to life\\'s sweet rewards. Sometimes you\\nneed to take a break from your daily problems. Alternatively, a churro may\\nrepresent the phallus.\\nCicadas\\n*Please\\nsee Locusts.\\nCigar\\nTo\\nsee or dream that you are smoking a cigar represents a relaxed state of mind.\\nYou are in control of your own emotions and passions. According to Freud, a\\ncigar is a phallic symbol and is representative of masculinity and raw energy. This dream symbol may also serve as a symbol for someone you\\nknow who smokes cigars.\\nTo\\nsee dried or shriveled cigars may be a pun on your lack of a sex life.\\nCigarettes\\nTo\\ndream that you are smoking or offering a cigarette signifies your need for a\\nbreak. It may also points to issues of\\xa0dependency . However if you are\\nagainst smoking and have this dream, you need to analyze aspects of your waking\\nlife and what you are doing that may adversely affect your health.\\nCilantro\\nTo\\nsee or eat cilantro in your dream represents immortality.\\n      Cincher\\n      To\\n      wear a body cincher or waist trainer in your dream implies that you are trying\\n      to fit in. You are changing aspects of yourself in order to fit other\\n      people\\'s ideals.\\xa0\\nCinderella\\nTo\\nsee or watch Cinderella in your dream indicates that a seemingly bad situation\\nwill work out for the best in the end. There is such thing as \"happily ever\\nafter\".\\xa0\\nTo\\ndream that you are Cinderella suggests that you are feeling overburdened. You\\nare taking on too much. Alternatively, the dream means that you are feeling\\novershadowed, overlooked or neglected. You are not being recognized for your\\nwork.\\nCinnamon\\nTo\\nsee or smell cinnamon in your dream suggests that you need to introduce a little\\nspice into your life. You need to do something that is out of your character.\\xa0Alternatively,\\nthe dream signifies renewal and purification.\\nCinnamon\\nBun\\nTo\\nsee or eat a cinnamon bun in your dream represents the Self, wholeness, and\\ncompletion. Alternatively, it symbolizes the sweeter things in life.\\xa0\\xa0\\nCinema\\n*Please\\nsee Theater.\\nCircle\\nTo\\nsee a circle in your dream symbolizes perfection, completeness, immortality\\nand/or wholeness.\\xa0 On a less positive note,\\xa0 it may also mean that you\\nare going around in circles in some situation. Or the circle can indicate\\nmonotony and endless repetition.\\xa0\\nTo\\nsee circles within circles in your dream indicate that you are well protected or\\nthat you are being overly guarded. You may need to let down your defenses.\\nAlternatively, the dream may highlight the notion that you are going around in a\\nvicious circle. You need to somehow find a way to break this circle.\\xa0\\nTo\\nsee an imperfect or incomplete circle in your dream suggests that you will face\\nmany obstacles and setbacks toward achieving your goals. You need to work on\\nyour inner self and develop more knowledge. Eventually, you will overcome these\\nobstacles and find that your struggles are well worth it.\\nTo\\nsee a circle with a cross symbolizes earth. It may also serve as guidance toward\\nthe center and self-orientation.\\nCircuit\\nBoard\\nTo see a circuit\\nboard in your dream refers to the steps and processes that need to be\\ncompleted in order to produce a desired outcome. Some project that you are\\nworking on requires cohesive action. Alternatively, a circuit board is symbolic of\\nsomething in your life that is keeping everything or everyone together.\\nCircuit\\nBreaker\\nTo\\nsee or trigger a circuit breaker in your dream suggests that you are overloaded\\nand overwhelmed. You are no longer functioning efficiently or properly. The\\ndream may be metaphor telling you to take a break.\\xa0Learn to prioritize and\\nreorganize your tasks.\\nCircumcise\\nTo\\ndream that you are being circumcised suggests that you are getting rid of an\\nessential part of yourself. Alternatively, it may mean that you are regressing\\nand cutting yourself off from feeling emotions.\\nCircus\\nTo\\ndream that you are at the circus indicates your desires for a more exciting\\nlife. Alternatively, it suggests that you are easily influenced or lured into\\ndangerous situations. Sometimes you are giving off the wrong impression to\\nothers. Consider the significance of the various acts you see in your dream.\\nTo\\ndream that the circus is abandoned or empty suggests that you are feeling\\nexcluded in some situation. You are feeling lonely.\\nTo\\ndream that there is chaos at the circus signifies that your life is out of\\ncontrol.\\nCitation\\nTo\\ndream that you get a citation suggests that you need to reevaluate how you are\\ngoing about your life as it might get you into trouble.\\n\\nCitizenship\\n\\n\\nTo\\ndream about your citizenship refers to your sense of belonging and pride. If you\\ndream that you are not a citizen, then it means that you are feeling lost or\\nrejected.\\nCitrine\\nTo\\nsee a citrine gemstone in your dream represents strength and personal power. You\\nneed to have more willpower and motivation in pursuing your goals.\\xa0\\xa0\\nCity\\nTo\\nsee a city in your dream signifies your social environment and sense of\\ncommunity. If you dream of a big city, then it suggests that you need to develop\\ncloser ties and relationships. You are feeling alienated and alone. To dream\\nthat you are in a deserted city indicates that you feel rejected\\xa0 by those\\naround you.\\nTo\\ndream of a city in ruins denotes that you are neglecting your social\\nrelationships and allowing them to deteriorate.\\nTo\\ndream of an underground or underwater city represents your subconscious and how\\nthrough deeper understanding of yourself, you find commonality and shared\\nexperiences with others.\\nDreaming\\nof a city in the sky implies that you are being too idealistic. You have overly\\nhigh hopes for those around you.\\xa0\\xa0\\nCity\\nHall\\nTo\\nsee or dream that you are in City Hall indicates that you are experiencing a\\nlack of support or power. You feel that you are being bullied or dominated by\\nsome powerful source.\\n      Civil\\n      Rights Movement\\n      To\\n      dream about the 60\\'s civil rights movement\\xa0 in the United Sates\\n      suggests that you may be feeling superior over others. Perhaps your ego is\\n      getting out of hand. More directly, the dream may be about how you are\\n      being unfairly treated in some waking situation. Or the dream is a call to\\n      action; you can make a change.\\nCladdagh\\nTo\\nsee a claddagh in your dream symbolizes love loyalty and friendship. In\\nparticular, to give or wear a claddagh ring in your dream signifies your\\ncommitments and convictions when it comes to love loyalty and friendship.\\nClairvoyant\\nTo\\ndream that you are clairvoyant suggests that you are experiencing total clarity\\nin a situation or problem. You are feeling peace of mind.\\xa0\\nClam\\nTo\\nsee or eat a clam in your dream refers to your stubbornness and tenacity. If the\\nclam is closed, then it suggests that you are emotionally cold or withdrawn. You are\\nshutting others out and not letting them in on your problems and feelings.\\nClamp\\nTo\\nclamp something in your dream indicates that you need to hold it together,\\nespecially when others are prone to losing control.\\nClap\\nTo\\ndream that you clap your hands means that you are seeking attention. You want\\nthe focus to be on you. Alternatively, a clap signifies hesitation in expressing\\nhow you really feel.\\xa0\\nTo\\nhear a clap in your dream implies that there is something you need to pay close\\nattention to.\\n*Please\\nSee Also Applause\\n\\nClapperboard\\n\\n\\n      To\\n      see or use a clapperboard in your dream symbolizes your quest for fame and\\n      glamour. Alternatively, the dream refers to the many chances and\\n      opportunities that you come across in life.\\nClarinet\\nTo\\nsee or play a clarinet in your dream suggests that you need to adjust your tone\\nof voice.\\xa0\\nClass\\nTo\\ndream that you are in class is a metaphor that you need to have more class.\\nTo\\ndream that you forget to attend a class you signed up for indicates your\\nanxieties and fear of failing. You may also be lacking self-confidence in your\\nability to handle new responsibilities or projects.\\xa0\\n    Classic\\n    Car\\n    To\\n    see or drive a classic car in your dream signifies longevity and long term\\n    goals. You have come a long way from where you first started.\\nClassmates\\nTo\\nsee old classmates in your dream indicate that you need to draw on your old\\nassociations with your former classmates to gain insight in some current\\nrelationship. It represents a past lesson that you have learned and is\\napplicable in some aspect of your waking life now.\\nClassroom\\nTo\\ndream that you are in a classroom indicates that you are learning an important\\nlife lesson. Alternatively, it symbolizes personal growth. You are learning\\nsomething about yourself.\\xa0\\nTo\\ndream that you are looking for a classroom suggests that you need to expand your\\nknowledge and learning.\\xa0\\nTo dream that\\na classroom is outdoors indicates that you need to learn to be more free and\\nopen. Learn to adapt to various situations.\\xa0\\nClaustrophobia\\nTo\\ndream that you have claustrophobia suggests feeling of self-guilt. You fear that\\nyou will be punished for your past\\'s actions.\\n    Claw\\n    Machine\\n    To\\n    see or play with a claw machine or claw crane in your dream points to\\n    something in your waking life that is within reach, but continues to escape\\n    your grasp.\\nClaws\\nTo\\nsee claws in your dream signify feelings of vulnerability and/or hostility. You\\nfeel a need to defend or protect yourself or your surroundings. You also need to\\nbe careful with your words and actions.\\nClay\\nTo\\nsee or work with clay in your dream represents creativity, flexibility and the\\nability to shape your mind or mold yourself to fit into a situation. It may also\\nmean that you are able to manipulate things to your advantage.\\xa0 Alternatively, it indicates your need to set some goals and plans for yourself.\\nYou have some growing up to do and need to plan for the future. According to\\nFreudian perspective, clay symbolizes feces.\\xa0\\nTo\\nsee a clay pot in your dream signifies devotion, virtue or purity. The clay pot\\nis also a healing symbol.\\n    Clean\\n    Shaven\\n    If\\n    someone normally has facial hair, but you dream that he is clean shaven,\\n    then it means that he is ready to come clean about something. He is ready to\\n    be open and direct about his feelings or thoughts.\\nCleaners\\nTo\\ndream that you are at the cleaners warns that someone may be \"taking you to\\nthe cleaners.\"\\xa0 Someone may be taking advantage of your.\\xa0 Alternatively, you may need to clear up a matter without getting overly\\nemotional.\\nCleaning\\nTo\\ndream that you are cleaning implies that you are removing some negativity in\\nyour life and overcoming major obstacles. You are moving ahead toward a new\\nstage in your life. In particular, if you are cleaning your house, then it means\\nthat you need to clear out your thoughts and get rid of your old ways and\\nhabits. You are seeking self-improvement.\\xa0Alternatively, the dream may be a\\nmetaphor that you need to \"come clean\" or tell the whole truth about\\nsome situation or matter.\\nTo\\ndream that you are cleaning an object represents an aspect of yourself that is\\nnot working or functioning as well as it should. If you are cleaning the\\nrefrigerator or oven, then it indicates that you are getting to root of a matter\\nor situation. It may also indicate feeling so negativity and inferiority. You\\nfeel stuck in some area of your life.\\nTo\\ndream that you are cleaning out a desk suggests that you are getting rid of the\\nburdens that has been weighing you down. You are acknowledging your new choices,\\ndecisions, and a new sense of freedom. \\xa0\\nClearance\\nTo\\ndream that something is on clearance suggests that you are selling yourself\\nshort. You may be feeling undervalued or under appreciated. Alternatively, it\\nindicates an old habit or characteristic that you need to clear out and rid\\nyourself of.\\xa0\\nCleaver\\nTo\\nsee or use a cleaver in your dream indicates that there is something in your\\nlife that you need to cut out and get rid of. Perhaps you are trying to break\\noff some relationship or sever your ties with your work. Alternatively, a\\ncleaver symbolizes anger, aggression and fear. It could also be telling you to\\nbreak your problems up into smaller conquerable chunks.\\n    Clef\\n    To\\n    see a clef in your dream symbolizes harmony and cooperation. It is also\\n    reflective of your mood where a treble clef indicates joy and a carefree\\n    attitude and a bass clef indicates sadness or seriousness.\\nCleopatra\\nTo\\nsee Cleopatra in your dream indicates that you are in danger of being seduced by\\nsome uncontrollable force.\\nTo\\ndream that you are Cleopatra suggests that you are acknowledging your own beauty\\nand sexual appeal.\\nClergyman\\n**Please\\nsee Preacher.\\nClient\\nTo\\nsee a client in your dream refers to your position of power. Consider the\\nposition that you are in and the significance of the services that you are\\nproviding. If you dream that you are a client, then it means that you are\\nlooking for some sort of approval and validation of your ideas.\\nCliff\\nTo\\ndream that you are standing at the edge of a cliff indicates that you have\\nreached an increased level of understanding, new awareness, and a fresh point of\\nview. You have reached a critical point in your life and cannot risk losing\\ncontrol. Alternatively, it suggests that you are pondering a life-altering\\ndecision.\\nTo\\ndream that you or someone falls off a cliff suggests that you are going through\\na difficult time and are afraid of what is ahead for you. You fear that you may\\nnot be up for the challenge or that you cannot meet the expectations of others.\\xa0\\nTo\\ndream that you are climbing to the top of a cliff symbolizes your ambition and\\ndrive. The dream may parallel your desires to achieve success and to be the at\\nthe top of your profession. It is analogous to climbing the corporate ladder.\\xa0\\nClimate\\n*Please\\nSee Weather.\\nClimb\\nTo\\ndream that you are climbing up something (ladder, rope, etc.) signifies that you\\nare trying to or you have overcome a great struggle. It also suggests that your\\ngoals are finally within reach. Climbing also means that you have risen to a\\nlevel of prominence within the social or economic sphere.\\nTo\\ndream that you are climbing down something\\xa0 indicates that you need to acknowledge and take notice of your\\nsubconscious.\\xa0\\nYou are expressing some hesitance and reservation with delving into your more\\nnegative feelings. Alternatively, it suggests that you may be feeling low or\\nemotionally drained.\\nClinic\\nTo\\ndream that you are in a clinic implies that you need to work on your spiritual,\\nemotional and/or physical well-being. Consider the significance of what you are\\ngetting checked at the clinic.\\nClipboard\\nTo\\nsee or use a clipboard in your dream suggests that you are under scrutiny. You\\nfeel that you are being judged or criticized for your choices and actions.\\nAlternatively, the dream may mean that your opinions and views are valued by\\nothers.\\nCloak\\nTo\\ndream that you are wearing a cloak signifies the need for security and warmth.\\nYou want to be protected. It may also mean that you are trying to cover-up or\\nhide something.\\nIf\\nsee a torn or ragged cloak in your dream signifies a separation between you and\\na friend or lover.\\nClock\\nTo\\nsee a clock in your dream signifies the importance of time in some waking\\nsituation. You may be feeling some anxiety of not being on top of things. Your\\nmind may be preoccupied with a deadline that you have to meet or some other\\ntime-sensitive issue. It is time for you to tread on and speed up your actions.\\nIf the clock is chiming, then it suggests that time is running out. Alternatively,\\nclocks symbolize the ticking of the human heart and thus is indicative of the\\nemotional side of your life.\\xa0If the clock has stopped, then it signifies\\ndeath. This is a common theme for the terminally ill or the dying. Consider the\\ntime shown on the clock and determine the significance of the numerals or of the\\ntime. \\xa0\\nTo\\ndream that the time on a clock is moving or speeding out of control symbolizes\\nsome overwhelming task or emotion that you are going through in your waking\\nlife. Time is not on your side.\\nTo\\ndream that a clock is moving backwards parallels the way that your life is\\ngoing. Instead of moving forward and progressing toward your goals, you feel\\nthat you have not made any significant accomplishments. You feel you are stuck\\nin a rut.\\nTo\\ndream that you are winding or setting a clock suggests that you need to put more\\neffort toward a task in order to obtain the desired result or outcome.\\nClock\\nTower\\nTo\\nsee a clock tower in your dream indicates that you will be recognized for your\\nwork.\\nClogged\\nTo\\ndream that the drain is clogged up indicates that you need to remove some\\nobstacle or blockage that is hindering your progress.\\nClogs\\nTo\\nwear clogs in your dream signify your firm and solid foundation. The dream may\\nalso be a pun on feeling clogged. Perhaps you are feeling overloaded or\\noverwhelmed. On the other hand, you are not expressing your feelings and harbor\\nsome pent up anger.\\nTo\\ndream that you are clogging or clog dancing signifies the beat and rhythm of\\nyour life. You are expressing your enthusiasm and zest for life.\\nClone\\nTo\\ndream that you have a clone suggests that you are either in harmony with or in\\nconflict between ideas and decisions. Alternatively, the dream indicates that\\nyou are overburdened. You are spread to thin and feel that you need to clone\\nyourself in order to get what you need to get done.\\nTo\\ndream that you have many clones represent your lack of originality. You have a\\ntendency to copy other\\'s ideas/beliefs. You need to start thinking things\\nthrough for yourself.\\xa0\\nClosed\\nTo\\ndream that a door is closed represents an aspect of your life or an opportunity\\nthat is closed off to you. It may also refer to sexual secrets or activities.\\nTo\\ndream that the store is closed signifies your inability to consider other\\nalternatives and other viewpoints.\\xa0 You may be biased in your judgment and\\nopinion. Alternatively, it also represents feelings of inadequacy and\\nfrustration. Something is missing from your life.\\nCloset\\nTo\\nsee a closet in your dream symbolizes something in your life that you have kept\\nhidden. It may also signify an unveiling of previously hidden aspects of\\nyourself, as in \"coming out of the closet\".\\nDreaming\\nthat you are hiding in the closet implies that you are trying to protect\\nyourself from getting hurt, either emotionally or even physically. You are\\nafraid of letting others get to know the real you.\\nCloth\\nTo\\nsee cloth in your dream represents components and various pieces that composes\\nyour life. Consider the color for additional significance. It may hint of your\\noutlook and how things are going in your life.\\nClothesline\\nTo\\ndream that you are hanging clothing on a clothesline suggests that you are\\nrevealing hidden aspects of yourself, especially if they are underwear. The\\ndream may also signify your hang-ups. In particular, if you are hanging white\\nclothes in the backyard, then it indicates your desire for pureness and to be\\ncleansed. You may also be proclaiming your innocence in some situation. Or\\nperhaps the dream is telling you not to \"air out your dirty laundry.\"\\nClothing\\nTo\\ndream of your clothes is symbolic of your public self and\\xa0how you are\\nperceived. It is indicative of the act you put on in front of others. Clothes\\nare also an indication of your condition and status in life.\\xa0 Thus, if you\\nwear clothes that do not suit you or that you normally would not wear, then it\\nsuggests that you are putting up a front and trying to deceive others. Something\\nin your life is \"unsuitable\". It may be a symbol of hypocrisy and\\nbeing someone that you are not. Alternatively, it could also mean that you are\\nrevealing a hidden part of yourself to the world.\\nTo\\ndream that your clothes are soiled and you are trying to clean them signifies\\nyour attempts to change something about your character. You may need to change\\nyour old habits and old ways of thinking.\\nTo\\ndream that you are wearing brand new clothes signifies new attitudes and a new\\npersona.\\xa0 You are finding a different way of expressing yourself. If the\\nprice tags are still attached to the clothes, then it suggests that you are\\ntrying too hard to adapt to this new attitude. Perhaps it is not who you really\\nare and you are not quite fitting in.\\nTo\\ndream that you are constantly changing your clothes represents the need for\\nchange and your need to fit into a new situation or role. You need to establish\\na new self-image.\\nTo\\ndream that your clothes fit too tightly denote that you feel restricted in some\\nway. You may feel constrained in a relationship or held back at work.\\xa0\\nTo\\ndream that your clothes fit too loosely or is oversized implies that you are\\nfeeling inadequate. You may also be suffering from low self esteem. In a way,\\nyou are trying to hide from the world.\\n\\xa0If\\nyou are wearing inappropriate clothes for a situation, then it means that you\\nare unprepared for the task at hand.\\xa0\\nTo\\ndream that your clothing is torn or ripped indicates that there are some flaws\\nin your thinking or thought process. Your logic is not making sense. You need to\\nalter your reasoning and make a stronger argument.\\xa0\\nTo\\ndream that you are shopping for or buying clothes represents your anxieties\\nabout trying to fit in or being \"well-suited\" for your changing role.\\xa0\\nIf\\nyou dream of receiving clothing or of someone giving you clothing means that you\\nare trying to fit the image of what someone wants you to be.\\nTo\\ndream that all your clothes in the closet are\\nwhite suggests that you need to lighten up. You may have recently been feeling a\\nlittle depressed. Perhaps you are going through some crisis. It is time\\xa0 to\\nmove on. and change your attitude. You need to better get a\\xa0 grip of your\\ninner emotions.\\xa0\\nTo\\ndream that you are wearing only black clothes refer to your desires to blend in.\\nYou may be representing your shadow persona and expressing your subconscious thoughts. If you normally wear black clothes in your waking life, then the dream\\nmay simply be a reflection of yourself.\\xa0\\xa0\\nTo\\ndream that your clothes are worn inside out represents your non-conformist\\nattitude. You like to go against what everybody else says.\\xa0If you turn your\\nclothes inside out in your dream, then it suggests that you are trying to\\nprotect yourself against something. You don\\'t want to get hurt.\\xa0\\nTo\\ndream that every one else is wearing the exact same clothes except for you\\nimplies that you are feeling like an outsider in some situation. You feel that\\nothers are against you or that you are standing out of a crowd in a negative\\nway. Alternatively, the dream means that you are the voice of dissension and are\\ngoing against the popular opinion.\\xa0\\n    Dreaming\\n      that you are pulling clothes out of a lake or river symbolizes cleansing\\n      of past sins.\\xa0It\\n    may also mean that you are shedding your old identity.\\n    Clothing\\n    Store\\n    To\\n      dream that you are in a clothing store means that you are looking for a\\n      new image. You want to be perceived in a different way. Alternatively,\\n    dreaming that you are in a clothing store indicates that you are\\n    experiencing anxieties about fitting in or being suited for some position or\\n    role.\\nClothes\\nHanger\\n*Please\\nsee Hanger.\\nClothespin\\nTo\\nsee a clothespin in your dream indicates that you are trying to control what is\\nbeing revealed about yourself and your character. You are trying to get a firmer\\ngrasp on your public self.\\nTo\\ndream that you are pinching your nose with a clothespin suggests that you are\\nabove the situation at hand. The situation does not deserve your time or\\nattention.\\nClouds\\nTo\\nsee fluffy, white clouds in your dream signify inner peace, spiritual harmony\\nand compassion. An\\xa0 issue in your waking life may be clearing up.\\nTo\\nsee dark or stormy clouds in your dream symbolize depression or anger. It\\nindicates an impending eruption of emotions. Alternatively, it represents a lack\\nof wisdom or confusion in some situation. Thus, the dream may be a metaphor for\\nyour \"clouded\" way of thinking.\\nClover\\nTo\\nsee a three-leaf clover in your dream symbolizes the past, present, and future.\\nTo\\nsee a four-leaf clover in your dream represents good luck and happiness. The\\nfour leaves symbolize fame, wealth, good health, and love.\\nAlternatively, the dream suggests that you have successfully come to a\\nresolution of some problem.\\nTo\\nsee a field of white clovers means that opportunities are just out of your\\nreach.\\xa0\\nCloves\\nTo\\nsee or taste cloves in your dream represent love protection and domestic bliss.\\nClown\\nTo\\nsee a clown in you dream symbolizes absurdity, light-heartedness, and a childish\\nside to your own character. The countenance of the clown is a reflection of your\\nown feelings and emotions. Whether it is a happy clown or a sad clown, that will\\nhelp guide you\\xa0 through how you may be feeling. The actions of the clown\\nsignifies your uninhibited nature. Alternatively, a clown is an indication of\\nyour thoughtless or insincere actions.\\nIf\\nyou have a fear or phobia of clowns, the clown may represent a mysterious person\\nin your life who mean you harm. Somebody you know may not be who they appear to\\nbe.\\xa0Or somebody may be pretending to be somebody they are not and are\\nhiding under a facade.\\xa0\\n*Please\\nsee also Jester.\\nClub\\nTo\\nsee a club in your dream denotes feelings of aggression or submission depending\\nif the club is used by or against you. You may have some unexpressed anger that\\nis on the verge of boiling over. It is also symbolic of virility and\\ncombativeness.\\nTo\\ndream that you are in a night club or dance club represents the social aspects\\nof your life and your sense of belonging.\\xa0 The dream could be a commentary\\non your lifestyle. Perhaps you need to settle down a little.\\nTo\\nsee the clubs of a deck of card in your dream indicate work and industry.\\nClubbing\\nTo\\ndream that you are clubbing\\xa0 represents your sense of belonging. More\\ndirectly, the dream suggests your need to relax and let loose or that you need\\nto settle down a little.\\n  Clue\\n  To\\n  dream that you find a clue represents some information or some thing is coming\\n  into your consciousness. The dream is also a sign that you need to be more\\n  aware of your surroundings.\\nClumsy\\nTo\\ndream that you or someone is clumsy suggests that some situation or relationship\\nis not going smoothly in your life. You need to take it easy and not be too hard\\non yourself.\\nClutter\\nTo\\nsee clutter in your dream indicates that you need to clean up and organize a\\ncertain aspect of your life. The dream could be telling you that you need to let\\ngo of the past.\\nCoach\\nTo\\nsee or dream that you are a coach indicates that you need to be more\\nself-disciplined.\\xa0\\nCoal\\nTo\\nsee a coal in your dream represents wealth and prosperity. It also points to\\nyour unused potential. Alternatively, it indicates that you have been\\nmisbehaving and have been caught in the act.\\nTo\\ndream that you or someone is walking on coals indicates that you will overcome\\nadversity. Nothing is impossible if you put your mind to it.\\nCoast\\nTo\\nsee the coast in your dream suggests that you are on a spiritual quest. The\\ncoast symbolizes the meeting between your two states of mind - the rational and\\nthe irrational. Alternatively, the dream may be a metaphor of how you are\\n\"coasting\". through life. You may need to take things more seriously.\\xa0Or\\nthe dream may be telling you that \"the coast is clear\". You are free\\nto move ahead.\\nCoat\\nTo\\nsee or wear a coat in your dream symbolizes your protectiveness and defensive\\npersona. You may be isolating yourself. Consider also the color, appearance, and\\ntype of coat for additional significance.\\xa0\\nTo\\ndream that a coat is old, worn, or shabby suggests that you are feeling down on\\nyourself.\\xa0\\xa0\\nTo\\nsee or wear a fur coat in your dream symbolizes prosperity and luxury. It also\\nindicates your need for attention and your need to be admired.\\nCoat\\nOf Arms\\nTo\\nsee a coat of arms in your dream represents your familial roots and identity.\\nCobra\\nTo\\nsee a cobra in your dream represents creation and creative energies. Some\\nsituation or relationship has you hypnotized.\\n*Please\\nsee also Snake.\\nCobwebs\\nTo\\nsee cobwebs in your dream suggest that you have not reached your full potential.\\nYour talents are not being utilized. Alternatively, the dream indicates that you\\nare neglecting your responsibilities, talents, or some issue.\\nCocaine\\nTo\\ndream that you are taking cocaine indicates that you are feeling empty and\\ndevoid of emotions.\\xa0 You are looking to get out of your commitments or\\ndenying your responsibilities. You lack ambition. On a more positive note, the\\ndream may be telling you that you need to be more lively and energetic.\\nCock\\nTo\\nsee a cock in your dream symbolizes masculinity, pride, valor, cockiness and\\narrogance. It indicates that you or someone is being a\\nshow-off.\\xa0 You have little or no regards for others.\\xa0The dream may\\nalso be a pun on the penis.\\nTo\\nhear a rooster in your dream signifies bragging and self-glorification.\\n      To\\nsee cocks fighting in your dream indicate an attack on your masculinity.\\nCockatiel\\n      To\\nsee a cockatiel or cockatoo in your dream implies that you tend to wear your emotions of\\nyour face. You are not one to hide your true feelings. Dreaming of a white\\n      cockatoo indicates that you are feeling calm.\\xa0\\nCocker\\nSpaniel\\nTo\\nsee a cocker spaniel in your dream symbolizes your alertness. The appearance of\\na spaniel may mean that you are looking for companionship. You are ready for a\\nrelationship.\\nCockerel\\nTo\\nsee a cockerel in your dream symbolizes male aggression and masculinity. The\\ndream may also be a warning of some kind.\\n      Cockfight\\n      To\\n      watch or participate in a cockfight in your dream implies that you\\n      masculinity or pride is under attack. You feel the need to defend your\\n      masculinity.\\nCockpit\\nTo\\ndream that you are in a cockpit of a plane suggests that you need to take a\\nleadership role and show that you are in control of the situation. You need to\\nprove yourself.\\xa0\\nCockroach\\nTo\\nsee a cockroach in your dream symbolizes uncleanness. It also signifies\\nlongevity, tenacity and renewal. You need to reevaluate major aspects of your\\nlife. Alternatively, the dream represents an\\nundesirable aspect of yourself in which you need to confront.\\xa0 A roach may\\nalso be a pun on smoking marijuana.\\xa0\\nTo\\ndream that two cockroaches are fighting in the kitchen implies that you are\\nundergoing a spiritual conflict. You need to acknowledge and confront the issue\\nin order to complete your transformation and achieve wholeness.\\nTo\\ndream that you have pet cockroaches kept in an aquarium implies that you are\\ntrying to contain your negative attributes.\\nTo\\nsee a white cockroach in your dream with the word \"soap\" on it\\nsymbolizes uncleanness. The dream is telling you that you may be able to physically\\ncleanse yourself, but are unable to cleanse yourself spiritually and/or\\nmentally.\\xa0\\nTo\\ndream that Madagascar hissing cockroaches are coming out of your ears indicate\\nthat someone is trying to provoke you into doing or saying something your might\\nregret. You need to show some restraint before reacting. Alternatively, the\\ndream represents your fear over something you heard.\\n*See\\nthe meaning in action: \"Crawling\\nCockroaches\"\\nCocktails\\nTo\\ndream that you are drinking cocktails indicate your need for some relaxation.\\nYou need to escape and get away from the daily grind and unwind.\\n*Please\\nSee Also Alcohol.\\nCocoa\\nTo\\ndream that you are eating cocoa refers to relaxed state of mind. You are\\nenjoying life.\\nCoconuts\\nTo\\nsee a coconut in your dream foretells of unexpected rewards.\\nCocoon\\nTo\\nsee a cocoon on your dream signifies a place of safety and solitude. It may also\\nrepresent transformation or healing.\\xa0\\nTo\\ndream that you are in a cocoon represents your need to rejuvenate and restore\\nyour body, mind and spirit. You may be recreating new paths of expression and\\nperhaps a rebirth. Alternatively, it symbolizes your unrealized potential and\\npossibilities.\\nCoffee\\nTo\\ndream that you are drinking or need your coffee suggests that you need to gain\\nsome insight and knowledge before making a decision or tackling some\\nproject/relationship. You may be acting too hasty and need to slow down.\\nAlternatively, it may imply a need for you to change your routine.\\nTo\\ndream that you are drinking coffee with someone indicates that you might have\\nfeelings for that person. Alternatively, having coffee with someone denotes your\\nhospitality and sociability.\\nTo\\nsee a coffee pot in your dream signifies hospitality and sharing of knowledge,\\nhopes, concerns and/or ideas. It may also represent neighborliness, comfort, and\\ncompanionship.\\nDreaming\\nof dry coffee grounds refers to your readiness for change. To dream that you\\nhave a mouth full of dry coffee grounds point to a decision that you are having\\na hard time accepting.\\nIf\\nyou dream that you are trying to make coffee, but encounter a problem (i.e.\\nbroken coffee maker, looking for a measuring spoon, using too much water or\\ncoffee grounds), then it suggests that you are trying too hard to please others.\\nCoffee\\n\\nBean\\n  To\\n    see a pile of coffee beans in your dream represent your potential. You have\\n  some energy stored up waiting to be utilized. Alternatively, dreaming about\\n  coffee beans point to something that requires your prompt attention.\\nCoffee\\nMaker\\nTo\\nsee a coffee maker in your dream represents a disturbance in your psyche and\\nwell-being. You are feeling off-balanced. Alternatively, the dream could also\\nmean your level of alertness. Consider the phrase \"wake up and smell the\\ncoffee\".\\nCoffee\\nShop\\nTo\\ndream that you are at a coffee ship indicates that it is time to catch up with\\nold friends. It is symbolic of social gatherings and merriment.\\xa0\\nCoffee\\nTable\\nTo\\nsee a coffee table in your dream signifies your social circle and togetherness.\\nCoffin\\n      To\\n      see a coffin in your dream symbolizes the womb. It also signifies your\\n      thoughts and fears of death. If the coffin is empty, then it denotes\\n      irreconcilable differences. Alternatively, the coffin represents ideas and\\n      habits that are no longer of use and can be buried. In particular, if the\\n      coffin is white, then it refers to lost innocence.\\n      To\\n      dream of seeing a body or dream of seeing yourself in a coffin suggests that you are going through a\\nperiod of depression. You are feeling confined, restricted and lacking\\npersonal freedom. There may be a dead or decaying situation or issue in your\\nlife that you need to address. It is time to end this situation or relationship.\\nCoins\\nTo\\nsee coins in your dream indicate missed or overlooked opportunities that have\\ncome your way.\\xa0 To see gold coins in your dream represent success and\\nwealth.\\xa0 Silver coins represent spirituality, intuition, values, and your\\nsense of self-worth. Copper coins indicates healing.\\nTo\\nsee coins stacked in your dream symbolize masculine power, dominance, and\\nenergy.\\nTo\\ndream that you are flipping a coin represents your casual attitude about making\\nsome decision. You may also not be taking responsibility for your decisions.\\nAlternatively, it indicates your irrational thoughts.\\nCola\\n*Please\\nSee Soda.\\n    Colander\\n    To\\n    see or use a colander in your dream indicates that you are unable to keep your\\n    emotions contained. Alternatively, the dream suggests that you need to separate\\n    your feelings from a situation and try to be more objective.\\nCold\\nTo\\ndream that you are cold indicates that you are experiencing a breakthrough in\\nsome area in your life. Alternatively, you may be feeling isolated or\\nemotionally restrained. Your sense of coldness could reflect your feelings about\\na lover or a certain person. The dream may also occur as a result of your\\nimmediate environment in which you are really feeling cold.\\nTo\\nsee the word cold in your dream suggests that you need to be more neutral or\\nobjective in your decision making. You need to remain emotionally detached.\\nTo\\ndream that you touch something cold suggests that you should avoid that object\\nor what that object represents in your waking life.\\nCold\\nSore\\nTo\\ndream that you have a cold sore indicates that you have expressed some hurtful\\nwords. You are regretting something you have said.\\n  Coliseum\\n  To\\n  dream that you are performing in a Roman coliseum implies that you are making\\n  a spectacle of yourself, either in a positive or negative way. If you dream of\\n  a coliseum in ruins, then it represents longevity and/or something that is\\n  leaving a lasting impression. Alternatively, the dream suggest that you are\\n  neglecting the performer within yourself.\\nCollapse\\nTo\\ndream that you collapse indicates that you are pushing yourself too hard. You\\nhave lost sight of your goals and what you need to accomplish. You\\nmay also be having difficulties trusting your own judgment and decisions.\\nCollar\\nTo\\nsee a collar in your dream signifies confinement and restraint. You may be going\\nthrough a frustrating work situation or a confining relationship.\\nTo\\ndream that you have ring around the collar indicates that you need to clean up\\nyour language and the way you talk to others.\\nColleague\\n*Please\\nsee Coworker.\\nCollections\\nTo\\ndream that you are dealing with collections suggests that you are feeling picked\\non or harassed.\\xa0 Alternatively, it indicates that you may be too proud to\\nask for help.\\nCollege\\nTo\\ndream that you are in college indicates that you are going through some social\\nor cultural changes.\\xa0 You want to expand your knowledge and awareness. It\\nalso suggests that now is a good time for you to experiment and try new things.\\nIf you had gone to college in your past, then also consider your personal\\nexperiences and memories of your college days.\\xa0 However, if you are\\ncurrently in college, then it may be a reflection of your current surroundings.\\nAlternatively, the dream suggests that you will achieve your goals through\\nperseverance and hard work. You may be going through a period of stress in your\\nlife.\\nCollision\\n*Please\\nSee Crash.\\nColonel\\nTo\\nsee a colonel in your dream suggests that you need to be mindful of other\\'s\\nfeelings.\\nTo\\ndream that a colonel is stripped of their rank indicates that something will not\\ngo according to your plan.\\xa0\\n\\nColorado\\n    \\nIf\\nyou have never been to Colorado and have a dream that you are in Colorado, then\\nit suggests that you need to get out and enjoy what nature has to offer.\\xa0\\n\\nColoring\\nBook\\nTo\\nsee or color in a coloring book symbolizes childhood. It indicates that you have\\na carefree attitude, free from any responsibilities. On the other hand, the dream may\\nbe warning you against being idle and wasting time on fruitless pursuits.\\nConsider the significance of the color you are using and what you are coloring.\\xa0What\\nis depicted in the coloring book suggests that you need to be more expressive in\\nthat area.\\xa0\\n*Please\\nSee Also Crayons.\\nColorless\\nTo\\nhave a colorless dream suggests a depressed mood and a feeling of sadness. You\\nmay be shutting yourself off from others.\\n      \\n      \\n\\n\\nColors\\nColors\\nin dreams represent energy, emotions, and vibes. First consider what that single\\ncolor in your dream means to you and your own personal associations and\\nrelationship with that color.\\xa0In general, pale pastel colors indicate\\nweakness or subtlety. Dark colors represent passion and intensity. Bright colors\\nmean awareness.\\xa0\\nTo\\ndream in color and then dream in black and white suggests that you are starting\\nto look at a situation from a more objective perspective instead of from an\\nemotional standpoint. You are subconsciously reacting to events in the dream.\\nPlease\\nsee Dream Moods Dream\\nThemes: Colors.\\nColt\\nTo\\nsee a colt in your dream suggests that you are feeling awkward and insecure. You\\nmay also be starting to unleash your unused potential.\\nColumn\\nTo\\nsee columns in your dream symbolize strength and hard work. You may be feeling\\nburdened or drained in some way or that you find yourself needing to support\\nothers.\\nComa\\nTo\\ndream that you are in a coma indicates your helplessness and inability to\\nfunction in some given situation. You are not prepared for the major changes\\nthat are happening around you. Alternatively, your dream coma state may reflect\\nwhat is really happening to your body when you are in the dream stage of sleep.\\nIn this stage of sleep, your body remains immobile as if it was paralyzed;\\ncommonly referred to as REM paralysis.\\nComb\\nTo\\ndream that you are combing your hair suggests your need to organize and sort\\nyour thoughts. You need to search for some elements that are not clear to you in\\na situation or relationship. Alternatively, combing you hair may highlight your\\npreoccupation with appearances and beauty over substance and quality.\\n*Please\\nsee also Hair:\\nCombination\\nLock\\nTo\\nsee or use a combination lock in your dream indicates that you are shutting\\nyourself down and not letting others in. Consider the numbers in the combination\\nfor additional significance.\\nTo\\ndream that you forgot your combination indicates that you are reluctant in fully\\nexpressing yourself. Something is holding you back. Alternatively, the dream may\\nalso parallel a date or appointment that you have forgotten.\\n\\nCombustion\\n    To\\n    see a combustion in your dream represents violent rage or sudden anger. You\\n    have kept your feelings inside for too long and it is erupting\\n    uncontrollably.\\n*Please\\nSee Also Fire.\\nComedian\\nTo\\nsee or dream that you are a comedian suggests that you need to be more carefree.\\nYou are feeling overburdened from your daily problems and need an outlet to\\nrelease all that tension. You need to learn to laugh at yourself and not take\\nyourself so seriously.\\nComedy\\nTo\\ndream that you are watching a comedy suggests that you need to try and find the\\nhumorous side of a situation especially when things seem to get too intense.\\nSometimes you need to take life less seriously and be more carefree.\\nComet\\nTo\\nsee a comet in your dream indicates that you need to move on and free yourself\\nfrom emotional and physical burdens. Charge forward toward your goals.\\nComforter\\nTo\\nsee or use a comforter in your dream symbolizes warmth, love, security and\\nprotection. You may be seeking for some form of shelter from the outside world.\\xa0Alternatively,\\nthe dream may be a metaphor that you are looking for \"comfort\" or that\\nyou need to be \"comforted\" by someone. You feel depressed.\\nComics\\nTo\\nsee or read comics in your dream suggest that you need to learn to not take\\nyourself so seriously. You need to have more of a sense of humor.\\nTo\\ndream that you are collecting comics indicate that you refuse to see the\\nproblems that exist in your life and only want to focus on the good times.\\nPerhaps you are in denial about something.\\nCommand\\nTo\\ndream that you are giving commands refers to ability to express your desires or\\nideas. The dream may also be telling you that you need to have more of a\\npresence and take a more active role in a situation. Take control over your life\\nand behavior.\\nTo\\ndream that someone is commanding you highlights your subordinate role. Perhaps\\nyou need to show more humility in a situation.\\nCommandments\\nTo\\ndream of the commandments in your dream suggests that you will be rewarded if\\nyou behave and follow the rules. If it is a specific commandment, consider how\\nit relates to you waking situation.\\n  Commentator\\n  **\\n  Please See\\n  Announcer.\\nCommercials\\nTo\\ndream that you are watching TV commercials signify your tendency to jump from\\none thing to another without completing your\\ninitial responsibilities and tasks. You have a tendency to emotionally distance\\nyourself and remain objective about the situations you are faced with.\\xa0\\nIf\\nthe commercials quickly jump from one to another, then the dream symbolizes your\\nflightiness.\\nCommune\\nTo\\ndream that you live in a commune indicates that you are withdrawing from\\nsociety. You are doing things your own way and living by your own set of rules.\\nCommunication\\nTo\\ndream that you have difficulties communicating represents low self esteem and\\nfeelings of inadequacy.\\xa0\\nCommunion\\nTo\\ndream of communion symbolizes your conflict with the material world and the\\nspiritual world. You are torn between your values and your feelings.\\nAlternatively, the dream indicates a betrayal. You may also be seeking some form\\nof acceptance.\\nCommunity\\nTo\\nhave a sense of community in your dream means that you need to nurture your\\nrelationships with your family/friends and develop new ties. Perhaps you need to\\nlook at expanding your network of friends.\\nCompact\\nDisc\\nTo\\nsee\\xa0 a compact disc in your dream represents a need for enjoyment or a\\ndistraction. It denotes opportunities and possibilities. Consider the type of\\nmusic and the title of the compact disc. If you are giving away the CD, you may\\nbe trying to convey a message to that person within the songs.\\xa0\\nConsider\\nalso if the initial \"CD\" have any additional significance to you.\\nPerhaps it may even be a pun on something that is \"seedy\".\\nCompass\\nTo\\nsee a compass in your dream is a way of your subconscious to show you the way.\\nThe dream may be telling you to reconsider the direction in your life and to\\nrethink the path you are taking.\\nTo\\nsee or use a drafting compass in your dream represents your set path. You do not\\nlike to deviate from your plans, even if it becomes monotonous. Alternatively, a\\ndrafting compass symbolizes your drive for perfection.\\nCompassion\\nTo\\ndream about compassion indicates that you are lacking this quality in your\\nwaking life. You need to be more sympathetic toward others.\\nCompetition\\nTo\\ndream that you are in a competition represents your need to grow and expand.\\nLearn the value of endurance and perseverance. You also need to be more\\nassertive. Alternatively, the dream may reflect your anxiety about some real\\nlife competition that you are involved in.\\nTo\\ndream that you win a competition suggests that you possess the necessary skills\\nto accomplish a goal or solve a problem in your waking life.\\xa0\\nComplain\\nTo\\ndream that you or someone is complaining about something signifies suppressed or\\nunexpressed feelings that are threatening to surface. The actual complaint\\nusually refers to something else that is really bothering you.\\nComplexion\\nTo\\ndream of your complexion represents how others perceive you.\\nCompliment\\nTo\\ndream that you are giving a compliment suggests that you need to be steadfast\\nand not let others question your authority and position on things.\\xa0\\nTo\\ndream that you are being complimented signifies pride and self-love. You feel\\ngood about yourself. However, be careful not to let it get to your head.\\xa0\\xa0\\nComposer\\nTo\\ndream that you are a composer signifies that you are creating or directing new\\nfound energies to some aspect of your life.\\nCompost\\nTo\\nsee compost in your dream suggests that you need to channel and transform your\\noutdated ideas or past experiences into something you can learn from.\\nCopyright\\nTo\\ndream of a copyright indicates that you are guilty of copyright infringement.\\nContent within this dream dictionary has been copied without permission from\\ndream mo0ds.\\nComputer\\nTo\\nsee a computer in your dream symbolizes technology, information, and modern\\nlife.\\xa0 New areas of opportunities are being opened to you. Alternatively,\\ncomputers represent a lack of individuality and lack of emotions and feelings.\\nToo often, you are just going along with the flow, without voicing your own\\nopinions and views. You may also feel a depreciated sense of superiority.\\nTo\\ndream that your computer has a mind of its own denotes anxiety about technology\\nand loss of control. You are feeling overwhelmed and that you are at the mercy\\nof another.\\nTo\\ndream that a computer has a virus or has crashed suggests that something in your\\nlife that is out of control. It may parallel something in your life that has\\ncome to a crashing end. If you dream that your computer has a sentient computer\\nvirus that would create random or strange artwork, then it depicts your\\nsubconscious desires. The artwork may also be a reflection of a situation in\\nyour life that you are ignoring. In particular, if the artwork is of a little\\nboy smearing X\\'s with his poop on a calendar, then it indicates past regrets or\\nremorse.\\n*See\\nthe Meaning In Action: \"Computer\\nIn The Bathroom\"\\nComputer\\nGames\\nTo\\ndream that you are playing computer games represent a situation in your waking\\nlife where you either win or lose. If you dream the game is over, then it\\nindicates that something has come to an end. Consider the type of game and how\\nit parallels your life.\\xa0\\nComputer\\nMouse\\nTo\\nsee or use a computer mouse in your dream symbolizes control over your thoughts.\\nIf the mouse is malfunctioning, then it denotes confusion.\\nConcentration\\nCamp\\nTo\\nsee or live in a concentration camp in your dream indicates that you are afraid\\nof differences. You are having difficulties accepting others and their\\ndifferences. Learn to appreciate diversity and the uniqueness in yourself and in\\nothers around you. If you actually lived in a concentration camp, then the dream\\nmay signify a situation in your waking life which is triggering similar feelings\\nfelt at the time.\\nConcern\\nTo\\ndream that you are concerned about something or someone indicates that you are\\nfeeling much anxiety, unhappiness, or uneasiness in some situation of your\\nwaking life. The concern you have in your dream may be something you need to pay\\nattention to and acknowledge.\\nTo\\ndream that someone is concerned about you implies that you are behaving\\nrecklessly.\\nConcert\\nTo\\ndream that you are at a concert represents harmony and cooperation in a\\nsituation or relationship in your waking life. You are experiencing an uplift in\\nyour spirits.\\nTo\\ndream that you are holding a concert symbolizes your untapped talents and hidden\\npotential. You need to show of your creative side.\\nConch\\nShell\\nTo\\nsee a conch shell in your dream represents sexual inhibitions.\\xa0 The dream\\nmay also be a warning.\\nConcussion\\nTo\\ndream that you have a concussion suggests that you are not utilizing your\\nfullest potential. You need to be more responsive to others, instead of just\\nsitting back and waiting for things to happen.\\xa0\\nConcrete\\nTo\\nsee concrete in your dream represents your solid and clear understanding of some\\nsituation. The dream may also mean that you are too unyielding and inflexible.\\xa0\\nTo\\nsee wet concrete in your dream suggests that some issue or some aspect of your\\nlife still remains unresolved.\\xa0\\nConcubine\\nTo\\ndream that you are a concubine implies that you are compromising your own values\\nand beliefs. You are sacrificing your own happiness to please someone\\nelse.\\xa0\\nTo dream that you\\nare keeping a concubine refers to a sexual relationship that you are involved\\nin, but have no emotional bond. \\n      Condo\\n      To\\n      see or live in a condo in your dream refers to your financial and\\n      emotional state. You are looking for financial or emotional independence.\\n      Consider the appearance of the condo for indication on the current status\\n      of your life.\\nCondom\\nTo\\nsee a wrapped condom in your dream represents your one-sided viewpoints. You are\\nnot allowing others to voice their opinions. It also symbolizes sexual\\npossibilities.\\nTo\\nsee an unwrapped condom in your dream indicates sexual frustration.\\nAdditionally, it may also indicate that you are experiencing some anxiety about\\npregnancy or sexually transmitted diseases.\\nTo\\ndream that you or your partner is wearing a condom suggests that you feel\\nemotionally protected.\\nCondor\\nTo\\nsee a condor in your dream signifies your close connection with your\\nspirituality and to the supernatural. You possess a lot of insight.\\nConductor\\nTo\\nsee or dream that you are a conductor represents your abilities to lead and\\ndirect yourself toward higher awareness.\\nCone\\nTo\\nsee a cone in your dream represents a flow of ideas and feelings.\\xa0\\nConference\\nTo\\ndream that you are attending a conference suggests that you need to consider the\\nideas and opinions of others before forming your own conclusion. Don\\'t be so\\nclose minded and listen to what others have to say.\\nConfession\\nTo\\ndream that you or someone is confessing represents feelings of guilt and\\nself-blame. Alternatively, it suggests a form of healing. You are heralding new\\nchanges into your life.\\n  Confessional\\n  To\\n  see a confessional in your dream represents something that you can no longer\\n  keep to yourself. You are feeling guilty or ashamed for your actions.\\nConfetti\\nTo\\nsee or throw confetti in your dream represents achievement and success.\\xa0 You have achieved a higher level of growth and learning and are at a turning\\npoint in your life. Alternatively, it symbolizes much festivity and fanfare. You\\nmay be expressing joy, victory, and freedom from restraint.\\xa0\\nConfront\\nTo\\ndream of a confrontation represents a conflict or a fear that you are facing in\\nyour waking life. The dream provides a \"safe\" venue for you to\\nconfront your enemy or attacker, who you are afraid of standing up to in your\\nwaking life. You need to use your dream to overcome your fears. Next time you\\nhave this dream, tell your enemy or attacker that you are not afraid of them!\\nConfucius\\nTo\\nsee Confucius in your dream indicates that you need to utilize your common\\nsense.\\xa0 Perhaps you are acting stupid and need to wise up. Alternatively,\\nit represents the importance of loyalty and duty to your family.\\nConfusion\\nTo\\ndream that you are confused reflects your true confused state of mind and the\\nnonsensical events of your waking life. Isolate the single element in your dream\\nthat is confusing to you and analyze the meaning of that particular symbol.\\nAlternatively, dreams of confusion indicate that you are being pulled in\\nopposite directions or you do not know which viewpoint is right.\\nConga\\nLine\\nTo\\nsee or be part of a conga line in your dream implies that you are lacking\\ncreative expression. You tend to go along with what others are doing or saying.\\nAlternatively, the dream epresents light-hearted fun. You need to let loose\\na little sometimes.\\xa0\\nCongratulate\\nTo\\ndream that you are congratulating someone represents your ability to offer your\\nhelp and assistance to others.\\nTo\\ndream that you are being congratulated indicates that you need to learn to ask\\nfor help when you need it. You need to let go of your pride. Alternatively, the\\ndream represents approval of your action or decision.\\nConjoined\\nTwins\\n*Please\\nSee Siamese\\nTwins.\\n  Conker\\n  To\\n  see a conker in your dream implies that you have been callous and/or\\n  insensitive toward someone or something. Alternatively, the dreaming of a\\n  conker may be a pun to mean conquer. Perhaps there is a situation or problem\\n  that you need to overcome or take control of.\\n  If\\n  you dream about\\xa0 playing conkers, then it indicates that you are\\n  experiencing some peer pressure.\\nConman\\nTo\\nsee a conman in your dream indicates that you are being taken advantage of in\\nsome way. The dream may highlight fears that you are being played. Perhaps you\\nneed to trust your instincts.\\nTo\\ndream that you are a con artist represents your ability to manipulate some\\nsituation or relationship. The dream may be calling attention to your lacking\\nconscience and low character.\\xa0\\nConnection\\nTo\\ndream that you miss your train or plane connection symbolize missed\\nopportunities. The dream may also be a metaphor for your inability to make\\ncontact with something or someone.\\n      Console\\n      To\\ndream that you are being consoled suggests that you are repressing your sorrow\\n      or grief. Something in your waking life is bothering you more than you\\n      want to admit. The dream is telling you that you need to express your\\n      sadness and not keep it inside. Alternatively, the dream implies that you\\n      are feeling emotionally neglected. Your feelings are being overlooked.\\n      To\\n      dream that you are consoling someone means that you need to be more\\n      empathetic to others.\\nConspiracy\\nTo\\ndream of a conspiracy suggests that you are deceiving others or being deceived\\nby someone. Consider the people who are involved. These people may represent\\naspects of yourself and thus imply that you are lying to yourself.\\nConstellation\\nTo\\nsee a constellation in your dream indicates that something in your life is\\ncoming together in a complex way. It represents a mental process. Consider what\\nthe constellation is depicting.\\nConstipation\\nTo\\ndream that you have constipation denotes that you are\\xa0 unwilling to part\\nwith your old ways. You continue to grasp onto your old ways and fail to let go,\\nforgive, and forget. You may be dwelling on past problems and previous\\xa0 difficulties.\\nConstruction\\nTo\\ndream that a building is under construction suggests that you need to work on\\nsome aspect of yourself and better your mind or body.\\nTo\\nsee construction in your dream signifies a new surge of energy, growth, ambition\\nand renewed confidence. It may also represent the rebuilding of your own life.\\nTo\\ndream that you are walking barefoot on a construction site means that you are\\nnot ready to put in the work necessary to improve your mind or body. Perhaps you\\nare in denial that you need any improvement.\\nContact\\nLens\\nTo\\nsee or wear contact lens in your dream suggests that you need to focus on the\\ntask at hand. You need to pay closer attention to a situation before acting on\\nit. The dream may also be a metaphor that you need to get in \"contact\"\\nwith someone.\\nIf\\nyou have difficulties putting on your contact lens in your dream, then it\\nindicates that you are having trouble paying attention.\\xa0\\nContest\\nTo\\ndream that you enter or are in a contest indicates the need to prove yourself as\\nworthy and deserving. If you win the contest, then it represents your\\nself-confidence, pride, and/or conceit.\\xa0 If you lose the contest, then it\\nindicates a lack of self-esteem. You may not be fully applying yourself to the\\ntask at hand.\\xa0\\n  Container\\n  To\\n  see a container in your dream refers to your tendency to keep your thoughts,\\n  ideas or feelings inside instead of expressing them. Alternatively, the dream\\n  indicates that you need to be better organized.\\nContortionist\\nTo\\xa0see\\nor dream that you are a contortionist suggests that you are literally getting\\nall twisted and wound up over a problem or situation in your life.\\nAlternatively, it represents flexibility in your thinking or fluidity in your\\nemotions. The dream may also be a metaphor in how you are able to stretch or\\ntwist the truth or facts of a situation.\\nContraceptive\\nTo\\nsee or use contraceptive in your dream suggests that you are refusing to let\\nyour creativity emerge from beneath the surface. You are holding back some\\naspect of yourself. The contraceptive\\xa0 may be a metaphor for protection\\nagainst emotional hurt. Alternatively, it signifies your anxieties about\\npregnancy or sexually transmitted diseases.\\nContract\\nTo\\ndream that you are signing a contract indicates that you are ready to commit to\\na long term relationship or project.\\xa0\\nTo\\ndream that you enter into a bad contract suggests that you need to think twice\\nabout committing to a relationship. Carefully examine what you are getting into.\\nContrail\\nTo\\nsee a contrail in your dream symbolizes hope, pride and possibilities.\\nAlternatively, the dream may seek to tell you that no matter how far or how fast\\nyou go, you will always leave an impression on those you left behind. You will\\nnot be forgotten.\\nControl\\nTower\\nTo\\xa0see\\nor dream that you are in a control tower may be a metaphor that you need to get\\na better handle on your waking life situation. You need to take things one at a\\ntime and evaluate the situation individually. Alternatively, the dream\\nsymbolizes complete control over your emotions. You may be too overly rational\\nand not let feelings get in the way.\\nConvent\\nTo\\ndream that you are at a convent represents your need for spiritual support and\\nnurturance.\\xa0You need to isolate yourself and block out any external forces\\nthat may cloud your judgment. Alternatively, the dream indicates that you are\\nbeing restricted from fully expressing yourself.\\nConvention\\nTo\\ndream that you are at a convention represents your need for contact and\\ncommunication. You need to keep in mind that the choices you make with effect\\nthose around you. Don\\'t be hesitant in getting them involved in your decision\\nmaking. The dream is also a metaphor for bringing various aspects of yourself\\ntogether. Consider the type of convention for additional clues as to what may be\\nlacking in your life.\\nConversion\\nTo\\ndream about a conversion indicates your hopes that some problem or situation can\\nbe changed. This dream also represents your mobility and adaptability to\\nsituations in life.\\nConvertible\\nTo\\nsee or dream that you are in a convertible refers to your glamorous attitude.\\nYou are showing off your power and influence.\\xa0\\nConveyer\\nBelt\\nTo\\nsee a conveyer belt in your dream suggests that you are stuck in a rut. Your\\ndaily routine has become predictable and unchallenging.\\nConvict\\nTo\\ndream that you are a convict suggests that some situation or relationship is\\nmaking you feel restricted. You may be experiencing a loss of freedom in some\\narea of your life.\\xa0 Alternatively, the dream represents your feelings of\\nshame and guilt. This dream image is trying to tell you to stop punishing\\nyourself.\\nTo\\nsee a convict in your dream indicates that\\xa0 an aspect of yourself is unable\\nto freely express itself.\\nCookie\\nCutter\\nTo\\nsee or use a cookie cutter in your dream symbolizes monotony and sameness. The\\ndream may be telling you to deviate from the norm. Do something or say something\\nunexpected.\\nCookie\\nMonster\\nTo\\nsee Cookie Monster in your dream indicates that you need to eat more healthier\\nand have a more balanced diet. Alternatively, the dream means that you need to\\nshow restraint and control.\\xa0\\nCookies\\nTo\\ndream that you are eating, giving, receiving, or stealing cookies indicate that\\nyou are letting trivial matters and minor problems annoy you.\\nTo\\ndream that you are baking cookies signify feelings of optimism and increases.\\nYou may also experience a rise in status. If you dream that a freshly baked\\nbatch of cookies is out of reach, then it implies that someone else is trying to\\nreap your rewards. In other words, someone is trying to take credit for your\\nhard work. If you are able to get the cookies back, then it means that you are\\naware of your surroundings and of the people around you. You are regaining\\ncontrol.\\nTo\\nsee or eat chocolate chip cookies symbolizes your guilty indulgences. If you are\\nbaking chocolate chip cookies, then it represents your connection to someone in\\nan intimate and emotional way.\\nTo\\ndream that you are eating an oatmeal cookie suggests that it is okay to indulge\\nonce in a while.\\nDreaming\\nthat you are buying cookies suggests that you are giving into some temptation.\\nYou have been working hard and deserve to indulge yourself.\\nCooking\\nTo\\ndream that you are cooking signifies your desire to influence others in such a\\nway so that they will like you or become dependent on you. Alternatively, it\\nrepresents your nurturing side. You want to be loved. Or the dream could mean\\nthat you need to express your creativity.\\nTo\\ndream that you have difficulties cooking indicate that you are trying too hard.\\nCooking\\nOil\\nTo\\nsee or use cooking oil in your dream represents a smooth transition.\\xa0\\nCooler\\nTo\\nsee a cooler in your dream represents someone who is frigid or who has cold\\npersonality. As the cooler is a feminine symbol representing the womb, the dream\\ncould mean a female in your life who is emotionally cold. Alternatively, the\\ndream may be telling you that you need to cool off or that you need to\\n\"keep your cool\". Consider also what is inside the cooler.\\xa0\\nCop\\n*Please\\nSee Police.\\nCopier\\nTo\\nsee or use a copier in your dream represents your lack of originality and your\\ntendency to copy other\\'s ideas/beliefs. You need to start thinking things\\nthrough for yourself.\\xa0 Alternatively, the dream may indicate a desire to\\nspread some idea and circulate the word out.\\nCopper\\nTo\\nsee copper in your dream represents the power of healing. It also indicates a\\nflow of ideas, your connection to a situation to others, and flow of\\ninformation.\\nCopycat\\n*Please\\nAlso See Mimic\\n\\xa0Coral\\nTo\\nsee coral in your dream symbolizes protection and the beauty of life.\\nAcknowledging your feelings is the key to a happy and rewarding life.\\nAlternatively, it represents purification and blood.\\nCord\\nTo\\nsee cords in your dream symbolize a lack in independence in a situation or\\nrelationship. You are feeling restricted or tied down. If the cord is being cut,\\nthen it indicates that you are breaking those relationships that have held you\\nback.\\n      Coriander\\n      To\\n      see or eat coriander in your dream symbolizes immortality. It also\\n      indicates that you are emotionally stable and healthy.\\xa0\\nCork\\nTo\\nsee cork in your dream represents your versatility and adaptability in different\\nsituations. You have the ability to stay afloat in times of turmoil and rise\\nabove your circumstances.\\nTo\\nsee a cork pop in your dream symbolizes male sexuality and climax.\\nCorkscrew\\nTo\\nsee or use a corkscrew in your dream suggests that some aspect of your life is\\nspinning out of control, especially if you are having difficulties using the\\ncorkscrew. Alternatively, the dream may indicate the beginning of a fresh new\\nidea.\\nCormorant\\n*Please\\nSee Loon.\\nCorn\\nTo\\nsee corn in your dream signifies abundance, prosperity, growth and fertility.\\nAlso consider the pun that something is \"corny\".\\nTo\\nsee a field of corn in your dream represents domestic bliss and harmony.\\n  Cornbread\\n  To\\n  dream that you are making or eating cornbread refers to your family ties and\\n  home life. It brings about the comfort of home. Alternatively, cornbread\\n  symbolizes confidence.\\xa0\\nCorner\\nTo\\ndream that you are in a corner signifies feelings of frustration and lack of\\ncontrol in making decisions. You may feel trapped and \"cornered\".\\xa0\\nAlternatively, it indicates self-punishment.\\n  Cornfield\\n  To\\n  dream that you are in a cornfield refers to your desire to escape from your\\n  daily demands and/or problems. Alternatively, being in a cornfield suggests\\n  that someone one is listening in on you. All ears are on you.\\nCornflower\\nTo\\nsee cornflower in your dream represents hope, togetherness, and unity.\\nCornrows\\n    If\\n    you do not wear cornrows in your waking life, but dream that your hair is in\\n    cornrows, then it indicates that you need to better organize your thoughts\\n    together. It also implies a reserved attitude toward a situation. You are holding\\n    back something.\\nCornucopia\\nTo\\nsee a cornucopia in your dream represents abundance,\\xa0 plentitude, fertility\\nand prosperity. The dream also highlights the union of the feminine and masculine\\naspects.\\nCorpse\\nTo\\nsee a corpse in your dream represents an aspect of yourself that has died. Or it\\nmay mean that you are unexpressive. You have shut yourself down and are dead\\ninside.\\xa0\\nCorrection\\nTape\\nTo\\nsee or use correction tape in your dream represents your desires for a fresh new\\nstart. Alternatively, the dream maybe telling you are suppressing past mistakes\\ninto your subconscious, instead of learning from them.\\nCorridor\\nTo\\nwalk along a corridor in your dream signifies a transitional phase of self\\nexploration. It signals spiritual enlightenment, emotional growth, physical\\nprowess, new opportunities and mental passages in your life.\\xa0\\xa0\\xa0\\nIf\\xa0\\nyou are walking through a long corridor, then it represents your desperation in\\ntrying to escape a repetitive situation or some behavior patterns. You need to\\nfree yourself of this repetition. Alternatively, it symbolizes the choices and\\noptions that are available to you. You have a lot of things to consider.\\nCorsage\\nTo\\nsee or wear a corsage in your dream suggests that an aspect of yourself is\\nlooking to be acknowledged and recognized. Alternatively, it is a symbol of\\nhonor.\\n\\nCorset\\nTo\\nsee or wear a corset in your dream indicates submission, restraint and\\nrestrictions. You may be feeling limited. Alternatively, it may mean that you\\nhave a tendency to hold in your displeasure in order to please others.\\nCosmetics\\n*Please\\nSee Makeup.\\nCost\\nTo\\nsee or notice the cost of something in your dream represents the value you are\\nplacing on yourself, your time and your abilities.\\xa0If the cost is high, then it\\nindicates that you value yourself highly. If the cost is low, then you are\\nundervaluing yourself or taking somebody else for granted. The dream also\\nrelates to your self esteem.\\nCostume\\nTo\\ndream that you are wearing a costume indicates that you are putting on a facade\\ntoward others. You do not want to reveal your true self and are not being\\ncompletely honest with people around you.\\nCostume\\nParty\\nTo\\ndream that you are at a costume party suggests that you are trying to escape\\nfrom the demands of real life. You want to enjoy life and not worry about your\\ndaily responsibilities.\\nCottage\\nTo\\nsee a cottage in your dream represents comfort peace and serenity. You prefer a\\nquiet life of simplicity. The cottage may also represent an altered sense of\\nreality and thus may be a means of escaping the responsibilities and problems\\nthat may be associated with your home.\\xa0 You need to approach life\\'s\\ndifficulties one at a time.\\xa0\\nCotton\\nTo\\ndream that you are picking cotton suggests that you are seeing little benefits\\nfrom all your long hard work. It may also mean that aspects of yourself are in\\nharmony.\\nTo\\ndream that you are wearing cotton symbolizes simplicity.\\n  Cotton\\n  Ball\\n  To\\n  see or use a cotton ball in your dream indicates that you need to apply\\n  yourself and focus on some important project. Alternatively, a cotton ball\\n  symbolizes pureness or softness. Perhaps there is a relationship or situation\\n  that requires a more delicate touch.\\nCotton\\nCandy\\nTo\\nsee or eat cotton candy in your dream represents childhood pleasures or rewards.\\xa0\\nYou are content with the way things are going in your life.\\xa0\\nCouch\\nTo\\nsee or dream that you are on a couch represents rest, relaxation, laziness or\\nboredom. It may also mean you need to clear you mind and thoughts. Consider also\\nwho is on the couch with you as the dream may also have sexual connotations.\\xa0\\xa0\\nCougar\\nTo\\nsee a cougar in your dream symbolizes wild beauty, power,\\xa0 grace, and raw\\nemotion. It often refers to feminine power and aggression. Thus, the dream may\\nrepresent a woman. Alternatively, it indicates lurking danger and death.\\nCough\\nDrops\\nTo\\nsee or take cough drops in your dream indicate that you need some coaxing in\\norder to discuss some issue. There is something holding you back.\\xa0\\nCoughing\\nTo\\ndream that you are coughing represents your fear or dissatisfaction of the\\nfuture. You need to put some distance between yourself and others.\\xa0\\nAlternatively, it indicates that you have made a negative choice in some\\nimportant matter.\\nIn\\nparticular, to dream that you are coughing blood represents wasted energy. You\\nare spending too much time on counterproductive activities.\\nCounselor\\nTo\\nsee or dream that you are a counselor or dream that you are one suggests that\\nyou are seeking for some support and direction in your life. Pay important\\nattention to what the counselor is saying and/or doing. Your dream is trying to\\nconvey a message that you need to think about and possibly act upon.\\nCounter\\nTo stand\\nin front of a counter in your dream suggests that you are looking\\nfor advice and for some direction in your life.\\xa0You are exploring your\\noptions. Depending on the function or purpose of the counter, the dream may also\\nimply that you are lacking something in your life and are looking for a form of\\nfulfillment.\\xa0Alternatively, the\\ncounter may be a pun that you need to make a \"counter\" on some offer.\\nLearn to compromise.\\xa0\\nCounterfeit\\nTo\\nsee counterfeit money in your dream indicates that you are feeling unworthy or\\nthat someone is devaluing your talents or efforts. Perhaps something is not what\\nit appears to be. Alternatively, this dream symbol suggests that you are\\npretending to be something you are not.\\xa0\\nCounting\\nTo\\ndream that you are counting suggests that you are too rigid,\\nobsessive-compulsive and overly disciplined. You need to relax a little.\\nAlternatively the dream may be a metaphor for being the one that others can\\n\"count on\". You are reliable and dependable.\\n    Country\\n    To\\n    dream that you escape to another country symbolizes change in your life. You\\n    are going through a new phase or transition. Consider\\nhow you feel about the surrounding. If you are afraid or lost, then it indicates\\nthat you are not ready for the change. You are not willing to leave the past\\nbehind. If you are excited or happy in this unknown place, then it suggests that\\nyou are ready for change.\\n    Dreaming\\n    about your home country indicates some unfinished feelings that you have\\n    left behind. A current situation may be forcing you to confront issues of\\n    your past.\\xa0 Alternatively, to dream of your home country represents\\n    loyalty and commitment to family.\\nCountry\\nClub\\nTo\\ndream that you are in a country club represents your status in society and sense\\nof belong. You feel that you are part of a special group.\\xa0\\nCountryside\\nTo\\ndream of the countryside suggests that you are seeking a simpler way of life.\\nYou need to take some time for yourself to relax and free your mind.\\nAlternatively, it indicates a sense of freedom and/or openness that is lacking\\nin your daily life.\\nCouple\\nTo\\nsee a couple in your dream symbolize marriage, your parents, or a relationship.\\nConsider what the couple are doing in your dream for additional clues about\\ntheir significance. It may point to something that is lacking or missing from\\nyour life.\\nCourage\\nTo\\ndream that you have great courage indicates that you are willing to confront\\nrejected aspects of your subconscious head on. You are about to come to a whole\\nnew understanding.\\xa0 The dream may be training you for\\xa0 what you need\\nto do in your waking life.\\nCoupons\\nTo\\nsee or clip coupons in your dream suggest that you are doing your best to\\nmaximize your resources. You need to be more frugal or conserve your energy.\\xa0\\nCourt\\nTo\\ndream that you are in court standing up for charges against you\\xa0 signifies\\nyour struggle with issues of fear and guilt. A situation or circumstance in your\\nlife is giving you much distress and worry. You feel that you are being judged\\nin some way and need to defend yourself.\\nCourthouse\\nTo\\nsee a courthouse in your dream indicates that you are being judged.\\n  Cousin\\nTo\\nsee your cousin in your dream represents something or some aspect of your\\ncharacter that is somewhat familiar. Perhaps you need to spend more time in\\ncultivating and developing some emerging ability or character. In particular, if\\nyou dream that your cousin is ignoring you, then it indicates that you are not\\nacknowledging some aspect of yourself that is represented by your cousin.\\xa0\\nTo\\ndream that you or your sibling is in love with a cousin represents your\\nacceptance of each other. You are acknowledging and embracing key qualities in\\none another.\\xa0\\nCover\\nTo\\ndream that you are covering something indicates a part of yourself that you are\\ntrying to hide or are afraid of revealing.\\xa0 Consider what you are trying to\\ncover up.\\nCow\\nTo\\nsee a cow in your dream symbolizes your passive and docile nature. You obey\\nothers without question. Alternatively, a cow represents maternal instincts or\\nthe desire to be cared for. For some cultures, the cow represents divine\\nqualities of fertility, nourishment and motherhood.\\nTo\\nsee the skeleton of a cow suggests that your mother or motherly figure in your\\nwaking life is displaying a lack of emotions. She is being unresponsive to your\\nneeds.\\nTo\\nsee a herd of cows indicates your need to belong.\\nTo\\ndream that you are milking a cow represents your willingness and drive to work\\nhard. In the end, you will benefit from your hard work.\\nCoward\\nTo\\ndream that you or someone is a coward indicates that you are afraid to see your\\ntrue Self and to be who you are. You are hindering your own self-growth.\\nCowboy\\nTo\\nsee or dream that you are a cowboy symbolizes masculinity, ruggedness, and\\ntoughness. You are in control of your animalistic and instinctual side.\\nCoworker\\nTo\\nsee your coworkers in your dream highlights aspects of your waking relationship\\nwith them, including difficulties/support. It signifies your ambition, struggles\\nand competitive nature.\\xa0 If the coworkers in your dream are not your actual\\ncoworkers, then they may pertain to some psychological business that you need to\\nwork on. Work-related dreams can also often be linked to stress at work.\\nTo\\ndream that you are training someone to take your place suggests that you are\\nmoving toward deeper inner development. You are leaving behind old attitudes and\\nare looking toward the future.\\n*Please\\nsee also Office.\\nCowrie\\nShells\\nTo\\nsee or wear cowrie shells in your dream signify your laid back and easy going\\nattitude. Alternatively, a cowrie shell symbolizes fertility, womanhood, and\\nreproduction. The dream may also be a metaphor for the value that you assign to\\ncertain things.\\xa0\\nCoyote\\nTo\\nsee a coyote in your dream denotes deception and weakness.\\xa0\\nTo\\ndream that you are attacked by coyotes indicates that you are struggling with\\nyour own selfish needs.\\nCPR\\nTo\\ndream that you are performing CPR on someone indicates that you have resolved\\nsome anxiety, fear or tension in your life. Alternatively, the dream signifies\\ncreativity and intelligence.\\nTo\\ndream that someone is giving you CPR suggests that you are feeling exhausted or\\nemotionally drained. You are seeking advice.\\nCrab\\nTo\\nsee a crab in your dream signifies your perseverance and tenacity. On an extreme\\nnote, you maybe be too clingy and dependent. You are hanging on to a hopeless\\nendeavor or relationship. Alternatively, the dream may indicate that you are\\ntrying to avoid some issue. You are being evasive. Crabs are also symbolic of\\nyour irritable personality, as in the pun, being \"crabby\".\\nCrack\\nTo\\ndream of a crack in some object indicates that something in your life is\\nimperfect. Nobody is perfect. Or there could be a flaw in your thinking or\\nrelationship. The dream may also be a pun on \"cracking under\\npressure\". You may be experiencing difficulties in trying to maintain your\\ncomposure and keeping it together.\\nCrackers\\nTo\\nsee or eat a cracker in your dream suggests that you tend to care for the needs\\nof others before your own.\\xa0 You spend your time looking after other people\\nand as a result, neglect your needs. The dream may also be a pun on \"crack\\nher\". Perhaps you are trying to get someone to reveal certain information\\nor secrets.\\nCradle\\nTo\\nsee a cradle in your dream symbolizes a dependent relationship. You may feel the\\nneed to be protected and cared for. Your dream may be telling you to regain some\\ncontrol and independence in your life. Alternatively, it represents a new\\nproject or fresh start.\\n    Crafting\\n    To\\n    dream that you are making crafts refers to your resourcefulness and your\\n    hands on approach to various situations. Alternatively, crafting in your\\n    dream may be a metaphor that you are being deceitful, cunning or\\n    manipulative.\\xa0\\n      Cramp\\n      To\\n      dream that you have a cramp means that you need to stop what you are doing\\n      and reevaluate your choices or decisions. Alternatively, a cramp implies\\n      that you are overworked. Consider also the significance of where the cramp\\n      is located.\\nCranberries\\nTo\\nsee or eat cranberries in your dream means\\xa0longevity and good health.\\nAlternatively, cranberries signify warmth and togetherness.\\nTo\\ndrink cranberry juice in your dream suggests that you need to cut down on your\\nstress.\\nCrane\\nTo\\nsee a crane in your dream represents happiness, maternal love, and your gestures\\nof good will. You look out for those who are near and dear to you.\\nAlternatively, a crane signifies tact, immortality or vigilance.\\xa0\\nCrank\\nCall\\nTo\\ndream that you are making a crank call signifies your frustrations about not\\nbeing taken seriously.\\xa0\\nTo\\ndream that someone is crank calling you indicates that you are feeling out of\\nthe loop. You feel that some information is being hidden from you.\\nCrash\\nTo\\ndream that you are in a car crash indicates that your beliefs, lifestyle, or\\ngoals are clashing with another\\'s. It may also represent a shocking situation or\\npainful experience. Alternatively, car crashes may forewarn of your dangerous or\\ncareless driving habits.\\xa0In particular, if a car crashes into you, then it suggests that your lifestyle, beliefs or\\ngoals may be in conflict with another\\'s. It may also be symbolic of a jolting\\nexperience or injured pride.\\nTo\\ndream that a plane crashes signifies that you have set overly high and\\nunrealistic goals for yourself. You are in\\ndanger of having those goals come crashing down. Alternatively, the crashing\\nairplane represents your lack of confidence, self-defeating attitude and\\nself-doubt. You do not believe in your own ability to achieve those goals. Loss\\nof power and uncertainty in achieving your goals are also signified.\\nTo\\nwake up before you crash in your dream may simply be the anticipation of the\\ncrash that jolts you awake. It is similar to the notion of waking up before you\\nhit the ground from a fall.\\n**See\\nThe Meaning In Action:\\xa0 \"Plane\\nCrash\"\\n      Crash\\n      Test Dummy\\n      To\\n      see a crash test dummy in your dream refers to the impacts others are\\n      making on your life.\\nCrate\\nTo\\nsee a crate in your dream signifies\\xa0 your positive attitude, your\\npotential, the possibilities and your drive for success.\\xa0\\nCrater\\nTo\\nsee a crater in your dream indicates that aspects of your subconscious are being\\nslowly revealed to you. This dream symbol is also symbolic of past memories and\\nexperiences.\\nCrawfish\\nTo\\nsee a crawfish in your dream represents your tenacity.\\xa0\\n      Crawl\\n      Space\\n      To\\n      see a crawl space in your dream symbolizes your subconscious. If you are\\n      going through a crawl space, then it suggests that you are exploring\\n      aspects of your subconscious in a slow and careful manner.\\nCrawling\\nTo\\ndream that you are crawling indicates that you are approaching your goals with\\ncareful forethought and preparation.\\xa0 Alternatively, the dream may indicate\\nthat you are lowering yourself and your standards. You may be doing less than\\nyour best.\\nTo\\ndream that you are crawling out of a wreck or ruins represents your willpower.\\nTo\\ndream that someone is crawling towards you signifies your need for power,\\nrevenge, superiority, or control.\\xa0\\nCrayons\\nTo\\nsee crayons in your dream represent some childhood memory or a period of time\\nwhere you were more carefree. It is also symbolic of creativity. You may need to\\nthink outside the lines into more unconventional thoughts and ways of doing\\nthings. Consider the symbolism of the color of the crayon.\\nCrazy\\nTo\\ndream that you are going crazy suggests that you have lost sight of your goals.\\nYou may feel that you are no longer able to depend on someone. Alternatively,\\nyou feel that your opinions, viewpoints or decisions are being unaccepted or\\nbeing ignored. You may feel like an outsider.\\xa0\\nCream\\nTo\\nsee or eat cream in your dream indicates that you appreciate the minor and sweet\\nthings in life.\\xa0It is symbolic of nurturance and richness.\\nTo\\nsee or apply face cream in your dream represents a beautiful soul. It may also\\nrepresent the character and personality you are portraying to others in your\\nwaking life.\\xa0\\nCreatures\\nTo\\nsee a faceless creature in your dream indicates a situation you are refusing to\\nsee or confront, but are aware of it in some passive way. This dream also\\nsuggests that something in your life is bringing up feelings of fear and\\ninsecurities.\\xa0\\nCredit\\nTo\\ndream that you are getting credit for something represents acceptance of your\\nresponsibilities and duty. It also signifies your own sense of pride and\\nconfidence.\\nCredit\\nCards\\nTo\\ndream about credit cards relate to your worth, value and/or credibility.\\nDepending on your waking experiences, the credit cards may symbolize being in\\ndebt and your attitudes about money, work, and thrift.\\nTo\\ndream that you owe money on your credit card signifies an imbalance or some\\nstruggle in a personal situation or business matter. Alternatively, it may indicate that\\nyou are putting too much demands of others.\\nTo\\ndream that you lose your credit cards indicate your carelessness in some aspect\\nof your waking life.\\nTo\\ndream that someone is stealing your credit cards suggest that something or\\nsomeone is robbing you of vital energy.\\nCredit\\nScore\\n    To\\n    dream of your credit score represents your feelings of measuring up or being\\n    accepted in some way. More directly, the dream may be about your concerns\\n    regarding your financial standing. To dream of a low credit score is a\\n    variance of the \"failing\\n    an exam\" dream scenario.\\n    The dream relates to your lack of self-esteem and confidence. You are\\n    experiencing some anxiety in your waking life. If you dream of a high credit\\n    score, then it symbolizes your high sense of worth. Also consider the\\n    significance of the actual credit score number.\\nCreek\\nTo\\nsee a creek in your dream represents personal energy flow and steady emotional\\nrelease. Alternatively, the dream may indicate that you are in trouble or\\ndanger.\\xa0 Consider the saying to be \"up a creek without a paddle.\"\\nTo\\nsee a dried up creek indicates that you are being cut off from your spiritual\\nbeing and being out of touch with yourself. You may also feel physically or\\nemotionally drained.\\n  Creeper\\n  To\\n  see or use a creeper in your dream indicates that you need to approach your\\n  goals from a different angle. You need a fresh new perspective on where your\\n  life is headed.\\nCremains\\nTo\\nsee cremains in your dream symbolizes change. It also represents a return to\\nyour true Self and acceptance of who you are.\\nCremation\\nTo\\ndream that someone is being cremated represents purification and your strive for\\nperfection. It symbolizes the ending to a phase in your life and the beginning\\nof something else. If the person being cremated has passed away in real life,\\nthen the dream may be a way of grieving or coping with the loss. You want to\\nalways remember them in a positive light.\\n    Crepe\\n    To\\n    see or eat a crepe in our dream implies that you are doing your best to keep\\n    it together while still looking your best.\\n    To\\n    see or wear a crepe fabric in your dream suggests that life is not always as\\n    smooth as you want it to be. Enjoy life and learn from the little obstacles\\n    that it has to offer.\\nCrescent\\nTo\\nsee a crescent in your dream represents the emergence of your feminine\\ncharacter. It also indicates versatility and changes.\\xa0\\nCrib\\nTo\\nsee a crib in your dream suggests that you are harvesting or\\xa0\\n\"babying\" a new idea, creation or project.\\xa0 Alternatively, it may\\nrefer to your nurturing, protective, and caring nature. A more literal\\ninterpretation of this symbol suggests that you may be yearning for a baby or\\nthat you are expecting a baby. The dream may also be a pun on \"your\\nhome\".\\nCrickets\\nTo\\nsee crickets in your dream represents introspection. You are seeking guidance.\\nTo\\nhear crickets in your dream suggests that you are letting minor things bother\\nyou.\\nCrime\\nTo\\ndream that you or someone commits a crime represents feelings of guilt and\\nshame. Your inner fears are hindering your growth and progress.\\n      Crime\\n      Scene Tape\\n      To\\n      see crime scene tape in your dream represents protection from your\\n      subconscious. Something is preventing you from delving deeper.\\n      Alternatively, the dream symbolizes restriction.\\xa0\\nCriminal\\nTo\\ndream that you are a criminal indicates that you are looking for a short cut in\\nlife. You are selling yourself short and underestimating your own potential.\\xa0Alternatively,\\nthe dream means that you feel you are entitled to certain things.\\nCripple\\n*Please\\nSee Handicap.\\nCritic\\nTo\\ndream that you are a critic suggests that you are being overly judgmental of\\nothers or of some situation. Alternatively, the dream represents\\nself-discipline.\\xa0\\nCrochet\\nTo\\nsee crochet in your dream indicates that you will find yourself entangled in\\nsome situation\\nTo\\ndream that you are crocheting symbolizes your creativity and artistic abilities.\\nCrock\\nPot\\nTo\\nsee or use a crock pot in your dream suggests that you need to look at various\\nsources to attack a problem. Alternatively, it means\\nthat patience, hard work, and tenacity will pay off in the long run.\\xa0 Hang\\nin there and don\\'t let difficulties and obstacles discourage you.\\nCrocodile\\nTo\\nsee a crocodile in your dream symbolizes freedom, hidden strength and power. It\\nalso forewarns of hidden danger. Someone near you is giving you bad advice and\\nis trying to sway you into poor decisions. Because crocodiles can live in water\\nand on land, they also represent your conscious and subconscious and the\\nemotional and rational. Perhaps something is coming to the surface and you are\\non the verge of some new awareness.\\nAlternatively,\\nthe crocodile may be an aspect of yourself and your aggressive and\\n\"snappy\" attitude. Or it may reveal that you are being insincere,\\ndisplaying false emotions and shedding \"crocodile tears\".\\nDreaming\\nthat you are chased or bitten by a crocodile implies that you are refusing to\\nconfront some painful, disturbing or destructive aspect of your subconscious. Your\\nfeelings toward a situation or relationship is suffocating you or is eating you\\nup inside.\\n**See\\nThe Meaning In Action: \"Crocodile\\nChase\"\\n\\nCrocus\\n\\nTo\\nsee a crocus in your dream represents lucidity and your need to think more\\nclearly about a situation.\\n\\nCroissant\\n\\nTo\\ndream that you are eating a croissant indicates that you are lacking some\\naffection or love in your life. There is a void waiting to be filled.\\n\\xa0\\nCrooked\\nTo\\nsee something crooked in your dream indicates that something is not right or\\nnormal about a situation. The dream may also be a pun on someone who is a crook.\\nYou may be duped or lied to.\\nCrop\\nTo\\ndream that you are tending to your crop represents growth, self-love, and\\nself-appreciation. In the end, your hard work will pay off.\\nCross\\nTo\\nsee a cross in your dream signifies suffering, martyrdom, death, and/or\\nsacrifice. It is a symbol of your religious faith. Perhaps your dream is telling\\nyou that you have a cross to bear or that you are acting \"crossed\" and\\nannoyed. Ask yourself what is causing you to suffer or what is causing you great\\ndifficulties.\\nDreaming\\nthat a cross is swinging back and forth in a pendulum motion suggests that you\\nare wavering in your faith and/or questioning your belief system.\\nCross-Dressing\\nTo\\ndream that you or someone is cross-dressing indicates that you need to express\\nand acknowledge your masculine side if you are female or your feminine side if\\nyou are male.\\nCrossing\\nTo\\ndream that you are crossing a street suggests that you are putting yourself in\\nharm\\'s way. Alternatively, the dream indicates that you like to go against the\\nmajority. As a result, you become the target of criticism.\\nTo\\ndream that you are crossing a river or some body of water symbolizes a spiritual\\nchange or reawakening.\\n\\nCrossbones\\n\\nTo\\nsee crossbones in your dream symbolizes danger and poison. The symbol may also\\nrepresent the life of a pirate.\\n\\nCrossbow\\n\\nTo\\nsee or use a crossbow in your dream implies that you need to have more precision\\nin the goals that you are reaching for. Try to accomplish your goals in a more\\ndirect manner.\\n  Crossing\\n  GateTo\\nsee a crossing gate in your dream symbolizes temporary setbacks toward achieving\\n  your goals, especially if the gate is going down. If the gate is up, then it\\n  means that you have overcome certain obstacles in your life. You are not\\n  letting something or something get in your way of your goals.\\nCrossroads\\nTo\\ndream that you are at a crossroads symbolize an important decision that you need\\nto make. You have come to a point in your life where\\nyou have several options that you need to weigh. Each option will lead you to a\\ndifferent destination or goal. Alternatively, the crossroads suggest of a change\\nin direction in your life.\\xa0\\nCrosswalk\\nTo\\nsee or dream that you are in a crosswalk means that you are careful about the\\nrisks you take.\\nCrossword Puzzle\\n\\nTo\\nsee or do a crossword puzzle suggests that you are being faced with a mental\\nchallenge. The dream may be a pun on \"cross words\" directed at your or\\naimed toward someone.\\n  Crouton\\n  To\\n  see or eat a crouton in your dream indicates that you are feeling uninspired.\\n  You are in need of encouragement and motivation.\\n\\nCrow\\n\\nTo\\nsee a crow in your dream represents death and the darker aspects of your\\ncharacter. The dream could also be pointing out your annoying habits.\\nAlternatively, the crow may be conveying a message from your subconscious.\\xa0\\nTo\\ndream that crows are on the attack indicates a conflict with your\\nsubconscious.\\xa0\\nTo\\ndream that you kill a crow implies that you are unable to or refuse to give up a\\nhabit.\\xa0\\n    To\\n    dream that a crow kills a person represents an inescapable death. This death\\n    may be symbolic to an end to some\\nsituation, habit, or relationship in your waking life.\\n\\nCrowbar\\n\\nTo\\nsee or use a crowbar in your dream suggests that you are trying to get into your\\nsubconscious even though you may not be mentally ready to confront those issues.\\nYou are forcing things out.\\xa0\\nTo\\ndream that you are attached with a crowbar means that someone is making you\\nconfront some issue that you are not ready to deal with.\\nCrowd\\nTo\\ndream that you are in or part of a crowd suggests that you need some space for\\nyourself. You need solitude to reflect on a situation and recharge your energy.\\nConsider also the familiar phrase of \"going along with the crowd\"\\nwhich implies conformity and lack of individuality.\\xa0 Perhaps you feel that\\nyour own opinion doesn\\'t count or matter. Alternatively, dreaming of a crowd\\nmeans that you need to incorporate the various aspects of the crowd into your\\nown persona.\\xa0If you dream that you are stopping a crowd from doing\\nsomething, then it means that you have a tendency to go against what everyone\\nelse is doing or thinking.\\nTo\\ndream that you are not part of a crowd or that you separated yourself from a\\ncrowd suggests that you are feeling left out. Alternatively, the dream\\nsymbolizes your individualism. You are your own person and you are not afraid to\\nvoice your own opinions.\\xa0\\nTo\\nsee an unruly crowd in your dream signifies that the worries and problems around\\nyou are pressing in on you.\\xa0You are expressing great distress.\\nTo\\nsee a happy, orderly crowd in your dream indicates that you have a strong social\\nsupport system.\\nCrown\\nTo\\nsee a crown in your dream symbolizes success and prominence.\\xa0\\nTo\\ndream that you are wearing a crown suggests that you are in a position of power.\\nAlternatively, you may be basking in your own achievements. You are recognizing\\nyour talents and accomplishments.\\nCrucifix\\nTo\\nsee a crucifix in your dream is symbolic of new life, spiritual guidance, and\\nliberation. The dream may serve as a connection with your inner Christ/love\\nconsciousness. Alternatively, it represents\\xa0 your difficulties and\\nhardships. Do you feel you are being crucified for something occurring in your\\nlife?\\nTo\\nsee an upside down crucifix implies that some aspect of your life is in\\ndisarray. You are not sure what to believe or what is right anymore. Things are\\nnot always what it seems. Alternatively, an upside down crucifix is symbolic of\\nthe pope.\\xa0\\nCrucify\\nTo\\ndream that you are being crucified indicates that you are punishing yourself.\\xa0You\\nmay be feeling guilty.\\xa0\\xa0\\nCruel\\nTo\\ndream that you or someone is being cruel signifies the release of pent-up\\nhostility and anger. You may need to acknowledge the shadow and negative aspects\\nof your personality.\\nTo\\ndream that someone is being cruel to you suggests that you need to develop your\\ninner and outer strengths and become more emotionally strong.\\nCruise\\nTo\\ndream that you are on a cruise represents some emotional journey that you are\\ngoing through. The dream may also be a pun on \"cruising\" through\\nsituations in your life with ease and little effort.\\nCrumbs\\nTo\\nsee or make crumbs in your dream suggest that you are feeling left out. Do you\\nfeel like an outsider in some situation?\\nCrush\\nTo\\ndream that you are crushing something denotes that you are under tremendous\\nstress over a decision that you need to make. If you dream that a part of your\\nbody is being crushed, then it suggests that you are being prevented to full\\nexpress yourself.\\nTo\\ndream that you have a crush on somebody is a literal reflection of your\\nattraction and fascination for that person.\\xa0 To see\\nyour crush in your dream represents your current infatuation with her or him.\\xa0\\nIf you find yourself thinking about him during the day, then it is not\\nsurprising that his image will appear in your dream during the night. If you\\ndream of your crush frequently or that\\xa0 your crush likes you back, then your dream maybe be telling you that it is\\ntime to let this person know how you feel, especially if you are dreaming of her or him\\nin a good way. Only good things can happen from you telling your crush.\\nEven if he or she is not interested, at least you can move on and stop wasting\\ntime on her or him.\\nTo\\ndream that your crush has died suggests that your feelings for her or him is\\nwaning; the crush is no longer as strong. The dream may also be telling you to\\nmove on.\\nIf\\nyou dream that somebody has a crush on you, then it represents you own sense of\\nworthiness and esteem.\\nTo\\ndream about a former crush refers to a particular period in your life and what\\nyou were feeling then. Perhaps a waking relationship is repeating the same\\npattern.\\nTo\\ndream that your crush rejects you or stands you up represents your feelings of\\ninsecurities and anxieties. The idea of not knowing how your crush feels about\\nyou is driving you nuts. Assuming that he or she rejects you, before you\\nactually know how he or she feels, saves you from getting hurt.\\xa0Because you\\nare afraid to find out how he or she really feels about you,\\nit may just be easier to move on if\\xa0you think that they don\\'t like you\\nback.\\xa0\\nCrutches\\nTo\\ndream that you are on crutches signify your need to lean on others for help.\\nPerhaps you are acting helpless in order to get out of some situation or\\nobligation.\\nCry\\nTo\\ndream that you are crying signifies a release of negative emotions that is more\\nlikely caused by some waking situation rather than the events of the dream\\nitself. Your dream is a way to regain some emotional balance and to safely let\\nout your fears and frustrations. In your daily lives, you tend to ignore, deny,\\nor repress your feelings. But in your dream state, your defense mechanisms are\\nno longer on guard and thus allow for the release of those feelings that you\\nhave repressed during the day.\\xa0\\nTo\\nsee someone else crying in your dream may be a projection of your own feelings\\nonto someone else. If you do not cry in your waking life, then seeing someone\\nelse cry may be a little easier to deal with then seeing yourself cry.\\xa0\\xa0\\nTo\\nwake up crying represents some suppressed hurt or previous trauma that is coming\\nup to the surface. You can no longer suppress these emotions. They need to be\\ndealt with head on.\\nTo\\ndream that no one hears or responds to your cries represents your helplessness,\\ndifficulties and frustrations in trying to\\ncommunicate with others. You feel that your words are falling on deaf ears.\\nPerhaps your dream is telling you to be more vocal and work harder to get your\\npoint across.\\nCryopreservation\\nTo\\ndream that you are being cryopreserved indicates that you may be stuck in the\\npast. You are dwelling on how things used to be.\\nCrystal\\nTo\\nsee a crystal in your dream signifies wholeness, purity, healing, development\\nand unity. It represents your higher Self. The dream may be a metaphor for\\nsomething in your life that is crystallizing or taking shape.\\nTo\\ndream that you are looking into a crystal represents how you are looking within\\nyourself to find your true destiny. Alternatively, it indicates your outlook of\\nthe future.\\xa0\\nCrystal\\nBall\\nTo\\nsee or look through a crystal ball in your dream suggests that you are looking\\nfor guidance and direction in your life.\\xa0It represents your outlook of the\\nfuture.\\xa0\\n  Crystal\\n  Skull\\n  To\\n  see or find a crystal skull in your dream represents something you do not\\n  fully understand.\\n  Dreaming\\n  that your own skull is turning into a crystal skull suggests that you feel\\n  others can read your mind or see right through you. Perhaps you have something\\n  to hide. Alternatively, the dream symbolizes reflection, insight, intuition\\n  and mental powers. You need to look at a situation from the past, present and future.\\nCub\\nTo\\nsee a cub in your dream represents innocence, playfulness and/or\\nmischievousness.\\xa0 It is also symbolic of your children or siblings.\\xa0\\nCube\\nTo\\nsee a cube in your dream symbolizes material possessions and earthly things. It\\nmay also be a metaphor for \"being square\" or being too conservative.\\nCuckoo\\nTo\\nsee a cuckoo in your dream symbolizes unfaithfulness. Or there may be someone in\\nyour life whose presence is unwelcome. Perhaps you are the one who is\\xa0\\nintruding on other people\\'s business. Alternatively, a cuckoo represents timing\\nand fate. You need to change your direction or alter your approach in how your\\npursue some situation. The dream may also be a metaphor for someone who is\\nbehaving crazily.\\nCucumber\\nTo\\nsee or eat\\xa0 a cucumber in your dream signifies recuperation and recovery.\\nYou need to regain your energy and health. Alternatively, it is symbolic of the\\nphallus and have sexual connotations.\\xa0\\nCuddle\\nTo\\ndream that you are cuddling with someone indicates your need for physical and/or\\nemotional contact. Do not overlook the obvious meaning of this dream which\\nsuggests your heart\\'s desire for that particular person. Also consider the\\nsymbolism of that person you are cuddling with and determine how you need to\\nacknowledge, accept, and unify those qualities in yourself.\\nCult\\nTo\\ndream that you are in a cult suggests that you are in some destructive and/or\\nmanipulative relationship. You are being exploited. On a more positive note, you\\nhave the desire to strive for a better Self. It implies devotion and sense of\\ncommunity.\\xa0\\nTo\\nsee a cult in your dream indicates that you are lacking any spiritual freedom.\\xa0\\nTo\\ndream that you are a leader of a cult signifies your authoritarian attitude.\\xa0\\nNo one should question your motives or choices.\\nCultivate\\nTo\\ndream that you are cultivating indicates that you need to clear your mind of\\nnegative thoughts. Keeping an open mind will further allow\\xa0 you to grow as\\na person.\\nCup\\nTo\\nsee a cup in your dream represents love, nurturance and the womb. The cup may\\nalso signify rejuvenation and healing.\\xa0Alternatively, it indicates a\\ntranscendence into a realm of higher consciousness. Is the cup half-full or\\nhalf-empty? Do you see life from an optimistic or pessimistic point of view.\\nTo\\nsee a cup with a broken handle indicates your feelings of inadequacy and\\nanxieties of being unable to handle a particular situation.\\nTo\\nsee a broken cup in your dream denotes feelings of powerlessness, guilt and/or\\nlow self-esteem. Perhaps you feel unqualified or inadequate in dealing with a\\nsituation.\\nCupboard\\nTo\\ndream that you are opening a cupboard signifies that you are revealing some\\nhidden truth or secret.\\xa0\\nTo\\ndream that you are closing the cupboard or putting something away inside the\\ncupboard, indicates that there is something you are trying to hide. You are\\nrefusing to confront some issue or problem.\\nCupcake\\nTo\\nsee or eat a cupcake in your dream suggests that you are treating yourself to a\\nlittle sweet reward. You feel that you are deserving of some sort of gift of\\nprize. Alternatively, a cupcake represents your need to downsize some aspect of\\nyour life in order to make it more palatable or manageable. Take it a little bit\\nat a time.\\xa0\\nCupid\\nTo\\nsee cupid in your dream represents a love relationship in your waking life. Its\\nappearance in your dream may mean that you need to take a risk in love.\\nCurb\\nTo\\nsee a curb in your dream symbolizes restrictions and limitations. Alternatively,\\nthe dream may be a metaphor that there is something that you need to\\n\"curb\" in your life. You need to show\\xa0more control.\\xa0\\n  Cure\\n  To\\n  dream of a cure for a disease or illness indicates positive changes ahead.\\n  Things are taking a turn for the better. Alternatively the dream represents\\n  hope.\\xa0\\nCurfew\\nTo\\ndream that you have a curfew symbolizes some time-sensitive situation. You are\\nfeeling burdened by the expectation of others.\\nTo\\ndream that you miss curfew denotes your fear of change. You are feeling\\nunprepared, unworthy, or unsupported in your current circumstances.\\nAlternatively, the dream suggests that time has ran out and you do not have time\\nto accomplish all the things you want.\\nCurlers\\n  To\\nsee curlers in your dream suggest that you are thinking in circles. You may be\\ngoing over the same problem/situation again and again without any conclusion.\\nCurling\\n      To\\n      dream that you are watching or playing curling symbolizes teamwork and\\n      cooperation. Sometimes you need the help of others in order to attain your\\n      goals. Alternatively, the dream refers to your ability to shape your own\\n      path in life.\\nCurling\\nIron\\n      To\\nsee or use a curling iron in your dream indicates that you are trying to\\n      disguise your true feelings.\\xa0\\xa0\\nCurrent\\nTo\\nsee/notice an ocean or river current in your dream represents the direction of\\nyour life and the decisions you have made along the way. It also represents your\\ninfluences and how they work in guiding you through your life\\'s path. The dream\\nmay also be a metaphor for some current events or for something that is going on\\nin your life at the moment.\\nCurry\\nTo\\nsee or taste curry in your dream suggests that you are emotionally sensitive and\\neasily irritable. Alternatively, it refers to your quick-wit, sharpness, and\\nintellect. It may also mean that you feel like you are\\xa0 hot stuff.\\nCurse\\nTo\\ndream that you or someone is under a curse suggests that you are getting caught\\nup in your own guilt. You also need to proceed with caution in some situation or\\nrelationship.\\nTo\\ndream that you or someone is cursing refers to your inner fears. It also means\\nthat you are becoming a hardened person.\\n      Curtain\\n      Rod\\n      To\\n      see a curtain rod in your dream indicates that you are revealing too much.\\n      You need to learn to hold certain things back.\\nCurtains\\nTo\\nsee or dream that you are shutting the curtains signify secrecy and a repression\\nof thoughts.\\xa0 You are concealing some personal matter or some aspect of\\nyourself. On the other hand, to dream that you are opening the curtains\\nindicates that you are ready to reveal something hidden about yourself.\\nTo\\ndream that a stage curtain is going up indicates personal development and\\ngrowth. You have learned something significant about yourself. If the stage\\ncurtain is coming down, then it suggests that you need to accept some decision.\\nYou have to come to terms with the end.\\xa0\\nCurtsy\\nTo\\ncurtsy in your dream suggests that you are acknowledging something that is\\ngreater than you and deserves your respect. You are submitting to a power larger\\nthan you.\\nCushion\\nTo\\nsee or use a cushion in your dream suggests that you are in need of more rest\\nand relaxation. Alternatively, the dream may be a metaphor that you need to\\n\"cushion\" or distance yourself against a hurtful situation or some\\noffensive remarks.\\nCussing\\n*Please\\nSee Swearing.\\nCustard\\nTo\\nsee or eat custard in your dream represents your appreciation for the little\\nthings in life. It also indicates that your life is full of richness, sweetness\\nand nurturance.\\n  Custard\\n  Apple\\n  To\\xa0\\n  see or dream that you are eating custard apple indicates that you are\\n  experiencing an uplift in your spirituality. You are in a state of contentment\\n  and calm.\\nCustomer\\nTo\\nsee a customer or customers in your dream\\xa0refers to others who share your\\nviewpoints and ideas. If you notice that there are no\\ncustomers in a store, then it\\xa0 implies that you are alone with your ideas.\\nYou feel no one agrees with your thinking. If you are the customer, then it\\nmeans that you are looking for some sort of approval and validation of your\\nideas.\\xa0\\nCustoms\\nTo\\ndream that you are going through customs indicates that you are under scrutiny\\nand are being criticized. Alternatively, the dream suggests that you need to be\\non guard.\\xa0\\nCut\\nTo\\ndream that you have a cut suggests that you are being let down or being\\nundermined. Alternatively, it refers to feminine sexuality and feminine\\nattitudes toward sex. In particular, if the cuts are on your legs, then it\\nsymbolizes an imbalance. You are unable to stand up for yourself.\\nTo\\ndream that you are cutting yourself indicates that you are experiencing some\\noverwhelming turmoil or problems in your waking life. You are trying to\\ndisconnect yourself from the unbearable pain you are experiencing.\\nTo\\ndream that someone else is being cut suggests that you are trying to understand\\nthis person on some level. You want them to open up to you.\\xa0 If you dream\\nthat someone is cutting you, then it is symbolic of masculine aggression.\\nTo\\nsee cut marks on a wall refers to your desires to break free from some\\nobligation or relationship.\\nCuticles\\nTo\\nnotice your cuticles in our dream suggest that you are being overly sensitive.\\nYou may be overreacting in some situation.\\nCutlass\\n*Please\\nSee Machete.\\xa0\\nCutting\\nTo\\ndream that you are cutting something signifies a broken relationship or severed\\nconnection.\\xa0 Alternatively, the dream may be a metaphor for something you\\nneed to \"cut out\" in your life. Perhaps it refers to a\\xa0 bad habit\\nor a certain food.\\n      Cuttlefish\\n      To\\n      see or eat cuttlefish in your dream indicates that you are clear on your\\n      feelings and are expressing them in a healthy manner. There is no\\n      confusion or ambiguity on how you feel about a situation or about a\\n      person.\\n    Cyborg\\n    To\\n    see or dream that you are a cyborg implies that you need to balance your\\n    objectivity with your personal feelings. It may also mean that you are too\\n    rigid in your thinking.\\nCyclamen\\nTo\\nsee cyclamen in your dream represents the feminine mystique, seduction, lust and\\nallure.\\nCyclone\\nTo\\nsee a cyclone in your dream suggests that you are fighting against some\\nemotional turmoil.\\nCyclops\\nTo\\nsee Cyclops in your dream suggests that you may be narrow-minded and need to\\nexpand the scope of your vision. Alternatively, you may be too overly focused on\\none thing.\\n      Cylinder\\n      To\\n      see a cylinder in your dream suggests that you are receptive to new ideas,\\n      especially if both ends of the cylinder are open. If the cylinder is\\n      closed, then it implies that you are exhibiting caution in what you share\\n      about yourself.\\nCymbals\\nTo\\ndream that you are playing with cymbals indicate that you are overreacting in\\nsome situation. You are making too much fuss over a small thing. Alternatively,\\nthe dream refers to your connection to your spirituality.\\nCypress\\nTo\\nsee a cypress tree in your dream symbolizes death, the underworld, and the subconscious. It may also indicate a time of mourning and sadness.\\nCyst\\nTo\\ndream that you have cyst suggests that you have something that needs to be\\nexpressed and get out in the open. You may be harboring some prejudices,\\nattitudes, or some other negative emotion that attempting to be released. You\\nneed to acknowledge these feelings and deal with them. Also consider the\\nsymbolism of where on the body the cyst is located.\\n\\xa0\\n\\n        \\n\\xa0\\n\\n        \\n         \\n\\n      '"
      ]
     },
     "execution_count": 44,
     "metadata": {},
     "output_type": "execute_result"
    }
   ],
   "source": [
    "tabl.text_content()"
   ]
  },
  {
   "cell_type": "code",
   "execution_count": 4,
   "id": "6e5c9b44",
   "metadata": {},
   "outputs": [],
   "source": [
    "with open(\"html/c_all.html\", \"r\") as f:\n",
    "    html = f.read()"
   ]
  },
  {
   "cell_type": "code",
   "execution_count": 5,
   "id": "95e7d1c6",
   "metadata": {},
   "outputs": [],
   "source": [
    "\n",
    "        \n",
    "xp = \"/html/body/table[2]/tr/td/div/center/table/tr[4]/td[1]\"\n",
    "\n",
    "tree = lhtml.fromstring(html)\n",
    "\n",
    "#tree.text_content()\n",
    "\n",
    "tabl = tree.xpath(xp)[0]"
   ]
  },
  {
   "cell_type": "code",
   "execution_count": 26,
   "id": "d2e06d53",
   "metadata": {},
   "outputs": [
    {
     "data": {
      "application/vnd.microsoft.datawrangler.viewer.v0+json": {
       "columns": [
        {
         "name": "index",
         "rawType": "int64",
         "type": "integer"
        },
        {
         "name": "clas",
         "rawType": "object",
         "type": "string"
        },
        {
         "name": "cont",
         "rawType": "object",
         "type": "string"
        }
       ],
       "conversionMethod": "pd.DataFrame",
       "ref": "8d3d2636-9957-4135-a3da-63557036536f",
       "rows": [
        [
         "0",
         "sym",
         " C"
        ],
        [
         "1",
         "mean",
         "Alternatively, it may indicate the name or initial of a person."
        ],
        [
         "2",
         "sym",
         "Cab"
        ],
        [
         "3",
         "mean",
         "To dream that you are hailing a cab suggests that you need to ask for help in order to be able to move forward in some waking situation. "
        ],
        [
         "4",
         "mean",
         "To dream that you are in a cab indicates that you are being taken for a ride. Someone is taking advantage of you."
        ],
        [
         "5",
         "sym",
         " Cabana"
        ],
        [
         "6",
         "mean",
         "To see or dream that you are in a cabana signifies your need for an escape or vacation. You may be feeling overwhelmed by a waking problem and need some downtime."
        ],
        [
         "7",
         "sym",
         "Cabaret"
        ],
        [
         "8",
         "mean",
         "To watch a cabaret in your dream indicates your need to acknowledge your sensual side. "
        ],
        [
         "9",
         "sym",
         "Cabbage"
        ],
        [
         "10",
         "mean",
         "To see or eat cabbage in your dream suggests that you should not waste time with petty things in your life. You live and thrive on life's challenges. Alternatively, the dream refers to your unwise choices or decisions. You need to rethink some of your decisions. "
        ],
        [
         "11",
         "sym",
         "Cabin"
        ],
        [
         "12",
         "mean",
         "To see or dream that you are in a wood cabin indicates that you will succeed via your own means. It suggests that you are self-reliant and independent, yet still remain humble. You prefer the simpler things in life."
        ],
        [
         "13",
         "mean",
         "To dream that you are in a ship cabin indicates that are seeking some refuge from your emotions."
        ],
        [
         "14",
         "sym",
         " Cabinet"
        ],
        [
         "15",
         "mean",
         "To see a cabinet in your dream symbolizes the female body and/or the womb. Alternatively, you may be hiding some family or personal secret. Consider the contents and condition of the cabinet for more clues. "
        ],
        [
         "16",
         "mean",
         "To dream that someone rearranged your cabinets suggests that somebody is overstepping your boundaries. "
        ],
        [
         "17",
         "sym",
         "Cable"
        ],
        [
         "18",
         "mean",
         "To see a cable in your dream represents your stamina and durability. If the cable is frayed or broken, then it signifies a lack of strength."
        ],
        [
         "19",
         "mean",
         "To dream of cable television signifies your openness and how you communicate with others."
        ],
        [
         "20",
         "sym",
         "Cable Car"
        ],
        [
         "21",
         "mean",
         "To see or ride in a cable car in your dream signifies the compromises that you make in life. Sometimes you have to go along with the masses in order to maintain the peace. Alternatively, the dream represents life's journey. You are headed in the right direction. "
        ],
        [
         "22",
         "sym",
         " Caboose"
        ],
        [
         "23",
         "mean",
         "To see or be in a caboose implies that you are last in line for something. You are feeling shortchanged. Alternatively, dreaming of a caboose serves as a reminder that you will eventually get to where you need. It is not always about being first or finishing first."
        ],
        [
         "24",
         "sym",
         "Cackle"
        ],
        [
         "25",
         "mean",
         "To hear the sound of cackling in your dream signifies illness and loss."
        ],
        [
         "26",
         "sym",
         "Cactus"
        ],
        [
         "27",
         "mean",
         "To see a cactus in your dream suggests that you are feeling invaded, that your space is being crowded into and that you are being suffocated. The prickly spines of the cactus represent the boundary you are trying to establish between your personal and private. Or you feel the need to defend yourself in some way. Alternatively, the dream implies that you have found yourself in a sticky situation. Perhaps you need to adapt to your existing circumstances instead of trying to change them."
        ],
        [
         "28",
         "link",
         "*Please See Also Succulents."
        ],
        [
         "29",
         "sym",
         "  Cadaver"
        ],
        [
         "30",
         "mean",
         "To dream that you are dissecting a cadaver indicates that you are ready to reveal or expose an aspect of yourself that you have been hiding."
        ],
        [
         "31",
         "mean",
         "To see a cadaver in your dream represents a part of yourself that has died. Alternatively, dreaming of a cadaver means that you tend to give everything you have in a situation or relationship."
        ],
        [
         "32",
         "sym",
         "dillac"
        ],
        [
         "33",
         "mean",
         "To see a Cadillac in your dream suggests that you are driven to succeed. Your ambition will take you far in life."
        ],
        [
         "34",
         "sym",
         "Caduceus"
        ],
        [
         "35",
         "mean",
         "To see a caduceus in your dream symbolizes health concerns. The dream may be telling you that you need to take better care of yourself."
        ],
        [
         "36",
         "sym",
         "Caesarian Section"
        ],
        [
         "37",
         "mean",
         "To dream that you are having a caesarian section implies that you need help in order to get your idea or project off the ground. You can not do it by yourself. A more direct interpretation of this dream may represent your anxieties of having a C-section in real life."
        ],
        [
         "38",
         "sym",
         "Cafe "
        ],
        [
         "39",
         "mean",
         "To dream that you are at a cafe represents your social life. The dream is telling you that it is time to call up old friends and catch up with what they are all up to. "
        ],
        [
         "40",
         "sym",
         "Cafeteria"
        ],
        [
         "41",
         "mean",
         "To dream that you are in a cafeteria denotes that there may be a lot of issues \"eating\" you up inside."
        ],
        [
         "42",
         "sym",
         "Cage"
        ],
        [
         "43",
         "mean",
         "To dream that you are in a cage indicates that you are experiencing inhibitions and powerlessness in some areas of your life. You are feeling restricted, confined and restrained in a current relationship or business deal. Somebody may be keeping a short leash on you, where you are lacking the freedom to act independently. "
        ],
        [
         "44",
         "mean",
         "To dream that you are putting a wild animal into a cage signifies that you will succeed in overcoming your rivals and fears. It is also symbolic of your ability to control you animalistic rages and anger. "
        ],
        [
         "45",
         "mean",
         "To see a bird in a cage suggests that you are feeling limited in your expression and a sudden lost of freedom. You may be experiencing frustrations and an inhibited spirituality. The dream may also imply that you are feeling like a \"jail bird\"."
        ],
        [
         "46",
         "sym",
         "  Cage Fighting"
        ],
        [
         "47",
         "mean",
         "To dream that you are cage fighting indicates that you are feeling restricted or confined in a current relationship. An aspect of yourself is fighting to be expressed or let out."
        ],
        [
         "48",
         "mean",
         "To watch a cage fight represents conflicting ideas or beliefs. "
        ],
        [
         "49",
         "sym",
         "Cake"
        ]
       ],
       "shape": {
        "columns": 2,
        "rows": 1607
       }
      },
      "text/html": [
       "<div>\n",
       "<style scoped>\n",
       "    .dataframe tbody tr th:only-of-type {\n",
       "        vertical-align: middle;\n",
       "    }\n",
       "\n",
       "    .dataframe tbody tr th {\n",
       "        vertical-align: top;\n",
       "    }\n",
       "\n",
       "    .dataframe thead th {\n",
       "        text-align: right;\n",
       "    }\n",
       "</style>\n",
       "<table border=\"1\" class=\"dataframe\">\n",
       "  <thead>\n",
       "    <tr style=\"text-align: right;\">\n",
       "      <th></th>\n",
       "      <th>clas</th>\n",
       "      <th>cont</th>\n",
       "    </tr>\n",
       "  </thead>\n",
       "  <tbody>\n",
       "    <tr>\n",
       "      <th>0</th>\n",
       "      <td>sym</td>\n",
       "      <td>C</td>\n",
       "    </tr>\n",
       "    <tr>\n",
       "      <th>1</th>\n",
       "      <td>mean</td>\n",
       "      <td>Alternatively, it may indicate the name or ini...</td>\n",
       "    </tr>\n",
       "    <tr>\n",
       "      <th>2</th>\n",
       "      <td>sym</td>\n",
       "      <td>Cab</td>\n",
       "    </tr>\n",
       "    <tr>\n",
       "      <th>3</th>\n",
       "      <td>mean</td>\n",
       "      <td>To dream that you are hailing a cab suggests t...</td>\n",
       "    </tr>\n",
       "    <tr>\n",
       "      <th>4</th>\n",
       "      <td>mean</td>\n",
       "      <td>To dream that you are in a cab indicates that ...</td>\n",
       "    </tr>\n",
       "    <tr>\n",
       "      <th>...</th>\n",
       "      <td>...</td>\n",
       "      <td>...</td>\n",
       "    </tr>\n",
       "    <tr>\n",
       "      <th>1602</th>\n",
       "      <td>sym</td>\n",
       "      <td>Cyst</td>\n",
       "    </tr>\n",
       "    <tr>\n",
       "      <th>1603</th>\n",
       "      <td>mean</td>\n",
       "      <td>To dream that you have cyst suggests that you ...</td>\n",
       "    </tr>\n",
       "    <tr>\n",
       "      <th>1604</th>\n",
       "      <td>mean</td>\n",
       "      <td></td>\n",
       "    </tr>\n",
       "    <tr>\n",
       "      <th>1605</th>\n",
       "      <td>mean</td>\n",
       "      <td></td>\n",
       "    </tr>\n",
       "    <tr>\n",
       "      <th>1606</th>\n",
       "      <td>mean</td>\n",
       "      <td></td>\n",
       "    </tr>\n",
       "  </tbody>\n",
       "</table>\n",
       "<p>1607 rows × 2 columns</p>\n",
       "</div>"
      ],
      "text/plain": [
       "      clas                                               cont\n",
       "0      sym                                                  C\n",
       "1     mean  Alternatively, it may indicate the name or ini...\n",
       "2      sym                                                Cab\n",
       "3     mean  To dream that you are hailing a cab suggests t...\n",
       "4     mean  To dream that you are in a cab indicates that ...\n",
       "...    ...                                                ...\n",
       "1602   sym                                               Cyst\n",
       "1603  mean  To dream that you have cyst suggests that you ...\n",
       "1604  mean                                                   \n",
       "1605  mean                                                   \n",
       "1606  mean                                                   \n",
       "\n",
       "[1607 rows x 2 columns]"
      ]
     },
     "execution_count": 26,
     "metadata": {},
     "output_type": "execute_result"
    }
   ],
   "source": [
    "syms_data = pd.DataFrame(syms_data)\n",
    "syms_data "
   ]
  },
  {
   "cell_type": "code",
   "execution_count": 27,
   "id": "c4602e4b",
   "metadata": {},
   "outputs": [],
   "source": [
    "def squeeze_meaning_by_symbol(syms_data):\n",
    "    data2 =[]\n",
    "    sym = \"\"\n",
    "    meanings = []\n",
    "\n",
    "    for i, r in syms_data.iterrows():\n",
    "        if r['clas'] == \"sym\":\n",
    "            \n",
    "            data2.append({\"symbol\": sym, \"meaning\": meanings})\n",
    "            meanings = []\n",
    "            sym = r['cont']\n",
    "        else:\n",
    "            meanings.append(r['cont'])\n",
    "        \n",
    "\n",
    "    data2 = pd.DataFrame(data2)\n",
    "    data2['n_meanings'] = data2.meaning.apply(len)\n",
    "    return data2\n",
    "\n",
    "data2 = squeeze_meaning_by_symbol(syms_data)    "
   ]
  },
  {
   "cell_type": "code",
   "execution_count": 29,
   "id": "4e203b73",
   "metadata": {},
   "outputs": [
    {
     "data": {
      "application/vnd.microsoft.datawrangler.viewer.v0+json": {
       "columns": [
        {
         "name": "index",
         "rawType": "int64",
         "type": "integer"
        },
        {
         "name": "symbol",
         "rawType": "object",
         "type": "string"
        },
        {
         "name": "meaning",
         "rawType": "object",
         "type": "unknown"
        },
        {
         "name": "n_meanings",
         "rawType": "int64",
         "type": "integer"
        }
       ],
       "conversionMethod": "pd.DataFrame",
       "ref": "b82120e7-af62-41bc-bf7f-20b3c886af18",
       "rows": [
        [
         "0",
         "",
         "[]",
         "0"
        ],
        [
         "1",
         " C",
         "['Alternatively, it may indicate the name or initial of a person.']",
         "1"
        ],
        [
         "2",
         "Cab",
         "['To dream that you are hailing a cab suggests that you need to ask for help in order to be able to move forward in some waking situation. ', 'To dream that you are in a cab indicates that you are being taken for a ride. Someone is taking advantage of you.']",
         "2"
        ],
        [
         "3",
         " Cabana",
         "['To see or dream that you are in a cabana signifies your need for an escape or vacation. You may be feeling overwhelmed by a waking problem and need some downtime.']",
         "1"
        ],
        [
         "4",
         "Cabaret",
         "['To watch a cabaret in your dream indicates your need to acknowledge your sensual side. ']",
         "1"
        ],
        [
         "5",
         "Cabbage",
         "[\"To see or eat cabbage in your dream suggests that you should not waste time with petty things in your life. You live and thrive on life's challenges. Alternatively, the dream refers to your unwise choices or decisions. You need to rethink some of your decisions. \"]",
         "1"
        ],
        [
         "6",
         "Cabin",
         "['To see or dream that you are in a wood cabin indicates that you will succeed via your own means. It suggests that you are self-reliant and independent, yet still remain humble. You prefer the simpler things in life.', 'To dream that you are in a ship cabin indicates that are seeking some refuge from your emotions.']",
         "2"
        ],
        [
         "7",
         " Cabinet",
         "['To see a cabinet in your dream symbolizes the female body and/or the womb. Alternatively, you may be hiding some family or personal secret. Consider the contents and condition of the cabinet for more clues. ', 'To dream that someone rearranged your cabinets suggests that somebody is overstepping your boundaries. ']",
         "2"
        ],
        [
         "8",
         "Cable",
         "['To see a cable in your dream represents your stamina and durability. If the cable is frayed or broken, then it signifies a lack of strength.', 'To dream of cable television signifies your openness and how you communicate with others.']",
         "2"
        ],
        [
         "9",
         "Cable Car",
         "[\"To see or ride in a cable car in your dream signifies the compromises that you make in life. Sometimes you have to go along with the masses in order to maintain the peace. Alternatively, the dream represents life's journey. You are headed in the right direction. \"]",
         "1"
        ],
        [
         "10",
         " Caboose",
         "['To see or be in a caboose implies that you are last in line for something. You are feeling shortchanged. Alternatively, dreaming of a caboose serves as a reminder that you will eventually get to where you need. It is not always about being first or finishing first.']",
         "1"
        ],
        [
         "11",
         "Cackle",
         "['To hear the sound of cackling in your dream signifies illness and loss.']",
         "1"
        ],
        [
         "12",
         "Cactus",
         "['To see a cactus in your dream suggests that you are feeling invaded, that your space is being crowded into and that you are being suffocated. The prickly spines of the cactus represent the boundary you are trying to establish between your personal and private. Or you feel the need to defend yourself in some way. Alternatively, the dream implies that you have found yourself in a sticky situation. Perhaps you need to adapt to your existing circumstances instead of trying to change them.', '*Please See Also Succulents.']",
         "2"
        ],
        [
         "13",
         "  Cadaver",
         "['To dream that you are dissecting a cadaver indicates that you are ready to reveal or expose an aspect of yourself that you have been hiding.', 'To see a cadaver in your dream represents a part of yourself that has died. Alternatively, dreaming of a cadaver means that you tend to give everything you have in a situation or relationship.']",
         "2"
        ],
        [
         "14",
         "dillac",
         "['To see a Cadillac in your dream suggests that you are driven to succeed. Your ambition will take you far in life.']",
         "1"
        ],
        [
         "15",
         "Caduceus",
         "['To see a caduceus in your dream symbolizes health concerns. The dream may be telling you that you need to take better care of yourself.']",
         "1"
        ],
        [
         "16",
         "Caesarian Section",
         "['To dream that you are having a caesarian section implies that you need help in order to get your idea or project off the ground. You can not do it by yourself. A more direct interpretation of this dream may represent your anxieties of having a C-section in real life.']",
         "1"
        ],
        [
         "17",
         "Cafe ",
         "['To dream that you are at a cafe represents your social life. The dream is telling you that it is time to call up old friends and catch up with what they are all up to. ']",
         "1"
        ],
        [
         "18",
         "Cafeteria",
         "['To dream that you are in a cafeteria denotes that there may be a lot of issues \"eating\" you up inside.']",
         "1"
        ],
        [
         "19",
         "Cage",
         "['To dream that you are in a cage indicates that you are experiencing inhibitions and powerlessness in some areas of your life. You are feeling restricted, confined and restrained in a current relationship or business deal. Somebody may be keeping a short leash on you, where you are lacking the freedom to act independently. ', 'To dream that you are putting a wild animal into a cage signifies that you will succeed in overcoming your rivals and fears. It is also symbolic of your ability to control you animalistic rages and anger. ', 'To see a bird in a cage suggests that you are feeling limited in your expression and a sudden lost of freedom. You may be experiencing frustrations and an inhibited spirituality. The dream may also imply that you are feeling like a \"jail bird\".']",
         "3"
        ],
        [
         "20",
         "  Cage Fighting",
         "['To dream that you are cage fighting indicates that you are feeling restricted or confined in a current relationship. An aspect of yourself is fighting to be expressed or let out.', 'To watch a cage fight represents conflicting ideas or beliefs. ']",
         "2"
        ],
        [
         "21",
         "Cake",
         "['To see a cake in your dream indicates that you need to learn to share and allocate your workload instead of trying to do everything yourself. Cakes also symbolize selfishness or the feeling of not getting your fair share. More positively, the dream may represent your accomplishments and achievements. Consider also the metaphor a \"piece of cake\" or some situation that is easy.', 'To see a partially eaten cake in your dream signifies missed and lost opportunities.', 'To dream that you are buying a cake suggests that you have accepted the rewards and recognition you are getting for our work. You are learning to be comfortable in the spotlight.']",
         "3"
        ],
        [
         "22",
         "Calamari",
         "['To dream that you are eating calamari indicates that you are feeling battered or beaten. However, you are tough. Hang in there!']",
         "1"
        ],
        [
         "23",
         " Calculator",
         "['To see a calculator in your dream suggests that you need to thoroughly think through some problem and carefully evaluate your choices. You need to lay out some sort of plan or outline. The symbol may also be a metaphor for someone who is \"calculating\", cunning and scheming.']",
         "1"
        ],
        [
         "24",
         "Calendar",
         "['To see a calendar in your dream represents the passing of time and past events. The dream may also be a reminder of a special event, appointment or important date in your waking life.']",
         "1"
        ],
        [
         "25",
         "Calf",
         "['To see a calf in your dream symbolizes immaturity and inexperience. You need to develop certain qualities.']",
         "1"
        ],
        [
         "26",
         "California",
         "['Known as the Golden State, to dream of California, refers to your desire for instant wealth. It may also suggests that you are looking for fame. If you live in California, then the dream may just be a reflection of your reality.']",
         "1"
        ],
        [
         "27",
         "Caliper",
         "['To see or use a caliper in your dream reflects your concerns about not measuring up to the standards or expectations of others. Alternatively, dreaming of a caliper means that you need to be careful in making a decision or judgment. ']",
         "1"
        ],
        [
         "28",
         "lla Lily",
         "['To see calla lilies in your dream symbolize new beginnings, rebirth and longevity. In particular, a white calla lily represents purity, simplicity or elegance. Alternatively, the calla lily refers to a commitment. ']",
         "1"
        ],
        [
         "29",
         "Calling Card",
         "['To see or use a calling card in your dream indicates that there is someone that you need to reach out to. If the calling card has the name of someone you know on it, then it means that their presence is with your spiritually, even though they may not be with you physically. Something in your waking life is reminding you of this person. ']",
         "1"
        ],
        [
         "30",
         "Calluses",
         "['To dream that you have calluses symbolize hard work. You have be laboring over a difficult task or situation.']",
         "1"
        ],
        [
         "31",
         "Calm",
         "['To dream that you are calm denotes a fulfilling life. You find contentment and satisfaction in what you have.', 'To dream that someone is trying to calm you down suggests that you will experience many setbacks, especially if you continue to let your emotions run out of control.']",
         "2"
        ],
        [
         "32",
         "Calomel",
         "['To see calomel in your dream indicates a rivalry.', 'To dream that you are taking calomel signifies that you are being manipulated and taken advantage of. It is time to open your eyes and not allow yourself to be stepped on.']",
         "2"
        ],
        [
         "33",
         "Calves",
         "['To see your calves in your dream symbolize movement and your ability to jump from situation to situation. In particular, if you are admiring your own calves, then it denotes a needy or codependent relationship.']",
         "1"
        ],
        [
         "34",
         "Camcorder",
         "['*Please See Video Camera']",
         "1"
        ],
        [
         "35",
         "Camel",
         "['To see a camel in your dream denotes that you need to be more conservative; you are carrying too many responsibilities, burdens and problems on your shoulders. Consider the common phrase, \"the straw that broke the camel\\'s back\". You tend to hold on and cling on to your emotions instead of expressing and releasing them. Learn to forgive and forget. Alternatively, the camel represents your stamina. ', 'To dream that you are petting a camel indicates that you are ready to let go of some of the burdens, responsibilities or emotional baggage that you are carrying around.']",
         "2"
        ],
        [
         "36",
         "Cameo",
         "['To see or wear a cameo in your dream represents an aspect of yourself that you are trying to express. Perhaps you are showing your delicate and feminize side. Alternatively, the dream may be a pun on a \"cameo\" appearance that you are making at some social gathering.']",
         "1"
        ],
        [
         "37",
         "Camera",
         "['To see a camera in your dream signifies your desires to cling on and/or live in the past. Alternatively, it may indicate that you need to focus on a particular situation. Perhaps you need to get a clearer picture or idea.', 'To dream that the camera is broken indicates that you are ignoring an issue or refusing to see the big picture.', 'To dream that you cannot find your camera to take a picture implies that you are not focusing on the matter at hand. Your attention is too easily diverted. Alternatively, the dream refers to forgotten memories.', 'To see or dream that you are on a hidden camera indicates that you feel that you are being scrutinized. All eyes are on you. ']",
         "4"
        ],
        [
         "38",
         "Camouflage",
         "['To dream that you are in camouflage suggests that you are hiding your true self and feelings. You are concealing who you really are. Alternatively, there is a situation in your waking life that is making you want to blend into the background and not get noticed.']",
         "1"
        ],
        [
         "39",
         "Camper",
         "['To dream that you are living in a camper indicates that you need to move on with some situation or some aspect of your life. You may be dwelling on a situation and it is time to move forward. Alternatively, you may be expressing your desire to be more independent and self-sufficient.']",
         "1"
        ],
        [
         "40",
         "Campfire",
         "['To start or see a campfire in your dream represents sharing and companionship. You need to open yourself to others and allow others to get to know you.']",
         "1"
        ],
        [
         "41",
         "Camping",
         "['To dream that you are camping indicates a need for relaxation and a long-deserved break. You need to be more in touch with nature and go back to a more basic and simpler life. Alternatively, it refers to your social circle and support group. You are looking for a sense of belonging, but at the same time be self-sufficient and independent. ']",
         "1"
        ],
        [
         "42",
         "Campus",
         "['To dream that you are on a campus indicates your need to expand your thinking/knowledge and challenge yourself mentally.']",
         "1"
        ],
        [
         "43",
         "Can",
         "['To see a can in your dream indicates that there is something in your past that you need to hold on to and preserve. The dream may also be a pun on how you \"can\" do something. Don\\'t underestimate your abilities and talents.', 'To see canned foods in your dream symbolizes the emotions that you are keeping inside.']",
         "2"
        ],
        [
         "44",
         "Can Opener",
         "['To see a can opener in your dream indicates your willingness to accept new ideas and new concepts. It may also be a symbol of reassurance and a way to tell yourself that \"I can\" do something.']",
         "1"
        ],
        [
         "45",
         "Canada",
         "['To dream that you are in Canada depends on your own personal associations with the country. If you have never been to Canada, then you will need to draw on your own preconceptions and feelings of the country. ']",
         "1"
        ],
        [
         "46",
         "Canal",
         "['To see a canal in your dream symbolizes restraint and constricted emotions. It also suggests that you are unyielding in your thinking and beliefs, which may hinder you in the pursuit of your goals. You are being too controlling.']",
         "1"
        ],
        [
         "47",
         "Canary",
         "['To see a canary in your dream represents happiness and harmony. Alternatively, the dream could indicate your desires for a relationship or that a new relationship is blossoming.']",
         "1"
        ],
        [
         "48",
         "  Cancel",
         "[\"To dream that you are canceling an appointment or plans suggests that you are afraid to confront some matter. You don't want to face the facts.\"]",
         "1"
        ],
        [
         "49",
         "Cancer",
         "['To dream that you have cancer denotes hopelessness, grief, self-pity, and unforgiveness. You feel you are wasting your life away. This dream also represents areas in your life which are bothering you, disturbing you, and hurting you in some emotional way. An emotional issue is eating away at you.', 'To dream that you are being treated for cancer signifies a positive change in your life.', 'To dream that someone has cancer indicates that you need to change your negative way of thinking before it eats away at you. Start being more positive. ', 'To dream that someone is a Cancer sign symbolizes your tendency to keep and hold on to everything. You have a lot of power and influence. The Cancer sign also indicates that you tend to be sensitive, moody and emotional. You are also very family oriented.']",
         "4"
        ]
       ],
       "shape": {
        "columns": 3,
        "rows": 639
       }
      },
      "text/html": [
       "<div>\n",
       "<style scoped>\n",
       "    .dataframe tbody tr th:only-of-type {\n",
       "        vertical-align: middle;\n",
       "    }\n",
       "\n",
       "    .dataframe tbody tr th {\n",
       "        vertical-align: top;\n",
       "    }\n",
       "\n",
       "    .dataframe thead th {\n",
       "        text-align: right;\n",
       "    }\n",
       "</style>\n",
       "<table border=\"1\" class=\"dataframe\">\n",
       "  <thead>\n",
       "    <tr style=\"text-align: right;\">\n",
       "      <th></th>\n",
       "      <th>symbol</th>\n",
       "      <th>meaning</th>\n",
       "      <th>n_meanings</th>\n",
       "    </tr>\n",
       "  </thead>\n",
       "  <tbody>\n",
       "    <tr>\n",
       "      <th>0</th>\n",
       "      <td></td>\n",
       "      <td>[]</td>\n",
       "      <td>0</td>\n",
       "    </tr>\n",
       "    <tr>\n",
       "      <th>1</th>\n",
       "      <td>C</td>\n",
       "      <td>[Alternatively, it may indicate the name or in...</td>\n",
       "      <td>1</td>\n",
       "    </tr>\n",
       "    <tr>\n",
       "      <th>2</th>\n",
       "      <td>Cab</td>\n",
       "      <td>[To dream that you are hailing a cab suggests ...</td>\n",
       "      <td>2</td>\n",
       "    </tr>\n",
       "    <tr>\n",
       "      <th>3</th>\n",
       "      <td>Cabana</td>\n",
       "      <td>[To see or dream that you are in a cabana sign...</td>\n",
       "      <td>1</td>\n",
       "    </tr>\n",
       "    <tr>\n",
       "      <th>4</th>\n",
       "      <td>Cabaret</td>\n",
       "      <td>[To watch a cabaret in your dream indicates yo...</td>\n",
       "      <td>1</td>\n",
       "    </tr>\n",
       "    <tr>\n",
       "      <th>...</th>\n",
       "      <td>...</td>\n",
       "      <td>...</td>\n",
       "      <td>...</td>\n",
       "    </tr>\n",
       "    <tr>\n",
       "      <th>634</th>\n",
       "      <td>Cyclone</td>\n",
       "      <td>[To see a cyclone in your dream suggests that ...</td>\n",
       "      <td>1</td>\n",
       "    </tr>\n",
       "    <tr>\n",
       "      <th>635</th>\n",
       "      <td>Cyclops</td>\n",
       "      <td>[To see Cyclops in your dream suggests that yo...</td>\n",
       "      <td>1</td>\n",
       "    </tr>\n",
       "    <tr>\n",
       "      <th>636</th>\n",
       "      <td>Cylinder</td>\n",
       "      <td>[To see a cylinder in your dream suggests that...</td>\n",
       "      <td>1</td>\n",
       "    </tr>\n",
       "    <tr>\n",
       "      <th>637</th>\n",
       "      <td>Cymbals</td>\n",
       "      <td>[To dream that you are playing with cymbals in...</td>\n",
       "      <td>1</td>\n",
       "    </tr>\n",
       "    <tr>\n",
       "      <th>638</th>\n",
       "      <td>Cypress</td>\n",
       "      <td>[To see a cypress tree in your dream symbolize...</td>\n",
       "      <td>1</td>\n",
       "    </tr>\n",
       "  </tbody>\n",
       "</table>\n",
       "<p>639 rows × 3 columns</p>\n",
       "</div>"
      ],
      "text/plain": [
       "       symbol                                            meaning  n_meanings\n",
       "0                                                             []           0\n",
       "1           C  [Alternatively, it may indicate the name or in...           1\n",
       "2         Cab  [To dream that you are hailing a cab suggests ...           2\n",
       "3      Cabana  [To see or dream that you are in a cabana sign...           1\n",
       "4     Cabaret  [To watch a cabaret in your dream indicates yo...           1\n",
       "..        ...                                                ...         ...\n",
       "634   Cyclone  [To see a cyclone in your dream suggests that ...           1\n",
       "635   Cyclops  [To see Cyclops in your dream suggests that yo...           1\n",
       "636  Cylinder  [To see a cylinder in your dream suggests that...           1\n",
       "637   Cymbals  [To dream that you are playing with cymbals in...           1\n",
       "638   Cypress  [To see a cypress tree in your dream symbolize...           1\n",
       "\n",
       "[639 rows x 3 columns]"
      ]
     },
     "execution_count": 29,
     "metadata": {},
     "output_type": "execute_result"
    }
   ],
   "source": [
    "data2"
   ]
  },
  {
   "cell_type": "code",
   "execution_count": 31,
   "id": "510e2220",
   "metadata": {},
   "outputs": [
    {
     "data": {
      "application/vnd.microsoft.datawrangler.viewer.v0+json": {
       "columns": [
        {
         "name": "index",
         "rawType": "int64",
         "type": "integer"
        },
        {
         "name": "symbol",
         "rawType": "object",
         "type": "string"
        },
        {
         "name": "meaning",
         "rawType": "object",
         "type": "unknown"
        },
        {
         "name": "n_meanings",
         "rawType": "int64",
         "type": "integer"
        },
        {
         "name": "mean_len",
         "rawType": "float64",
         "type": "float"
        }
       ],
       "conversionMethod": "pd.DataFrame",
       "ref": "de1c0427-9aaf-48c3-8b9a-88a83a558511",
       "rows": [
        [
         "0",
         "",
         null,
         "0",
         null
        ],
        [
         "1",
         " C",
         "Alternatively, it may indicate the name or initial of a person.",
         "1",
         "63.0"
        ],
        [
         "2",
         "Cab",
         "To dream that you are hailing a cab suggests that you need to ask for help in order to be able to move forward in some waking situation. ",
         "2",
         "137.0"
        ],
        [
         "2",
         "Cab",
         "To dream that you are in a cab indicates that you are being taken for a ride. Someone is taking advantage of you.",
         "2",
         "113.0"
        ],
        [
         "3",
         " Cabana",
         "To see or dream that you are in a cabana signifies your need for an escape or vacation. You may be feeling overwhelmed by a waking problem and need some downtime.",
         "1",
         "162.0"
        ],
        [
         "4",
         "Cabaret",
         "To watch a cabaret in your dream indicates your need to acknowledge your sensual side. ",
         "1",
         "87.0"
        ],
        [
         "5",
         "Cabbage",
         "To see or eat cabbage in your dream suggests that you should not waste time with petty things in your life. You live and thrive on life's challenges. Alternatively, the dream refers to your unwise choices or decisions. You need to rethink some of your decisions. ",
         "1",
         "263.0"
        ],
        [
         "6",
         "Cabin",
         "To see or dream that you are in a wood cabin indicates that you will succeed via your own means. It suggests that you are self-reliant and independent, yet still remain humble. You prefer the simpler things in life.",
         "2",
         "215.0"
        ],
        [
         "6",
         "Cabin",
         "To dream that you are in a ship cabin indicates that are seeking some refuge from your emotions.",
         "2",
         "96.0"
        ],
        [
         "7",
         " Cabinet",
         "To see a cabinet in your dream symbolizes the female body and/or the womb. Alternatively, you may be hiding some family or personal secret. Consider the contents and condition of the cabinet for more clues. ",
         "2",
         "207.0"
        ],
        [
         "7",
         " Cabinet",
         "To dream that someone rearranged your cabinets suggests that somebody is overstepping your boundaries. ",
         "2",
         "103.0"
        ],
        [
         "8",
         "Cable",
         "To see a cable in your dream represents your stamina and durability. If the cable is frayed or broken, then it signifies a lack of strength.",
         "2",
         "140.0"
        ],
        [
         "8",
         "Cable",
         "To dream of cable television signifies your openness and how you communicate with others.",
         "2",
         "89.0"
        ],
        [
         "9",
         "Cable Car",
         "To see or ride in a cable car in your dream signifies the compromises that you make in life. Sometimes you have to go along with the masses in order to maintain the peace. Alternatively, the dream represents life's journey. You are headed in the right direction. ",
         "1",
         "263.0"
        ],
        [
         "10",
         " Caboose",
         "To see or be in a caboose implies that you are last in line for something. You are feeling shortchanged. Alternatively, dreaming of a caboose serves as a reminder that you will eventually get to where you need. It is not always about being first or finishing first.",
         "1",
         "265.0"
        ],
        [
         "11",
         "Cackle",
         "To hear the sound of cackling in your dream signifies illness and loss.",
         "1",
         "71.0"
        ],
        [
         "12",
         "Cactus",
         "To see a cactus in your dream suggests that you are feeling invaded, that your space is being crowded into and that you are being suffocated. The prickly spines of the cactus represent the boundary you are trying to establish between your personal and private. Or you feel the need to defend yourself in some way. Alternatively, the dream implies that you have found yourself in a sticky situation. Perhaps you need to adapt to your existing circumstances instead of trying to change them.",
         "2",
         "489.0"
        ],
        [
         "12",
         "Cactus",
         "*Please See Also Succulents.",
         "2",
         "28.0"
        ],
        [
         "13",
         "  Cadaver",
         "To dream that you are dissecting a cadaver indicates that you are ready to reveal or expose an aspect of yourself that you have been hiding.",
         "2",
         "140.0"
        ],
        [
         "13",
         "  Cadaver",
         "To see a cadaver in your dream represents a part of yourself that has died. Alternatively, dreaming of a cadaver means that you tend to give everything you have in a situation or relationship.",
         "2",
         "192.0"
        ],
        [
         "14",
         "dillac",
         "To see a Cadillac in your dream suggests that you are driven to succeed. Your ambition will take you far in life.",
         "1",
         "113.0"
        ],
        [
         "15",
         "Caduceus",
         "To see a caduceus in your dream symbolizes health concerns. The dream may be telling you that you need to take better care of yourself.",
         "1",
         "135.0"
        ],
        [
         "16",
         "Caesarian Section",
         "To dream that you are having a caesarian section implies that you need help in order to get your idea or project off the ground. You can not do it by yourself. A more direct interpretation of this dream may represent your anxieties of having a C-section in real life.",
         "1",
         "267.0"
        ],
        [
         "17",
         "Cafe ",
         "To dream that you are at a cafe represents your social life. The dream is telling you that it is time to call up old friends and catch up with what they are all up to. ",
         "1",
         "168.0"
        ],
        [
         "18",
         "Cafeteria",
         "To dream that you are in a cafeteria denotes that there may be a lot of issues \"eating\" you up inside.",
         "1",
         "102.0"
        ],
        [
         "19",
         "Cage",
         "To dream that you are in a cage indicates that you are experiencing inhibitions and powerlessness in some areas of your life. You are feeling restricted, confined and restrained in a current relationship or business deal. Somebody may be keeping a short leash on you, where you are lacking the freedom to act independently. ",
         "3",
         "324.0"
        ],
        [
         "19",
         "Cage",
         "To dream that you are putting a wild animal into a cage signifies that you will succeed in overcoming your rivals and fears. It is also symbolic of your ability to control you animalistic rages and anger. ",
         "3",
         "205.0"
        ],
        [
         "19",
         "Cage",
         "To see a bird in a cage suggests that you are feeling limited in your expression and a sudden lost of freedom. You may be experiencing frustrations and an inhibited spirituality. The dream may also imply that you are feeling like a \"jail bird\".",
         "3",
         "244.0"
        ],
        [
         "20",
         "  Cage Fighting",
         "To dream that you are cage fighting indicates that you are feeling restricted or confined in a current relationship. An aspect of yourself is fighting to be expressed or let out.",
         "2",
         "178.0"
        ],
        [
         "20",
         "  Cage Fighting",
         "To watch a cage fight represents conflicting ideas or beliefs. ",
         "2",
         "63.0"
        ],
        [
         "21",
         "Cake",
         "To see a cake in your dream indicates that you need to learn to share and allocate your workload instead of trying to do everything yourself. Cakes also symbolize selfishness or the feeling of not getting your fair share. More positively, the dream may represent your accomplishments and achievements. Consider also the metaphor a \"piece of cake\" or some situation that is easy.",
         "3",
         "378.0"
        ],
        [
         "21",
         "Cake",
         "To see a partially eaten cake in your dream signifies missed and lost opportunities.",
         "3",
         "84.0"
        ],
        [
         "21",
         "Cake",
         "To dream that you are buying a cake suggests that you have accepted the rewards and recognition you are getting for our work. You are learning to be comfortable in the spotlight.",
         "3",
         "178.0"
        ],
        [
         "22",
         "Calamari",
         "To dream that you are eating calamari indicates that you are feeling battered or beaten. However, you are tough. Hang in there!",
         "1",
         "127.0"
        ],
        [
         "23",
         " Calculator",
         "To see a calculator in your dream suggests that you need to thoroughly think through some problem and carefully evaluate your choices. You need to lay out some sort of plan or outline. The symbol may also be a metaphor for someone who is \"calculating\", cunning and scheming.",
         "1",
         "274.0"
        ],
        [
         "24",
         "Calendar",
         "To see a calendar in your dream represents the passing of time and past events. The dream may also be a reminder of a special event, appointment or important date in your waking life.",
         "1",
         "183.0"
        ],
        [
         "25",
         "Calf",
         "To see a calf in your dream symbolizes immaturity and inexperience. You need to develop certain qualities.",
         "1",
         "106.0"
        ],
        [
         "26",
         "California",
         "Known as the Golden State, to dream of California, refers to your desire for instant wealth. It may also suggests that you are looking for fame. If you live in California, then the dream may just be a reflection of your reality.",
         "1",
         "228.0"
        ],
        [
         "27",
         "Caliper",
         "To see or use a caliper in your dream reflects your concerns about not measuring up to the standards or expectations of others. Alternatively, dreaming of a caliper means that you need to be careful in making a decision or judgment. ",
         "1",
         "233.0"
        ],
        [
         "28",
         "lla Lily",
         "To see calla lilies in your dream symbolize new beginnings, rebirth and longevity. In particular, a white calla lily represents purity, simplicity or elegance. Alternatively, the calla lily refers to a commitment. ",
         "1",
         "214.0"
        ],
        [
         "29",
         "Calling Card",
         "To see or use a calling card in your dream indicates that there is someone that you need to reach out to. If the calling card has the name of someone you know on it, then it means that their presence is with your spiritually, even though they may not be with you physically. Something in your waking life is reminding you of this person. ",
         "1",
         "338.0"
        ],
        [
         "30",
         "Calluses",
         "To dream that you have calluses symbolize hard work. You have be laboring over a difficult task or situation.",
         "1",
         "109.0"
        ],
        [
         "31",
         "Calm",
         "To dream that you are calm denotes a fulfilling life. You find contentment and satisfaction in what you have.",
         "2",
         "109.0"
        ],
        [
         "31",
         "Calm",
         "To dream that someone is trying to calm you down suggests that you will experience many setbacks, especially if you continue to let your emotions run out of control.",
         "2",
         "165.0"
        ],
        [
         "32",
         "Calomel",
         "To see calomel in your dream indicates a rivalry.",
         "2",
         "49.0"
        ],
        [
         "32",
         "Calomel",
         "To dream that you are taking calomel signifies that you are being manipulated and taken advantage of. It is time to open your eyes and not allow yourself to be stepped on.",
         "2",
         "171.0"
        ],
        [
         "33",
         "Calves",
         "To see your calves in your dream symbolize movement and your ability to jump from situation to situation. In particular, if you are admiring your own calves, then it denotes a needy or codependent relationship.",
         "1",
         "210.0"
        ],
        [
         "34",
         "Camcorder",
         "*Please See Video Camera",
         "1",
         "24.0"
        ],
        [
         "35",
         "Camel",
         "To see a camel in your dream denotes that you need to be more conservative; you are carrying too many responsibilities, burdens and problems on your shoulders. Consider the common phrase, \"the straw that broke the camel's back\". You tend to hold on and cling on to your emotions instead of expressing and releasing them. Learn to forgive and forget. Alternatively, the camel represents your stamina. ",
         "2",
         "400.0"
        ],
        [
         "35",
         "Camel",
         "To dream that you are petting a camel indicates that you are ready to let go of some of the burdens, responsibilities or emotional baggage that you are carrying around.",
         "2",
         "168.0"
        ]
       ],
       "shape": {
        "columns": 4,
        "rows": 973
       }
      },
      "text/html": [
       "<div>\n",
       "<style scoped>\n",
       "    .dataframe tbody tr th:only-of-type {\n",
       "        vertical-align: middle;\n",
       "    }\n",
       "\n",
       "    .dataframe tbody tr th {\n",
       "        vertical-align: top;\n",
       "    }\n",
       "\n",
       "    .dataframe thead th {\n",
       "        text-align: right;\n",
       "    }\n",
       "</style>\n",
       "<table border=\"1\" class=\"dataframe\">\n",
       "  <thead>\n",
       "    <tr style=\"text-align: right;\">\n",
       "      <th></th>\n",
       "      <th>symbol</th>\n",
       "      <th>meaning</th>\n",
       "      <th>n_meanings</th>\n",
       "      <th>mean_len</th>\n",
       "    </tr>\n",
       "  </thead>\n",
       "  <tbody>\n",
       "    <tr>\n",
       "      <th>0</th>\n",
       "      <td></td>\n",
       "      <td>NaN</td>\n",
       "      <td>0</td>\n",
       "      <td>NaN</td>\n",
       "    </tr>\n",
       "    <tr>\n",
       "      <th>1</th>\n",
       "      <td>C</td>\n",
       "      <td>Alternatively, it may indicate the name or ini...</td>\n",
       "      <td>1</td>\n",
       "      <td>63.0</td>\n",
       "    </tr>\n",
       "    <tr>\n",
       "      <th>2</th>\n",
       "      <td>Cab</td>\n",
       "      <td>To dream that you are hailing a cab suggests t...</td>\n",
       "      <td>2</td>\n",
       "      <td>137.0</td>\n",
       "    </tr>\n",
       "    <tr>\n",
       "      <th>2</th>\n",
       "      <td>Cab</td>\n",
       "      <td>To dream that you are in a cab indicates that ...</td>\n",
       "      <td>2</td>\n",
       "      <td>113.0</td>\n",
       "    </tr>\n",
       "    <tr>\n",
       "      <th>3</th>\n",
       "      <td>Cabana</td>\n",
       "      <td>To see or dream that you are in a cabana signi...</td>\n",
       "      <td>1</td>\n",
       "      <td>162.0</td>\n",
       "    </tr>\n",
       "    <tr>\n",
       "      <th>...</th>\n",
       "      <td>...</td>\n",
       "      <td>...</td>\n",
       "      <td>...</td>\n",
       "      <td>...</td>\n",
       "    </tr>\n",
       "    <tr>\n",
       "      <th>634</th>\n",
       "      <td>Cyclone</td>\n",
       "      <td>To see a cyclone in your dream suggests that y...</td>\n",
       "      <td>1</td>\n",
       "      <td>93.0</td>\n",
       "    </tr>\n",
       "    <tr>\n",
       "      <th>635</th>\n",
       "      <td>Cyclops</td>\n",
       "      <td>To see Cyclops in your dream suggests that you...</td>\n",
       "      <td>1</td>\n",
       "      <td>171.0</td>\n",
       "    </tr>\n",
       "    <tr>\n",
       "      <th>636</th>\n",
       "      <td>Cylinder</td>\n",
       "      <td>To see a cylinder in your dream suggests that ...</td>\n",
       "      <td>1</td>\n",
       "      <td>236.0</td>\n",
       "    </tr>\n",
       "    <tr>\n",
       "      <th>637</th>\n",
       "      <td>Cymbals</td>\n",
       "      <td>To dream that you are playing with cymbals ind...</td>\n",
       "      <td>1</td>\n",
       "      <td>218.0</td>\n",
       "    </tr>\n",
       "    <tr>\n",
       "      <th>638</th>\n",
       "      <td>Cypress</td>\n",
       "      <td>To see a cypress tree in your dream symbolizes...</td>\n",
       "      <td>1</td>\n",
       "      <td>144.0</td>\n",
       "    </tr>\n",
       "  </tbody>\n",
       "</table>\n",
       "<p>973 rows × 4 columns</p>\n",
       "</div>"
      ],
      "text/plain": [
       "       symbol                                            meaning  n_meanings  \\\n",
       "0                                                            NaN           0   \n",
       "1           C  Alternatively, it may indicate the name or ini...           1   \n",
       "2         Cab  To dream that you are hailing a cab suggests t...           2   \n",
       "2         Cab  To dream that you are in a cab indicates that ...           2   \n",
       "3      Cabana  To see or dream that you are in a cabana signi...           1   \n",
       "..        ...                                                ...         ...   \n",
       "634   Cyclone  To see a cyclone in your dream suggests that y...           1   \n",
       "635   Cyclops  To see Cyclops in your dream suggests that you...           1   \n",
       "636  Cylinder  To see a cylinder in your dream suggests that ...           1   \n",
       "637   Cymbals  To dream that you are playing with cymbals ind...           1   \n",
       "638   Cypress  To see a cypress tree in your dream symbolizes...           1   \n",
       "\n",
       "     mean_len  \n",
       "0         NaN  \n",
       "1        63.0  \n",
       "2       137.0  \n",
       "2       113.0  \n",
       "3       162.0  \n",
       "..        ...  \n",
       "634      93.0  \n",
       "635     171.0  \n",
       "636     236.0  \n",
       "637     218.0  \n",
       "638     144.0  \n",
       "\n",
       "[973 rows x 4 columns]"
      ]
     },
     "execution_count": 31,
     "metadata": {},
     "output_type": "execute_result"
    }
   ],
   "source": [
    "data3 = data2.explode('meaning')\n",
    "data3['mean_len'] = data3.meaning.str.len()\n",
    "data3"
   ]
  },
  {
   "cell_type": "code",
   "execution_count": 87,
   "id": "f11f6f1f",
   "metadata": {},
   "outputs": [],
   "source": [
    "def extract_letter(file):\n",
    "    with open(file, \"r\") as f:\n",
    "        html = f.read()\n",
    "        \n",
    "    xp = \"/html/body/table[2]/tr/td/div/center/table/tr[4]/td[1]\"\n",
    "\n",
    "    tree = lhtml.fromstring(html)\n",
    "\n",
    "    #tree.text_content()\n",
    "\n",
    "    tabl = tree.xpath(xp)[0]\n",
    "\n",
    "    global syms_data\n",
    "    syms_data = []\n",
    "    r,c,t = breakdown(tabl)\n",
    "    syms_data = pd.DataFrame(syms_data)\n",
    "    data2 = squeeze_meaning_by_symbol(syms_data)\n",
    "    data3 = data2.explode('meaning')\n",
    "    data3['mean_len'] = data3.meaning.str.len()\n",
    "    return data3\n",
    "\n"
   ]
  },
  {
   "cell_type": "code",
   "execution_count": 88,
   "id": "67a0b091",
   "metadata": {},
   "outputs": [
    {
     "name": "stdout",
     "output_type": "stream",
     "text": [
      "found cheating\n"
     ]
    },
    {
     "data": {
      "application/vnd.microsoft.datawrangler.viewer.v0+json": {
       "columns": [
        {
         "name": "index",
         "rawType": "int64",
         "type": "integer"
        },
        {
         "name": "symbol",
         "rawType": "object",
         "type": "string"
        },
        {
         "name": "meaning",
         "rawType": "object",
         "type": "unknown"
        },
        {
         "name": "n_meanings",
         "rawType": "int64",
         "type": "integer"
        },
        {
         "name": "mean_len",
         "rawType": "float64",
         "type": "float"
        },
        {
         "name": "filename",
         "rawType": "object",
         "type": "string"
        }
       ],
       "conversionMethod": "pd.DataFrame",
       "ref": "49ad7529-b20a-419f-b7d0-8c7f74f949ca",
       "rows": [
        [
         "0",
         "",
         null,
         "0",
         null,
         "a_all.html"
        ],
        [
         "1",
         "   ",
         null,
         "0",
         null,
         "a_all.html"
        ],
        [
         "2",
         "  A",
         "TOP",
         "1",
         "3.0",
         "a_all.html"
        ],
        [
         "3",
         "",
         null,
         "0",
         null,
         "a_all.html"
        ],
        [
         "4",
         "   Aardvark",
         "TOP",
         "1",
         "3.0",
         "a_all.html"
        ],
        [
         "5",
         "Abacus",
         "TOP",
         "1",
         "3.0",
         "a_all.html"
        ],
        [
         "6",
         "Abalone",
         "To see or eat abalone in your dream indicates a transitional period in your life. The symbol may also be a play on words to indicate feelings of \"loneliness\". TOP",
         "1",
         "162.0",
         "a_all.html"
        ],
        [
         "7",
         "Abandonment",
         "To dream that you are abandoned suggests that it is time to leave behind past feelings and characteristics that are hindering your growth. Let go of your old attitudes. A more direct and literal interpretation of this dream indicates you have a fear of being deserted, abandoned, or even betrayed. It may stem from a recent loss or a fear of losing a loved one. The fear of abandonment may manifest itself into your dream as part of the healing process and dealing with losing a loved one. It may also stem from unresolved feelings or problems from childhood. Alternatively, the dream indicates that you are feeling neglected or that your feelings are being overlooked. Perhaps the dream is a metaphor that you need to approach life with \"reckless abandon\" and live more freely. ",
         "2",
         "779.0",
         "a_all.html"
        ],
        [
         "7",
         "Abandonment",
         "TOP",
         "2",
         "3.0",
         "a_all.html"
        ],
        [
         "8",
         "Abbey",
         "an abbey in your dream signifies spirituality, peace of mind and freedom from anxiety. You are in a state of contentment and satisfaction. Help for you is always around the corner. ",
         "2",
         "181.0",
         "a_all.html"
        ],
        [
         "8",
         "Abbey",
         "TOP",
         "2",
         "3.0",
         "a_all.html"
        ],
        [
         "9",
         "Abbot",
         "To see an abbot in your dream suggests that someone has power over you and are making you do things that you do not necessarily want to do. You are feeling confined or restricted. The dream indicates that you will experience many obstacles and setback before achieving success and prestige. TOP",
         "1",
         "294.0",
         "a_all.html"
        ],
        [
         "10",
         "Abbreviations",
         "TOP",
         "1",
         "3.0",
         "a_all.html"
        ],
        [
         "11",
         "Abdomen",
         "To see your abdomen in a dream refers to your natural instincts and repressed emotions. There is something in your real life that you \"cannot stomach\" or have difficulties accepting. You need to get it out of your system. Alternatively, the dream symbol may be strictly physiological and you may just be experiencing constipation or indigestion. ",
         "3",
         "346.0",
         "a_all.html"
        ],
        [
         "11",
         "Abdomen",
         "To dream that your abdomen is exposed represents issues you have with trust and feelings of vulnerability. You are expressing your primal emotions and instincts.",
         "3",
         "161.0",
         "a_all.html"
        ],
        [
         "11",
         "Abdomen",
         "TOP",
         "3",
         "3.0",
         "a_all.html"
        ],
        [
         "12",
         " ",
         null,
         "0",
         null,
         "a_all.html"
        ],
        [
         "13",
         "Abduction",
         "To dream of being abducted indicates that you are being manipulated by your circumstances or by someone. You lack control of your own life.",
         "3",
         "139.0",
         "a_all.html"
        ],
        [
         "13",
         "Abduction",
         "To witness an abduction in your dream signifies feelings of helplessness. ",
         "3",
         "74.0",
         "a_all.html"
        ],
        [
         "13",
         "Abduction",
         "TOP",
         "3",
         "3.0",
         "a_all.html"
        ],
        [
         "14",
         " ",
         null,
         "0",
         null,
         "a_all.html"
        ],
        [
         "15",
         "Abhorrence",
         "To dream that you abhor a person represents your waking dislike for that person. You are harboring feelings of resentment or aggression and feel that this person has acted in a less than honorable way.",
         "2",
         "201.0",
         "a_all.html"
        ],
        [
         "15",
         "Abhorrence",
         "To dream that you are abhorred by others suggests that you may be forcing your views and opinions on others. You are rubbing others the wrong way. TOP",
         "2",
         "150.0",
         "a_all.html"
        ],
        [
         "16",
         "Abnormal",
         "TOP",
         "1",
         "3.0",
         "a_all.html"
        ],
        [
         "17",
         "Abode",
         "*Please See Home.",
         "1",
         "17.0",
         "a_all.html"
        ],
        [
         "18",
         "Abominable Snowman",
         "*Please See Yeti.",
         "1",
         "17.0",
         "a_all.html"
        ],
        [
         "19",
         "Aborigine",
         "To see an Aborigine in your dream represents both your untamed, natural self and your pure, innocent side. You need to be more in touch with your intuition and inner forces. It also suggests that you are being overindulgent or overly emotional. You may be harming yourself and jeopardizing your well-being due to your unrestraint. TOP",
         "1",
         "334.0",
         "a_all.html"
        ],
        [
         "20",
         "Abortion",
         "To dream that you have an abortion suggests that you are hindering and blocking your own growth. You may be hesitant in pursuing a new direction in your life due to fear, pressure, personal conflict or moral obligation. The dream may also be a reflection of your own real-life abortion and thus serves as a way of healing from the trauma and working towards self-acceptance. Alternatively, this dream may also be a message for you to take care and look after your health.",
         "4",
         "471.0",
         "a_all.html"
        ],
        [
         "20",
         "Abortion",
         "To dream that someone has an abortion refers to an aspect of your relationship with this person is not growing or maturing. If you do not know this person, then the dream may be about your own personal views on abortion.",
         "4",
         "220.0",
         "a_all.html"
        ],
        [
         "20",
         "Abortion",
         "TOP",
         "4",
         "3.0",
         "a_all.html"
        ],
        [
         "20",
         "Abortion",
         "**See The Meaning In Action: \"Boiling A Rabbit\"",
         "4",
         "47.0",
         "a_all.html"
        ],
        [
         "21",
         "Above",
         "To see something above you in your dream suggests that you need to set your goals higher. Aim high! Alternatively, the dream indicates that you are feeling inferior or inadequate. TOP",
         "1",
         "183.0",
         "a_all.html"
        ],
        [
         "22",
         "Abraham Lincoln",
         "To see Abraham Lincoln in your dream refers to your solid character and leadership ability. Known as \"Honest Abe\", the dream may also be telling you to be truthful or to come clean about something. TOP",
         "1",
         "201.0",
         "a_all.html"
        ],
        [
         "23",
         "Abroad",
         "To dream of being or going abroad indicates unbalance and chaos in your current situation and condition. Consequently, your dream may represent your need for a change in scenery or a desire to escape from a current situation. You need to make some drastic changes in your life. Alternatively, the dream may suggest that you need to expand your horizons or experience a new sense of spirituality. TOP",
         "1",
         "399.0",
         "a_all.html"
        ],
        [
         "24",
         "Absence",
         "To dream that someone is absent, especially if you expect to find them, suggests that you are looking for something that is already lost to you. Alternatively, you may be looking to fill a void in your life. Something is missing from your life. TOP",
         "1",
         "248.0",
         "a_all.html"
        ],
        [
         "25",
         "Abscess",
         "To dream that you have an abscess suggests that there is something that you need to express and get out into the open. TOP",
         "2",
         "122.0",
         "a_all.html"
        ],
        [
         "25",
         "Abscess",
         "*Please see Sores",
         "2",
         "17.0",
         "a_all.html"
        ],
        [
         "26",
         " ",
         null,
         "0",
         null,
         "a_all.html"
        ],
        [
         "27",
         "Abscond",
         "To dream that you have absconded with something indicates your failed accomplishments. You may also be feeling insecure about your achievements. You feel that you are never good enough. Consider the significance or value of what you have absconded. TOP",
         "1",
         "252.0",
         "a_all.html"
        ],
        [
         "28",
         "Absorb",
         "To be absorbed in whatever you are doing suggests that you may be too focused on your own thing and risk alienating others around you. The dream may also be a metaphor that you need to integrate and adapt to your various surroundings. TOP",
         "1",
         "238.0",
         "a_all.html"
        ],
        [
         "29",
         "Abstinence",
         "To dream that you practice abstinence from drinking, sex or any other sort of sensual temptation is a warning against being over confidant. You need to take things more slowly. TOP",
         "1",
         "180.0",
         "a_all.html"
        ],
        [
         "30",
         "Abundance",
         "TOP",
         "1",
         "3.0",
         "a_all.html"
        ],
        [
         "31",
         "Abuse",
         "To dream you are abusing someone suggests that your past actions will come back to haunt you. You may be expressing some regret or remorse over your actions.",
         "3",
         "157.0",
         "a_all.html"
        ],
        [
         "31",
         "Abuse",
         "To dream you are being verbally or physically abused suggests that you are feeling victimized in a waking situation. You are being taking advantage of.  ",
         "3",
         "153.0",
         "a_all.html"
        ],
        [
         "31",
         "Abuse",
         "TOP",
         "3",
         "3.0",
         "a_all.html"
        ],
        [
         "32",
         " ",
         null,
         "0",
         null,
         "a_all.html"
        ],
        [
         "33",
         "Abyss",
         "To dream of an abyss signifies an obstacle that is creating much anxiety for you. You need to work through the difficulty and overcome this obstacle in your life. Perhaps you are afraid of \"taking the plunge\".",
         "2",
         "209.0",
         "a_all.html"
        ],
        [
         "33",
         "Abyss",
         "To dream that you are falling into an abyss symbolizes the depths of your subconscious. You are afraid and/or uncertain as to what you will discover about yourself and about your hidden feelings and fears. The abyss may also represent your primal fears and feelings of \"falling into a pit of despair\". Perhaps you are in a state of depression or wallowing in your negative feelings. Alternatively, the dream could denote your lack of spirituality. TOP",
         "2",
         "451.0",
         "a_all.html"
        ],
        [
         "34",
         " Acacia",
         "To see an acacia tree in your dream symbolizes your attitudes with death and your sense of mortality. TOP",
         "1",
         "105.0",
         "a_all.html"
        ],
        [
         "35",
         "Academy",
         "To dream of an academy signifies new friendships and opportunities. TOP",
         "1",
         "71.0",
         "a_all.html"
        ]
       ],
       "shape": {
        "columns": 5,
        "rows": 8088
       }
      },
      "text/html": [
       "<div>\n",
       "<style scoped>\n",
       "    .dataframe tbody tr th:only-of-type {\n",
       "        vertical-align: middle;\n",
       "    }\n",
       "\n",
       "    .dataframe tbody tr th {\n",
       "        vertical-align: top;\n",
       "    }\n",
       "\n",
       "    .dataframe thead th {\n",
       "        text-align: right;\n",
       "    }\n",
       "</style>\n",
       "<table border=\"1\" class=\"dataframe\">\n",
       "  <thead>\n",
       "    <tr style=\"text-align: right;\">\n",
       "      <th></th>\n",
       "      <th>symbol</th>\n",
       "      <th>meaning</th>\n",
       "      <th>n_meanings</th>\n",
       "      <th>mean_len</th>\n",
       "      <th>filename</th>\n",
       "    </tr>\n",
       "  </thead>\n",
       "  <tbody>\n",
       "    <tr>\n",
       "      <th>0</th>\n",
       "      <td></td>\n",
       "      <td>NaN</td>\n",
       "      <td>0</td>\n",
       "      <td>NaN</td>\n",
       "      <td>a_all.html</td>\n",
       "    </tr>\n",
       "    <tr>\n",
       "      <th>1</th>\n",
       "      <td></td>\n",
       "      <td>NaN</td>\n",
       "      <td>0</td>\n",
       "      <td>NaN</td>\n",
       "      <td>a_all.html</td>\n",
       "    </tr>\n",
       "    <tr>\n",
       "      <th>2</th>\n",
       "      <td>A</td>\n",
       "      <td>TOP</td>\n",
       "      <td>1</td>\n",
       "      <td>3.0</td>\n",
       "      <td>a_all.html</td>\n",
       "    </tr>\n",
       "    <tr>\n",
       "      <th>3</th>\n",
       "      <td></td>\n",
       "      <td>NaN</td>\n",
       "      <td>0</td>\n",
       "      <td>NaN</td>\n",
       "      <td>a_all.html</td>\n",
       "    </tr>\n",
       "    <tr>\n",
       "      <th>4</th>\n",
       "      <td>Aardvark</td>\n",
       "      <td>TOP</td>\n",
       "      <td>1</td>\n",
       "      <td>3.0</td>\n",
       "      <td>a_all.html</td>\n",
       "    </tr>\n",
       "    <tr>\n",
       "      <th>...</th>\n",
       "      <td>...</td>\n",
       "      <td>...</td>\n",
       "      <td>...</td>\n",
       "      <td>...</td>\n",
       "      <td>...</td>\n",
       "    </tr>\n",
       "    <tr>\n",
       "      <th>373</th>\n",
       "      <td>Mutilate</td>\n",
       "      <td>To dream that you are being mutilated indicate...</td>\n",
       "      <td>2</td>\n",
       "      <td>431.0</td>\n",
       "      <td>m_all.html</td>\n",
       "    </tr>\n",
       "    <tr>\n",
       "      <th>373</th>\n",
       "      <td>Mutilate</td>\n",
       "      <td>To dream that someone or something is mutilate...</td>\n",
       "      <td>2</td>\n",
       "      <td>99.0</td>\n",
       "      <td>m_all.html</td>\n",
       "    </tr>\n",
       "    <tr>\n",
       "      <th>374</th>\n",
       "      <td>Muzzle</td>\n",
       "      <td>To see or use a muzzle in your dream suggests ...</td>\n",
       "      <td>1</td>\n",
       "      <td>203.0</td>\n",
       "      <td>m_all.html</td>\n",
       "    </tr>\n",
       "    <tr>\n",
       "      <th>375</th>\n",
       "      <td>Myrrh</td>\n",
       "      <td>To see myrrh in your dream signifies punishmen...</td>\n",
       "      <td>1</td>\n",
       "      <td>113.0</td>\n",
       "      <td>m_all.html</td>\n",
       "    </tr>\n",
       "    <tr>\n",
       "      <th>376</th>\n",
       "      <td>Myrtle</td>\n",
       "      <td>To see a myrtle in your dream symbolizes happi...</td>\n",
       "      <td>1</td>\n",
       "      <td>88.0</td>\n",
       "      <td>m_all.html</td>\n",
       "    </tr>\n",
       "  </tbody>\n",
       "</table>\n",
       "<p>8088 rows × 5 columns</p>\n",
       "</div>"
      ],
      "text/plain": [
       "          symbol                                            meaning  \\\n",
       "0                                                               NaN   \n",
       "1                                                               NaN   \n",
       "2              A                                                TOP   \n",
       "3                                                               NaN   \n",
       "4       Aardvark                                                TOP   \n",
       "..           ...                                                ...   \n",
       "373     Mutilate  To dream that you are being mutilated indicate...   \n",
       "373     Mutilate  To dream that someone or something is mutilate...   \n",
       "374      Muzzle   To see or use a muzzle in your dream suggests ...   \n",
       "375        Myrrh  To see myrrh in your dream signifies punishmen...   \n",
       "376       Myrtle  To see a myrtle in your dream symbolizes happi...   \n",
       "\n",
       "     n_meanings  mean_len    filename  \n",
       "0             0       NaN  a_all.html  \n",
       "1             0       NaN  a_all.html  \n",
       "2             1       3.0  a_all.html  \n",
       "3             0       NaN  a_all.html  \n",
       "4             1       3.0  a_all.html  \n",
       "..          ...       ...         ...  \n",
       "373           2     431.0  m_all.html  \n",
       "373           2      99.0  m_all.html  \n",
       "374           1     203.0  m_all.html  \n",
       "375           1     113.0  m_all.html  \n",
       "376           1      88.0  m_all.html  \n",
       "\n",
       "[8088 rows x 5 columns]"
      ]
     },
     "execution_count": 88,
     "metadata": {},
     "output_type": "execute_result"
    }
   ],
   "source": [
    "dfs = []\n",
    "save_dir = 'html'\n",
    "\n",
    "for f in os.listdir(save_dir):\n",
    "    if f.endswith(\".html\"):\n",
    "        try:\n",
    "            existing_df = extract_letter(os.path.join(save_dir, f))\n",
    "            existing_df[\"filename\"] = f\n",
    "            dfs.append(existing_df)\n",
    "        except Exception:\n",
    "            continue\n",
    "\n",
    "dataset = pd.concat(dfs)\n",
    "dataset"
   ]
  },
  {
   "cell_type": "code",
   "execution_count": 90,
   "id": "b38d735f",
   "metadata": {},
   "outputs": [
    {
     "name": "stdout",
     "output_type": "stream",
     "text": [
      "✅ HTML table saved to: rescraped.html\n"
     ]
    }
   ],
   "source": [
    "from utils import save_df_as_pretty_html\n",
    "save_df_as_pretty_html(dataset, \"rescraped.html\")\n",
    "dataset.to_csv(\"rescraped.csv\", index=False)"
   ]
  },
  {
   "cell_type": "code",
   "execution_count": 91,
   "id": "12e2e3ad",
   "metadata": {},
   "outputs": [
    {
     "ename": "ValueError",
     "evalue": "Mime type rendering requires nbformat>=4.2.0 but it is not installed",
     "output_type": "error",
     "traceback": [
      "\u001b[0;31m---------------------------------------------------------------------------\u001b[0m",
      "\u001b[0;31mValueError\u001b[0m                                Traceback (most recent call last)",
      "File \u001b[0;32m/media/michael/Data/anaconda3/envs/NLP/lib/python3.11/site-packages/IPython/core/formatters.py:984\u001b[0m, in \u001b[0;36mIPythonDisplayFormatter.__call__\u001b[0;34m(self, obj)\u001b[0m\n\u001b[1;32m    982\u001b[0m method \u001b[38;5;241m=\u001b[39m get_real_method(obj, \u001b[38;5;28mself\u001b[39m\u001b[38;5;241m.\u001b[39mprint_method)\n\u001b[1;32m    983\u001b[0m \u001b[38;5;28;01mif\u001b[39;00m method \u001b[38;5;129;01mis\u001b[39;00m \u001b[38;5;129;01mnot\u001b[39;00m \u001b[38;5;28;01mNone\u001b[39;00m:\n\u001b[0;32m--> 984\u001b[0m     \u001b[43mmethod\u001b[49m\u001b[43m(\u001b[49m\u001b[43m)\u001b[49m\n\u001b[1;32m    985\u001b[0m     \u001b[38;5;28;01mreturn\u001b[39;00m \u001b[38;5;28;01mTrue\u001b[39;00m\n",
      "File \u001b[0;32m/media/michael/Data/anaconda3/envs/NLP/lib/python3.11/site-packages/plotly/basedatatypes.py:833\u001b[0m, in \u001b[0;36mBaseFigure._ipython_display_\u001b[0;34m(self)\u001b[0m\n\u001b[1;32m    830\u001b[0m \u001b[38;5;28;01mimport\u001b[39;00m \u001b[38;5;21;01mplotly\u001b[39;00m\u001b[38;5;21;01m.\u001b[39;00m\u001b[38;5;21;01mio\u001b[39;00m \u001b[38;5;28;01mas\u001b[39;00m \u001b[38;5;21;01mpio\u001b[39;00m\n\u001b[1;32m    832\u001b[0m \u001b[38;5;28;01mif\u001b[39;00m pio\u001b[38;5;241m.\u001b[39mrenderers\u001b[38;5;241m.\u001b[39mrender_on_display \u001b[38;5;129;01mand\u001b[39;00m pio\u001b[38;5;241m.\u001b[39mrenderers\u001b[38;5;241m.\u001b[39mdefault:\n\u001b[0;32m--> 833\u001b[0m     \u001b[43mpio\u001b[49m\u001b[38;5;241;43m.\u001b[39;49m\u001b[43mshow\u001b[49m\u001b[43m(\u001b[49m\u001b[38;5;28;43mself\u001b[39;49m\u001b[43m)\u001b[49m\n\u001b[1;32m    834\u001b[0m \u001b[38;5;28;01melse\u001b[39;00m:\n\u001b[1;32m    835\u001b[0m     \u001b[38;5;28mprint\u001b[39m(\u001b[38;5;28mrepr\u001b[39m(\u001b[38;5;28mself\u001b[39m))\n",
      "File \u001b[0;32m/media/michael/Data/anaconda3/envs/NLP/lib/python3.11/site-packages/plotly/io/_renderers.py:425\u001b[0m, in \u001b[0;36mshow\u001b[0;34m(fig, renderer, validate, **kwargs)\u001b[0m\n\u001b[1;32m    420\u001b[0m     \u001b[38;5;28;01mraise\u001b[39;00m \u001b[38;5;167;01mValueError\u001b[39;00m(\n\u001b[1;32m    421\u001b[0m         \u001b[38;5;124m\"\u001b[39m\u001b[38;5;124mMime type rendering requires ipython but it is not installed\u001b[39m\u001b[38;5;124m\"\u001b[39m\n\u001b[1;32m    422\u001b[0m     )\n\u001b[1;32m    424\u001b[0m \u001b[38;5;28;01mif\u001b[39;00m \u001b[38;5;129;01mnot\u001b[39;00m nbformat \u001b[38;5;129;01mor\u001b[39;00m Version(nbformat\u001b[38;5;241m.\u001b[39m__version__) \u001b[38;5;241m<\u001b[39m Version(\u001b[38;5;124m\"\u001b[39m\u001b[38;5;124m4.2.0\u001b[39m\u001b[38;5;124m\"\u001b[39m):\n\u001b[0;32m--> 425\u001b[0m     \u001b[38;5;28;01mraise\u001b[39;00m \u001b[38;5;167;01mValueError\u001b[39;00m(\n\u001b[1;32m    426\u001b[0m         \u001b[38;5;124m\"\u001b[39m\u001b[38;5;124mMime type rendering requires nbformat>=4.2.0 but it is not installed\u001b[39m\u001b[38;5;124m\"\u001b[39m\n\u001b[1;32m    427\u001b[0m     )\n\u001b[1;32m    429\u001b[0m display_jupyter_version_warnings()\n\u001b[1;32m    431\u001b[0m ipython_display\u001b[38;5;241m.\u001b[39mdisplay(bundle, raw\u001b[38;5;241m=\u001b[39m\u001b[38;5;28;01mTrue\u001b[39;00m)\n",
      "\u001b[0;31mValueError\u001b[0m: Mime type rendering requires nbformat>=4.2.0 but it is not installed"
     ]
    },
    {
     "data": {
      "application/vnd.plotly.v1+json": {
       "config": {
        "plotlyServerURL": "https://plot.ly"
       },
       "data": [
        {
         "bingroup": "x",
         "hovertemplate": "variable=mean_len<br>value=%{x}<br>count=%{y}<extra></extra>",
         "legendgroup": "mean_len",
         "marker": {
          "color": "#636efa",
          "pattern": {
           "shape": ""
          }
         },
         "name": "mean_len",
         "orientation": "v",
         "showlegend": true,
         "type": "histogram",
         "x": {
          "bdata": "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",
          "dtype": "f8"
         },
         "xaxis": "x",
         "yaxis": "y"
        }
       ],
       "layout": {
        "barmode": "relative",
        "legend": {
         "title": {
          "text": "variable"
         },
         "tracegroupgap": 0
        },
        "margin": {
         "t": 60
        },
        "template": {
         "data": {
          "bar": [
           {
            "error_x": {
             "color": "#2a3f5f"
            },
            "error_y": {
             "color": "#2a3f5f"
            },
            "marker": {
             "line": {
              "color": "#E5ECF6",
              "width": 0.5
             },
             "pattern": {
              "fillmode": "overlay",
              "size": 10,
              "solidity": 0.2
             }
            },
            "type": "bar"
           }
          ],
          "barpolar": [
           {
            "marker": {
             "line": {
              "color": "#E5ECF6",
              "width": 0.5
             },
             "pattern": {
              "fillmode": "overlay",
              "size": 10,
              "solidity": 0.2
             }
            },
            "type": "barpolar"
           }
          ],
          "carpet": [
           {
            "aaxis": {
             "endlinecolor": "#2a3f5f",
             "gridcolor": "white",
             "linecolor": "white",
             "minorgridcolor": "white",
             "startlinecolor": "#2a3f5f"
            },
            "baxis": {
             "endlinecolor": "#2a3f5f",
             "gridcolor": "white",
             "linecolor": "white",
             "minorgridcolor": "white",
             "startlinecolor": "#2a3f5f"
            },
            "type": "carpet"
           }
          ],
          "choropleth": [
           {
            "colorbar": {
             "outlinewidth": 0,
             "ticks": ""
            },
            "type": "choropleth"
           }
          ],
          "contour": [
           {
            "colorbar": {
             "outlinewidth": 0,
             "ticks": ""
            },
            "colorscale": [
             [
              0,
              "#0d0887"
             ],
             [
              0.1111111111111111,
              "#46039f"
             ],
             [
              0.2222222222222222,
              "#7201a8"
             ],
             [
              0.3333333333333333,
              "#9c179e"
             ],
             [
              0.4444444444444444,
              "#bd3786"
             ],
             [
              0.5555555555555556,
              "#d8576b"
             ],
             [
              0.6666666666666666,
              "#ed7953"
             ],
             [
              0.7777777777777778,
              "#fb9f3a"
             ],
             [
              0.8888888888888888,
              "#fdca26"
             ],
             [
              1,
              "#f0f921"
             ]
            ],
            "type": "contour"
           }
          ],
          "contourcarpet": [
           {
            "colorbar": {
             "outlinewidth": 0,
             "ticks": ""
            },
            "type": "contourcarpet"
           }
          ],
          "heatmap": [
           {
            "colorbar": {
             "outlinewidth": 0,
             "ticks": ""
            },
            "colorscale": [
             [
              0,
              "#0d0887"
             ],
             [
              0.1111111111111111,
              "#46039f"
             ],
             [
              0.2222222222222222,
              "#7201a8"
             ],
             [
              0.3333333333333333,
              "#9c179e"
             ],
             [
              0.4444444444444444,
              "#bd3786"
             ],
             [
              0.5555555555555556,
              "#d8576b"
             ],
             [
              0.6666666666666666,
              "#ed7953"
             ],
             [
              0.7777777777777778,
              "#fb9f3a"
             ],
             [
              0.8888888888888888,
              "#fdca26"
             ],
             [
              1,
              "#f0f921"
             ]
            ],
            "type": "heatmap"
           }
          ],
          "histogram": [
           {
            "marker": {
             "pattern": {
              "fillmode": "overlay",
              "size": 10,
              "solidity": 0.2
             }
            },
            "type": "histogram"
           }
          ],
          "histogram2d": [
           {
            "colorbar": {
             "outlinewidth": 0,
             "ticks": ""
            },
            "colorscale": [
             [
              0,
              "#0d0887"
             ],
             [
              0.1111111111111111,
              "#46039f"
             ],
             [
              0.2222222222222222,
              "#7201a8"
             ],
             [
              0.3333333333333333,
              "#9c179e"
             ],
             [
              0.4444444444444444,
              "#bd3786"
             ],
             [
              0.5555555555555556,
              "#d8576b"
             ],
             [
              0.6666666666666666,
              "#ed7953"
             ],
             [
              0.7777777777777778,
              "#fb9f3a"
             ],
             [
              0.8888888888888888,
              "#fdca26"
             ],
             [
              1,
              "#f0f921"
             ]
            ],
            "type": "histogram2d"
           }
          ],
          "histogram2dcontour": [
           {
            "colorbar": {
             "outlinewidth": 0,
             "ticks": ""
            },
            "colorscale": [
             [
              0,
              "#0d0887"
             ],
             [
              0.1111111111111111,
              "#46039f"
             ],
             [
              0.2222222222222222,
              "#7201a8"
             ],
             [
              0.3333333333333333,
              "#9c179e"
             ],
             [
              0.4444444444444444,
              "#bd3786"
             ],
             [
              0.5555555555555556,
              "#d8576b"
             ],
             [
              0.6666666666666666,
              "#ed7953"
             ],
             [
              0.7777777777777778,
              "#fb9f3a"
             ],
             [
              0.8888888888888888,
              "#fdca26"
             ],
             [
              1,
              "#f0f921"
             ]
            ],
            "type": "histogram2dcontour"
           }
          ],
          "mesh3d": [
           {
            "colorbar": {
             "outlinewidth": 0,
             "ticks": ""
            },
            "type": "mesh3d"
           }
          ],
          "parcoords": [
           {
            "line": {
             "colorbar": {
              "outlinewidth": 0,
              "ticks": ""
             }
            },
            "type": "parcoords"
           }
          ],
          "pie": [
           {
            "automargin": true,
            "type": "pie"
           }
          ],
          "scatter": [
           {
            "fillpattern": {
             "fillmode": "overlay",
             "size": 10,
             "solidity": 0.2
            },
            "type": "scatter"
           }
          ],
          "scatter3d": [
           {
            "line": {
             "colorbar": {
              "outlinewidth": 0,
              "ticks": ""
             }
            },
            "marker": {
             "colorbar": {
              "outlinewidth": 0,
              "ticks": ""
             }
            },
            "type": "scatter3d"
           }
          ],
          "scattercarpet": [
           {
            "marker": {
             "colorbar": {
              "outlinewidth": 0,
              "ticks": ""
             }
            },
            "type": "scattercarpet"
           }
          ],
          "scattergeo": [
           {
            "marker": {
             "colorbar": {
              "outlinewidth": 0,
              "ticks": ""
             }
            },
            "type": "scattergeo"
           }
          ],
          "scattergl": [
           {
            "marker": {
             "colorbar": {
              "outlinewidth": 0,
              "ticks": ""
             }
            },
            "type": "scattergl"
           }
          ],
          "scattermap": [
           {
            "marker": {
             "colorbar": {
              "outlinewidth": 0,
              "ticks": ""
             }
            },
            "type": "scattermap"
           }
          ],
          "scattermapbox": [
           {
            "marker": {
             "colorbar": {
              "outlinewidth": 0,
              "ticks": ""
             }
            },
            "type": "scattermapbox"
           }
          ],
          "scatterpolar": [
           {
            "marker": {
             "colorbar": {
              "outlinewidth": 0,
              "ticks": ""
             }
            },
            "type": "scatterpolar"
           }
          ],
          "scatterpolargl": [
           {
            "marker": {
             "colorbar": {
              "outlinewidth": 0,
              "ticks": ""
             }
            },
            "type": "scatterpolargl"
           }
          ],
          "scatterternary": [
           {
            "marker": {
             "colorbar": {
              "outlinewidth": 0,
              "ticks": ""
             }
            },
            "type": "scatterternary"
           }
          ],
          "surface": [
           {
            "colorbar": {
             "outlinewidth": 0,
             "ticks": ""
            },
            "colorscale": [
             [
              0,
              "#0d0887"
             ],
             [
              0.1111111111111111,
              "#46039f"
             ],
             [
              0.2222222222222222,
              "#7201a8"
             ],
             [
              0.3333333333333333,
              "#9c179e"
             ],
             [
              0.4444444444444444,
              "#bd3786"
             ],
             [
              0.5555555555555556,
              "#d8576b"
             ],
             [
              0.6666666666666666,
              "#ed7953"
             ],
             [
              0.7777777777777778,
              "#fb9f3a"
             ],
             [
              0.8888888888888888,
              "#fdca26"
             ],
             [
              1,
              "#f0f921"
             ]
            ],
            "type": "surface"
           }
          ],
          "table": [
           {
            "cells": {
             "fill": {
              "color": "#EBF0F8"
             },
             "line": {
              "color": "white"
             }
            },
            "header": {
             "fill": {
              "color": "#C8D4E3"
             },
             "line": {
              "color": "white"
             }
            },
            "type": "table"
           }
          ]
         },
         "layout": {
          "annotationdefaults": {
           "arrowcolor": "#2a3f5f",
           "arrowhead": 0,
           "arrowwidth": 1
          },
          "autotypenumbers": "strict",
          "coloraxis": {
           "colorbar": {
            "outlinewidth": 0,
            "ticks": ""
           }
          },
          "colorscale": {
           "diverging": [
            [
             0,
             "#8e0152"
            ],
            [
             0.1,
             "#c51b7d"
            ],
            [
             0.2,
             "#de77ae"
            ],
            [
             0.3,
             "#f1b6da"
            ],
            [
             0.4,
             "#fde0ef"
            ],
            [
             0.5,
             "#f7f7f7"
            ],
            [
             0.6,
             "#e6f5d0"
            ],
            [
             0.7,
             "#b8e186"
            ],
            [
             0.8,
             "#7fbc41"
            ],
            [
             0.9,
             "#4d9221"
            ],
            [
             1,
             "#276419"
            ]
           ],
           "sequential": [
            [
             0,
             "#0d0887"
            ],
            [
             0.1111111111111111,
             "#46039f"
            ],
            [
             0.2222222222222222,
             "#7201a8"
            ],
            [
             0.3333333333333333,
             "#9c179e"
            ],
            [
             0.4444444444444444,
             "#bd3786"
            ],
            [
             0.5555555555555556,
             "#d8576b"
            ],
            [
             0.6666666666666666,
             "#ed7953"
            ],
            [
             0.7777777777777778,
             "#fb9f3a"
            ],
            [
             0.8888888888888888,
             "#fdca26"
            ],
            [
             1,
             "#f0f921"
            ]
           ],
           "sequentialminus": [
            [
             0,
             "#0d0887"
            ],
            [
             0.1111111111111111,
             "#46039f"
            ],
            [
             0.2222222222222222,
             "#7201a8"
            ],
            [
             0.3333333333333333,
             "#9c179e"
            ],
            [
             0.4444444444444444,
             "#bd3786"
            ],
            [
             0.5555555555555556,
             "#d8576b"
            ],
            [
             0.6666666666666666,
             "#ed7953"
            ],
            [
             0.7777777777777778,
             "#fb9f3a"
            ],
            [
             0.8888888888888888,
             "#fdca26"
            ],
            [
             1,
             "#f0f921"
            ]
           ]
          },
          "colorway": [
           "#636efa",
           "#EF553B",
           "#00cc96",
           "#ab63fa",
           "#FFA15A",
           "#19d3f3",
           "#FF6692",
           "#B6E880",
           "#FF97FF",
           "#FECB52"
          ],
          "font": {
           "color": "#2a3f5f"
          },
          "geo": {
           "bgcolor": "white",
           "lakecolor": "white",
           "landcolor": "#E5ECF6",
           "showlakes": true,
           "showland": true,
           "subunitcolor": "white"
          },
          "hoverlabel": {
           "align": "left"
          },
          "hovermode": "closest",
          "mapbox": {
           "style": "light"
          },
          "paper_bgcolor": "white",
          "plot_bgcolor": "#E5ECF6",
          "polar": {
           "angularaxis": {
            "gridcolor": "white",
            "linecolor": "white",
            "ticks": ""
           },
           "bgcolor": "#E5ECF6",
           "radialaxis": {
            "gridcolor": "white",
            "linecolor": "white",
            "ticks": ""
           }
          },
          "scene": {
           "xaxis": {
            "backgroundcolor": "#E5ECF6",
            "gridcolor": "white",
            "gridwidth": 2,
            "linecolor": "white",
            "showbackground": true,
            "ticks": "",
            "zerolinecolor": "white"
           },
           "yaxis": {
            "backgroundcolor": "#E5ECF6",
            "gridcolor": "white",
            "gridwidth": 2,
            "linecolor": "white",
            "showbackground": true,
            "ticks": "",
            "zerolinecolor": "white"
           },
           "zaxis": {
            "backgroundcolor": "#E5ECF6",
            "gridcolor": "white",
            "gridwidth": 2,
            "linecolor": "white",
            "showbackground": true,
            "ticks": "",
            "zerolinecolor": "white"
           }
          },
          "shapedefaults": {
           "line": {
            "color": "#2a3f5f"
           }
          },
          "ternary": {
           "aaxis": {
            "gridcolor": "white",
            "linecolor": "white",
            "ticks": ""
           },
           "baxis": {
            "gridcolor": "white",
            "linecolor": "white",
            "ticks": ""
           },
           "bgcolor": "#E5ECF6",
           "caxis": {
            "gridcolor": "white",
            "linecolor": "white",
            "ticks": ""
           }
          },
          "title": {
           "x": 0.05
          },
          "xaxis": {
           "automargin": true,
           "gridcolor": "white",
           "linecolor": "white",
           "ticks": "",
           "title": {
            "standoff": 15
           },
           "zerolinecolor": "white",
           "zerolinewidth": 2
          },
          "yaxis": {
           "automargin": true,
           "gridcolor": "white",
           "linecolor": "white",
           "ticks": "",
           "title": {
            "standoff": 15
           },
           "zerolinecolor": "white",
           "zerolinewidth": 2
          }
         }
        },
        "xaxis": {
         "anchor": "y",
         "domain": [
          0,
          1
         ],
         "title": {
          "text": "value"
         }
        },
        "yaxis": {
         "anchor": "x",
         "domain": [
          0,
          1
         ],
         "title": {
          "text": "count"
         }
        }
       }
      },
      "text/html": [
       "<div>                        <script type=\"text/javascript\">window.PlotlyConfig = {MathJaxConfig: 'local'};</script>\n",
       "        <script charset=\"utf-8\" src=\"https://cdn.plot.ly/plotly-3.0.1.min.js\"></script>                <div id=\"d1ced348-3e00-435f-9646-713628351444\" class=\"plotly-graph-div\" style=\"height:100%; width:100%;\"></div>            <script type=\"text/javascript\">                window.PLOTLYENV=window.PLOTLYENV || {};                                if (document.getElementById(\"d1ced348-3e00-435f-9646-713628351444\")) {                    Plotly.newPlot(                        \"d1ced348-3e00-435f-9646-713628351444\",                        [{\"bingroup\":\"x\",\"hovertemplate\":\"variable=mean_len\\u003cbr\\u003evalue=%{x}\\u003cbr\\u003ecount=%{y}\\u003cextra\\u003e\\u003c\\u002fextra\\u003e\",\"legendgroup\":\"mean_len\",\"marker\":{\"color\":\"#636efa\",\"pattern\":{\"shape\":\"\"}},\"name\":\"mean_len\",\"orientation\":\"v\",\"showlegend\":true,\"x\":{\"dtype\":\"f8\",\"bdata\":\"AAAAAAAA+H8AAAAAAAD4fwAAAAAAAAhAAAAAAAAA+H8AAAAAAAAIQAAAAAAAAAhAAAAAAABAZEAAAAAAAFiIQAAAAAAAAAhAAAAAAACgZkAAAAAAAAAIQAAAAAAAYHJAAAAAAAAACEAAAAAAAKB1QAAAAAAAIGRAAAAAAAAACEAAAAAAAAD4fwAAAAAAYGFAAAAAAACAUkAAAAAAAAAIQAAAAAAAAPh\\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\\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\\u002fAAAAAAAA+H8AAAAAAABYQAAAAAAAQGBAAAAAAADgc0AAAAAAAGBhQAAAAAAAIGNAAAAAAABgZEAAAAAAADBwQAAAAAAAQGZAAAAAAACAY0AAAAAAAGBqQAAAAAAAADtAAAAAAABAY0AAAAAAAOBlQAAAAAAAQGFAAAAAAACgakAAAAAAAIBiQAAAAAAAoGlAAAAAAAAARkAAAAAAANB0QAAAAAAA4GZAAAAAAABAYUAAAAAAAMBRQAAAAAAAgGdAAAAAAABgekAAAAAAAGByQAAAAAAA4G9AAAAAAACgYEAAAAAAAIBuQAAAAAAAQFdAAAAAAACAa0AAAAAAAKBsQAAAAAAAAGRAAAAAAAAAZ0AAAAAAAMBlQAAAAAAAoHRAAAAAAACAW0AAAAAAAOBiQAAAAAAAAFZAAAAAAABgcEAAAAAAAHBzQAAAAAAAIG5AAAAAAACQcUAAAAAAACBkQAAAAAAA4HVAAAAAAABAXUAAAAAAAEBVQAAAAAAAAFtAAAAAAABAYEAAAAAAAABgQAAAAAAAgFBAAAAAAADAVkAAAAAAAEBcQAAAAAAAQF1AAAAAAABAYEAAAAAAAEBpQAAAAAAAEHRAAAAAAAAgYUAAAAAAAABoQAAAAAAAwFlAAAAAAAAgbEAAAAAAAABtQAAAAAAA8HJAAAAAAAAga0AAAAAAAKBsQAAAAAAAgGNAAAAAAADgaUAAAAAAAABdQAAAAAAAAPh\\u002fAAAAAADAYkAAAAAAAAA1QAAAAAAAcHJAAAAAAACgaEAAAAAAAMBcQAAAAAAAwFRAAAAAAABgYEAAAAAAAEBlQAAAAAAAAGJAAAAAAABgcEAAAAAAAAD4fwAAAAAAoGZAAAAAAADAVkAAAAAAAEBnQAAAAAAAoGxAAAAAAADwcEAAAAAAAAA0QAAAAAAAgFtAAAAAAAAAN0AAAAAAAABbQAAAAAAAgFtAAAAAAABAUEAAAAAAAMBhQAAAAAAAIG1AAAAAAADAekAAAAAAAOBkQAAAAAAA4GRAAAAAAABAVUAAAAAAAIBOQAAAAAAAoG9AAAAAAAAgYkAAAAAAAAA2QAAAAAAA4G5AAAAAAADgZ0AAAAAAAMBaQAAAAAAAcHBAAAAAAACgYUAAAAAAAABbQAAAAAAAAGZAAAAAAABgdEAAAAAAACBnQAAAAAAAgGJAAAAAAAAQcEAAAAAAAMBtQAAAAAAAwGtAAAAAAADgYEAAAAAAAABQQAAAAAAAYGlAAAAAAACgYUAAAAAAAABtQAAAAAAAcHRAAAAAAACgZUAAAAAAAAD4fwAAAAAAMHBAAAAAAACgYUAAAAAAAEBgQAAAAAAA0HdAAAAAAACgbkAAAAAAAIBZQAAAAAAAUHRAAAAAAACgZ0AAAAAAACBxQAAAAAAAQGlAAAAAAAAAMUAAAAAAAEBXQAAAAAAA4GRAAAAAAADgcUAAAAAAAIBoQAAAAAAA4GhAAAAAAABAU0AAAAAAALB0QAAAAAAAoGdAAAAAAAAgcEAAAAAAAABkQAAAAAAAgG1AAAAAAAAAOEAAAAAAAAA0QAAAAAAAYGJAAAAAAAAAX0AAAAAAAAA2QAAAAAAAoHJAAAAAAABgcEAAAAAAAEBbQAAAAAAAAEpAAAAAAABAYkAAAAAAAOBgQAAAAAAAQFdAAAAAAAAAU0AAAAAAAAAwQAAAAAAAAFtAAAAAAACAS0AAAAAAAOBpQAAAAAAAwG1AAAAAAAD4gEAAAAAAACBqQAAAAAAAoGpAAAAAAABAY0AAAAAAAEBfQAAAAAAAAGtAAAAAAABAYEAAAAAAACCCQAAAAAAAAFxAAAAAAACAXUAAAAAAAPBwQAAAAAAAwGRAAAAAAABAbEAAAAAAAIBvQAAAAAAAIGtAAAAAAABAakAAAAAAAEBVQAAAAAAAgG9AAAAAAADwc0AAAAAAAIBrQAAAAAAAAGdAAAAAAACwdkAAAAAAAEiBQAAAAAAA4GFAAAAAAAAAWkAAAAAAAABuQAAAAAAAgGpAAAAAAABQcEAAAAAAAAAwQAAAAAAAgGNAAAAAAACAVEAAAAAAAAByQAAAAAAAADZAAAAAAADweEAAAAAAAAA6QAAAAAAAIGtAAAAAAACAV0AAAAAAAEBVQAAAAAAAkHVAAAAAAACQcEAAAAAAAAA2QAAAAAAAoGtAAAAAAACgYEAAAAAAAAD4fwAAAAAAcHRAAAAAAAAAMUAAAAAAAEBjQAAAAAAAIGBAAAAAAAAAWkAAAAAAACBgQAAAAAAAgFtAAAAAAADAdEAAAAAAAAD4fwAAAAAA4GJAAAAAAAAAZEAAAAAAAAD4fwAAAAAAADFAAAAAAADgbkAAAAAAAABlQAAAAAAAAPh\\u002fAAAAAADAa0AAAAAAAJBxQAAAAAAAEHJAAAAAAACAcUAAAAAAALBwQAAAAAAAAHFAAAAAAAAwc0AAAAAAACBmQAAAAAAAwFJAAAAAAACAZUAAAAAAAMB0QAAAAAAAAF5AAAAAAAAA+H8AAAAAAPBwQAAAAAAAAPh\\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\\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\\u002fAAAAAAAA+H8AAAAAAEBaQAAAAAAAAPh\\u002fAAAAAAAAXUAAAAAAAIBiQAAAAAAA4GNAAAAAAADAZUAAAAAAAJB1QAAAAAAAIGhAAAAAAADgdkAAAAAAAIBtQAAAAAAAADBAAAAAAAAALkAAAAAAAIBhQAAAAAAAADNAAAAAAAAAMkAAAAAAAMBcQAAAAAAAAGFAAAAAAADgckAAAAAAAMBhQAAAAAAAoGBAAAAAAABgcEAAAAAAAKBvQAAAAAAAwGtAAAAAAABgcUAAAAAAAIB7QAAAAAAAIHBAAAAAAABAakAAAAAAAIBXQAAAAAAAIGZAAAAAAABgekAAAAAAAIBWQAAAAAAAQFJAAAAAAABAXkAAAAAAACiBQAAAAAAAQFxAAAAAAABgY0AAAAAAAABZQAAAAAAAQGJAAAAAAAAANkAAAAAAAFB1QAAAAAAAQFtAAAAAAABAVkAAAAAAAEBfQAAAAAAAUHFAAAAAAAAAa0AAAAAAAGBlQAAAAAAAgFdAAAAAAAAAZUAAAAAAAMBQQAAAAAAAsHlAAAAAAACAZEAAAAAAAKBqQAAAAAAAgGJAAAAAAADAdEAAAAAAACBrQAAAAAAAIGRAAAAAAABQckAAAAAAAEBoQAAAAAAAAPh\\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\\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\\u002fAAAAAACAWUAAAAAAAOBnQAAAAAAAIGNAAAAAAACAaEAAAAAAAABnQAAAAAAAgGFAAAAAAABAZEAAAAAAAOBmQAAAAAAAwFdAAAAAAAAAYUAAAAAAAIBlQAAAAAAAQHJAAAAAAABgaUAAAAAAAJByQAAAAAAAMHBAAAAAAADgaEAAAAAAAAA1QAAAAAAAcHFAAAAAAABAa0AAAAAAAEBTQAAAAAAAoGdAAAAAAAAAX0AAAAAAAEBkQAAAAAAAAF1AAAAAAACweEAAAAAAAGB1QAAAAAAAAGJAAAAAAABAakAAAAAAAIBVQAAAAAAAgEpAAAAAAADAZUAAAAAAAIBRQAAAAAAAwFZAAAAAAADAWkAAAAAAAGByQAAAAAAAAPA\\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\\u002fAAAAAADgZ0AAAAAAANBxQAAAAAAAQGhAAAAAAAAAXEAAAAAAAGBmQAAAAAAAwGZAAAAAAACAZEAAAAAAALB0QAAAAAAAwF5AAAAAAACASUAAAAAAAIBXQAAAAAAAYHBAAAAAAACAaUAAAAAAACBlQAAAAAAAQGJAAAAAAAAA+H8AAAAAAAD4fwAAAAAAwFpAAAAAAACgbkAAAAAAAIBXQAAAAAAAuIRAAAAAAACAeEAAAAAAAEB+QAAAAAAAAGVAAAAAAACAZkAAAAAAAAB4QAAAAAAAgG5AAAAAAAAwcEAAAAAAAADwPwAAAAAAgF5AAAAAAAAA8D8AAAAAAHB1QAAAAAAAAEtAAAAAAAAAEEAAAAAAAAAQQAAAAAAAABBAAAAAAAAAAEAAAAAAAAAQQAAAAAAAABBAAAAAAADAV0AAAAAAAAAQQAAAAAAAABBAAAAAAABgZUAAAAAAAAAQQAAAAAAAwGRAAAAAAAAgekAAAAAAAADwPwAAAAAAAAhAAAAAAAAAMkAAAAAAAAAQQAAAAAAAABBAAAAAAAAAPEAAAAAAAEBRQAAAAAAAABBAAAAAAAAANkAAAAAAAAAQQAAAAAAAABBAAAAAAAAgbUAAAAAAAAAQQAAAAAAAgF1AAAAAAAAAEEAAAAAAAAAQQAAAAAAAABBAAAAAAADwfEAAAAAAAIBAQAAAAAAAABBAAAAAAADgZUAAAAAAAAAQQAAAAAAAABBAAAAAAAAAEEAAAAAAAAAQQAAAAAAAABBAAAAAAAAAEEAAAAAAAABuQAAAAAAAABBAAAAAAAAAEEAAAAAAAAAQQAAAAAAAoGJAAAAAAABga0AAAAAAAAAQQAAAAAAAABBAAAAAAACAYEAAAAAAAAAQQAAAAAAAABBAAAAAAAAAEEAAAAAAAAAQQAAAAAAAABBAAAAAAADgb0AAAAAAAAAQQAAAAAAAABBAAAAAAAAAEEAAAAAAAAAQQAAAAAAAABBAAAAAAAAANUAAAAAAAAByQAAAAAAAQGdAAAAAAADgaUAAAAAAAAAQQAAAAAAAAGZAAAAAAAAACEAAAAAAAADwPwAAAAAAYGBAAAAAAABAVUAAAAAAAAAQQAAAAAAAABBAAAAAAADga0AAAAAAAEBhQAAAAAAAQFlAAAAAAABAcUAAAAAAACBnQAAAAAAAABBAAAAAAAAAEEAAAAAAAAAQQAAAAAAAABBAAAAAAAAAM0AAAAAAAIBsQAAAAAAAABBAAAAAAAAgYkAAAAAAAABbQAAAAAAAABBAAAAAAAAAEEAAAAAAAMBrQAAAAAAAABBAAAAAAAAAEEAAAAAAAAAQQAAAAAAAADJAAAAAAAAAXEAAAAAAAAAQQAAAAAAAIGZAAAAAAAAAAEAAAAAAAAAIQAAAAAAAADZAAAAAAABgZUAAAAAAAAAQQAAAAAAAABBAAAAAAAAAEEAAAAAAAAA3QAAAAAAAABBAAAAAAAAAYkAAAAAAAGB3QAAAAAAAABBAAAAAAABQeUAAAAAAAAAQQAAAAAAAADNAAAAAAAAAEEAAAAAAAAAQQAAAAAAAAFhAAAAAAAAAEEAAAAAAAMBcQAAAAAAAABBAAAAAAAAAOEAAAAAAAAAQQAAAAAAAABBAAAAAAAAAEEAAAAAAAAAQQAAAAAAAAPA\\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\\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\\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\\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\\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\\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\\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\\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\\u002fQAAAAAAAYGJAAAAAAADgYUAAAAAAAABpQAAAAAAA8HBAAAAAAACgY0AAAAAAAMBlQAAAAAAAADVAAAAAAADgY0AAAAAAAAA5QAAAAAAAwGxAAAAAAACgcEAAAAAAAABYQAAAAAAAIGJAAAAAAACgYUAAAAAAAEBrQAAAAAAAgGhAAAAAAACgdUAAAAAAAABxQAAAAAAAADFAAAAAAADgb0AAAAAAAKBoQAAAAAAAAGhAAAAAAADgZEAAAAAAAABhQAAAAAAAAGFAAAAAAADgb0AAAAAAAIBUQAAAAAAAADlAAAAAAACAaUAAAAAAAMBlQAAAAAAAwG1AAAAAAABAdUAAAAAAACBkQAAAAAAAAGBAAAAAAAAAZEAAAAAAAGB0QAAAAAAA4G5AAAAAAACAZkAAAAAAAIBoQAAAAAAAwHFAAAAAAACATkAAAAAAAEBXQAAAAAAAQFdAAAAAAABgYUAAAAAAAFBxQAAAAAAAgFFAAAAAAABgcUAAAAAAAIBoQAAAAAAAgGVAAAAAAAAAakAAAAAAAIByQAAAAAAAsHdAAAAAAAAAbEAAAAAAAMBuQAAAAAAAgFBAAAAAAAAANEAAAAAAACBzQAAAAAAA0HFAAAAAAADAY0AAAAAAAABkQAAAAAAAAPh\\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\\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\\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\\u002fAAAAAAAA+H8AAAAAAMBvQAAAAAAAwGNAAAAAAABAaEAAAAAAAOBlQAAAAAAAwGJAAAAAAACAYUAAAAAAAAAzQAAAAAAAIGFAAAAAAADQdUAAAAAAAGBhQAAAAAAAwF5AAAAAAAAggUAAAAAAAABoQAAAAAAAAF1AAAAAAACAWEAAAAAAAOByQAAAAAAAAFVAAAAAAAAgaUAAAAAAAFCAQAAAAAAA4GFAAAAAAACAXUAAAAAAAABkQAAAAAAA4GJAAAAAAABgcEAAAAAAAJBwQAAAAAAA4GxAAAAAAACgdkAAAAAAAEBjQAAAAAAAgF1AAAAAAACAaUAAAAAAANBxQAAAAAAAYHdAAAAAAACQckAAAAAAAKBgQAAAAAAAAFFAAAAAAACAbkAAAAAAAFB4QAAAAAAAwFBAAAAAAACQcEAAAAAAAIBLQAAAAAAAgGRAAAAAAABAZ0AAAAAAAGBvQAAAAAAAwFlAAAAAAABAWUAAAAAAANByQAAAAAAA4GxAAAAAAAAAckAAAAAAAGBzQAAAAAAAAPA\\u002fAAAAAADAWUAAAAAAAEBaQAAAAAAA4HdAAAAAAACAY0AAAAAAAJB3QAAAAAAAAFZAAAAAAAAAMEAAAAAAACBlQAAAAAAAsH9AAAAAAADgYUAAAAAAAIBXQAAAAAAAAEtAAAAAAACATkAAAAAAAOBuQAAAAAAAIHJAAAAAAADAbkAAAAAAAABjQAAAAAAAgFpAAAAAAACAZEAAAAAAAABnQAAAAAAAoGdAAAAAAABgaEAAAAAAAPByQAAAAAAAwGpAAAAAAACAY0AAAAAAAKBnQAAAAAAAgGlAAAAAAAAAVUAAAAAAAMBxQAAAAAAAgFtAAAAAAACAXEAAAAAAAGBiQAAAAAAA4GVAAAAAAAAAM0AAAAAAAEBcQAAAAAAAgGhAAAAAAAAAO0AAAAAAAADwPwAAAAAAoGpAAAAAAABga0AAAAAAAGBlQAAAAAAAwFZAAAAAAACAakAAAAAAAEBhQAAAAAAAgFVAAAAAAACgaEAAAAAAAKBsQAAAAAAAYGhAAAAAAADAYUAAAAAAAIBqQAAAAAAAoGVAAAAAAADAXEAAAAAAAOBhQAAAAAAAwFZAAAAAAADAZEAAAAAAAMBgQAAAAAAAwFtAAAAAAAAATkAAAAAAAGB5QAAAAAAAAHRAAAAAAAAgbkAAAAAAACBkQAAAAAAAgFFAAAAAAADgZEAAAAAAACBxQAAAAAAAcHFAAAAAAAAgZ0AAAAAAAAA2QAAAAAAAgGtAAAAAAAAAWUAAAAAAAMBdQAAAAAAAYH1AAAAAAADAV0AAAAAAAIB2QAAAAAAAIG9AAAAAAABgbUAAAAAAAAA4QAAAAAAAoGFAAAAAAACgaEAAAAAAAEBgQAAAAAAAADZAAAAAAABAY0AAAAAAAMBSQAAAAAAAsHFAAAAAAAAAYEAAAAAAACBwQAAAAAAAoGBAAAAAAACAW0AAAAAAAMBvQAAAAAAAgF9AAAAAAACgd0AAAAAAAMBtQAAAAAAAwGtAAAAAAADgYEAAAAAAAEBrQAAAAAAA4GBAAAAAAACAYkAAAAAAAFB3QAAAAAAAAGFAAAAAAABAakAAAAAAACB1QAAAAAAAgGJAAAAAAACgZ0AAAAAAACBzQAAAAAAAwHRAAAAAAADAaEAAAAAAAMBhQAAAAAAAYGdAAAAAAADgZ0AAAAAAAABbQAAAAAAAIGZAAAAAAACgbkAAAAAAANB4QAAAAAAA4GZAAAAAAACAVUAAAAAAAIBaQAAAAAAA8HJAAAAAAAAAZUAAAAAAAMBXQAAAAAAAYGJAAAAAAACgb0AAAAAAAJByQAAAAAAAEHlAAAAAAADAXkAAAAAAAEBgQAAAAAAAIGxAAAAAAAAAMUAAAAAAAEBVQAAAAAAAQG5AAAAAAACAcUAAAAAAAABgQAAAAAAAoGJAAAAAAAAAa0AAAAAAADBzQAAAAAAAQGtAAAAAAADAbEAAAAAAAABjQAAAAAAA8HRAAAAAAACAWUAAAAAAAIBkQAAAAAAAQFlAAAAAAADAYUAAAAAAACBiQAAAAAAAADJAAAAAAABgakAAAAAAAEBuQAAAAAAAgFJAAAAAAADAYkAAAAAAAABkQAAAAAAAwHJAAAAAAACgZUAAAAAAAOB3QAAAAAAAQG1AAAAAAAAAWUAAAAAAAKBvQAAAAAAAIGlAAAAAAADgbUAAAAAAAMBmQAAAAAAA4GBAAAAAAAAgakAAAAAAAABlQAAAAAAAoGVAAAAAAABAXkAAAAAAAABlQAAAAAAAYHZAAAAAAACAZUAAAAAAABBzQAAAAAAA8HhAAAAAAABQcEAAAAAAAAA2QAAAAAAAAGNAAAAAAAAAUUAAAAAAAEBYQAAAAAAAQFxAAAAAAACgcEAAAAAAABByQAAAAAAAwFlAAAAAAABAfkAAAAAAAMBkQAAAAAAA4GhAAAAAAAAARUAAAAAAAGBkQAAAAAAAYGhAAAAAAADAYkAAAAAAAIBqQAAAAAAAADRAAAAAAABAU0AAAAAAAIBrQAAAAAAAAGNAAAAAAACAYEAAAAAAAEBvQAAAAAAAoGlAAAAAAAAQdUAAAAAAAABvQAAAAAAAoGNAAAAAAAAAMUAAAAAAAFBzQAAAAAAAAE9AAAAAAAAA8D8AAAAAAIBaQAAAAAAAQGhAAAAAAAAAYEAAAAAAAIBVQAAAAAAAgGxAAAAAAAAAN0AAAAAAADBxQAAAAAAAQHVAAAAAAAAAbEAAAAAAAMBsQAAAAAAAwHtAAAAAAAAgbEAAAAAAAABWQAAAAAAAAHNAAAAAAAAAZEAAAAAAAEBfQAAAAAAAwGNAAAAAAAAANkAAAAAAAKBhQAAAAAAAQFVAAAAAAAAAWkAAAAAAAEBuQAAAAAAAIGNAAAAAAABAYUAAAAAAAIBvQAAAAAAAAEBAAAAAAABAUUAAAAAAAAD4fwAAAAAAAGJAAAAAAAAA+H8AAAAAAGBmQAAAAAAAgF9AAAAAAACAW0AAAAAAAABqQAAAAAAAADZAAAAAAADgbkAAAAAAAKB5QAAAAAAAwFNAAAAAAAAgaEAAAAAAAIBgQAAAAAAA4G9AAAAAAAAgbEAAAAAAAOBoQAAAAAAAAPh\\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\\u002fQAAAAAAAMHFAAAAAAABAWEAAAAAAAMBWQAAAAAAA0HJAAAAAAACgZkAAAAAAAIBQQAAAAAAAgFVAAAAAAAAgaEAAAAAAAPB6QAAAAAAAwFhAAAAAAABgaUAAAAAAAEBcQAAAAAAAAFZA\"},\"xaxis\":\"x\",\"yaxis\":\"y\",\"type\":\"histogram\"}],                        {\"template\":{\"data\":{\"histogram2dcontour\":[{\"type\":\"histogram2dcontour\",\"colorbar\":{\"outlinewidth\":0,\"ticks\":\"\"},\"colorscale\":[[0.0,\"#0d0887\"],[0.1111111111111111,\"#46039f\"],[0.2222222222222222,\"#7201a8\"],[0.3333333333333333,\"#9c179e\"],[0.4444444444444444,\"#bd3786\"],[0.5555555555555556,\"#d8576b\"],[0.6666666666666666,\"#ed7953\"],[0.7777777777777778,\"#fb9f3a\"],[0.8888888888888888,\"#fdca26\"],[1.0,\"#f0f921\"]]}],\"choropleth\":[{\"type\":\"choropleth\",\"colorbar\":{\"outlinewidth\":0,\"ticks\":\"\"}}],\"histogram2d\":[{\"type\":\"histogram2d\",\"colorbar\":{\"outlinewidth\":0,\"ticks\":\"\"},\"colorscale\":[[0.0,\"#0d0887\"],[0.1111111111111111,\"#46039f\"],[0.2222222222222222,\"#7201a8\"],[0.3333333333333333,\"#9c179e\"],[0.4444444444444444,\"#bd3786\"],[0.5555555555555556,\"#d8576b\"],[0.6666666666666666,\"#ed7953\"],[0.7777777777777778,\"#fb9f3a\"],[0.8888888888888888,\"#fdca26\"],[1.0,\"#f0f921\"]]}],\"heatmap\":[{\"type\":\"heatmap\",\"colorbar\":{\"outlinewidth\":0,\"ticks\":\"\"},\"colorscale\":[[0.0,\"#0d0887\"],[0.1111111111111111,\"#46039f\"],[0.2222222222222222,\"#7201a8\"],[0.3333333333333333,\"#9c179e\"],[0.4444444444444444,\"#bd3786\"],[0.5555555555555556,\"#d8576b\"],[0.6666666666666666,\"#ed7953\"],[0.7777777777777778,\"#fb9f3a\"],[0.8888888888888888,\"#fdca26\"],[1.0,\"#f0f921\"]]}],\"contourcarpet\":[{\"type\":\"contourcarpet\",\"colorbar\":{\"outlinewidth\":0,\"ticks\":\"\"}}],\"contour\":[{\"type\":\"contour\",\"colorbar\":{\"outlinewidth\":0,\"ticks\":\"\"},\"colorscale\":[[0.0,\"#0d0887\"],[0.1111111111111111,\"#46039f\"],[0.2222222222222222,\"#7201a8\"],[0.3333333333333333,\"#9c179e\"],[0.4444444444444444,\"#bd3786\"],[0.5555555555555556,\"#d8576b\"],[0.6666666666666666,\"#ed7953\"],[0.7777777777777778,\"#fb9f3a\"],[0.8888888888888888,\"#fdca26\"],[1.0,\"#f0f921\"]]}],\"surface\":[{\"type\":\"surface\",\"colorbar\":{\"outlinewidth\":0,\"ticks\":\"\"},\"colorscale\":[[0.0,\"#0d0887\"],[0.1111111111111111,\"#46039f\"],[0.2222222222222222,\"#7201a8\"],[0.3333333333333333,\"#9c179e\"],[0.4444444444444444,\"#bd3786\"],[0.5555555555555556,\"#d8576b\"],[0.6666666666666666,\"#ed7953\"],[0.7777777777777778,\"#fb9f3a\"],[0.8888888888888888,\"#fdca26\"],[1.0,\"#f0f921\"]]}],\"mesh3d\":[{\"type\":\"mesh3d\",\"colorbar\":{\"outlinewidth\":0,\"ticks\":\"\"}}],\"scatter\":[{\"fillpattern\":{\"fillmode\":\"overlay\",\"size\":10,\"solidity\":0.2},\"type\":\"scatter\"}],\"parcoords\":[{\"type\":\"parcoords\",\"line\":{\"colorbar\":{\"outlinewidth\":0,\"ticks\":\"\"}}}],\"scatterpolargl\":[{\"type\":\"scatterpolargl\",\"marker\":{\"colorbar\":{\"outlinewidth\":0,\"ticks\":\"\"}}}],\"bar\":[{\"error_x\":{\"color\":\"#2a3f5f\"},\"error_y\":{\"color\":\"#2a3f5f\"},\"marker\":{\"line\":{\"color\":\"#E5ECF6\",\"width\":0.5},\"pattern\":{\"fillmode\":\"overlay\",\"size\":10,\"solidity\":0.2}},\"type\":\"bar\"}],\"scattergeo\":[{\"type\":\"scattergeo\",\"marker\":{\"colorbar\":{\"outlinewidth\":0,\"ticks\":\"\"}}}],\"scatterpolar\":[{\"type\":\"scatterpolar\",\"marker\":{\"colorbar\":{\"outlinewidth\":0,\"ticks\":\"\"}}}],\"histogram\":[{\"marker\":{\"pattern\":{\"fillmode\":\"overlay\",\"size\":10,\"solidity\":0.2}},\"type\":\"histogram\"}],\"scattergl\":[{\"type\":\"scattergl\",\"marker\":{\"colorbar\":{\"outlinewidth\":0,\"ticks\":\"\"}}}],\"scatter3d\":[{\"type\":\"scatter3d\",\"line\":{\"colorbar\":{\"outlinewidth\":0,\"ticks\":\"\"}},\"marker\":{\"colorbar\":{\"outlinewidth\":0,\"ticks\":\"\"}}}],\"scattermap\":[{\"type\":\"scattermap\",\"marker\":{\"colorbar\":{\"outlinewidth\":0,\"ticks\":\"\"}}}],\"scattermapbox\":[{\"type\":\"scattermapbox\",\"marker\":{\"colorbar\":{\"outlinewidth\":0,\"ticks\":\"\"}}}],\"scatterternary\":[{\"type\":\"scatterternary\",\"marker\":{\"colorbar\":{\"outlinewidth\":0,\"ticks\":\"\"}}}],\"scattercarpet\":[{\"type\":\"scattercarpet\",\"marker\":{\"colorbar\":{\"outlinewidth\":0,\"ticks\":\"\"}}}],\"carpet\":[{\"aaxis\":{\"endlinecolor\":\"#2a3f5f\",\"gridcolor\":\"white\",\"linecolor\":\"white\",\"minorgridcolor\":\"white\",\"startlinecolor\":\"#2a3f5f\"},\"baxis\":{\"endlinecolor\":\"#2a3f5f\",\"gridcolor\":\"white\",\"linecolor\":\"white\",\"minorgridcolor\":\"white\",\"startlinecolor\":\"#2a3f5f\"},\"type\":\"carpet\"}],\"table\":[{\"cells\":{\"fill\":{\"color\":\"#EBF0F8\"},\"line\":{\"color\":\"white\"}},\"header\":{\"fill\":{\"color\":\"#C8D4E3\"},\"line\":{\"color\":\"white\"}},\"type\":\"table\"}],\"barpolar\":[{\"marker\":{\"line\":{\"color\":\"#E5ECF6\",\"width\":0.5},\"pattern\":{\"fillmode\":\"overlay\",\"size\":10,\"solidity\":0.2}},\"type\":\"barpolar\"}],\"pie\":[{\"automargin\":true,\"type\":\"pie\"}]},\"layout\":{\"autotypenumbers\":\"strict\",\"colorway\":[\"#636efa\",\"#EF553B\",\"#00cc96\",\"#ab63fa\",\"#FFA15A\",\"#19d3f3\",\"#FF6692\",\"#B6E880\",\"#FF97FF\",\"#FECB52\"],\"font\":{\"color\":\"#2a3f5f\"},\"hovermode\":\"closest\",\"hoverlabel\":{\"align\":\"left\"},\"paper_bgcolor\":\"white\",\"plot_bgcolor\":\"#E5ECF6\",\"polar\":{\"bgcolor\":\"#E5ECF6\",\"angularaxis\":{\"gridcolor\":\"white\",\"linecolor\":\"white\",\"ticks\":\"\"},\"radialaxis\":{\"gridcolor\":\"white\",\"linecolor\":\"white\",\"ticks\":\"\"}},\"ternary\":{\"bgcolor\":\"#E5ECF6\",\"aaxis\":{\"gridcolor\":\"white\",\"linecolor\":\"white\",\"ticks\":\"\"},\"baxis\":{\"gridcolor\":\"white\",\"linecolor\":\"white\",\"ticks\":\"\"},\"caxis\":{\"gridcolor\":\"white\",\"linecolor\":\"white\",\"ticks\":\"\"}},\"coloraxis\":{\"colorbar\":{\"outlinewidth\":0,\"ticks\":\"\"}},\"colorscale\":{\"sequential\":[[0.0,\"#0d0887\"],[0.1111111111111111,\"#46039f\"],[0.2222222222222222,\"#7201a8\"],[0.3333333333333333,\"#9c179e\"],[0.4444444444444444,\"#bd3786\"],[0.5555555555555556,\"#d8576b\"],[0.6666666666666666,\"#ed7953\"],[0.7777777777777778,\"#fb9f3a\"],[0.8888888888888888,\"#fdca26\"],[1.0,\"#f0f921\"]],\"sequentialminus\":[[0.0,\"#0d0887\"],[0.1111111111111111,\"#46039f\"],[0.2222222222222222,\"#7201a8\"],[0.3333333333333333,\"#9c179e\"],[0.4444444444444444,\"#bd3786\"],[0.5555555555555556,\"#d8576b\"],[0.6666666666666666,\"#ed7953\"],[0.7777777777777778,\"#fb9f3a\"],[0.8888888888888888,\"#fdca26\"],[1.0,\"#f0f921\"]],\"diverging\":[[0,\"#8e0152\"],[0.1,\"#c51b7d\"],[0.2,\"#de77ae\"],[0.3,\"#f1b6da\"],[0.4,\"#fde0ef\"],[0.5,\"#f7f7f7\"],[0.6,\"#e6f5d0\"],[0.7,\"#b8e186\"],[0.8,\"#7fbc41\"],[0.9,\"#4d9221\"],[1,\"#276419\"]]},\"xaxis\":{\"gridcolor\":\"white\",\"linecolor\":\"white\",\"ticks\":\"\",\"title\":{\"standoff\":15},\"zerolinecolor\":\"white\",\"automargin\":true,\"zerolinewidth\":2},\"yaxis\":{\"gridcolor\":\"white\",\"linecolor\":\"white\",\"ticks\":\"\",\"title\":{\"standoff\":15},\"zerolinecolor\":\"white\",\"automargin\":true,\"zerolinewidth\":2},\"scene\":{\"xaxis\":{\"backgroundcolor\":\"#E5ECF6\",\"gridcolor\":\"white\",\"linecolor\":\"white\",\"showbackground\":true,\"ticks\":\"\",\"zerolinecolor\":\"white\",\"gridwidth\":2},\"yaxis\":{\"backgroundcolor\":\"#E5ECF6\",\"gridcolor\":\"white\",\"linecolor\":\"white\",\"showbackground\":true,\"ticks\":\"\",\"zerolinecolor\":\"white\",\"gridwidth\":2},\"zaxis\":{\"backgroundcolor\":\"#E5ECF6\",\"gridcolor\":\"white\",\"linecolor\":\"white\",\"showbackground\":true,\"ticks\":\"\",\"zerolinecolor\":\"white\",\"gridwidth\":2}},\"shapedefaults\":{\"line\":{\"color\":\"#2a3f5f\"}},\"annotationdefaults\":{\"arrowcolor\":\"#2a3f5f\",\"arrowhead\":0,\"arrowwidth\":1},\"geo\":{\"bgcolor\":\"white\",\"landcolor\":\"#E5ECF6\",\"subunitcolor\":\"white\",\"showland\":true,\"showlakes\":true,\"lakecolor\":\"white\"},\"title\":{\"x\":0.05},\"mapbox\":{\"style\":\"light\"}}},\"xaxis\":{\"anchor\":\"y\",\"domain\":[0.0,1.0],\"title\":{\"text\":\"value\"}},\"yaxis\":{\"anchor\":\"x\",\"domain\":[0.0,1.0],\"title\":{\"text\":\"count\"}},\"legend\":{\"title\":{\"text\":\"variable\"},\"tracegroupgap\":0},\"margin\":{\"t\":60},\"barmode\":\"relative\"},                        {\"responsive\": true}                    )                };            </script>        </div>"
      ],
      "text/plain": [
       "Figure({\n",
       "    'data': [{'bingroup': 'x',\n",
       "              'hovertemplate': 'variable=mean_len<br>value=%{x}<br>count=%{y}<extra></extra>',\n",
       "              'legendgroup': 'mean_len',\n",
       "              'marker': {'color': '#636efa', 'pattern': {'shape': ''}},\n",
       "              'name': 'mean_len',\n",
       "              'orientation': 'v',\n",
       "              'showlegend': True,\n",
       "              'type': 'histogram',\n",
       "              'x': {'bdata': ('AAAAAAAA+H8AAAAAAAD4fwAAAAAAAA' ... 'AAAABgaUAAAAAAAEBcQAAAAAAAAFZA'),\n",
       "                    'dtype': 'f8'},\n",
       "              'xaxis': 'x',\n",
       "              'yaxis': 'y'}],\n",
       "    'layout': {'barmode': 'relative',\n",
       "               'legend': {'title': {'text': 'variable'}, 'tracegroupgap': 0},\n",
       "               'margin': {'t': 60},\n",
       "               'template': '...',\n",
       "               'xaxis': {'anchor': 'y', 'domain': [0.0, 1.0], 'title': {'text': 'value'}},\n",
       "               'yaxis': {'anchor': 'x', 'domain': [0.0, 1.0], 'title': {'text': 'count'}}}\n",
       "})"
      ]
     },
     "execution_count": 91,
     "metadata": {},
     "output_type": "execute_result"
    }
   ],
   "source": [
    "px.histogram(dataset.mean_len)"
   ]
  },
  {
   "cell_type": "code",
   "execution_count": null,
   "id": "a060410d",
   "metadata": {},
   "outputs": [],
   "source": []
  },
  {
   "cell_type": "code",
   "execution_count": null,
   "id": "9cd220de",
   "metadata": {},
   "outputs": [],
   "source": []
  },
  {
   "cell_type": "code",
   "execution_count": null,
   "id": "6734dcbc",
   "metadata": {},
   "outputs": [],
   "source": []
  },
  {
   "cell_type": "code",
   "execution_count": 220,
   "id": "df169a6e",
   "metadata": {
    "execution": {
     "iopub.execute_input": "2024-10-15T18:20:46.655816Z",
     "iopub.status.busy": "2024-10-15T18:20:46.654941Z",
     "iopub.status.idle": "2024-10-15T18:20:46.660713Z",
     "shell.execute_reply": "2024-10-15T18:20:46.659548Z"
    },
    "papermill": {
     "duration": 0.012184,
     "end_time": "2024-10-15T18:20:46.662878",
     "exception": false,
     "start_time": "2024-10-15T18:20:46.650694",
     "status": "completed"
    },
    "tags": []
   },
   "outputs": [],
   "source": [
    "def clean_meaning_text(meaning_tag):\n",
    "    meaning = meaning_tag.get_text(separator=\" \", strip=True)  # Remove excessive whitespace and handle multi-line texts\n",
    "    # Remove \"TOP\" links or other unwanted parts\n",
    "    meaning = meaning.replace(\" TOP\", \"\").strip()\n",
    "    return meaning"
   ]
  },
  {
   "cell_type": "code",
   "execution_count": 221,
   "id": "2ff0a466",
   "metadata": {},
   "outputs": [],
   "source": [
    "def extract_symbol(symbol):\n",
    "    dream = symbol.get_text().strip()  # Get the dream symbol text\n",
    "\n",
    "    # Find the corresponding meaning (look for the next <p> tag that contains the style attribute for consistency)\n",
    "    meaning_tag = symbol.find_next('p', style=True)\n",
    "    \n",
    "    if meaning_tag:\n",
    "        meaning = clean_meaning_text(meaning_tag)\n",
    "        \n",
    "        # Check if meaning and dream are valid\n",
    "        if dream and meaning:\n",
    "            return dream, meaning\n",
    "\n",
    "    else:\n",
    "        print(f\"Could not find meaning for {dream}\")"
   ]
  },
  {
   "cell_type": "markdown",
   "id": "fd052d6a",
   "metadata": {},
   "source": [
    "# original code"
   ]
  },
  {
   "cell_type": "code",
   "execution_count": null,
   "id": "f1600a72",
   "metadata": {
    "execution": {
     "iopub.execute_input": "2024-10-15T18:20:46.670611Z",
     "iopub.status.busy": "2024-10-15T18:20:46.670193Z",
     "iopub.status.idle": "2024-10-15T18:21:01.588622Z",
     "shell.execute_reply": "2024-10-15T18:21:01.587479Z"
    },
    "papermill": {
     "duration": 14.925151,
     "end_time": "2024-10-15T18:21:01.591127",
     "exception": false,
     "start_time": "2024-10-15T18:20:46.665976",
     "status": "completed"
    },
    "tags": []
   },
   "outputs": [],
   "source": [
    "for letter in string.ascii_lowercase:\n",
    "    url = base_url.format(letter)\n",
    "    response = requests.get(url)\n",
    "\n",
    "    if response.status_code == 200:  # Check if the page was successfully fetched\n",
    "        soup = BeautifulSoup(response.content, 'html.parser')\n",
    "\n",
    "        # Find all dream symbols, wrapped inside <a> tags with a name attribute\n",
    "        dream_symbols = soup.find_all('a', attrs={'name': True})\n",
    "        \n",
    "        # Iterate over each symbol\n",
    "        for symbol in dream_symbols:\n",
    "            dream, meaning = extract_symbol(symbol)\n",
    "            dreams.append(dream)\n",
    "            meanings.append(meaning)\n",
    "\n",
    "    else:\n",
    "        print(f\"Failed to retrieve {letter}\")"
   ]
  },
  {
   "cell_type": "code",
   "execution_count": 4,
   "id": "edb89115",
   "metadata": {
    "execution": {
     "iopub.execute_input": "2024-10-15T18:21:01.598807Z",
     "iopub.status.busy": "2024-10-15T18:21:01.598405Z",
     "iopub.status.idle": "2024-10-15T18:21:01.606250Z",
     "shell.execute_reply": "2024-10-15T18:21:01.605044Z"
    },
    "papermill": {
     "duration": 0.014186,
     "end_time": "2024-10-15T18:21:01.608485",
     "exception": false,
     "start_time": "2024-10-15T18:21:01.594299",
     "status": "completed"
    },
    "tags": []
   },
   "outputs": [],
   "source": [
    "df = pd.DataFrame({\n",
    "    \"Dream Symbol\": dreams,\n",
    "    \"Interpretation\": meanings\n",
    "})"
   ]
  },
  {
   "cell_type": "code",
   "execution_count": 5,
   "id": "4c38c14e",
   "metadata": {
    "execution": {
     "iopub.execute_input": "2024-10-15T18:21:01.616749Z",
     "iopub.status.busy": "2024-10-15T18:21:01.615749Z",
     "iopub.status.idle": "2024-10-15T18:21:01.638162Z",
     "shell.execute_reply": "2024-10-15T18:21:01.637059Z"
    },
    "papermill": {
     "duration": 0.028793,
     "end_time": "2024-10-15T18:21:01.640403",
     "exception": false,
     "start_time": "2024-10-15T18:21:01.611610",
     "status": "completed"
    },
    "tags": []
   },
   "outputs": [
    {
     "data": {
      "text/html": [
       "<div>\n",
       "<style scoped>\n",
       "    .dataframe tbody tr th:only-of-type {\n",
       "        vertical-align: middle;\n",
       "    }\n",
       "\n",
       "    .dataframe tbody tr th {\n",
       "        vertical-align: top;\n",
       "    }\n",
       "\n",
       "    .dataframe thead th {\n",
       "        text-align: right;\n",
       "    }\n",
       "</style>\n",
       "<table border=\"1\" class=\"dataframe\">\n",
       "  <thead>\n",
       "    <tr style=\"text-align: right;\">\n",
       "      <th></th>\n",
       "      <th>Dream Symbol</th>\n",
       "      <th>Interpretation</th>\n",
       "    </tr>\n",
       "  </thead>\n",
       "  <tbody>\n",
       "    <tr>\n",
       "      <th>0</th>\n",
       "      <td>Aardvark</td>\n",
       "      <td>To\\nsee an aardvark in your dream indicates th...</td>\n",
       "    </tr>\n",
       "    <tr>\n",
       "      <th>1</th>\n",
       "      <td>Abandonment</td>\n",
       "      <td>To\\ndream that you are abandoned suggests that...</td>\n",
       "    </tr>\n",
       "    <tr>\n",
       "      <th>2</th>\n",
       "      <td>Abduction</td>\n",
       "      <td>To\\ndream of being abducted indicates that you...</td>\n",
       "    </tr>\n",
       "    <tr>\n",
       "      <th>3</th>\n",
       "      <td>Aborigine</td>\n",
       "      <td>To\\nsee an Aborigine in your dream represents ...</td>\n",
       "    </tr>\n",
       "    <tr>\n",
       "      <th>4</th>\n",
       "      <td>Abortion</td>\n",
       "      <td>To\\ndream that you have an abortion suggests t...</td>\n",
       "    </tr>\n",
       "    <tr>\n",
       "      <th>...</th>\n",
       "      <td>...</td>\n",
       "      <td>...</td>\n",
       "    </tr>\n",
       "    <tr>\n",
       "      <th>897</th>\n",
       "      <td>Yoyo</td>\n",
       "      <td>To see or play\\nwith a yoyo in you dream signi...</td>\n",
       "    </tr>\n",
       "    <tr>\n",
       "      <th>898</th>\n",
       "      <td>Zebra</td>\n",
       "      <td>To see a zebra in\\nyour dream represents perfe...</td>\n",
       "    </tr>\n",
       "    <tr>\n",
       "      <th>899</th>\n",
       "      <td>Zip\\nLine</td>\n",
       "      <td>To dream that you\\nare zip lining implies that...</td>\n",
       "    </tr>\n",
       "    <tr>\n",
       "      <th>900</th>\n",
       "      <td>Zombie</td>\n",
       "      <td>To see or dream\\nthat you are a zombie suggest...</td>\n",
       "    </tr>\n",
       "    <tr>\n",
       "      <th>901</th>\n",
       "      <td>Zoomorphism</td>\n",
       "      <td>To dream that you\\nare changing into the form ...</td>\n",
       "    </tr>\n",
       "  </tbody>\n",
       "</table>\n",
       "<p>902 rows × 2 columns</p>\n",
       "</div>"
      ],
      "text/plain": [
       "    Dream Symbol                                     Interpretation\n",
       "0       Aardvark  To\\nsee an aardvark in your dream indicates th...\n",
       "1    Abandonment  To\\ndream that you are abandoned suggests that...\n",
       "2      Abduction  To\\ndream of being abducted indicates that you...\n",
       "3      Aborigine  To\\nsee an Aborigine in your dream represents ...\n",
       "4       Abortion  To\\ndream that you have an abortion suggests t...\n",
       "..           ...                                                ...\n",
       "897         Yoyo  To see or play\\nwith a yoyo in you dream signi...\n",
       "898        Zebra  To see a zebra in\\nyour dream represents perfe...\n",
       "899    Zip\\nLine  To dream that you\\nare zip lining implies that...\n",
       "900       Zombie  To see or dream\\nthat you are a zombie suggest...\n",
       "901  Zoomorphism  To dream that you\\nare changing into the form ...\n",
       "\n",
       "[902 rows x 2 columns]"
      ]
     },
     "execution_count": 5,
     "metadata": {},
     "output_type": "execute_result"
    }
   ],
   "source": [
    "df"
   ]
  },
  {
   "cell_type": "code",
   "execution_count": 6,
   "id": "8b456a41",
   "metadata": {
    "execution": {
     "iopub.execute_input": "2024-10-15T18:21:01.648778Z",
     "iopub.status.busy": "2024-10-15T18:21:01.648387Z",
     "iopub.status.idle": "2024-10-15T18:21:01.663082Z",
     "shell.execute_reply": "2024-10-15T18:21:01.661816Z"
    },
    "papermill": {
     "duration": 0.021603,
     "end_time": "2024-10-15T18:21:01.665437",
     "exception": false,
     "start_time": "2024-10-15T18:21:01.643834",
     "status": "completed"
    },
    "tags": []
   },
   "outputs": [
    {
     "data": {
      "text/html": [
       "<div>\n",
       "<style scoped>\n",
       "    .dataframe tbody tr th:only-of-type {\n",
       "        vertical-align: middle;\n",
       "    }\n",
       "\n",
       "    .dataframe tbody tr th {\n",
       "        vertical-align: top;\n",
       "    }\n",
       "\n",
       "    .dataframe thead th {\n",
       "        text-align: right;\n",
       "    }\n",
       "</style>\n",
       "<table border=\"1\" class=\"dataframe\">\n",
       "  <thead>\n",
       "    <tr style=\"text-align: right;\">\n",
       "      <th></th>\n",
       "      <th>Dream Symbol</th>\n",
       "      <th>Interpretation</th>\n",
       "    </tr>\n",
       "  </thead>\n",
       "  <tbody>\n",
       "    <tr>\n",
       "      <th>0</th>\n",
       "      <td>Aardvark</td>\n",
       "      <td>To see an aardvark in your dream indicates tha...</td>\n",
       "    </tr>\n",
       "    <tr>\n",
       "      <th>1</th>\n",
       "      <td>Abandonment</td>\n",
       "      <td>To dream that you are abandoned suggests that ...</td>\n",
       "    </tr>\n",
       "    <tr>\n",
       "      <th>2</th>\n",
       "      <td>Abduction</td>\n",
       "      <td>To dream of being abducted indicates that you ...</td>\n",
       "    </tr>\n",
       "    <tr>\n",
       "      <th>3</th>\n",
       "      <td>Aborigine</td>\n",
       "      <td>To see an Aborigine in your dream represents b...</td>\n",
       "    </tr>\n",
       "    <tr>\n",
       "      <th>4</th>\n",
       "      <td>Abortion</td>\n",
       "      <td>To dream that you have an abortion suggests th...</td>\n",
       "    </tr>\n",
       "  </tbody>\n",
       "</table>\n",
       "</div>"
      ],
      "text/plain": [
       "  Dream Symbol                                     Interpretation\n",
       "0     Aardvark  To see an aardvark in your dream indicates tha...\n",
       "1  Abandonment  To dream that you are abandoned suggests that ...\n",
       "2    Abduction  To dream of being abducted indicates that you ...\n",
       "3    Aborigine  To see an Aborigine in your dream represents b...\n",
       "4     Abortion  To dream that you have an abortion suggests th..."
      ]
     },
     "execution_count": 6,
     "metadata": {},
     "output_type": "execute_result"
    }
   ],
   "source": [
    "# Clean up the \"Interpretation\" column by removing newline characters and extra spaces\n",
    "df['Interpretation'] = df['Interpretation'].replace(r'\\n', ' ', regex=True).str.strip()\n",
    "\n",
    "# Display the first few cleaned rows to verify the changes\n",
    "df.head()"
   ]
  },
  {
   "cell_type": "code",
   "execution_count": 7,
   "id": "6d03ef39",
   "metadata": {
    "execution": {
     "iopub.execute_input": "2024-10-15T18:21:01.674662Z",
     "iopub.status.busy": "2024-10-15T18:21:01.673815Z",
     "iopub.status.idle": "2024-10-15T18:21:01.696705Z",
     "shell.execute_reply": "2024-10-15T18:21:01.695448Z"
    },
    "papermill": {
     "duration": 0.030347,
     "end_time": "2024-10-15T18:21:01.699363",
     "exception": false,
     "start_time": "2024-10-15T18:21:01.669016",
     "status": "completed"
    },
    "tags": []
   },
   "outputs": [],
   "source": [
    "df.to_csv(\"dreams_interpretations.csv\", index=False)"
   ]
  },
  {
   "cell_type": "code",
   "execution_count": 8,
   "id": "18dfaa22",
   "metadata": {
    "execution": {
     "iopub.execute_input": "2024-10-15T18:21:01.708865Z",
     "iopub.status.busy": "2024-10-15T18:21:01.707831Z",
     "iopub.status.idle": "2024-10-15T18:21:01.714992Z",
     "shell.execute_reply": "2024-10-15T18:21:01.713800Z"
    },
    "papermill": {
     "duration": 0.014252,
     "end_time": "2024-10-15T18:21:01.717376",
     "exception": false,
     "start_time": "2024-10-15T18:21:01.703124",
     "status": "completed"
    },
    "tags": []
   },
   "outputs": [],
   "source": [
    "import os\n",
    "import subprocess\n",
    "from IPython.display import FileLink, display\n",
    "\n",
    "def download_file(path, download_file_name):\n",
    "    os.chdir('/kaggle/working/')\n",
    "    zip_name = f\"/kaggle/working/{download_file_name}.zip\"\n",
    "    command = f\"zip {zip_name} {path} -r\"\n",
    "    result = subprocess.run(command, shell=True, capture_output=True, text=True)\n",
    "    if result.returncode != 0:\n",
    "        print(\"Unable to run zip command!\")\n",
    "        print(result.stderr)\n",
    "        return\n",
    "    display(FileLink(f'{download_file_name}.zip'))"
   ]
  },
  {
   "cell_type": "code",
   "execution_count": 9,
   "id": "0bc65b6e",
   "metadata": {
    "execution": {
     "iopub.execute_input": "2024-10-15T18:21:01.726604Z",
     "iopub.status.busy": "2024-10-15T18:21:01.725718Z",
     "iopub.status.idle": "2024-10-15T18:21:01.768625Z",
     "shell.execute_reply": "2024-10-15T18:21:01.767508Z"
    },
    "papermill": {
     "duration": 0.050006,
     "end_time": "2024-10-15T18:21:01.770951",
     "exception": false,
     "start_time": "2024-10-15T18:21:01.720945",
     "status": "completed"
    },
    "tags": []
   },
   "outputs": [
    {
     "data": {
      "text/html": [
       "<a href='download.zip' target='_blank'>download.zip</a><br>"
      ],
      "text/plain": [
       "/kaggle/working/download.zip"
      ]
     },
     "metadata": {},
     "output_type": "display_data"
    }
   ],
   "source": [
    "download_file(\"/kaggle/working/dreams_interpretations.csv\", \"download\")"
   ]
  }
 ],
 "metadata": {
  "kaggle": {
   "accelerator": "none",
   "dataSources": [
    {
     "datasetId": 5881987,
     "sourceId": 9634093,
     "sourceType": "datasetVersion"
    }
   ],
   "isGpuEnabled": false,
   "isInternetEnabled": true,
   "language": "python",
   "sourceType": "notebook"
  },
  "kernelspec": {
   "display_name": "NLP",
   "language": "python",
   "name": "python3"
  },
  "language_info": {
   "codemirror_mode": {
    "name": "ipython",
    "version": 3
   },
   "file_extension": ".py",
   "mimetype": "text/x-python",
   "name": "python",
   "nbconvert_exporter": "python",
   "pygments_lexer": "ipython3",
   "version": "3.11.10"
  },
  "papermill": {
   "default_parameters": {},
   "duration": 19.516826,
   "end_time": "2024-10-15T18:21:02.294568",
   "environment_variables": {},
   "exception": null,
   "input_path": "__notebook__.ipynb",
   "output_path": "__notebook__.ipynb",
   "parameters": {},
   "start_time": "2024-10-15T18:20:42.777742",
   "version": "2.6.0"
  }
 },
 "nbformat": 4,
 "nbformat_minor": 5
}
