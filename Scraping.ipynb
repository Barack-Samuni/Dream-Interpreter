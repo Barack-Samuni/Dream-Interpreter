{
 "cells": [
  {
   "cell_type": "code",
   "execution_count": 70,
   "id": "2be00f55",
   "metadata": {
    "_cell_guid": "b1076dfc-b9ad-4769-8c92-a6c4dae69d19",
    "_uuid": "8f2839f25d086af736a60e9eeb907d3b93b6e0e5",
    "execution": {
     "iopub.execute_input": "2024-10-15T18:20:45.517505Z",
     "iopub.status.busy": "2024-10-15T18:20:45.516962Z",
     "iopub.status.idle": "2024-10-15T18:20:46.644596Z",
     "shell.execute_reply": "2024-10-15T18:20:46.643575Z"
    },
    "papermill": {
     "duration": 1.135541,
     "end_time": "2024-10-15T18:20:46.647262",
     "exception": false,
     "start_time": "2024-10-15T18:20:45.511721",
     "status": "completed"
    },
    "tags": []
   },
   "outputs": [],
   "source": [
    "import requests\n",
    "from bs4 import BeautifulSoup\n",
    "import pandas as pd\n",
    "import string\n",
    "import lxml\n",
    "import time\n",
    "import os\n",
    "# Base URL pattern for dream moods dictionary\n",
    "\n",
    "\n",
    "# List to store dream symbols and meanings\n",
    "dreams = []\n",
    "meanings = []"
   ]
  },
  {
   "cell_type": "code",
   "execution_count": null,
   "id": "0ae23259",
   "metadata": {},
   "outputs": [
    {
     "name": "stdout",
     "output_type": "stream",
     "text": [
      "File html/a_all.html already exists, skipping download.\n",
      "File html/b_all.html already exists, skipping download.\n",
      "File html/c_all.html already exists, skipping download.\n",
      "File html/d_all.html already exists, skipping download.\n",
      "File html/e_all.html already exists, skipping download.\n",
      "File html/f_all.html already exists, skipping download.\n",
      "File html/g_all.html already exists, skipping download.\n",
      "File html/h_all.html already exists, skipping download.\n",
      "File html/i_all.html already exists, skipping download.\n",
      "File html/j_all.html already exists, skipping download.\n",
      "File html/k_all.html already exists, skipping download.\n",
      "File html/l_all.html already exists, skipping download.\n",
      "File html/m_all.html already exists, skipping download.\n",
      "File html/n_all.html already exists, skipping download.\n",
      "File html/o_all.html already exists, skipping download.\n",
      "File html/p_all.html already exists, skipping download.\n",
      "File html/q_all.html already exists, skipping download.\n",
      "File html/r_all.html already exists, skipping download.\n",
      "File html/s_all.html already exists, skipping download.\n",
      "File html/t_all.html already exists, skipping download.\n",
      "File html/u_all.html already exists, skipping download.\n",
      "File html/v_all.html already exists, skipping download.\n",
      "File html/w_all.html already exists, skipping download.\n",
      "File html/x_all.html already exists, skipping download.\n",
      "File html/y_all.html already exists, skipping download.\n",
      "File html/z_all.html already exists, skipping download.\n"
     ]
    }
   ],
   "source": [
    "\n",
    "\n",
    "def download_letter(letter, suffix=\"{}_all.htm\"):    \n",
    "    base_url = \"http://www.dreammoods.com/dreamdictionary/\"\n",
    "\n",
    "    file = f\"html/{letter}_all.html\"\n",
    "    if os.path.exists(file):\n",
    "        print (f\"File {file} already exists, skipping download.\")\n",
    "        return\n",
    "    \n",
    "    url = base_url + suffix.format(letter)\n",
    "   \n",
    "    response = requests.get(url)\n",
    "\n",
    "\n",
    "    if response.status_code == 200:  # Check if the page was successfully fetched\n",
    "        with open(file, \"w\") as f:\n",
    "            f.write(response.text)\n",
    "        print(f\"Downloaded {letter} to {file}\")\n",
    "\n",
    "    else:\n",
    "        print(f\"Failed to retrieve {letter}, trying alternative\")\n",
    "        return download_letter(letter, suffix=\"{}.htm\")\n",
    "\n",
    "\n",
    "for letter in string.ascii_lowercase:\n",
    "    download_letter(letter)\n",
    "    time.sleep(.5)  # Sleep for 1 second to avoid overwhelming the server"
   ]
  },
  {
   "cell_type": "code",
   "execution_count": 72,
   "id": "c1d9a767",
   "metadata": {},
   "outputs": [],
   "source": [
    "\n",
    "import lxml.html as lhtml\n",
    "\n",
    "import pandas as pd\n",
    "import re\n",
    "\n",
    "from plotly import express as px"
   ]
  },
  {
   "cell_type": "code",
   "execution_count": null,
   "id": "3aecd356",
   "metadata": {},
   "outputs": [],
   "source": []
  },
  {
   "cell_type": "code",
   "execution_count": 73,
   "id": "53577f85",
   "metadata": {},
   "outputs": [],
   "source": [
    "def break_attr(dic):\n",
    "    drop = ['style','align','face']\n",
    "    for dr in drop:\n",
    "        if dr in dic:\n",
    "            dic.pop(dr)\n",
    "    return str(dic)\n",
    "\n",
    "def classify(t):\n",
    "    if t.tag == \"b\":\n",
    "        return \"sym\" #\"bold\"\n",
    "    \n",
    "    if t.tag == \"strong\":\n",
    "        return \"sym\" #\"bold\"    \n",
    "\n",
    "    elif t.tag == \"font\":\n",
    "        if \"cheating on your spouse mate\" in str(t.text):\n",
    "            print(\"found cheating\")\n",
    "        if 'size' in t.attrib:\n",
    "            sz = t.attrib['size']\n",
    "            if sz == \"4\":\n",
    "                return \"sym\" #\"size4\"\n",
    "            elif sz == \"3\":\n",
    "                return \"mean\" #\"size3\"\n",
    "        else:\n",
    "            return \"mean\" # no size defined\n",
    "            \n",
    "    elif t.tag == \"a\":\n",
    "        if 'href' in t.attrib:\n",
    "            return \"link\"\n",
    "        elif 'name' in t.attrib:\n",
    "            return \"sym\" #\"header\"\n",
    "    return \"mean\" # \"desc\"\n",
    "\n",
    "def collect(txt):\n",
    "    if txt == None:\n",
    "        return \"\"\n",
    "    else:\n",
    "        txt = txt.replace(\"\\n\",\" \")\n",
    "        txt = txt.replace(\"\\xa0\",\" \")\n",
    "        txt = re.sub(r'\\s+', ' ', txt)\n",
    "        return txt\n",
    "\n",
    "syms_data = []\n",
    "\n",
    "def breakdown(r, level=0):\n",
    "    res =\"\"\n",
    "    clas = \"\"\n",
    "    cont = \"\"\n",
    "    for c in r.getchildren():\n",
    "\n",
    "        res +=  \"tag:\" + str(c.tag) + \"|attr:\" + break_attr(c.attrib) + \" |text:\" + str(c.text).replace(\"\\n\",\"_\") + \"\\n\"\n",
    "        mres, clas, cont = breakdown(c,level+1)\n",
    "        res += \"    \"*level + mres + \"\\n\"\n",
    "        \n",
    "        clas += classify(c) + \",\"\n",
    "        cont = collect(c.text) + cont\n",
    "        if level == 0:\n",
    "            #res += \"class:\" + clas + \"\\n\"\n",
    "            clas = \"sym\" if \"sym\" in clas else \"mean\"\n",
    "            \n",
    "            res += \"class:\" + clas + \"\\n\"\n",
    "            res += \"cont:\" + cont + \"\\n\"\n",
    "            global syms_data\n",
    "            syms_data.append({\"clas\": clas, \"cont\": cont})\n",
    "            res+= \"======================\\n\"\n",
    "\n",
    "    return res, clas, cont \n",
    "\n"
   ]
  },
  {
   "cell_type": "code",
   "execution_count": 80,
   "id": "6e5c9b44",
   "metadata": {},
   "outputs": [],
   "source": [
    "with open(\"html/a_all.html\", \"r\") as f:\n",
    "    html = f.read()"
   ]
  },
  {
   "cell_type": "code",
   "execution_count": 81,
   "id": "95e7d1c6",
   "metadata": {},
   "outputs": [],
   "source": [
    "\n",
    "        \n",
    "xp = \"/html/body/table[2]/tr/td/div/center/table/tr[4]/td[1]\"\n",
    "\n",
    "tree = lhtml.fromstring(html)\n",
    "\n",
    "#tree.text_content()\n",
    "\n",
    "tabl = tree.xpath(xp)[0]"
   ]
  },
  {
   "cell_type": "code",
   "execution_count": 82,
   "id": "37e343ca",
   "metadata": {},
   "outputs": [],
   "source": [
    "r,c,t = breakdown(tabl)\n",
    "with open(\"sandbox.txt\", \"w\") as f:\n",
    "    f.write(r)\n"
   ]
  },
  {
   "cell_type": "code",
   "execution_count": 83,
   "id": "d2e06d53",
   "metadata": {},
   "outputs": [
    {
     "data": {
      "application/vnd.microsoft.datawrangler.viewer.v0+json": {
       "columns": [
        {
         "name": "index",
         "rawType": "int64",
         "type": "integer"
        },
        {
         "name": "clas",
         "rawType": "object",
         "type": "string"
        },
        {
         "name": "cont",
         "rawType": "object",
         "type": "string"
        }
       ],
       "conversionMethod": "pd.DataFrame",
       "ref": "ab45693a-0273-4dfd-97f1-3f4741930347",
       "rows": [
        [
         "0",
         "sym",
         "   "
        ],
        [
         "1",
         "sym",
         "  A"
        ],
        [
         "2",
         "mean",
         "TOP"
        ],
        [
         "3",
         "sym",
         ""
        ],
        [
         "4",
         "sym",
         "   Aardvark"
        ],
        [
         "5",
         "mean",
         "TOP"
        ],
        [
         "6",
         "sym",
         "Abacus"
        ],
        [
         "7",
         "mean",
         "TOP"
        ],
        [
         "8",
         "sym",
         "Abalone"
        ],
        [
         "9",
         "mean",
         "To see or eat abalone in your dream indicates a transitional period in your life. The symbol may also be a play on words to indicate feelings of \"loneliness\". TOP"
        ],
        [
         "10",
         "sym",
         "Abandonment"
        ],
        [
         "11",
         "mean",
         "To dream that you are abandoned suggests that it is time to leave behind past feelings and characteristics that are hindering your growth. Let go of your old attitudes. A more direct and literal interpretation of this dream indicates you have a fear of being deserted, abandoned, or even betrayed. It may stem from a recent loss or a fear of losing a loved one. The fear of abandonment may manifest itself into your dream as part of the healing process and dealing with losing a loved one. It may also stem from unresolved feelings or problems from childhood. Alternatively, the dream indicates that you are feeling neglected or that your feelings are being overlooked. Perhaps the dream is a metaphor that you need to approach life with \"reckless abandon\" and live more freely. "
        ],
        [
         "12",
         "mean",
         "TOP"
        ],
        [
         "13",
         "sym",
         "Abbey"
        ],
        [
         "14",
         "mean",
         "an abbey in your dream signifies spirituality, peace of mind and freedom from anxiety. You are in a state of contentment and satisfaction. Help for you is always around the corner. "
        ],
        [
         "15",
         "mean",
         "TOP"
        ],
        [
         "16",
         "sym",
         "Abbot"
        ],
        [
         "17",
         "mean",
         "To see an abbot in your dream suggests that someone has power over you and are making you do things that you do not necessarily want to do. You are feeling confined or restricted. The dream indicates that you will experience many obstacles and setback before achieving success and prestige. TOP"
        ],
        [
         "18",
         "sym",
         "Abbreviations"
        ],
        [
         "19",
         "mean",
         "TOP"
        ],
        [
         "20",
         "sym",
         "Abdomen"
        ],
        [
         "21",
         "mean",
         "To see your abdomen in a dream refers to your natural instincts and repressed emotions. There is something in your real life that you \"cannot stomach\" or have difficulties accepting. You need to get it out of your system. Alternatively, the dream symbol may be strictly physiological and you may just be experiencing constipation or indigestion. "
        ],
        [
         "22",
         "mean",
         "To dream that your abdomen is exposed represents issues you have with trust and feelings of vulnerability. You are expressing your primal emotions and instincts."
        ],
        [
         "23",
         "mean",
         "TOP"
        ],
        [
         "24",
         "sym",
         " "
        ],
        [
         "25",
         "sym",
         "Abduction"
        ],
        [
         "26",
         "mean",
         "To dream of being abducted indicates that you are being manipulated by your circumstances or by someone. You lack control of your own life."
        ],
        [
         "27",
         "mean",
         "To witness an abduction in your dream signifies feelings of helplessness. "
        ],
        [
         "28",
         "mean",
         "TOP"
        ],
        [
         "29",
         "sym",
         " "
        ],
        [
         "30",
         "sym",
         "Abhorrence"
        ],
        [
         "31",
         "mean",
         "To dream that you abhor a person represents your waking dislike for that person. You are harboring feelings of resentment or aggression and feel that this person has acted in a less than honorable way."
        ],
        [
         "32",
         "mean",
         "To dream that you are abhorred by others suggests that you may be forcing your views and opinions on others. You are rubbing others the wrong way. TOP"
        ],
        [
         "33",
         "sym",
         "Abnormal"
        ],
        [
         "34",
         "mean",
         "TOP"
        ],
        [
         "35",
         "sym",
         "Abode"
        ],
        [
         "36",
         "mean",
         "*Please See Home."
        ],
        [
         "37",
         "sym",
         "Abominable Snowman"
        ],
        [
         "38",
         "mean",
         "*Please See Yeti."
        ],
        [
         "39",
         "sym",
         "Aborigine"
        ],
        [
         "40",
         "mean",
         "To see an Aborigine in your dream represents both your untamed, natural self and your pure, innocent side. You need to be more in touch with your intuition and inner forces. It also suggests that you are being overindulgent or overly emotional. You may be harming yourself and jeopardizing your well-being due to your unrestraint. TOP"
        ],
        [
         "41",
         "sym",
         "Abortion"
        ],
        [
         "42",
         "mean",
         "To dream that you have an abortion suggests that you are hindering and blocking your own growth. You may be hesitant in pursuing a new direction in your life due to fear, pressure, personal conflict or moral obligation. The dream may also be a reflection of your own real-life abortion and thus serves as a way of healing from the trauma and working towards self-acceptance. Alternatively, this dream may also be a message for you to take care and look after your health."
        ],
        [
         "43",
         "mean",
         "To dream that someone has an abortion refers to an aspect of your relationship with this person is not growing or maturing. If you do not know this person, then the dream may be about your own personal views on abortion."
        ],
        [
         "44",
         "mean",
         "TOP"
        ],
        [
         "45",
         "mean",
         "**See The Meaning In Action: \"Boiling A Rabbit\""
        ],
        [
         "46",
         "sym",
         "Above"
        ],
        [
         "47",
         "mean",
         "To see something above you in your dream suggests that you need to set your goals higher. Aim high! Alternatively, the dream indicates that you are feeling inferior or inadequate. TOP"
        ],
        [
         "48",
         "sym",
         "Abraham Lincoln"
        ],
        [
         "49",
         "mean",
         "To see Abraham Lincoln in your dream refers to your solid character and leadership ability. Known as \"Honest Abe\", the dream may also be telling you to be truthful or to come clean about something. TOP"
        ]
       ],
       "shape": {
        "columns": 2,
        "rows": 896
       }
      },
      "text/html": [
       "<div>\n",
       "<style scoped>\n",
       "    .dataframe tbody tr th:only-of-type {\n",
       "        vertical-align: middle;\n",
       "    }\n",
       "\n",
       "    .dataframe tbody tr th {\n",
       "        vertical-align: top;\n",
       "    }\n",
       "\n",
       "    .dataframe thead th {\n",
       "        text-align: right;\n",
       "    }\n",
       "</style>\n",
       "<table border=\"1\" class=\"dataframe\">\n",
       "  <thead>\n",
       "    <tr style=\"text-align: right;\">\n",
       "      <th></th>\n",
       "      <th>clas</th>\n",
       "      <th>cont</th>\n",
       "    </tr>\n",
       "  </thead>\n",
       "  <tbody>\n",
       "    <tr>\n",
       "      <th>0</th>\n",
       "      <td>sym</td>\n",
       "      <td></td>\n",
       "    </tr>\n",
       "    <tr>\n",
       "      <th>1</th>\n",
       "      <td>sym</td>\n",
       "      <td>A</td>\n",
       "    </tr>\n",
       "    <tr>\n",
       "      <th>2</th>\n",
       "      <td>mean</td>\n",
       "      <td>TOP</td>\n",
       "    </tr>\n",
       "    <tr>\n",
       "      <th>3</th>\n",
       "      <td>sym</td>\n",
       "      <td></td>\n",
       "    </tr>\n",
       "    <tr>\n",
       "      <th>4</th>\n",
       "      <td>sym</td>\n",
       "      <td>Aardvark</td>\n",
       "    </tr>\n",
       "    <tr>\n",
       "      <th>...</th>\n",
       "      <td>...</td>\n",
       "      <td>...</td>\n",
       "    </tr>\n",
       "    <tr>\n",
       "      <th>891</th>\n",
       "      <td>sym</td>\n",
       "      <td>Axle</td>\n",
       "    </tr>\n",
       "    <tr>\n",
       "      <th>892</th>\n",
       "      <td>mean</td>\n",
       "      <td>To see an axle in your dream suggests that you...</td>\n",
       "    </tr>\n",
       "    <tr>\n",
       "      <th>893</th>\n",
       "      <td>mean</td>\n",
       "      <td>To dream that you have a broken axle indicates...</td>\n",
       "    </tr>\n",
       "    <tr>\n",
       "      <th>894</th>\n",
       "      <td>mean</td>\n",
       "      <td></td>\n",
       "    </tr>\n",
       "    <tr>\n",
       "      <th>895</th>\n",
       "      <td>mean</td>\n",
       "      <td></td>\n",
       "    </tr>\n",
       "  </tbody>\n",
       "</table>\n",
       "<p>896 rows × 2 columns</p>\n",
       "</div>"
      ],
      "text/plain": [
       "     clas                                               cont\n",
       "0     sym                                                   \n",
       "1     sym                                                  A\n",
       "2    mean                                                TOP\n",
       "3     sym                                                   \n",
       "4     sym                                           Aardvark\n",
       "..    ...                                                ...\n",
       "891   sym                                               Axle\n",
       "892  mean  To see an axle in your dream suggests that you...\n",
       "893  mean  To dream that you have a broken axle indicates...\n",
       "894  mean                                                   \n",
       "895  mean                                                   \n",
       "\n",
       "[896 rows x 2 columns]"
      ]
     },
     "execution_count": 83,
     "metadata": {},
     "output_type": "execute_result"
    }
   ],
   "source": [
    "syms_data = pd.DataFrame(syms_data)\n",
    "syms_data "
   ]
  },
  {
   "cell_type": "code",
   "execution_count": 84,
   "id": "c4602e4b",
   "metadata": {},
   "outputs": [],
   "source": [
    "def squeeze_meaning_by_symbol(syms_data):\n",
    "    data2 =[]\n",
    "    sym = \"\"\n",
    "    meanings = []\n",
    "\n",
    "    for i, r in syms_data.iterrows():\n",
    "        if r['clas'] == \"sym\":\n",
    "            \n",
    "            data2.append({\"symbol\": sym, \"meaning\": meanings})\n",
    "            meanings = []\n",
    "            sym = r['cont']\n",
    "        else:\n",
    "            meanings.append(r['cont'])\n",
    "        \n",
    "\n",
    "    data2 = pd.DataFrame(data2)\n",
    "    data2['n_meanings'] = data2.meaning.apply(len)\n",
    "    return data2\n",
    "\n",
    "data2 = squeeze_meaning_by_symbol(syms_data)    "
   ]
  },
  {
   "cell_type": "code",
   "execution_count": 85,
   "id": "4e203b73",
   "metadata": {},
   "outputs": [
    {
     "data": {
      "application/vnd.microsoft.datawrangler.viewer.v0+json": {
       "columns": [
        {
         "name": "index",
         "rawType": "int64",
         "type": "integer"
        },
        {
         "name": "symbol",
         "rawType": "object",
         "type": "string"
        },
        {
         "name": "meaning",
         "rawType": "object",
         "type": "unknown"
        },
        {
         "name": "n_meanings",
         "rawType": "int64",
         "type": "integer"
        }
       ],
       "conversionMethod": "pd.DataFrame",
       "ref": "e63665f6-5b56-417e-ab26-c3d1e259d943",
       "rows": [
        [
         "0",
         "",
         "[]",
         "0"
        ],
        [
         "1",
         "   ",
         "[]",
         "0"
        ],
        [
         "2",
         "  A",
         "['TOP']",
         "1"
        ],
        [
         "3",
         "",
         "[]",
         "0"
        ],
        [
         "4",
         "   Aardvark",
         "['TOP']",
         "1"
        ],
        [
         "5",
         "Abacus",
         "['TOP']",
         "1"
        ],
        [
         "6",
         "Abalone",
         "['To see or eat abalone in your dream indicates a transitional period in your life. The symbol may also be a play on words to indicate feelings of \"loneliness\". TOP']",
         "1"
        ],
        [
         "7",
         "Abandonment",
         "['To dream that you are abandoned suggests that it is time to leave behind past feelings and characteristics that are hindering your growth. Let go of your old attitudes. A more direct and literal interpretation of this dream indicates you have a fear of being deserted, abandoned, or even betrayed. It may stem from a recent loss or a fear of losing a loved one. The fear of abandonment may manifest itself into your dream as part of the healing process and dealing with losing a loved one. It may also stem from unresolved feelings or problems from childhood. Alternatively, the dream indicates that you are feeling neglected or that your feelings are being overlooked. Perhaps the dream is a metaphor that you need to approach life with \"reckless abandon\" and live more freely. ', 'TOP']",
         "2"
        ],
        [
         "8",
         "Abbey",
         "['an abbey in your dream signifies spirituality, peace of mind and freedom from anxiety. You are in a state of contentment and satisfaction. Help for you is always around the corner. ', 'TOP']",
         "2"
        ],
        [
         "9",
         "Abbot",
         "['To see an abbot in your dream suggests that someone has power over you and are making you do things that you do not necessarily want to do. You are feeling confined or restricted. The dream indicates that you will experience many obstacles and setback before achieving success and prestige. TOP']",
         "1"
        ],
        [
         "10",
         "Abbreviations",
         "['TOP']",
         "1"
        ],
        [
         "11",
         "Abdomen",
         "['To see your abdomen in a dream refers to your natural instincts and repressed emotions. There is something in your real life that you \"cannot stomach\" or have difficulties accepting. You need to get it out of your system. Alternatively, the dream symbol may be strictly physiological and you may just be experiencing constipation or indigestion. ', 'To dream that your abdomen is exposed represents issues you have with trust and feelings of vulnerability. You are expressing your primal emotions and instincts.', 'TOP']",
         "3"
        ],
        [
         "12",
         " ",
         "[]",
         "0"
        ],
        [
         "13",
         "Abduction",
         "['To dream of being abducted indicates that you are being manipulated by your circumstances or by someone. You lack control of your own life.', 'To witness an abduction in your dream signifies feelings of helplessness. ', 'TOP']",
         "3"
        ],
        [
         "14",
         " ",
         "[]",
         "0"
        ],
        [
         "15",
         "Abhorrence",
         "['To dream that you abhor a person represents your waking dislike for that person. You are harboring feelings of resentment or aggression and feel that this person has acted in a less than honorable way.', 'To dream that you are abhorred by others suggests that you may be forcing your views and opinions on others. You are rubbing others the wrong way. TOP']",
         "2"
        ],
        [
         "16",
         "Abnormal",
         "['TOP']",
         "1"
        ],
        [
         "17",
         "Abode",
         "['*Please See Home.']",
         "1"
        ],
        [
         "18",
         "Abominable Snowman",
         "['*Please See Yeti.']",
         "1"
        ],
        [
         "19",
         "Aborigine",
         "['To see an Aborigine in your dream represents both your untamed, natural self and your pure, innocent side. You need to be more in touch with your intuition and inner forces. It also suggests that you are being overindulgent or overly emotional. You may be harming yourself and jeopardizing your well-being due to your unrestraint. TOP']",
         "1"
        ],
        [
         "20",
         "Abortion",
         "['To dream that you have an abortion suggests that you are hindering and blocking your own growth. You may be hesitant in pursuing a new direction in your life due to fear, pressure, personal conflict or moral obligation. The dream may also be a reflection of your own real-life abortion and thus serves as a way of healing from the trauma and working towards self-acceptance. Alternatively, this dream may also be a message for you to take care and look after your health.', 'To dream that someone has an abortion refers to an aspect of your relationship with this person is not growing or maturing. If you do not know this person, then the dream may be about your own personal views on abortion.', 'TOP', '**See The Meaning In Action: \"Boiling A Rabbit\"']",
         "4"
        ],
        [
         "21",
         "Above",
         "['To see something above you in your dream suggests that you need to set your goals higher. Aim high! Alternatively, the dream indicates that you are feeling inferior or inadequate. TOP']",
         "1"
        ],
        [
         "22",
         "Abraham Lincoln",
         "['To see Abraham Lincoln in your dream refers to your solid character and leadership ability. Known as \"Honest Abe\", the dream may also be telling you to be truthful or to come clean about something. TOP']",
         "1"
        ],
        [
         "23",
         "Abroad",
         "['To dream of being or going abroad indicates unbalance and chaos in your current situation and condition. Consequently, your dream may represent your need for a change in scenery or a desire to escape from a current situation. You need to make some drastic changes in your life. Alternatively, the dream may suggest that you need to expand your horizons or experience a new sense of spirituality. TOP']",
         "1"
        ],
        [
         "24",
         "Absence",
         "['To dream that someone is absent, especially if you expect to find them, suggests that you are looking for something that is already lost to you. Alternatively, you may be looking to fill a void in your life. Something is missing from your life. TOP']",
         "1"
        ],
        [
         "25",
         "Abscess",
         "['To dream that you have an abscess suggests that there is something that you need to express and get out into the open. TOP', '*Please see Sores']",
         "2"
        ],
        [
         "26",
         " ",
         "[]",
         "0"
        ],
        [
         "27",
         "Abscond",
         "['To dream that you have absconded with something indicates your failed accomplishments. You may also be feeling insecure about your achievements. You feel that you are never good enough. Consider the significance or value of what you have absconded. TOP']",
         "1"
        ],
        [
         "28",
         "Absorb",
         "['To be absorbed in whatever you are doing suggests that you may be too focused on your own thing and risk alienating others around you. The dream may also be a metaphor that you need to integrate and adapt to your various surroundings. TOP']",
         "1"
        ],
        [
         "29",
         "Abstinence",
         "['To dream that you practice abstinence from drinking, sex or any other sort of sensual temptation is a warning against being over confidant. You need to take things more slowly. TOP']",
         "1"
        ],
        [
         "30",
         "Abundance",
         "['TOP']",
         "1"
        ],
        [
         "31",
         "Abuse",
         "['To dream you are abusing someone suggests that your past actions will come back to haunt you. You may be expressing some regret or remorse over your actions.', 'To dream you are being verbally or physically abused suggests that you are feeling victimized in a waking situation. You are being taking advantage of.  ', 'TOP']",
         "3"
        ],
        [
         "32",
         " ",
         "[]",
         "0"
        ],
        [
         "33",
         "Abyss",
         "['To dream of an abyss signifies an obstacle that is creating much anxiety for you. You need to work through the difficulty and overcome this obstacle in your life. Perhaps you are afraid of \"taking the plunge\".', 'To dream that you are falling into an abyss symbolizes the depths of your subconscious. You are afraid and/or uncertain as to what you will discover about yourself and about your hidden feelings and fears. The abyss may also represent your primal fears and feelings of \"falling into a pit of despair\". Perhaps you are in a state of depression or wallowing in your negative feelings. Alternatively, the dream could denote your lack of spirituality. TOP']",
         "2"
        ],
        [
         "34",
         " Acacia",
         "['To see an acacia tree in your dream symbolizes your attitudes with death and your sense of mortality. TOP']",
         "1"
        ],
        [
         "35",
         "Academy",
         "['To dream of an academy signifies new friendships and opportunities. TOP']",
         "1"
        ],
        [
         "36",
         "Academy Awards",
         "['To dream that you at the Academy Awards indicates that you need to add some glamour into your life. If you win an Oscar, then it implies that you are looking for some sort of acknowledgment in your waking life. TOP']",
         "1"
        ],
        [
         "37",
         "Accelerator",
         "['To see an accelerator in your dream indicates that you will achieve your goals through your own efforts. The dream may also be telling you to slow down.', 'To dream that the accelerator is jammed or broken indicates a loss of control in some aspect of your life. You maybe trying to rush through things. TOP']",
         "2"
        ],
        [
         "38",
         "Accent",
         "['To speak with an accent in your dream suggests that you are having difficulties conveying your thoughts. Consider how you feel about the accent. If you feel the accent makes you stand out in a negative way, then it signifies feelings of insecurities. If the accent makes you stand out in a positive way, then it symbolizes an air of confidence. ', 'To hear someone speaking with an accent in your dream represents something familiar yet different. You are getting the gist of a message, but you still do not completely understand all of it. TOP']",
         "2"
        ],
        [
         "39",
         "Acceptance",
         "['To dream about acceptance indicates issues of self-esteem and measuring up to the expectations of others. There is a waking situation where you are seeking acceptance and wanting to be a part of. TOP']",
         "1"
        ],
        [
         "40",
         "Accessory",
         "['To dream of accessorizing yourself suggests that you are feeling incomplete. Something is missing in your life. TOP']",
         "1"
        ],
        [
         "41",
         "Accident",
         "['Perhaps you are not proud of something you have done. Alternatively, the accident may symbolize an error or mistake you have made. Accident dreams also represent your fears of being in an actual, physical accident. You may simply be nervous about getting behind the wheel. Or the dream is trying to warn you of some accident.', 'To dream of a car accident symbolizes your emotional state. You may be harboring deep anxieties and fears. Are you \"driving\" yourself too hard? Perhaps you need to slow down before you hit disaster. You need to rethink or re-plan your course of actions and set yourself on a better path. Dreaming that someone is injured in a car accident means that you cannot control the action of others. They have to live with the consequences of their own decisions.', 'TOP']",
         "3"
        ],
        [
         "42",
         "Accomplice",
         "['To dream that you are an accomplice to a crime suggests that someone in your waking life is having a negative influence on you. You may be experiencing feelings of guilt with something that you have done. ', 'To dream that you have an accomplice implies that others are enabling your negative habits or behavior. TOP']",
         "2"
        ],
        [
         "43",
         "Accordion",
         "['To hear the music of an accordion signifies some saddening and depressing matter. You need to focus on more joyous moments.', 'To dream that you play the accordion denotes intense emotions that are causing physical strain to your body. You are feeling weary. Alternatively, the dream suggests that you need to work hard to achieve your goals. TOP']",
         "2"
        ],
        [
         "44",
         "Accountant",
         "['To see or dream that you are an accountant represents your objectivity toward some situation. You are taking a step back and looking carefully at the facts. TOP']",
         "1"
        ],
        [
         "45",
         "Accounts",
         "['To dream about your bank accounts indicates financial worries. TOP']",
         "1"
        ],
        [
         "46",
         "Accuse",
         "['To dream that you are being accused of something indicates overwhelming feelings of guilt. It may also mean that you are having some doubts about yourself and the choices you are making.', 'To dream that you accuse others signifies disagreements and dissension with those around you.TOP']",
         "2"
        ],
        [
         "47",
         "Ace",
         "['To see the ace in the deck of cards suggests ambiguity in your life. You need some clarity. In particular, the ace of hearts means that you are involved in some love affair. If you see the ace of spades in your dream, then it means that you are involved in a scandal. If you see the ace of diamonds, then it symbolizes your legacy or reputation. And if you see the ace of clubs, then it indicates that you will be involved in some legal matter.', 'TOP']",
         "2"
        ],
        [
         "48",
         "Aches",
         "['To dream that you have aches indicate some hesitation and reluctance in the pursuit of your goals. If you wait too long, then the opportunity may escape. TOP']",
         "1"
        ],
        [
         "49",
         "Achievement",
         "['To dream of an achievement denotes that you will be greatly satisfied with the outcome of a situation or project. The bigger the achievement, the greater the satisfaction. TOP']",
         "1"
        ]
       ],
       "shape": {
        "columns": 3,
        "rows": 357
       }
      },
      "text/html": [
       "<div>\n",
       "<style scoped>\n",
       "    .dataframe tbody tr th:only-of-type {\n",
       "        vertical-align: middle;\n",
       "    }\n",
       "\n",
       "    .dataframe tbody tr th {\n",
       "        vertical-align: top;\n",
       "    }\n",
       "\n",
       "    .dataframe thead th {\n",
       "        text-align: right;\n",
       "    }\n",
       "</style>\n",
       "<table border=\"1\" class=\"dataframe\">\n",
       "  <thead>\n",
       "    <tr style=\"text-align: right;\">\n",
       "      <th></th>\n",
       "      <th>symbol</th>\n",
       "      <th>meaning</th>\n",
       "      <th>n_meanings</th>\n",
       "    </tr>\n",
       "  </thead>\n",
       "  <tbody>\n",
       "    <tr>\n",
       "      <th>0</th>\n",
       "      <td></td>\n",
       "      <td>[]</td>\n",
       "      <td>0</td>\n",
       "    </tr>\n",
       "    <tr>\n",
       "      <th>1</th>\n",
       "      <td></td>\n",
       "      <td>[]</td>\n",
       "      <td>0</td>\n",
       "    </tr>\n",
       "    <tr>\n",
       "      <th>2</th>\n",
       "      <td>A</td>\n",
       "      <td>[TOP]</td>\n",
       "      <td>1</td>\n",
       "    </tr>\n",
       "    <tr>\n",
       "      <th>3</th>\n",
       "      <td></td>\n",
       "      <td>[]</td>\n",
       "      <td>0</td>\n",
       "    </tr>\n",
       "    <tr>\n",
       "      <th>4</th>\n",
       "      <td>Aardvark</td>\n",
       "      <td>[TOP]</td>\n",
       "      <td>1</td>\n",
       "    </tr>\n",
       "    <tr>\n",
       "      <th>...</th>\n",
       "      <td>...</td>\n",
       "      <td>...</td>\n",
       "      <td>...</td>\n",
       "    </tr>\n",
       "    <tr>\n",
       "      <th>352</th>\n",
       "      <td>Avoid</td>\n",
       "      <td>[To dream that you are avoiding a person in yo...</td>\n",
       "      <td>1</td>\n",
       "    </tr>\n",
       "    <tr>\n",
       "      <th>353</th>\n",
       "      <td>Awaken</td>\n",
       "      <td>[To awaken in your dream represents a spiritua...</td>\n",
       "      <td>2</td>\n",
       "    </tr>\n",
       "    <tr>\n",
       "      <th>354</th>\n",
       "      <td>Awakening</td>\n",
       "      <td>[To dream that you have an awakening signifies...</td>\n",
       "      <td>2</td>\n",
       "    </tr>\n",
       "    <tr>\n",
       "      <th>355</th>\n",
       "      <td>Award</td>\n",
       "      <td>[To dream that you receive an award indicates ...</td>\n",
       "      <td>1</td>\n",
       "    </tr>\n",
       "    <tr>\n",
       "      <th>356</th>\n",
       "      <td>Ax</td>\n",
       "      <td>[To see an ax in your dream indicates that you...</td>\n",
       "      <td>2</td>\n",
       "    </tr>\n",
       "  </tbody>\n",
       "</table>\n",
       "<p>357 rows × 3 columns</p>\n",
       "</div>"
      ],
      "text/plain": [
       "          symbol                                            meaning  \\\n",
       "0                                                                []   \n",
       "1                                                                []   \n",
       "2              A                                              [TOP]   \n",
       "3                                                                []   \n",
       "4       Aardvark                                              [TOP]   \n",
       "..           ...                                                ...   \n",
       "352        Avoid  [To dream that you are avoiding a person in yo...   \n",
       "353       Awaken  [To awaken in your dream represents a spiritua...   \n",
       "354    Awakening  [To dream that you have an awakening signifies...   \n",
       "355        Award  [To dream that you receive an award indicates ...   \n",
       "356           Ax  [To see an ax in your dream indicates that you...   \n",
       "\n",
       "     n_meanings  \n",
       "0             0  \n",
       "1             0  \n",
       "2             1  \n",
       "3             0  \n",
       "4             1  \n",
       "..          ...  \n",
       "352           1  \n",
       "353           2  \n",
       "354           2  \n",
       "355           1  \n",
       "356           2  \n",
       "\n",
       "[357 rows x 3 columns]"
      ]
     },
     "execution_count": 85,
     "metadata": {},
     "output_type": "execute_result"
    }
   ],
   "source": [
    "data2"
   ]
  },
  {
   "cell_type": "code",
   "execution_count": 86,
   "id": "510e2220",
   "metadata": {},
   "outputs": [
    {
     "data": {
      "application/vnd.microsoft.datawrangler.viewer.v0+json": {
       "columns": [
        {
         "name": "index",
         "rawType": "int64",
         "type": "integer"
        },
        {
         "name": "symbol",
         "rawType": "object",
         "type": "string"
        },
        {
         "name": "meaning",
         "rawType": "object",
         "type": "unknown"
        },
        {
         "name": "n_meanings",
         "rawType": "int64",
         "type": "integer"
        },
        {
         "name": "mean_len",
         "rawType": "float64",
         "type": "float"
        }
       ],
       "conversionMethod": "pd.DataFrame",
       "ref": "bd5895e3-8446-4053-a9fc-c65ed80c6065",
       "rows": [
        [
         "0",
         "",
         null,
         "0",
         null
        ],
        [
         "1",
         "   ",
         null,
         "0",
         null
        ],
        [
         "2",
         "  A",
         "TOP",
         "1",
         "3.0"
        ],
        [
         "3",
         "",
         null,
         "0",
         null
        ],
        [
         "4",
         "   Aardvark",
         "TOP",
         "1",
         "3.0"
        ],
        [
         "5",
         "Abacus",
         "TOP",
         "1",
         "3.0"
        ],
        [
         "6",
         "Abalone",
         "To see or eat abalone in your dream indicates a transitional period in your life. The symbol may also be a play on words to indicate feelings of \"loneliness\". TOP",
         "1",
         "162.0"
        ],
        [
         "7",
         "Abandonment",
         "To dream that you are abandoned suggests that it is time to leave behind past feelings and characteristics that are hindering your growth. Let go of your old attitudes. A more direct and literal interpretation of this dream indicates you have a fear of being deserted, abandoned, or even betrayed. It may stem from a recent loss or a fear of losing a loved one. The fear of abandonment may manifest itself into your dream as part of the healing process and dealing with losing a loved one. It may also stem from unresolved feelings or problems from childhood. Alternatively, the dream indicates that you are feeling neglected or that your feelings are being overlooked. Perhaps the dream is a metaphor that you need to approach life with \"reckless abandon\" and live more freely. ",
         "2",
         "779.0"
        ],
        [
         "7",
         "Abandonment",
         "TOP",
         "2",
         "3.0"
        ],
        [
         "8",
         "Abbey",
         "an abbey in your dream signifies spirituality, peace of mind and freedom from anxiety. You are in a state of contentment and satisfaction. Help for you is always around the corner. ",
         "2",
         "181.0"
        ],
        [
         "8",
         "Abbey",
         "TOP",
         "2",
         "3.0"
        ],
        [
         "9",
         "Abbot",
         "To see an abbot in your dream suggests that someone has power over you and are making you do things that you do not necessarily want to do. You are feeling confined or restricted. The dream indicates that you will experience many obstacles and setback before achieving success and prestige. TOP",
         "1",
         "294.0"
        ],
        [
         "10",
         "Abbreviations",
         "TOP",
         "1",
         "3.0"
        ],
        [
         "11",
         "Abdomen",
         "To see your abdomen in a dream refers to your natural instincts and repressed emotions. There is something in your real life that you \"cannot stomach\" or have difficulties accepting. You need to get it out of your system. Alternatively, the dream symbol may be strictly physiological and you may just be experiencing constipation or indigestion. ",
         "3",
         "346.0"
        ],
        [
         "11",
         "Abdomen",
         "To dream that your abdomen is exposed represents issues you have with trust and feelings of vulnerability. You are expressing your primal emotions and instincts.",
         "3",
         "161.0"
        ],
        [
         "11",
         "Abdomen",
         "TOP",
         "3",
         "3.0"
        ],
        [
         "12",
         " ",
         null,
         "0",
         null
        ],
        [
         "13",
         "Abduction",
         "To dream of being abducted indicates that you are being manipulated by your circumstances or by someone. You lack control of your own life.",
         "3",
         "139.0"
        ],
        [
         "13",
         "Abduction",
         "To witness an abduction in your dream signifies feelings of helplessness. ",
         "3",
         "74.0"
        ],
        [
         "13",
         "Abduction",
         "TOP",
         "3",
         "3.0"
        ],
        [
         "14",
         " ",
         null,
         "0",
         null
        ],
        [
         "15",
         "Abhorrence",
         "To dream that you abhor a person represents your waking dislike for that person. You are harboring feelings of resentment or aggression and feel that this person has acted in a less than honorable way.",
         "2",
         "201.0"
        ],
        [
         "15",
         "Abhorrence",
         "To dream that you are abhorred by others suggests that you may be forcing your views and opinions on others. You are rubbing others the wrong way. TOP",
         "2",
         "150.0"
        ],
        [
         "16",
         "Abnormal",
         "TOP",
         "1",
         "3.0"
        ],
        [
         "17",
         "Abode",
         "*Please See Home.",
         "1",
         "17.0"
        ],
        [
         "18",
         "Abominable Snowman",
         "*Please See Yeti.",
         "1",
         "17.0"
        ],
        [
         "19",
         "Aborigine",
         "To see an Aborigine in your dream represents both your untamed, natural self and your pure, innocent side. You need to be more in touch with your intuition and inner forces. It also suggests that you are being overindulgent or overly emotional. You may be harming yourself and jeopardizing your well-being due to your unrestraint. TOP",
         "1",
         "334.0"
        ],
        [
         "20",
         "Abortion",
         "To dream that you have an abortion suggests that you are hindering and blocking your own growth. You may be hesitant in pursuing a new direction in your life due to fear, pressure, personal conflict or moral obligation. The dream may also be a reflection of your own real-life abortion and thus serves as a way of healing from the trauma and working towards self-acceptance. Alternatively, this dream may also be a message for you to take care and look after your health.",
         "4",
         "471.0"
        ],
        [
         "20",
         "Abortion",
         "To dream that someone has an abortion refers to an aspect of your relationship with this person is not growing or maturing. If you do not know this person, then the dream may be about your own personal views on abortion.",
         "4",
         "220.0"
        ],
        [
         "20",
         "Abortion",
         "TOP",
         "4",
         "3.0"
        ],
        [
         "20",
         "Abortion",
         "**See The Meaning In Action: \"Boiling A Rabbit\"",
         "4",
         "47.0"
        ],
        [
         "21",
         "Above",
         "To see something above you in your dream suggests that you need to set your goals higher. Aim high! Alternatively, the dream indicates that you are feeling inferior or inadequate. TOP",
         "1",
         "183.0"
        ],
        [
         "22",
         "Abraham Lincoln",
         "To see Abraham Lincoln in your dream refers to your solid character and leadership ability. Known as \"Honest Abe\", the dream may also be telling you to be truthful or to come clean about something. TOP",
         "1",
         "201.0"
        ],
        [
         "23",
         "Abroad",
         "To dream of being or going abroad indicates unbalance and chaos in your current situation and condition. Consequently, your dream may represent your need for a change in scenery or a desire to escape from a current situation. You need to make some drastic changes in your life. Alternatively, the dream may suggest that you need to expand your horizons or experience a new sense of spirituality. TOP",
         "1",
         "399.0"
        ],
        [
         "24",
         "Absence",
         "To dream that someone is absent, especially if you expect to find them, suggests that you are looking for something that is already lost to you. Alternatively, you may be looking to fill a void in your life. Something is missing from your life. TOP",
         "1",
         "248.0"
        ],
        [
         "25",
         "Abscess",
         "To dream that you have an abscess suggests that there is something that you need to express and get out into the open. TOP",
         "2",
         "122.0"
        ],
        [
         "25",
         "Abscess",
         "*Please see Sores",
         "2",
         "17.0"
        ],
        [
         "26",
         " ",
         null,
         "0",
         null
        ],
        [
         "27",
         "Abscond",
         "To dream that you have absconded with something indicates your failed accomplishments. You may also be feeling insecure about your achievements. You feel that you are never good enough. Consider the significance or value of what you have absconded. TOP",
         "1",
         "252.0"
        ],
        [
         "28",
         "Absorb",
         "To be absorbed in whatever you are doing suggests that you may be too focused on your own thing and risk alienating others around you. The dream may also be a metaphor that you need to integrate and adapt to your various surroundings. TOP",
         "1",
         "238.0"
        ],
        [
         "29",
         "Abstinence",
         "To dream that you practice abstinence from drinking, sex or any other sort of sensual temptation is a warning against being over confidant. You need to take things more slowly. TOP",
         "1",
         "180.0"
        ],
        [
         "30",
         "Abundance",
         "TOP",
         "1",
         "3.0"
        ],
        [
         "31",
         "Abuse",
         "To dream you are abusing someone suggests that your past actions will come back to haunt you. You may be expressing some regret or remorse over your actions.",
         "3",
         "157.0"
        ],
        [
         "31",
         "Abuse",
         "To dream you are being verbally or physically abused suggests that you are feeling victimized in a waking situation. You are being taking advantage of.  ",
         "3",
         "153.0"
        ],
        [
         "31",
         "Abuse",
         "TOP",
         "3",
         "3.0"
        ],
        [
         "32",
         " ",
         null,
         "0",
         null
        ],
        [
         "33",
         "Abyss",
         "To dream of an abyss signifies an obstacle that is creating much anxiety for you. You need to work through the difficulty and overcome this obstacle in your life. Perhaps you are afraid of \"taking the plunge\".",
         "2",
         "209.0"
        ],
        [
         "33",
         "Abyss",
         "To dream that you are falling into an abyss symbolizes the depths of your subconscious. You are afraid and/or uncertain as to what you will discover about yourself and about your hidden feelings and fears. The abyss may also represent your primal fears and feelings of \"falling into a pit of despair\". Perhaps you are in a state of depression or wallowing in your negative feelings. Alternatively, the dream could denote your lack of spirituality. TOP",
         "2",
         "451.0"
        ],
        [
         "34",
         " Acacia",
         "To see an acacia tree in your dream symbolizes your attitudes with death and your sense of mortality. TOP",
         "1",
         "105.0"
        ],
        [
         "35",
         "Academy",
         "To dream of an academy signifies new friendships and opportunities. TOP",
         "1",
         "71.0"
        ]
       ],
       "shape": {
        "columns": 4,
        "rows": 542
       }
      },
      "text/html": [
       "<div>\n",
       "<style scoped>\n",
       "    .dataframe tbody tr th:only-of-type {\n",
       "        vertical-align: middle;\n",
       "    }\n",
       "\n",
       "    .dataframe tbody tr th {\n",
       "        vertical-align: top;\n",
       "    }\n",
       "\n",
       "    .dataframe thead th {\n",
       "        text-align: right;\n",
       "    }\n",
       "</style>\n",
       "<table border=\"1\" class=\"dataframe\">\n",
       "  <thead>\n",
       "    <tr style=\"text-align: right;\">\n",
       "      <th></th>\n",
       "      <th>symbol</th>\n",
       "      <th>meaning</th>\n",
       "      <th>n_meanings</th>\n",
       "      <th>mean_len</th>\n",
       "    </tr>\n",
       "  </thead>\n",
       "  <tbody>\n",
       "    <tr>\n",
       "      <th>0</th>\n",
       "      <td></td>\n",
       "      <td>NaN</td>\n",
       "      <td>0</td>\n",
       "      <td>NaN</td>\n",
       "    </tr>\n",
       "    <tr>\n",
       "      <th>1</th>\n",
       "      <td></td>\n",
       "      <td>NaN</td>\n",
       "      <td>0</td>\n",
       "      <td>NaN</td>\n",
       "    </tr>\n",
       "    <tr>\n",
       "      <th>2</th>\n",
       "      <td>A</td>\n",
       "      <td>TOP</td>\n",
       "      <td>1</td>\n",
       "      <td>3.0</td>\n",
       "    </tr>\n",
       "    <tr>\n",
       "      <th>3</th>\n",
       "      <td></td>\n",
       "      <td>NaN</td>\n",
       "      <td>0</td>\n",
       "      <td>NaN</td>\n",
       "    </tr>\n",
       "    <tr>\n",
       "      <th>4</th>\n",
       "      <td>Aardvark</td>\n",
       "      <td>TOP</td>\n",
       "      <td>1</td>\n",
       "      <td>3.0</td>\n",
       "    </tr>\n",
       "    <tr>\n",
       "      <th>...</th>\n",
       "      <td>...</td>\n",
       "      <td>...</td>\n",
       "      <td>...</td>\n",
       "      <td>...</td>\n",
       "    </tr>\n",
       "    <tr>\n",
       "      <th>354</th>\n",
       "      <td>Awakening</td>\n",
       "      <td>To dream that you have an awakening signifies ...</td>\n",
       "      <td>2</td>\n",
       "      <td>146.0</td>\n",
       "    </tr>\n",
       "    <tr>\n",
       "      <th>354</th>\n",
       "      <td>Awakening</td>\n",
       "      <td>You may also be on the verge of lucid dreaming...</td>\n",
       "      <td>2</td>\n",
       "      <td>51.0</td>\n",
       "    </tr>\n",
       "    <tr>\n",
       "      <th>355</th>\n",
       "      <td>Award</td>\n",
       "      <td>To dream that you receive an award indicates t...</td>\n",
       "      <td>1</td>\n",
       "      <td>201.0</td>\n",
       "    </tr>\n",
       "    <tr>\n",
       "      <th>356</th>\n",
       "      <td>Ax</td>\n",
       "      <td>To see an ax in your dream indicates that you ...</td>\n",
       "      <td>2</td>\n",
       "      <td>291.0</td>\n",
       "    </tr>\n",
       "    <tr>\n",
       "      <th>356</th>\n",
       "      <td>Ax</td>\n",
       "      <td>To dream that you are chopping wood with an ax...</td>\n",
       "      <td>2</td>\n",
       "      <td>272.0</td>\n",
       "    </tr>\n",
       "  </tbody>\n",
       "</table>\n",
       "<p>542 rows × 4 columns</p>\n",
       "</div>"
      ],
      "text/plain": [
       "          symbol                                            meaning  \\\n",
       "0                                                               NaN   \n",
       "1                                                               NaN   \n",
       "2              A                                                TOP   \n",
       "3                                                               NaN   \n",
       "4       Aardvark                                                TOP   \n",
       "..           ...                                                ...   \n",
       "354    Awakening  To dream that you have an awakening signifies ...   \n",
       "354    Awakening  You may also be on the verge of lucid dreaming...   \n",
       "355        Award  To dream that you receive an award indicates t...   \n",
       "356           Ax  To see an ax in your dream indicates that you ...   \n",
       "356           Ax  To dream that you are chopping wood with an ax...   \n",
       "\n",
       "     n_meanings  mean_len  \n",
       "0             0       NaN  \n",
       "1             0       NaN  \n",
       "2             1       3.0  \n",
       "3             0       NaN  \n",
       "4             1       3.0  \n",
       "..          ...       ...  \n",
       "354           2     146.0  \n",
       "354           2      51.0  \n",
       "355           1     201.0  \n",
       "356           2     291.0  \n",
       "356           2     272.0  \n",
       "\n",
       "[542 rows x 4 columns]"
      ]
     },
     "execution_count": 86,
     "metadata": {},
     "output_type": "execute_result"
    }
   ],
   "source": [
    "data3 = data2.explode('meaning')\n",
    "data3['mean_len'] = data3.meaning.str.len()\n",
    "data3"
   ]
  },
  {
   "cell_type": "code",
   "execution_count": 87,
   "id": "f11f6f1f",
   "metadata": {},
   "outputs": [],
   "source": [
    "def extract_letter(file):\n",
    "    with open(file, \"r\") as f:\n",
    "        html = f.read()\n",
    "        \n",
    "    xp = \"/html/body/table[2]/tr/td/div/center/table/tr[4]/td[1]\"\n",
    "\n",
    "    tree = lhtml.fromstring(html)\n",
    "\n",
    "    #tree.text_content()\n",
    "\n",
    "    tabl = tree.xpath(xp)[0]\n",
    "\n",
    "    global syms_data\n",
    "    syms_data = []\n",
    "    r,c,t = breakdown(tabl)\n",
    "    syms_data = pd.DataFrame(syms_data)\n",
    "    data2 = squeeze_meaning_by_symbol(syms_data)\n",
    "    data3 = data2.explode('meaning')\n",
    "    data3['mean_len'] = data3.meaning.str.len()\n",
    "    return data3\n",
    "\n"
   ]
  },
  {
   "cell_type": "code",
   "execution_count": 88,
   "id": "67a0b091",
   "metadata": {},
   "outputs": [
    {
     "name": "stdout",
     "output_type": "stream",
     "text": [
      "found cheating\n"
     ]
    },
    {
     "data": {
      "application/vnd.microsoft.datawrangler.viewer.v0+json": {
       "columns": [
        {
         "name": "index",
         "rawType": "int64",
         "type": "integer"
        },
        {
         "name": "symbol",
         "rawType": "object",
         "type": "string"
        },
        {
         "name": "meaning",
         "rawType": "object",
         "type": "unknown"
        },
        {
         "name": "n_meanings",
         "rawType": "int64",
         "type": "integer"
        },
        {
         "name": "mean_len",
         "rawType": "float64",
         "type": "float"
        },
        {
         "name": "filename",
         "rawType": "object",
         "type": "string"
        }
       ],
       "conversionMethod": "pd.DataFrame",
       "ref": "49ad7529-b20a-419f-b7d0-8c7f74f949ca",
       "rows": [
        [
         "0",
         "",
         null,
         "0",
         null,
         "a_all.html"
        ],
        [
         "1",
         "   ",
         null,
         "0",
         null,
         "a_all.html"
        ],
        [
         "2",
         "  A",
         "TOP",
         "1",
         "3.0",
         "a_all.html"
        ],
        [
         "3",
         "",
         null,
         "0",
         null,
         "a_all.html"
        ],
        [
         "4",
         "   Aardvark",
         "TOP",
         "1",
         "3.0",
         "a_all.html"
        ],
        [
         "5",
         "Abacus",
         "TOP",
         "1",
         "3.0",
         "a_all.html"
        ],
        [
         "6",
         "Abalone",
         "To see or eat abalone in your dream indicates a transitional period in your life. The symbol may also be a play on words to indicate feelings of \"loneliness\". TOP",
         "1",
         "162.0",
         "a_all.html"
        ],
        [
         "7",
         "Abandonment",
         "To dream that you are abandoned suggests that it is time to leave behind past feelings and characteristics that are hindering your growth. Let go of your old attitudes. A more direct and literal interpretation of this dream indicates you have a fear of being deserted, abandoned, or even betrayed. It may stem from a recent loss or a fear of losing a loved one. The fear of abandonment may manifest itself into your dream as part of the healing process and dealing with losing a loved one. It may also stem from unresolved feelings or problems from childhood. Alternatively, the dream indicates that you are feeling neglected or that your feelings are being overlooked. Perhaps the dream is a metaphor that you need to approach life with \"reckless abandon\" and live more freely. ",
         "2",
         "779.0",
         "a_all.html"
        ],
        [
         "7",
         "Abandonment",
         "TOP",
         "2",
         "3.0",
         "a_all.html"
        ],
        [
         "8",
         "Abbey",
         "an abbey in your dream signifies spirituality, peace of mind and freedom from anxiety. You are in a state of contentment and satisfaction. Help for you is always around the corner. ",
         "2",
         "181.0",
         "a_all.html"
        ],
        [
         "8",
         "Abbey",
         "TOP",
         "2",
         "3.0",
         "a_all.html"
        ],
        [
         "9",
         "Abbot",
         "To see an abbot in your dream suggests that someone has power over you and are making you do things that you do not necessarily want to do. You are feeling confined or restricted. The dream indicates that you will experience many obstacles and setback before achieving success and prestige. TOP",
         "1",
         "294.0",
         "a_all.html"
        ],
        [
         "10",
         "Abbreviations",
         "TOP",
         "1",
         "3.0",
         "a_all.html"
        ],
        [
         "11",
         "Abdomen",
         "To see your abdomen in a dream refers to your natural instincts and repressed emotions. There is something in your real life that you \"cannot stomach\" or have difficulties accepting. You need to get it out of your system. Alternatively, the dream symbol may be strictly physiological and you may just be experiencing constipation or indigestion. ",
         "3",
         "346.0",
         "a_all.html"
        ],
        [
         "11",
         "Abdomen",
         "To dream that your abdomen is exposed represents issues you have with trust and feelings of vulnerability. You are expressing your primal emotions and instincts.",
         "3",
         "161.0",
         "a_all.html"
        ],
        [
         "11",
         "Abdomen",
         "TOP",
         "3",
         "3.0",
         "a_all.html"
        ],
        [
         "12",
         " ",
         null,
         "0",
         null,
         "a_all.html"
        ],
        [
         "13",
         "Abduction",
         "To dream of being abducted indicates that you are being manipulated by your circumstances or by someone. You lack control of your own life.",
         "3",
         "139.0",
         "a_all.html"
        ],
        [
         "13",
         "Abduction",
         "To witness an abduction in your dream signifies feelings of helplessness. ",
         "3",
         "74.0",
         "a_all.html"
        ],
        [
         "13",
         "Abduction",
         "TOP",
         "3",
         "3.0",
         "a_all.html"
        ],
        [
         "14",
         " ",
         null,
         "0",
         null,
         "a_all.html"
        ],
        [
         "15",
         "Abhorrence",
         "To dream that you abhor a person represents your waking dislike for that person. You are harboring feelings of resentment or aggression and feel that this person has acted in a less than honorable way.",
         "2",
         "201.0",
         "a_all.html"
        ],
        [
         "15",
         "Abhorrence",
         "To dream that you are abhorred by others suggests that you may be forcing your views and opinions on others. You are rubbing others the wrong way. TOP",
         "2",
         "150.0",
         "a_all.html"
        ],
        [
         "16",
         "Abnormal",
         "TOP",
         "1",
         "3.0",
         "a_all.html"
        ],
        [
         "17",
         "Abode",
         "*Please See Home.",
         "1",
         "17.0",
         "a_all.html"
        ],
        [
         "18",
         "Abominable Snowman",
         "*Please See Yeti.",
         "1",
         "17.0",
         "a_all.html"
        ],
        [
         "19",
         "Aborigine",
         "To see an Aborigine in your dream represents both your untamed, natural self and your pure, innocent side. You need to be more in touch with your intuition and inner forces. It also suggests that you are being overindulgent or overly emotional. You may be harming yourself and jeopardizing your well-being due to your unrestraint. TOP",
         "1",
         "334.0",
         "a_all.html"
        ],
        [
         "20",
         "Abortion",
         "To dream that you have an abortion suggests that you are hindering and blocking your own growth. You may be hesitant in pursuing a new direction in your life due to fear, pressure, personal conflict or moral obligation. The dream may also be a reflection of your own real-life abortion and thus serves as a way of healing from the trauma and working towards self-acceptance. Alternatively, this dream may also be a message for you to take care and look after your health.",
         "4",
         "471.0",
         "a_all.html"
        ],
        [
         "20",
         "Abortion",
         "To dream that someone has an abortion refers to an aspect of your relationship with this person is not growing or maturing. If you do not know this person, then the dream may be about your own personal views on abortion.",
         "4",
         "220.0",
         "a_all.html"
        ],
        [
         "20",
         "Abortion",
         "TOP",
         "4",
         "3.0",
         "a_all.html"
        ],
        [
         "20",
         "Abortion",
         "**See The Meaning In Action: \"Boiling A Rabbit\"",
         "4",
         "47.0",
         "a_all.html"
        ],
        [
         "21",
         "Above",
         "To see something above you in your dream suggests that you need to set your goals higher. Aim high! Alternatively, the dream indicates that you are feeling inferior or inadequate. TOP",
         "1",
         "183.0",
         "a_all.html"
        ],
        [
         "22",
         "Abraham Lincoln",
         "To see Abraham Lincoln in your dream refers to your solid character and leadership ability. Known as \"Honest Abe\", the dream may also be telling you to be truthful or to come clean about something. TOP",
         "1",
         "201.0",
         "a_all.html"
        ],
        [
         "23",
         "Abroad",
         "To dream of being or going abroad indicates unbalance and chaos in your current situation and condition. Consequently, your dream may represent your need for a change in scenery or a desire to escape from a current situation. You need to make some drastic changes in your life. Alternatively, the dream may suggest that you need to expand your horizons or experience a new sense of spirituality. TOP",
         "1",
         "399.0",
         "a_all.html"
        ],
        [
         "24",
         "Absence",
         "To dream that someone is absent, especially if you expect to find them, suggests that you are looking for something that is already lost to you. Alternatively, you may be looking to fill a void in your life. Something is missing from your life. TOP",
         "1",
         "248.0",
         "a_all.html"
        ],
        [
         "25",
         "Abscess",
         "To dream that you have an abscess suggests that there is something that you need to express and get out into the open. TOP",
         "2",
         "122.0",
         "a_all.html"
        ],
        [
         "25",
         "Abscess",
         "*Please see Sores",
         "2",
         "17.0",
         "a_all.html"
        ],
        [
         "26",
         " ",
         null,
         "0",
         null,
         "a_all.html"
        ],
        [
         "27",
         "Abscond",
         "To dream that you have absconded with something indicates your failed accomplishments. You may also be feeling insecure about your achievements. You feel that you are never good enough. Consider the significance or value of what you have absconded. TOP",
         "1",
         "252.0",
         "a_all.html"
        ],
        [
         "28",
         "Absorb",
         "To be absorbed in whatever you are doing suggests that you may be too focused on your own thing and risk alienating others around you. The dream may also be a metaphor that you need to integrate and adapt to your various surroundings. TOP",
         "1",
         "238.0",
         "a_all.html"
        ],
        [
         "29",
         "Abstinence",
         "To dream that you practice abstinence from drinking, sex or any other sort of sensual temptation is a warning against being over confidant. You need to take things more slowly. TOP",
         "1",
         "180.0",
         "a_all.html"
        ],
        [
         "30",
         "Abundance",
         "TOP",
         "1",
         "3.0",
         "a_all.html"
        ],
        [
         "31",
         "Abuse",
         "To dream you are abusing someone suggests that your past actions will come back to haunt you. You may be expressing some regret or remorse over your actions.",
         "3",
         "157.0",
         "a_all.html"
        ],
        [
         "31",
         "Abuse",
         "To dream you are being verbally or physically abused suggests that you are feeling victimized in a waking situation. You are being taking advantage of.  ",
         "3",
         "153.0",
         "a_all.html"
        ],
        [
         "31",
         "Abuse",
         "TOP",
         "3",
         "3.0",
         "a_all.html"
        ],
        [
         "32",
         " ",
         null,
         "0",
         null,
         "a_all.html"
        ],
        [
         "33",
         "Abyss",
         "To dream of an abyss signifies an obstacle that is creating much anxiety for you. You need to work through the difficulty and overcome this obstacle in your life. Perhaps you are afraid of \"taking the plunge\".",
         "2",
         "209.0",
         "a_all.html"
        ],
        [
         "33",
         "Abyss",
         "To dream that you are falling into an abyss symbolizes the depths of your subconscious. You are afraid and/or uncertain as to what you will discover about yourself and about your hidden feelings and fears. The abyss may also represent your primal fears and feelings of \"falling into a pit of despair\". Perhaps you are in a state of depression or wallowing in your negative feelings. Alternatively, the dream could denote your lack of spirituality. TOP",
         "2",
         "451.0",
         "a_all.html"
        ],
        [
         "34",
         " Acacia",
         "To see an acacia tree in your dream symbolizes your attitudes with death and your sense of mortality. TOP",
         "1",
         "105.0",
         "a_all.html"
        ],
        [
         "35",
         "Academy",
         "To dream of an academy signifies new friendships and opportunities. TOP",
         "1",
         "71.0",
         "a_all.html"
        ]
       ],
       "shape": {
        "columns": 5,
        "rows": 8088
       }
      },
      "text/html": [
       "<div>\n",
       "<style scoped>\n",
       "    .dataframe tbody tr th:only-of-type {\n",
       "        vertical-align: middle;\n",
       "    }\n",
       "\n",
       "    .dataframe tbody tr th {\n",
       "        vertical-align: top;\n",
       "    }\n",
       "\n",
       "    .dataframe thead th {\n",
       "        text-align: right;\n",
       "    }\n",
       "</style>\n",
       "<table border=\"1\" class=\"dataframe\">\n",
       "  <thead>\n",
       "    <tr style=\"text-align: right;\">\n",
       "      <th></th>\n",
       "      <th>symbol</th>\n",
       "      <th>meaning</th>\n",
       "      <th>n_meanings</th>\n",
       "      <th>mean_len</th>\n",
       "      <th>filename</th>\n",
       "    </tr>\n",
       "  </thead>\n",
       "  <tbody>\n",
       "    <tr>\n",
       "      <th>0</th>\n",
       "      <td></td>\n",
       "      <td>NaN</td>\n",
       "      <td>0</td>\n",
       "      <td>NaN</td>\n",
       "      <td>a_all.html</td>\n",
       "    </tr>\n",
       "    <tr>\n",
       "      <th>1</th>\n",
       "      <td></td>\n",
       "      <td>NaN</td>\n",
       "      <td>0</td>\n",
       "      <td>NaN</td>\n",
       "      <td>a_all.html</td>\n",
       "    </tr>\n",
       "    <tr>\n",
       "      <th>2</th>\n",
       "      <td>A</td>\n",
       "      <td>TOP</td>\n",
       "      <td>1</td>\n",
       "      <td>3.0</td>\n",
       "      <td>a_all.html</td>\n",
       "    </tr>\n",
       "    <tr>\n",
       "      <th>3</th>\n",
       "      <td></td>\n",
       "      <td>NaN</td>\n",
       "      <td>0</td>\n",
       "      <td>NaN</td>\n",
       "      <td>a_all.html</td>\n",
       "    </tr>\n",
       "    <tr>\n",
       "      <th>4</th>\n",
       "      <td>Aardvark</td>\n",
       "      <td>TOP</td>\n",
       "      <td>1</td>\n",
       "      <td>3.0</td>\n",
       "      <td>a_all.html</td>\n",
       "    </tr>\n",
       "    <tr>\n",
       "      <th>...</th>\n",
       "      <td>...</td>\n",
       "      <td>...</td>\n",
       "      <td>...</td>\n",
       "      <td>...</td>\n",
       "      <td>...</td>\n",
       "    </tr>\n",
       "    <tr>\n",
       "      <th>373</th>\n",
       "      <td>Mutilate</td>\n",
       "      <td>To dream that you are being mutilated indicate...</td>\n",
       "      <td>2</td>\n",
       "      <td>431.0</td>\n",
       "      <td>m_all.html</td>\n",
       "    </tr>\n",
       "    <tr>\n",
       "      <th>373</th>\n",
       "      <td>Mutilate</td>\n",
       "      <td>To dream that someone or something is mutilate...</td>\n",
       "      <td>2</td>\n",
       "      <td>99.0</td>\n",
       "      <td>m_all.html</td>\n",
       "    </tr>\n",
       "    <tr>\n",
       "      <th>374</th>\n",
       "      <td>Muzzle</td>\n",
       "      <td>To see or use a muzzle in your dream suggests ...</td>\n",
       "      <td>1</td>\n",
       "      <td>203.0</td>\n",
       "      <td>m_all.html</td>\n",
       "    </tr>\n",
       "    <tr>\n",
       "      <th>375</th>\n",
       "      <td>Myrrh</td>\n",
       "      <td>To see myrrh in your dream signifies punishmen...</td>\n",
       "      <td>1</td>\n",
       "      <td>113.0</td>\n",
       "      <td>m_all.html</td>\n",
       "    </tr>\n",
       "    <tr>\n",
       "      <th>376</th>\n",
       "      <td>Myrtle</td>\n",
       "      <td>To see a myrtle in your dream symbolizes happi...</td>\n",
       "      <td>1</td>\n",
       "      <td>88.0</td>\n",
       "      <td>m_all.html</td>\n",
       "    </tr>\n",
       "  </tbody>\n",
       "</table>\n",
       "<p>8088 rows × 5 columns</p>\n",
       "</div>"
      ],
      "text/plain": [
       "          symbol                                            meaning  \\\n",
       "0                                                               NaN   \n",
       "1                                                               NaN   \n",
       "2              A                                                TOP   \n",
       "3                                                               NaN   \n",
       "4       Aardvark                                                TOP   \n",
       "..           ...                                                ...   \n",
       "373     Mutilate  To dream that you are being mutilated indicate...   \n",
       "373     Mutilate  To dream that someone or something is mutilate...   \n",
       "374      Muzzle   To see or use a muzzle in your dream suggests ...   \n",
       "375        Myrrh  To see myrrh in your dream signifies punishmen...   \n",
       "376       Myrtle  To see a myrtle in your dream symbolizes happi...   \n",
       "\n",
       "     n_meanings  mean_len    filename  \n",
       "0             0       NaN  a_all.html  \n",
       "1             0       NaN  a_all.html  \n",
       "2             1       3.0  a_all.html  \n",
       "3             0       NaN  a_all.html  \n",
       "4             1       3.0  a_all.html  \n",
       "..          ...       ...         ...  \n",
       "373           2     431.0  m_all.html  \n",
       "373           2      99.0  m_all.html  \n",
       "374           1     203.0  m_all.html  \n",
       "375           1     113.0  m_all.html  \n",
       "376           1      88.0  m_all.html  \n",
       "\n",
       "[8088 rows x 5 columns]"
      ]
     },
     "execution_count": 88,
     "metadata": {},
     "output_type": "execute_result"
    }
   ],
   "source": [
    "dfs = []\n",
    "save_dir = 'html'\n",
    "\n",
    "for f in os.listdir(save_dir):\n",
    "    if f.endswith(\".html\"):\n",
    "        try:\n",
    "            existing_df = extract_letter(os.path.join(save_dir, f))\n",
    "            existing_df[\"filename\"] = f\n",
    "            dfs.append(existing_df)\n",
    "        except Exception:\n",
    "            continue\n",
    "\n",
    "dataset = pd.concat(dfs)\n",
    "dataset"
   ]
  },
  {
   "cell_type": "code",
   "execution_count": 90,
   "id": "b38d735f",
   "metadata": {},
   "outputs": [
    {
     "name": "stdout",
     "output_type": "stream",
     "text": [
      "✅ HTML table saved to: rescraped.html\n"
     ]
    }
   ],
   "source": [
    "from utils import save_df_as_pretty_html\n",
    "save_df_as_pretty_html(dataset, \"rescraped.html\")\n",
    "dataset.to_csv(\"rescraped.csv\", index=False)"
   ]
  },
  {
   "cell_type": "code",
   "execution_count": 91,
   "id": "12e2e3ad",
   "metadata": {},
   "outputs": [
    {
     "ename": "ValueError",
     "evalue": "Mime type rendering requires nbformat>=4.2.0 but it is not installed",
     "output_type": "error",
     "traceback": [
      "\u001b[0;31m---------------------------------------------------------------------------\u001b[0m",
      "\u001b[0;31mValueError\u001b[0m                                Traceback (most recent call last)",
      "File \u001b[0;32m/media/michael/Data/anaconda3/envs/NLP/lib/python3.11/site-packages/IPython/core/formatters.py:984\u001b[0m, in \u001b[0;36mIPythonDisplayFormatter.__call__\u001b[0;34m(self, obj)\u001b[0m\n\u001b[1;32m    982\u001b[0m method \u001b[38;5;241m=\u001b[39m get_real_method(obj, \u001b[38;5;28mself\u001b[39m\u001b[38;5;241m.\u001b[39mprint_method)\n\u001b[1;32m    983\u001b[0m \u001b[38;5;28;01mif\u001b[39;00m method \u001b[38;5;129;01mis\u001b[39;00m \u001b[38;5;129;01mnot\u001b[39;00m \u001b[38;5;28;01mNone\u001b[39;00m:\n\u001b[0;32m--> 984\u001b[0m     \u001b[43mmethod\u001b[49m\u001b[43m(\u001b[49m\u001b[43m)\u001b[49m\n\u001b[1;32m    985\u001b[0m     \u001b[38;5;28;01mreturn\u001b[39;00m \u001b[38;5;28;01mTrue\u001b[39;00m\n",
      "File \u001b[0;32m/media/michael/Data/anaconda3/envs/NLP/lib/python3.11/site-packages/plotly/basedatatypes.py:833\u001b[0m, in \u001b[0;36mBaseFigure._ipython_display_\u001b[0;34m(self)\u001b[0m\n\u001b[1;32m    830\u001b[0m \u001b[38;5;28;01mimport\u001b[39;00m \u001b[38;5;21;01mplotly\u001b[39;00m\u001b[38;5;21;01m.\u001b[39;00m\u001b[38;5;21;01mio\u001b[39;00m \u001b[38;5;28;01mas\u001b[39;00m \u001b[38;5;21;01mpio\u001b[39;00m\n\u001b[1;32m    832\u001b[0m \u001b[38;5;28;01mif\u001b[39;00m pio\u001b[38;5;241m.\u001b[39mrenderers\u001b[38;5;241m.\u001b[39mrender_on_display \u001b[38;5;129;01mand\u001b[39;00m pio\u001b[38;5;241m.\u001b[39mrenderers\u001b[38;5;241m.\u001b[39mdefault:\n\u001b[0;32m--> 833\u001b[0m     \u001b[43mpio\u001b[49m\u001b[38;5;241;43m.\u001b[39;49m\u001b[43mshow\u001b[49m\u001b[43m(\u001b[49m\u001b[38;5;28;43mself\u001b[39;49m\u001b[43m)\u001b[49m\n\u001b[1;32m    834\u001b[0m \u001b[38;5;28;01melse\u001b[39;00m:\n\u001b[1;32m    835\u001b[0m     \u001b[38;5;28mprint\u001b[39m(\u001b[38;5;28mrepr\u001b[39m(\u001b[38;5;28mself\u001b[39m))\n",
      "File \u001b[0;32m/media/michael/Data/anaconda3/envs/NLP/lib/python3.11/site-packages/plotly/io/_renderers.py:425\u001b[0m, in \u001b[0;36mshow\u001b[0;34m(fig, renderer, validate, **kwargs)\u001b[0m\n\u001b[1;32m    420\u001b[0m     \u001b[38;5;28;01mraise\u001b[39;00m \u001b[38;5;167;01mValueError\u001b[39;00m(\n\u001b[1;32m    421\u001b[0m         \u001b[38;5;124m\"\u001b[39m\u001b[38;5;124mMime type rendering requires ipython but it is not installed\u001b[39m\u001b[38;5;124m\"\u001b[39m\n\u001b[1;32m    422\u001b[0m     )\n\u001b[1;32m    424\u001b[0m \u001b[38;5;28;01mif\u001b[39;00m \u001b[38;5;129;01mnot\u001b[39;00m nbformat \u001b[38;5;129;01mor\u001b[39;00m Version(nbformat\u001b[38;5;241m.\u001b[39m__version__) \u001b[38;5;241m<\u001b[39m Version(\u001b[38;5;124m\"\u001b[39m\u001b[38;5;124m4.2.0\u001b[39m\u001b[38;5;124m\"\u001b[39m):\n\u001b[0;32m--> 425\u001b[0m     \u001b[38;5;28;01mraise\u001b[39;00m \u001b[38;5;167;01mValueError\u001b[39;00m(\n\u001b[1;32m    426\u001b[0m         \u001b[38;5;124m\"\u001b[39m\u001b[38;5;124mMime type rendering requires nbformat>=4.2.0 but it is not installed\u001b[39m\u001b[38;5;124m\"\u001b[39m\n\u001b[1;32m    427\u001b[0m     )\n\u001b[1;32m    429\u001b[0m display_jupyter_version_warnings()\n\u001b[1;32m    431\u001b[0m ipython_display\u001b[38;5;241m.\u001b[39mdisplay(bundle, raw\u001b[38;5;241m=\u001b[39m\u001b[38;5;28;01mTrue\u001b[39;00m)\n",
      "\u001b[0;31mValueError\u001b[0m: Mime type rendering requires nbformat>=4.2.0 but it is not installed"
     ]
    },
    {
     "data": {
      "application/vnd.plotly.v1+json": {
       "config": {
        "plotlyServerURL": "https://plot.ly"
       },
       "data": [
        {
         "bingroup": "x",
         "hovertemplate": "variable=mean_len<br>value=%{x}<br>count=%{y}<extra></extra>",
         "legendgroup": "mean_len",
         "marker": {
          "color": "#636efa",
          "pattern": {
           "shape": ""
          }
         },
         "name": "mean_len",
         "orientation": "v",
         "showlegend": true,
         "type": "histogram",
         "x": {
          "bdata": "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",
          "dtype": "f8"
         },
         "xaxis": "x",
         "yaxis": "y"
        }
       ],
       "layout": {
        "barmode": "relative",
        "legend": {
         "title": {
          "text": "variable"
         },
         "tracegroupgap": 0
        },
        "margin": {
         "t": 60
        },
        "template": {
         "data": {
          "bar": [
           {
            "error_x": {
             "color": "#2a3f5f"
            },
            "error_y": {
             "color": "#2a3f5f"
            },
            "marker": {
             "line": {
              "color": "#E5ECF6",
              "width": 0.5
             },
             "pattern": {
              "fillmode": "overlay",
              "size": 10,
              "solidity": 0.2
             }
            },
            "type": "bar"
           }
          ],
          "barpolar": [
           {
            "marker": {
             "line": {
              "color": "#E5ECF6",
              "width": 0.5
             },
             "pattern": {
              "fillmode": "overlay",
              "size": 10,
              "solidity": 0.2
             }
            },
            "type": "barpolar"
           }
          ],
          "carpet": [
           {
            "aaxis": {
             "endlinecolor": "#2a3f5f",
             "gridcolor": "white",
             "linecolor": "white",
             "minorgridcolor": "white",
             "startlinecolor": "#2a3f5f"
            },
            "baxis": {
             "endlinecolor": "#2a3f5f",
             "gridcolor": "white",
             "linecolor": "white",
             "minorgridcolor": "white",
             "startlinecolor": "#2a3f5f"
            },
            "type": "carpet"
           }
          ],
          "choropleth": [
           {
            "colorbar": {
             "outlinewidth": 0,
             "ticks": ""
            },
            "type": "choropleth"
           }
          ],
          "contour": [
           {
            "colorbar": {
             "outlinewidth": 0,
             "ticks": ""
            },
            "colorscale": [
             [
              0,
              "#0d0887"
             ],
             [
              0.1111111111111111,
              "#46039f"
             ],
             [
              0.2222222222222222,
              "#7201a8"
             ],
             [
              0.3333333333333333,
              "#9c179e"
             ],
             [
              0.4444444444444444,
              "#bd3786"
             ],
             [
              0.5555555555555556,
              "#d8576b"
             ],
             [
              0.6666666666666666,
              "#ed7953"
             ],
             [
              0.7777777777777778,
              "#fb9f3a"
             ],
             [
              0.8888888888888888,
              "#fdca26"
             ],
             [
              1,
              "#f0f921"
             ]
            ],
            "type": "contour"
           }
          ],
          "contourcarpet": [
           {
            "colorbar": {
             "outlinewidth": 0,
             "ticks": ""
            },
            "type": "contourcarpet"
           }
          ],
          "heatmap": [
           {
            "colorbar": {
             "outlinewidth": 0,
             "ticks": ""
            },
            "colorscale": [
             [
              0,
              "#0d0887"
             ],
             [
              0.1111111111111111,
              "#46039f"
             ],
             [
              0.2222222222222222,
              "#7201a8"
             ],
             [
              0.3333333333333333,
              "#9c179e"
             ],
             [
              0.4444444444444444,
              "#bd3786"
             ],
             [
              0.5555555555555556,
              "#d8576b"
             ],
             [
              0.6666666666666666,
              "#ed7953"
             ],
             [
              0.7777777777777778,
              "#fb9f3a"
             ],
             [
              0.8888888888888888,
              "#fdca26"
             ],
             [
              1,
              "#f0f921"
             ]
            ],
            "type": "heatmap"
           }
          ],
          "histogram": [
           {
            "marker": {
             "pattern": {
              "fillmode": "overlay",
              "size": 10,
              "solidity": 0.2
             }
            },
            "type": "histogram"
           }
          ],
          "histogram2d": [
           {
            "colorbar": {
             "outlinewidth": 0,
             "ticks": ""
            },
            "colorscale": [
             [
              0,
              "#0d0887"
             ],
             [
              0.1111111111111111,
              "#46039f"
             ],
             [
              0.2222222222222222,
              "#7201a8"
             ],
             [
              0.3333333333333333,
              "#9c179e"
             ],
             [
              0.4444444444444444,
              "#bd3786"
             ],
             [
              0.5555555555555556,
              "#d8576b"
             ],
             [
              0.6666666666666666,
              "#ed7953"
             ],
             [
              0.7777777777777778,
              "#fb9f3a"
             ],
             [
              0.8888888888888888,
              "#fdca26"
             ],
             [
              1,
              "#f0f921"
             ]
            ],
            "type": "histogram2d"
           }
          ],
          "histogram2dcontour": [
           {
            "colorbar": {
             "outlinewidth": 0,
             "ticks": ""
            },
            "colorscale": [
             [
              0,
              "#0d0887"
             ],
             [
              0.1111111111111111,
              "#46039f"
             ],
             [
              0.2222222222222222,
              "#7201a8"
             ],
             [
              0.3333333333333333,
              "#9c179e"
             ],
             [
              0.4444444444444444,
              "#bd3786"
             ],
             [
              0.5555555555555556,
              "#d8576b"
             ],
             [
              0.6666666666666666,
              "#ed7953"
             ],
             [
              0.7777777777777778,
              "#fb9f3a"
             ],
             [
              0.8888888888888888,
              "#fdca26"
             ],
             [
              1,
              "#f0f921"
             ]
            ],
            "type": "histogram2dcontour"
           }
          ],
          "mesh3d": [
           {
            "colorbar": {
             "outlinewidth": 0,
             "ticks": ""
            },
            "type": "mesh3d"
           }
          ],
          "parcoords": [
           {
            "line": {
             "colorbar": {
              "outlinewidth": 0,
              "ticks": ""
             }
            },
            "type": "parcoords"
           }
          ],
          "pie": [
           {
            "automargin": true,
            "type": "pie"
           }
          ],
          "scatter": [
           {
            "fillpattern": {
             "fillmode": "overlay",
             "size": 10,
             "solidity": 0.2
            },
            "type": "scatter"
           }
          ],
          "scatter3d": [
           {
            "line": {
             "colorbar": {
              "outlinewidth": 0,
              "ticks": ""
             }
            },
            "marker": {
             "colorbar": {
              "outlinewidth": 0,
              "ticks": ""
             }
            },
            "type": "scatter3d"
           }
          ],
          "scattercarpet": [
           {
            "marker": {
             "colorbar": {
              "outlinewidth": 0,
              "ticks": ""
             }
            },
            "type": "scattercarpet"
           }
          ],
          "scattergeo": [
           {
            "marker": {
             "colorbar": {
              "outlinewidth": 0,
              "ticks": ""
             }
            },
            "type": "scattergeo"
           }
          ],
          "scattergl": [
           {
            "marker": {
             "colorbar": {
              "outlinewidth": 0,
              "ticks": ""
             }
            },
            "type": "scattergl"
           }
          ],
          "scattermap": [
           {
            "marker": {
             "colorbar": {
              "outlinewidth": 0,
              "ticks": ""
             }
            },
            "type": "scattermap"
           }
          ],
          "scattermapbox": [
           {
            "marker": {
             "colorbar": {
              "outlinewidth": 0,
              "ticks": ""
             }
            },
            "type": "scattermapbox"
           }
          ],
          "scatterpolar": [
           {
            "marker": {
             "colorbar": {
              "outlinewidth": 0,
              "ticks": ""
             }
            },
            "type": "scatterpolar"
           }
          ],
          "scatterpolargl": [
           {
            "marker": {
             "colorbar": {
              "outlinewidth": 0,
              "ticks": ""
             }
            },
            "type": "scatterpolargl"
           }
          ],
          "scatterternary": [
           {
            "marker": {
             "colorbar": {
              "outlinewidth": 0,
              "ticks": ""
             }
            },
            "type": "scatterternary"
           }
          ],
          "surface": [
           {
            "colorbar": {
             "outlinewidth": 0,
             "ticks": ""
            },
            "colorscale": [
             [
              0,
              "#0d0887"
             ],
             [
              0.1111111111111111,
              "#46039f"
             ],
             [
              0.2222222222222222,
              "#7201a8"
             ],
             [
              0.3333333333333333,
              "#9c179e"
             ],
             [
              0.4444444444444444,
              "#bd3786"
             ],
             [
              0.5555555555555556,
              "#d8576b"
             ],
             [
              0.6666666666666666,
              "#ed7953"
             ],
             [
              0.7777777777777778,
              "#fb9f3a"
             ],
             [
              0.8888888888888888,
              "#fdca26"
             ],
             [
              1,
              "#f0f921"
             ]
            ],
            "type": "surface"
           }
          ],
          "table": [
           {
            "cells": {
             "fill": {
              "color": "#EBF0F8"
             },
             "line": {
              "color": "white"
             }
            },
            "header": {
             "fill": {
              "color": "#C8D4E3"
             },
             "line": {
              "color": "white"
             }
            },
            "type": "table"
           }
          ]
         },
         "layout": {
          "annotationdefaults": {
           "arrowcolor": "#2a3f5f",
           "arrowhead": 0,
           "arrowwidth": 1
          },
          "autotypenumbers": "strict",
          "coloraxis": {
           "colorbar": {
            "outlinewidth": 0,
            "ticks": ""
           }
          },
          "colorscale": {
           "diverging": [
            [
             0,
             "#8e0152"
            ],
            [
             0.1,
             "#c51b7d"
            ],
            [
             0.2,
             "#de77ae"
            ],
            [
             0.3,
             "#f1b6da"
            ],
            [
             0.4,
             "#fde0ef"
            ],
            [
             0.5,
             "#f7f7f7"
            ],
            [
             0.6,
             "#e6f5d0"
            ],
            [
             0.7,
             "#b8e186"
            ],
            [
             0.8,
             "#7fbc41"
            ],
            [
             0.9,
             "#4d9221"
            ],
            [
             1,
             "#276419"
            ]
           ],
           "sequential": [
            [
             0,
             "#0d0887"
            ],
            [
             0.1111111111111111,
             "#46039f"
            ],
            [
             0.2222222222222222,
             "#7201a8"
            ],
            [
             0.3333333333333333,
             "#9c179e"
            ],
            [
             0.4444444444444444,
             "#bd3786"
            ],
            [
             0.5555555555555556,
             "#d8576b"
            ],
            [
             0.6666666666666666,
             "#ed7953"
            ],
            [
             0.7777777777777778,
             "#fb9f3a"
            ],
            [
             0.8888888888888888,
             "#fdca26"
            ],
            [
             1,
             "#f0f921"
            ]
           ],
           "sequentialminus": [
            [
             0,
             "#0d0887"
            ],
            [
             0.1111111111111111,
             "#46039f"
            ],
            [
             0.2222222222222222,
             "#7201a8"
            ],
            [
             0.3333333333333333,
             "#9c179e"
            ],
            [
             0.4444444444444444,
             "#bd3786"
            ],
            [
             0.5555555555555556,
             "#d8576b"
            ],
            [
             0.6666666666666666,
             "#ed7953"
            ],
            [
             0.7777777777777778,
             "#fb9f3a"
            ],
            [
             0.8888888888888888,
             "#fdca26"
            ],
            [
             1,
             "#f0f921"
            ]
           ]
          },
          "colorway": [
           "#636efa",
           "#EF553B",
           "#00cc96",
           "#ab63fa",
           "#FFA15A",
           "#19d3f3",
           "#FF6692",
           "#B6E880",
           "#FF97FF",
           "#FECB52"
          ],
          "font": {
           "color": "#2a3f5f"
          },
          "geo": {
           "bgcolor": "white",
           "lakecolor": "white",
           "landcolor": "#E5ECF6",
           "showlakes": true,
           "showland": true,
           "subunitcolor": "white"
          },
          "hoverlabel": {
           "align": "left"
          },
          "hovermode": "closest",
          "mapbox": {
           "style": "light"
          },
          "paper_bgcolor": "white",
          "plot_bgcolor": "#E5ECF6",
          "polar": {
           "angularaxis": {
            "gridcolor": "white",
            "linecolor": "white",
            "ticks": ""
           },
           "bgcolor": "#E5ECF6",
           "radialaxis": {
            "gridcolor": "white",
            "linecolor": "white",
            "ticks": ""
           }
          },
          "scene": {
           "xaxis": {
            "backgroundcolor": "#E5ECF6",
            "gridcolor": "white",
            "gridwidth": 2,
            "linecolor": "white",
            "showbackground": true,
            "ticks": "",
            "zerolinecolor": "white"
           },
           "yaxis": {
            "backgroundcolor": "#E5ECF6",
            "gridcolor": "white",
            "gridwidth": 2,
            "linecolor": "white",
            "showbackground": true,
            "ticks": "",
            "zerolinecolor": "white"
           },
           "zaxis": {
            "backgroundcolor": "#E5ECF6",
            "gridcolor": "white",
            "gridwidth": 2,
            "linecolor": "white",
            "showbackground": true,
            "ticks": "",
            "zerolinecolor": "white"
           }
          },
          "shapedefaults": {
           "line": {
            "color": "#2a3f5f"
           }
          },
          "ternary": {
           "aaxis": {
            "gridcolor": "white",
            "linecolor": "white",
            "ticks": ""
           },
           "baxis": {
            "gridcolor": "white",
            "linecolor": "white",
            "ticks": ""
           },
           "bgcolor": "#E5ECF6",
           "caxis": {
            "gridcolor": "white",
            "linecolor": "white",
            "ticks": ""
           }
          },
          "title": {
           "x": 0.05
          },
          "xaxis": {
           "automargin": true,
           "gridcolor": "white",
           "linecolor": "white",
           "ticks": "",
           "title": {
            "standoff": 15
           },
           "zerolinecolor": "white",
           "zerolinewidth": 2
          },
          "yaxis": {
           "automargin": true,
           "gridcolor": "white",
           "linecolor": "white",
           "ticks": "",
           "title": {
            "standoff": 15
           },
           "zerolinecolor": "white",
           "zerolinewidth": 2
          }
         }
        },
        "xaxis": {
         "anchor": "y",
         "domain": [
          0,
          1
         ],
         "title": {
          "text": "value"
         }
        },
        "yaxis": {
         "anchor": "x",
         "domain": [
          0,
          1
         ],
         "title": {
          "text": "count"
         }
        }
       }
      },
      "text/html": [
       "<div>                        <script type=\"text/javascript\">window.PlotlyConfig = {MathJaxConfig: 'local'};</script>\n",
       "        <script charset=\"utf-8\" src=\"https://cdn.plot.ly/plotly-3.0.1.min.js\"></script>                <div id=\"d1ced348-3e00-435f-9646-713628351444\" class=\"plotly-graph-div\" style=\"height:100%; width:100%;\"></div>            <script type=\"text/javascript\">                window.PLOTLYENV=window.PLOTLYENV || {};                                if (document.getElementById(\"d1ced348-3e00-435f-9646-713628351444\")) {                    Plotly.newPlot(                        \"d1ced348-3e00-435f-9646-713628351444\",                        [{\"bingroup\":\"x\",\"hovertemplate\":\"variable=mean_len\\u003cbr\\u003evalue=%{x}\\u003cbr\\u003ecount=%{y}\\u003cextra\\u003e\\u003c\\u002fextra\\u003e\",\"legendgroup\":\"mean_len\",\"marker\":{\"color\":\"#636efa\",\"pattern\":{\"shape\":\"\"}},\"name\":\"mean_len\",\"orientation\":\"v\",\"showlegend\":true,\"x\":{\"dtype\":\"f8\",\"bdata\":\"AAAAAAAA+H8AAAAAAAD4fwAAAAAAAAhAAAAAAAAA+H8AAAAAAAAIQAAAAAAAAAhAAAAAAABAZEAAAAAAAFiIQAAAAAAAAAhAAAAAAACgZkAAAAAAAAAIQAAAAAAAYHJAAAAAAAAACEAAAAAAAKB1QAAAAAAAIGRAAAAAAAAACEAAAAAAAAD4fwAAAAAAYGFAAAAAAACAUkAAAAAAAAAIQAAAAAAAAPh\\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\\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\\u002fAAAAAAAA+H8AAAAAAABYQAAAAAAAQGBAAAAAAADgc0AAAAAAAGBhQAAAAAAAIGNAAAAAAABgZEAAAAAAADBwQAAAAAAAQGZAAAAAAACAY0AAAAAAAGBqQAAAAAAAADtAAAAAAABAY0AAAAAAAOBlQAAAAAAAQGFAAAAAAACgakAAAAAAAIBiQAAAAAAAoGlAAAAAAAAARkAAAAAAANB0QAAAAAAA4GZAAAAAAABAYUAAAAAAAMBRQAAAAAAAgGdAAAAAAABgekAAAAAAAGByQAAAAAAA4G9AAAAAAACgYEAAAAAAAIBuQAAAAAAAQFdAAAAAAACAa0AAAAAAAKBsQAAAAAAAAGRAAAAAAAAAZ0AAAAAAAMBlQAAAAAAAoHRAAAAAAACAW0AAAAAAAOBiQAAAAAAAAFZAAAAAAABgcEAAAAAAAHBzQAAAAAAAIG5AAAAAAACQcUAAAAAAACBkQAAAAAAA4HVAAAAAAABAXUAAAAAAAEBVQAAAAAAAAFtAAAAAAABAYEAAAAAAAABgQAAAAAAAgFBAAAAAAADAVkAAAAAAAEBcQAAAAAAAQF1AAAAAAABAYEAAAAAAAEBpQAAAAAAAEHRAAAAAAAAgYUAAAAAAAABoQAAAAAAAwFlAAAAAAAAgbEAAAAAAAABtQAAAAAAA8HJAAAAAAAAga0AAAAAAAKBsQAAAAAAAgGNAAAAAAADgaUAAAAAAAABdQAAAAAAAAPh\\u002fAAAAAADAYkAAAAAAAAA1QAAAAAAAcHJAAAAAAACgaEAAAAAAAMBcQAAAAAAAwFRAAAAAAABgYEAAAAAAAEBlQAAAAAAAAGJAAAAAAABgcEAAAAAAAAD4fwAAAAAAoGZAAAAAAADAVkAAAAAAAEBnQAAAAAAAoGxAAAAAAADwcEAAAAAAAAA0QAAAAAAAgFtAAAAAAAAAN0AAAAAAAABbQAAAAAAAgFtAAAAAAABAUEAAAAAAAMBhQAAAAAAAIG1AAAAAAADAekAAAAAAAOBkQAAAAAAA4GRAAAAAAABAVUAAAAAAAIBOQAAAAAAAoG9AAAAAAAAgYkAAAAAAAAA2QAAAAAAA4G5AAAAAAADgZ0AAAAAAAMBaQAAAAAAAcHBAAAAAAACgYUAAAAAAAABbQAAAAAAAAGZAAAAAAABgdEAAAAAAACBnQAAAAAAAgGJAAAAAAAAQcEAAAAAAAMBtQAAAAAAAwGtAAAAAAADgYEAAAAAAAABQQAAAAAAAYGlAAAAAAACgYUAAAAAAAABtQAAAAAAAcHRAAAAAAACgZUAAAAAAAAD4fwAAAAAAMHBAAAAAAACgYUAAAAAAAEBgQAAAAAAA0HdAAAAAAACgbkAAAAAAAIBZQAAAAAAAUHRAAAAAAACgZ0AAAAAAACBxQAAAAAAAQGlAAAAAAAAAMUAAAAAAAEBXQAAAAAAA4GRAAAAAAADgcUAAAAAAAIBoQAAAAAAA4GhAAAAAAABAU0AAAAAAALB0QAAAAAAAoGdAAAAAAAAgcEAAAAAAAABkQAAAAAAAgG1AAAAAAAAAOEAAAAAAAAA0QAAAAAAAYGJAAAAAAAAAX0AAAAAAAAA2QAAAAAAAoHJAAAAAAABgcEAAAAAAAEBbQAAAAAAAAEpAAAAAAABAYkAAAAAAAOBgQAAAAAAAQFdAAAAAAAAAU0AAAAAAAAAwQAAAAAAAAFtAAAAAAACAS0AAAAAAAOBpQAAAAAAAwG1AAAAAAAD4gEAAAAAAACBqQAAAAAAAoGpAAAAAAABAY0AAAAAAAEBfQAAAAAAAAGtAAAAAAABAYEAAAAAAACCCQAAAAAAAAFxAAAAAAACAXUAAAAAAAPBwQAAAAAAAwGRAAAAAAABAbEAAAAAAAIBvQAAAAAAAIGtAAAAAAABAakAAAAAAAEBVQAAAAAAAgG9AAAAAAADwc0AAAAAAAIBrQAAAAAAAAGdAAAAAAACwdkAAAAAAAEiBQAAAAAAA4GFAAAAAAAAAWkAAAAAAAABuQAAAAAAAgGpAAAAAAABQcEAAAAAAAAAwQAAAAAAAgGNAAAAAAACAVEAAAAAAAAByQAAAAAAAADZAAAAAAADweEAAAAAAAAA6QAAAAAAAIGtAAAAAAACAV0AAAAAAAEBVQAAAAAAAkHVAAAAAAACQcEAAAAAAAAA2QAAAAAAAoGtAAAAAAACgYEAAAAAAAAD4fwAAAAAAcHRAAAAAAAAAMUAAAAAAAEBjQAAAAAAAIGBAAAAAAAAAWkAAAAAAACBgQAAAAAAAgFtAAAAAAADAdEAAAAAAAAD4fwAAAAAA4GJAAAAAAAAAZEAAAAAAAAD4fwAAAAAAADFAAAAAAADgbkAAAAAAAABlQAAAAAAAAPh\\u002fAAAAAADAa0AAAAAAAJBxQAAAAAAAEHJAAAAAAACAcUAAAAAAALBwQAAAAAAAAHFAAAAAAAAwc0AAAAAAACBmQAAAAAAAwFJAAAAAAACAZUAAAAAAAMB0QAAAAAAAAF5AAAAAAAAA+H8AAAAAAPBwQAAAAAAAAPh\\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\\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\\u002fAAAAAAAA+H8AAAAAAEBaQAAAAAAAAPh\\u002fAAAAAAAAXUAAAAAAAIBiQAAAAAAA4GNAAAAAAADAZUAAAAAAAJB1QAAAAAAAIGhAAAAAAADgdkAAAAAAAIBtQAAAAAAAADBAAAAAAAAALkAAAAAAAIBhQAAAAAAAADNAAAAAAAAAMkAAAAAAAMBcQAAAAAAAAGFAAAAAAADgckAAAAAAAMBhQAAAAAAAoGBAAAAAAABgcEAAAAAAAKBvQAAAAAAAwGtAAAAAAABgcUAAAAAAAIB7QAAAAAAAIHBAAAAAAABAakAAAAAAAIBXQAAAAAAAIGZAAAAAAABgekAAAAAAAIBWQAAAAAAAQFJAAAAAAABAXkAAAAAAACiBQAAAAAAAQFxAAAAAAABgY0AAAAAAAABZQAAAAAAAQGJAAAAAAAAANkAAAAAAAFB1QAAAAAAAQFtAAAAAAABAVkAAAAAAAEBfQAAAAAAAUHFAAAAAAAAAa0AAAAAAAGBlQAAAAAAAgFdAAAAAAAAAZUAAAAAAAMBQQAAAAAAAsHlAAAAAAACAZEAAAAAAAKBqQAAAAAAAgGJAAAAAAADAdEAAAAAAACBrQAAAAAAAIGRAAAAAAABQckAAAAAAAEBoQAAAAAAAAPh\\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\\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\\u002fAAAAAACAWUAAAAAAAOBnQAAAAAAAIGNAAAAAAACAaEAAAAAAAABnQAAAAAAAgGFAAAAAAABAZEAAAAAAAOBmQAAAAAAAwFdAAAAAAAAAYUAAAAAAAIBlQAAAAAAAQHJAAAAAAABgaUAAAAAAAJByQAAAAAAAMHBAAAAAAADgaEAAAAAAAAA1QAAAAAAAcHFAAAAAAABAa0AAAAAAAEBTQAAAAAAAoGdAAAAAAAAAX0AAAAAAAEBkQAAAAAAAAF1AAAAAAACweEAAAAAAAGB1QAAAAAAAAGJAAAAAAABAakAAAAAAAIBVQAAAAAAAgEpAAAAAAADAZUAAAAAAAIBRQAAAAAAAwFZAAAAAAADAWkAAAAAAAGByQAAAAAAAAPA\\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\\u002fAAAAAADgZ0AAAAAAANBxQAAAAAAAQGhAAAAAAAAAXEAAAAAAAGBmQAAAAAAAwGZAAAAAAACAZEAAAAAAALB0QAAAAAAAwF5AAAAAAACASUAAAAAAAIBXQAAAAAAAYHBAAAAAAACAaUAAAAAAACBlQAAAAAAAQGJAAAAAAAAA+H8AAAAAAAD4fwAAAAAAwFpAAAAAAACgbkAAAAAAAIBXQAAAAAAAuIRAAAAAAACAeEAAAAAAAEB+QAAAAAAAAGVAAAAAAACAZkAAAAAAAAB4QAAAAAAAgG5AAAAAAAAwcEAAAAAAAADwPwAAAAAAgF5AAAAAAAAA8D8AAAAAAHB1QAAAAAAAAEtAAAAAAAAAEEAAAAAAAAAQQAAAAAAAABBAAAAAAAAAAEAAAAAAAAAQQAAAAAAAABBAAAAAAADAV0AAAAAAAAAQQAAAAAAAABBAAAAAAABgZUAAAAAAAAAQQAAAAAAAwGRAAAAAAAAgekAAAAAAAADwPwAAAAAAAAhAAAAAAAAAMkAAAAAAAAAQQAAAAAAAABBAAAAAAAAAPEAAAAAAAEBRQAAAAAAAABBAAAAAAAAANkAAAAAAAAAQQAAAAAAAABBAAAAAAAAgbUAAAAAAAAAQQAAAAAAAgF1AAAAAAAAAEEAAAAAAAAAQQAAAAAAAABBAAAAAAADwfEAAAAAAAIBAQAAAAAAAABBAAAAAAADgZUAAAAAAAAAQQAAAAAAAABBAAAAAAAAAEEAAAAAAAAAQQAAAAAAAABBAAAAAAAAAEEAAAAAAAABuQAAAAAAAABBAAAAAAAAAEEAAAAAAAAAQQAAAAAAAoGJAAAAAAABga0AAAAAAAAAQQAAAAAAAABBAAAAAAACAYEAAAAAAAAAQQAAAAAAAABBAAAAAAAAAEEAAAAAAAAAQQAAAAAAAABBAAAAAAADgb0AAAAAAAAAQQAAAAAAAABBAAAAAAAAAEEAAAAAAAAAQQAAAAAAAABBAAAAAAAAANUAAAAAAAAByQAAAAAAAQGdAAAAAAADgaUAAAAAAAAAQQAAAAAAAAGZAAAAAAAAACEAAAAAAAADwPwAAAAAAYGBAAAAAAABAVUAAAAAAAAAQQAAAAAAAABBAAAAAAADga0AAAAAAAEBhQAAAAAAAQFlAAAAAAABAcUAAAAAAACBnQAAAAAAAABBAAAAAAAAAEEAAAAAAAAAQQAAAAAAAABBAAAAAAAAAM0AAAAAAAIBsQAAAAAAAABBAAAAAAAAgYkAAAAAAAABbQAAAAAAAABBAAAAAAAAAEEAAAAAAAMBrQAAAAAAAABBAAAAAAAAAEEAAAAAAAAAQQAAAAAAAADJAAAAAAAAAXEAAAAAAAAAQQAAAAAAAIGZAAAAAAAAAAEAAAAAAAAAIQAAAAAAAADZAAAAAAABgZUAAAAAAAAAQQAAAAAAAABBAAAAAAAAAEEAAAAAAAAA3QAAAAAAAABBAAAAAAAAAYkAAAAAAAGB3QAAAAAAAABBAAAAAAABQeUAAAAAAAAAQQAAAAAAAADNAAAAAAAAAEEAAAAAAAAAQQAAAAAAAAFhAAAAAAAAAEEAAAAAAAMBcQAAAAAAAABBAAAAAAAAAOEAAAAAAAAAQQAAAAAAAABBAAAAAAAAAEEAAAAAAAAAQQAAAAAAAAPA\\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\\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\\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\\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\\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\\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\\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\\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\\u002fQAAAAAAAYGJAAAAAAADgYUAAAAAAAABpQAAAAAAA8HBAAAAAAACgY0AAAAAAAMBlQAAAAAAAADVAAAAAAADgY0AAAAAAAAA5QAAAAAAAwGxAAAAAAACgcEAAAAAAAABYQAAAAAAAIGJAAAAAAACgYUAAAAAAAEBrQAAAAAAAgGhAAAAAAACgdUAAAAAAAABxQAAAAAAAADFAAAAAAADgb0AAAAAAAKBoQAAAAAAAAGhAAAAAAADgZEAAAAAAAABhQAAAAAAAAGFAAAAAAADgb0AAAAAAAIBUQAAAAAAAADlAAAAAAACAaUAAAAAAAMBlQAAAAAAAwG1AAAAAAABAdUAAAAAAACBkQAAAAAAAAGBAAAAAAAAAZEAAAAAAAGB0QAAAAAAA4G5AAAAAAACAZkAAAAAAAIBoQAAAAAAAwHFAAAAAAACATkAAAAAAAEBXQAAAAAAAQFdAAAAAAABgYUAAAAAAAFBxQAAAAAAAgFFAAAAAAABgcUAAAAAAAIBoQAAAAAAAgGVAAAAAAAAAakAAAAAAAIByQAAAAAAAsHdAAAAAAAAAbEAAAAAAAMBuQAAAAAAAgFBAAAAAAAAANEAAAAAAACBzQAAAAAAA0HFAAAAAAADAY0AAAAAAAABkQAAAAAAAAPh\\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\\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\\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\\u002fAAAAAAAA+H8AAAAAAMBvQAAAAAAAwGNAAAAAAABAaEAAAAAAAOBlQAAAAAAAwGJAAAAAAACAYUAAAAAAAAAzQAAAAAAAIGFAAAAAAADQdUAAAAAAAGBhQAAAAAAAwF5AAAAAAAAggUAAAAAAAABoQAAAAAAAAF1AAAAAAACAWEAAAAAAAOByQAAAAAAAAFVAAAAAAAAgaUAAAAAAAFCAQAAAAAAA4GFAAAAAAACAXUAAAAAAAABkQAAAAAAA4GJAAAAAAABgcEAAAAAAAJBwQAAAAAAA4GxAAAAAAACgdkAAAAAAAEBjQAAAAAAAgF1AAAAAAACAaUAAAAAAANBxQAAAAAAAYHdAAAAAAACQckAAAAAAAKBgQAAAAAAAAFFAAAAAAACAbkAAAAAAAFB4QAAAAAAAwFBAAAAAAACQcEAAAAAAAIBLQAAAAAAAgGRAAAAAAABAZ0AAAAAAAGBvQAAAAAAAwFlAAAAAAABAWUAAAAAAANByQAAAAAAA4GxAAAAAAAAAckAAAAAAAGBzQAAAAAAAAPA\\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\\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\\u002fQAAAAAAAMHFAAAAAAABAWEAAAAAAAMBWQAAAAAAA0HJAAAAAAACgZkAAAAAAAIBQQAAAAAAAgFVAAAAAAAAgaEAAAAAAAPB6QAAAAAAAwFhAAAAAAABgaUAAAAAAAEBcQAAAAAAAAFZA\"},\"xaxis\":\"x\",\"yaxis\":\"y\",\"type\":\"histogram\"}],                        {\"template\":{\"data\":{\"histogram2dcontour\":[{\"type\":\"histogram2dcontour\",\"colorbar\":{\"outlinewidth\":0,\"ticks\":\"\"},\"colorscale\":[[0.0,\"#0d0887\"],[0.1111111111111111,\"#46039f\"],[0.2222222222222222,\"#7201a8\"],[0.3333333333333333,\"#9c179e\"],[0.4444444444444444,\"#bd3786\"],[0.5555555555555556,\"#d8576b\"],[0.6666666666666666,\"#ed7953\"],[0.7777777777777778,\"#fb9f3a\"],[0.8888888888888888,\"#fdca26\"],[1.0,\"#f0f921\"]]}],\"choropleth\":[{\"type\":\"choropleth\",\"colorbar\":{\"outlinewidth\":0,\"ticks\":\"\"}}],\"histogram2d\":[{\"type\":\"histogram2d\",\"colorbar\":{\"outlinewidth\":0,\"ticks\":\"\"},\"colorscale\":[[0.0,\"#0d0887\"],[0.1111111111111111,\"#46039f\"],[0.2222222222222222,\"#7201a8\"],[0.3333333333333333,\"#9c179e\"],[0.4444444444444444,\"#bd3786\"],[0.5555555555555556,\"#d8576b\"],[0.6666666666666666,\"#ed7953\"],[0.7777777777777778,\"#fb9f3a\"],[0.8888888888888888,\"#fdca26\"],[1.0,\"#f0f921\"]]}],\"heatmap\":[{\"type\":\"heatmap\",\"colorbar\":{\"outlinewidth\":0,\"ticks\":\"\"},\"colorscale\":[[0.0,\"#0d0887\"],[0.1111111111111111,\"#46039f\"],[0.2222222222222222,\"#7201a8\"],[0.3333333333333333,\"#9c179e\"],[0.4444444444444444,\"#bd3786\"],[0.5555555555555556,\"#d8576b\"],[0.6666666666666666,\"#ed7953\"],[0.7777777777777778,\"#fb9f3a\"],[0.8888888888888888,\"#fdca26\"],[1.0,\"#f0f921\"]]}],\"contourcarpet\":[{\"type\":\"contourcarpet\",\"colorbar\":{\"outlinewidth\":0,\"ticks\":\"\"}}],\"contour\":[{\"type\":\"contour\",\"colorbar\":{\"outlinewidth\":0,\"ticks\":\"\"},\"colorscale\":[[0.0,\"#0d0887\"],[0.1111111111111111,\"#46039f\"],[0.2222222222222222,\"#7201a8\"],[0.3333333333333333,\"#9c179e\"],[0.4444444444444444,\"#bd3786\"],[0.5555555555555556,\"#d8576b\"],[0.6666666666666666,\"#ed7953\"],[0.7777777777777778,\"#fb9f3a\"],[0.8888888888888888,\"#fdca26\"],[1.0,\"#f0f921\"]]}],\"surface\":[{\"type\":\"surface\",\"colorbar\":{\"outlinewidth\":0,\"ticks\":\"\"},\"colorscale\":[[0.0,\"#0d0887\"],[0.1111111111111111,\"#46039f\"],[0.2222222222222222,\"#7201a8\"],[0.3333333333333333,\"#9c179e\"],[0.4444444444444444,\"#bd3786\"],[0.5555555555555556,\"#d8576b\"],[0.6666666666666666,\"#ed7953\"],[0.7777777777777778,\"#fb9f3a\"],[0.8888888888888888,\"#fdca26\"],[1.0,\"#f0f921\"]]}],\"mesh3d\":[{\"type\":\"mesh3d\",\"colorbar\":{\"outlinewidth\":0,\"ticks\":\"\"}}],\"scatter\":[{\"fillpattern\":{\"fillmode\":\"overlay\",\"size\":10,\"solidity\":0.2},\"type\":\"scatter\"}],\"parcoords\":[{\"type\":\"parcoords\",\"line\":{\"colorbar\":{\"outlinewidth\":0,\"ticks\":\"\"}}}],\"scatterpolargl\":[{\"type\":\"scatterpolargl\",\"marker\":{\"colorbar\":{\"outlinewidth\":0,\"ticks\":\"\"}}}],\"bar\":[{\"error_x\":{\"color\":\"#2a3f5f\"},\"error_y\":{\"color\":\"#2a3f5f\"},\"marker\":{\"line\":{\"color\":\"#E5ECF6\",\"width\":0.5},\"pattern\":{\"fillmode\":\"overlay\",\"size\":10,\"solidity\":0.2}},\"type\":\"bar\"}],\"scattergeo\":[{\"type\":\"scattergeo\",\"marker\":{\"colorbar\":{\"outlinewidth\":0,\"ticks\":\"\"}}}],\"scatterpolar\":[{\"type\":\"scatterpolar\",\"marker\":{\"colorbar\":{\"outlinewidth\":0,\"ticks\":\"\"}}}],\"histogram\":[{\"marker\":{\"pattern\":{\"fillmode\":\"overlay\",\"size\":10,\"solidity\":0.2}},\"type\":\"histogram\"}],\"scattergl\":[{\"type\":\"scattergl\",\"marker\":{\"colorbar\":{\"outlinewidth\":0,\"ticks\":\"\"}}}],\"scatter3d\":[{\"type\":\"scatter3d\",\"line\":{\"colorbar\":{\"outlinewidth\":0,\"ticks\":\"\"}},\"marker\":{\"colorbar\":{\"outlinewidth\":0,\"ticks\":\"\"}}}],\"scattermap\":[{\"type\":\"scattermap\",\"marker\":{\"colorbar\":{\"outlinewidth\":0,\"ticks\":\"\"}}}],\"scattermapbox\":[{\"type\":\"scattermapbox\",\"marker\":{\"colorbar\":{\"outlinewidth\":0,\"ticks\":\"\"}}}],\"scatterternary\":[{\"type\":\"scatterternary\",\"marker\":{\"colorbar\":{\"outlinewidth\":0,\"ticks\":\"\"}}}],\"scattercarpet\":[{\"type\":\"scattercarpet\",\"marker\":{\"colorbar\":{\"outlinewidth\":0,\"ticks\":\"\"}}}],\"carpet\":[{\"aaxis\":{\"endlinecolor\":\"#2a3f5f\",\"gridcolor\":\"white\",\"linecolor\":\"white\",\"minorgridcolor\":\"white\",\"startlinecolor\":\"#2a3f5f\"},\"baxis\":{\"endlinecolor\":\"#2a3f5f\",\"gridcolor\":\"white\",\"linecolor\":\"white\",\"minorgridcolor\":\"white\",\"startlinecolor\":\"#2a3f5f\"},\"type\":\"carpet\"}],\"table\":[{\"cells\":{\"fill\":{\"color\":\"#EBF0F8\"},\"line\":{\"color\":\"white\"}},\"header\":{\"fill\":{\"color\":\"#C8D4E3\"},\"line\":{\"color\":\"white\"}},\"type\":\"table\"}],\"barpolar\":[{\"marker\":{\"line\":{\"color\":\"#E5ECF6\",\"width\":0.5},\"pattern\":{\"fillmode\":\"overlay\",\"size\":10,\"solidity\":0.2}},\"type\":\"barpolar\"}],\"pie\":[{\"automargin\":true,\"type\":\"pie\"}]},\"layout\":{\"autotypenumbers\":\"strict\",\"colorway\":[\"#636efa\",\"#EF553B\",\"#00cc96\",\"#ab63fa\",\"#FFA15A\",\"#19d3f3\",\"#FF6692\",\"#B6E880\",\"#FF97FF\",\"#FECB52\"],\"font\":{\"color\":\"#2a3f5f\"},\"hovermode\":\"closest\",\"hoverlabel\":{\"align\":\"left\"},\"paper_bgcolor\":\"white\",\"plot_bgcolor\":\"#E5ECF6\",\"polar\":{\"bgcolor\":\"#E5ECF6\",\"angularaxis\":{\"gridcolor\":\"white\",\"linecolor\":\"white\",\"ticks\":\"\"},\"radialaxis\":{\"gridcolor\":\"white\",\"linecolor\":\"white\",\"ticks\":\"\"}},\"ternary\":{\"bgcolor\":\"#E5ECF6\",\"aaxis\":{\"gridcolor\":\"white\",\"linecolor\":\"white\",\"ticks\":\"\"},\"baxis\":{\"gridcolor\":\"white\",\"linecolor\":\"white\",\"ticks\":\"\"},\"caxis\":{\"gridcolor\":\"white\",\"linecolor\":\"white\",\"ticks\":\"\"}},\"coloraxis\":{\"colorbar\":{\"outlinewidth\":0,\"ticks\":\"\"}},\"colorscale\":{\"sequential\":[[0.0,\"#0d0887\"],[0.1111111111111111,\"#46039f\"],[0.2222222222222222,\"#7201a8\"],[0.3333333333333333,\"#9c179e\"],[0.4444444444444444,\"#bd3786\"],[0.5555555555555556,\"#d8576b\"],[0.6666666666666666,\"#ed7953\"],[0.7777777777777778,\"#fb9f3a\"],[0.8888888888888888,\"#fdca26\"],[1.0,\"#f0f921\"]],\"sequentialminus\":[[0.0,\"#0d0887\"],[0.1111111111111111,\"#46039f\"],[0.2222222222222222,\"#7201a8\"],[0.3333333333333333,\"#9c179e\"],[0.4444444444444444,\"#bd3786\"],[0.5555555555555556,\"#d8576b\"],[0.6666666666666666,\"#ed7953\"],[0.7777777777777778,\"#fb9f3a\"],[0.8888888888888888,\"#fdca26\"],[1.0,\"#f0f921\"]],\"diverging\":[[0,\"#8e0152\"],[0.1,\"#c51b7d\"],[0.2,\"#de77ae\"],[0.3,\"#f1b6da\"],[0.4,\"#fde0ef\"],[0.5,\"#f7f7f7\"],[0.6,\"#e6f5d0\"],[0.7,\"#b8e186\"],[0.8,\"#7fbc41\"],[0.9,\"#4d9221\"],[1,\"#276419\"]]},\"xaxis\":{\"gridcolor\":\"white\",\"linecolor\":\"white\",\"ticks\":\"\",\"title\":{\"standoff\":15},\"zerolinecolor\":\"white\",\"automargin\":true,\"zerolinewidth\":2},\"yaxis\":{\"gridcolor\":\"white\",\"linecolor\":\"white\",\"ticks\":\"\",\"title\":{\"standoff\":15},\"zerolinecolor\":\"white\",\"automargin\":true,\"zerolinewidth\":2},\"scene\":{\"xaxis\":{\"backgroundcolor\":\"#E5ECF6\",\"gridcolor\":\"white\",\"linecolor\":\"white\",\"showbackground\":true,\"ticks\":\"\",\"zerolinecolor\":\"white\",\"gridwidth\":2},\"yaxis\":{\"backgroundcolor\":\"#E5ECF6\",\"gridcolor\":\"white\",\"linecolor\":\"white\",\"showbackground\":true,\"ticks\":\"\",\"zerolinecolor\":\"white\",\"gridwidth\":2},\"zaxis\":{\"backgroundcolor\":\"#E5ECF6\",\"gridcolor\":\"white\",\"linecolor\":\"white\",\"showbackground\":true,\"ticks\":\"\",\"zerolinecolor\":\"white\",\"gridwidth\":2}},\"shapedefaults\":{\"line\":{\"color\":\"#2a3f5f\"}},\"annotationdefaults\":{\"arrowcolor\":\"#2a3f5f\",\"arrowhead\":0,\"arrowwidth\":1},\"geo\":{\"bgcolor\":\"white\",\"landcolor\":\"#E5ECF6\",\"subunitcolor\":\"white\",\"showland\":true,\"showlakes\":true,\"lakecolor\":\"white\"},\"title\":{\"x\":0.05},\"mapbox\":{\"style\":\"light\"}}},\"xaxis\":{\"anchor\":\"y\",\"domain\":[0.0,1.0],\"title\":{\"text\":\"value\"}},\"yaxis\":{\"anchor\":\"x\",\"domain\":[0.0,1.0],\"title\":{\"text\":\"count\"}},\"legend\":{\"title\":{\"text\":\"variable\"},\"tracegroupgap\":0},\"margin\":{\"t\":60},\"barmode\":\"relative\"},                        {\"responsive\": true}                    )                };            </script>        </div>"
      ],
      "text/plain": [
       "Figure({\n",
       "    'data': [{'bingroup': 'x',\n",
       "              'hovertemplate': 'variable=mean_len<br>value=%{x}<br>count=%{y}<extra></extra>',\n",
       "              'legendgroup': 'mean_len',\n",
       "              'marker': {'color': '#636efa', 'pattern': {'shape': ''}},\n",
       "              'name': 'mean_len',\n",
       "              'orientation': 'v',\n",
       "              'showlegend': True,\n",
       "              'type': 'histogram',\n",
       "              'x': {'bdata': ('AAAAAAAA+H8AAAAAAAD4fwAAAAAAAA' ... 'AAAABgaUAAAAAAAEBcQAAAAAAAAFZA'),\n",
       "                    'dtype': 'f8'},\n",
       "              'xaxis': 'x',\n",
       "              'yaxis': 'y'}],\n",
       "    'layout': {'barmode': 'relative',\n",
       "               'legend': {'title': {'text': 'variable'}, 'tracegroupgap': 0},\n",
       "               'margin': {'t': 60},\n",
       "               'template': '...',\n",
       "               'xaxis': {'anchor': 'y', 'domain': [0.0, 1.0], 'title': {'text': 'value'}},\n",
       "               'yaxis': {'anchor': 'x', 'domain': [0.0, 1.0], 'title': {'text': 'count'}}}\n",
       "})"
      ]
     },
     "execution_count": 91,
     "metadata": {},
     "output_type": "execute_result"
    }
   ],
   "source": [
    "px.histogram(dataset.mean_len)"
   ]
  },
  {
   "cell_type": "code",
   "execution_count": null,
   "id": "a060410d",
   "metadata": {},
   "outputs": [],
   "source": []
  },
  {
   "cell_type": "code",
   "execution_count": null,
   "id": "9cd220de",
   "metadata": {},
   "outputs": [],
   "source": []
  },
  {
   "cell_type": "code",
   "execution_count": null,
   "id": "6734dcbc",
   "metadata": {},
   "outputs": [],
   "source": []
  },
  {
   "cell_type": "code",
   "execution_count": 220,
   "id": "df169a6e",
   "metadata": {
    "execution": {
     "iopub.execute_input": "2024-10-15T18:20:46.655816Z",
     "iopub.status.busy": "2024-10-15T18:20:46.654941Z",
     "iopub.status.idle": "2024-10-15T18:20:46.660713Z",
     "shell.execute_reply": "2024-10-15T18:20:46.659548Z"
    },
    "papermill": {
     "duration": 0.012184,
     "end_time": "2024-10-15T18:20:46.662878",
     "exception": false,
     "start_time": "2024-10-15T18:20:46.650694",
     "status": "completed"
    },
    "tags": []
   },
   "outputs": [],
   "source": [
    "def clean_meaning_text(meaning_tag):\n",
    "    meaning = meaning_tag.get_text(separator=\" \", strip=True)  # Remove excessive whitespace and handle multi-line texts\n",
    "    # Remove \"TOP\" links or other unwanted parts\n",
    "    meaning = meaning.replace(\" TOP\", \"\").strip()\n",
    "    return meaning"
   ]
  },
  {
   "cell_type": "code",
   "execution_count": 221,
   "id": "2ff0a466",
   "metadata": {},
   "outputs": [],
   "source": [
    "def extract_symbol(symbol):\n",
    "    dream = symbol.get_text().strip()  # Get the dream symbol text\n",
    "\n",
    "    # Find the corresponding meaning (look for the next <p> tag that contains the style attribute for consistency)\n",
    "    meaning_tag = symbol.find_next('p', style=True)\n",
    "    \n",
    "    if meaning_tag:\n",
    "        meaning = clean_meaning_text(meaning_tag)\n",
    "        \n",
    "        # Check if meaning and dream are valid\n",
    "        if dream and meaning:\n",
    "            return dream, meaning\n",
    "\n",
    "    else:\n",
    "        print(f\"Could not find meaning for {dream}\")"
   ]
  },
  {
   "cell_type": "markdown",
   "id": "fd052d6a",
   "metadata": {},
   "source": [
    "# original code"
   ]
  },
  {
   "cell_type": "code",
   "execution_count": null,
   "id": "f1600a72",
   "metadata": {
    "execution": {
     "iopub.execute_input": "2024-10-15T18:20:46.670611Z",
     "iopub.status.busy": "2024-10-15T18:20:46.670193Z",
     "iopub.status.idle": "2024-10-15T18:21:01.588622Z",
     "shell.execute_reply": "2024-10-15T18:21:01.587479Z"
    },
    "papermill": {
     "duration": 14.925151,
     "end_time": "2024-10-15T18:21:01.591127",
     "exception": false,
     "start_time": "2024-10-15T18:20:46.665976",
     "status": "completed"
    },
    "tags": []
   },
   "outputs": [],
   "source": [
    "for letter in string.ascii_lowercase:\n",
    "    url = base_url.format(letter)\n",
    "    response = requests.get(url)\n",
    "\n",
    "    if response.status_code == 200:  # Check if the page was successfully fetched\n",
    "        soup = BeautifulSoup(response.content, 'html.parser')\n",
    "\n",
    "        # Find all dream symbols, wrapped inside <a> tags with a name attribute\n",
    "        dream_symbols = soup.find_all('a', attrs={'name': True})\n",
    "        \n",
    "        # Iterate over each symbol\n",
    "        for symbol in dream_symbols:\n",
    "            dream, meaning = extract_symbol(symbol)\n",
    "            dreams.append(dream)\n",
    "            meanings.append(meaning)\n",
    "\n",
    "    else:\n",
    "        print(f\"Failed to retrieve {letter}\")"
   ]
  },
  {
   "cell_type": "code",
   "execution_count": 4,
   "id": "edb89115",
   "metadata": {
    "execution": {
     "iopub.execute_input": "2024-10-15T18:21:01.598807Z",
     "iopub.status.busy": "2024-10-15T18:21:01.598405Z",
     "iopub.status.idle": "2024-10-15T18:21:01.606250Z",
     "shell.execute_reply": "2024-10-15T18:21:01.605044Z"
    },
    "papermill": {
     "duration": 0.014186,
     "end_time": "2024-10-15T18:21:01.608485",
     "exception": false,
     "start_time": "2024-10-15T18:21:01.594299",
     "status": "completed"
    },
    "tags": []
   },
   "outputs": [],
   "source": [
    "df = pd.DataFrame({\n",
    "    \"Dream Symbol\": dreams,\n",
    "    \"Interpretation\": meanings\n",
    "})"
   ]
  },
  {
   "cell_type": "code",
   "execution_count": 5,
   "id": "4c38c14e",
   "metadata": {
    "execution": {
     "iopub.execute_input": "2024-10-15T18:21:01.616749Z",
     "iopub.status.busy": "2024-10-15T18:21:01.615749Z",
     "iopub.status.idle": "2024-10-15T18:21:01.638162Z",
     "shell.execute_reply": "2024-10-15T18:21:01.637059Z"
    },
    "papermill": {
     "duration": 0.028793,
     "end_time": "2024-10-15T18:21:01.640403",
     "exception": false,
     "start_time": "2024-10-15T18:21:01.611610",
     "status": "completed"
    },
    "tags": []
   },
   "outputs": [
    {
     "data": {
      "text/html": [
       "<div>\n",
       "<style scoped>\n",
       "    .dataframe tbody tr th:only-of-type {\n",
       "        vertical-align: middle;\n",
       "    }\n",
       "\n",
       "    .dataframe tbody tr th {\n",
       "        vertical-align: top;\n",
       "    }\n",
       "\n",
       "    .dataframe thead th {\n",
       "        text-align: right;\n",
       "    }\n",
       "</style>\n",
       "<table border=\"1\" class=\"dataframe\">\n",
       "  <thead>\n",
       "    <tr style=\"text-align: right;\">\n",
       "      <th></th>\n",
       "      <th>Dream Symbol</th>\n",
       "      <th>Interpretation</th>\n",
       "    </tr>\n",
       "  </thead>\n",
       "  <tbody>\n",
       "    <tr>\n",
       "      <th>0</th>\n",
       "      <td>Aardvark</td>\n",
       "      <td>To\\nsee an aardvark in your dream indicates th...</td>\n",
       "    </tr>\n",
       "    <tr>\n",
       "      <th>1</th>\n",
       "      <td>Abandonment</td>\n",
       "      <td>To\\ndream that you are abandoned suggests that...</td>\n",
       "    </tr>\n",
       "    <tr>\n",
       "      <th>2</th>\n",
       "      <td>Abduction</td>\n",
       "      <td>To\\ndream of being abducted indicates that you...</td>\n",
       "    </tr>\n",
       "    <tr>\n",
       "      <th>3</th>\n",
       "      <td>Aborigine</td>\n",
       "      <td>To\\nsee an Aborigine in your dream represents ...</td>\n",
       "    </tr>\n",
       "    <tr>\n",
       "      <th>4</th>\n",
       "      <td>Abortion</td>\n",
       "      <td>To\\ndream that you have an abortion suggests t...</td>\n",
       "    </tr>\n",
       "    <tr>\n",
       "      <th>...</th>\n",
       "      <td>...</td>\n",
       "      <td>...</td>\n",
       "    </tr>\n",
       "    <tr>\n",
       "      <th>897</th>\n",
       "      <td>Yoyo</td>\n",
       "      <td>To see or play\\nwith a yoyo in you dream signi...</td>\n",
       "    </tr>\n",
       "    <tr>\n",
       "      <th>898</th>\n",
       "      <td>Zebra</td>\n",
       "      <td>To see a zebra in\\nyour dream represents perfe...</td>\n",
       "    </tr>\n",
       "    <tr>\n",
       "      <th>899</th>\n",
       "      <td>Zip\\nLine</td>\n",
       "      <td>To dream that you\\nare zip lining implies that...</td>\n",
       "    </tr>\n",
       "    <tr>\n",
       "      <th>900</th>\n",
       "      <td>Zombie</td>\n",
       "      <td>To see or dream\\nthat you are a zombie suggest...</td>\n",
       "    </tr>\n",
       "    <tr>\n",
       "      <th>901</th>\n",
       "      <td>Zoomorphism</td>\n",
       "      <td>To dream that you\\nare changing into the form ...</td>\n",
       "    </tr>\n",
       "  </tbody>\n",
       "</table>\n",
       "<p>902 rows × 2 columns</p>\n",
       "</div>"
      ],
      "text/plain": [
       "    Dream Symbol                                     Interpretation\n",
       "0       Aardvark  To\\nsee an aardvark in your dream indicates th...\n",
       "1    Abandonment  To\\ndream that you are abandoned suggests that...\n",
       "2      Abduction  To\\ndream of being abducted indicates that you...\n",
       "3      Aborigine  To\\nsee an Aborigine in your dream represents ...\n",
       "4       Abortion  To\\ndream that you have an abortion suggests t...\n",
       "..           ...                                                ...\n",
       "897         Yoyo  To see or play\\nwith a yoyo in you dream signi...\n",
       "898        Zebra  To see a zebra in\\nyour dream represents perfe...\n",
       "899    Zip\\nLine  To dream that you\\nare zip lining implies that...\n",
       "900       Zombie  To see or dream\\nthat you are a zombie suggest...\n",
       "901  Zoomorphism  To dream that you\\nare changing into the form ...\n",
       "\n",
       "[902 rows x 2 columns]"
      ]
     },
     "execution_count": 5,
     "metadata": {},
     "output_type": "execute_result"
    }
   ],
   "source": [
    "df"
   ]
  },
  {
   "cell_type": "code",
   "execution_count": 6,
   "id": "8b456a41",
   "metadata": {
    "execution": {
     "iopub.execute_input": "2024-10-15T18:21:01.648778Z",
     "iopub.status.busy": "2024-10-15T18:21:01.648387Z",
     "iopub.status.idle": "2024-10-15T18:21:01.663082Z",
     "shell.execute_reply": "2024-10-15T18:21:01.661816Z"
    },
    "papermill": {
     "duration": 0.021603,
     "end_time": "2024-10-15T18:21:01.665437",
     "exception": false,
     "start_time": "2024-10-15T18:21:01.643834",
     "status": "completed"
    },
    "tags": []
   },
   "outputs": [
    {
     "data": {
      "text/html": [
       "<div>\n",
       "<style scoped>\n",
       "    .dataframe tbody tr th:only-of-type {\n",
       "        vertical-align: middle;\n",
       "    }\n",
       "\n",
       "    .dataframe tbody tr th {\n",
       "        vertical-align: top;\n",
       "    }\n",
       "\n",
       "    .dataframe thead th {\n",
       "        text-align: right;\n",
       "    }\n",
       "</style>\n",
       "<table border=\"1\" class=\"dataframe\">\n",
       "  <thead>\n",
       "    <tr style=\"text-align: right;\">\n",
       "      <th></th>\n",
       "      <th>Dream Symbol</th>\n",
       "      <th>Interpretation</th>\n",
       "    </tr>\n",
       "  </thead>\n",
       "  <tbody>\n",
       "    <tr>\n",
       "      <th>0</th>\n",
       "      <td>Aardvark</td>\n",
       "      <td>To see an aardvark in your dream indicates tha...</td>\n",
       "    </tr>\n",
       "    <tr>\n",
       "      <th>1</th>\n",
       "      <td>Abandonment</td>\n",
       "      <td>To dream that you are abandoned suggests that ...</td>\n",
       "    </tr>\n",
       "    <tr>\n",
       "      <th>2</th>\n",
       "      <td>Abduction</td>\n",
       "      <td>To dream of being abducted indicates that you ...</td>\n",
       "    </tr>\n",
       "    <tr>\n",
       "      <th>3</th>\n",
       "      <td>Aborigine</td>\n",
       "      <td>To see an Aborigine in your dream represents b...</td>\n",
       "    </tr>\n",
       "    <tr>\n",
       "      <th>4</th>\n",
       "      <td>Abortion</td>\n",
       "      <td>To dream that you have an abortion suggests th...</td>\n",
       "    </tr>\n",
       "  </tbody>\n",
       "</table>\n",
       "</div>"
      ],
      "text/plain": [
       "  Dream Symbol                                     Interpretation\n",
       "0     Aardvark  To see an aardvark in your dream indicates tha...\n",
       "1  Abandonment  To dream that you are abandoned suggests that ...\n",
       "2    Abduction  To dream of being abducted indicates that you ...\n",
       "3    Aborigine  To see an Aborigine in your dream represents b...\n",
       "4     Abortion  To dream that you have an abortion suggests th..."
      ]
     },
     "execution_count": 6,
     "metadata": {},
     "output_type": "execute_result"
    }
   ],
   "source": [
    "# Clean up the \"Interpretation\" column by removing newline characters and extra spaces\n",
    "df['Interpretation'] = df['Interpretation'].replace(r'\\n', ' ', regex=True).str.strip()\n",
    "\n",
    "# Display the first few cleaned rows to verify the changes\n",
    "df.head()"
   ]
  },
  {
   "cell_type": "code",
   "execution_count": 7,
   "id": "6d03ef39",
   "metadata": {
    "execution": {
     "iopub.execute_input": "2024-10-15T18:21:01.674662Z",
     "iopub.status.busy": "2024-10-15T18:21:01.673815Z",
     "iopub.status.idle": "2024-10-15T18:21:01.696705Z",
     "shell.execute_reply": "2024-10-15T18:21:01.695448Z"
    },
    "papermill": {
     "duration": 0.030347,
     "end_time": "2024-10-15T18:21:01.699363",
     "exception": false,
     "start_time": "2024-10-15T18:21:01.669016",
     "status": "completed"
    },
    "tags": []
   },
   "outputs": [],
   "source": [
    "df.to_csv(\"dreams_interpretations.csv\", index=False)"
   ]
  },
  {
   "cell_type": "code",
   "execution_count": 8,
   "id": "18dfaa22",
   "metadata": {
    "execution": {
     "iopub.execute_input": "2024-10-15T18:21:01.708865Z",
     "iopub.status.busy": "2024-10-15T18:21:01.707831Z",
     "iopub.status.idle": "2024-10-15T18:21:01.714992Z",
     "shell.execute_reply": "2024-10-15T18:21:01.713800Z"
    },
    "papermill": {
     "duration": 0.014252,
     "end_time": "2024-10-15T18:21:01.717376",
     "exception": false,
     "start_time": "2024-10-15T18:21:01.703124",
     "status": "completed"
    },
    "tags": []
   },
   "outputs": [],
   "source": [
    "import os\n",
    "import subprocess\n",
    "from IPython.display import FileLink, display\n",
    "\n",
    "def download_file(path, download_file_name):\n",
    "    os.chdir('/kaggle/working/')\n",
    "    zip_name = f\"/kaggle/working/{download_file_name}.zip\"\n",
    "    command = f\"zip {zip_name} {path} -r\"\n",
    "    result = subprocess.run(command, shell=True, capture_output=True, text=True)\n",
    "    if result.returncode != 0:\n",
    "        print(\"Unable to run zip command!\")\n",
    "        print(result.stderr)\n",
    "        return\n",
    "    display(FileLink(f'{download_file_name}.zip'))"
   ]
  },
  {
   "cell_type": "code",
   "execution_count": 9,
   "id": "0bc65b6e",
   "metadata": {
    "execution": {
     "iopub.execute_input": "2024-10-15T18:21:01.726604Z",
     "iopub.status.busy": "2024-10-15T18:21:01.725718Z",
     "iopub.status.idle": "2024-10-15T18:21:01.768625Z",
     "shell.execute_reply": "2024-10-15T18:21:01.767508Z"
    },
    "papermill": {
     "duration": 0.050006,
     "end_time": "2024-10-15T18:21:01.770951",
     "exception": false,
     "start_time": "2024-10-15T18:21:01.720945",
     "status": "completed"
    },
    "tags": []
   },
   "outputs": [
    {
     "data": {
      "text/html": [
       "<a href='download.zip' target='_blank'>download.zip</a><br>"
      ],
      "text/plain": [
       "/kaggle/working/download.zip"
      ]
     },
     "metadata": {},
     "output_type": "display_data"
    }
   ],
   "source": [
    "download_file(\"/kaggle/working/dreams_interpretations.csv\", \"download\")"
   ]
  }
 ],
 "metadata": {
  "kaggle": {
   "accelerator": "none",
   "dataSources": [
    {
     "datasetId": 5881987,
     "sourceId": 9634093,
     "sourceType": "datasetVersion"
    }
   ],
   "isGpuEnabled": false,
   "isInternetEnabled": true,
   "language": "python",
   "sourceType": "notebook"
  },
  "kernelspec": {
   "display_name": "NLP",
   "language": "python",
   "name": "python3"
  },
  "language_info": {
   "codemirror_mode": {
    "name": "ipython",
    "version": 3
   },
   "file_extension": ".py",
   "mimetype": "text/x-python",
   "name": "python",
   "nbconvert_exporter": "python",
   "pygments_lexer": "ipython3",
   "version": "3.11.10"
  },
  "papermill": {
   "default_parameters": {},
   "duration": 19.516826,
   "end_time": "2024-10-15T18:21:02.294568",
   "environment_variables": {},
   "exception": null,
   "input_path": "__notebook__.ipynb",
   "output_path": "__notebook__.ipynb",
   "parameters": {},
   "start_time": "2024-10-15T18:20:42.777742",
   "version": "2.6.0"
  }
 },
 "nbformat": 4,
 "nbformat_minor": 5
}
