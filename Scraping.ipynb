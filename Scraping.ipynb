{
 "cells": [
  {
   "cell_type": "code",
   "execution_count": 1,
   "id": "2be00f55",
   "metadata": {
    "_cell_guid": "b1076dfc-b9ad-4769-8c92-a6c4dae69d19",
    "_uuid": "8f2839f25d086af736a60e9eeb907d3b93b6e0e5",
    "execution": {
     "iopub.execute_input": "2024-10-15T18:20:45.517505Z",
     "iopub.status.busy": "2024-10-15T18:20:45.516962Z",
     "iopub.status.idle": "2024-10-15T18:20:46.644596Z",
     "shell.execute_reply": "2024-10-15T18:20:46.643575Z"
    },
    "papermill": {
     "duration": 1.135541,
     "end_time": "2024-10-15T18:20:46.647262",
     "exception": false,
     "start_time": "2024-10-15T18:20:45.511721",
     "status": "completed"
    },
    "tags": []
   },
   "outputs": [],
   "source": [
    "import requests\n",
    "from bs4 import BeautifulSoup\n",
    "import pandas as pd\n",
    "import string\n",
    "import lxml\n",
    "import time\n",
    "import os\n",
    "import lxml.html as lhtml\n",
    "from datetime import datetime\n",
    "import pandas as pd\n",
    "import re\n",
    "from utils import save_df_as_pretty_html\n",
    "from plotly import express as px\n",
    "# Base URL pattern for dream moods dictionary\n",
    "\n",
    "\n",
    "# List to store dream symbols and meanings\n",
    "dreams = []\n",
    "meanings = []"
   ]
  },
  {
   "cell_type": "markdown",
   "id": "3bfa61ac",
   "metadata": {},
   "source": [
    "## Data Scraping from dreammoods.com\n",
    "\n",
    "The website structure is fairly simple. Dream symbols are grouped into pages of their first letter:  \n",
    "http://www.dreammoods.com/dreamdictionary/c_all.htm"
   ]
  },
  {
   "cell_type": "code",
   "execution_count": null,
   "id": "0ae23259",
   "metadata": {},
   "outputs": [],
   "source": [
    "\n",
    "def download_page(url, filename ):\n",
    "    if os.path.exists(filename):\n",
    "        print (f\"File {filename} already exists, skipping download.\")\n",
    "        return 'skip'\n",
    "    \n",
    "    response = requests.get(url)\n",
    "\n",
    "    if response.status_code == 200:  # Check if the page was successfully fetched\n",
    "        with open(filename, \"w\") as f:\n",
    "            f.write(response.text)\n",
    "        print(f\"Downloaded {url} to {filename}\")\n",
    "        return 'ok'\n",
    "    \n",
    "    else:        \n",
    "        newurl = url.replace(\"_all\",\"\")\n",
    "        if newurl != url:\n",
    "            print(f\"Failed to retrieve {url}, trying alternative\")\n",
    "            download_page(newurl, filename)\n",
    "        else:\n",
    "            print(f\"Failed to retrieve {url} and no alternative available.\")\n",
    "            return 'fail'\n",
    "        \n",
    "\n"
   ]
  },
  {
   "cell_type": "code",
   "execution_count": null,
   "id": "335e352e",
   "metadata": {},
   "outputs": [],
   "source": [
    "\n",
    "base_url = \"http://www.dreammoods.com/dreamdictionary/\"\n",
    "suffix = \"{}_all.htm\"\n",
    "\n",
    "for letter in string.ascii_lowercase:\n",
    "\n",
    "    file = f\"html/{letter}_all.html\"\n",
    "\n",
    "    url = base_url + suffix.format(letter)\n",
    "\n",
    "    download_page(url, file)\n",
    "    time.sleep(.5)  # Sleep for 1 second to avoid overwhelming the server\n"
   ]
  },
  {
   "cell_type": "markdown",
   "id": "849e7eb7",
   "metadata": {},
   "source": [
    "### Custom scraper\n",
    "Their HTML structure, however, is anything but simple. So we had to build a highly customized scraper."
   ]
  },
  {
   "cell_type": "code",
   "execution_count": 40,
   "id": "b5ae99e1",
   "metadata": {},
   "outputs": [],
   "source": [
    "# use this string to debug code near specific text in html\n",
    "breakpointstring = \"your anchor text\"\n",
    "\n",
    "def brpt_anchor(val):\n",
    "    #if re.search(breakpointstring, tc): \n",
    "    if breakpointstring.lower() in str(val).lower():\n",
    "        print(\"found anchor text: \", breakpointstring, \", value: \", val)"
   ]
  },
  {
   "cell_type": "code",
   "execution_count": 52,
   "id": "53577f85",
   "metadata": {},
   "outputs": [],
   "source": [
    "\n",
    "def break_attr(dic):\n",
    "    drop = ['style','align','face']\n",
    "    for dr in drop:\n",
    "        if dr in dic:\n",
    "            dic.pop(dr)\n",
    "    return str(dic)\n",
    "\n",
    "def classify(t):\n",
    "    \n",
    "    brpt_anchor(t.text)\n",
    "        \n",
    "    \n",
    "    if type(t) is lxml.html.HtmlComment:\n",
    "        return \"trsh\"\n",
    "\n",
    "    if t.tag == \"b\":\n",
    "        return \"mean\" #\"bold\"\n",
    "    \n",
    "    trashtags = [\"div\",\"script\",\"iframe\",\"img\"]\n",
    "\n",
    "    if t.tag == \"strong\":\n",
    "        return \"sym\" #\"bold\"    \n",
    "\n",
    "    elif t.tag == \"font\":\n",
    "\n",
    "        if 'size' in t.attrib:\n",
    "            sz = t.attrib['size']\n",
    "            if sz == \"4\" or sz == \"+1\":\n",
    "                return \"sym\" #\"size4\"\n",
    "            elif sz == \"3\":\n",
    "                return \"mean\" #\"size3\"\n",
    "        else:\n",
    "            return \"mean\" # no size defined\n",
    "            \n",
    "    elif t.tag == \"a\":\n",
    "        if 'href' in t.attrib:\n",
    "            if t.attrib['href'] == \"#Top\":\n",
    "                return \"trsh\"\n",
    "            return \"link\"\n",
    "        elif 'name' in t.attrib:\n",
    "            return \"sym\" #\"header\"\n",
    "    \n",
    "    elif t.tag in trashtags:\n",
    "        return \"trsh\"\n",
    "    \n",
    "    return \"mean\" # \"desc\"\n",
    "\n",
    "def fetch_link(chld):\n",
    "\n",
    "    if chld.tag == \"a\":\n",
    "        if 'href' in chld.attrib:\n",
    "            return ',' + chld.attrib['href'] + ','\n",
    "            \n",
    "    else:\n",
    "        for c in chld.getchildren():\n",
    "            href = fetch_link(c)\n",
    "            if href != \"\":\n",
    "                return href\n",
    "        return \"\"\n",
    "\n",
    "\n",
    "def collect(node, cl):\n",
    "\n",
    "    brpt_anchor(node.text)\n",
    "\n",
    "    if \"trsh\" in cl:\n",
    "        return \"\"    \n",
    "    \n",
    "    if \"link\" in cl:\n",
    "        res = fetch_link(node)\n",
    "        return res\n",
    "    \n",
    "    if node.text == None:\n",
    "        return \"\"\n",
    "\n",
    "    else:\n",
    "        #res = node.text_content()\n",
    "        res = str(node.text  or '')+  str(node.tail or'')\n",
    "        res = res.replace(\"\\xa0\",\" \")\n",
    "        res = re.sub(r\"\\n+\",\"\\n\",res)\n",
    "        res = re.sub(r'\\s+', ' ', res)\n",
    "        # if cl == \"mean\":\n",
    "        #     res = res + \" \"\n",
    "        return res\n",
    "\n",
    "\n",
    "def breakdown(node):\n",
    "    \n",
    "    brpt_anchor(node.text_content())\n",
    "\n",
    "    clas = [classify(node)]\n",
    "    cont = [collect(node, clas[0])]\n",
    "\n",
    "    if \"trsh\" in clas[-1]:\n",
    "        return [\"trsh\"], \"\"\n",
    "    \n",
    "    for c in node.getchildren():\n",
    "        \n",
    "        cl, co = breakdown(c)\n",
    "\n",
    "        clas += cl\n",
    "        cont += co\n",
    "\n",
    "    return clas, cont\n",
    "\n",
    "\n",
    "def extract_reference(cont):\n",
    "    syms = []\n",
    "    for c in cont:\n",
    "        c= c.lower()\n",
    "        if \"dreammoods.com/dreamdictionary\" in c and \"#\" in c:\n",
    "            syms.append(\"#Ref:\" + c.split(\"#\")[-1].strip(\",\"))\n",
    "        elif \"lease\" in c or \"see\" in c:\n",
    "            if \"also\" in c:\n",
    "                return None\n",
    "            #syms.append(c)\n",
    "    return syms[0] if len(syms)>0 else None\n",
    "\n",
    "\n",
    "\n",
    "def collect_paragraphs(r):\n",
    "    syms_data = []\n",
    "    for c in r.getchildren():\n",
    "        clas, cont = breakdown(c)\n",
    "        fclas = \"sym\" if \"sym\" in clas else \"link\" if \"link\" in clas else \"mean\"\n",
    "        \n",
    "        if fclas == \"link\":\n",
    "            text = extract_reference(cont)\n",
    "        else:\n",
    "            text = \"\".join(cont).strip()\n",
    "            text = re.sub(r'\\s+', ' ', text)\n",
    "        syms_data.append({\"clas\": clas, \"final_class\":fclas, \"cont\": cont, \"text\": text})\n",
    "\n",
    "    return syms_data\n",
    "\n"
   ]
  },
  {
   "cell_type": "markdown",
   "id": "7aaf6bbe",
   "metadata": {},
   "source": [
    "Test with a single file, e.g. c_all.html"
   ]
  },
  {
   "cell_type": "code",
   "execution_count": 53,
   "id": "6e5c9b44",
   "metadata": {},
   "outputs": [],
   "source": [
    "breakpointstring = \"door kno\"\n",
    "letter = \"b\"\n",
    "\n",
    "with open(f\"html/dreamdictionary/{letter}_all.html\", \"r\") as f:\n",
    "    html = f.read()\n",
    "\n",
    "html = html.replace(\"\\xa0\",\" \")\n",
    "\n",
    "xp = \"/html/body/table[2]/tr/td/div/center/table/tr[4]/td[1]\"\n",
    "\n",
    "tree = lhtml.fromstring(html)\n",
    "\n",
    "tabl = tree.xpath(xp)[0]\n",
    "\n",
    "sd = collect_paragraphs(tabl)\n"
   ]
  },
  {
   "cell_type": "code",
   "execution_count": 54,
   "id": "6a54617e",
   "metadata": {},
   "outputs": [
    {
     "data": {
      "application/vnd.microsoft.datawrangler.viewer.v0+json": {
       "columns": [
        {
         "name": "index",
         "rawType": "int64",
         "type": "integer"
        },
        {
         "name": "clas",
         "rawType": "object",
         "type": "unknown"
        },
        {
         "name": "final_class",
         "rawType": "object",
         "type": "string"
        },
        {
         "name": "cont",
         "rawType": "object",
         "type": "unknown"
        },
        {
         "name": "text",
         "rawType": "object",
         "type": "unknown"
        }
       ],
       "conversionMethod": "pd.DataFrame",
       "ref": "22552fee-980b-47f6-89d0-a05dca98f4ef",
       "rows": [
        [
         "0",
         "['mean', 'sym', 'trsh']",
         "sym",
         "['', ' ']",
         ""
        ],
        [
         "1",
         "['mean', 'mean', 'sym']",
         "sym",
         "['', '', 'B']",
         "B"
        ],
        [
         "2",
         "['mean', 'mean', 'mean', 'mean', 'mean', 'trsh']",
         "mean",
         "['', 'To see the letter B in your dream is a pun on \"to be\". Perhaps the dream is telling you to \"let it be\". ', ' ', '', ' ']",
         "To see the letter B in your dream is a pun on \"to be\". Perhaps the dream is telling you to \"let it be\"."
        ],
        [
         "3",
         "['mean', 'mean', 'sym']",
         "sym",
         "['', '', 'Baboon']",
         "Baboon"
        ],
        [
         "4",
         "['mean', 'mean']",
         "mean",
         "['', 'To see a baboon in your dream suggests that you need to be more expressive in your feelings. You need to be more direct in telling others how you feel. On the hand, it could be saying that you are expressing yourself in an inappropriate manner. ']",
         "To see a baboon in your dream suggests that you need to be more expressive in your feelings. You need to be more direct in telling others how you feel. On the hand, it could be saying that you are expressing yourself in an inappropriate manner."
        ],
        [
         "5",
         "['mean', 'mean', 'mean', 'mean', 'mean', 'trsh']",
         "mean",
         "['', 'In particular, dreaming of a white baboon means that you are completely devoid of emotions.', ' ', '', ' ']",
         "In particular, dreaming of a white baboon means that you are completely devoid of emotions."
        ],
        [
         "6",
         "['mean', 'mean', 'sym', 'sym']",
         "sym",
         "['', '', '', 'Baby']",
         "Baby"
        ],
        [
         "7",
         "['mean', 'mean', 'mean']",
         "mean",
         "['', 'To see a baby in your dream signifies innocence, warmth and new beginnings. Babies symbolize something in your own inner nature that is pure, vulnerable, helpless and/or uncorrupted. If you dream that the baby is smiling at you, then it suggests that you are experiencing pure joy. You do not ask for much to make you happy. ', \" If you find a baby in your dream, then it suggests that you have acknowledged your hidden potential. If you dream that you forgot you had a baby, then it suggests that you are trying hide your own vulnerabilities; you do not want to let others know of your weaknesses. Alternatively, forgetting about a baby represents an aspect of yourself that you have abandoned or put aside due to life's changing circumstances. The dream may serve as a reminder that it is time for you to pick up that old interest, hobby, or project again. Dreaming of holding a baby is analogous to holding onto an earlier part of yoru life where you felt more depended on and more needed.\"]",
         "To see a baby in your dream signifies innocence, warmth and new beginnings. Babies symbolize something in your own inner nature that is pure, vulnerable, helpless and/or uncorrupted. If you dream that the baby is smiling at you, then it suggests that you are experiencing pure joy. You do not ask for much to make you happy. If you find a baby in your dream, then it suggests that you have acknowledged your hidden potential. If you dream that you forgot you had a baby, then it suggests that you are trying hide your own vulnerabilities; you do not want to let others know of your weaknesses. Alternatively, forgetting about a baby represents an aspect of yourself that you have abandoned or put aside due to life's changing circumstances. The dream may serve as a reminder that it is time for you to pick up that old interest, hobby, or project again. Dreaming of holding a baby is analogous to holding onto an earlier part of yoru life where you felt more depended on and more needed."
        ],
        [
         "8",
         "['mean', 'mean']",
         "mean",
         "['', 'If you dream that you are on your way to the hospital to have a baby, then it signifies your issues of dependency and your desires to be completely cared for. Perhaps you are trying to get out of some responsibility. If you are pregnant in real life, then a more direct interpretation may simply mean that you are experiencing some anxieties of making it to the hospital when the time comes. ']",
         "If you dream that you are on your way to the hospital to have a baby, then it signifies your issues of dependency and your desires to be completely cared for. Perhaps you are trying to get out of some responsibility. If you are pregnant in real life, then a more direct interpretation may simply mean that you are experiencing some anxieties of making it to the hospital when the time comes."
        ],
        [
         "9",
         "['mean', 'mean']",
         "mean",
         "['', 'To dream of a crying baby symbolizes a part of yourself that is deprived of attention and needs to be nurtured. Alternatively, it represents your unfulfilled goals and a sense of lacking in your life. If you dream that a baby is neglected, then it suggests that you are not paying enough attention to yourself. You are not utilizing your full potential. Alternatively, this dream could represent your fears about your own children and your ability to protect and to provide for them. ']",
         "To dream of a crying baby symbolizes a part of yourself that is deprived of attention and needs to be nurtured. Alternatively, it represents your unfulfilled goals and a sense of lacking in your life. If you dream that a baby is neglected, then it suggests that you are not paying enough attention to yourself. You are not utilizing your full potential. Alternatively, this dream could represent your fears about your own children and your ability to protect and to provide for them."
        ],
        [
         "10",
         "['mean', 'mean']",
         "mean",
         "['', 'To dream about a starving baby represents your dependence on others. You are experiencing some deficiency in your life that needs immediate attention and gratification.']",
         "To dream about a starving baby represents your dependence on others. You are experiencing some deficiency in your life that needs immediate attention and gratification."
        ],
        [
         "11",
         "['mean', 'mean']",
         "mean",
         "['', 'To see yourself or someone as a baby in your dream refers to your desire to be cared for and nurtured. Alternatively, the dream may mean that you or someone is behaving immaturely.']",
         "To see yourself or someone as a baby in your dream refers to your desire to be cared for and nurtured. Alternatively, the dream may mean that you or someone is behaving immaturely."
        ],
        [
         "12",
         "['mean', 'mean']",
         "mean",
         "['', 'To dream that a baby is walking or dancing refers to the potential and possibilities that life has in stored for you. The future looks bright. The dream may also be a metaphor that you need to take baby steps in your relationship, toward your goal, in a work project or whatever undertaking. If you have a baby in real life, then the dream is a reflection of your hopes for that baby.']",
         "To dream that a baby is walking or dancing refers to the potential and possibilities that life has in stored for you. The future looks bright. The dream may also be a metaphor that you need to take baby steps in your relationship, toward your goal, in a work project or whatever undertaking. If you have a baby in real life, then the dream is a reflection of your hopes for that baby."
        ],
        [
         "13",
         "['mean', 'mean']",
         "mean",
         "['', 'To dream of an extremely small baby symbolizes your helplessness and your fears of letting others become aware of your vulnerabilities and incompetence. You may be afraid to ask for help and as a result tend to take matters into your own hands.']",
         "To dream of an extremely small baby symbolizes your helplessness and your fears of letting others become aware of your vulnerabilities and incompetence. You may be afraid to ask for help and as a result tend to take matters into your own hands."
        ],
        [
         "14",
         "['mean', 'mean']",
         "mean",
         "['', 'To see a dead baby in your dream symbolizes the ending of something that was once a part of you. If you dream that you are trying to snort up a dead baby, then it means that you are refusing to move onto a new stage of life. You are holding onto a dead past. ']",
         "To see a dead baby in your dream symbolizes the ending of something that was once a part of you. If you dream that you are trying to snort up a dead baby, then it means that you are refusing to move onto a new stage of life. You are holding onto a dead past."
        ],
        [
         "15",
         "['mean', 'mean', 'mean', 'mean']",
         "mean",
         "['', 'To dream that you are dipping a baby in and out of water sig', 'nifies regression. You are regressing to a time where you had no worries and responsibilities. Alternatively, such a scenario is reminisce of when the baby is in the fetus and in its comfort zone. In fact, some expectant mothers even give birth in a pool, because the environment in the water mimics the environment in the uterus. It is less traumatic for the baby as it emerges into the world. So perhaps, the dream represents your search for your own comfort zone.', ' ']",
         "To dream that you are dipping a baby in and out of water signifies regression. You are regressing to a time where you had no worries and responsibilities. Alternatively, such a scenario is reminisce of when the baby is in the fetus and in its comfort zone. In fact, some expectant mothers even give birth in a pool, because the environment in the water mimics the environment in the uterus. It is less traumatic for the baby as it emerges into the world. So perhaps, the dream represents your search for your own comfort zone."
        ],
        [
         "16",
         "['mean', 'mean']",
         "mean",
         "['', 'Dreaming of rescuing a drowning baby means that you are allowing yourself to be vulnerable and accepting help from others.']",
         "Dreaming of rescuing a drowning baby means that you are allowing yourself to be vulnerable and accepting help from others."
        ],
        [
         "17",
         "['mean', 'mean', 'mean', 'mean', 'mean']",
         "mean",
         "['', \"If you dream of having or adopting a baby of a different race, then it means that you are acknowledging and/or embracing other's physical differences.\", ' Everyone started out as a baby who is pure and innocent. ', '', ' ']",
         "If you dream of having or adopting a baby of a different race, then it means that you are acknowledging and/or embracing other's physical differences. Everyone started out as a baby who is pure and innocent."
        ],
        [
         "18",
         "['mean', 'mean', 'trsh']",
         "mean",
         "['', 'Seeing an evil baby or a demon baby in your dream implies that you are apprehensive or afraid of a new project that you are undertaking. You may be taking on more than you can handle. If you dream that a baby has a third eye on the back of the head, then it means getting caught. You are acting carelessly when you think no on is watching. ']",
         "Seeing an evil baby or a demon baby in your dream implies that you are apprehensive or afraid of a new project that you are undertaking. You may be taking on more than you can handle. If you dream that a baby has a third eye on the back of the head, then it means getting caught. You are acting carelessly when you think no on is watching."
        ],
        [
         "19",
         "['mean', 'mean', 'mean', 'link']",
         "link",
         "['', '', \"***Read DreamMoods' section on \", ',http://www.dreammoods.com/dreaminformation/pregnancy-dreams.htm,']",
         null
        ],
        [
         "20",
         "['mean', 'mean', 'sym']",
         "sym",
         "['', '', 'Baby Bottle']",
         "Baby Bottle"
        ],
        [
         "21",
         "['mean', 'mean', 'mean', 'mean', 'mean', 'mean', 'trsh']",
         "mean",
         "['', 'To see a baby bottle in your dream represents your issues of dependency. You are relying too much on others. If you are drinking from a baby bottle, then the dream means that you need are emotionally immature. You need to grow up.', ' ', ' ', '', ' ']",
         "To see a baby bottle in your dream represents your issues of dependency. You are relying too much on others. If you are drinking from a baby bottle, then the dream means that you need are emotionally immature. You need to grow up."
        ],
        [
         "22",
         "['mean', 'mean', 'sym', 'sym']",
         "sym",
         "['', '', '', 'Baby Carriage']",
         "Baby Carriage"
        ],
        [
         "23",
         "['mean', 'mean', 'mean', 'mean', 'mean', 'mean', 'trsh']",
         "mean",
         "['', 'To see a baby carriage in your dream symbolizes your desire for a family or longing for a baby. If the baby carriage is empty, then it indicates sadness or an unfulfilled goal. Alternatively, it suggests that you need to cater to the needs of your own inner child. ', ' ', ' ', '', ' ']",
         "To see a baby carriage in your dream symbolizes your desire for a family or longing for a baby. If the baby carriage is empty, then it indicates sadness or an unfulfilled goal. Alternatively, it suggests that you need to cater to the needs of your own inner child."
        ],
        [
         "24",
         "['mean', 'mean', 'sym', 'sym']",
         "sym",
         "['', '', '', 'Baby Clothes']",
         "Baby Clothes"
        ],
        [
         "25",
         "['mean', 'mean', 'mean', 'mean', 'mean', 'mean', 'trsh']",
         "mean",
         "['', 'To see baby clothes in your dream suggests that you are expressing yourself in a more subtle way. Alternatively, baby clothes represent your former ways of thinking or old habits which you have outgrown.', ' ', ' ', '', ' ']",
         "To see baby clothes in your dream suggests that you are expressing yourself in a more subtle way. Alternatively, baby clothes represent your former ways of thinking or old habits which you have outgrown."
        ],
        [
         "26",
         "['mean', 'mean', 'sym']",
         "sym",
         "['', '', 'Baby Food']",
         "Baby Food"
        ],
        [
         "27",
         "['mean', 'mean', 'mean']",
         "mean",
         "['', '', 'To see or feed baby food in your dream indicates that nurturance and care is needed in a waking situation. Alternatively, the dream may be a metaphor to indicate that you need to eat smaller portions of food. ']",
         "To see or feed baby food in your dream indicates that nurturance and care is needed in a waking situation. Alternatively, the dream may be a metaphor to indicate that you need to eat smaller portions of food."
        ],
        [
         "28",
         "['mean', 'mean', 'mean', 'mean', 'mean', 'mean', 'trsh']",
         "mean",
         "['', 'To eat or dream that you are being fed baby food indicates that you are being forced to re-learn something that you already know. ', ' ', ' ', '', ' ']",
         "To eat or dream that you are being fed baby food indicates that you are being forced to re-learn something that you already know."
        ],
        [
         "29",
         "['mean', 'mean', 'sym', 'sym']",
         "sym",
         "['', '', '', 'Baby Shower']",
         "Baby Shower"
        ],
        [
         "30",
         "['mean', 'mean', 'mean', 'mean', 'mean', 'mean', 'trsh']",
         "mean",
         "['', 'To dream of a baby shower suggests that you are welcoming a new start. You are given a chance to start over again and do things differently this time around. You have a new found faith in life itself. ', ' ', ' ', '', ' ']",
         "To dream of a baby shower suggests that you are welcoming a new start. You are given a chance to start over again and do things differently this time around. You have a new found faith in life itself."
        ],
        [
         "31",
         "['mean', 'mean', 'sym']",
         "sym",
         "['', '', 'Babysitter']",
         "Babysitter"
        ],
        [
         "32",
         "['mean', 'mean']",
         "mean",
         "['', 'To dream that you are babysitting suggests that you need to care for the child within yourself.']",
         "To dream that you are babysitting suggests that you need to care for the child within yourself."
        ],
        [
         "33",
         "['mean', 'mean', 'mean', 'mean', 'mean', 'mean', 'trsh']",
         "mean",
         "['', 'To see or call for a babysitter in your dream indicates that you need to acknowledge and work on your inner child.', ' ', ' ', '', ' ']",
         "To see or call for a babysitter in your dream indicates that you need to acknowledge and work on your inner child."
        ],
        [
         "34",
         "['mean', 'mean', 'sym', 'sym']",
         "sym",
         "['', '', '', 'Bachelor']",
         "Bachelor"
        ],
        [
         "35",
         "['mean', 'mean', 'mean', 'mean', 'mean', 'mean', 'trsh']",
         "mean",
         "['', 'To meet a bachelor in your dream suggests that you are seeking freedom in your love life. For a man to dream that he is a bachelor indicates that he is having difficulty with gaining his own sense of self or freedom in a relationship. Alternatively, the bachelor represents your masculine side.', ' ', ' ', '', ' ']",
         "To meet a bachelor in your dream suggests that you are seeking freedom in your love life. For a man to dream that he is a bachelor indicates that he is having difficulty with gaining his own sense of self or freedom in a relationship. Alternatively, the bachelor represents your masculine side."
        ],
        [
         "36",
         "['mean', 'sym', 'sym']",
         "sym",
         "['', '', 'Back-biting']",
         "Back-biting"
        ],
        [
         "37",
         "['mean', 'mean']",
         "mean",
         "['', 'To dream of back-biting about someone warns that you will cause harm to someone if you continue on your current course. Think twice over your actions and its consequences.']",
         "To dream of back-biting about someone warns that you will cause harm to someone if you continue on your current course. Think twice over your actions and its consequences."
        ],
        [
         "38",
         "['mean', 'mean', 'mean', 'mean', 'mean', 'mean', 'trsh']",
         "mean",
         "['', 'To dream that someone is back-biting you signifies that you will have some family problems. ', ' ', ' ', '', ' ']",
         "To dream that someone is back-biting you signifies that you will have some family problems."
        ],
        [
         "39",
         "['mean', 'mean', 'sym']",
         "sym",
         "['', '', 'Back']",
         "Back"
        ],
        [
         "40",
         "['mean', 'mean']",
         "mean",
         "['', 'To dream of your back represents your attitudes, strengths, burdens and stance in the world. It may also relate to stress and pressure that someone is putting on you.']",
         "To dream of your back represents your attitudes, strengths, burdens and stance in the world. It may also relate to stress and pressure that someone is putting on you."
        ],
        [
         "41",
         "['mean', 'mean']",
         "mean",
         "['', 'To see a naked back in your dream symbolizes secrets that you may have kept from others or aspects of yourself that you have kept hidden and shielded away. Consider the phrase, \"watch your back!\"; this dream may be telling you to do just that. Traditionally, seeing a back in your dream forewarns that you should not lend money to anyone. In particular, lending money to friends will cause a rift in your relationship.']",
         "To see a naked back in your dream symbolizes secrets that you may have kept from others or aspects of yourself that you have kept hidden and shielded away. Consider the phrase, \"watch your back!\"; this dream may be telling you to do just that. Traditionally, seeing a back in your dream forewarns that you should not lend money to anyone. In particular, lending money to friends will cause a rift in your relationship."
        ],
        [
         "42",
         "['mean', 'mean', 'mean']",
         "mean",
         "['', 'To see a person turn their back on you signifies that you will be deeply hurt as a result of envy and jealousy.', ' ']",
         "To see a person turn their back on you signifies that you will be deeply hurt as a result of envy and jealousy."
        ],
        [
         "43",
         "['mean', 'mean', 'mean', 'mean', 'mean', 'mean', 'mean', 'trsh']",
         "mean",
         "['', 'If you suffer from back pain, then you ', 'may have dreams of breaking your back or throwing your back out. Your dreams incorporate things from your waking life, even physical pain.', '', ' ', '', ' ']",
         "If you suffer from back pain, then you may have dreams of breaking your back or throwing your back out. Your dreams incorporate things from your waking life, even physical pain."
        ],
        [
         "44",
         "['mean', 'mean', 'sym']",
         "sym",
         "['', '', 'Backbone']",
         "Backbone"
        ],
        [
         "45",
         "['mean', 'mean', 'mean', 'link']",
         "link",
         "['', '', '*Please see ', ',http://www.dreammoods.com/dreamdictionary/s4.htm#Spine,']",
         "#Ref:spine"
        ],
        [
         "46",
         "['mean', 'sym', 'sym']",
         "sym",
         "['', '', 'Backdoor']",
         "Backdoor"
        ],
        [
         "47",
         "['mean', 'mean', 'mean', 'mean', 'mean', 'mean', 'trsh']",
         "mean",
         "['', 'To see a backdoor in your dream suggests that you need to search a little harder to find an answer to your problem. Sometimes the solution may not be obvious. Alternatively, the dream indicates that you are trying to find short cuts to do things. ', ' ', ' ', '', ' ']",
         "To see a backdoor in your dream suggests that you need to search a little harder to find an answer to your problem. Sometimes the solution may not be obvious. Alternatively, the dream indicates that you are trying to find short cuts to do things."
        ],
        [
         "48",
         "['mean', 'sym', 'sym']",
         "sym",
         "['', '', 'Backflips']",
         "Backflips"
        ],
        [
         "49",
         "['mean', 'mean', 'mean', 'mean', 'mean', 'mean', 'trsh']",
         "mean",
         "['', 'To dream that you are doing backflips suggests that you are going out of your way to help or please someone. You may feel under-appreciated or that your work is going unnoticed.', ' ', ' ', '', ' ']",
         "To dream that you are doing backflips suggests that you are going out of your way to help or please someone. You may feel under-appreciated or that your work is going unnoticed."
        ]
       ],
       "shape": {
        "columns": 4,
        "rows": 1319
       }
      },
      "text/html": [
       "<div>\n",
       "<style scoped>\n",
       "    .dataframe tbody tr th:only-of-type {\n",
       "        vertical-align: middle;\n",
       "    }\n",
       "\n",
       "    .dataframe tbody tr th {\n",
       "        vertical-align: top;\n",
       "    }\n",
       "\n",
       "    .dataframe thead th {\n",
       "        text-align: right;\n",
       "    }\n",
       "</style>\n",
       "<table border=\"1\" class=\"dataframe\">\n",
       "  <thead>\n",
       "    <tr style=\"text-align: right;\">\n",
       "      <th></th>\n",
       "      <th>clas</th>\n",
       "      <th>final_class</th>\n",
       "      <th>cont</th>\n",
       "      <th>text</th>\n",
       "    </tr>\n",
       "  </thead>\n",
       "  <tbody>\n",
       "    <tr>\n",
       "      <th>0</th>\n",
       "      <td>[mean, sym, trsh]</td>\n",
       "      <td>sym</td>\n",
       "      <td>[,  ]</td>\n",
       "      <td></td>\n",
       "    </tr>\n",
       "    <tr>\n",
       "      <th>1</th>\n",
       "      <td>[mean, mean, sym]</td>\n",
       "      <td>sym</td>\n",
       "      <td>[, , B]</td>\n",
       "      <td>B</td>\n",
       "    </tr>\n",
       "    <tr>\n",
       "      <th>2</th>\n",
       "      <td>[mean, mean, mean, mean, mean, trsh]</td>\n",
       "      <td>mean</td>\n",
       "      <td>[, To see the letter B in your dream is a pun ...</td>\n",
       "      <td>To see the letter B in your dream is a pun on ...</td>\n",
       "    </tr>\n",
       "    <tr>\n",
       "      <th>3</th>\n",
       "      <td>[mean, mean, sym]</td>\n",
       "      <td>sym</td>\n",
       "      <td>[, , Baboon]</td>\n",
       "      <td>Baboon</td>\n",
       "    </tr>\n",
       "    <tr>\n",
       "      <th>4</th>\n",
       "      <td>[mean, mean]</td>\n",
       "      <td>mean</td>\n",
       "      <td>[, To see a baboon in your dream suggests that...</td>\n",
       "      <td>To see a baboon in your dream suggests that yo...</td>\n",
       "    </tr>\n",
       "    <tr>\n",
       "      <th>...</th>\n",
       "      <td>...</td>\n",
       "      <td>...</td>\n",
       "      <td>...</td>\n",
       "      <td>...</td>\n",
       "    </tr>\n",
       "    <tr>\n",
       "      <th>1314</th>\n",
       "      <td>[mean, mean, sym]</td>\n",
       "      <td>sym</td>\n",
       "      <td>[, , Buzzard]</td>\n",
       "      <td>Buzzard</td>\n",
       "    </tr>\n",
       "    <tr>\n",
       "      <th>1315</th>\n",
       "      <td>[mean, mean, mean, mean, mean, mean, trsh]</td>\n",
       "      <td>mean</td>\n",
       "      <td>[, To see a buzzard in your dream symbolizes d...</td>\n",
       "      <td>To see a buzzard in your dream symbolizes deat...</td>\n",
       "    </tr>\n",
       "    <tr>\n",
       "      <th>1316</th>\n",
       "      <td>[mean]</td>\n",
       "      <td>mean</td>\n",
       "      <td>[ ]</td>\n",
       "      <td></td>\n",
       "    </tr>\n",
       "    <tr>\n",
       "      <th>1317</th>\n",
       "      <td>[mean]</td>\n",
       "      <td>mean</td>\n",
       "      <td>[ ]</td>\n",
       "      <td></td>\n",
       "    </tr>\n",
       "    <tr>\n",
       "      <th>1318</th>\n",
       "      <td>[mean, trsh]</td>\n",
       "      <td>mean</td>\n",
       "      <td>[]</td>\n",
       "      <td></td>\n",
       "    </tr>\n",
       "  </tbody>\n",
       "</table>\n",
       "<p>1319 rows × 4 columns</p>\n",
       "</div>"
      ],
      "text/plain": [
       "                                            clas final_class  \\\n",
       "0                              [mean, sym, trsh]         sym   \n",
       "1                              [mean, mean, sym]         sym   \n",
       "2           [mean, mean, mean, mean, mean, trsh]        mean   \n",
       "3                              [mean, mean, sym]         sym   \n",
       "4                                   [mean, mean]        mean   \n",
       "...                                          ...         ...   \n",
       "1314                           [mean, mean, sym]         sym   \n",
       "1315  [mean, mean, mean, mean, mean, mean, trsh]        mean   \n",
       "1316                                      [mean]        mean   \n",
       "1317                                      [mean]        mean   \n",
       "1318                                [mean, trsh]        mean   \n",
       "\n",
       "                                                   cont  \\\n",
       "0                                                 [,  ]   \n",
       "1                                               [, , B]   \n",
       "2     [, To see the letter B in your dream is a pun ...   \n",
       "3                                          [, , Baboon]   \n",
       "4     [, To see a baboon in your dream suggests that...   \n",
       "...                                                 ...   \n",
       "1314                                      [, , Buzzard]   \n",
       "1315  [, To see a buzzard in your dream symbolizes d...   \n",
       "1316                                                [ ]   \n",
       "1317                                                [ ]   \n",
       "1318                                                 []   \n",
       "\n",
       "                                                   text  \n",
       "0                                                        \n",
       "1                                                     B  \n",
       "2     To see the letter B in your dream is a pun on ...  \n",
       "3                                                Baboon  \n",
       "4     To see a baboon in your dream suggests that yo...  \n",
       "...                                                 ...  \n",
       "1314                                            Buzzard  \n",
       "1315  To see a buzzard in your dream symbolizes deat...  \n",
       "1316                                                     \n",
       "1317                                                     \n",
       "1318                                                     \n",
       "\n",
       "[1319 rows x 4 columns]"
      ]
     },
     "execution_count": 54,
     "metadata": {},
     "output_type": "execute_result"
    }
   ],
   "source": [
    "sd = pd.DataFrame(sd)\n",
    "sd"
   ]
  },
  {
   "cell_type": "markdown",
   "id": "58b20be5",
   "metadata": {},
   "source": [
    "Extract links"
   ]
  },
  {
   "cell_type": "code",
   "execution_count": 55,
   "id": "c0d9338d",
   "metadata": {},
   "outputs": [
    {
     "data": {
      "application/vnd.microsoft.datawrangler.viewer.v0+json": {
       "columns": [
        {
         "name": "index",
         "rawType": "int64",
         "type": "integer"
        },
        {
         "name": "clas",
         "rawType": "object",
         "type": "unknown"
        },
        {
         "name": "final_class",
         "rawType": "object",
         "type": "string"
        },
        {
         "name": "cont",
         "rawType": "object",
         "type": "unknown"
        },
        {
         "name": "text",
         "rawType": "object",
         "type": "unknown"
        }
       ],
       "conversionMethod": "pd.DataFrame",
       "ref": "075ac1ba-95b1-41a6-b612-507973cfe44a",
       "rows": [
        [
         "19",
         "['mean', 'mean', 'mean', 'link']",
         "link",
         "['', '', \"***Read DreamMoods' section on \", ',http://www.dreammoods.com/dreaminformation/pregnancy-dreams.htm,']",
         null
        ],
        [
         "45",
         "['mean', 'mean', 'mean', 'link']",
         "link",
         "['', '', '*Please see ', ',http://www.dreammoods.com/dreamdictionary/s4.htm#Spine,']",
         "#Ref:spine"
        ],
        [
         "50",
         "['mean', 'mean', 'mean', 'link']",
         "link",
         "['', '', '*Please see also ', ',http://www.dreammoods.com/dreamdictionary/c.htm#Cartwheels,']",
         null
        ],
        [
         "55",
         "['mean', 'mean', 'mean', 'link']",
         "link",
         "['', '', '*Please See ', ',http://www.dreammoods.com/dreamdictionary/l.htm#Landscape,']",
         "#Ref:landscape"
        ],
        [
         "122",
         "['mean', 'mean', 'link', 'mean', 'mean', 'mean', 'mean', 'trsh']",
         "link",
         "['', 'To see or dream that you are on a balcony refers to your desire to be seen and noticed. You are searching for prestige and higher status. It may also mean that you are on your way up the social ladder. If the balcony is clean, then it indicates that you are looked up to by others. If the balcony is old, then it suggests that your public image is in need of repair. Alternatively, the balcony could signify your ambivalence regarding a situation. You are feeling torn or undecided.', ',http://www.dreammoods.com,', ' ', ' ', '', ' ']",
         null
        ],
        [
         "125",
         "['mean', 'mean', 'mean', 'link']",
         "link",
         "['', '', '*Please see also ', ',http://www.dreammoods.com/dreamdictionary/h.htm#hair,']",
         null
        ],
        [
         "156",
         "['mean', 'mean', 'mean', 'link']",
         "link",
         "['', '', '*Please See ', ',http://www.dreammoods.com/dreamdictionary/b4.htm#Bologna,']",
         "#Ref:bologna"
        ],
        [
         "174",
         "['mean', 'mean', 'mean', 'link']",
         "link",
         "['', '', '*Please See ', ',http://www.dreammoods.com/dreamdictionary/e2.htm#Exile,']",
         "#Ref:exile"
        ],
        [
         "182",
         "['mean', 'mean', 'mean', 'link']",
         "link",
         "['', '', '*Please see also ', ',http://www.dreammoods.com/v.htm#vault,']",
         null
        ],
        [
         "191",
         "['mean', 'mean', 'mean', 'link']",
         "link",
         "['', '', '*Please See Also ', ',http://www.dreammoods.com/dreamdictioanry/f.htm#Feast,']",
         null
        ],
        [
         "201",
         "['mean', 'mean', 'mean', 'link']",
         "link",
         "['', '', '*Please See ', ',http://www.dreammoods.com/dreamdictionary/p5.htm#Prison,']",
         "#Ref:prison"
        ],
        [
         "213",
         "['mean', 'mean', 'mean', 'link']",
         "link",
         "['', '', '*Please See ', ',http://www.dreammoods.com/dreamdictionary/h.htm#Hairdresser,']",
         "#Ref:hairdresser"
        ],
        [
         "247",
         "['mean', 'mean', 'mean', 'link']",
         "link",
         "['', '', '*Please See ', ',http://www.dreammoods.com/dreamdictionary/b.htm#Barrier,']",
         "#Ref:barrier"
        ],
        [
         "268",
         "['mean', 'mean', 'mean', 'link']",
         "link",
         "['', '', '*Please see ', ',http://www.dreammoods.com/dreamdictionary/b2.htm#bathtubs,']",
         "#Ref:bathtubs"
        ],
        [
         "274",
         "['mean', 'mean', 'mean', 'link']",
         "link",
         "['', '', '*Please See Also ', ',http://www.dreammoods.com/dreamdictionary/d3.htm#dunk,']",
         null
        ],
        [
         "299",
         "['mean', 'mean', 'mean', 'link', 'link', 'link', 'link', 'link', 'link']",
         "link",
         "['', '', '*Please also see ', ',http://www.dreammoods.com/dreamdictionary/u.htm#urination,', ',http://dreammoods.com/cgibin/dreambank.pl?method=exact&header=dreamid&search=bathroomdream1,', ',http://dreammoods.com/cgibin/dreambank.pl?method=exact&header=dreamid&search=bathroomdream2,', ',http://dreammoods.com/cgibin/dreambank.pl?method=exact&header=dreamid&search=bathroomdream4,', ',http://dreammoods.com/cgibin/dreambank.pl?method=exact&header=dreamid&search=bathroomdream3,', ',http://www.dreammoods.com/dreambank/bathroom-dreams-computer.html,']",
         null
        ],
        [
         "343",
         "['mean', 'mean', 'mean', 'link']",
         "link",
         "['', '', '*Please See Also ', ',http://www.dreammoods.com/b.htm#Ball,']",
         null
        ],
        [
         "369",
         "['mean', 'mean', 'mean', 'link', 'link']",
         "link",
         "['', '', '**See The Meaning In Action: \"', ',http://dreammoods.com/cgibin/dreambank.pl?method=exact&header=dreamid&search=beardream1,', ',http://dreammoods.com/cgibin/chasedreams.pl?method=exact&header=dreamid&search=chasedream8,']",
         null
        ],
        [
         "387",
         "['mean', 'mean', 'mean', 'link']",
         "link",
         "['', '', '*Please See ', ',http://www.dreammoods.com/dreamdictionary/p.htm#Pageant,']",
         "#Ref:pageant"
        ],
        [
         "392",
         "['mean', 'mean', 'mean', 'link']",
         "link",
         "['', '', '*Please see ', ',http://www.dreammoods.com/dreamdictionary/s.htm#Salon,']",
         "#Ref:salon"
        ],
        [
         "435",
         "['mean', 'mean', 'mean', 'link']",
         "link",
         "['', '', '*Please See ', ',http://www.dreammoods.com/dreamdictionary/p.htm#pager,']",
         "#Ref:pager"
        ],
        [
         "438",
         "['mean', 'mean', 'mean', 'link']",
         "link",
         "['', '', '*Please also see ', ',http://www.dreammoods.com/dreamdictionary/a2.htm#Alcohol,']",
         null
        ],
        [
         "459",
         "['mean', 'mean', 'mean', 'link']",
         "link",
         "['', '', '*Please See ', ',http://www.dreammoods.com/dreamdictionary/b5.htm#Burp,']",
         "#Ref:burp"
        ],
        [
         "479",
         "['mean', 'mean', 'mean', 'link']",
         "link",
         "['', '', '*Please See ', ',http://www.dreammoods.com/dreamdictionary/n.htm#Navel,']",
         "#Ref:navel"
        ],
        [
         "548",
         "['mean', 'mean', 'mean', 'link']",
         "link",
         "['', '', '**Please See ', ',http://www.dreammoods.com/dreamdictionary/w.htm#Wallet,']",
         "#Ref:wallet"
        ],
        [
         "570",
         "['mean', 'mean', 'mean', 'link']",
         "link",
         "['', '', '**See', ',http://www.dreammoods.com/dreamthemes/birds.htm,']",
         null
        ],
        [
         "592",
         "['mean', 'mean', 'mean', 'link', 'mean', 'mean', 'link', 'mean', 'mean']",
         "link",
         "['', '', '***Read our special section on ', ',http://www.dreammoods.com/dreaminformation/pregnancy-dreams.htm,', '', 'Please see also ', ',http://www.dreammoods.com/dreamdictionary/p4.htm#Pregnant,', 'Pregnant', '.']",
         null
        ],
        [
         "594",
         "['mean', 'mean', 'mean', 'link']",
         "link",
         "['', '', '*Please See ', ',http://www.dreammoods.com/dreamdictionary/c4.htm#Contraceptive,']",
         "#Ref:contraceptive"
        ],
        [
         "605",
         "['mean', 'mean', 'mean', 'mean', 'mean', 'mean', 'trsh', 'link', 'mean']",
         "link",
         "['', 'If you are not bisexual and dream that you are, then it may indicate some sexual repression. You may be trying to compensate for your lack of sexual expression. Alternatively, it may represent general sexual confusion.', ' ', ' ', '', ' ', ',http://www.dreammoods.com,', 'meanings by DreamMoods.com']",
         null
        ],
        [
         "607",
         "['mean', 'mean', 'mean', 'link']",
         "link",
         "['', '', '*Please see ', ',http://www.dreammoods.com/dreamdictionary/b5.htm#Buffalo,']",
         "#Ref:buffalo"
        ],
        [
         "632",
         "['mean', 'mean', 'mean', 'link']",
         "link",
         "['', '', '*Please See ', ',http://www.dreammoods.com/dreamdictionary/c2.htm#Chalkboard,']",
         "#Ref:chalkboard"
        ],
        [
         "635",
         "['mean', 'mean', 'link', 'mean', 'mean', 'mean', 'mean', 'mean', 'trsh']",
         "link",
         "['', 'To dream that you are being blackmailed represents inner weaknesses and helplessness. You may not have confidence in your own ability. It may also be a pun on a \"black male\" you may know in your life. ', ',http://www.dreammoods.com,', 'meanings by DreamMoods.com', ' ', ' ', '', ' ']",
         null
        ],
        [
         "645",
         "['mean', 'mean', 'mean', 'link']",
         "link",
         "['', '', '**Please See Also ', ',http://www.dreammoods.com/dreamdictionary/k.htm#Knife,']",
         null
        ],
        [
         "672",
         "['mean', 'mean', 'mean', 'link']",
         "link",
         "['', '', '*Please See Also ', ',http://www.dreammoods.com/dreamdictionary/d.htm#Date,']",
         null
        ],
        [
         "704",
         "['mean', 'mean', 'mean', 'link']",
         "link",
         "['', '', '**See The Meaning In Action: \"', ',http://dreammoods.com/cgibin/dreambank.pl?search=blooddream1&method=exact&header=dreamid,']",
         null
        ],
        [
         "718",
         "['mean', 'mean', 'mean', 'link']",
         "link",
         "['', '', '* Please See ', ',http://www.dreammoods.com/dreamdictionary/p5.htm#Pufferfish,']",
         "#Ref:pufferfish"
        ],
        [
         "762",
         "['mean', 'mean', 'mean', 'link']",
         "link",
         "['', '', '*Please see also ', ',http://www.dreammoods.com/dreamdictionary/c.htm#Cat,']",
         null
        ],
        [
         "782",
         "['mean', 'mean', 'mean', 'link']",
         "link",
         "['', '', '*Please See ', ',http://www.dreammoods.com/dreamdictionary/p3.htm#Piercing,']",
         "#Ref:piercing"
        ],
        [
         "789",
         "['mean', 'mean', 'mean', 'link']",
         "link",
         "['', '', '*Please See ', ',http://dreammoods.com/cgibin/searchcsv.pl?search=swamp&method=exact&header=symbol,']",
         null
        ],
        [
         "836",
         "['mean', 'mean', 'mean', 'link']",
         "link",
         "['', '', '*Please See ', ',http://www.dreammoods.com/dreamdictionary/k.htm#Knapsack,']",
         "#Ref:knapsack"
        ],
        [
         "866",
         "['mean', 'mean', 'mean', 'link']",
         "link",
         "['', '', '* Please See ', ',http://www.dreammoods.com/dreamdictionary/b4.htm#Breasts,']",
         "#Ref:breasts"
        ],
        [
         "907",
         "['mean', 'mean', 'mean', 'link', 'link']",
         "link",
         "['', '', '*See ', ',http://www.dreammoods.com/dreamdictionary/c2.htm#constipation,', ',http://www.dreammoods.com/dreamdictionary/d.htm#diarrhea,']",
         "#Ref:constipation"
        ],
        [
         "954",
         "['mean', 'mean', 'mean', 'link']",
         "link",
         "['', '', '**See The Meaning In Action: \"', ',http://www.dreammoods.com/commondreams/teethdream3.htm,']",
         null
        ],
        [
         "965",
         "['mean', 'mean', 'mean', 'link']",
         "link",
         "['', '', '*Please See ', ',http://www.dreammoods.com/dreamdictionary/l3.htm#Lobotomy,']",
         "#Ref:lobotomy"
        ],
        [
         "977",
         "['mean', 'mean', 'mean', 'link']",
         "link",
         "['', '', '**See The Meaning In Action: \"', ',http://dreammoods.com/cgibin/dreambank.pl?method=exact&header=dreamid&search=treedream1,']",
         null
        ],
        [
         "986",
         "['mean', 'mean', 'mean', 'link']",
         "link",
         "['', '', '*Please See ', ',http://www.dreammoods.com/dreamdictionary/c5.htm#courage,']",
         "#Ref:courage"
        ],
        [
         "1011",
         "['mean', 'mean', 'mean', 'link']",
         "link",
         "['', '', '* Please See Also ', ',http://www.dreammoods.com/dreamdictionary/l.htm#Lactating,']",
         null
        ],
        [
         "1044",
         "['mean', 'mean', 'link', 'mean']",
         "link",
         "['', 'To see a bride in your dream symbolizes a union or partnership. In particular, to see or dream that you are a runaway bride implies that you are not ready to commit to some important change or decision. You are not ready for the next phase of your life.', ',http://www.dreammoods.com,', 'meanings by DreamMoods.com']",
         null
        ],
        [
         "1055",
         "['mean', 'mean', 'mean', 'link']",
         "link",
         "['', ' ', '**See the Meaning In Action: \"', ',http://dreammoods.com/cgibin/dreambank.pl?method=exact&header=dreamid&search=bridgedream1,']",
         null
        ],
        [
         "1079",
         "['mean', 'mean', 'mean', 'link']",
         "link",
         "['', '', '*Please See ', ',http://www.dreammoods.com/dreamdictionary/s5.htm#Stream,']",
         "#Ref:stream"
        ]
       ],
       "shape": {
        "columns": 4,
        "rows": 62
       }
      },
      "text/html": [
       "<div>\n",
       "<style scoped>\n",
       "    .dataframe tbody tr th:only-of-type {\n",
       "        vertical-align: middle;\n",
       "    }\n",
       "\n",
       "    .dataframe tbody tr th {\n",
       "        vertical-align: top;\n",
       "    }\n",
       "\n",
       "    .dataframe thead th {\n",
       "        text-align: right;\n",
       "    }\n",
       "</style>\n",
       "<table border=\"1\" class=\"dataframe\">\n",
       "  <thead>\n",
       "    <tr style=\"text-align: right;\">\n",
       "      <th></th>\n",
       "      <th>clas</th>\n",
       "      <th>final_class</th>\n",
       "      <th>cont</th>\n",
       "      <th>text</th>\n",
       "    </tr>\n",
       "  </thead>\n",
       "  <tbody>\n",
       "    <tr>\n",
       "      <th>19</th>\n",
       "      <td>[mean, mean, mean, link]</td>\n",
       "      <td>link</td>\n",
       "      <td>[, , ***Read DreamMoods' section on , ,http://...</td>\n",
       "      <td>None</td>\n",
       "    </tr>\n",
       "    <tr>\n",
       "      <th>45</th>\n",
       "      <td>[mean, mean, mean, link]</td>\n",
       "      <td>link</td>\n",
       "      <td>[, , *Please see , ,http://www.dreammoods.com/...</td>\n",
       "      <td>#Ref:spine</td>\n",
       "    </tr>\n",
       "    <tr>\n",
       "      <th>50</th>\n",
       "      <td>[mean, mean, mean, link]</td>\n",
       "      <td>link</td>\n",
       "      <td>[, , *Please see also , ,http://www.dreammoods...</td>\n",
       "      <td>None</td>\n",
       "    </tr>\n",
       "    <tr>\n",
       "      <th>55</th>\n",
       "      <td>[mean, mean, mean, link]</td>\n",
       "      <td>link</td>\n",
       "      <td>[, , *Please See , ,http://www.dreammoods.com/...</td>\n",
       "      <td>#Ref:landscape</td>\n",
       "    </tr>\n",
       "    <tr>\n",
       "      <th>122</th>\n",
       "      <td>[mean, mean, link, mean, mean, mean, mean, trsh]</td>\n",
       "      <td>link</td>\n",
       "      <td>[, To see or dream that you are on a balcony r...</td>\n",
       "      <td>None</td>\n",
       "    </tr>\n",
       "    <tr>\n",
       "      <th>...</th>\n",
       "      <td>...</td>\n",
       "      <td>...</td>\n",
       "      <td>...</td>\n",
       "      <td>...</td>\n",
       "    </tr>\n",
       "    <tr>\n",
       "      <th>1185</th>\n",
       "      <td>[mean, mean, mean, link]</td>\n",
       "      <td>link</td>\n",
       "      <td>[, , *Please See , ,http://www.dreammoods.com/...</td>\n",
       "      <td>#Ref:megaphone</td>\n",
       "    </tr>\n",
       "    <tr>\n",
       "      <th>1209</th>\n",
       "      <td>[mean, mean, mean, link]</td>\n",
       "      <td>link</td>\n",
       "      <td>[, , **Please See Also , ,http://www.dreammood...</td>\n",
       "      <td>None</td>\n",
       "    </tr>\n",
       "    <tr>\n",
       "      <th>1226</th>\n",
       "      <td>[mean, mean, mean, mean, link]</td>\n",
       "      <td>link</td>\n",
       "      <td>[,  , , * Please also see , ,http://www.dreamm...</td>\n",
       "      <td>None</td>\n",
       "    </tr>\n",
       "    <tr>\n",
       "      <th>1232</th>\n",
       "      <td>[mean, mean, mean, link]</td>\n",
       "      <td>link</td>\n",
       "      <td>[, , *Please see also , ,http://www.dreammoods...</td>\n",
       "      <td>None</td>\n",
       "    </tr>\n",
       "    <tr>\n",
       "      <th>1280</th>\n",
       "      <td>[mean, mean, mean, link]</td>\n",
       "      <td>link</td>\n",
       "      <td>[, , *Please See, ,http://www.dreammoods.com/d...</td>\n",
       "      <td>#Ref:bra</td>\n",
       "    </tr>\n",
       "  </tbody>\n",
       "</table>\n",
       "<p>62 rows × 4 columns</p>\n",
       "</div>"
      ],
      "text/plain": [
       "                                                  clas final_class  \\\n",
       "19                            [mean, mean, mean, link]        link   \n",
       "45                            [mean, mean, mean, link]        link   \n",
       "50                            [mean, mean, mean, link]        link   \n",
       "55                            [mean, mean, mean, link]        link   \n",
       "122   [mean, mean, link, mean, mean, mean, mean, trsh]        link   \n",
       "...                                                ...         ...   \n",
       "1185                          [mean, mean, mean, link]        link   \n",
       "1209                          [mean, mean, mean, link]        link   \n",
       "1226                    [mean, mean, mean, mean, link]        link   \n",
       "1232                          [mean, mean, mean, link]        link   \n",
       "1280                          [mean, mean, mean, link]        link   \n",
       "\n",
       "                                                   cont            text  \n",
       "19    [, , ***Read DreamMoods' section on , ,http://...            None  \n",
       "45    [, , *Please see , ,http://www.dreammoods.com/...      #Ref:spine  \n",
       "50    [, , *Please see also , ,http://www.dreammoods...            None  \n",
       "55    [, , *Please See , ,http://www.dreammoods.com/...  #Ref:landscape  \n",
       "122   [, To see or dream that you are on a balcony r...            None  \n",
       "...                                                 ...             ...  \n",
       "1185  [, , *Please See , ,http://www.dreammoods.com/...  #Ref:megaphone  \n",
       "1209  [, , **Please See Also , ,http://www.dreammood...            None  \n",
       "1226  [,  , , * Please also see , ,http://www.dreamm...            None  \n",
       "1232  [, , *Please see also , ,http://www.dreammoods...            None  \n",
       "1280  [, , *Please See, ,http://www.dreammoods.com/d...        #Ref:bra  \n",
       "\n",
       "[62 rows x 4 columns]"
      ]
     },
     "execution_count": 55,
     "metadata": {},
     "output_type": "execute_result"
    }
   ],
   "source": [
    "links = sd[sd[\"final_class\"] == \"link\"]\n",
    "links\n"
   ]
  },
  {
   "cell_type": "code",
   "execution_count": 56,
   "id": "c4602e4b",
   "metadata": {},
   "outputs": [],
   "source": [
    "def squeeze_meaning_by_symbol(syms_data):\n",
    "    # convert scraped data to symbol: meaning data \n",
    "    data2 =[]\n",
    "    sym = \"\"\n",
    "    meanings = []\n",
    "\n",
    "    for i, r in syms_data.iterrows():\n",
    "        if r['final_class'] == \"sym\":\n",
    "            \n",
    "            data2.append({\"symbol\": sym, \"meaning\": meanings})\n",
    "            meanings = []\n",
    "            sym = r['text']\n",
    "        else:\n",
    "            if r['text'] is not None:\n",
    "                meanings.append(r['text'])\n",
    "        \n",
    "\n",
    "    data2 = pd.DataFrame(data2)\n",
    "    data2['n_meanings'] = data2.meaning.apply(len)\n",
    "    return data2\n",
    "\n"
   ]
  },
  {
   "cell_type": "code",
   "execution_count": 57,
   "id": "510e2220",
   "metadata": {},
   "outputs": [
    {
     "data": {
      "application/vnd.microsoft.datawrangler.viewer.v0+json": {
       "columns": [
        {
         "name": "index",
         "rawType": "int64",
         "type": "integer"
        },
        {
         "name": "symbol",
         "rawType": "object",
         "type": "string"
        },
        {
         "name": "meaning",
         "rawType": "object",
         "type": "string"
        },
        {
         "name": "n_meanings",
         "rawType": "int64",
         "type": "integer"
        },
        {
         "name": "mean_len",
         "rawType": "float64",
         "type": "float"
        }
       ],
       "conversionMethod": "pd.DataFrame",
       "ref": "0ec30618-e377-4839-bec1-1d275f8145fd",
       "rows": [
        [
         "2",
         "B",
         "To see the letter B in your dream is a pun on \"to be\". Perhaps the dream is telling you to \"let it be\".",
         "1",
         "103.0"
        ],
        [
         "3",
         "Baboon",
         "To see a baboon in your dream suggests that you need to be more expressive in your feelings. You need to be more direct in telling others how you feel. On the hand, it could be saying that you are expressing yourself in an inappropriate manner.",
         "2",
         "244.0"
        ],
        [
         "3",
         "Baboon",
         "In particular, dreaming of a white baboon means that you are completely devoid of emotions.",
         "2",
         "91.0"
        ],
        [
         "4",
         "Baby",
         "To see a baby in your dream signifies innocence, warmth and new beginnings. Babies symbolize something in your own inner nature that is pure, vulnerable, helpless and/or uncorrupted. If you dream that the baby is smiling at you, then it suggests that you are experiencing pure joy. You do not ask for much to make you happy. If you find a baby in your dream, then it suggests that you have acknowledged your hidden potential. If you dream that you forgot you had a baby, then it suggests that you are trying hide your own vulnerabilities; you do not want to let others know of your weaknesses. Alternatively, forgetting about a baby represents an aspect of yourself that you have abandoned or put aside due to life's changing circumstances. The dream may serve as a reminder that it is time for you to pick up that old interest, hobby, or project again. Dreaming of holding a baby is analogous to holding onto an earlier part of yoru life where you felt more depended on and more needed.",
         "12",
         "987.0"
        ],
        [
         "4",
         "Baby",
         "If you dream that you are on your way to the hospital to have a baby, then it signifies your issues of dependency and your desires to be completely cared for. Perhaps you are trying to get out of some responsibility. If you are pregnant in real life, then a more direct interpretation may simply mean that you are experiencing some anxieties of making it to the hospital when the time comes.",
         "12",
         "391.0"
        ],
        [
         "4",
         "Baby",
         "To dream of a crying baby symbolizes a part of yourself that is deprived of attention and needs to be nurtured. Alternatively, it represents your unfulfilled goals and a sense of lacking in your life. If you dream that a baby is neglected, then it suggests that you are not paying enough attention to yourself. You are not utilizing your full potential. Alternatively, this dream could represent your fears about your own children and your ability to protect and to provide for them.",
         "12",
         "483.0"
        ],
        [
         "4",
         "Baby",
         "To dream about a starving baby represents your dependence on others. You are experiencing some deficiency in your life that needs immediate attention and gratification.",
         "12",
         "168.0"
        ],
        [
         "4",
         "Baby",
         "To see yourself or someone as a baby in your dream refers to your desire to be cared for and nurtured. Alternatively, the dream may mean that you or someone is behaving immaturely.",
         "12",
         "180.0"
        ],
        [
         "4",
         "Baby",
         "To dream that a baby is walking or dancing refers to the potential and possibilities that life has in stored for you. The future looks bright. The dream may also be a metaphor that you need to take baby steps in your relationship, toward your goal, in a work project or whatever undertaking. If you have a baby in real life, then the dream is a reflection of your hopes for that baby.",
         "12",
         "384.0"
        ],
        [
         "4",
         "Baby",
         "To dream of an extremely small baby symbolizes your helplessness and your fears of letting others become aware of your vulnerabilities and incompetence. You may be afraid to ask for help and as a result tend to take matters into your own hands.",
         "12",
         "244.0"
        ],
        [
         "4",
         "Baby",
         "To see a dead baby in your dream symbolizes the ending of something that was once a part of you. If you dream that you are trying to snort up a dead baby, then it means that you are refusing to move onto a new stage of life. You are holding onto a dead past.",
         "12",
         "258.0"
        ],
        [
         "4",
         "Baby",
         "To dream that you are dipping a baby in and out of water signifies regression. You are regressing to a time where you had no worries and responsibilities. Alternatively, such a scenario is reminisce of when the baby is in the fetus and in its comfort zone. In fact, some expectant mothers even give birth in a pool, because the environment in the water mimics the environment in the uterus. It is less traumatic for the baby as it emerges into the world. So perhaps, the dream represents your search for your own comfort zone.",
         "12",
         "526.0"
        ],
        [
         "4",
         "Baby",
         "Dreaming of rescuing a drowning baby means that you are allowing yourself to be vulnerable and accepting help from others.",
         "12",
         "122.0"
        ],
        [
         "4",
         "Baby",
         "If you dream of having or adopting a baby of a different race, then it means that you are acknowledging and/or embracing other's physical differences. Everyone started out as a baby who is pure and innocent.",
         "12",
         "207.0"
        ],
        [
         "4",
         "Baby",
         "Seeing an evil baby or a demon baby in your dream implies that you are apprehensive or afraid of a new project that you are undertaking. You may be taking on more than you can handle. If you dream that a baby has a third eye on the back of the head, then it means getting caught. You are acting carelessly when you think no on is watching.",
         "12",
         "339.0"
        ],
        [
         "5",
         "Baby Bottle",
         "To see a baby bottle in your dream represents your issues of dependency. You are relying too much on others. If you are drinking from a baby bottle, then the dream means that you need are emotionally immature. You need to grow up.",
         "1",
         "230.0"
        ],
        [
         "6",
         "Baby Carriage",
         "To see a baby carriage in your dream symbolizes your desire for a family or longing for a baby. If the baby carriage is empty, then it indicates sadness or an unfulfilled goal. Alternatively, it suggests that you need to cater to the needs of your own inner child.",
         "1",
         "264.0"
        ],
        [
         "7",
         "Baby Clothes",
         "To see baby clothes in your dream suggests that you are expressing yourself in a more subtle way. Alternatively, baby clothes represent your former ways of thinking or old habits which you have outgrown.",
         "1",
         "203.0"
        ],
        [
         "8",
         "Baby Food",
         "To see or feed baby food in your dream indicates that nurturance and care is needed in a waking situation. Alternatively, the dream may be a metaphor to indicate that you need to eat smaller portions of food.",
         "2",
         "208.0"
        ],
        [
         "8",
         "Baby Food",
         "To eat or dream that you are being fed baby food indicates that you are being forced to re-learn something that you already know.",
         "2",
         "129.0"
        ],
        [
         "9",
         "Baby Shower",
         "To dream of a baby shower suggests that you are welcoming a new start. You are given a chance to start over again and do things differently this time around. You have a new found faith in life itself.",
         "1",
         "200.0"
        ],
        [
         "10",
         "Babysitter",
         "To dream that you are babysitting suggests that you need to care for the child within yourself.",
         "2",
         "95.0"
        ],
        [
         "10",
         "Babysitter",
         "To see or call for a babysitter in your dream indicates that you need to acknowledge and work on your inner child.",
         "2",
         "114.0"
        ],
        [
         "11",
         "Bachelor",
         "To meet a bachelor in your dream suggests that you are seeking freedom in your love life. For a man to dream that he is a bachelor indicates that he is having difficulty with gaining his own sense of self or freedom in a relationship. Alternatively, the bachelor represents your masculine side.",
         "1",
         "294.0"
        ],
        [
         "12",
         "Back-biting",
         "To dream of back-biting about someone warns that you will cause harm to someone if you continue on your current course. Think twice over your actions and its consequences.",
         "2",
         "171.0"
        ],
        [
         "12",
         "Back-biting",
         "To dream that someone is back-biting you signifies that you will have some family problems.",
         "2",
         "91.0"
        ],
        [
         "13",
         "Back",
         "To dream of your back represents your attitudes, strengths, burdens and stance in the world. It may also relate to stress and pressure that someone is putting on you.",
         "4",
         "166.0"
        ],
        [
         "13",
         "Back",
         "To see a naked back in your dream symbolizes secrets that you may have kept from others or aspects of yourself that you have kept hidden and shielded away. Consider the phrase, \"watch your back!\"; this dream may be telling you to do just that. Traditionally, seeing a back in your dream forewarns that you should not lend money to anyone. In particular, lending money to friends will cause a rift in your relationship.",
         "4",
         "418.0"
        ],
        [
         "13",
         "Back",
         "To see a person turn their back on you signifies that you will be deeply hurt as a result of envy and jealousy.",
         "4",
         "111.0"
        ],
        [
         "13",
         "Back",
         "If you suffer from back pain, then you may have dreams of breaking your back or throwing your back out. Your dreams incorporate things from your waking life, even physical pain.",
         "4",
         "177.0"
        ],
        [
         "14",
         "Backbone",
         "#Ref:spine",
         "1",
         "10.0"
        ],
        [
         "15",
         "Backdoor",
         "To see a backdoor in your dream suggests that you need to search a little harder to find an answer to your problem. Sometimes the solution may not be obvious. Alternatively, the dream indicates that you are trying to find short cuts to do things.",
         "1",
         "246.0"
        ],
        [
         "16",
         "Backflips",
         "To dream that you are doing backflips suggests that you are going out of your way to help or please someone. You may feel under-appreciated or that your work is going unnoticed.",
         "1",
         "177.0"
        ],
        [
         "17",
         "Backgammon",
         "To see a backgammon game in your dream represents an unwelcome guest.",
         "2",
         "69.0"
        ],
        [
         "17",
         "Backgammon",
         "To dream that you lose at backgammon symbolizes misfortune and unlucky in love. You seem to seek out the wrong type of people and your pursuit for love will be a rocky path.",
         "2",
         "173.0"
        ],
        [
         "18",
         "Background",
         "#Ref:landscape",
         "1",
         "14.0"
        ],
        [
         "19",
         "Backpack",
         "To see or carry a backpack in your dream represents the decisions and responsibilities that are weighing your down.",
         "1",
         "115.0"
        ],
        [
         "20",
         "Backpacking",
         "To dream that you are backpacking symbolizes your self-sufficiency and survival skills. You may be reflecting on all the obstacles and adversities that you have overcame.",
         "1",
         "170.0"
        ],
        [
         "21",
         "Backseat",
         "To dream that you are sitting in the backseat of a car suggests that you are no longer in control of your life. You may be feeling overpowered, dominated and being told what to do. You need to start taking back control of your life.",
         "2",
         "232.0"
        ],
        [
         "21",
         "Backseat",
         "To dream that someone is sitting in your backseat highlights your own position of power and control. Someone else's destiny or fate is in your hands.",
         "2",
         "149.0"
        ],
        [
         "22",
         "Backstab",
         "To dream that you are backstabbing someone represents your ruthlessness. Your character is being called into question.",
         "2",
         "118.0"
        ],
        [
         "22",
         "Backstab",
         "To dream that someone has backstabbed you signifies feelings of insecurity. You have a lot going on in your life at the moment and believe someone is out to get you.",
         "2",
         "165.0"
        ],
        [
         "23",
         "Backstage",
         "To dream that you are backstage symbolizes opportunities and access. You need to make sure to take advantage of this limited time opportunity. Alternatively, the dream indicates that there are aspects of yourself that you are reluctant to express or show. Or it may also mean that you need to look at some situation or problem from a new perspective.",
         "1",
         "350.0"
        ],
        [
         "24",
         "Backstroke",
         "To dream that you are doing the backstroke suggests that although you are acknowledging your emotions, you are not confronting them head on.",
         "1",
         "140.0"
        ],
        [
         "25",
         "Backward",
         "To dream that you are walking or moving backwards indicates that your current course of action may be counter-productive. Whatever you are looking for in life seems to be moving away from you. Thus, you may feel a sense of failure or belief that you are unable to achieve your goals and aspirations. On the other hand, moving backwards in your dream indicate that you need to back off or retreat from a situation that you are currently facing in your waking life.",
         "2",
         "463.0"
        ],
        [
         "25",
         "Backward",
         "Dreaming that you fall backwards suggests that you prevented yourself from making a bad decision or mistake. It may also mean that you are not ready to move forward and need to take a step back. sdoommaerd is spelled backwards.",
         "2",
         "227.0"
        ],
        [
         "26",
         "Backyard",
         "To dream about your backyard represents your childhood memories or your subconscious. Alternatively, dreaming of your backyard refers to the secrets you are keeping. There are some aspects of your life which you want to keep hidden and out of the view of others. The dream also represents some aspect of your life that you have taken for granted. Consider also the phrase \"not in my backyard.\" In other words, everything is okay as long as it does not happen to you or occur in your own home. The condition of the yard is also symbolic of how well you maintain and balance aspects of your life.",
         "1",
         "594.0"
        ],
        [
         "27",
         "Bacon",
         "To see bacon in your dream symbolizes essentials, staples, and life's supply. It may also be a play on the common phase \"bringing home the bacon\" to refer to earning a living.",
         "2",
         "175.0"
        ],
        [
         "27",
         "Bacon",
         "To see bacon that has gone rancid in your dream suggests a forbidden situation.",
         "2",
         "79.0"
        ],
        [
         "28",
         "Bad",
         "To dream that you are feeling bad suggests that you are off balance, off centered, or even feeling worthless.",
         "1",
         "109.0"
        ]
       ],
       "shape": {
        "columns": 4,
        "rows": 781
       }
      },
      "text/html": [
       "<div>\n",
       "<style scoped>\n",
       "    .dataframe tbody tr th:only-of-type {\n",
       "        vertical-align: middle;\n",
       "    }\n",
       "\n",
       "    .dataframe tbody tr th {\n",
       "        vertical-align: top;\n",
       "    }\n",
       "\n",
       "    .dataframe thead th {\n",
       "        text-align: right;\n",
       "    }\n",
       "</style>\n",
       "<table border=\"1\" class=\"dataframe\">\n",
       "  <thead>\n",
       "    <tr style=\"text-align: right;\">\n",
       "      <th></th>\n",
       "      <th>symbol</th>\n",
       "      <th>meaning</th>\n",
       "      <th>n_meanings</th>\n",
       "      <th>mean_len</th>\n",
       "    </tr>\n",
       "  </thead>\n",
       "  <tbody>\n",
       "    <tr>\n",
       "      <th>2</th>\n",
       "      <td>B</td>\n",
       "      <td>To see the letter B in your dream is a pun on ...</td>\n",
       "      <td>1</td>\n",
       "      <td>103.0</td>\n",
       "    </tr>\n",
       "    <tr>\n",
       "      <th>3</th>\n",
       "      <td>Baboon</td>\n",
       "      <td>To see a baboon in your dream suggests that yo...</td>\n",
       "      <td>2</td>\n",
       "      <td>244.0</td>\n",
       "    </tr>\n",
       "    <tr>\n",
       "      <th>3</th>\n",
       "      <td>Baboon</td>\n",
       "      <td>In particular, dreaming of a white baboon mean...</td>\n",
       "      <td>2</td>\n",
       "      <td>91.0</td>\n",
       "    </tr>\n",
       "    <tr>\n",
       "      <th>4</th>\n",
       "      <td>Baby</td>\n",
       "      <td>To see a baby in your dream signifies innocenc...</td>\n",
       "      <td>12</td>\n",
       "      <td>987.0</td>\n",
       "    </tr>\n",
       "    <tr>\n",
       "      <th>4</th>\n",
       "      <td>Baby</td>\n",
       "      <td>If you dream that you are on your way to the h...</td>\n",
       "      <td>12</td>\n",
       "      <td>391.0</td>\n",
       "    </tr>\n",
       "    <tr>\n",
       "      <th>...</th>\n",
       "      <td>...</td>\n",
       "      <td>...</td>\n",
       "      <td>...</td>\n",
       "      <td>...</td>\n",
       "    </tr>\n",
       "    <tr>\n",
       "      <th>498</th>\n",
       "      <td>Buttons</td>\n",
       "      <td>To dream that you are unbuttoning your clothes...</td>\n",
       "      <td>3</td>\n",
       "      <td>143.0</td>\n",
       "    </tr>\n",
       "    <tr>\n",
       "      <th>498</th>\n",
       "      <td>Buttons</td>\n",
       "      <td>To lose a button in your dream signifies your ...</td>\n",
       "      <td>3</td>\n",
       "      <td>124.0</td>\n",
       "    </tr>\n",
       "    <tr>\n",
       "      <th>499</th>\n",
       "      <td>Buying</td>\n",
       "      <td>To dream that you or someone is buying somethi...</td>\n",
       "      <td>2</td>\n",
       "      <td>292.0</td>\n",
       "    </tr>\n",
       "    <tr>\n",
       "      <th>499</th>\n",
       "      <td>Buying</td>\n",
       "      <td>To buy a car in your dream refers to your comm...</td>\n",
       "      <td>2</td>\n",
       "      <td>99.0</td>\n",
       "    </tr>\n",
       "    <tr>\n",
       "      <th>500</th>\n",
       "      <td>Buzzer</td>\n",
       "      <td>To hear a buzzer in your dream indicates that ...</td>\n",
       "      <td>1</td>\n",
       "      <td>317.0</td>\n",
       "    </tr>\n",
       "  </tbody>\n",
       "</table>\n",
       "<p>781 rows × 4 columns</p>\n",
       "</div>"
      ],
      "text/plain": [
       "      symbol                                            meaning  n_meanings  \\\n",
       "2          B  To see the letter B in your dream is a pun on ...           1   \n",
       "3     Baboon  To see a baboon in your dream suggests that yo...           2   \n",
       "3     Baboon  In particular, dreaming of a white baboon mean...           2   \n",
       "4       Baby  To see a baby in your dream signifies innocenc...          12   \n",
       "4       Baby  If you dream that you are on your way to the h...          12   \n",
       "..       ...                                                ...         ...   \n",
       "498  Buttons  To dream that you are unbuttoning your clothes...           3   \n",
       "498  Buttons  To lose a button in your dream signifies your ...           3   \n",
       "499   Buying  To dream that you or someone is buying somethi...           2   \n",
       "499   Buying  To buy a car in your dream refers to your comm...           2   \n",
       "500   Buzzer  To hear a buzzer in your dream indicates that ...           1   \n",
       "\n",
       "     mean_len  \n",
       "2       103.0  \n",
       "3       244.0  \n",
       "3        91.0  \n",
       "4       987.0  \n",
       "4       391.0  \n",
       "..        ...  \n",
       "498     143.0  \n",
       "498     124.0  \n",
       "499     292.0  \n",
       "499      99.0  \n",
       "500     317.0  \n",
       "\n",
       "[781 rows x 4 columns]"
      ]
     },
     "execution_count": 57,
     "metadata": {},
     "output_type": "execute_result"
    }
   ],
   "source": [
    "breakpointstring = \"animals being abused\"\n",
    "\n",
    "data2 = squeeze_meaning_by_symbol(sd)\n",
    "data3 = data2.explode('meaning')\n",
    "data3['mean_len'] = data3.meaning.str.len()\n",
    "data3.dropna(inplace=True)\n",
    "data3"
   ]
  },
  {
   "cell_type": "code",
   "execution_count": 58,
   "id": "4ff76dff",
   "metadata": {},
   "outputs": [
    {
     "data": {
      "text/plain": [
       "(153666, '25.05.13-14')"
      ]
     },
     "execution_count": 58,
     "metadata": {},
     "output_type": "execute_result"
    }
   ],
   "source": [
    "tc = int(data3['mean_len'].sum())\n",
    "tstp = datetime.now().strftime(r\"%y.%m.%d-%H\")\n",
    "tc, tstp"
   ]
  },
  {
   "cell_type": "markdown",
   "id": "3d0508c8",
   "metadata": {},
   "source": [
    "total chars extracted from c_all.html:  \n",
    "25.05.10 19:00 - 191953\n"
   ]
  },
  {
   "cell_type": "code",
   "execution_count": 59,
   "id": "1833d4c9",
   "metadata": {},
   "outputs": [],
   "source": [
    "data3.to_csv(f\"datasets/{letter}_scraped_{tstp}_{tc}.csv\", index=False)"
   ]
  },
  {
   "cell_type": "markdown",
   "id": "39063b3c",
   "metadata": {},
   "source": [
    "In the end, the above logic can be summarized in a function: "
   ]
  },
  {
   "cell_type": "code",
   "execution_count": null,
   "id": "f11f6f1f",
   "metadata": {},
   "outputs": [],
   "source": [
    "def extract_letter(file):\n",
    "    with open(file, \"r\") as f:\n",
    "        html = f.read()\n",
    "        \n",
    "    xp = \"/html/body/table[2]/tr/td/div/center/table/tr[4]/td[1]\"\n",
    "\n",
    "    tree = lhtml.fromstring(html)\n",
    "\n",
    "    #tree.text_content()\n",
    "\n",
    "    tabl = tree.xpath(xp)[0]\n",
    "\n",
    "    syms_data = collect_paragraphs(tabl)\n",
    "    syms_data = pd.DataFrame(syms_data)\n",
    "    data2 = squeeze_meaning_by_symbol(syms_data)\n",
    "    data3 = data2.explode('meaning')\n",
    "    data3['mean_len'] = data3.meaning.str.len()\n",
    "    data3.dropna(inplace=True)\n",
    "    return data3\n",
    "\n"
   ]
  },
  {
   "cell_type": "markdown",
   "id": "d0f6b0c1",
   "metadata": {},
   "source": [
    "And executed on all the letters htmls to extract the data "
   ]
  },
  {
   "cell_type": "code",
   "execution_count": null,
   "id": "67a0b091",
   "metadata": {},
   "outputs": [],
   "source": [
    "\n",
    "\n",
    "dfs = []\n",
    "save_dir = 'html/dreamdictionary'\n",
    "tstp = datetime.now().strftime(r\"%y.%m.%d-%H\")\n",
    "for f in os.listdir(save_dir):\n",
    "    if f.endswith(\".html\"):\n",
    "        try:\n",
    "            existing_df = extract_letter(os.path.join(save_dir, f))\n",
    "            existing_df[\"filename\"] = f\n",
    "            dfs.append(existing_df)\n",
    "        except Exception:\n",
    "            continue\n",
    "\n",
    "dataset = pd.concat(dfs)\n",
    "dataset = dataset[dataset['mean_len'] > 0]\n",
    "dataset"
   ]
  },
  {
   "cell_type": "code",
   "execution_count": null,
   "id": "b38d735f",
   "metadata": {},
   "outputs": [],
   "source": [
    "tstp = datetime.now().strftime(r\"%y.%m.%d-%H\")\n",
    "fname = f\"datasets/rescraped_{tstp}\"\n",
    "\n",
    "save_df_as_pretty_html(dataset, fname + \".html\")\n",
    "dataset.to_csv(fname + \".csv\", index=False)"
   ]
  },
  {
   "cell_type": "code",
   "execution_count": 13,
   "id": "3f8edf2e",
   "metadata": {},
   "outputs": [
    {
     "ename": "NameError",
     "evalue": "name 'dataset' is not defined",
     "output_type": "error",
     "traceback": [
      "\u001b[0;31m---------------------------------------------------------------------------\u001b[0m",
      "\u001b[0;31mNameError\u001b[0m                                 Traceback (most recent call last)",
      "Cell \u001b[0;32mIn[13], line 1\u001b[0m\n\u001b[0;32m----> 1\u001b[0m \u001b[43mdataset\u001b[49m \u001b[38;5;66;03m#[dataset['mean_len'] ==0]\u001b[39;00m\n",
      "\u001b[0;31mNameError\u001b[0m: name 'dataset' is not defined"
     ]
    }
   ],
   "source": [
    "dataset #[dataset['mean_len'] ==0]"
   ]
  },
  {
   "cell_type": "code",
   "execution_count": null,
   "id": "12e2e3ad",
   "metadata": {},
   "outputs": [],
   "source": [
    "px.histogram(dataset.mean_len)"
   ]
  },
  {
   "cell_type": "markdown",
   "id": "63fb7ec7",
   "metadata": {},
   "source": [
    "### Potential data augmentation\n",
    "the dream interpretations generally have a rather consistent structure. Maybe this can be leveraged to extract a more detailed dream symbol from the data, without running it through LLM. for further development."
   ]
  },
  {
   "cell_type": "code",
   "execution_count": 3,
   "id": "9bd0d349",
   "metadata": {},
   "outputs": [],
   "source": [
    "dataset = pd.read_csv(\"datasets/rescraped_25.05.12-13.csv\")"
   ]
  },
  {
   "cell_type": "code",
   "execution_count": 4,
   "id": "a5823cf2",
   "metadata": {},
   "outputs": [],
   "source": [
    "dataset.columns = ['symbol', 'interp', 'n_meanings', 'mean_len', 'filename']"
   ]
  },
  {
   "cell_type": "code",
   "execution_count": null,
   "id": "39419dc2",
   "metadata": {},
   "outputs": [
    {
     "name": "stdout",
     "output_type": "stream",
     "text": [
      "((?:suggest|represent|symbolize|indicate|mean|denote|forewarn|highlight|reflect|foretell|impl|signif)(?:y|ies|s|ze)?)\n",
      "((?:analogous|refers to|refer to|points to|relates to|analogous to|is a|is a sign that|is a sign of|is symbolic of|indicative of|then you|then it|then the|a warning|may just be|may be)\\s)\n"
     ]
    },
    {
     "data": {
      "application/vnd.microsoft.datawrangler.viewer.v0+json": {
       "columns": [
        {
         "name": "index",
         "rawType": "int64",
         "type": "integer"
        },
        {
         "name": "symbol",
         "rawType": "object",
         "type": "string"
        },
        {
         "name": "context",
         "rawType": "object",
         "type": "unknown"
        },
        {
         "name": "meaning",
         "rawType": "object",
         "type": "string"
        }
       ],
       "conversionMethod": "pd.DataFrame",
       "ref": "8521909d-6b9b-4486-81cb-0732d31e4888",
       "rows": [
        [
         "276",
         "Anger",
         null,
         "Being angry in your dream may have been carried over from your waking life. Dreams function as a safe outlet where you can express your strong and/or negative emotions. You are suppressing your anger and aggression, instead of consciously acknowledging them."
        ],
        [
         "283",
         "Animal",
         null,
         "A dream about a baby animal is often symbolic of your own child."
        ],
        [
         "513",
         "Awakening",
         null,
         "You may also be on the verge of lucid dreaming."
        ],
        [
         "608",
         "Sauce",
         null,
         "The dream may also be a pun on being \"saucy\". You need to be more bold and direct with your feelings or opinions even though it may not seem to be an appropriate time."
        ],
        [
         "1138",
         "Soda",
         null,
         "If the soda is bitter, sour or off-tasting, then something or someone is preventing you from enjoying life to the fullest. Something is holding you back from fully expressing yourself."
        ],
        [
         "2027",
         "Places",
         null,
         "To dream of a certain place in your dream is telling of your inner state of mind. Consider the feel, the appearance, and the coloring of the place. Also consider your own personal feelings and memories with that particular place."
        ],
        [
         "2032",
         "Plan",
         null,
         "Dreams can help you solve certain problems that you are stuck on. The solution to a problem came about in a dream for some inventors and scientists. Some authors look to their dreams for their novels. Thus dreaming of a plan may give you an answer to a problem you are having."
        ],
        [
         "2282",
         "Property",
         null,
         "These interpretations are property of dm inc."
        ],
        [
         "2601",
         "Fishing",
         null,
         "Consider the common phrase \"fishing for compliments\". Perhaps you are looking for attention."
        ],
        [
         "2838",
         "Fruit",
         null,
         "* See Dream Moods' entries on specific fruits for more information."
        ],
        [
         "2891",
         "Back-biting",
         null,
         "To dream of back-biting about someone warns that you will cause harm to someone if you continue on your current course. Think twice over your actions and its consequences."
        ],
        [
         "3382",
         "Boss",
         null,
         "Co nsider also the relationship you have with your boss. This may provide clues to work-related stress or issues that need to be resolved."
        ],
        [
         "3918",
         "Chakra",
         null,
         "The throat chakra radiates a blue light and pertains to your voice and how you express your opinions and beliefs."
        ],
        [
         "3994",
         "Chest",
         null,
         "It is common for those who experience real life chest pains to have dreams where they are being shot in the chest or feel heavy pressure on their chest."
        ],
        [
         "4848",
         "Ditch",
         null,
         "The dream may also be on pun on ditching school, work, appointment, or something that you are now feeling guilty about."
        ],
        [
         "4889",
         "Dog",
         null,
         "Also consider the notions associated with the word dog, such as loyalty (\"man's best friend\") and to be \"treated like a dog\"."
        ],
        [
         "4925",
         "Doorbell",
         null,
         "Door Knocker"
        ],
        [
         "4962",
         "Dragon",
         null,
         "In the eastern cultures, dragons are seen as spiritual creatures symbolizing good luck and fortune."
        ],
        [
         "5072",
         "Habit",
         null,
         "To dream about an old habit or a habit that you recently quit is an expression of your subconscious desires. Your suppressed urges are making themselves known via your dreams."
        ],
        [
         "5367",
         "Homosexual",
         null,
         "On a side note, it is common for expectant fathers to have dreams of homosexual encounters."
        ],
        [
         "5396",
         "Hornets",
         null,
         "To dream that you are stung by a hornet is an indication of revenge and vengeful attitudes. It may also be a metaphor for some stinging remark."
        ],
        [
         "6158",
         "Road",
         null,
         "To dream that a threatening creature is on a road parallels a hostile situation/person you are encountering in your waking life. It is an obstacle that you need to overcome, no matter how intimidating the situation or person may appear."
        ],
        [
         "6568",
         "Tingling",
         null,
         "To feel a tingling sensation in your dream may actually be your arm or leg losing blood flow. Perhaps your arm or leg is positioned in a certain way where it is losing circulation. Sometimes your actual bodily sensations or discomfort may incorporate themselves into your dream, as well as noises in your surrounding."
        ],
        [
         "6686",
         "Tower",
         null,
         "To dream that a tower is falling or crumbling heralds a drastic change ahead."
        ],
        [
         "7566",
         "Miscarriage",
         null,
         "If you are currently pregnant, then dreams of miscarriages are common in the second trimester of pregnancy."
        ]
       ],
       "shape": {
        "columns": 3,
        "rows": 25
       }
      },
      "text/html": [
       "<div>\n",
       "<style scoped>\n",
       "    .dataframe tbody tr th:only-of-type {\n",
       "        vertical-align: middle;\n",
       "    }\n",
       "\n",
       "    .dataframe tbody tr th {\n",
       "        vertical-align: top;\n",
       "    }\n",
       "\n",
       "    .dataframe thead th {\n",
       "        text-align: right;\n",
       "    }\n",
       "</style>\n",
       "<table border=\"1\" class=\"dataframe\">\n",
       "  <thead>\n",
       "    <tr style=\"text-align: right;\">\n",
       "      <th></th>\n",
       "      <th>symbol</th>\n",
       "      <th>context</th>\n",
       "      <th>meaning</th>\n",
       "    </tr>\n",
       "  </thead>\n",
       "  <tbody>\n",
       "    <tr>\n",
       "      <th>276</th>\n",
       "      <td>Anger</td>\n",
       "      <td>None</td>\n",
       "      <td>Being angry in your dream may have been carrie...</td>\n",
       "    </tr>\n",
       "    <tr>\n",
       "      <th>283</th>\n",
       "      <td>Animal</td>\n",
       "      <td>None</td>\n",
       "      <td>A dream about a baby animal is often symbolic ...</td>\n",
       "    </tr>\n",
       "    <tr>\n",
       "      <th>513</th>\n",
       "      <td>Awakening</td>\n",
       "      <td>None</td>\n",
       "      <td>You may also be on the verge of lucid dreaming.</td>\n",
       "    </tr>\n",
       "    <tr>\n",
       "      <th>608</th>\n",
       "      <td>Sauce</td>\n",
       "      <td>None</td>\n",
       "      <td>The dream may also be a pun on being \"saucy\". ...</td>\n",
       "    </tr>\n",
       "    <tr>\n",
       "      <th>1138</th>\n",
       "      <td>Soda</td>\n",
       "      <td>None</td>\n",
       "      <td>If the soda is bitter, sour or off-tasting, th...</td>\n",
       "    </tr>\n",
       "    <tr>\n",
       "      <th>2027</th>\n",
       "      <td>Places</td>\n",
       "      <td>None</td>\n",
       "      <td>To dream of a certain place in your dream is t...</td>\n",
       "    </tr>\n",
       "    <tr>\n",
       "      <th>2032</th>\n",
       "      <td>Plan</td>\n",
       "      <td>None</td>\n",
       "      <td>Dreams can help you solve certain problems tha...</td>\n",
       "    </tr>\n",
       "    <tr>\n",
       "      <th>2282</th>\n",
       "      <td>Property</td>\n",
       "      <td>None</td>\n",
       "      <td>These interpretations are property of dm inc.</td>\n",
       "    </tr>\n",
       "    <tr>\n",
       "      <th>2601</th>\n",
       "      <td>Fishing</td>\n",
       "      <td>None</td>\n",
       "      <td>Consider the common phrase \"fishing for compli...</td>\n",
       "    </tr>\n",
       "    <tr>\n",
       "      <th>2838</th>\n",
       "      <td>Fruit</td>\n",
       "      <td>None</td>\n",
       "      <td>* See Dream Moods' entries on specific fruits ...</td>\n",
       "    </tr>\n",
       "    <tr>\n",
       "      <th>2891</th>\n",
       "      <td>Back-biting</td>\n",
       "      <td>None</td>\n",
       "      <td>To dream of back-biting about someone warns th...</td>\n",
       "    </tr>\n",
       "    <tr>\n",
       "      <th>3382</th>\n",
       "      <td>Boss</td>\n",
       "      <td>None</td>\n",
       "      <td>Co nsider also the relationship you have with ...</td>\n",
       "    </tr>\n",
       "    <tr>\n",
       "      <th>3918</th>\n",
       "      <td>Chakra</td>\n",
       "      <td>None</td>\n",
       "      <td>The throat chakra radiates a blue light and pe...</td>\n",
       "    </tr>\n",
       "    <tr>\n",
       "      <th>3994</th>\n",
       "      <td>Chest</td>\n",
       "      <td>None</td>\n",
       "      <td>It is common for those who experience real lif...</td>\n",
       "    </tr>\n",
       "    <tr>\n",
       "      <th>4848</th>\n",
       "      <td>Ditch</td>\n",
       "      <td>None</td>\n",
       "      <td>The dream may also be on pun on ditching schoo...</td>\n",
       "    </tr>\n",
       "    <tr>\n",
       "      <th>4889</th>\n",
       "      <td>Dog</td>\n",
       "      <td>None</td>\n",
       "      <td>Also consider the notions associated with the ...</td>\n",
       "    </tr>\n",
       "    <tr>\n",
       "      <th>4925</th>\n",
       "      <td>Doorbell</td>\n",
       "      <td>None</td>\n",
       "      <td>Door Knocker</td>\n",
       "    </tr>\n",
       "    <tr>\n",
       "      <th>4962</th>\n",
       "      <td>Dragon</td>\n",
       "      <td>None</td>\n",
       "      <td>In the eastern cultures, dragons are seen as s...</td>\n",
       "    </tr>\n",
       "    <tr>\n",
       "      <th>5072</th>\n",
       "      <td>Habit</td>\n",
       "      <td>None</td>\n",
       "      <td>To dream about an old habit or a habit that yo...</td>\n",
       "    </tr>\n",
       "    <tr>\n",
       "      <th>5367</th>\n",
       "      <td>Homosexual</td>\n",
       "      <td>None</td>\n",
       "      <td>On a side note, it is common for expectant fat...</td>\n",
       "    </tr>\n",
       "    <tr>\n",
       "      <th>5396</th>\n",
       "      <td>Hornets</td>\n",
       "      <td>None</td>\n",
       "      <td>To dream that you are stung by a hornet is an ...</td>\n",
       "    </tr>\n",
       "    <tr>\n",
       "      <th>6158</th>\n",
       "      <td>Road</td>\n",
       "      <td>None</td>\n",
       "      <td>To dream that a threatening creature is on a r...</td>\n",
       "    </tr>\n",
       "    <tr>\n",
       "      <th>6568</th>\n",
       "      <td>Tingling</td>\n",
       "      <td>None</td>\n",
       "      <td>To feel a tingling sensation in your dream may...</td>\n",
       "    </tr>\n",
       "    <tr>\n",
       "      <th>6686</th>\n",
       "      <td>Tower</td>\n",
       "      <td>None</td>\n",
       "      <td>To dream that a tower is falling or crumbling ...</td>\n",
       "    </tr>\n",
       "    <tr>\n",
       "      <th>7566</th>\n",
       "      <td>Miscarriage</td>\n",
       "      <td>None</td>\n",
       "      <td>If you are currently pregnant, then dreams of ...</td>\n",
       "    </tr>\n",
       "  </tbody>\n",
       "</table>\n",
       "</div>"
      ],
      "text/plain": [
       "           symbol context                                            meaning\n",
       "276         Anger    None  Being angry in your dream may have been carrie...\n",
       "283        Animal    None  A dream about a baby animal is often symbolic ...\n",
       "513     Awakening    None    You may also be on the verge of lucid dreaming.\n",
       "608         Sauce    None  The dream may also be a pun on being \"saucy\". ...\n",
       "1138         Soda    None  If the soda is bitter, sour or off-tasting, th...\n",
       "2027       Places    None  To dream of a certain place in your dream is t...\n",
       "2032         Plan    None  Dreams can help you solve certain problems tha...\n",
       "2282     Property    None      These interpretations are property of dm inc.\n",
       "2601      Fishing    None  Consider the common phrase \"fishing for compli...\n",
       "2838        Fruit    None  * See Dream Moods' entries on specific fruits ...\n",
       "2891  Back-biting    None  To dream of back-biting about someone warns th...\n",
       "3382         Boss    None  Co nsider also the relationship you have with ...\n",
       "3918       Chakra    None  The throat chakra radiates a blue light and pe...\n",
       "3994        Chest    None  It is common for those who experience real lif...\n",
       "4848        Ditch    None  The dream may also be on pun on ditching schoo...\n",
       "4889          Dog    None  Also consider the notions associated with the ...\n",
       "4925     Doorbell    None                                       Door Knocker\n",
       "4962       Dragon    None  In the eastern cultures, dragons are seen as s...\n",
       "5072        Habit    None  To dream about an old habit or a habit that yo...\n",
       "5367   Homosexual    None  On a side note, it is common for expectant fat...\n",
       "5396      Hornets    None  To dream that you are stung by a hornet is an ...\n",
       "6158         Road    None  To dream that a threatening creature is on a r...\n",
       "6568     Tingling    None  To feel a tingling sensation in your dream may...\n",
       "6686        Tower    None  To dream that a tower is falling or crumbling ...\n",
       "7566  Miscarriage    None  If you are currently pregnant, then dreams of ..."
      ]
     },
     "execution_count": 33,
     "metadata": {},
     "output_type": "execute_result"
    }
   ],
   "source": [
    "# potential regex to split symbol and meaning\n",
    "\n",
    "expr = \"((?:suggest|represent|symbolize|indicate|mean|denote|forewarn|highlight|reflect|foretell|impl|signif)(?:y|ies|s|ze)?)\"\n",
    "\n",
    "expr2 = \"\"\"\n",
    "((?:analogous\n",
    "refers to\n",
    "refer to\n",
    "points to\n",
    "relates to\n",
    "analogous to\n",
    "\n",
    "is a\n",
    "is a sign that\n",
    "is a sign of\n",
    "is symbolic of\n",
    "indicative of\n",
    "\n",
    "then you\n",
    "then it\n",
    "then the\n",
    "\n",
    "a warning\n",
    "may just be\n",
    "may be)\\s)\n",
    "\"\"\".strip(\"\\n\").replace(\"\\n\\n\",\"|\").replace(\"\\n\",\"|\")\n",
    "\n",
    "print(expr)\n",
    "print(expr2)\n",
    "\n",
    "def custom_split(x):\n",
    "    incoming = x[\"interp\"]\n",
    "    \n",
    "    if \"#Ref\" in incoming:\n",
    "        return incoming, incoming\n",
    "    res = re.split(expr, incoming, maxsplit=1)\n",
    "    if len(res) == 1:\n",
    "        res = re.split(expr2, incoming, maxsplit=1)\n",
    "        if(len(res) == 1):\n",
    "            return None, incoming\n",
    "\n",
    "    return res[0], \"\".join(res[1:]) \n",
    "\n",
    "\n",
    "dataset[[\"context\",\"meaning\"]] = dataset.apply(custom_split, result_type='expand', axis=1) \n",
    "dataset[\"context_len\"] = dataset.context.str.len()\n",
    "smol = dataset[[\"symbol\", \"context\",\"meaning\"]][dataset.context.isna()] \n",
    "smol"
   ]
  },
  {
   "cell_type": "code",
   "execution_count": null,
   "id": "0d6d9016",
   "metadata": {},
   "outputs": [],
   "source": [
    "# use this ever shrinking dataset to discover \n",
    "# what interps were not picked up by regex \n",
    "smol.to_csv(\"datasets/smol.csv\", index=False)"
   ]
  },
  {
   "cell_type": "code",
   "execution_count": 36,
   "id": "20e31afb",
   "metadata": {},
   "outputs": [
    {
     "name": "stdout",
     "output_type": "stream",
     "text": [
      "✅ HTML table saved to: datasets/rescraped_25.05.13-14.html\n"
     ]
    }
   ],
   "source": [
    "tstp = datetime.now().strftime(r\"%y.%m.%d-%H\")\n",
    "fname = f\"datasets/rescraped_{tstp}\"\n",
    "outcols = [\"symbol\", \"context\",\"meaning\",\"context_len\",\"n_meanings\"]\n",
    "#subset = dataset.loc[list(range(0,len(dataset),10)),outcols]\n",
    "\n",
    "subset = dataset[outcols]\n",
    "\n",
    "save_df_as_pretty_html(subset, fname + \".html\")\n",
    "subset.to_csv(fname + \".csv\", index=False)"
   ]
  },
  {
   "cell_type": "code",
   "execution_count": 34,
   "id": "9ca044f6",
   "metadata": {},
   "outputs": [
    {
     "data": {
      "application/vnd.plotly.v1+json": {
       "config": {
        "plotlyServerURL": "https://plot.ly"
       },
       "data": [
        {
         "bingroup": "x",
         "hovertemplate": "variable=context<br>value=%{x}<br>count=%{y}<extra></extra>",
         "legendgroup": "context",
         "marker": {
          "color": "#636efa",
          "pattern": {
           "shape": ""
          }
         },
         "name": "context",
         "orientation": "v",
         "showlegend": true,
         "type": "histogram",
         "x": {
          "bdata": "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",
          "dtype": "f8"
         },
         "xaxis": "x",
         "yaxis": "y"
        }
       ],
       "layout": {
        "barmode": "relative",
        "legend": {
         "title": {
          "text": "variable"
         },
         "tracegroupgap": 0
        },
        "template": {
         "data": {
          "bar": [
           {
            "error_x": {
             "color": "#2a3f5f"
            },
            "error_y": {
             "color": "#2a3f5f"
            },
            "marker": {
             "line": {
              "color": "#E5ECF6",
              "width": 0.5
             },
             "pattern": {
              "fillmode": "overlay",
              "size": 10,
              "solidity": 0.2
             }
            },
            "type": "bar"
           }
          ],
          "barpolar": [
           {
            "marker": {
             "line": {
              "color": "#E5ECF6",
              "width": 0.5
             },
             "pattern": {
              "fillmode": "overlay",
              "size": 10,
              "solidity": 0.2
             }
            },
            "type": "barpolar"
           }
          ],
          "carpet": [
           {
            "aaxis": {
             "endlinecolor": "#2a3f5f",
             "gridcolor": "white",
             "linecolor": "white",
             "minorgridcolor": "white",
             "startlinecolor": "#2a3f5f"
            },
            "baxis": {
             "endlinecolor": "#2a3f5f",
             "gridcolor": "white",
             "linecolor": "white",
             "minorgridcolor": "white",
             "startlinecolor": "#2a3f5f"
            },
            "type": "carpet"
           }
          ],
          "choropleth": [
           {
            "colorbar": {
             "outlinewidth": 0,
             "ticks": ""
            },
            "type": "choropleth"
           }
          ],
          "contour": [
           {
            "colorbar": {
             "outlinewidth": 0,
             "ticks": ""
            },
            "colorscale": [
             [
              0,
              "#0d0887"
             ],
             [
              0.1111111111111111,
              "#46039f"
             ],
             [
              0.2222222222222222,
              "#7201a8"
             ],
             [
              0.3333333333333333,
              "#9c179e"
             ],
             [
              0.4444444444444444,
              "#bd3786"
             ],
             [
              0.5555555555555556,
              "#d8576b"
             ],
             [
              0.6666666666666666,
              "#ed7953"
             ],
             [
              0.7777777777777778,
              "#fb9f3a"
             ],
             [
              0.8888888888888888,
              "#fdca26"
             ],
             [
              1,
              "#f0f921"
             ]
            ],
            "type": "contour"
           }
          ],
          "contourcarpet": [
           {
            "colorbar": {
             "outlinewidth": 0,
             "ticks": ""
            },
            "type": "contourcarpet"
           }
          ],
          "heatmap": [
           {
            "colorbar": {
             "outlinewidth": 0,
             "ticks": ""
            },
            "colorscale": [
             [
              0,
              "#0d0887"
             ],
             [
              0.1111111111111111,
              "#46039f"
             ],
             [
              0.2222222222222222,
              "#7201a8"
             ],
             [
              0.3333333333333333,
              "#9c179e"
             ],
             [
              0.4444444444444444,
              "#bd3786"
             ],
             [
              0.5555555555555556,
              "#d8576b"
             ],
             [
              0.6666666666666666,
              "#ed7953"
             ],
             [
              0.7777777777777778,
              "#fb9f3a"
             ],
             [
              0.8888888888888888,
              "#fdca26"
             ],
             [
              1,
              "#f0f921"
             ]
            ],
            "type": "heatmap"
           }
          ],
          "histogram": [
           {
            "marker": {
             "pattern": {
              "fillmode": "overlay",
              "size": 10,
              "solidity": 0.2
             }
            },
            "type": "histogram"
           }
          ],
          "histogram2d": [
           {
            "colorbar": {
             "outlinewidth": 0,
             "ticks": ""
            },
            "colorscale": [
             [
              0,
              "#0d0887"
             ],
             [
              0.1111111111111111,
              "#46039f"
             ],
             [
              0.2222222222222222,
              "#7201a8"
             ],
             [
              0.3333333333333333,
              "#9c179e"
             ],
             [
              0.4444444444444444,
              "#bd3786"
             ],
             [
              0.5555555555555556,
              "#d8576b"
             ],
             [
              0.6666666666666666,
              "#ed7953"
             ],
             [
              0.7777777777777778,
              "#fb9f3a"
             ],
             [
              0.8888888888888888,
              "#fdca26"
             ],
             [
              1,
              "#f0f921"
             ]
            ],
            "type": "histogram2d"
           }
          ],
          "histogram2dcontour": [
           {
            "colorbar": {
             "outlinewidth": 0,
             "ticks": ""
            },
            "colorscale": [
             [
              0,
              "#0d0887"
             ],
             [
              0.1111111111111111,
              "#46039f"
             ],
             [
              0.2222222222222222,
              "#7201a8"
             ],
             [
              0.3333333333333333,
              "#9c179e"
             ],
             [
              0.4444444444444444,
              "#bd3786"
             ],
             [
              0.5555555555555556,
              "#d8576b"
             ],
             [
              0.6666666666666666,
              "#ed7953"
             ],
             [
              0.7777777777777778,
              "#fb9f3a"
             ],
             [
              0.8888888888888888,
              "#fdca26"
             ],
             [
              1,
              "#f0f921"
             ]
            ],
            "type": "histogram2dcontour"
           }
          ],
          "mesh3d": [
           {
            "colorbar": {
             "outlinewidth": 0,
             "ticks": ""
            },
            "type": "mesh3d"
           }
          ],
          "parcoords": [
           {
            "line": {
             "colorbar": {
              "outlinewidth": 0,
              "ticks": ""
             }
            },
            "type": "parcoords"
           }
          ],
          "pie": [
           {
            "automargin": true,
            "type": "pie"
           }
          ],
          "scatter": [
           {
            "fillpattern": {
             "fillmode": "overlay",
             "size": 10,
             "solidity": 0.2
            },
            "type": "scatter"
           }
          ],
          "scatter3d": [
           {
            "line": {
             "colorbar": {
              "outlinewidth": 0,
              "ticks": ""
             }
            },
            "marker": {
             "colorbar": {
              "outlinewidth": 0,
              "ticks": ""
             }
            },
            "type": "scatter3d"
           }
          ],
          "scattercarpet": [
           {
            "marker": {
             "colorbar": {
              "outlinewidth": 0,
              "ticks": ""
             }
            },
            "type": "scattercarpet"
           }
          ],
          "scattergeo": [
           {
            "marker": {
             "colorbar": {
              "outlinewidth": 0,
              "ticks": ""
             }
            },
            "type": "scattergeo"
           }
          ],
          "scattergl": [
           {
            "marker": {
             "colorbar": {
              "outlinewidth": 0,
              "ticks": ""
             }
            },
            "type": "scattergl"
           }
          ],
          "scattermap": [
           {
            "marker": {
             "colorbar": {
              "outlinewidth": 0,
              "ticks": ""
             }
            },
            "type": "scattermap"
           }
          ],
          "scattermapbox": [
           {
            "marker": {
             "colorbar": {
              "outlinewidth": 0,
              "ticks": ""
             }
            },
            "type": "scattermapbox"
           }
          ],
          "scatterpolar": [
           {
            "marker": {
             "colorbar": {
              "outlinewidth": 0,
              "ticks": ""
             }
            },
            "type": "scatterpolar"
           }
          ],
          "scatterpolargl": [
           {
            "marker": {
             "colorbar": {
              "outlinewidth": 0,
              "ticks": ""
             }
            },
            "type": "scatterpolargl"
           }
          ],
          "scatterternary": [
           {
            "marker": {
             "colorbar": {
              "outlinewidth": 0,
              "ticks": ""
             }
            },
            "type": "scatterternary"
           }
          ],
          "surface": [
           {
            "colorbar": {
             "outlinewidth": 0,
             "ticks": ""
            },
            "colorscale": [
             [
              0,
              "#0d0887"
             ],
             [
              0.1111111111111111,
              "#46039f"
             ],
             [
              0.2222222222222222,
              "#7201a8"
             ],
             [
              0.3333333333333333,
              "#9c179e"
             ],
             [
              0.4444444444444444,
              "#bd3786"
             ],
             [
              0.5555555555555556,
              "#d8576b"
             ],
             [
              0.6666666666666666,
              "#ed7953"
             ],
             [
              0.7777777777777778,
              "#fb9f3a"
             ],
             [
              0.8888888888888888,
              "#fdca26"
             ],
             [
              1,
              "#f0f921"
             ]
            ],
            "type": "surface"
           }
          ],
          "table": [
           {
            "cells": {
             "fill": {
              "color": "#EBF0F8"
             },
             "line": {
              "color": "white"
             }
            },
            "header": {
             "fill": {
              "color": "#C8D4E3"
             },
             "line": {
              "color": "white"
             }
            },
            "type": "table"
           }
          ]
         },
         "layout": {
          "annotationdefaults": {
           "arrowcolor": "#2a3f5f",
           "arrowhead": 0,
           "arrowwidth": 1
          },
          "autotypenumbers": "strict",
          "coloraxis": {
           "colorbar": {
            "outlinewidth": 0,
            "ticks": ""
           }
          },
          "colorscale": {
           "diverging": [
            [
             0,
             "#8e0152"
            ],
            [
             0.1,
             "#c51b7d"
            ],
            [
             0.2,
             "#de77ae"
            ],
            [
             0.3,
             "#f1b6da"
            ],
            [
             0.4,
             "#fde0ef"
            ],
            [
             0.5,
             "#f7f7f7"
            ],
            [
             0.6,
             "#e6f5d0"
            ],
            [
             0.7,
             "#b8e186"
            ],
            [
             0.8,
             "#7fbc41"
            ],
            [
             0.9,
             "#4d9221"
            ],
            [
             1,
             "#276419"
            ]
           ],
           "sequential": [
            [
             0,
             "#0d0887"
            ],
            [
             0.1111111111111111,
             "#46039f"
            ],
            [
             0.2222222222222222,
             "#7201a8"
            ],
            [
             0.3333333333333333,
             "#9c179e"
            ],
            [
             0.4444444444444444,
             "#bd3786"
            ],
            [
             0.5555555555555556,
             "#d8576b"
            ],
            [
             0.6666666666666666,
             "#ed7953"
            ],
            [
             0.7777777777777778,
             "#fb9f3a"
            ],
            [
             0.8888888888888888,
             "#fdca26"
            ],
            [
             1,
             "#f0f921"
            ]
           ],
           "sequentialminus": [
            [
             0,
             "#0d0887"
            ],
            [
             0.1111111111111111,
             "#46039f"
            ],
            [
             0.2222222222222222,
             "#7201a8"
            ],
            [
             0.3333333333333333,
             "#9c179e"
            ],
            [
             0.4444444444444444,
             "#bd3786"
            ],
            [
             0.5555555555555556,
             "#d8576b"
            ],
            [
             0.6666666666666666,
             "#ed7953"
            ],
            [
             0.7777777777777778,
             "#fb9f3a"
            ],
            [
             0.8888888888888888,
             "#fdca26"
            ],
            [
             1,
             "#f0f921"
            ]
           ]
          },
          "colorway": [
           "#636efa",
           "#EF553B",
           "#00cc96",
           "#ab63fa",
           "#FFA15A",
           "#19d3f3",
           "#FF6692",
           "#B6E880",
           "#FF97FF",
           "#FECB52"
          ],
          "font": {
           "color": "#2a3f5f"
          },
          "geo": {
           "bgcolor": "white",
           "lakecolor": "white",
           "landcolor": "#E5ECF6",
           "showlakes": true,
           "showland": true,
           "subunitcolor": "white"
          },
          "hoverlabel": {
           "align": "left"
          },
          "hovermode": "closest",
          "mapbox": {
           "style": "light"
          },
          "paper_bgcolor": "white",
          "plot_bgcolor": "#E5ECF6",
          "polar": {
           "angularaxis": {
            "gridcolor": "white",
            "linecolor": "white",
            "ticks": ""
           },
           "bgcolor": "#E5ECF6",
           "radialaxis": {
            "gridcolor": "white",
            "linecolor": "white",
            "ticks": ""
           }
          },
          "scene": {
           "xaxis": {
            "backgroundcolor": "#E5ECF6",
            "gridcolor": "white",
            "gridwidth": 2,
            "linecolor": "white",
            "showbackground": true,
            "ticks": "",
            "zerolinecolor": "white"
           },
           "yaxis": {
            "backgroundcolor": "#E5ECF6",
            "gridcolor": "white",
            "gridwidth": 2,
            "linecolor": "white",
            "showbackground": true,
            "ticks": "",
            "zerolinecolor": "white"
           },
           "zaxis": {
            "backgroundcolor": "#E5ECF6",
            "gridcolor": "white",
            "gridwidth": 2,
            "linecolor": "white",
            "showbackground": true,
            "ticks": "",
            "zerolinecolor": "white"
           }
          },
          "shapedefaults": {
           "line": {
            "color": "#2a3f5f"
           }
          },
          "ternary": {
           "aaxis": {
            "gridcolor": "white",
            "linecolor": "white",
            "ticks": ""
           },
           "baxis": {
            "gridcolor": "white",
            "linecolor": "white",
            "ticks": ""
           },
           "bgcolor": "#E5ECF6",
           "caxis": {
            "gridcolor": "white",
            "linecolor": "white",
            "ticks": ""
           }
          },
          "title": {
           "x": 0.05
          },
          "xaxis": {
           "automargin": true,
           "gridcolor": "white",
           "linecolor": "white",
           "ticks": "",
           "title": {
            "standoff": 15
           },
           "zerolinecolor": "white",
           "zerolinewidth": 2
          },
          "yaxis": {
           "automargin": true,
           "gridcolor": "white",
           "linecolor": "white",
           "ticks": "",
           "title": {
            "standoff": 15
           },
           "zerolinecolor": "white",
           "zerolinewidth": 2
          }
         }
        },
        "title": {
         "text": "Context Lengths"
        },
        "xaxis": {
         "anchor": "y",
         "domain": [
          0,
          1
         ],
         "title": {
          "text": "value"
         }
        },
        "yaxis": {
         "anchor": "x",
         "domain": [
          0,
          1
         ],
         "title": {
          "text": "count"
         }
        }
       }
      }
     },
     "metadata": {},
     "output_type": "display_data"
    }
   ],
   "source": [
    "px.histogram(dataset.context.str.len(), title=\"Context Lengths\")"
   ]
  },
  {
   "cell_type": "code",
   "execution_count": 37,
   "id": "99a2c88d",
   "metadata": {},
   "outputs": [
    {
     "data": {
      "application/vnd.microsoft.datawrangler.viewer.v0+json": {
       "columns": [
        {
         "name": "index",
         "rawType": "int64",
         "type": "integer"
        },
        {
         "name": "symbol",
         "rawType": "object",
         "type": "string"
        },
        {
         "name": "context",
         "rawType": "object",
         "type": "unknown"
        },
        {
         "name": "meaning",
         "rawType": "object",
         "type": "string"
        },
        {
         "name": "context_len",
         "rawType": "float64",
         "type": "float"
        },
        {
         "name": "n_meanings",
         "rawType": "int64",
         "type": "integer"
        }
       ],
       "conversionMethod": "pd.DataFrame",
       "ref": "9aae949d-57b8-4d32-9131-e0a43f5ae151",
       "rows": [
        [
         "0",
         "A",
         "To see the letter \"A\" in your dream ",
         "represents the beginning of a new stage. You are moving on to something new and grand. Alternatively, the letter \"A\" invokes feelings of superiority and grandeur. It may indicate the name or initial of a person.",
         "36.0",
         "2"
        ],
        [
         "1",
         "Aardvark",
         "To see an aardvark in your dream ",
         "indicates that you are being very secretive and cautious about your business.",
         "33.0",
         "1"
        ],
        [
         "2",
         "Abacus",
         "To see or use an abacus in your dream ",
         "refers to your outdated views. You have an old fashion perspective on certain issues.",
         "38.0",
         "1"
        ],
        [
         "3",
         "Abalone",
         "To see or eat abalone in your dream ",
         "indicates a transitional period in your life. The symbol may also be a play on words to indicate feelings of \"loneliness\".",
         "36.0",
         "1"
        ],
        [
         "4",
         "Abandonment",
         "To dream that you are abandoned ",
         "suggests that it is time to leave behind past feelings and characteristics that are hindering your growth. Let go of your old attitudes. A more direct and literal interpretation of this dream indicates you have a fear of being deserted, abandoned, or even betrayed. It may stem from a recent loss or a fear of losing a loved one. The fear of abandonment may manifest itself into your dream as part of the healing process and dealing with losing a loved one. It may also stem from unresolved feelings or problems from childhood. Alternatively, the dream indicates that you are feeling neglected or that your feelings are being overlooked. Perhaps the dream is a metaphor that you need to approach life with \"reckless abandon\" and live more freely.",
         "32.0",
         "2"
        ],
        [
         "5",
         "Abandonment",
         "To abandon others in your dream ",
         "suggests that you are overwhelmed by the problems and decisions in your life.",
         "32.0",
         "2"
        ],
        [
         "6",
         "Abbey",
         "To see an abbey in your dream ",
         "signifies spirituality, peace of mind and freedom from anxiety. You are in a state of contentment and satisfaction. Help for you is always around the corner.",
         "30.0",
         "2"
        ],
        [
         "7",
         "Abbey",
         "To see an abbey in ruins ",
         "indicates feelings of hopelessness. You have a tendency to not finish what you started.",
         "25.0",
         "2"
        ],
        [
         "8",
         "Abbot",
         "To see an abbot in your dream ",
         "suggests that someone has power over you and are making you do things that you do not necessarily want to do. You are feeling confined or restricted. The dream indicates that you will experience many obstacles and setback before achieving success and prestige.",
         "30.0",
         "1"
        ],
        [
         "9",
         "Abbreviations",
         "To see abbreviations in your dream may ",
         "represent the initials of someone in your life. The abbreviations could stand for an organization or a common acronym or it may spell out some hidden message or advice. The dreaming mind likes to make use of puns, as well as shorthand messages. For example, \"CD\" could be a pun on a \"seedy\" situation. \"AA\" could stand for Alcoholics Anonymous and thus point to the dangers or your excesses and negative behaviors. \"Inc\" may represent an \"inkling\", hunch or suspicious you have about a situation. The initails DM may refer to a direct message or perhaps that you need to check Dream Moqds for your dream anaylsis.",
         "39.0",
         "1"
        ],
        [
         "10",
         "Abdomen",
         "To see your abdomen in a dream ",
         "refers to your natural instincts and repressed emotions. There is something in your real life that you \"cannot stomach\" or have difficulties accepting. You need to get it out of your system. Alternatively, the dream symbol may be strictly physiological and you may just be experiencing constipation or indigestion.",
         "31.0",
         "4"
        ],
        [
         "11",
         "Abdomen",
         "To dream that your abdomen is exposed ",
         "represents issues you have with trust and feelings of vulnerability. You are expressing your primal emotions and instincts.",
         "38.0",
         "4"
        ],
        [
         "12",
         "Abdomen",
         "To dream that your abdomen is swollen ",
         "indicates that some new project is in the works.",
         "38.0",
         "4"
        ],
        [
         "13",
         "Abduction",
         "To dream of being abducted ",
         "indicates that you are being manipulated by your circumstances or by someone. You lack control of your own life.",
         "27.0",
         "4"
        ],
        [
         "14",
         "Abduction",
         "To witness an abduction in your dream ",
         "signifies feelings of helplessness.",
         "38.0",
         "4"
        ],
        [
         "15",
         "Abduction",
         "To dream that you are abducting someone ",
         "implies that you are holding on to something that you need to let go. You may be forcing your views and opinions on others.",
         "40.0",
         "4"
        ],
        [
         "16",
         "Abhorrence",
         "To dream that you abhor a person ",
         "represents your waking dislike for that person. You are harboring feelings of resentment or aggression and feel that this person has acted in a less than honorable way.",
         "33.0",
         "2"
        ],
        [
         "17",
         "Abhorrence",
         "To dream that you are abhorred by others ",
         "suggests that you may be forcing your views and opinions on others. You are rubbing others the wrong way.",
         "41.0",
         "2"
        ],
        [
         "18",
         "Abnormal",
         "To dream of some abnormality or of abnormal objects ",
         "indicate that the problems that have been preoccupying your mind will soon be resolved. Note that anything appearing abnormal draws attention to that particular aspect. Something in your life may not be consistent with how you feel things should be.",
         "52.0",
         "1"
        ],
        [
         "19",
         "Abode",
         "#Ref:home",
         "#Ref:home",
         "9.0",
         "1"
        ],
        [
         "20",
         "Abominable Snowman",
         "#Ref:yeti",
         "#Ref:yeti",
         "9.0",
         "1"
        ],
        [
         "21",
         "Aborigine",
         "To see an Aborigine in your dream ",
         "represents both your untamed, natural self and your pure, innocent side. You need to be more in touch with your intuition and inner forces. It also suggests that you are being overindulgent or overly emotional. You may be harming yourself and jeopardizing your well-being due to your unrestraint.",
         "34.0",
         "1"
        ],
        [
         "22",
         "Abortion",
         "To dream that you have an abortion ",
         "suggests that you are hindering and blocking your own growth. You may be hesitant in pursuing a new direction in your life due to fear, pressure, personal conflict or moral obligation. The dream may also be a reflection of your own real-life abortion and thus serves as a way of healing from the trauma and working towards self-acceptance. Alternatively, this dream may also be a message for you to take care and look after your health.",
         "35.0",
         "3"
        ],
        [
         "23",
         "Abortion",
         "To dream that someone has an abortion ",
         "refers to an aspect of your relationship with this person is not growing or maturing. If you do not know this person, then the dream may be about your own personal views on abortion.",
         "38.0",
         "3"
        ],
        [
         "24",
         "Abortion",
         "To dream that you or someone has an illegal abortion ",
         "indicates that you are desperate to keep things the exact same. If the abortion results in death, then it means that your approach to a problem is all wrong.",
         "53.0",
         "3"
        ],
        [
         "25",
         "Above",
         "To see something above you in your dream ",
         "suggests that you need to set your goals higher. Aim high! Alternatively, the dream indicates that you are feeling inferior or inadequate.",
         "41.0",
         "1"
        ],
        [
         "26",
         "Abraham Lincoln",
         "To see Abraham Lincoln in your dream ",
         "refers to your solid character and leadership ability. Known as \"Honest Abe\", the dream may also be telling you to be truthful or to come clean about something.",
         "37.0",
         "1"
        ],
        [
         "27",
         "Abroad",
         "To dream of being or going abroad ",
         "indicates unbalance and chaos in your current situation and condition. Consequently, your dream may represent your need for a change in scenery or a desire to escape from a current situation. You need to make some drastic changes in your life. Alternatively, the dream may suggest that you need to expand your horizons or experience a new sense of spirituality.",
         "34.0",
         "1"
        ],
        [
         "28",
         "Absence",
         "To dream that someone is absent, especially if you expect to find them, ",
         "suggests that you are looking for something that is already lost to you. Alternatively, you may be looking to fill a void in your life. Something is missing from your life.",
         "72.0",
         "1"
        ],
        [
         "29",
         "Abscess",
         "To dream that you have an abscess ",
         "suggests that there is something that you need to express and get out into the open.",
         "34.0",
         "2"
        ],
        [
         "30",
         "Abscond",
         "To dream that you have absconded with something ",
         "indicates your failed accomplishments. You may also be feeling insecure about your achievements. You feel that you are never good enough. Consider the significance or value of what you have absconded.",
         "48.0",
         "1"
        ],
        [
         "31",
         "Absorb",
         "To be absorbed in whatever you are doing ",
         "suggests that you may be too focused on your own thing and risk alienating others around you. The dream may also be a metaphor that you need to integrate and adapt to your various surroundings.",
         "41.0",
         "1"
        ],
        [
         "32",
         "Abstinence",
         "To dream that you practice abstinence from drinking, sex or any other sort of sensual temptation ",
         "is a warning against being over confidant. You need to take things more slowly.",
         "97.0",
         "1"
        ],
        [
         "33",
         "Abundance",
         "To dream of having an abundance of a certain item ",
         "indicates that you need to conserve your resources and energies. This dream may be a compensatory dream for something that you are lacking in life. More directly, abundance signifies happiness.",
         "50.0",
         "1"
        ],
        [
         "34",
         "Abuse",
         "To dream you are abusing someone ",
         "suggests that your past actions will come back to haunt you. You may be expressing some regret or remorse over your actions.",
         "33.0",
         "4"
        ],
        [
         "35",
         "Abuse",
         "To dream you are being verbally or physically abused ",
         "suggests that you are feeling victimized in a waking situation. You are being taking advantage of.",
         "53.0",
         "4"
        ],
        [
         "36",
         "Abuse",
         "To see children being abused in your dream ",
         "implies that you are lacking a voice for your own inner child. You feel that a part of your own childhood is lost.",
         "43.0",
         "4"
        ],
        [
         "37",
         "Abyss",
         "To dream of an abyss ",
         "signifies an obstacle that is creating much anxiety for you. You need to work through the difficulty and overcome this obstacle in your life. Perhaps you are afraid of \"taking the plunge\".",
         "21.0",
         "2"
        ],
        [
         "38",
         "Abyss",
         "To dream that you are falling into an abyss ",
         "symbolizes the depths of your subconscious. You are afraid and/or uncertain as to what you will discover about yourself and about your hidden feelings and fears. The abyss may also represent your primal fears and feelings of \"falling into a pit of despair\". Perhaps you are in a state of depression or wallowing in your negative feelings. Alternatively, the dream could denote your lack of spirituality.",
         "44.0",
         "2"
        ],
        [
         "39",
         "Acacia",
         "To see an acacia tree in your dream ",
         "symbolizes your attitudes with death and your sense of mortality.",
         "36.0",
         "1"
        ],
        [
         "40",
         "Academy",
         "To dream of an academy ",
         "signifies new friendships and opportunities.",
         "23.0",
         "1"
        ],
        [
         "41",
         "Academy Awards",
         "To dream that you at the Academy Awards ",
         "indicates that you need to add some glamour into your life. If you win an Oscar, then it implies that you are looking for some sort of acknowledgment in your waking life.",
         "40.0",
         "1"
        ],
        [
         "42",
         "Accelerator",
         "To see an accelerator in your dream ",
         "indicates that you will achieve your goals through your own efforts. The dream may also be telling you to slow down.",
         "36.0",
         "2"
        ],
        [
         "43",
         "Accelerator",
         "To dream that the accelerator is jammed or broken ",
         "indicates a loss of control in some aspect of your life. You maybe trying to rush through things.",
         "50.0",
         "2"
        ],
        [
         "44",
         "Accent",
         "To speak with an accent in your dream ",
         "suggests that you are having difficulties conveying your thoughts. Consider how you feel about the accent. If you feel the accent makes you stand out in a negative way, then it signifies feelings of insecurities. If the accent makes you stand out in a positive way, then it symbolizes an air of confidence.",
         "38.0",
         "2"
        ],
        [
         "45",
         "Accent",
         "To hear someone speaking with an accent in your dream ",
         "represents something familiar yet different. You are getting the gist of a message, but you still do not completely understand all of it.",
         "54.0",
         "2"
        ],
        [
         "46",
         "Acceptance",
         "To dream about acceptance ",
         "indicates issues of self-esteem and measuring up to the expectations of others. There is a waking situation where you are seeking acceptance and wanting to be a part of.",
         "26.0",
         "1"
        ],
        [
         "47",
         "Accessory",
         "To dream of accessorizing yourself ",
         "suggests that you are feeling incomplete. Something is missing in your life.",
         "35.0",
         "1"
        ],
        [
         "48",
         "Accident",
         "To dream that you are in an accident ",
         "signifies pent-up guilt in which you are subconsciously punishing yourself over. Perhaps you are not proud of something you have done. Alternatively, the accident may symbolize an error or mistake you have made. Accident dreams also represent your fears of being in an actual, physical accident. You may simply be nervous about getting behind the wheel. Or the dream is trying to warn you of some accident.",
         "37.0",
         "3"
        ],
        [
         "49",
         "Accident",
         "To dream of a car accident ",
         "symbolizes your emotional state. You may be harboring deep anxieties and fears. Are you \"driving\" yourself too hard? Perhaps you need to slow down before you hit disaster. You need to rethink or re-plan your course of actions and set yourself on a better path. Dreaming that someone is injured in a car accident means that you cannot control the action of others. They have to live with the consequences of their own decisions.",
         "27.0",
         "3"
        ]
       ],
       "shape": {
        "columns": 5,
        "rows": 7799
       }
      },
      "text/html": [
       "<div>\n",
       "<style scoped>\n",
       "    .dataframe tbody tr th:only-of-type {\n",
       "        vertical-align: middle;\n",
       "    }\n",
       "\n",
       "    .dataframe tbody tr th {\n",
       "        vertical-align: top;\n",
       "    }\n",
       "\n",
       "    .dataframe thead th {\n",
       "        text-align: right;\n",
       "    }\n",
       "</style>\n",
       "<table border=\"1\" class=\"dataframe\">\n",
       "  <thead>\n",
       "    <tr style=\"text-align: right;\">\n",
       "      <th></th>\n",
       "      <th>symbol</th>\n",
       "      <th>context</th>\n",
       "      <th>meaning</th>\n",
       "      <th>context_len</th>\n",
       "      <th>n_meanings</th>\n",
       "    </tr>\n",
       "  </thead>\n",
       "  <tbody>\n",
       "    <tr>\n",
       "      <th>0</th>\n",
       "      <td>A</td>\n",
       "      <td>To see the letter \"A\" in your dream</td>\n",
       "      <td>represents the beginning of a new stage. You a...</td>\n",
       "      <td>36.0</td>\n",
       "      <td>2</td>\n",
       "    </tr>\n",
       "    <tr>\n",
       "      <th>1</th>\n",
       "      <td>Aardvark</td>\n",
       "      <td>To see an aardvark in your dream</td>\n",
       "      <td>indicates that you are being very secretive an...</td>\n",
       "      <td>33.0</td>\n",
       "      <td>1</td>\n",
       "    </tr>\n",
       "    <tr>\n",
       "      <th>2</th>\n",
       "      <td>Abacus</td>\n",
       "      <td>To see or use an abacus in your dream</td>\n",
       "      <td>refers to your outdated views. You have an old...</td>\n",
       "      <td>38.0</td>\n",
       "      <td>1</td>\n",
       "    </tr>\n",
       "    <tr>\n",
       "      <th>3</th>\n",
       "      <td>Abalone</td>\n",
       "      <td>To see or eat abalone in your dream</td>\n",
       "      <td>indicates a transitional period in your life. ...</td>\n",
       "      <td>36.0</td>\n",
       "      <td>1</td>\n",
       "    </tr>\n",
       "    <tr>\n",
       "      <th>4</th>\n",
       "      <td>Abandonment</td>\n",
       "      <td>To dream that you are abandoned</td>\n",
       "      <td>suggests that it is time to leave behind past ...</td>\n",
       "      <td>32.0</td>\n",
       "      <td>2</td>\n",
       "    </tr>\n",
       "    <tr>\n",
       "      <th>...</th>\n",
       "      <td>...</td>\n",
       "      <td>...</td>\n",
       "      <td>...</td>\n",
       "      <td>...</td>\n",
       "      <td>...</td>\n",
       "    </tr>\n",
       "    <tr>\n",
       "      <th>7794</th>\n",
       "      <td>Mutilate</td>\n",
       "      <td>To dream that you are being mutilated</td>\n",
       "      <td>indicates that there is a waking situation tha...</td>\n",
       "      <td>38.0</td>\n",
       "      <td>2</td>\n",
       "    </tr>\n",
       "    <tr>\n",
       "      <th>7795</th>\n",
       "      <td>Mutilate</td>\n",
       "      <td>To dream that someone or something is mutilated</td>\n",
       "      <td>indicates that your integrity is put into ques...</td>\n",
       "      <td>48.0</td>\n",
       "      <td>2</td>\n",
       "    </tr>\n",
       "    <tr>\n",
       "      <th>7796</th>\n",
       "      <td>Muzzle</td>\n",
       "      <td>To see or use a muzzle in your dream</td>\n",
       "      <td>suggests that you need to show better restrain...</td>\n",
       "      <td>37.0</td>\n",
       "      <td>1</td>\n",
       "    </tr>\n",
       "    <tr>\n",
       "      <th>7797</th>\n",
       "      <td>Myrrh</td>\n",
       "      <td>To see myrrh in your dream</td>\n",
       "      <td>signifies punishment or suffering. You are und...</td>\n",
       "      <td>27.0</td>\n",
       "      <td>1</td>\n",
       "    </tr>\n",
       "    <tr>\n",
       "      <th>7798</th>\n",
       "      <td>Myrtle</td>\n",
       "      <td>To see a myrtle in your dream</td>\n",
       "      <td>symbolizes happiness, peace, prosperity or dom...</td>\n",
       "      <td>30.0</td>\n",
       "      <td>1</td>\n",
       "    </tr>\n",
       "  </tbody>\n",
       "</table>\n",
       "<p>7799 rows × 5 columns</p>\n",
       "</div>"
      ],
      "text/plain": [
       "           symbol                                           context  \\\n",
       "0               A              To see the letter \"A\" in your dream    \n",
       "1        Aardvark                 To see an aardvark in your dream    \n",
       "2          Abacus            To see or use an abacus in your dream    \n",
       "3         Abalone              To see or eat abalone in your dream    \n",
       "4     Abandonment                  To dream that you are abandoned    \n",
       "...           ...                                               ...   \n",
       "7794     Mutilate            To dream that you are being mutilated    \n",
       "7795     Mutilate  To dream that someone or something is mutilated    \n",
       "7796       Muzzle             To see or use a muzzle in your dream    \n",
       "7797        Myrrh                       To see myrrh in your dream    \n",
       "7798       Myrtle                    To see a myrtle in your dream    \n",
       "\n",
       "                                                meaning  context_len  \\\n",
       "0     represents the beginning of a new stage. You a...         36.0   \n",
       "1     indicates that you are being very secretive an...         33.0   \n",
       "2     refers to your outdated views. You have an old...         38.0   \n",
       "3     indicates a transitional period in your life. ...         36.0   \n",
       "4     suggests that it is time to leave behind past ...         32.0   \n",
       "...                                                 ...          ...   \n",
       "7794  indicates that there is a waking situation tha...         38.0   \n",
       "7795  indicates that your integrity is put into ques...         48.0   \n",
       "7796  suggests that you need to show better restrain...         37.0   \n",
       "7797  signifies punishment or suffering. You are und...         27.0   \n",
       "7798  symbolizes happiness, peace, prosperity or dom...         30.0   \n",
       "\n",
       "      n_meanings  \n",
       "0              2  \n",
       "1              1  \n",
       "2              1  \n",
       "3              1  \n",
       "4              2  \n",
       "...          ...  \n",
       "7794           2  \n",
       "7795           2  \n",
       "7796           1  \n",
       "7797           1  \n",
       "7798           1  \n",
       "\n",
       "[7799 rows x 5 columns]"
      ]
     },
     "execution_count": 37,
     "metadata": {},
     "output_type": "execute_result"
    }
   ],
   "source": [
    "subset"
   ]
  },
  {
   "cell_type": "markdown",
   "id": "b4d97884",
   "metadata": {},
   "source": [
    "## Dreambank\n",
    "\n",
    "On this godforsaken website there is a section called dreambank, which has some dreams descriptions and interpretations of them by the moderators.  \n",
    "We'd like to use this as our test data, so we need to scrape them as well  \n",
    "\n"
   ]
  },
  {
   "cell_type": "markdown",
   "id": "1bec1852",
   "metadata": {},
   "source": [
    "### Scrape the list of dreams\n",
    "First, We need top scrape the dreambank.html page, which holds the links to all the interpreted dream. "
   ]
  },
  {
   "cell_type": "code",
   "execution_count": null,
   "id": "279a80f3",
   "metadata": {},
   "outputs": [],
   "source": [
    "file = f\"html/dreambank/dreambank.html\"\n",
    "\n",
    "url = \"http://www.dreammoods.com/dreambank/\"\n",
    "download_page(url, file)"
   ]
  },
  {
   "cell_type": "code",
   "execution_count": null,
   "id": "9cd220de",
   "metadata": {},
   "outputs": [],
   "source": [
    "def extract_bank(file, xpath):\n",
    "    with open(file, \"r\") as f:\n",
    "        html = f.read()       \n",
    "\n",
    "    tree = lhtml.fromstring(html)\n",
    "\n",
    "    #tree.text_content()\n",
    "\n",
    "    tabl = tree.xpath(xpath)[0]\n",
    "\n",
    "    global syms_data\n",
    "    syms_data = []\n",
    "    r,c,t = breakdown(tabl)\n",
    "    syms_data = pd.DataFrame(syms_data)\n",
    "    data2 = squeeze_meaning_by_symbol(syms_data)\n",
    "    data3 = data2.explode('meaning')\n",
    "    data3['mean_len'] = data3.meaning.str.len()\n",
    "    return data3\n",
    "\n",
    "xps = [ \"/html/body/table[2]/tr/td/div/center/table/tr[3]/td[1]\" ,\n",
    "        \"/html/body/table[2]/tr/td/div/center/table/tr[3]/td[2]\",\n",
    "        \"/html/body/table[2]/tr/td/div/center/table/tr[3]/td[3]\"\n",
    "]\n",
    "sd = []\n",
    "for xp in xps:\n",
    "    extract_bank(file, xp)\n",
    "    sd.append(syms_data)\n",
    "\n",
    "df = pd.concat(sd)\n"
   ]
  },
  {
   "cell_type": "code",
   "execution_count": null,
   "id": "a28ea75e",
   "metadata": {},
   "outputs": [],
   "source": [
    "df"
   ]
  },
  {
   "cell_type": "markdown",
   "id": "dfeebaaa",
   "metadata": {},
   "source": [
    "Next, we extract the actual links and their description text. "
   ]
  },
  {
   "cell_type": "code",
   "execution_count": null,
   "id": "01c675a3",
   "metadata": {},
   "outputs": [],
   "source": [
    "df = df[ df.clas == \"link\"]\n",
    "df[['_', 'link', 'name']] = df['cont'].str.split(',', n=2, expand=True)\n",
    "df"
   ]
  },
  {
   "cell_type": "markdown",
   "id": "ee5e44be",
   "metadata": {},
   "source": [
    "The links contain a search term. \n",
    "We'll use this search term as filename to store the downloaded page"
   ]
  },
  {
   "cell_type": "code",
   "execution_count": null,
   "id": "475d1ecd",
   "metadata": {},
   "outputs": [],
   "source": [
    "df[\"srch\"] = df.link.str.split('search=', n=2, expand=True)[1].str.split('&', n=2, expand=True)[0]"
   ]
  },
  {
   "cell_type": "markdown",
   "id": "a6ac1200",
   "metadata": {},
   "source": [
    "Some links do not conform to this structure, so we'll use their page name verbatim"
   ]
  },
  {
   "cell_type": "code",
   "execution_count": null,
   "id": "3478407c",
   "metadata": {},
   "outputs": [],
   "source": [
    "wat = df[df.srch.isna()].link.str.split(\"/\", n=5, expand=True)\n",
    "df.loc[df.srch.isna(),'srch'] = wat.loc[:,4]\n",
    "df"
   ]
  },
  {
   "cell_type": "markdown",
   "id": "f1eedbf4",
   "metadata": {},
   "source": [
    "Majority of those links do not work. By analyzing the url structure, we came up with an educated guess as to how they might be fixed. Some of it succeeded."
   ]
  },
  {
   "cell_type": "code",
   "execution_count": null,
   "id": "75126ced",
   "metadata": {},
   "outputs": [],
   "source": [
    "df.link =  df.apply(lambda x: x.link.replace(\"dreambank\", x.srch[:-1] + \"s\") , axis=1)"
   ]
  },
  {
   "cell_type": "code",
   "execution_count": null,
   "id": "4ea5d417",
   "metadata": {},
   "outputs": [],
   "source": [
    "df"
   ]
  },
  {
   "cell_type": "markdown",
   "id": "5036ff97",
   "metadata": {},
   "source": [
    "Then downloaded any pages that were available. "
   ]
  },
  {
   "cell_type": "code",
   "execution_count": null,
   "id": "42400d96",
   "metadata": {},
   "outputs": [],
   "source": [
    "pref = \"html/dreambank/\"\n",
    "\n",
    "results = []\n",
    "for i, r in df.iterrows():\n",
    "    res = download_page(r['link'], pref + r['srch'] + r['name']  + \".html\")\n",
    "    results.append(res)\n",
    "    time.sleep(.2)  # Sleep for 1 second to avoid overwhelming the server\n",
    "\n",
    "df['res'] = results"
   ]
  },
  {
   "cell_type": "code",
   "execution_count": null,
   "id": "88c9b4c5",
   "metadata": {},
   "outputs": [],
   "source": [
    "df[[ 'res', 'link', 'name']]"
   ]
  },
  {
   "cell_type": "code",
   "execution_count": null,
   "id": "0e52ca0c",
   "metadata": {},
   "outputs": [],
   "source": [
    "df.sort_values(by=['res','link'], ascending=True, inplace=True)\n",
    "df[[ 'res', 'link', 'name']].to_csv(\"dreamdic.csv\", index=False)"
   ]
  },
  {
   "cell_type": "markdown",
   "id": "e4d912bf",
   "metadata": {},
   "source": [
    "### Fixing html\n",
    "\n",
    "Being an ancient dinosaur poop that it is, the website is a horrendous case of html tag soup.  \n",
    "Even our highly customized extractor fails to properly parse the pages.  \n",
    "We'll summon modern web browser technology in the form of html5lib library to repair these pages."
   ]
  },
  {
   "cell_type": "code",
   "execution_count": null,
   "id": "8527f358",
   "metadata": {},
   "outputs": [],
   "source": [
    "\n",
    "\n",
    "def fix_html_file(input_filepath, output_filepath):\n",
    "    \"\"\"\n",
    "    Reads a broken HTML file, parses it using html5lib (like a browser),\n",
    "    and writes the corrected HTML to a new file.\n",
    "    \"\"\"\n",
    "    try:\n",
    "        with open(input_filepath, 'r', encoding='utf-8') as f:\n",
    "            broken_html_content = f.read()\n",
    "    except FileNotFoundError:\n",
    "        print(f\"Error: Input file not found at '{input_filepath}'\")\n",
    "        return\n",
    "    except Exception as e:\n",
    "        print(f\"Error reading file '{input_filepath}': {e}\")\n",
    "        return\n",
    "\n",
    "    # Parse the HTML using html5lib (browser-like parsing)\n",
    "    # This is where the \"fixing\" happens internally\n",
    "    soup = BeautifulSoup(broken_html_content, 'html5lib')\n",
    "\n",
    "    # Get the corrected HTML. .prettify() adds nice indentation.\n",
    "    # You can also use str(soup) for a less formatted output.\n",
    "    corrected_html_content = soup.prettify()\n",
    "\n",
    "    try:\n",
    "        with open(output_filepath, 'w', encoding='utf-8') as f:\n",
    "            f.write(corrected_html_content)\n",
    "        print(f\"Successfully fixed HTML and saved to '{output_filepath}'\")\n",
    "    except Exception as e:\n",
    "        print(f\"Error writing file '{output_filepath}': {e}\")\n"
   ]
  },
  {
   "cell_type": "code",
   "execution_count": null,
   "id": "6e0a1166",
   "metadata": {},
   "outputs": [],
   "source": [
    "broken_dir = 'html/dreambank'\n",
    "fixed_dir = 'html/dreambank/fixed'\n",
    "\n",
    "for f in os.listdir(broken_dir):\n",
    "    if f.endswith(\".html\"):\n",
    "        input_file = os.path.join(broken_dir, f)\n",
    "        output_file = os.path.join(fixed_dir, f)\n",
    "        fix_html_file(input_file, output_file)\n",
    "\n"
   ]
  },
  {
   "cell_type": "markdown",
   "id": "45589f26",
   "metadata": {},
   "source": [
    "### Extracting from Dream Bank\n",
    "Once the pages are fixed, our scraper is again able to parse them "
   ]
  },
  {
   "cell_type": "code",
   "execution_count": null,
   "id": "e6f4e1d0",
   "metadata": {},
   "outputs": [],
   "source": [
    "def extract_bank(file, xpath):\n",
    "    \n",
    "    with open(file, \"r\") as f:\n",
    "        html = f.read()\n",
    "        \n",
    "\n",
    "    tree = lhtml.fromstring(html)\n",
    "    #tree.text_content()\n",
    "\n",
    "    tabl = tree.xpath(xpath)[0]\n",
    "    \n",
    "    r,sd,c,t = breakdown(tabl)\n",
    "\n",
    "    \n",
    "    return r,sd,c,t\n",
    "    # syms_data = pd.DataFrame([c,t])\n",
    "    # # data2 = squeeze_meaning_by_symbol(syms_data)\n",
    "    # # data3 = data2.explode('meaning')\n",
    "    # # data3['mean_len'] = data3.meaning.str.len()\n",
    "    # return pd.DataFrame(), syms_data\n"
   ]
  },
  {
   "cell_type": "code",
   "execution_count": null,
   "id": "8638df8e",
   "metadata": {},
   "outputs": [],
   "source": [
    "dfs = []\n",
    "sds = []\n",
    "save_dir = 'html/dreambank/fixed'\n",
    "\n",
    "#xpath = \"/html/body/table[2]/tr/td/div/center/table/tr[3]/td[1]\"\n",
    "xpath = \"/html/body/table[2]/tbody/tr/td/div/center/table/tbody/tr[3]/td[1]\"\n",
    "\n",
    "breakpointstring = \"I keep having this recurring\"\n",
    "\n",
    "for f in os.listdir(save_dir):\n",
    "    if f.endswith(\".html\"):\n",
    "        path = os.path.join(save_dir, f)\n",
    "        #print(path)\n",
    "        r,sd,c,t = extract_bank(path,xpath)\n",
    "        # data3[\"filename\"] = f\n",
    "        dfs.append(r)\n",
    "        sd = pd.DataFrame(sd)\n",
    "        #sd = squeeze_meaning_by_symbol(syms_data=sd)\n",
    "        sds.append(sd)\n",
    "#sds = sds)\n",
    "#sds"
   ]
  },
  {
   "cell_type": "code",
   "execution_count": null,
   "id": "3564aa7c",
   "metadata": {},
   "outputs": [],
   "source": [
    "sds"
   ]
  },
  {
   "cell_type": "code",
   "execution_count": null,
   "id": "c8537014",
   "metadata": {},
   "outputs": [],
   "source": [
    "save_df_as_pretty_html(sds[0], 'example.html')"
   ]
  },
  {
   "cell_type": "code",
   "execution_count": null,
   "id": "96862920",
   "metadata": {},
   "outputs": [],
   "source": [
    "r\n",
    "with open(\"sandbox.txt\", \"w\") as f:\n",
    "    f.write(r)"
   ]
  },
  {
   "cell_type": "markdown",
   "id": "fd052d6a",
   "metadata": {},
   "source": [
    "# original code"
   ]
  },
  {
   "cell_type": "code",
   "execution_count": null,
   "id": "18dfaa22",
   "metadata": {
    "execution": {
     "iopub.execute_input": "2024-10-15T18:21:01.708865Z",
     "iopub.status.busy": "2024-10-15T18:21:01.707831Z",
     "iopub.status.idle": "2024-10-15T18:21:01.714992Z",
     "shell.execute_reply": "2024-10-15T18:21:01.713800Z"
    },
    "papermill": {
     "duration": 0.014252,
     "end_time": "2024-10-15T18:21:01.717376",
     "exception": false,
     "start_time": "2024-10-15T18:21:01.703124",
     "status": "completed"
    },
    "tags": []
   },
   "outputs": [],
   "source": [
    "import os\n",
    "import subprocess\n",
    "from IPython.display import FileLink, display\n",
    "\n",
    "def download_file(path, download_file_name):\n",
    "    os.chdir('/kaggle/working/')\n",
    "    zip_name = f\"/kaggle/working/{download_file_name}.zip\"\n",
    "    command = f\"zip {zip_name} {path} -r\"\n",
    "    result = subprocess.run(command, shell=True, capture_output=True, text=True)\n",
    "    if result.returncode != 0:\n",
    "        print(\"Unable to run zip command!\")\n",
    "        print(result.stderr)\n",
    "        return\n",
    "    display(FileLink(f'{download_file_name}.zip'))"
   ]
  },
  {
   "cell_type": "code",
   "execution_count": null,
   "id": "0bc65b6e",
   "metadata": {
    "execution": {
     "iopub.execute_input": "2024-10-15T18:21:01.726604Z",
     "iopub.status.busy": "2024-10-15T18:21:01.725718Z",
     "iopub.status.idle": "2024-10-15T18:21:01.768625Z",
     "shell.execute_reply": "2024-10-15T18:21:01.767508Z"
    },
    "papermill": {
     "duration": 0.050006,
     "end_time": "2024-10-15T18:21:01.770951",
     "exception": false,
     "start_time": "2024-10-15T18:21:01.720945",
     "status": "completed"
    },
    "tags": []
   },
   "outputs": [],
   "source": [
    "download_file(\"/kaggle/working/dreams_interpretations.csv\", \"download\")"
   ]
  }
 ],
 "metadata": {
  "kaggle": {
   "accelerator": "none",
   "dataSources": [
    {
     "datasetId": 5881987,
     "sourceId": 9634093,
     "sourceType": "datasetVersion"
    }
   ],
   "isGpuEnabled": false,
   "isInternetEnabled": true,
   "language": "python",
   "sourceType": "notebook"
  },
  "kernelspec": {
   "display_name": "NLP",
   "language": "python",
   "name": "python3"
  },
  "language_info": {
   "codemirror_mode": {
    "name": "ipython",
    "version": 3
   },
   "file_extension": ".py",
   "mimetype": "text/x-python",
   "name": "python",
   "nbconvert_exporter": "python",
   "pygments_lexer": "ipython3",
   "version": "3.11.10"
  },
  "papermill": {
   "default_parameters": {},
   "duration": 19.516826,
   "end_time": "2024-10-15T18:21:02.294568",
   "environment_variables": {},
   "exception": null,
   "input_path": "__notebook__.ipynb",
   "output_path": "__notebook__.ipynb",
   "parameters": {},
   "start_time": "2024-10-15T18:20:42.777742",
   "version": "2.6.0"
  }
 },
 "nbformat": 4,
 "nbformat_minor": 5
}
